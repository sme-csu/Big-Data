{
 "cells": [
  {
   "cell_type": "markdown",
   "metadata": {},
   "source": [
    "### Connect to Data Lake"
   ]
  },
  {
   "cell_type": "code",
   "execution_count": 0,
   "metadata": {
    "application/vnd.databricks.v1+cell": {
     "inputWidgets": {},
     "nuid": "23cdf51c-d617-4267-ae63-af7b787ce2aa",
     "showTitle": false,
     "title": ""
    }
   },
   "outputs": [
    {
     "data": {
      "text/html": [
       "<style scoped>\n",
       "  .ansiout {\n",
       "    display: block;\n",
       "    unicode-bidi: embed;\n",
       "    white-space: pre-wrap;\n",
       "    word-wrap: break-word;\n",
       "    word-break: break-all;\n",
       "    font-family: \"Source Code Pro\", \"Menlo\", monospace;;\n",
       "    font-size: 13px;\n",
       "    color: #555;\n",
       "    margin-left: 4px;\n",
       "    line-height: 19px;\n",
       "  }\n",
       "</style>\n",
       "<div class=\"ansiout\">Out[1]: True</div>"
      ]
     },
     "metadata": {
      "application/vnd.databricks.v1+output": {
       "addedWidgets": {},
       "arguments": {},
       "data": "<div class=\"ansiout\">Out[1]: True</div>",
       "datasetInfos": [],
       "removedWidgets": [],
       "type": "html"
      }
     },
     "output_type": "display_data"
    }
   ],
   "source": [
    "app_id = \"Your_App_ID\"\n",
    "tenant_id = \"Your_Tenant_ID\"\n",
    "\n",
    "configs = {\"fs.azure.account.auth.type\": \"OAuth\",\n",
    "       \"fs.azure.account.oauth.provider.type\": \"org.apache.hadoop.fs.azurebfs.oauth2.ClientCredsTokenProvider\",\n",
    "       \"fs.azure.account.oauth2.client.id\": app_id,\n",
    "       \"fs.azure.account.oauth2.client.secret\": dbutils.secrets.get(scope = \"hblscope\", key =\"hblkeyvaultsecretfordatabricks\"),\n",
    "       \"fs.azure.account.oauth2.client.endpoint\": \"https://login.chinacloudapi.cn/\"+tenant_id+\"/oauth2/token\",\n",
    "       \"fs.azure.createRemoteFileSystemDuringInitialization\": \"true\"}\n",
    "\n",
    "dbutils.fs.mount(\n",
    "source = \"abfss://hbldatalake@hbldatalake.dfs.core.chinacloudapi.cn/\",\n",
    "mount_point = \"/mnt/az_datalake\",\n",
    "extra_configs = configs)"
   ]
  },
  {
   "cell_type": "code",
   "execution_count": 0,
   "metadata": {
    "application/vnd.databricks.v1+cell": {
     "inputWidgets": {},
     "nuid": "93a8f963-7980-4391-b305-76b50b53a4a9",
     "showTitle": false,
     "title": ""
    }
   },
   "outputs": [
    {
     "data": {
      "text/html": [
       "<style scoped>\n",
       "  .table-result-container {\n",
       "    max-height: 300px;\n",
       "    overflow: auto;\n",
       "  }\n",
       "  table, th, td {\n",
       "    border: 1px solid black;\n",
       "    border-collapse: collapse;\n",
       "  }\n",
       "  th, td {\n",
       "    padding: 5px;\n",
       "  }\n",
       "  th {\n",
       "    text-align: left;\n",
       "  }\n",
       "</style><div class='table-result-container'><table class='table-result'><thead style='background-color: white'><tr><th>path</th><th>name</th><th>size</th></tr></thead><tbody><tr><td>dbfs:/mnt/az_datalake/salesdata/call_center/</td><td>call_center/</td><td>0</td></tr><tr><td>dbfs:/mnt/az_datalake/salesdata/catalog_page/</td><td>catalog_page/</td><td>0</td></tr><tr><td>dbfs:/mnt/az_datalake/salesdata/catalog_returns/</td><td>catalog_returns/</td><td>0</td></tr><tr><td>dbfs:/mnt/az_datalake/salesdata/catalog_sales/</td><td>catalog_sales/</td><td>0</td></tr><tr><td>dbfs:/mnt/az_datalake/salesdata/customer/</td><td>customer/</td><td>0</td></tr><tr><td>dbfs:/mnt/az_datalake/salesdata/customer_address/</td><td>customer_address/</td><td>0</td></tr><tr><td>dbfs:/mnt/az_datalake/salesdata/customer_demographics/</td><td>customer_demographics/</td><td>0</td></tr><tr><td>dbfs:/mnt/az_datalake/salesdata/date_dim/</td><td>date_dim/</td><td>0</td></tr><tr><td>dbfs:/mnt/az_datalake/salesdata/household_demographics/</td><td>household_demographics/</td><td>0</td></tr><tr><td>dbfs:/mnt/az_datalake/salesdata/income_band/</td><td>income_band/</td><td>0</td></tr><tr><td>dbfs:/mnt/az_datalake/salesdata/inventory/</td><td>inventory/</td><td>0</td></tr><tr><td>dbfs:/mnt/az_datalake/salesdata/item/</td><td>item/</td><td>0</td></tr><tr><td>dbfs:/mnt/az_datalake/salesdata/promotion/</td><td>promotion/</td><td>0</td></tr><tr><td>dbfs:/mnt/az_datalake/salesdata/reason/</td><td>reason/</td><td>0</td></tr><tr><td>dbfs:/mnt/az_datalake/salesdata/ship_mode/</td><td>ship_mode/</td><td>0</td></tr><tr><td>dbfs:/mnt/az_datalake/salesdata/store/</td><td>store/</td><td>0</td></tr><tr><td>dbfs:/mnt/az_datalake/salesdata/store_returns/</td><td>store_returns/</td><td>0</td></tr><tr><td>dbfs:/mnt/az_datalake/salesdata/store_sales/</td><td>store_sales/</td><td>0</td></tr><tr><td>dbfs:/mnt/az_datalake/salesdata/time_dim/</td><td>time_dim/</td><td>0</td></tr><tr><td>dbfs:/mnt/az_datalake/salesdata/warehouse/</td><td>warehouse/</td><td>0</td></tr><tr><td>dbfs:/mnt/az_datalake/salesdata/web_page/</td><td>web_page/</td><td>0</td></tr><tr><td>dbfs:/mnt/az_datalake/salesdata/web_returns/</td><td>web_returns/</td><td>0</td></tr><tr><td>dbfs:/mnt/az_datalake/salesdata/web_sales/</td><td>web_sales/</td><td>0</td></tr><tr><td>dbfs:/mnt/az_datalake/salesdata/web_site/</td><td>web_site/</td><td>0</td></tr></tbody></table></div>"
      ]
     },
     "metadata": {
      "application/vnd.databricks.v1+output": {
       "addedWidgets": {},
       "aggData": [],
       "aggError": "",
       "aggOverflow": false,
       "aggSchema": [],
       "aggSeriesLimitReached": false,
       "aggType": "",
       "arguments": {},
       "columnCustomDisplayInfos": {},
       "data": [
        [
         "dbfs:/mnt/az_datalake/salesdata/call_center/",
         "call_center/",
         0
        ],
        [
         "dbfs:/mnt/az_datalake/salesdata/catalog_page/",
         "catalog_page/",
         0
        ],
        [
         "dbfs:/mnt/az_datalake/salesdata/catalog_returns/",
         "catalog_returns/",
         0
        ],
        [
         "dbfs:/mnt/az_datalake/salesdata/catalog_sales/",
         "catalog_sales/",
         0
        ],
        [
         "dbfs:/mnt/az_datalake/salesdata/customer/",
         "customer/",
         0
        ],
        [
         "dbfs:/mnt/az_datalake/salesdata/customer_address/",
         "customer_address/",
         0
        ],
        [
         "dbfs:/mnt/az_datalake/salesdata/customer_demographics/",
         "customer_demographics/",
         0
        ],
        [
         "dbfs:/mnt/az_datalake/salesdata/date_dim/",
         "date_dim/",
         0
        ],
        [
         "dbfs:/mnt/az_datalake/salesdata/household_demographics/",
         "household_demographics/",
         0
        ],
        [
         "dbfs:/mnt/az_datalake/salesdata/income_band/",
         "income_band/",
         0
        ],
        [
         "dbfs:/mnt/az_datalake/salesdata/inventory/",
         "inventory/",
         0
        ],
        [
         "dbfs:/mnt/az_datalake/salesdata/item/",
         "item/",
         0
        ],
        [
         "dbfs:/mnt/az_datalake/salesdata/promotion/",
         "promotion/",
         0
        ],
        [
         "dbfs:/mnt/az_datalake/salesdata/reason/",
         "reason/",
         0
        ],
        [
         "dbfs:/mnt/az_datalake/salesdata/ship_mode/",
         "ship_mode/",
         0
        ],
        [
         "dbfs:/mnt/az_datalake/salesdata/store/",
         "store/",
         0
        ],
        [
         "dbfs:/mnt/az_datalake/salesdata/store_returns/",
         "store_returns/",
         0
        ],
        [
         "dbfs:/mnt/az_datalake/salesdata/store_sales/",
         "store_sales/",
         0
        ],
        [
         "dbfs:/mnt/az_datalake/salesdata/time_dim/",
         "time_dim/",
         0
        ],
        [
         "dbfs:/mnt/az_datalake/salesdata/warehouse/",
         "warehouse/",
         0
        ],
        [
         "dbfs:/mnt/az_datalake/salesdata/web_page/",
         "web_page/",
         0
        ],
        [
         "dbfs:/mnt/az_datalake/salesdata/web_returns/",
         "web_returns/",
         0
        ],
        [
         "dbfs:/mnt/az_datalake/salesdata/web_sales/",
         "web_sales/",
         0
        ],
        [
         "dbfs:/mnt/az_datalake/salesdata/web_site/",
         "web_site/",
         0
        ]
       ],
       "datasetInfos": [],
       "dbfsResultPath": null,
       "isJsonSchema": true,
       "overflow": false,
       "plotOptions": {
        "customPlotOptions": {},
        "displayType": "table",
        "pivotAggregation": null,
        "pivotColumns": null,
        "xColumns": null,
        "yColumns": null
       },
       "removedWidgets": [],
       "schema": [
        {
         "metadata": "{}",
         "name": "path",
         "type": "\"string\""
        },
        {
         "metadata": "{}",
         "name": "name",
         "type": "\"string\""
        },
        {
         "metadata": "{}",
         "name": "size",
         "type": "\"long\""
        }
       ],
       "type": "table"
      }
     },
     "output_type": "display_data"
    }
   ],
   "source": [
    "%fs ls /mnt/az_datalake/salesdata/"
   ]
  },
  {
   "cell_type": "markdown",
   "metadata": {
    "application/vnd.databricks.v1+cell": {
     "inputWidgets": {},
     "nuid": "7baee7ac-a154-4925-9b13-2042f17f25d7",
     "showTitle": false,
     "title": ""
    }
   },
   "source": [
    "### Data Exploration"
   ]
  },
  {
   "cell_type": "code",
   "execution_count": 0,
   "metadata": {
    "application/vnd.databricks.v1+cell": {
     "inputWidgets": {},
     "nuid": "b20e018c-ec8b-459e-9b85-fae17bce5c24",
     "showTitle": true,
     "title": "Define Schema of customer dataset"
    }
   },
   "outputs": [
    {
     "data": {
      "text/html": [
       "<style scoped>\n",
       "  .ansiout {\n",
       "    display: block;\n",
       "    unicode-bidi: embed;\n",
       "    white-space: pre-wrap;\n",
       "    word-wrap: break-word;\n",
       "    word-break: break-all;\n",
       "    font-family: \"Source Code Pro\", \"Menlo\", monospace;;\n",
       "    font-size: 13px;\n",
       "    color: #555;\n",
       "    margin-left: 4px;\n",
       "    line-height: 19px;\n",
       "  }\n",
       "</style>\n",
       "<div class=\"ansiout\"></div>"
      ]
     },
     "metadata": {
      "application/vnd.databricks.v1+output": {
       "addedWidgets": {},
       "arguments": {},
       "data": "<div class=\"ansiout\"></div>",
       "datasetInfos": [],
       "removedWidgets": [],
       "type": "html"
      }
     },
     "output_type": "display_data"
    }
   ],
   "source": [
    "customerSchema = '''customer_sk LONG,\n",
    "customer_id string,\n",
    "current_cdemo_sk LONG,\n",
    "current_hdemo_sk LONG,\n",
    "current_addr_sk LONG,\n",
    "first_shipto_date_sk LONG,\n",
    "first_sales_date_sk LONG,\n",
    "salutation STRING,\n",
    "firstName STRING,\n",
    "lastName STRING,\n",
    "preferred_Cust_Flag STRING,\n",
    "birth_Day LONG,\n",
    "birth_Month LONG,\n",
    "birth_Year LONG,\n",
    "birth_Country STRING,\n",
    "login STRING,\n",
    "emailAddress STRING,\n",
    "last_review_date LONG\n",
    "'''"
   ]
  },
  {
   "cell_type": "code",
   "execution_count": 0,
   "metadata": {
    "application/vnd.databricks.v1+cell": {
     "inputWidgets": {},
     "nuid": "68d56fb5-f305-4bc8-8bc0-b1fa52510caf",
     "showTitle": true,
     "title": "Apply the defined schema to the customer dataset"
    }
   },
   "outputs": [
    {
     "data": {
      "text/html": [
       "<style scoped>\n",
       "  .ansiout {\n",
       "    display: block;\n",
       "    unicode-bidi: embed;\n",
       "    white-space: pre-wrap;\n",
       "    word-wrap: break-word;\n",
       "    word-break: break-all;\n",
       "    font-family: \"Source Code Pro\", \"Menlo\", monospace;;\n",
       "    font-size: 13px;\n",
       "    color: #555;\n",
       "    margin-left: 4px;\n",
       "    line-height: 19px;\n",
       "  }\n",
       "</style>\n",
       "<div class=\"ansiout\"></div>"
      ]
     },
     "metadata": {
      "application/vnd.databricks.v1+output": {
       "addedWidgets": {},
       "arguments": {},
       "data": "<div class=\"ansiout\"></div>",
       "datasetInfos": [
        {
         "name": "customer_df",
         "schema": {
          "fields": [
           {
            "metadata": {},
            "name": "customer_sk",
            "nullable": true,
            "type": "long"
           },
           {
            "metadata": {},
            "name": "customer_id",
            "nullable": true,
            "type": "string"
           },
           {
            "metadata": {},
            "name": "current_cdemo_sk",
            "nullable": true,
            "type": "long"
           },
           {
            "metadata": {},
            "name": "current_hdemo_sk",
            "nullable": true,
            "type": "long"
           },
           {
            "metadata": {},
            "name": "current_addr_sk",
            "nullable": true,
            "type": "long"
           },
           {
            "metadata": {},
            "name": "first_shipto_date_sk",
            "nullable": true,
            "type": "long"
           },
           {
            "metadata": {},
            "name": "first_sales_date_sk",
            "nullable": true,
            "type": "long"
           },
           {
            "metadata": {},
            "name": "salutation",
            "nullable": true,
            "type": "string"
           },
           {
            "metadata": {},
            "name": "firstName",
            "nullable": true,
            "type": "string"
           },
           {
            "metadata": {},
            "name": "lastName",
            "nullable": true,
            "type": "string"
           },
           {
            "metadata": {},
            "name": "preferred_Cust_Flag",
            "nullable": true,
            "type": "string"
           },
           {
            "metadata": {},
            "name": "birth_Day",
            "nullable": true,
            "type": "long"
           },
           {
            "metadata": {},
            "name": "birth_Month",
            "nullable": true,
            "type": "long"
           },
           {
            "metadata": {},
            "name": "birth_Year",
            "nullable": true,
            "type": "long"
           },
           {
            "metadata": {},
            "name": "birth_Country",
            "nullable": true,
            "type": "string"
           },
           {
            "metadata": {},
            "name": "login",
            "nullable": true,
            "type": "string"
           },
           {
            "metadata": {},
            "name": "emailAddress",
            "nullable": true,
            "type": "string"
           },
           {
            "metadata": {},
            "name": "last_review_date",
            "nullable": true,
            "type": "long"
           }
          ],
          "type": "struct"
         },
         "tableIdentifier": null,
         "typeStr": "pyspark.sql.dataframe.DataFrame"
        }
       ],
       "removedWidgets": [],
       "type": "html"
      }
     },
     "output_type": "display_data"
    }
   ],
   "source": [
    "customer_df = (spark.read\n",
    ".option(\"sep\",\"|\")\n",
    ".schema(customerSchema)\n",
    ".option(\"inferSchema\",\"true\")\n",
    ".csv(\"/mnt/az_datalake/salesdata/customer/customer_001.dat\"))"
   ]
  },
  {
   "cell_type": "code",
   "execution_count": 0,
   "metadata": {
    "application/vnd.databricks.v1+cell": {
     "inputWidgets": {},
     "nuid": "e424f970-3895-4ed2-9526-8f93ee571708",
     "showTitle": false,
     "title": ""
    }
   },
   "outputs": [
    {
     "data": {
      "text/html": [
       "<style scoped>\n",
       "  .ansiout {\n",
       "    display: block;\n",
       "    unicode-bidi: embed;\n",
       "    white-space: pre-wrap;\n",
       "    word-wrap: break-word;\n",
       "    word-break: break-all;\n",
       "    font-family: \"Source Code Pro\", \"Menlo\", monospace;;\n",
       "    font-size: 13px;\n",
       "    color: #555;\n",
       "    margin-left: 4px;\n",
       "    line-height: 19px;\n",
       "  }\n",
       "</style>\n",
       "<div class=\"ansiout\">root\n",
       "-- customer_sk: long (nullable = true)\n",
       "-- customer_id: string (nullable = true)\n",
       "-- current_cdemo_sk: long (nullable = true)\n",
       "-- current_hdemo_sk: long (nullable = true)\n",
       "-- current_addr_sk: long (nullable = true)\n",
       "-- first_shipto_date_sk: long (nullable = true)\n",
       "-- first_sales_date_sk: long (nullable = true)\n",
       "-- salutation: string (nullable = true)\n",
       "-- firstName: string (nullable = true)\n",
       "-- lastName: string (nullable = true)\n",
       "-- preferred_Cust_Flag: string (nullable = true)\n",
       "-- birth_Day: long (nullable = true)\n",
       "-- birth_Month: long (nullable = true)\n",
       "-- birth_Year: long (nullable = true)\n",
       "-- birth_Country: string (nullable = true)\n",
       "-- login: string (nullable = true)\n",
       "-- emailAddress: string (nullable = true)\n",
       "-- last_review_date: long (nullable = true)\n",
       "\n",
       "</div>"
      ]
     },
     "metadata": {
      "application/vnd.databricks.v1+output": {
       "addedWidgets": {},
       "arguments": {},
       "data": "<div class=\"ansiout\">root\n |-- customer_sk: long (nullable = true)\n |-- customer_id: string (nullable = true)\n |-- current_cdemo_sk: long (nullable = true)\n |-- current_hdemo_sk: long (nullable = true)\n |-- current_addr_sk: long (nullable = true)\n |-- first_shipto_date_sk: long (nullable = true)\n |-- first_sales_date_sk: long (nullable = true)\n |-- salutation: string (nullable = true)\n |-- firstName: string (nullable = true)\n |-- lastName: string (nullable = true)\n |-- preferred_Cust_Flag: string (nullable = true)\n |-- birth_Day: long (nullable = true)\n |-- birth_Month: long (nullable = true)\n |-- birth_Year: long (nullable = true)\n |-- birth_Country: string (nullable = true)\n |-- login: string (nullable = true)\n |-- emailAddress: string (nullable = true)\n |-- last_review_date: long (nullable = true)\n\n</div>",
       "datasetInfos": [],
       "removedWidgets": [],
       "type": "html"
      }
     },
     "output_type": "display_data"
    }
   ],
   "source": [
    "customer_df.printSchema()"
   ]
  },
  {
   "cell_type": "markdown",
   "metadata": {
    "application/vnd.databricks.v1+cell": {
     "inputWidgets": {},
     "nuid": "ca5855ea-1bee-441a-b956-8ec03f78d68a",
     "showTitle": false,
     "title": ""
    }
   },
   "source": [
    "### Let us look at he Customer Demographics Dataset"
   ]
  },
  {
   "cell_type": "code",
   "execution_count": 0,
   "metadata": {
    "application/vnd.databricks.v1+cell": {
     "inputWidgets": {},
     "nuid": "2e082887-61f0-4a91-86bd-ee48e303bf15",
     "showTitle": false,
     "title": ""
    }
   },
   "outputs": [
    {
     "data": {
      "text/html": [
       "<style scoped>\n",
       "  .ansiout {\n",
       "    display: block;\n",
       "    unicode-bidi: embed;\n",
       "    white-space: pre-wrap;\n",
       "    word-wrap: break-word;\n",
       "    word-break: break-all;\n",
       "    font-family: \"Source Code Pro\", \"Menlo\", monospace;;\n",
       "    font-size: 13px;\n",
       "    color: #555;\n",
       "    margin-left: 4px;\n",
       "    line-height: 19px;\n",
       "  }\n",
       "</style>\n",
       "<div class=\"ansiout\"></div>"
      ]
     },
     "metadata": {
      "application/vnd.databricks.v1+output": {
       "addedWidgets": {},
       "arguments": {},
       "data": "<div class=\"ansiout\"></div>",
       "datasetInfos": [],
       "removedWidgets": [],
       "type": "html"
      }
     },
     "output_type": "display_data"
    }
   ],
   "source": [
    "customerDemographicsSchema = ''' cd_demo_sk long,\n",
    "cd_gender string,\n",
    "cd_marital_status string,\n",
    "cd_education_status string,\n",
    "cd_purchase_estimate string,\n",
    "cd_credit_rating string,\n",
    "cd_dep_count int,\n",
    "cd_dep_employed_count int,\n",
    "cd_dep_college_count int\n",
    "'''"
   ]
  },
  {
   "cell_type": "code",
   "execution_count": 0,
   "metadata": {
    "application/vnd.databricks.v1+cell": {
     "inputWidgets": {},
     "nuid": "511ab029-4ec8-4551-95ba-8c1940e0d347",
     "showTitle": false,
     "title": ""
    }
   },
   "outputs": [
    {
     "data": {
      "text/html": [
       "<style scoped>\n",
       "  .ansiout {\n",
       "    display: block;\n",
       "    unicode-bidi: embed;\n",
       "    white-space: pre-wrap;\n",
       "    word-wrap: break-word;\n",
       "    word-break: break-all;\n",
       "    font-family: \"Source Code Pro\", \"Menlo\", monospace;;\n",
       "    font-size: 13px;\n",
       "    color: #555;\n",
       "    margin-left: 4px;\n",
       "    line-height: 19px;\n",
       "  }\n",
       "</style>\n",
       "<div class=\"ansiout\"></div>"
      ]
     },
     "metadata": {
      "application/vnd.databricks.v1+output": {
       "addedWidgets": {},
       "arguments": {},
       "data": "<div class=\"ansiout\"></div>",
       "datasetInfos": [
        {
         "name": "customer_demographics",
         "schema": {
          "fields": [
           {
            "metadata": {},
            "name": "cd_demo_sk",
            "nullable": true,
            "type": "long"
           },
           {
            "metadata": {},
            "name": "cd_gender",
            "nullable": true,
            "type": "string"
           },
           {
            "metadata": {},
            "name": "cd_marital_status",
            "nullable": true,
            "type": "string"
           },
           {
            "metadata": {},
            "name": "cd_education_status",
            "nullable": true,
            "type": "string"
           },
           {
            "metadata": {},
            "name": "cd_purchase_estimate",
            "nullable": true,
            "type": "string"
           },
           {
            "metadata": {},
            "name": "cd_credit_rating",
            "nullable": true,
            "type": "string"
           },
           {
            "metadata": {},
            "name": "cd_dep_count",
            "nullable": true,
            "type": "integer"
           },
           {
            "metadata": {},
            "name": "cd_dep_employed_count",
            "nullable": true,
            "type": "integer"
           },
           {
            "metadata": {},
            "name": "cd_dep_college_count",
            "nullable": true,
            "type": "integer"
           }
          ],
          "type": "struct"
         },
         "tableIdentifier": null,
         "typeStr": "pyspark.sql.dataframe.DataFrame"
        }
       ],
       "removedWidgets": [],
       "type": "html"
      }
     },
     "output_type": "display_data"
    }
   ],
   "source": [
    "customer_demographics = spark.read.option(\"sep\",\"|\").schema(customerDemographicsSchema).csv(\"/mnt/az_datalake/salesdata/customer_demographics/customer_demographics_001.dat\")"
   ]
  },
  {
   "cell_type": "code",
   "execution_count": 0,
   "metadata": {
    "application/vnd.databricks.v1+cell": {
     "inputWidgets": {},
     "nuid": "6aebad68-926b-4cab-a022-1b3331f3e01b",
     "showTitle": false,
     "title": ""
    }
   },
   "outputs": [
    {
     "data": {
      "text/html": [
       "<style scoped>\n",
       "  .table-result-container {\n",
       "    max-height: 300px;\n",
       "    overflow: auto;\n",
       "  }\n",
       "  table, th, td {\n",
       "    border: 1px solid black;\n",
       "    border-collapse: collapse;\n",
       "  }\n",
       "  th, td {\n",
       "    padding: 5px;\n",
       "  }\n",
       "  th {\n",
       "    text-align: left;\n",
       "  }\n",
       "</style><div class='table-result-container'><table class='table-result'><thead style='background-color: white'><tr><th>cd_demo_sk</th><th>cd_gender</th><th>cd_marital_status</th><th>cd_education_status</th><th>cd_purchase_estimate</th><th>cd_credit_rating</th><th>cd_dep_count</th><th>cd_dep_employed_count</th><th>cd_dep_college_count</th></tr></thead><tbody><tr><td>1</td><td>M</td><td>M</td><td>Primary</td><td>500</td><td>Good</td><td>0</td><td>0</td><td>0</td></tr><tr><td>2</td><td>F</td><td>M</td><td>Primary</td><td>500</td><td>Good</td><td>0</td><td>0</td><td>0</td></tr><tr><td>3</td><td>M</td><td>S</td><td>Primary</td><td>500</td><td>Good</td><td>0</td><td>0</td><td>0</td></tr><tr><td>4</td><td>F</td><td>S</td><td>Primary</td><td>500</td><td>Good</td><td>0</td><td>0</td><td>0</td></tr><tr><td>5</td><td>M</td><td>D</td><td>Primary</td><td>500</td><td>Good</td><td>0</td><td>0</td><td>0</td></tr><tr><td>6</td><td>F</td><td>D</td><td>Primary</td><td>500</td><td>Good</td><td>0</td><td>0</td><td>0</td></tr><tr><td>7</td><td>M</td><td>W</td><td>Primary</td><td>500</td><td>Good</td><td>0</td><td>0</td><td>0</td></tr><tr><td>8</td><td>F</td><td>W</td><td>Primary</td><td>500</td><td>Good</td><td>0</td><td>0</td><td>0</td></tr><tr><td>9</td><td>M</td><td>U</td><td>Primary</td><td>500</td><td>Good</td><td>0</td><td>0</td><td>0</td></tr><tr><td>10</td><td>F</td><td>U</td><td>Primary</td><td>500</td><td>Good</td><td>0</td><td>0</td><td>0</td></tr><tr><td>11</td><td>M</td><td>M</td><td>Secondary</td><td>500</td><td>Good</td><td>0</td><td>0</td><td>0</td></tr><tr><td>12</td><td>F</td><td>M</td><td>Secondary</td><td>500</td><td>Good</td><td>0</td><td>0</td><td>0</td></tr><tr><td>13</td><td>M</td><td>S</td><td>Secondary</td><td>500</td><td>Good</td><td>0</td><td>0</td><td>0</td></tr><tr><td>14</td><td>F</td><td>S</td><td>Secondary</td><td>500</td><td>Good</td><td>0</td><td>0</td><td>0</td></tr><tr><td>15</td><td>M</td><td>D</td><td>Secondary</td><td>500</td><td>Good</td><td>0</td><td>0</td><td>0</td></tr><tr><td>16</td><td>F</td><td>D</td><td>Secondary</td><td>500</td><td>Good</td><td>0</td><td>0</td><td>0</td></tr><tr><td>17</td><td>M</td><td>W</td><td>Secondary</td><td>500</td><td>Good</td><td>0</td><td>0</td><td>0</td></tr><tr><td>18</td><td>F</td><td>W</td><td>Secondary</td><td>500</td><td>Good</td><td>0</td><td>0</td><td>0</td></tr><tr><td>19</td><td>M</td><td>U</td><td>Secondary</td><td>500</td><td>Good</td><td>0</td><td>0</td><td>0</td></tr><tr><td>20</td><td>F</td><td>U</td><td>Secondary</td><td>500</td><td>Good</td><td>0</td><td>0</td><td>0</td></tr><tr><td>21</td><td>M</td><td>M</td><td>College</td><td>500</td><td>Good</td><td>0</td><td>0</td><td>0</td></tr><tr><td>22</td><td>F</td><td>M</td><td>College</td><td>500</td><td>Good</td><td>0</td><td>0</td><td>0</td></tr><tr><td>23</td><td>M</td><td>S</td><td>College</td><td>500</td><td>Good</td><td>0</td><td>0</td><td>0</td></tr><tr><td>24</td><td>F</td><td>S</td><td>College</td><td>500</td><td>Good</td><td>0</td><td>0</td><td>0</td></tr><tr><td>25</td><td>M</td><td>D</td><td>College</td><td>500</td><td>Good</td><td>0</td><td>0</td><td>0</td></tr><tr><td>26</td><td>F</td><td>D</td><td>College</td><td>500</td><td>Good</td><td>0</td><td>0</td><td>0</td></tr><tr><td>27</td><td>M</td><td>W</td><td>College</td><td>500</td><td>Good</td><td>0</td><td>0</td><td>0</td></tr><tr><td>28</td><td>F</td><td>W</td><td>College</td><td>500</td><td>Good</td><td>0</td><td>0</td><td>0</td></tr><tr><td>29</td><td>M</td><td>U</td><td>College</td><td>500</td><td>Good</td><td>0</td><td>0</td><td>0</td></tr><tr><td>30</td><td>F</td><td>U</td><td>College</td><td>500</td><td>Good</td><td>0</td><td>0</td><td>0</td></tr><tr><td>31</td><td>M</td><td>M</td><td>2 yr Degree</td><td>500</td><td>Good</td><td>0</td><td>0</td><td>0</td></tr><tr><td>32</td><td>F</td><td>M</td><td>2 yr Degree</td><td>500</td><td>Good</td><td>0</td><td>0</td><td>0</td></tr><tr><td>33</td><td>M</td><td>S</td><td>2 yr Degree</td><td>500</td><td>Good</td><td>0</td><td>0</td><td>0</td></tr><tr><td>34</td><td>F</td><td>S</td><td>2 yr Degree</td><td>500</td><td>Good</td><td>0</td><td>0</td><td>0</td></tr><tr><td>35</td><td>M</td><td>D</td><td>2 yr Degree</td><td>500</td><td>Good</td><td>0</td><td>0</td><td>0</td></tr><tr><td>36</td><td>F</td><td>D</td><td>2 yr Degree</td><td>500</td><td>Good</td><td>0</td><td>0</td><td>0</td></tr><tr><td>37</td><td>M</td><td>W</td><td>2 yr Degree</td><td>500</td><td>Good</td><td>0</td><td>0</td><td>0</td></tr><tr><td>38</td><td>F</td><td>W</td><td>2 yr Degree</td><td>500</td><td>Good</td><td>0</td><td>0</td><td>0</td></tr><tr><td>39</td><td>M</td><td>U</td><td>2 yr Degree</td><td>500</td><td>Good</td><td>0</td><td>0</td><td>0</td></tr><tr><td>40</td><td>F</td><td>U</td><td>2 yr Degree</td><td>500</td><td>Good</td><td>0</td><td>0</td><td>0</td></tr><tr><td>41</td><td>M</td><td>M</td><td>4 yr Degree</td><td>500</td><td>Good</td><td>0</td><td>0</td><td>0</td></tr><tr><td>42</td><td>F</td><td>M</td><td>4 yr Degree</td><td>500</td><td>Good</td><td>0</td><td>0</td><td>0</td></tr><tr><td>43</td><td>M</td><td>S</td><td>4 yr Degree</td><td>500</td><td>Good</td><td>0</td><td>0</td><td>0</td></tr><tr><td>44</td><td>F</td><td>S</td><td>4 yr Degree</td><td>500</td><td>Good</td><td>0</td><td>0</td><td>0</td></tr><tr><td>45</td><td>M</td><td>D</td><td>4 yr Degree</td><td>500</td><td>Good</td><td>0</td><td>0</td><td>0</td></tr><tr><td>46</td><td>F</td><td>D</td><td>4 yr Degree</td><td>500</td><td>Good</td><td>0</td><td>0</td><td>0</td></tr><tr><td>47</td><td>M</td><td>W</td><td>4 yr Degree</td><td>500</td><td>Good</td><td>0</td><td>0</td><td>0</td></tr><tr><td>48</td><td>F</td><td>W</td><td>4 yr Degree</td><td>500</td><td>Good</td><td>0</td><td>0</td><td>0</td></tr><tr><td>49</td><td>M</td><td>U</td><td>4 yr Degree</td><td>500</td><td>Good</td><td>0</td><td>0</td><td>0</td></tr><tr><td>50</td><td>F</td><td>U</td><td>4 yr Degree</td><td>500</td><td>Good</td><td>0</td><td>0</td><td>0</td></tr><tr><td>51</td><td>M</td><td>M</td><td>Advanced Degree</td><td>500</td><td>Good</td><td>0</td><td>0</td><td>0</td></tr><tr><td>52</td><td>F</td><td>M</td><td>Advanced Degree</td><td>500</td><td>Good</td><td>0</td><td>0</td><td>0</td></tr><tr><td>53</td><td>M</td><td>S</td><td>Advanced Degree</td><td>500</td><td>Good</td><td>0</td><td>0</td><td>0</td></tr><tr><td>54</td><td>F</td><td>S</td><td>Advanced Degree</td><td>500</td><td>Good</td><td>0</td><td>0</td><td>0</td></tr><tr><td>55</td><td>M</td><td>D</td><td>Advanced Degree</td><td>500</td><td>Good</td><td>0</td><td>0</td><td>0</td></tr><tr><td>56</td><td>F</td><td>D</td><td>Advanced Degree</td><td>500</td><td>Good</td><td>0</td><td>0</td><td>0</td></tr><tr><td>57</td><td>M</td><td>W</td><td>Advanced Degree</td><td>500</td><td>Good</td><td>0</td><td>0</td><td>0</td></tr><tr><td>58</td><td>F</td><td>W</td><td>Advanced Degree</td><td>500</td><td>Good</td><td>0</td><td>0</td><td>0</td></tr><tr><td>59</td><td>M</td><td>U</td><td>Advanced Degree</td><td>500</td><td>Good</td><td>0</td><td>0</td><td>0</td></tr><tr><td>60</td><td>F</td><td>U</td><td>Advanced Degree</td><td>500</td><td>Good</td><td>0</td><td>0</td><td>0</td></tr><tr><td>61</td><td>M</td><td>M</td><td>Unknown</td><td>500</td><td>Good</td><td>0</td><td>0</td><td>0</td></tr><tr><td>62</td><td>F</td><td>M</td><td>Unknown</td><td>500</td><td>Good</td><td>0</td><td>0</td><td>0</td></tr><tr><td>63</td><td>M</td><td>S</td><td>Unknown</td><td>500</td><td>Good</td><td>0</td><td>0</td><td>0</td></tr><tr><td>64</td><td>F</td><td>S</td><td>Unknown</td><td>500</td><td>Good</td><td>0</td><td>0</td><td>0</td></tr><tr><td>65</td><td>M</td><td>D</td><td>Unknown</td><td>500</td><td>Good</td><td>0</td><td>0</td><td>0</td></tr><tr><td>66</td><td>F</td><td>D</td><td>Unknown</td><td>500</td><td>Good</td><td>0</td><td>0</td><td>0</td></tr><tr><td>67</td><td>M</td><td>W</td><td>Unknown</td><td>500</td><td>Good</td><td>0</td><td>0</td><td>0</td></tr><tr><td>68</td><td>F</td><td>W</td><td>Unknown</td><td>500</td><td>Good</td><td>0</td><td>0</td><td>0</td></tr><tr><td>69</td><td>M</td><td>U</td><td>Unknown</td><td>500</td><td>Good</td><td>0</td><td>0</td><td>0</td></tr><tr><td>70</td><td>F</td><td>U</td><td>Unknown</td><td>500</td><td>Good</td><td>0</td><td>0</td><td>0</td></tr><tr><td>71</td><td>M</td><td>M</td><td>Primary</td><td>1000</td><td>Good</td><td>0</td><td>0</td><td>0</td></tr><tr><td>72</td><td>F</td><td>M</td><td>Primary</td><td>1000</td><td>Good</td><td>0</td><td>0</td><td>0</td></tr><tr><td>73</td><td>M</td><td>S</td><td>Primary</td><td>1000</td><td>Good</td><td>0</td><td>0</td><td>0</td></tr><tr><td>74</td><td>F</td><td>S</td><td>Primary</td><td>1000</td><td>Good</td><td>0</td><td>0</td><td>0</td></tr><tr><td>75</td><td>M</td><td>D</td><td>Primary</td><td>1000</td><td>Good</td><td>0</td><td>0</td><td>0</td></tr><tr><td>76</td><td>F</td><td>D</td><td>Primary</td><td>1000</td><td>Good</td><td>0</td><td>0</td><td>0</td></tr><tr><td>77</td><td>M</td><td>W</td><td>Primary</td><td>1000</td><td>Good</td><td>0</td><td>0</td><td>0</td></tr><tr><td>78</td><td>F</td><td>W</td><td>Primary</td><td>1000</td><td>Good</td><td>0</td><td>0</td><td>0</td></tr><tr><td>79</td><td>M</td><td>U</td><td>Primary</td><td>1000</td><td>Good</td><td>0</td><td>0</td><td>0</td></tr><tr><td>80</td><td>F</td><td>U</td><td>Primary</td><td>1000</td><td>Good</td><td>0</td><td>0</td><td>0</td></tr><tr><td>81</td><td>M</td><td>M</td><td>Secondary</td><td>1000</td><td>Good</td><td>0</td><td>0</td><td>0</td></tr><tr><td>82</td><td>F</td><td>M</td><td>Secondary</td><td>1000</td><td>Good</td><td>0</td><td>0</td><td>0</td></tr><tr><td>83</td><td>M</td><td>S</td><td>Secondary</td><td>1000</td><td>Good</td><td>0</td><td>0</td><td>0</td></tr><tr><td>84</td><td>F</td><td>S</td><td>Secondary</td><td>1000</td><td>Good</td><td>0</td><td>0</td><td>0</td></tr><tr><td>85</td><td>M</td><td>D</td><td>Secondary</td><td>1000</td><td>Good</td><td>0</td><td>0</td><td>0</td></tr><tr><td>86</td><td>F</td><td>D</td><td>Secondary</td><td>1000</td><td>Good</td><td>0</td><td>0</td><td>0</td></tr><tr><td>87</td><td>M</td><td>W</td><td>Secondary</td><td>1000</td><td>Good</td><td>0</td><td>0</td><td>0</td></tr><tr><td>88</td><td>F</td><td>W</td><td>Secondary</td><td>1000</td><td>Good</td><td>0</td><td>0</td><td>0</td></tr><tr><td>89</td><td>M</td><td>U</td><td>Secondary</td><td>1000</td><td>Good</td><td>0</td><td>0</td><td>0</td></tr><tr><td>90</td><td>F</td><td>U</td><td>Secondary</td><td>1000</td><td>Good</td><td>0</td><td>0</td><td>0</td></tr><tr><td>91</td><td>M</td><td>M</td><td>College</td><td>1000</td><td>Good</td><td>0</td><td>0</td><td>0</td></tr><tr><td>92</td><td>F</td><td>M</td><td>College</td><td>1000</td><td>Good</td><td>0</td><td>0</td><td>0</td></tr><tr><td>93</td><td>M</td><td>S</td><td>College</td><td>1000</td><td>Good</td><td>0</td><td>0</td><td>0</td></tr><tr><td>94</td><td>F</td><td>S</td><td>College</td><td>1000</td><td>Good</td><td>0</td><td>0</td><td>0</td></tr><tr><td>95</td><td>M</td><td>D</td><td>College</td><td>1000</td><td>Good</td><td>0</td><td>0</td><td>0</td></tr><tr><td>96</td><td>F</td><td>D</td><td>College</td><td>1000</td><td>Good</td><td>0</td><td>0</td><td>0</td></tr><tr><td>97</td><td>M</td><td>W</td><td>College</td><td>1000</td><td>Good</td><td>0</td><td>0</td><td>0</td></tr><tr><td>98</td><td>F</td><td>W</td><td>College</td><td>1000</td><td>Good</td><td>0</td><td>0</td><td>0</td></tr><tr><td>99</td><td>M</td><td>U</td><td>College</td><td>1000</td><td>Good</td><td>0</td><td>0</td><td>0</td></tr><tr><td>100</td><td>F</td><td>U</td><td>College</td><td>1000</td><td>Good</td><td>0</td><td>0</td><td>0</td></tr><tr><td>101</td><td>M</td><td>M</td><td>2 yr Degree</td><td>1000</td><td>Good</td><td>0</td><td>0</td><td>0</td></tr><tr><td>102</td><td>F</td><td>M</td><td>2 yr Degree</td><td>1000</td><td>Good</td><td>0</td><td>0</td><td>0</td></tr><tr><td>103</td><td>M</td><td>S</td><td>2 yr Degree</td><td>1000</td><td>Good</td><td>0</td><td>0</td><td>0</td></tr><tr><td>104</td><td>F</td><td>S</td><td>2 yr Degree</td><td>1000</td><td>Good</td><td>0</td><td>0</td><td>0</td></tr><tr><td>105</td><td>M</td><td>D</td><td>2 yr Degree</td><td>1000</td><td>Good</td><td>0</td><td>0</td><td>0</td></tr><tr><td>106</td><td>F</td><td>D</td><td>2 yr Degree</td><td>1000</td><td>Good</td><td>0</td><td>0</td><td>0</td></tr><tr><td>107</td><td>M</td><td>W</td><td>2 yr Degree</td><td>1000</td><td>Good</td><td>0</td><td>0</td><td>0</td></tr><tr><td>108</td><td>F</td><td>W</td><td>2 yr Degree</td><td>1000</td><td>Good</td><td>0</td><td>0</td><td>0</td></tr><tr><td>109</td><td>M</td><td>U</td><td>2 yr Degree</td><td>1000</td><td>Good</td><td>0</td><td>0</td><td>0</td></tr><tr><td>110</td><td>F</td><td>U</td><td>2 yr Degree</td><td>1000</td><td>Good</td><td>0</td><td>0</td><td>0</td></tr><tr><td>111</td><td>M</td><td>M</td><td>4 yr Degree</td><td>1000</td><td>Good</td><td>0</td><td>0</td><td>0</td></tr><tr><td>112</td><td>F</td><td>M</td><td>4 yr Degree</td><td>1000</td><td>Good</td><td>0</td><td>0</td><td>0</td></tr><tr><td>113</td><td>M</td><td>S</td><td>4 yr Degree</td><td>1000</td><td>Good</td><td>0</td><td>0</td><td>0</td></tr><tr><td>114</td><td>F</td><td>S</td><td>4 yr Degree</td><td>1000</td><td>Good</td><td>0</td><td>0</td><td>0</td></tr><tr><td>115</td><td>M</td><td>D</td><td>4 yr Degree</td><td>1000</td><td>Good</td><td>0</td><td>0</td><td>0</td></tr><tr><td>116</td><td>F</td><td>D</td><td>4 yr Degree</td><td>1000</td><td>Good</td><td>0</td><td>0</td><td>0</td></tr><tr><td>117</td><td>M</td><td>W</td><td>4 yr Degree</td><td>1000</td><td>Good</td><td>0</td><td>0</td><td>0</td></tr><tr><td>118</td><td>F</td><td>W</td><td>4 yr Degree</td><td>1000</td><td>Good</td><td>0</td><td>0</td><td>0</td></tr><tr><td>119</td><td>M</td><td>U</td><td>4 yr Degree</td><td>1000</td><td>Good</td><td>0</td><td>0</td><td>0</td></tr><tr><td>120</td><td>F</td><td>U</td><td>4 yr Degree</td><td>1000</td><td>Good</td><td>0</td><td>0</td><td>0</td></tr><tr><td>121</td><td>M</td><td>M</td><td>Advanced Degree</td><td>1000</td><td>Good</td><td>0</td><td>0</td><td>0</td></tr><tr><td>122</td><td>F</td><td>M</td><td>Advanced Degree</td><td>1000</td><td>Good</td><td>0</td><td>0</td><td>0</td></tr><tr><td>123</td><td>M</td><td>S</td><td>Advanced Degree</td><td>1000</td><td>Good</td><td>0</td><td>0</td><td>0</td></tr><tr><td>124</td><td>F</td><td>S</td><td>Advanced Degree</td><td>1000</td><td>Good</td><td>0</td><td>0</td><td>0</td></tr><tr><td>125</td><td>M</td><td>D</td><td>Advanced Degree</td><td>1000</td><td>Good</td><td>0</td><td>0</td><td>0</td></tr><tr><td>126</td><td>F</td><td>D</td><td>Advanced Degree</td><td>1000</td><td>Good</td><td>0</td><td>0</td><td>0</td></tr><tr><td>127</td><td>M</td><td>W</td><td>Advanced Degree</td><td>1000</td><td>Good</td><td>0</td><td>0</td><td>0</td></tr><tr><td>128</td><td>F</td><td>W</td><td>Advanced Degree</td><td>1000</td><td>Good</td><td>0</td><td>0</td><td>0</td></tr><tr><td>129</td><td>M</td><td>U</td><td>Advanced Degree</td><td>1000</td><td>Good</td><td>0</td><td>0</td><td>0</td></tr><tr><td>130</td><td>F</td><td>U</td><td>Advanced Degree</td><td>1000</td><td>Good</td><td>0</td><td>0</td><td>0</td></tr><tr><td>131</td><td>M</td><td>M</td><td>Unknown</td><td>1000</td><td>Good</td><td>0</td><td>0</td><td>0</td></tr><tr><td>132</td><td>F</td><td>M</td><td>Unknown</td><td>1000</td><td>Good</td><td>0</td><td>0</td><td>0</td></tr><tr><td>133</td><td>M</td><td>S</td><td>Unknown</td><td>1000</td><td>Good</td><td>0</td><td>0</td><td>0</td></tr><tr><td>134</td><td>F</td><td>S</td><td>Unknown</td><td>1000</td><td>Good</td><td>0</td><td>0</td><td>0</td></tr><tr><td>135</td><td>M</td><td>D</td><td>Unknown</td><td>1000</td><td>Good</td><td>0</td><td>0</td><td>0</td></tr><tr><td>136</td><td>F</td><td>D</td><td>Unknown</td><td>1000</td><td>Good</td><td>0</td><td>0</td><td>0</td></tr><tr><td>137</td><td>M</td><td>W</td><td>Unknown</td><td>1000</td><td>Good</td><td>0</td><td>0</td><td>0</td></tr><tr><td>138</td><td>F</td><td>W</td><td>Unknown</td><td>1000</td><td>Good</td><td>0</td><td>0</td><td>0</td></tr><tr><td>139</td><td>M</td><td>U</td><td>Unknown</td><td>1000</td><td>Good</td><td>0</td><td>0</td><td>0</td></tr><tr><td>140</td><td>F</td><td>U</td><td>Unknown</td><td>1000</td><td>Good</td><td>0</td><td>0</td><td>0</td></tr><tr><td>141</td><td>M</td><td>M</td><td>Primary</td><td>1500</td><td>Good</td><td>0</td><td>0</td><td>0</td></tr><tr><td>142</td><td>F</td><td>M</td><td>Primary</td><td>1500</td><td>Good</td><td>0</td><td>0</td><td>0</td></tr><tr><td>143</td><td>M</td><td>S</td><td>Primary</td><td>1500</td><td>Good</td><td>0</td><td>0</td><td>0</td></tr><tr><td>144</td><td>F</td><td>S</td><td>Primary</td><td>1500</td><td>Good</td><td>0</td><td>0</td><td>0</td></tr><tr><td>145</td><td>M</td><td>D</td><td>Primary</td><td>1500</td><td>Good</td><td>0</td><td>0</td><td>0</td></tr><tr><td>146</td><td>F</td><td>D</td><td>Primary</td><td>1500</td><td>Good</td><td>0</td><td>0</td><td>0</td></tr><tr><td>147</td><td>M</td><td>W</td><td>Primary</td><td>1500</td><td>Good</td><td>0</td><td>0</td><td>0</td></tr><tr><td>148</td><td>F</td><td>W</td><td>Primary</td><td>1500</td><td>Good</td><td>0</td><td>0</td><td>0</td></tr><tr><td>149</td><td>M</td><td>U</td><td>Primary</td><td>1500</td><td>Good</td><td>0</td><td>0</td><td>0</td></tr><tr><td>150</td><td>F</td><td>U</td><td>Primary</td><td>1500</td><td>Good</td><td>0</td><td>0</td><td>0</td></tr><tr><td>151</td><td>M</td><td>M</td><td>Secondary</td><td>1500</td><td>Good</td><td>0</td><td>0</td><td>0</td></tr><tr><td>152</td><td>F</td><td>M</td><td>Secondary</td><td>1500</td><td>Good</td><td>0</td><td>0</td><td>0</td></tr><tr><td>153</td><td>M</td><td>S</td><td>Secondary</td><td>1500</td><td>Good</td><td>0</td><td>0</td><td>0</td></tr><tr><td>154</td><td>F</td><td>S</td><td>Secondary</td><td>1500</td><td>Good</td><td>0</td><td>0</td><td>0</td></tr><tr><td>155</td><td>M</td><td>D</td><td>Secondary</td><td>1500</td><td>Good</td><td>0</td><td>0</td><td>0</td></tr><tr><td>156</td><td>F</td><td>D</td><td>Secondary</td><td>1500</td><td>Good</td><td>0</td><td>0</td><td>0</td></tr><tr><td>157</td><td>M</td><td>W</td><td>Secondary</td><td>1500</td><td>Good</td><td>0</td><td>0</td><td>0</td></tr><tr><td>158</td><td>F</td><td>W</td><td>Secondary</td><td>1500</td><td>Good</td><td>0</td><td>0</td><td>0</td></tr><tr><td>159</td><td>M</td><td>U</td><td>Secondary</td><td>1500</td><td>Good</td><td>0</td><td>0</td><td>0</td></tr><tr><td>160</td><td>F</td><td>U</td><td>Secondary</td><td>1500</td><td>Good</td><td>0</td><td>0</td><td>0</td></tr><tr><td>161</td><td>M</td><td>M</td><td>College</td><td>1500</td><td>Good</td><td>0</td><td>0</td><td>0</td></tr><tr><td>162</td><td>F</td><td>M</td><td>College</td><td>1500</td><td>Good</td><td>0</td><td>0</td><td>0</td></tr><tr><td>163</td><td>M</td><td>S</td><td>College</td><td>1500</td><td>Good</td><td>0</td><td>0</td><td>0</td></tr><tr><td>164</td><td>F</td><td>S</td><td>College</td><td>1500</td><td>Good</td><td>0</td><td>0</td><td>0</td></tr><tr><td>165</td><td>M</td><td>D</td><td>College</td><td>1500</td><td>Good</td><td>0</td><td>0</td><td>0</td></tr><tr><td>166</td><td>F</td><td>D</td><td>College</td><td>1500</td><td>Good</td><td>0</td><td>0</td><td>0</td></tr><tr><td>167</td><td>M</td><td>W</td><td>College</td><td>1500</td><td>Good</td><td>0</td><td>0</td><td>0</td></tr><tr><td>168</td><td>F</td><td>W</td><td>College</td><td>1500</td><td>Good</td><td>0</td><td>0</td><td>0</td></tr><tr><td>169</td><td>M</td><td>U</td><td>College</td><td>1500</td><td>Good</td><td>0</td><td>0</td><td>0</td></tr><tr><td>170</td><td>F</td><td>U</td><td>College</td><td>1500</td><td>Good</td><td>0</td><td>0</td><td>0</td></tr><tr><td>171</td><td>M</td><td>M</td><td>2 yr Degree</td><td>1500</td><td>Good</td><td>0</td><td>0</td><td>0</td></tr><tr><td>172</td><td>F</td><td>M</td><td>2 yr Degree</td><td>1500</td><td>Good</td><td>0</td><td>0</td><td>0</td></tr><tr><td>173</td><td>M</td><td>S</td><td>2 yr Degree</td><td>1500</td><td>Good</td><td>0</td><td>0</td><td>0</td></tr><tr><td>174</td><td>F</td><td>S</td><td>2 yr Degree</td><td>1500</td><td>Good</td><td>0</td><td>0</td><td>0</td></tr><tr><td>175</td><td>M</td><td>D</td><td>2 yr Degree</td><td>1500</td><td>Good</td><td>0</td><td>0</td><td>0</td></tr><tr><td>176</td><td>F</td><td>D</td><td>2 yr Degree</td><td>1500</td><td>Good</td><td>0</td><td>0</td><td>0</td></tr><tr><td>177</td><td>M</td><td>W</td><td>2 yr Degree</td><td>1500</td><td>Good</td><td>0</td><td>0</td><td>0</td></tr><tr><td>178</td><td>F</td><td>W</td><td>2 yr Degree</td><td>1500</td><td>Good</td><td>0</td><td>0</td><td>0</td></tr><tr><td>179</td><td>M</td><td>U</td><td>2 yr Degree</td><td>1500</td><td>Good</td><td>0</td><td>0</td><td>0</td></tr><tr><td>180</td><td>F</td><td>U</td><td>2 yr Degree</td><td>1500</td><td>Good</td><td>0</td><td>0</td><td>0</td></tr><tr><td>181</td><td>M</td><td>M</td><td>4 yr Degree</td><td>1500</td><td>Good</td><td>0</td><td>0</td><td>0</td></tr><tr><td>182</td><td>F</td><td>M</td><td>4 yr Degree</td><td>1500</td><td>Good</td><td>0</td><td>0</td><td>0</td></tr><tr><td>183</td><td>M</td><td>S</td><td>4 yr Degree</td><td>1500</td><td>Good</td><td>0</td><td>0</td><td>0</td></tr><tr><td>184</td><td>F</td><td>S</td><td>4 yr Degree</td><td>1500</td><td>Good</td><td>0</td><td>0</td><td>0</td></tr><tr><td>185</td><td>M</td><td>D</td><td>4 yr Degree</td><td>1500</td><td>Good</td><td>0</td><td>0</td><td>0</td></tr><tr><td>186</td><td>F</td><td>D</td><td>4 yr Degree</td><td>1500</td><td>Good</td><td>0</td><td>0</td><td>0</td></tr><tr><td>187</td><td>M</td><td>W</td><td>4 yr Degree</td><td>1500</td><td>Good</td><td>0</td><td>0</td><td>0</td></tr><tr><td>188</td><td>F</td><td>W</td><td>4 yr Degree</td><td>1500</td><td>Good</td><td>0</td><td>0</td><td>0</td></tr><tr><td>189</td><td>M</td><td>U</td><td>4 yr Degree</td><td>1500</td><td>Good</td><td>0</td><td>0</td><td>0</td></tr><tr><td>190</td><td>F</td><td>U</td><td>4 yr Degree</td><td>1500</td><td>Good</td><td>0</td><td>0</td><td>0</td></tr><tr><td>191</td><td>M</td><td>M</td><td>Advanced Degree</td><td>1500</td><td>Good</td><td>0</td><td>0</td><td>0</td></tr><tr><td>192</td><td>F</td><td>M</td><td>Advanced Degree</td><td>1500</td><td>Good</td><td>0</td><td>0</td><td>0</td></tr><tr><td>193</td><td>M</td><td>S</td><td>Advanced Degree</td><td>1500</td><td>Good</td><td>0</td><td>0</td><td>0</td></tr><tr><td>194</td><td>F</td><td>S</td><td>Advanced Degree</td><td>1500</td><td>Good</td><td>0</td><td>0</td><td>0</td></tr><tr><td>195</td><td>M</td><td>D</td><td>Advanced Degree</td><td>1500</td><td>Good</td><td>0</td><td>0</td><td>0</td></tr><tr><td>196</td><td>F</td><td>D</td><td>Advanced Degree</td><td>1500</td><td>Good</td><td>0</td><td>0</td><td>0</td></tr><tr><td>197</td><td>M</td><td>W</td><td>Advanced Degree</td><td>1500</td><td>Good</td><td>0</td><td>0</td><td>0</td></tr><tr><td>198</td><td>F</td><td>W</td><td>Advanced Degree</td><td>1500</td><td>Good</td><td>0</td><td>0</td><td>0</td></tr><tr><td>199</td><td>M</td><td>U</td><td>Advanced Degree</td><td>1500</td><td>Good</td><td>0</td><td>0</td><td>0</td></tr><tr><td>200</td><td>F</td><td>U</td><td>Advanced Degree</td><td>1500</td><td>Good</td><td>0</td><td>0</td><td>0</td></tr><tr><td>201</td><td>M</td><td>M</td><td>Unknown</td><td>1500</td><td>Good</td><td>0</td><td>0</td><td>0</td></tr><tr><td>202</td><td>F</td><td>M</td><td>Unknown</td><td>1500</td><td>Good</td><td>0</td><td>0</td><td>0</td></tr><tr><td>203</td><td>M</td><td>S</td><td>Unknown</td><td>1500</td><td>Good</td><td>0</td><td>0</td><td>0</td></tr><tr><td>204</td><td>F</td><td>S</td><td>Unknown</td><td>1500</td><td>Good</td><td>0</td><td>0</td><td>0</td></tr><tr><td>205</td><td>M</td><td>D</td><td>Unknown</td><td>1500</td><td>Good</td><td>0</td><td>0</td><td>0</td></tr><tr><td>206</td><td>F</td><td>D</td><td>Unknown</td><td>1500</td><td>Good</td><td>0</td><td>0</td><td>0</td></tr><tr><td>207</td><td>M</td><td>W</td><td>Unknown</td><td>1500</td><td>Good</td><td>0</td><td>0</td><td>0</td></tr><tr><td>208</td><td>F</td><td>W</td><td>Unknown</td><td>1500</td><td>Good</td><td>0</td><td>0</td><td>0</td></tr><tr><td>209</td><td>M</td><td>U</td><td>Unknown</td><td>1500</td><td>Good</td><td>0</td><td>0</td><td>0</td></tr><tr><td>210</td><td>F</td><td>U</td><td>Unknown</td><td>1500</td><td>Good</td><td>0</td><td>0</td><td>0</td></tr><tr><td>211</td><td>M</td><td>M</td><td>Primary</td><td>2000</td><td>Good</td><td>0</td><td>0</td><td>0</td></tr><tr><td>212</td><td>F</td><td>M</td><td>Primary</td><td>2000</td><td>Good</td><td>0</td><td>0</td><td>0</td></tr><tr><td>213</td><td>M</td><td>S</td><td>Primary</td><td>2000</td><td>Good</td><td>0</td><td>0</td><td>0</td></tr><tr><td>214</td><td>F</td><td>S</td><td>Primary</td><td>2000</td><td>Good</td><td>0</td><td>0</td><td>0</td></tr><tr><td>215</td><td>M</td><td>D</td><td>Primary</td><td>2000</td><td>Good</td><td>0</td><td>0</td><td>0</td></tr><tr><td>216</td><td>F</td><td>D</td><td>Primary</td><td>2000</td><td>Good</td><td>0</td><td>0</td><td>0</td></tr><tr><td>217</td><td>M</td><td>W</td><td>Primary</td><td>2000</td><td>Good</td><td>0</td><td>0</td><td>0</td></tr><tr><td>218</td><td>F</td><td>W</td><td>Primary</td><td>2000</td><td>Good</td><td>0</td><td>0</td><td>0</td></tr><tr><td>219</td><td>M</td><td>U</td><td>Primary</td><td>2000</td><td>Good</td><td>0</td><td>0</td><td>0</td></tr><tr><td>220</td><td>F</td><td>U</td><td>Primary</td><td>2000</td><td>Good</td><td>0</td><td>0</td><td>0</td></tr><tr><td>221</td><td>M</td><td>M</td><td>Secondary</td><td>2000</td><td>Good</td><td>0</td><td>0</td><td>0</td></tr><tr><td>222</td><td>F</td><td>M</td><td>Secondary</td><td>2000</td><td>Good</td><td>0</td><td>0</td><td>0</td></tr><tr><td>223</td><td>M</td><td>S</td><td>Secondary</td><td>2000</td><td>Good</td><td>0</td><td>0</td><td>0</td></tr><tr><td>224</td><td>F</td><td>S</td><td>Secondary</td><td>2000</td><td>Good</td><td>0</td><td>0</td><td>0</td></tr><tr><td>225</td><td>M</td><td>D</td><td>Secondary</td><td>2000</td><td>Good</td><td>0</td><td>0</td><td>0</td></tr><tr><td>226</td><td>F</td><td>D</td><td>Secondary</td><td>2000</td><td>Good</td><td>0</td><td>0</td><td>0</td></tr><tr><td>227</td><td>M</td><td>W</td><td>Secondary</td><td>2000</td><td>Good</td><td>0</td><td>0</td><td>0</td></tr><tr><td>228</td><td>F</td><td>W</td><td>Secondary</td><td>2000</td><td>Good</td><td>0</td><td>0</td><td>0</td></tr><tr><td>229</td><td>M</td><td>U</td><td>Secondary</td><td>2000</td><td>Good</td><td>0</td><td>0</td><td>0</td></tr><tr><td>230</td><td>F</td><td>U</td><td>Secondary</td><td>2000</td><td>Good</td><td>0</td><td>0</td><td>0</td></tr><tr><td>231</td><td>M</td><td>M</td><td>College</td><td>2000</td><td>Good</td><td>0</td><td>0</td><td>0</td></tr><tr><td>232</td><td>F</td><td>M</td><td>College</td><td>2000</td><td>Good</td><td>0</td><td>0</td><td>0</td></tr><tr><td>233</td><td>M</td><td>S</td><td>College</td><td>2000</td><td>Good</td><td>0</td><td>0</td><td>0</td></tr><tr><td>234</td><td>F</td><td>S</td><td>College</td><td>2000</td><td>Good</td><td>0</td><td>0</td><td>0</td></tr><tr><td>235</td><td>M</td><td>D</td><td>College</td><td>2000</td><td>Good</td><td>0</td><td>0</td><td>0</td></tr><tr><td>236</td><td>F</td><td>D</td><td>College</td><td>2000</td><td>Good</td><td>0</td><td>0</td><td>0</td></tr><tr><td>237</td><td>M</td><td>W</td><td>College</td><td>2000</td><td>Good</td><td>0</td><td>0</td><td>0</td></tr><tr><td>238</td><td>F</td><td>W</td><td>College</td><td>2000</td><td>Good</td><td>0</td><td>0</td><td>0</td></tr><tr><td>239</td><td>M</td><td>U</td><td>College</td><td>2000</td><td>Good</td><td>0</td><td>0</td><td>0</td></tr><tr><td>240</td><td>F</td><td>U</td><td>College</td><td>2000</td><td>Good</td><td>0</td><td>0</td><td>0</td></tr><tr><td>241</td><td>M</td><td>M</td><td>2 yr Degree</td><td>2000</td><td>Good</td><td>0</td><td>0</td><td>0</td></tr><tr><td>242</td><td>F</td><td>M</td><td>2 yr Degree</td><td>2000</td><td>Good</td><td>0</td><td>0</td><td>0</td></tr><tr><td>243</td><td>M</td><td>S</td><td>2 yr Degree</td><td>2000</td><td>Good</td><td>0</td><td>0</td><td>0</td></tr><tr><td>244</td><td>F</td><td>S</td><td>2 yr Degree</td><td>2000</td><td>Good</td><td>0</td><td>0</td><td>0</td></tr><tr><td>245</td><td>M</td><td>D</td><td>2 yr Degree</td><td>2000</td><td>Good</td><td>0</td><td>0</td><td>0</td></tr><tr><td>246</td><td>F</td><td>D</td><td>2 yr Degree</td><td>2000</td><td>Good</td><td>0</td><td>0</td><td>0</td></tr><tr><td>247</td><td>M</td><td>W</td><td>2 yr Degree</td><td>2000</td><td>Good</td><td>0</td><td>0</td><td>0</td></tr><tr><td>248</td><td>F</td><td>W</td><td>2 yr Degree</td><td>2000</td><td>Good</td><td>0</td><td>0</td><td>0</td></tr><tr><td>249</td><td>M</td><td>U</td><td>2 yr Degree</td><td>2000</td><td>Good</td><td>0</td><td>0</td><td>0</td></tr><tr><td>250</td><td>F</td><td>U</td><td>2 yr Degree</td><td>2000</td><td>Good</td><td>0</td><td>0</td><td>0</td></tr><tr><td>251</td><td>M</td><td>M</td><td>4 yr Degree</td><td>2000</td><td>Good</td><td>0</td><td>0</td><td>0</td></tr><tr><td>252</td><td>F</td><td>M</td><td>4 yr Degree</td><td>2000</td><td>Good</td><td>0</td><td>0</td><td>0</td></tr><tr><td>253</td><td>M</td><td>S</td><td>4 yr Degree</td><td>2000</td><td>Good</td><td>0</td><td>0</td><td>0</td></tr><tr><td>254</td><td>F</td><td>S</td><td>4 yr Degree</td><td>2000</td><td>Good</td><td>0</td><td>0</td><td>0</td></tr><tr><td>255</td><td>M</td><td>D</td><td>4 yr Degree</td><td>2000</td><td>Good</td><td>0</td><td>0</td><td>0</td></tr><tr><td>256</td><td>F</td><td>D</td><td>4 yr Degree</td><td>2000</td><td>Good</td><td>0</td><td>0</td><td>0</td></tr><tr><td>257</td><td>M</td><td>W</td><td>4 yr Degree</td><td>2000</td><td>Good</td><td>0</td><td>0</td><td>0</td></tr><tr><td>258</td><td>F</td><td>W</td><td>4 yr Degree</td><td>2000</td><td>Good</td><td>0</td><td>0</td><td>0</td></tr><tr><td>259</td><td>M</td><td>U</td><td>4 yr Degree</td><td>2000</td><td>Good</td><td>0</td><td>0</td><td>0</td></tr><tr><td>260</td><td>F</td><td>U</td><td>4 yr Degree</td><td>2000</td><td>Good</td><td>0</td><td>0</td><td>0</td></tr><tr><td>261</td><td>M</td><td>M</td><td>Advanced Degree</td><td>2000</td><td>Good</td><td>0</td><td>0</td><td>0</td></tr><tr><td>262</td><td>F</td><td>M</td><td>Advanced Degree</td><td>2000</td><td>Good</td><td>0</td><td>0</td><td>0</td></tr><tr><td>263</td><td>M</td><td>S</td><td>Advanced Degree</td><td>2000</td><td>Good</td><td>0</td><td>0</td><td>0</td></tr><tr><td>264</td><td>F</td><td>S</td><td>Advanced Degree</td><td>2000</td><td>Good</td><td>0</td><td>0</td><td>0</td></tr><tr><td>265</td><td>M</td><td>D</td><td>Advanced Degree</td><td>2000</td><td>Good</td><td>0</td><td>0</td><td>0</td></tr><tr><td>266</td><td>F</td><td>D</td><td>Advanced Degree</td><td>2000</td><td>Good</td><td>0</td><td>0</td><td>0</td></tr><tr><td>267</td><td>M</td><td>W</td><td>Advanced Degree</td><td>2000</td><td>Good</td><td>0</td><td>0</td><td>0</td></tr><tr><td>268</td><td>F</td><td>W</td><td>Advanced Degree</td><td>2000</td><td>Good</td><td>0</td><td>0</td><td>0</td></tr><tr><td>269</td><td>M</td><td>U</td><td>Advanced Degree</td><td>2000</td><td>Good</td><td>0</td><td>0</td><td>0</td></tr><tr><td>270</td><td>F</td><td>U</td><td>Advanced Degree</td><td>2000</td><td>Good</td><td>0</td><td>0</td><td>0</td></tr><tr><td>271</td><td>M</td><td>M</td><td>Unknown</td><td>2000</td><td>Good</td><td>0</td><td>0</td><td>0</td></tr><tr><td>272</td><td>F</td><td>M</td><td>Unknown</td><td>2000</td><td>Good</td><td>0</td><td>0</td><td>0</td></tr><tr><td>273</td><td>M</td><td>S</td><td>Unknown</td><td>2000</td><td>Good</td><td>0</td><td>0</td><td>0</td></tr><tr><td>274</td><td>F</td><td>S</td><td>Unknown</td><td>2000</td><td>Good</td><td>0</td><td>0</td><td>0</td></tr><tr><td>275</td><td>M</td><td>D</td><td>Unknown</td><td>2000</td><td>Good</td><td>0</td><td>0</td><td>0</td></tr><tr><td>276</td><td>F</td><td>D</td><td>Unknown</td><td>2000</td><td>Good</td><td>0</td><td>0</td><td>0</td></tr><tr><td>277</td><td>M</td><td>W</td><td>Unknown</td><td>2000</td><td>Good</td><td>0</td><td>0</td><td>0</td></tr><tr><td>278</td><td>F</td><td>W</td><td>Unknown</td><td>2000</td><td>Good</td><td>0</td><td>0</td><td>0</td></tr><tr><td>279</td><td>M</td><td>U</td><td>Unknown</td><td>2000</td><td>Good</td><td>0</td><td>0</td><td>0</td></tr><tr><td>280</td><td>F</td><td>U</td><td>Unknown</td><td>2000</td><td>Good</td><td>0</td><td>0</td><td>0</td></tr><tr><td>281</td><td>M</td><td>M</td><td>Primary</td><td>2500</td><td>Good</td><td>0</td><td>0</td><td>0</td></tr><tr><td>282</td><td>F</td><td>M</td><td>Primary</td><td>2500</td><td>Good</td><td>0</td><td>0</td><td>0</td></tr><tr><td>283</td><td>M</td><td>S</td><td>Primary</td><td>2500</td><td>Good</td><td>0</td><td>0</td><td>0</td></tr><tr><td>284</td><td>F</td><td>S</td><td>Primary</td><td>2500</td><td>Good</td><td>0</td><td>0</td><td>0</td></tr><tr><td>285</td><td>M</td><td>D</td><td>Primary</td><td>2500</td><td>Good</td><td>0</td><td>0</td><td>0</td></tr><tr><td>286</td><td>F</td><td>D</td><td>Primary</td><td>2500</td><td>Good</td><td>0</td><td>0</td><td>0</td></tr><tr><td>287</td><td>M</td><td>W</td><td>Primary</td><td>2500</td><td>Good</td><td>0</td><td>0</td><td>0</td></tr><tr><td>288</td><td>F</td><td>W</td><td>Primary</td><td>2500</td><td>Good</td><td>0</td><td>0</td><td>0</td></tr><tr><td>289</td><td>M</td><td>U</td><td>Primary</td><td>2500</td><td>Good</td><td>0</td><td>0</td><td>0</td></tr><tr><td>290</td><td>F</td><td>U</td><td>Primary</td><td>2500</td><td>Good</td><td>0</td><td>0</td><td>0</td></tr><tr><td>291</td><td>M</td><td>M</td><td>Secondary</td><td>2500</td><td>Good</td><td>0</td><td>0</td><td>0</td></tr><tr><td>292</td><td>F</td><td>M</td><td>Secondary</td><td>2500</td><td>Good</td><td>0</td><td>0</td><td>0</td></tr><tr><td>293</td><td>M</td><td>S</td><td>Secondary</td><td>2500</td><td>Good</td><td>0</td><td>0</td><td>0</td></tr><tr><td>294</td><td>F</td><td>S</td><td>Secondary</td><td>2500</td><td>Good</td><td>0</td><td>0</td><td>0</td></tr><tr><td>295</td><td>M</td><td>D</td><td>Secondary</td><td>2500</td><td>Good</td><td>0</td><td>0</td><td>0</td></tr><tr><td>296</td><td>F</td><td>D</td><td>Secondary</td><td>2500</td><td>Good</td><td>0</td><td>0</td><td>0</td></tr><tr><td>297</td><td>M</td><td>W</td><td>Secondary</td><td>2500</td><td>Good</td><td>0</td><td>0</td><td>0</td></tr><tr><td>298</td><td>F</td><td>W</td><td>Secondary</td><td>2500</td><td>Good</td><td>0</td><td>0</td><td>0</td></tr><tr><td>299</td><td>M</td><td>U</td><td>Secondary</td><td>2500</td><td>Good</td><td>0</td><td>0</td><td>0</td></tr><tr><td>300</td><td>F</td><td>U</td><td>Secondary</td><td>2500</td><td>Good</td><td>0</td><td>0</td><td>0</td></tr><tr><td>301</td><td>M</td><td>M</td><td>College</td><td>2500</td><td>Good</td><td>0</td><td>0</td><td>0</td></tr><tr><td>302</td><td>F</td><td>M</td><td>College</td><td>2500</td><td>Good</td><td>0</td><td>0</td><td>0</td></tr><tr><td>303</td><td>M</td><td>S</td><td>College</td><td>2500</td><td>Good</td><td>0</td><td>0</td><td>0</td></tr><tr><td>304</td><td>F</td><td>S</td><td>College</td><td>2500</td><td>Good</td><td>0</td><td>0</td><td>0</td></tr><tr><td>305</td><td>M</td><td>D</td><td>College</td><td>2500</td><td>Good</td><td>0</td><td>0</td><td>0</td></tr><tr><td>306</td><td>F</td><td>D</td><td>College</td><td>2500</td><td>Good</td><td>0</td><td>0</td><td>0</td></tr><tr><td>307</td><td>M</td><td>W</td><td>College</td><td>2500</td><td>Good</td><td>0</td><td>0</td><td>0</td></tr><tr><td>308</td><td>F</td><td>W</td><td>College</td><td>2500</td><td>Good</td><td>0</td><td>0</td><td>0</td></tr><tr><td>309</td><td>M</td><td>U</td><td>College</td><td>2500</td><td>Good</td><td>0</td><td>0</td><td>0</td></tr><tr><td>310</td><td>F</td><td>U</td><td>College</td><td>2500</td><td>Good</td><td>0</td><td>0</td><td>0</td></tr><tr><td>311</td><td>M</td><td>M</td><td>2 yr Degree</td><td>2500</td><td>Good</td><td>0</td><td>0</td><td>0</td></tr><tr><td>312</td><td>F</td><td>M</td><td>2 yr Degree</td><td>2500</td><td>Good</td><td>0</td><td>0</td><td>0</td></tr><tr><td>313</td><td>M</td><td>S</td><td>2 yr Degree</td><td>2500</td><td>Good</td><td>0</td><td>0</td><td>0</td></tr><tr><td>314</td><td>F</td><td>S</td><td>2 yr Degree</td><td>2500</td><td>Good</td><td>0</td><td>0</td><td>0</td></tr><tr><td>315</td><td>M</td><td>D</td><td>2 yr Degree</td><td>2500</td><td>Good</td><td>0</td><td>0</td><td>0</td></tr><tr><td>316</td><td>F</td><td>D</td><td>2 yr Degree</td><td>2500</td><td>Good</td><td>0</td><td>0</td><td>0</td></tr><tr><td>317</td><td>M</td><td>W</td><td>2 yr Degree</td><td>2500</td><td>Good</td><td>0</td><td>0</td><td>0</td></tr><tr><td>318</td><td>F</td><td>W</td><td>2 yr Degree</td><td>2500</td><td>Good</td><td>0</td><td>0</td><td>0</td></tr><tr><td>319</td><td>M</td><td>U</td><td>2 yr Degree</td><td>2500</td><td>Good</td><td>0</td><td>0</td><td>0</td></tr><tr><td>320</td><td>F</td><td>U</td><td>2 yr Degree</td><td>2500</td><td>Good</td><td>0</td><td>0</td><td>0</td></tr><tr><td>321</td><td>M</td><td>M</td><td>4 yr Degree</td><td>2500</td><td>Good</td><td>0</td><td>0</td><td>0</td></tr><tr><td>322</td><td>F</td><td>M</td><td>4 yr Degree</td><td>2500</td><td>Good</td><td>0</td><td>0</td><td>0</td></tr><tr><td>323</td><td>M</td><td>S</td><td>4 yr Degree</td><td>2500</td><td>Good</td><td>0</td><td>0</td><td>0</td></tr><tr><td>324</td><td>F</td><td>S</td><td>4 yr Degree</td><td>2500</td><td>Good</td><td>0</td><td>0</td><td>0</td></tr><tr><td>325</td><td>M</td><td>D</td><td>4 yr Degree</td><td>2500</td><td>Good</td><td>0</td><td>0</td><td>0</td></tr><tr><td>326</td><td>F</td><td>D</td><td>4 yr Degree</td><td>2500</td><td>Good</td><td>0</td><td>0</td><td>0</td></tr><tr><td>327</td><td>M</td><td>W</td><td>4 yr Degree</td><td>2500</td><td>Good</td><td>0</td><td>0</td><td>0</td></tr><tr><td>328</td><td>F</td><td>W</td><td>4 yr Degree</td><td>2500</td><td>Good</td><td>0</td><td>0</td><td>0</td></tr><tr><td>329</td><td>M</td><td>U</td><td>4 yr Degree</td><td>2500</td><td>Good</td><td>0</td><td>0</td><td>0</td></tr><tr><td>330</td><td>F</td><td>U</td><td>4 yr Degree</td><td>2500</td><td>Good</td><td>0</td><td>0</td><td>0</td></tr><tr><td>331</td><td>M</td><td>M</td><td>Advanced Degree</td><td>2500</td><td>Good</td><td>0</td><td>0</td><td>0</td></tr><tr><td>332</td><td>F</td><td>M</td><td>Advanced Degree</td><td>2500</td><td>Good</td><td>0</td><td>0</td><td>0</td></tr><tr><td>333</td><td>M</td><td>S</td><td>Advanced Degree</td><td>2500</td><td>Good</td><td>0</td><td>0</td><td>0</td></tr><tr><td>334</td><td>F</td><td>S</td><td>Advanced Degree</td><td>2500</td><td>Good</td><td>0</td><td>0</td><td>0</td></tr><tr><td>335</td><td>M</td><td>D</td><td>Advanced Degree</td><td>2500</td><td>Good</td><td>0</td><td>0</td><td>0</td></tr><tr><td>336</td><td>F</td><td>D</td><td>Advanced Degree</td><td>2500</td><td>Good</td><td>0</td><td>0</td><td>0</td></tr><tr><td>337</td><td>M</td><td>W</td><td>Advanced Degree</td><td>2500</td><td>Good</td><td>0</td><td>0</td><td>0</td></tr><tr><td>338</td><td>F</td><td>W</td><td>Advanced Degree</td><td>2500</td><td>Good</td><td>0</td><td>0</td><td>0</td></tr><tr><td>339</td><td>M</td><td>U</td><td>Advanced Degree</td><td>2500</td><td>Good</td><td>0</td><td>0</td><td>0</td></tr><tr><td>340</td><td>F</td><td>U</td><td>Advanced Degree</td><td>2500</td><td>Good</td><td>0</td><td>0</td><td>0</td></tr><tr><td>341</td><td>M</td><td>M</td><td>Unknown</td><td>2500</td><td>Good</td><td>0</td><td>0</td><td>0</td></tr><tr><td>342</td><td>F</td><td>M</td><td>Unknown</td><td>2500</td><td>Good</td><td>0</td><td>0</td><td>0</td></tr><tr><td>343</td><td>M</td><td>S</td><td>Unknown</td><td>2500</td><td>Good</td><td>0</td><td>0</td><td>0</td></tr><tr><td>344</td><td>F</td><td>S</td><td>Unknown</td><td>2500</td><td>Good</td><td>0</td><td>0</td><td>0</td></tr><tr><td>345</td><td>M</td><td>D</td><td>Unknown</td><td>2500</td><td>Good</td><td>0</td><td>0</td><td>0</td></tr><tr><td>346</td><td>F</td><td>D</td><td>Unknown</td><td>2500</td><td>Good</td><td>0</td><td>0</td><td>0</td></tr><tr><td>347</td><td>M</td><td>W</td><td>Unknown</td><td>2500</td><td>Good</td><td>0</td><td>0</td><td>0</td></tr><tr><td>348</td><td>F</td><td>W</td><td>Unknown</td><td>2500</td><td>Good</td><td>0</td><td>0</td><td>0</td></tr><tr><td>349</td><td>M</td><td>U</td><td>Unknown</td><td>2500</td><td>Good</td><td>0</td><td>0</td><td>0</td></tr><tr><td>350</td><td>F</td><td>U</td><td>Unknown</td><td>2500</td><td>Good</td><td>0</td><td>0</td><td>0</td></tr><tr><td>351</td><td>M</td><td>M</td><td>Primary</td><td>3000</td><td>Good</td><td>0</td><td>0</td><td>0</td></tr><tr><td>352</td><td>F</td><td>M</td><td>Primary</td><td>3000</td><td>Good</td><td>0</td><td>0</td><td>0</td></tr><tr><td>353</td><td>M</td><td>S</td><td>Primary</td><td>3000</td><td>Good</td><td>0</td><td>0</td><td>0</td></tr><tr><td>354</td><td>F</td><td>S</td><td>Primary</td><td>3000</td><td>Good</td><td>0</td><td>0</td><td>0</td></tr><tr><td>355</td><td>M</td><td>D</td><td>Primary</td><td>3000</td><td>Good</td><td>0</td><td>0</td><td>0</td></tr><tr><td>356</td><td>F</td><td>D</td><td>Primary</td><td>3000</td><td>Good</td><td>0</td><td>0</td><td>0</td></tr><tr><td>357</td><td>M</td><td>W</td><td>Primary</td><td>3000</td><td>Good</td><td>0</td><td>0</td><td>0</td></tr><tr><td>358</td><td>F</td><td>W</td><td>Primary</td><td>3000</td><td>Good</td><td>0</td><td>0</td><td>0</td></tr><tr><td>359</td><td>M</td><td>U</td><td>Primary</td><td>3000</td><td>Good</td><td>0</td><td>0</td><td>0</td></tr><tr><td>360</td><td>F</td><td>U</td><td>Primary</td><td>3000</td><td>Good</td><td>0</td><td>0</td><td>0</td></tr><tr><td>361</td><td>M</td><td>M</td><td>Secondary</td><td>3000</td><td>Good</td><td>0</td><td>0</td><td>0</td></tr><tr><td>362</td><td>F</td><td>M</td><td>Secondary</td><td>3000</td><td>Good</td><td>0</td><td>0</td><td>0</td></tr><tr><td>363</td><td>M</td><td>S</td><td>Secondary</td><td>3000</td><td>Good</td><td>0</td><td>0</td><td>0</td></tr><tr><td>364</td><td>F</td><td>S</td><td>Secondary</td><td>3000</td><td>Good</td><td>0</td><td>0</td><td>0</td></tr><tr><td>365</td><td>M</td><td>D</td><td>Secondary</td><td>3000</td><td>Good</td><td>0</td><td>0</td><td>0</td></tr><tr><td>366</td><td>F</td><td>D</td><td>Secondary</td><td>3000</td><td>Good</td><td>0</td><td>0</td><td>0</td></tr><tr><td>367</td><td>M</td><td>W</td><td>Secondary</td><td>3000</td><td>Good</td><td>0</td><td>0</td><td>0</td></tr><tr><td>368</td><td>F</td><td>W</td><td>Secondary</td><td>3000</td><td>Good</td><td>0</td><td>0</td><td>0</td></tr><tr><td>369</td><td>M</td><td>U</td><td>Secondary</td><td>3000</td><td>Good</td><td>0</td><td>0</td><td>0</td></tr><tr><td>370</td><td>F</td><td>U</td><td>Secondary</td><td>3000</td><td>Good</td><td>0</td><td>0</td><td>0</td></tr><tr><td>371</td><td>M</td><td>M</td><td>College</td><td>3000</td><td>Good</td><td>0</td><td>0</td><td>0</td></tr><tr><td>372</td><td>F</td><td>M</td><td>College</td><td>3000</td><td>Good</td><td>0</td><td>0</td><td>0</td></tr><tr><td>373</td><td>M</td><td>S</td><td>College</td><td>3000</td><td>Good</td><td>0</td><td>0</td><td>0</td></tr><tr><td>374</td><td>F</td><td>S</td><td>College</td><td>3000</td><td>Good</td><td>0</td><td>0</td><td>0</td></tr><tr><td>375</td><td>M</td><td>D</td><td>College</td><td>3000</td><td>Good</td><td>0</td><td>0</td><td>0</td></tr><tr><td>376</td><td>F</td><td>D</td><td>College</td><td>3000</td><td>Good</td><td>0</td><td>0</td><td>0</td></tr><tr><td>377</td><td>M</td><td>W</td><td>College</td><td>3000</td><td>Good</td><td>0</td><td>0</td><td>0</td></tr><tr><td>378</td><td>F</td><td>W</td><td>College</td><td>3000</td><td>Good</td><td>0</td><td>0</td><td>0</td></tr><tr><td>379</td><td>M</td><td>U</td><td>College</td><td>3000</td><td>Good</td><td>0</td><td>0</td><td>0</td></tr><tr><td>380</td><td>F</td><td>U</td><td>College</td><td>3000</td><td>Good</td><td>0</td><td>0</td><td>0</td></tr><tr><td>381</td><td>M</td><td>M</td><td>2 yr Degree</td><td>3000</td><td>Good</td><td>0</td><td>0</td><td>0</td></tr><tr><td>382</td><td>F</td><td>M</td><td>2 yr Degree</td><td>3000</td><td>Good</td><td>0</td><td>0</td><td>0</td></tr><tr><td>383</td><td>M</td><td>S</td><td>2 yr Degree</td><td>3000</td><td>Good</td><td>0</td><td>0</td><td>0</td></tr><tr><td>384</td><td>F</td><td>S</td><td>2 yr Degree</td><td>3000</td><td>Good</td><td>0</td><td>0</td><td>0</td></tr><tr><td>385</td><td>M</td><td>D</td><td>2 yr Degree</td><td>3000</td><td>Good</td><td>0</td><td>0</td><td>0</td></tr><tr><td>386</td><td>F</td><td>D</td><td>2 yr Degree</td><td>3000</td><td>Good</td><td>0</td><td>0</td><td>0</td></tr><tr><td>387</td><td>M</td><td>W</td><td>2 yr Degree</td><td>3000</td><td>Good</td><td>0</td><td>0</td><td>0</td></tr><tr><td>388</td><td>F</td><td>W</td><td>2 yr Degree</td><td>3000</td><td>Good</td><td>0</td><td>0</td><td>0</td></tr><tr><td>389</td><td>M</td><td>U</td><td>2 yr Degree</td><td>3000</td><td>Good</td><td>0</td><td>0</td><td>0</td></tr><tr><td>390</td><td>F</td><td>U</td><td>2 yr Degree</td><td>3000</td><td>Good</td><td>0</td><td>0</td><td>0</td></tr><tr><td>391</td><td>M</td><td>M</td><td>4 yr Degree</td><td>3000</td><td>Good</td><td>0</td><td>0</td><td>0</td></tr><tr><td>392</td><td>F</td><td>M</td><td>4 yr Degree</td><td>3000</td><td>Good</td><td>0</td><td>0</td><td>0</td></tr><tr><td>393</td><td>M</td><td>S</td><td>4 yr Degree</td><td>3000</td><td>Good</td><td>0</td><td>0</td><td>0</td></tr><tr><td>394</td><td>F</td><td>S</td><td>4 yr Degree</td><td>3000</td><td>Good</td><td>0</td><td>0</td><td>0</td></tr><tr><td>395</td><td>M</td><td>D</td><td>4 yr Degree</td><td>3000</td><td>Good</td><td>0</td><td>0</td><td>0</td></tr><tr><td>396</td><td>F</td><td>D</td><td>4 yr Degree</td><td>3000</td><td>Good</td><td>0</td><td>0</td><td>0</td></tr><tr><td>397</td><td>M</td><td>W</td><td>4 yr Degree</td><td>3000</td><td>Good</td><td>0</td><td>0</td><td>0</td></tr><tr><td>398</td><td>F</td><td>W</td><td>4 yr Degree</td><td>3000</td><td>Good</td><td>0</td><td>0</td><td>0</td></tr><tr><td>399</td><td>M</td><td>U</td><td>4 yr Degree</td><td>3000</td><td>Good</td><td>0</td><td>0</td><td>0</td></tr><tr><td>400</td><td>F</td><td>U</td><td>4 yr Degree</td><td>3000</td><td>Good</td><td>0</td><td>0</td><td>0</td></tr><tr><td>401</td><td>M</td><td>M</td><td>Advanced Degree</td><td>3000</td><td>Good</td><td>0</td><td>0</td><td>0</td></tr><tr><td>402</td><td>F</td><td>M</td><td>Advanced Degree</td><td>3000</td><td>Good</td><td>0</td><td>0</td><td>0</td></tr><tr><td>403</td><td>M</td><td>S</td><td>Advanced Degree</td><td>3000</td><td>Good</td><td>0</td><td>0</td><td>0</td></tr><tr><td>404</td><td>F</td><td>S</td><td>Advanced Degree</td><td>3000</td><td>Good</td><td>0</td><td>0</td><td>0</td></tr><tr><td>405</td><td>M</td><td>D</td><td>Advanced Degree</td><td>3000</td><td>Good</td><td>0</td><td>0</td><td>0</td></tr><tr><td>406</td><td>F</td><td>D</td><td>Advanced Degree</td><td>3000</td><td>Good</td><td>0</td><td>0</td><td>0</td></tr><tr><td>407</td><td>M</td><td>W</td><td>Advanced Degree</td><td>3000</td><td>Good</td><td>0</td><td>0</td><td>0</td></tr><tr><td>408</td><td>F</td><td>W</td><td>Advanced Degree</td><td>3000</td><td>Good</td><td>0</td><td>0</td><td>0</td></tr><tr><td>409</td><td>M</td><td>U</td><td>Advanced Degree</td><td>3000</td><td>Good</td><td>0</td><td>0</td><td>0</td></tr><tr><td>410</td><td>F</td><td>U</td><td>Advanced Degree</td><td>3000</td><td>Good</td><td>0</td><td>0</td><td>0</td></tr><tr><td>411</td><td>M</td><td>M</td><td>Unknown</td><td>3000</td><td>Good</td><td>0</td><td>0</td><td>0</td></tr><tr><td>412</td><td>F</td><td>M</td><td>Unknown</td><td>3000</td><td>Good</td><td>0</td><td>0</td><td>0</td></tr><tr><td>413</td><td>M</td><td>S</td><td>Unknown</td><td>3000</td><td>Good</td><td>0</td><td>0</td><td>0</td></tr><tr><td>414</td><td>F</td><td>S</td><td>Unknown</td><td>3000</td><td>Good</td><td>0</td><td>0</td><td>0</td></tr><tr><td>415</td><td>M</td><td>D</td><td>Unknown</td><td>3000</td><td>Good</td><td>0</td><td>0</td><td>0</td></tr><tr><td>416</td><td>F</td><td>D</td><td>Unknown</td><td>3000</td><td>Good</td><td>0</td><td>0</td><td>0</td></tr><tr><td>417</td><td>M</td><td>W</td><td>Unknown</td><td>3000</td><td>Good</td><td>0</td><td>0</td><td>0</td></tr><tr><td>418</td><td>F</td><td>W</td><td>Unknown</td><td>3000</td><td>Good</td><td>0</td><td>0</td><td>0</td></tr><tr><td>419</td><td>M</td><td>U</td><td>Unknown</td><td>3000</td><td>Good</td><td>0</td><td>0</td><td>0</td></tr><tr><td>420</td><td>F</td><td>U</td><td>Unknown</td><td>3000</td><td>Good</td><td>0</td><td>0</td><td>0</td></tr><tr><td>421</td><td>M</td><td>M</td><td>Primary</td><td>3500</td><td>Good</td><td>0</td><td>0</td><td>0</td></tr><tr><td>422</td><td>F</td><td>M</td><td>Primary</td><td>3500</td><td>Good</td><td>0</td><td>0</td><td>0</td></tr><tr><td>423</td><td>M</td><td>S</td><td>Primary</td><td>3500</td><td>Good</td><td>0</td><td>0</td><td>0</td></tr><tr><td>424</td><td>F</td><td>S</td><td>Primary</td><td>3500</td><td>Good</td><td>0</td><td>0</td><td>0</td></tr><tr><td>425</td><td>M</td><td>D</td><td>Primary</td><td>3500</td><td>Good</td><td>0</td><td>0</td><td>0</td></tr><tr><td>426</td><td>F</td><td>D</td><td>Primary</td><td>3500</td><td>Good</td><td>0</td><td>0</td><td>0</td></tr><tr><td>427</td><td>M</td><td>W</td><td>Primary</td><td>3500</td><td>Good</td><td>0</td><td>0</td><td>0</td></tr><tr><td>428</td><td>F</td><td>W</td><td>Primary</td><td>3500</td><td>Good</td><td>0</td><td>0</td><td>0</td></tr><tr><td>429</td><td>M</td><td>U</td><td>Primary</td><td>3500</td><td>Good</td><td>0</td><td>0</td><td>0</td></tr><tr><td>430</td><td>F</td><td>U</td><td>Primary</td><td>3500</td><td>Good</td><td>0</td><td>0</td><td>0</td></tr><tr><td>431</td><td>M</td><td>M</td><td>Secondary</td><td>3500</td><td>Good</td><td>0</td><td>0</td><td>0</td></tr><tr><td>432</td><td>F</td><td>M</td><td>Secondary</td><td>3500</td><td>Good</td><td>0</td><td>0</td><td>0</td></tr><tr><td>433</td><td>M</td><td>S</td><td>Secondary</td><td>3500</td><td>Good</td><td>0</td><td>0</td><td>0</td></tr><tr><td>434</td><td>F</td><td>S</td><td>Secondary</td><td>3500</td><td>Good</td><td>0</td><td>0</td><td>0</td></tr><tr><td>435</td><td>M</td><td>D</td><td>Secondary</td><td>3500</td><td>Good</td><td>0</td><td>0</td><td>0</td></tr><tr><td>436</td><td>F</td><td>D</td><td>Secondary</td><td>3500</td><td>Good</td><td>0</td><td>0</td><td>0</td></tr><tr><td>437</td><td>M</td><td>W</td><td>Secondary</td><td>3500</td><td>Good</td><td>0</td><td>0</td><td>0</td></tr><tr><td>438</td><td>F</td><td>W</td><td>Secondary</td><td>3500</td><td>Good</td><td>0</td><td>0</td><td>0</td></tr><tr><td>439</td><td>M</td><td>U</td><td>Secondary</td><td>3500</td><td>Good</td><td>0</td><td>0</td><td>0</td></tr><tr><td>440</td><td>F</td><td>U</td><td>Secondary</td><td>3500</td><td>Good</td><td>0</td><td>0</td><td>0</td></tr><tr><td>441</td><td>M</td><td>M</td><td>College</td><td>3500</td><td>Good</td><td>0</td><td>0</td><td>0</td></tr><tr><td>442</td><td>F</td><td>M</td><td>College</td><td>3500</td><td>Good</td><td>0</td><td>0</td><td>0</td></tr><tr><td>443</td><td>M</td><td>S</td><td>College</td><td>3500</td><td>Good</td><td>0</td><td>0</td><td>0</td></tr><tr><td>444</td><td>F</td><td>S</td><td>College</td><td>3500</td><td>Good</td><td>0</td><td>0</td><td>0</td></tr><tr><td>445</td><td>M</td><td>D</td><td>College</td><td>3500</td><td>Good</td><td>0</td><td>0</td><td>0</td></tr><tr><td>446</td><td>F</td><td>D</td><td>College</td><td>3500</td><td>Good</td><td>0</td><td>0</td><td>0</td></tr><tr><td>447</td><td>M</td><td>W</td><td>College</td><td>3500</td><td>Good</td><td>0</td><td>0</td><td>0</td></tr><tr><td>448</td><td>F</td><td>W</td><td>College</td><td>3500</td><td>Good</td><td>0</td><td>0</td><td>0</td></tr><tr><td>449</td><td>M</td><td>U</td><td>College</td><td>3500</td><td>Good</td><td>0</td><td>0</td><td>0</td></tr><tr><td>450</td><td>F</td><td>U</td><td>College</td><td>3500</td><td>Good</td><td>0</td><td>0</td><td>0</td></tr><tr><td>451</td><td>M</td><td>M</td><td>2 yr Degree</td><td>3500</td><td>Good</td><td>0</td><td>0</td><td>0</td></tr><tr><td>452</td><td>F</td><td>M</td><td>2 yr Degree</td><td>3500</td><td>Good</td><td>0</td><td>0</td><td>0</td></tr><tr><td>453</td><td>M</td><td>S</td><td>2 yr Degree</td><td>3500</td><td>Good</td><td>0</td><td>0</td><td>0</td></tr><tr><td>454</td><td>F</td><td>S</td><td>2 yr Degree</td><td>3500</td><td>Good</td><td>0</td><td>0</td><td>0</td></tr><tr><td>455</td><td>M</td><td>D</td><td>2 yr Degree</td><td>3500</td><td>Good</td><td>0</td><td>0</td><td>0</td></tr><tr><td>456</td><td>F</td><td>D</td><td>2 yr Degree</td><td>3500</td><td>Good</td><td>0</td><td>0</td><td>0</td></tr><tr><td>457</td><td>M</td><td>W</td><td>2 yr Degree</td><td>3500</td><td>Good</td><td>0</td><td>0</td><td>0</td></tr><tr><td>458</td><td>F</td><td>W</td><td>2 yr Degree</td><td>3500</td><td>Good</td><td>0</td><td>0</td><td>0</td></tr><tr><td>459</td><td>M</td><td>U</td><td>2 yr Degree</td><td>3500</td><td>Good</td><td>0</td><td>0</td><td>0</td></tr><tr><td>460</td><td>F</td><td>U</td><td>2 yr Degree</td><td>3500</td><td>Good</td><td>0</td><td>0</td><td>0</td></tr><tr><td>461</td><td>M</td><td>M</td><td>4 yr Degree</td><td>3500</td><td>Good</td><td>0</td><td>0</td><td>0</td></tr><tr><td>462</td><td>F</td><td>M</td><td>4 yr Degree</td><td>3500</td><td>Good</td><td>0</td><td>0</td><td>0</td></tr><tr><td>463</td><td>M</td><td>S</td><td>4 yr Degree</td><td>3500</td><td>Good</td><td>0</td><td>0</td><td>0</td></tr><tr><td>464</td><td>F</td><td>S</td><td>4 yr Degree</td><td>3500</td><td>Good</td><td>0</td><td>0</td><td>0</td></tr><tr><td>465</td><td>M</td><td>D</td><td>4 yr Degree</td><td>3500</td><td>Good</td><td>0</td><td>0</td><td>0</td></tr><tr><td>466</td><td>F</td><td>D</td><td>4 yr Degree</td><td>3500</td><td>Good</td><td>0</td><td>0</td><td>0</td></tr><tr><td>467</td><td>M</td><td>W</td><td>4 yr Degree</td><td>3500</td><td>Good</td><td>0</td><td>0</td><td>0</td></tr><tr><td>468</td><td>F</td><td>W</td><td>4 yr Degree</td><td>3500</td><td>Good</td><td>0</td><td>0</td><td>0</td></tr><tr><td>469</td><td>M</td><td>U</td><td>4 yr Degree</td><td>3500</td><td>Good</td><td>0</td><td>0</td><td>0</td></tr><tr><td>470</td><td>F</td><td>U</td><td>4 yr Degree</td><td>3500</td><td>Good</td><td>0</td><td>0</td><td>0</td></tr><tr><td>471</td><td>M</td><td>M</td><td>Advanced Degree</td><td>3500</td><td>Good</td><td>0</td><td>0</td><td>0</td></tr><tr><td>472</td><td>F</td><td>M</td><td>Advanced Degree</td><td>3500</td><td>Good</td><td>0</td><td>0</td><td>0</td></tr><tr><td>473</td><td>M</td><td>S</td><td>Advanced Degree</td><td>3500</td><td>Good</td><td>0</td><td>0</td><td>0</td></tr><tr><td>474</td><td>F</td><td>S</td><td>Advanced Degree</td><td>3500</td><td>Good</td><td>0</td><td>0</td><td>0</td></tr><tr><td>475</td><td>M</td><td>D</td><td>Advanced Degree</td><td>3500</td><td>Good</td><td>0</td><td>0</td><td>0</td></tr><tr><td>476</td><td>F</td><td>D</td><td>Advanced Degree</td><td>3500</td><td>Good</td><td>0</td><td>0</td><td>0</td></tr><tr><td>477</td><td>M</td><td>W</td><td>Advanced Degree</td><td>3500</td><td>Good</td><td>0</td><td>0</td><td>0</td></tr><tr><td>478</td><td>F</td><td>W</td><td>Advanced Degree</td><td>3500</td><td>Good</td><td>0</td><td>0</td><td>0</td></tr><tr><td>479</td><td>M</td><td>U</td><td>Advanced Degree</td><td>3500</td><td>Good</td><td>0</td><td>0</td><td>0</td></tr><tr><td>480</td><td>F</td><td>U</td><td>Advanced Degree</td><td>3500</td><td>Good</td><td>0</td><td>0</td><td>0</td></tr><tr><td>481</td><td>M</td><td>M</td><td>Unknown</td><td>3500</td><td>Good</td><td>0</td><td>0</td><td>0</td></tr><tr><td>482</td><td>F</td><td>M</td><td>Unknown</td><td>3500</td><td>Good</td><td>0</td><td>0</td><td>0</td></tr><tr><td>483</td><td>M</td><td>S</td><td>Unknown</td><td>3500</td><td>Good</td><td>0</td><td>0</td><td>0</td></tr><tr><td>484</td><td>F</td><td>S</td><td>Unknown</td><td>3500</td><td>Good</td><td>0</td><td>0</td><td>0</td></tr><tr><td>485</td><td>M</td><td>D</td><td>Unknown</td><td>3500</td><td>Good</td><td>0</td><td>0</td><td>0</td></tr><tr><td>486</td><td>F</td><td>D</td><td>Unknown</td><td>3500</td><td>Good</td><td>0</td><td>0</td><td>0</td></tr><tr><td>487</td><td>M</td><td>W</td><td>Unknown</td><td>3500</td><td>Good</td><td>0</td><td>0</td><td>0</td></tr><tr><td>488</td><td>F</td><td>W</td><td>Unknown</td><td>3500</td><td>Good</td><td>0</td><td>0</td><td>0</td></tr><tr><td>489</td><td>M</td><td>U</td><td>Unknown</td><td>3500</td><td>Good</td><td>0</td><td>0</td><td>0</td></tr><tr><td>490</td><td>F</td><td>U</td><td>Unknown</td><td>3500</td><td>Good</td><td>0</td><td>0</td><td>0</td></tr><tr><td>491</td><td>M</td><td>M</td><td>Primary</td><td>4000</td><td>Good</td><td>0</td><td>0</td><td>0</td></tr><tr><td>492</td><td>F</td><td>M</td><td>Primary</td><td>4000</td><td>Good</td><td>0</td><td>0</td><td>0</td></tr><tr><td>493</td><td>M</td><td>S</td><td>Primary</td><td>4000</td><td>Good</td><td>0</td><td>0</td><td>0</td></tr><tr><td>494</td><td>F</td><td>S</td><td>Primary</td><td>4000</td><td>Good</td><td>0</td><td>0</td><td>0</td></tr><tr><td>495</td><td>M</td><td>D</td><td>Primary</td><td>4000</td><td>Good</td><td>0</td><td>0</td><td>0</td></tr><tr><td>496</td><td>F</td><td>D</td><td>Primary</td><td>4000</td><td>Good</td><td>0</td><td>0</td><td>0</td></tr><tr><td>497</td><td>M</td><td>W</td><td>Primary</td><td>4000</td><td>Good</td><td>0</td><td>0</td><td>0</td></tr><tr><td>498</td><td>F</td><td>W</td><td>Primary</td><td>4000</td><td>Good</td><td>0</td><td>0</td><td>0</td></tr><tr><td>499</td><td>M</td><td>U</td><td>Primary</td><td>4000</td><td>Good</td><td>0</td><td>0</td><td>0</td></tr><tr><td>500</td><td>F</td><td>U</td><td>Primary</td><td>4000</td><td>Good</td><td>0</td><td>0</td><td>0</td></tr><tr><td>501</td><td>M</td><td>M</td><td>Secondary</td><td>4000</td><td>Good</td><td>0</td><td>0</td><td>0</td></tr><tr><td>502</td><td>F</td><td>M</td><td>Secondary</td><td>4000</td><td>Good</td><td>0</td><td>0</td><td>0</td></tr><tr><td>503</td><td>M</td><td>S</td><td>Secondary</td><td>4000</td><td>Good</td><td>0</td><td>0</td><td>0</td></tr><tr><td>504</td><td>F</td><td>S</td><td>Secondary</td><td>4000</td><td>Good</td><td>0</td><td>0</td><td>0</td></tr><tr><td>505</td><td>M</td><td>D</td><td>Secondary</td><td>4000</td><td>Good</td><td>0</td><td>0</td><td>0</td></tr><tr><td>506</td><td>F</td><td>D</td><td>Secondary</td><td>4000</td><td>Good</td><td>0</td><td>0</td><td>0</td></tr><tr><td>507</td><td>M</td><td>W</td><td>Secondary</td><td>4000</td><td>Good</td><td>0</td><td>0</td><td>0</td></tr><tr><td>508</td><td>F</td><td>W</td><td>Secondary</td><td>4000</td><td>Good</td><td>0</td><td>0</td><td>0</td></tr><tr><td>509</td><td>M</td><td>U</td><td>Secondary</td><td>4000</td><td>Good</td><td>0</td><td>0</td><td>0</td></tr><tr><td>510</td><td>F</td><td>U</td><td>Secondary</td><td>4000</td><td>Good</td><td>0</td><td>0</td><td>0</td></tr><tr><td>511</td><td>M</td><td>M</td><td>College</td><td>4000</td><td>Good</td><td>0</td><td>0</td><td>0</td></tr><tr><td>512</td><td>F</td><td>M</td><td>College</td><td>4000</td><td>Good</td><td>0</td><td>0</td><td>0</td></tr><tr><td>513</td><td>M</td><td>S</td><td>College</td><td>4000</td><td>Good</td><td>0</td><td>0</td><td>0</td></tr><tr><td>514</td><td>F</td><td>S</td><td>College</td><td>4000</td><td>Good</td><td>0</td><td>0</td><td>0</td></tr><tr><td>515</td><td>M</td><td>D</td><td>College</td><td>4000</td><td>Good</td><td>0</td><td>0</td><td>0</td></tr><tr><td>516</td><td>F</td><td>D</td><td>College</td><td>4000</td><td>Good</td><td>0</td><td>0</td><td>0</td></tr><tr><td>517</td><td>M</td><td>W</td><td>College</td><td>4000</td><td>Good</td><td>0</td><td>0</td><td>0</td></tr><tr><td>518</td><td>F</td><td>W</td><td>College</td><td>4000</td><td>Good</td><td>0</td><td>0</td><td>0</td></tr><tr><td>519</td><td>M</td><td>U</td><td>College</td><td>4000</td><td>Good</td><td>0</td><td>0</td><td>0</td></tr><tr><td>520</td><td>F</td><td>U</td><td>College</td><td>4000</td><td>Good</td><td>0</td><td>0</td><td>0</td></tr><tr><td>521</td><td>M</td><td>M</td><td>2 yr Degree</td><td>4000</td><td>Good</td><td>0</td><td>0</td><td>0</td></tr><tr><td>522</td><td>F</td><td>M</td><td>2 yr Degree</td><td>4000</td><td>Good</td><td>0</td><td>0</td><td>0</td></tr><tr><td>523</td><td>M</td><td>S</td><td>2 yr Degree</td><td>4000</td><td>Good</td><td>0</td><td>0</td><td>0</td></tr><tr><td>524</td><td>F</td><td>S</td><td>2 yr Degree</td><td>4000</td><td>Good</td><td>0</td><td>0</td><td>0</td></tr><tr><td>525</td><td>M</td><td>D</td><td>2 yr Degree</td><td>4000</td><td>Good</td><td>0</td><td>0</td><td>0</td></tr><tr><td>526</td><td>F</td><td>D</td><td>2 yr Degree</td><td>4000</td><td>Good</td><td>0</td><td>0</td><td>0</td></tr><tr><td>527</td><td>M</td><td>W</td><td>2 yr Degree</td><td>4000</td><td>Good</td><td>0</td><td>0</td><td>0</td></tr><tr><td>528</td><td>F</td><td>W</td><td>2 yr Degree</td><td>4000</td><td>Good</td><td>0</td><td>0</td><td>0</td></tr><tr><td>529</td><td>M</td><td>U</td><td>2 yr Degree</td><td>4000</td><td>Good</td><td>0</td><td>0</td><td>0</td></tr><tr><td>530</td><td>F</td><td>U</td><td>2 yr Degree</td><td>4000</td><td>Good</td><td>0</td><td>0</td><td>0</td></tr><tr><td>531</td><td>M</td><td>M</td><td>4 yr Degree</td><td>4000</td><td>Good</td><td>0</td><td>0</td><td>0</td></tr><tr><td>532</td><td>F</td><td>M</td><td>4 yr Degree</td><td>4000</td><td>Good</td><td>0</td><td>0</td><td>0</td></tr><tr><td>533</td><td>M</td><td>S</td><td>4 yr Degree</td><td>4000</td><td>Good</td><td>0</td><td>0</td><td>0</td></tr><tr><td>534</td><td>F</td><td>S</td><td>4 yr Degree</td><td>4000</td><td>Good</td><td>0</td><td>0</td><td>0</td></tr><tr><td>535</td><td>M</td><td>D</td><td>4 yr Degree</td><td>4000</td><td>Good</td><td>0</td><td>0</td><td>0</td></tr><tr><td>536</td><td>F</td><td>D</td><td>4 yr Degree</td><td>4000</td><td>Good</td><td>0</td><td>0</td><td>0</td></tr><tr><td>537</td><td>M</td><td>W</td><td>4 yr Degree</td><td>4000</td><td>Good</td><td>0</td><td>0</td><td>0</td></tr><tr><td>538</td><td>F</td><td>W</td><td>4 yr Degree</td><td>4000</td><td>Good</td><td>0</td><td>0</td><td>0</td></tr><tr><td>539</td><td>M</td><td>U</td><td>4 yr Degree</td><td>4000</td><td>Good</td><td>0</td><td>0</td><td>0</td></tr><tr><td>540</td><td>F</td><td>U</td><td>4 yr Degree</td><td>4000</td><td>Good</td><td>0</td><td>0</td><td>0</td></tr><tr><td>541</td><td>M</td><td>M</td><td>Advanced Degree</td><td>4000</td><td>Good</td><td>0</td><td>0</td><td>0</td></tr><tr><td>542</td><td>F</td><td>M</td><td>Advanced Degree</td><td>4000</td><td>Good</td><td>0</td><td>0</td><td>0</td></tr><tr><td>543</td><td>M</td><td>S</td><td>Advanced Degree</td><td>4000</td><td>Good</td><td>0</td><td>0</td><td>0</td></tr><tr><td>544</td><td>F</td><td>S</td><td>Advanced Degree</td><td>4000</td><td>Good</td><td>0</td><td>0</td><td>0</td></tr><tr><td>545</td><td>M</td><td>D</td><td>Advanced Degree</td><td>4000</td><td>Good</td><td>0</td><td>0</td><td>0</td></tr><tr><td>546</td><td>F</td><td>D</td><td>Advanced Degree</td><td>4000</td><td>Good</td><td>0</td><td>0</td><td>0</td></tr><tr><td>547</td><td>M</td><td>W</td><td>Advanced Degree</td><td>4000</td><td>Good</td><td>0</td><td>0</td><td>0</td></tr><tr><td>548</td><td>F</td><td>W</td><td>Advanced Degree</td><td>4000</td><td>Good</td><td>0</td><td>0</td><td>0</td></tr><tr><td>549</td><td>M</td><td>U</td><td>Advanced Degree</td><td>4000</td><td>Good</td><td>0</td><td>0</td><td>0</td></tr><tr><td>550</td><td>F</td><td>U</td><td>Advanced Degree</td><td>4000</td><td>Good</td><td>0</td><td>0</td><td>0</td></tr><tr><td>551</td><td>M</td><td>M</td><td>Unknown</td><td>4000</td><td>Good</td><td>0</td><td>0</td><td>0</td></tr><tr><td>552</td><td>F</td><td>M</td><td>Unknown</td><td>4000</td><td>Good</td><td>0</td><td>0</td><td>0</td></tr><tr><td>553</td><td>M</td><td>S</td><td>Unknown</td><td>4000</td><td>Good</td><td>0</td><td>0</td><td>0</td></tr><tr><td>554</td><td>F</td><td>S</td><td>Unknown</td><td>4000</td><td>Good</td><td>0</td><td>0</td><td>0</td></tr><tr><td>555</td><td>M</td><td>D</td><td>Unknown</td><td>4000</td><td>Good</td><td>0</td><td>0</td><td>0</td></tr><tr><td>556</td><td>F</td><td>D</td><td>Unknown</td><td>4000</td><td>Good</td><td>0</td><td>0</td><td>0</td></tr><tr><td>557</td><td>M</td><td>W</td><td>Unknown</td><td>4000</td><td>Good</td><td>0</td><td>0</td><td>0</td></tr><tr><td>558</td><td>F</td><td>W</td><td>Unknown</td><td>4000</td><td>Good</td><td>0</td><td>0</td><td>0</td></tr><tr><td>559</td><td>M</td><td>U</td><td>Unknown</td><td>4000</td><td>Good</td><td>0</td><td>0</td><td>0</td></tr><tr><td>560</td><td>F</td><td>U</td><td>Unknown</td><td>4000</td><td>Good</td><td>0</td><td>0</td><td>0</td></tr><tr><td>561</td><td>M</td><td>M</td><td>Primary</td><td>4500</td><td>Good</td><td>0</td><td>0</td><td>0</td></tr><tr><td>562</td><td>F</td><td>M</td><td>Primary</td><td>4500</td><td>Good</td><td>0</td><td>0</td><td>0</td></tr><tr><td>563</td><td>M</td><td>S</td><td>Primary</td><td>4500</td><td>Good</td><td>0</td><td>0</td><td>0</td></tr><tr><td>564</td><td>F</td><td>S</td><td>Primary</td><td>4500</td><td>Good</td><td>0</td><td>0</td><td>0</td></tr><tr><td>565</td><td>M</td><td>D</td><td>Primary</td><td>4500</td><td>Good</td><td>0</td><td>0</td><td>0</td></tr><tr><td>566</td><td>F</td><td>D</td><td>Primary</td><td>4500</td><td>Good</td><td>0</td><td>0</td><td>0</td></tr><tr><td>567</td><td>M</td><td>W</td><td>Primary</td><td>4500</td><td>Good</td><td>0</td><td>0</td><td>0</td></tr><tr><td>568</td><td>F</td><td>W</td><td>Primary</td><td>4500</td><td>Good</td><td>0</td><td>0</td><td>0</td></tr><tr><td>569</td><td>M</td><td>U</td><td>Primary</td><td>4500</td><td>Good</td><td>0</td><td>0</td><td>0</td></tr><tr><td>570</td><td>F</td><td>U</td><td>Primary</td><td>4500</td><td>Good</td><td>0</td><td>0</td><td>0</td></tr><tr><td>571</td><td>M</td><td>M</td><td>Secondary</td><td>4500</td><td>Good</td><td>0</td><td>0</td><td>0</td></tr><tr><td>572</td><td>F</td><td>M</td><td>Secondary</td><td>4500</td><td>Good</td><td>0</td><td>0</td><td>0</td></tr><tr><td>573</td><td>M</td><td>S</td><td>Secondary</td><td>4500</td><td>Good</td><td>0</td><td>0</td><td>0</td></tr><tr><td>574</td><td>F</td><td>S</td><td>Secondary</td><td>4500</td><td>Good</td><td>0</td><td>0</td><td>0</td></tr><tr><td>575</td><td>M</td><td>D</td><td>Secondary</td><td>4500</td><td>Good</td><td>0</td><td>0</td><td>0</td></tr><tr><td>576</td><td>F</td><td>D</td><td>Secondary</td><td>4500</td><td>Good</td><td>0</td><td>0</td><td>0</td></tr><tr><td>577</td><td>M</td><td>W</td><td>Secondary</td><td>4500</td><td>Good</td><td>0</td><td>0</td><td>0</td></tr><tr><td>578</td><td>F</td><td>W</td><td>Secondary</td><td>4500</td><td>Good</td><td>0</td><td>0</td><td>0</td></tr><tr><td>579</td><td>M</td><td>U</td><td>Secondary</td><td>4500</td><td>Good</td><td>0</td><td>0</td><td>0</td></tr><tr><td>580</td><td>F</td><td>U</td><td>Secondary</td><td>4500</td><td>Good</td><td>0</td><td>0</td><td>0</td></tr><tr><td>581</td><td>M</td><td>M</td><td>College</td><td>4500</td><td>Good</td><td>0</td><td>0</td><td>0</td></tr><tr><td>582</td><td>F</td><td>M</td><td>College</td><td>4500</td><td>Good</td><td>0</td><td>0</td><td>0</td></tr><tr><td>583</td><td>M</td><td>S</td><td>College</td><td>4500</td><td>Good</td><td>0</td><td>0</td><td>0</td></tr><tr><td>584</td><td>F</td><td>S</td><td>College</td><td>4500</td><td>Good</td><td>0</td><td>0</td><td>0</td></tr><tr><td>585</td><td>M</td><td>D</td><td>College</td><td>4500</td><td>Good</td><td>0</td><td>0</td><td>0</td></tr><tr><td>586</td><td>F</td><td>D</td><td>College</td><td>4500</td><td>Good</td><td>0</td><td>0</td><td>0</td></tr><tr><td>587</td><td>M</td><td>W</td><td>College</td><td>4500</td><td>Good</td><td>0</td><td>0</td><td>0</td></tr><tr><td>588</td><td>F</td><td>W</td><td>College</td><td>4500</td><td>Good</td><td>0</td><td>0</td><td>0</td></tr><tr><td>589</td><td>M</td><td>U</td><td>College</td><td>4500</td><td>Good</td><td>0</td><td>0</td><td>0</td></tr><tr><td>590</td><td>F</td><td>U</td><td>College</td><td>4500</td><td>Good</td><td>0</td><td>0</td><td>0</td></tr><tr><td>591</td><td>M</td><td>M</td><td>2 yr Degree</td><td>4500</td><td>Good</td><td>0</td><td>0</td><td>0</td></tr><tr><td>592</td><td>F</td><td>M</td><td>2 yr Degree</td><td>4500</td><td>Good</td><td>0</td><td>0</td><td>0</td></tr><tr><td>593</td><td>M</td><td>S</td><td>2 yr Degree</td><td>4500</td><td>Good</td><td>0</td><td>0</td><td>0</td></tr><tr><td>594</td><td>F</td><td>S</td><td>2 yr Degree</td><td>4500</td><td>Good</td><td>0</td><td>0</td><td>0</td></tr><tr><td>595</td><td>M</td><td>D</td><td>2 yr Degree</td><td>4500</td><td>Good</td><td>0</td><td>0</td><td>0</td></tr><tr><td>596</td><td>F</td><td>D</td><td>2 yr Degree</td><td>4500</td><td>Good</td><td>0</td><td>0</td><td>0</td></tr><tr><td>597</td><td>M</td><td>W</td><td>2 yr Degree</td><td>4500</td><td>Good</td><td>0</td><td>0</td><td>0</td></tr><tr><td>598</td><td>F</td><td>W</td><td>2 yr Degree</td><td>4500</td><td>Good</td><td>0</td><td>0</td><td>0</td></tr><tr><td>599</td><td>M</td><td>U</td><td>2 yr Degree</td><td>4500</td><td>Good</td><td>0</td><td>0</td><td>0</td></tr><tr><td>600</td><td>F</td><td>U</td><td>2 yr Degree</td><td>4500</td><td>Good</td><td>0</td><td>0</td><td>0</td></tr><tr><td>601</td><td>M</td><td>M</td><td>4 yr Degree</td><td>4500</td><td>Good</td><td>0</td><td>0</td><td>0</td></tr><tr><td>602</td><td>F</td><td>M</td><td>4 yr Degree</td><td>4500</td><td>Good</td><td>0</td><td>0</td><td>0</td></tr><tr><td>603</td><td>M</td><td>S</td><td>4 yr Degree</td><td>4500</td><td>Good</td><td>0</td><td>0</td><td>0</td></tr><tr><td>604</td><td>F</td><td>S</td><td>4 yr Degree</td><td>4500</td><td>Good</td><td>0</td><td>0</td><td>0</td></tr><tr><td>605</td><td>M</td><td>D</td><td>4 yr Degree</td><td>4500</td><td>Good</td><td>0</td><td>0</td><td>0</td></tr><tr><td>606</td><td>F</td><td>D</td><td>4 yr Degree</td><td>4500</td><td>Good</td><td>0</td><td>0</td><td>0</td></tr><tr><td>607</td><td>M</td><td>W</td><td>4 yr Degree</td><td>4500</td><td>Good</td><td>0</td><td>0</td><td>0</td></tr><tr><td>608</td><td>F</td><td>W</td><td>4 yr Degree</td><td>4500</td><td>Good</td><td>0</td><td>0</td><td>0</td></tr><tr><td>609</td><td>M</td><td>U</td><td>4 yr Degree</td><td>4500</td><td>Good</td><td>0</td><td>0</td><td>0</td></tr><tr><td>610</td><td>F</td><td>U</td><td>4 yr Degree</td><td>4500</td><td>Good</td><td>0</td><td>0</td><td>0</td></tr><tr><td>611</td><td>M</td><td>M</td><td>Advanced Degree</td><td>4500</td><td>Good</td><td>0</td><td>0</td><td>0</td></tr><tr><td>612</td><td>F</td><td>M</td><td>Advanced Degree</td><td>4500</td><td>Good</td><td>0</td><td>0</td><td>0</td></tr><tr><td>613</td><td>M</td><td>S</td><td>Advanced Degree</td><td>4500</td><td>Good</td><td>0</td><td>0</td><td>0</td></tr><tr><td>614</td><td>F</td><td>S</td><td>Advanced Degree</td><td>4500</td><td>Good</td><td>0</td><td>0</td><td>0</td></tr><tr><td>615</td><td>M</td><td>D</td><td>Advanced Degree</td><td>4500</td><td>Good</td><td>0</td><td>0</td><td>0</td></tr><tr><td>616</td><td>F</td><td>D</td><td>Advanced Degree</td><td>4500</td><td>Good</td><td>0</td><td>0</td><td>0</td></tr><tr><td>617</td><td>M</td><td>W</td><td>Advanced Degree</td><td>4500</td><td>Good</td><td>0</td><td>0</td><td>0</td></tr><tr><td>618</td><td>F</td><td>W</td><td>Advanced Degree</td><td>4500</td><td>Good</td><td>0</td><td>0</td><td>0</td></tr><tr><td>619</td><td>M</td><td>U</td><td>Advanced Degree</td><td>4500</td><td>Good</td><td>0</td><td>0</td><td>0</td></tr><tr><td>620</td><td>F</td><td>U</td><td>Advanced Degree</td><td>4500</td><td>Good</td><td>0</td><td>0</td><td>0</td></tr><tr><td>621</td><td>M</td><td>M</td><td>Unknown</td><td>4500</td><td>Good</td><td>0</td><td>0</td><td>0</td></tr><tr><td>622</td><td>F</td><td>M</td><td>Unknown</td><td>4500</td><td>Good</td><td>0</td><td>0</td><td>0</td></tr><tr><td>623</td><td>M</td><td>S</td><td>Unknown</td><td>4500</td><td>Good</td><td>0</td><td>0</td><td>0</td></tr><tr><td>624</td><td>F</td><td>S</td><td>Unknown</td><td>4500</td><td>Good</td><td>0</td><td>0</td><td>0</td></tr><tr><td>625</td><td>M</td><td>D</td><td>Unknown</td><td>4500</td><td>Good</td><td>0</td><td>0</td><td>0</td></tr><tr><td>626</td><td>F</td><td>D</td><td>Unknown</td><td>4500</td><td>Good</td><td>0</td><td>0</td><td>0</td></tr><tr><td>627</td><td>M</td><td>W</td><td>Unknown</td><td>4500</td><td>Good</td><td>0</td><td>0</td><td>0</td></tr><tr><td>628</td><td>F</td><td>W</td><td>Unknown</td><td>4500</td><td>Good</td><td>0</td><td>0</td><td>0</td></tr><tr><td>629</td><td>M</td><td>U</td><td>Unknown</td><td>4500</td><td>Good</td><td>0</td><td>0</td><td>0</td></tr><tr><td>630</td><td>F</td><td>U</td><td>Unknown</td><td>4500</td><td>Good</td><td>0</td><td>0</td><td>0</td></tr><tr><td>631</td><td>M</td><td>M</td><td>Primary</td><td>5000</td><td>Good</td><td>0</td><td>0</td><td>0</td></tr><tr><td>632</td><td>F</td><td>M</td><td>Primary</td><td>5000</td><td>Good</td><td>0</td><td>0</td><td>0</td></tr><tr><td>633</td><td>M</td><td>S</td><td>Primary</td><td>5000</td><td>Good</td><td>0</td><td>0</td><td>0</td></tr><tr><td>634</td><td>F</td><td>S</td><td>Primary</td><td>5000</td><td>Good</td><td>0</td><td>0</td><td>0</td></tr><tr><td>635</td><td>M</td><td>D</td><td>Primary</td><td>5000</td><td>Good</td><td>0</td><td>0</td><td>0</td></tr><tr><td>636</td><td>F</td><td>D</td><td>Primary</td><td>5000</td><td>Good</td><td>0</td><td>0</td><td>0</td></tr><tr><td>637</td><td>M</td><td>W</td><td>Primary</td><td>5000</td><td>Good</td><td>0</td><td>0</td><td>0</td></tr><tr><td>638</td><td>F</td><td>W</td><td>Primary</td><td>5000</td><td>Good</td><td>0</td><td>0</td><td>0</td></tr><tr><td>639</td><td>M</td><td>U</td><td>Primary</td><td>5000</td><td>Good</td><td>0</td><td>0</td><td>0</td></tr><tr><td>640</td><td>F</td><td>U</td><td>Primary</td><td>5000</td><td>Good</td><td>0</td><td>0</td><td>0</td></tr><tr><td>641</td><td>M</td><td>M</td><td>Secondary</td><td>5000</td><td>Good</td><td>0</td><td>0</td><td>0</td></tr><tr><td>642</td><td>F</td><td>M</td><td>Secondary</td><td>5000</td><td>Good</td><td>0</td><td>0</td><td>0</td></tr><tr><td>643</td><td>M</td><td>S</td><td>Secondary</td><td>5000</td><td>Good</td><td>0</td><td>0</td><td>0</td></tr><tr><td>644</td><td>F</td><td>S</td><td>Secondary</td><td>5000</td><td>Good</td><td>0</td><td>0</td><td>0</td></tr><tr><td>645</td><td>M</td><td>D</td><td>Secondary</td><td>5000</td><td>Good</td><td>0</td><td>0</td><td>0</td></tr><tr><td>646</td><td>F</td><td>D</td><td>Secondary</td><td>5000</td><td>Good</td><td>0</td><td>0</td><td>0</td></tr><tr><td>647</td><td>M</td><td>W</td><td>Secondary</td><td>5000</td><td>Good</td><td>0</td><td>0</td><td>0</td></tr><tr><td>648</td><td>F</td><td>W</td><td>Secondary</td><td>5000</td><td>Good</td><td>0</td><td>0</td><td>0</td></tr><tr><td>649</td><td>M</td><td>U</td><td>Secondary</td><td>5000</td><td>Good</td><td>0</td><td>0</td><td>0</td></tr><tr><td>650</td><td>F</td><td>U</td><td>Secondary</td><td>5000</td><td>Good</td><td>0</td><td>0</td><td>0</td></tr><tr><td>651</td><td>M</td><td>M</td><td>College</td><td>5000</td><td>Good</td><td>0</td><td>0</td><td>0</td></tr><tr><td>652</td><td>F</td><td>M</td><td>College</td><td>5000</td><td>Good</td><td>0</td><td>0</td><td>0</td></tr><tr><td>653</td><td>M</td><td>S</td><td>College</td><td>5000</td><td>Good</td><td>0</td><td>0</td><td>0</td></tr><tr><td>654</td><td>F</td><td>S</td><td>College</td><td>5000</td><td>Good</td><td>0</td><td>0</td><td>0</td></tr><tr><td>655</td><td>M</td><td>D</td><td>College</td><td>5000</td><td>Good</td><td>0</td><td>0</td><td>0</td></tr><tr><td>656</td><td>F</td><td>D</td><td>College</td><td>5000</td><td>Good</td><td>0</td><td>0</td><td>0</td></tr><tr><td>657</td><td>M</td><td>W</td><td>College</td><td>5000</td><td>Good</td><td>0</td><td>0</td><td>0</td></tr><tr><td>658</td><td>F</td><td>W</td><td>College</td><td>5000</td><td>Good</td><td>0</td><td>0</td><td>0</td></tr><tr><td>659</td><td>M</td><td>U</td><td>College</td><td>5000</td><td>Good</td><td>0</td><td>0</td><td>0</td></tr><tr><td>660</td><td>F</td><td>U</td><td>College</td><td>5000</td><td>Good</td><td>0</td><td>0</td><td>0</td></tr><tr><td>661</td><td>M</td><td>M</td><td>2 yr Degree</td><td>5000</td><td>Good</td><td>0</td><td>0</td><td>0</td></tr><tr><td>662</td><td>F</td><td>M</td><td>2 yr Degree</td><td>5000</td><td>Good</td><td>0</td><td>0</td><td>0</td></tr><tr><td>663</td><td>M</td><td>S</td><td>2 yr Degree</td><td>5000</td><td>Good</td><td>0</td><td>0</td><td>0</td></tr><tr><td>664</td><td>F</td><td>S</td><td>2 yr Degree</td><td>5000</td><td>Good</td><td>0</td><td>0</td><td>0</td></tr><tr><td>665</td><td>M</td><td>D</td><td>2 yr Degree</td><td>5000</td><td>Good</td><td>0</td><td>0</td><td>0</td></tr><tr><td>666</td><td>F</td><td>D</td><td>2 yr Degree</td><td>5000</td><td>Good</td><td>0</td><td>0</td><td>0</td></tr><tr><td>667</td><td>M</td><td>W</td><td>2 yr Degree</td><td>5000</td><td>Good</td><td>0</td><td>0</td><td>0</td></tr><tr><td>668</td><td>F</td><td>W</td><td>2 yr Degree</td><td>5000</td><td>Good</td><td>0</td><td>0</td><td>0</td></tr><tr><td>669</td><td>M</td><td>U</td><td>2 yr Degree</td><td>5000</td><td>Good</td><td>0</td><td>0</td><td>0</td></tr><tr><td>670</td><td>F</td><td>U</td><td>2 yr Degree</td><td>5000</td><td>Good</td><td>0</td><td>0</td><td>0</td></tr><tr><td>671</td><td>M</td><td>M</td><td>4 yr Degree</td><td>5000</td><td>Good</td><td>0</td><td>0</td><td>0</td></tr><tr><td>672</td><td>F</td><td>M</td><td>4 yr Degree</td><td>5000</td><td>Good</td><td>0</td><td>0</td><td>0</td></tr><tr><td>673</td><td>M</td><td>S</td><td>4 yr Degree</td><td>5000</td><td>Good</td><td>0</td><td>0</td><td>0</td></tr><tr><td>674</td><td>F</td><td>S</td><td>4 yr Degree</td><td>5000</td><td>Good</td><td>0</td><td>0</td><td>0</td></tr><tr><td>675</td><td>M</td><td>D</td><td>4 yr Degree</td><td>5000</td><td>Good</td><td>0</td><td>0</td><td>0</td></tr><tr><td>676</td><td>F</td><td>D</td><td>4 yr Degree</td><td>5000</td><td>Good</td><td>0</td><td>0</td><td>0</td></tr><tr><td>677</td><td>M</td><td>W</td><td>4 yr Degree</td><td>5000</td><td>Good</td><td>0</td><td>0</td><td>0</td></tr><tr><td>678</td><td>F</td><td>W</td><td>4 yr Degree</td><td>5000</td><td>Good</td><td>0</td><td>0</td><td>0</td></tr><tr><td>679</td><td>M</td><td>U</td><td>4 yr Degree</td><td>5000</td><td>Good</td><td>0</td><td>0</td><td>0</td></tr><tr><td>680</td><td>F</td><td>U</td><td>4 yr Degree</td><td>5000</td><td>Good</td><td>0</td><td>0</td><td>0</td></tr><tr><td>681</td><td>M</td><td>M</td><td>Advanced Degree</td><td>5000</td><td>Good</td><td>0</td><td>0</td><td>0</td></tr><tr><td>682</td><td>F</td><td>M</td><td>Advanced Degree</td><td>5000</td><td>Good</td><td>0</td><td>0</td><td>0</td></tr><tr><td>683</td><td>M</td><td>S</td><td>Advanced Degree</td><td>5000</td><td>Good</td><td>0</td><td>0</td><td>0</td></tr><tr><td>684</td><td>F</td><td>S</td><td>Advanced Degree</td><td>5000</td><td>Good</td><td>0</td><td>0</td><td>0</td></tr><tr><td>685</td><td>M</td><td>D</td><td>Advanced Degree</td><td>5000</td><td>Good</td><td>0</td><td>0</td><td>0</td></tr><tr><td>686</td><td>F</td><td>D</td><td>Advanced Degree</td><td>5000</td><td>Good</td><td>0</td><td>0</td><td>0</td></tr><tr><td>687</td><td>M</td><td>W</td><td>Advanced Degree</td><td>5000</td><td>Good</td><td>0</td><td>0</td><td>0</td></tr><tr><td>688</td><td>F</td><td>W</td><td>Advanced Degree</td><td>5000</td><td>Good</td><td>0</td><td>0</td><td>0</td></tr><tr><td>689</td><td>M</td><td>U</td><td>Advanced Degree</td><td>5000</td><td>Good</td><td>0</td><td>0</td><td>0</td></tr><tr><td>690</td><td>F</td><td>U</td><td>Advanced Degree</td><td>5000</td><td>Good</td><td>0</td><td>0</td><td>0</td></tr><tr><td>691</td><td>M</td><td>M</td><td>Unknown</td><td>5000</td><td>Good</td><td>0</td><td>0</td><td>0</td></tr><tr><td>692</td><td>F</td><td>M</td><td>Unknown</td><td>5000</td><td>Good</td><td>0</td><td>0</td><td>0</td></tr><tr><td>693</td><td>M</td><td>S</td><td>Unknown</td><td>5000</td><td>Good</td><td>0</td><td>0</td><td>0</td></tr><tr><td>694</td><td>F</td><td>S</td><td>Unknown</td><td>5000</td><td>Good</td><td>0</td><td>0</td><td>0</td></tr><tr><td>695</td><td>M</td><td>D</td><td>Unknown</td><td>5000</td><td>Good</td><td>0</td><td>0</td><td>0</td></tr><tr><td>696</td><td>F</td><td>D</td><td>Unknown</td><td>5000</td><td>Good</td><td>0</td><td>0</td><td>0</td></tr><tr><td>697</td><td>M</td><td>W</td><td>Unknown</td><td>5000</td><td>Good</td><td>0</td><td>0</td><td>0</td></tr><tr><td>698</td><td>F</td><td>W</td><td>Unknown</td><td>5000</td><td>Good</td><td>0</td><td>0</td><td>0</td></tr><tr><td>699</td><td>M</td><td>U</td><td>Unknown</td><td>5000</td><td>Good</td><td>0</td><td>0</td><td>0</td></tr><tr><td>700</td><td>F</td><td>U</td><td>Unknown</td><td>5000</td><td>Good</td><td>0</td><td>0</td><td>0</td></tr><tr><td>701</td><td>M</td><td>M</td><td>Primary</td><td>5500</td><td>Good</td><td>0</td><td>0</td><td>0</td></tr><tr><td>702</td><td>F</td><td>M</td><td>Primary</td><td>5500</td><td>Good</td><td>0</td><td>0</td><td>0</td></tr><tr><td>703</td><td>M</td><td>S</td><td>Primary</td><td>5500</td><td>Good</td><td>0</td><td>0</td><td>0</td></tr><tr><td>704</td><td>F</td><td>S</td><td>Primary</td><td>5500</td><td>Good</td><td>0</td><td>0</td><td>0</td></tr><tr><td>705</td><td>M</td><td>D</td><td>Primary</td><td>5500</td><td>Good</td><td>0</td><td>0</td><td>0</td></tr><tr><td>706</td><td>F</td><td>D</td><td>Primary</td><td>5500</td><td>Good</td><td>0</td><td>0</td><td>0</td></tr><tr><td>707</td><td>M</td><td>W</td><td>Primary</td><td>5500</td><td>Good</td><td>0</td><td>0</td><td>0</td></tr><tr><td>708</td><td>F</td><td>W</td><td>Primary</td><td>5500</td><td>Good</td><td>0</td><td>0</td><td>0</td></tr><tr><td>709</td><td>M</td><td>U</td><td>Primary</td><td>5500</td><td>Good</td><td>0</td><td>0</td><td>0</td></tr><tr><td>710</td><td>F</td><td>U</td><td>Primary</td><td>5500</td><td>Good</td><td>0</td><td>0</td><td>0</td></tr><tr><td>711</td><td>M</td><td>M</td><td>Secondary</td><td>5500</td><td>Good</td><td>0</td><td>0</td><td>0</td></tr><tr><td>712</td><td>F</td><td>M</td><td>Secondary</td><td>5500</td><td>Good</td><td>0</td><td>0</td><td>0</td></tr><tr><td>713</td><td>M</td><td>S</td><td>Secondary</td><td>5500</td><td>Good</td><td>0</td><td>0</td><td>0</td></tr><tr><td>714</td><td>F</td><td>S</td><td>Secondary</td><td>5500</td><td>Good</td><td>0</td><td>0</td><td>0</td></tr><tr><td>715</td><td>M</td><td>D</td><td>Secondary</td><td>5500</td><td>Good</td><td>0</td><td>0</td><td>0</td></tr><tr><td>716</td><td>F</td><td>D</td><td>Secondary</td><td>5500</td><td>Good</td><td>0</td><td>0</td><td>0</td></tr><tr><td>717</td><td>M</td><td>W</td><td>Secondary</td><td>5500</td><td>Good</td><td>0</td><td>0</td><td>0</td></tr><tr><td>718</td><td>F</td><td>W</td><td>Secondary</td><td>5500</td><td>Good</td><td>0</td><td>0</td><td>0</td></tr><tr><td>719</td><td>M</td><td>U</td><td>Secondary</td><td>5500</td><td>Good</td><td>0</td><td>0</td><td>0</td></tr><tr><td>720</td><td>F</td><td>U</td><td>Secondary</td><td>5500</td><td>Good</td><td>0</td><td>0</td><td>0</td></tr><tr><td>721</td><td>M</td><td>M</td><td>College</td><td>5500</td><td>Good</td><td>0</td><td>0</td><td>0</td></tr><tr><td>722</td><td>F</td><td>M</td><td>College</td><td>5500</td><td>Good</td><td>0</td><td>0</td><td>0</td></tr><tr><td>723</td><td>M</td><td>S</td><td>College</td><td>5500</td><td>Good</td><td>0</td><td>0</td><td>0</td></tr><tr><td>724</td><td>F</td><td>S</td><td>College</td><td>5500</td><td>Good</td><td>0</td><td>0</td><td>0</td></tr><tr><td>725</td><td>M</td><td>D</td><td>College</td><td>5500</td><td>Good</td><td>0</td><td>0</td><td>0</td></tr><tr><td>726</td><td>F</td><td>D</td><td>College</td><td>5500</td><td>Good</td><td>0</td><td>0</td><td>0</td></tr><tr><td>727</td><td>M</td><td>W</td><td>College</td><td>5500</td><td>Good</td><td>0</td><td>0</td><td>0</td></tr><tr><td>728</td><td>F</td><td>W</td><td>College</td><td>5500</td><td>Good</td><td>0</td><td>0</td><td>0</td></tr><tr><td>729</td><td>M</td><td>U</td><td>College</td><td>5500</td><td>Good</td><td>0</td><td>0</td><td>0</td></tr><tr><td>730</td><td>F</td><td>U</td><td>College</td><td>5500</td><td>Good</td><td>0</td><td>0</td><td>0</td></tr><tr><td>731</td><td>M</td><td>M</td><td>2 yr Degree</td><td>5500</td><td>Good</td><td>0</td><td>0</td><td>0</td></tr><tr><td>732</td><td>F</td><td>M</td><td>2 yr Degree</td><td>5500</td><td>Good</td><td>0</td><td>0</td><td>0</td></tr><tr><td>733</td><td>M</td><td>S</td><td>2 yr Degree</td><td>5500</td><td>Good</td><td>0</td><td>0</td><td>0</td></tr><tr><td>734</td><td>F</td><td>S</td><td>2 yr Degree</td><td>5500</td><td>Good</td><td>0</td><td>0</td><td>0</td></tr><tr><td>735</td><td>M</td><td>D</td><td>2 yr Degree</td><td>5500</td><td>Good</td><td>0</td><td>0</td><td>0</td></tr><tr><td>736</td><td>F</td><td>D</td><td>2 yr Degree</td><td>5500</td><td>Good</td><td>0</td><td>0</td><td>0</td></tr><tr><td>737</td><td>M</td><td>W</td><td>2 yr Degree</td><td>5500</td><td>Good</td><td>0</td><td>0</td><td>0</td></tr><tr><td>738</td><td>F</td><td>W</td><td>2 yr Degree</td><td>5500</td><td>Good</td><td>0</td><td>0</td><td>0</td></tr><tr><td>739</td><td>M</td><td>U</td><td>2 yr Degree</td><td>5500</td><td>Good</td><td>0</td><td>0</td><td>0</td></tr><tr><td>740</td><td>F</td><td>U</td><td>2 yr Degree</td><td>5500</td><td>Good</td><td>0</td><td>0</td><td>0</td></tr><tr><td>741</td><td>M</td><td>M</td><td>4 yr Degree</td><td>5500</td><td>Good</td><td>0</td><td>0</td><td>0</td></tr><tr><td>742</td><td>F</td><td>M</td><td>4 yr Degree</td><td>5500</td><td>Good</td><td>0</td><td>0</td><td>0</td></tr><tr><td>743</td><td>M</td><td>S</td><td>4 yr Degree</td><td>5500</td><td>Good</td><td>0</td><td>0</td><td>0</td></tr><tr><td>744</td><td>F</td><td>S</td><td>4 yr Degree</td><td>5500</td><td>Good</td><td>0</td><td>0</td><td>0</td></tr><tr><td>745</td><td>M</td><td>D</td><td>4 yr Degree</td><td>5500</td><td>Good</td><td>0</td><td>0</td><td>0</td></tr><tr><td>746</td><td>F</td><td>D</td><td>4 yr Degree</td><td>5500</td><td>Good</td><td>0</td><td>0</td><td>0</td></tr><tr><td>747</td><td>M</td><td>W</td><td>4 yr Degree</td><td>5500</td><td>Good</td><td>0</td><td>0</td><td>0</td></tr><tr><td>748</td><td>F</td><td>W</td><td>4 yr Degree</td><td>5500</td><td>Good</td><td>0</td><td>0</td><td>0</td></tr><tr><td>749</td><td>M</td><td>U</td><td>4 yr Degree</td><td>5500</td><td>Good</td><td>0</td><td>0</td><td>0</td></tr><tr><td>750</td><td>F</td><td>U</td><td>4 yr Degree</td><td>5500</td><td>Good</td><td>0</td><td>0</td><td>0</td></tr><tr><td>751</td><td>M</td><td>M</td><td>Advanced Degree</td><td>5500</td><td>Good</td><td>0</td><td>0</td><td>0</td></tr><tr><td>752</td><td>F</td><td>M</td><td>Advanced Degree</td><td>5500</td><td>Good</td><td>0</td><td>0</td><td>0</td></tr><tr><td>753</td><td>M</td><td>S</td><td>Advanced Degree</td><td>5500</td><td>Good</td><td>0</td><td>0</td><td>0</td></tr><tr><td>754</td><td>F</td><td>S</td><td>Advanced Degree</td><td>5500</td><td>Good</td><td>0</td><td>0</td><td>0</td></tr><tr><td>755</td><td>M</td><td>D</td><td>Advanced Degree</td><td>5500</td><td>Good</td><td>0</td><td>0</td><td>0</td></tr><tr><td>756</td><td>F</td><td>D</td><td>Advanced Degree</td><td>5500</td><td>Good</td><td>0</td><td>0</td><td>0</td></tr><tr><td>757</td><td>M</td><td>W</td><td>Advanced Degree</td><td>5500</td><td>Good</td><td>0</td><td>0</td><td>0</td></tr><tr><td>758</td><td>F</td><td>W</td><td>Advanced Degree</td><td>5500</td><td>Good</td><td>0</td><td>0</td><td>0</td></tr><tr><td>759</td><td>M</td><td>U</td><td>Advanced Degree</td><td>5500</td><td>Good</td><td>0</td><td>0</td><td>0</td></tr><tr><td>760</td><td>F</td><td>U</td><td>Advanced Degree</td><td>5500</td><td>Good</td><td>0</td><td>0</td><td>0</td></tr><tr><td>761</td><td>M</td><td>M</td><td>Unknown</td><td>5500</td><td>Good</td><td>0</td><td>0</td><td>0</td></tr><tr><td>762</td><td>F</td><td>M</td><td>Unknown</td><td>5500</td><td>Good</td><td>0</td><td>0</td><td>0</td></tr><tr><td>763</td><td>M</td><td>S</td><td>Unknown</td><td>5500</td><td>Good</td><td>0</td><td>0</td><td>0</td></tr><tr><td>764</td><td>F</td><td>S</td><td>Unknown</td><td>5500</td><td>Good</td><td>0</td><td>0</td><td>0</td></tr><tr><td>765</td><td>M</td><td>D</td><td>Unknown</td><td>5500</td><td>Good</td><td>0</td><td>0</td><td>0</td></tr><tr><td>766</td><td>F</td><td>D</td><td>Unknown</td><td>5500</td><td>Good</td><td>0</td><td>0</td><td>0</td></tr><tr><td>767</td><td>M</td><td>W</td><td>Unknown</td><td>5500</td><td>Good</td><td>0</td><td>0</td><td>0</td></tr><tr><td>768</td><td>F</td><td>W</td><td>Unknown</td><td>5500</td><td>Good</td><td>0</td><td>0</td><td>0</td></tr><tr><td>769</td><td>M</td><td>U</td><td>Unknown</td><td>5500</td><td>Good</td><td>0</td><td>0</td><td>0</td></tr><tr><td>770</td><td>F</td><td>U</td><td>Unknown</td><td>5500</td><td>Good</td><td>0</td><td>0</td><td>0</td></tr><tr><td>771</td><td>M</td><td>M</td><td>Primary</td><td>6000</td><td>Good</td><td>0</td><td>0</td><td>0</td></tr><tr><td>772</td><td>F</td><td>M</td><td>Primary</td><td>6000</td><td>Good</td><td>0</td><td>0</td><td>0</td></tr><tr><td>773</td><td>M</td><td>S</td><td>Primary</td><td>6000</td><td>Good</td><td>0</td><td>0</td><td>0</td></tr><tr><td>774</td><td>F</td><td>S</td><td>Primary</td><td>6000</td><td>Good</td><td>0</td><td>0</td><td>0</td></tr><tr><td>775</td><td>M</td><td>D</td><td>Primary</td><td>6000</td><td>Good</td><td>0</td><td>0</td><td>0</td></tr><tr><td>776</td><td>F</td><td>D</td><td>Primary</td><td>6000</td><td>Good</td><td>0</td><td>0</td><td>0</td></tr><tr><td>777</td><td>M</td><td>W</td><td>Primary</td><td>6000</td><td>Good</td><td>0</td><td>0</td><td>0</td></tr><tr><td>778</td><td>F</td><td>W</td><td>Primary</td><td>6000</td><td>Good</td><td>0</td><td>0</td><td>0</td></tr><tr><td>779</td><td>M</td><td>U</td><td>Primary</td><td>6000</td><td>Good</td><td>0</td><td>0</td><td>0</td></tr><tr><td>780</td><td>F</td><td>U</td><td>Primary</td><td>6000</td><td>Good</td><td>0</td><td>0</td><td>0</td></tr><tr><td>781</td><td>M</td><td>M</td><td>Secondary</td><td>6000</td><td>Good</td><td>0</td><td>0</td><td>0</td></tr><tr><td>782</td><td>F</td><td>M</td><td>Secondary</td><td>6000</td><td>Good</td><td>0</td><td>0</td><td>0</td></tr><tr><td>783</td><td>M</td><td>S</td><td>Secondary</td><td>6000</td><td>Good</td><td>0</td><td>0</td><td>0</td></tr><tr><td>784</td><td>F</td><td>S</td><td>Secondary</td><td>6000</td><td>Good</td><td>0</td><td>0</td><td>0</td></tr><tr><td>785</td><td>M</td><td>D</td><td>Secondary</td><td>6000</td><td>Good</td><td>0</td><td>0</td><td>0</td></tr><tr><td>786</td><td>F</td><td>D</td><td>Secondary</td><td>6000</td><td>Good</td><td>0</td><td>0</td><td>0</td></tr><tr><td>787</td><td>M</td><td>W</td><td>Secondary</td><td>6000</td><td>Good</td><td>0</td><td>0</td><td>0</td></tr><tr><td>788</td><td>F</td><td>W</td><td>Secondary</td><td>6000</td><td>Good</td><td>0</td><td>0</td><td>0</td></tr><tr><td>789</td><td>M</td><td>U</td><td>Secondary</td><td>6000</td><td>Good</td><td>0</td><td>0</td><td>0</td></tr><tr><td>790</td><td>F</td><td>U</td><td>Secondary</td><td>6000</td><td>Good</td><td>0</td><td>0</td><td>0</td></tr><tr><td>791</td><td>M</td><td>M</td><td>College</td><td>6000</td><td>Good</td><td>0</td><td>0</td><td>0</td></tr><tr><td>792</td><td>F</td><td>M</td><td>College</td><td>6000</td><td>Good</td><td>0</td><td>0</td><td>0</td></tr><tr><td>793</td><td>M</td><td>S</td><td>College</td><td>6000</td><td>Good</td><td>0</td><td>0</td><td>0</td></tr><tr><td>794</td><td>F</td><td>S</td><td>College</td><td>6000</td><td>Good</td><td>0</td><td>0</td><td>0</td></tr><tr><td>795</td><td>M</td><td>D</td><td>College</td><td>6000</td><td>Good</td><td>0</td><td>0</td><td>0</td></tr><tr><td>796</td><td>F</td><td>D</td><td>College</td><td>6000</td><td>Good</td><td>0</td><td>0</td><td>0</td></tr><tr><td>797</td><td>M</td><td>W</td><td>College</td><td>6000</td><td>Good</td><td>0</td><td>0</td><td>0</td></tr><tr><td>798</td><td>F</td><td>W</td><td>College</td><td>6000</td><td>Good</td><td>0</td><td>0</td><td>0</td></tr><tr><td>799</td><td>M</td><td>U</td><td>College</td><td>6000</td><td>Good</td><td>0</td><td>0</td><td>0</td></tr><tr><td>800</td><td>F</td><td>U</td><td>College</td><td>6000</td><td>Good</td><td>0</td><td>0</td><td>0</td></tr><tr><td>801</td><td>M</td><td>M</td><td>2 yr Degree</td><td>6000</td><td>Good</td><td>0</td><td>0</td><td>0</td></tr><tr><td>802</td><td>F</td><td>M</td><td>2 yr Degree</td><td>6000</td><td>Good</td><td>0</td><td>0</td><td>0</td></tr><tr><td>803</td><td>M</td><td>S</td><td>2 yr Degree</td><td>6000</td><td>Good</td><td>0</td><td>0</td><td>0</td></tr><tr><td>804</td><td>F</td><td>S</td><td>2 yr Degree</td><td>6000</td><td>Good</td><td>0</td><td>0</td><td>0</td></tr><tr><td>805</td><td>M</td><td>D</td><td>2 yr Degree</td><td>6000</td><td>Good</td><td>0</td><td>0</td><td>0</td></tr><tr><td>806</td><td>F</td><td>D</td><td>2 yr Degree</td><td>6000</td><td>Good</td><td>0</td><td>0</td><td>0</td></tr><tr><td>807</td><td>M</td><td>W</td><td>2 yr Degree</td><td>6000</td><td>Good</td><td>0</td><td>0</td><td>0</td></tr><tr><td>808</td><td>F</td><td>W</td><td>2 yr Degree</td><td>6000</td><td>Good</td><td>0</td><td>0</td><td>0</td></tr><tr><td>809</td><td>M</td><td>U</td><td>2 yr Degree</td><td>6000</td><td>Good</td><td>0</td><td>0</td><td>0</td></tr><tr><td>810</td><td>F</td><td>U</td><td>2 yr Degree</td><td>6000</td><td>Good</td><td>0</td><td>0</td><td>0</td></tr><tr><td>811</td><td>M</td><td>M</td><td>4 yr Degree</td><td>6000</td><td>Good</td><td>0</td><td>0</td><td>0</td></tr><tr><td>812</td><td>F</td><td>M</td><td>4 yr Degree</td><td>6000</td><td>Good</td><td>0</td><td>0</td><td>0</td></tr><tr><td>813</td><td>M</td><td>S</td><td>4 yr Degree</td><td>6000</td><td>Good</td><td>0</td><td>0</td><td>0</td></tr><tr><td>814</td><td>F</td><td>S</td><td>4 yr Degree</td><td>6000</td><td>Good</td><td>0</td><td>0</td><td>0</td></tr><tr><td>815</td><td>M</td><td>D</td><td>4 yr Degree</td><td>6000</td><td>Good</td><td>0</td><td>0</td><td>0</td></tr><tr><td>816</td><td>F</td><td>D</td><td>4 yr Degree</td><td>6000</td><td>Good</td><td>0</td><td>0</td><td>0</td></tr><tr><td>817</td><td>M</td><td>W</td><td>4 yr Degree</td><td>6000</td><td>Good</td><td>0</td><td>0</td><td>0</td></tr><tr><td>818</td><td>F</td><td>W</td><td>4 yr Degree</td><td>6000</td><td>Good</td><td>0</td><td>0</td><td>0</td></tr><tr><td>819</td><td>M</td><td>U</td><td>4 yr Degree</td><td>6000</td><td>Good</td><td>0</td><td>0</td><td>0</td></tr><tr><td>820</td><td>F</td><td>U</td><td>4 yr Degree</td><td>6000</td><td>Good</td><td>0</td><td>0</td><td>0</td></tr><tr><td>821</td><td>M</td><td>M</td><td>Advanced Degree</td><td>6000</td><td>Good</td><td>0</td><td>0</td><td>0</td></tr><tr><td>822</td><td>F</td><td>M</td><td>Advanced Degree</td><td>6000</td><td>Good</td><td>0</td><td>0</td><td>0</td></tr><tr><td>823</td><td>M</td><td>S</td><td>Advanced Degree</td><td>6000</td><td>Good</td><td>0</td><td>0</td><td>0</td></tr><tr><td>824</td><td>F</td><td>S</td><td>Advanced Degree</td><td>6000</td><td>Good</td><td>0</td><td>0</td><td>0</td></tr><tr><td>825</td><td>M</td><td>D</td><td>Advanced Degree</td><td>6000</td><td>Good</td><td>0</td><td>0</td><td>0</td></tr><tr><td>826</td><td>F</td><td>D</td><td>Advanced Degree</td><td>6000</td><td>Good</td><td>0</td><td>0</td><td>0</td></tr><tr><td>827</td><td>M</td><td>W</td><td>Advanced Degree</td><td>6000</td><td>Good</td><td>0</td><td>0</td><td>0</td></tr><tr><td>828</td><td>F</td><td>W</td><td>Advanced Degree</td><td>6000</td><td>Good</td><td>0</td><td>0</td><td>0</td></tr><tr><td>829</td><td>M</td><td>U</td><td>Advanced Degree</td><td>6000</td><td>Good</td><td>0</td><td>0</td><td>0</td></tr><tr><td>830</td><td>F</td><td>U</td><td>Advanced Degree</td><td>6000</td><td>Good</td><td>0</td><td>0</td><td>0</td></tr><tr><td>831</td><td>M</td><td>M</td><td>Unknown</td><td>6000</td><td>Good</td><td>0</td><td>0</td><td>0</td></tr><tr><td>832</td><td>F</td><td>M</td><td>Unknown</td><td>6000</td><td>Good</td><td>0</td><td>0</td><td>0</td></tr><tr><td>833</td><td>M</td><td>S</td><td>Unknown</td><td>6000</td><td>Good</td><td>0</td><td>0</td><td>0</td></tr><tr><td>834</td><td>F</td><td>S</td><td>Unknown</td><td>6000</td><td>Good</td><td>0</td><td>0</td><td>0</td></tr><tr><td>835</td><td>M</td><td>D</td><td>Unknown</td><td>6000</td><td>Good</td><td>0</td><td>0</td><td>0</td></tr><tr><td>836</td><td>F</td><td>D</td><td>Unknown</td><td>6000</td><td>Good</td><td>0</td><td>0</td><td>0</td></tr><tr><td>837</td><td>M</td><td>W</td><td>Unknown</td><td>6000</td><td>Good</td><td>0</td><td>0</td><td>0</td></tr><tr><td>838</td><td>F</td><td>W</td><td>Unknown</td><td>6000</td><td>Good</td><td>0</td><td>0</td><td>0</td></tr><tr><td>839</td><td>M</td><td>U</td><td>Unknown</td><td>6000</td><td>Good</td><td>0</td><td>0</td><td>0</td></tr><tr><td>840</td><td>F</td><td>U</td><td>Unknown</td><td>6000</td><td>Good</td><td>0</td><td>0</td><td>0</td></tr><tr><td>841</td><td>M</td><td>M</td><td>Primary</td><td>6500</td><td>Good</td><td>0</td><td>0</td><td>0</td></tr><tr><td>842</td><td>F</td><td>M</td><td>Primary</td><td>6500</td><td>Good</td><td>0</td><td>0</td><td>0</td></tr><tr><td>843</td><td>M</td><td>S</td><td>Primary</td><td>6500</td><td>Good</td><td>0</td><td>0</td><td>0</td></tr><tr><td>844</td><td>F</td><td>S</td><td>Primary</td><td>6500</td><td>Good</td><td>0</td><td>0</td><td>0</td></tr><tr><td>845</td><td>M</td><td>D</td><td>Primary</td><td>6500</td><td>Good</td><td>0</td><td>0</td><td>0</td></tr><tr><td>846</td><td>F</td><td>D</td><td>Primary</td><td>6500</td><td>Good</td><td>0</td><td>0</td><td>0</td></tr><tr><td>847</td><td>M</td><td>W</td><td>Primary</td><td>6500</td><td>Good</td><td>0</td><td>0</td><td>0</td></tr><tr><td>848</td><td>F</td><td>W</td><td>Primary</td><td>6500</td><td>Good</td><td>0</td><td>0</td><td>0</td></tr><tr><td>849</td><td>M</td><td>U</td><td>Primary</td><td>6500</td><td>Good</td><td>0</td><td>0</td><td>0</td></tr><tr><td>850</td><td>F</td><td>U</td><td>Primary</td><td>6500</td><td>Good</td><td>0</td><td>0</td><td>0</td></tr><tr><td>851</td><td>M</td><td>M</td><td>Secondary</td><td>6500</td><td>Good</td><td>0</td><td>0</td><td>0</td></tr><tr><td>852</td><td>F</td><td>M</td><td>Secondary</td><td>6500</td><td>Good</td><td>0</td><td>0</td><td>0</td></tr><tr><td>853</td><td>M</td><td>S</td><td>Secondary</td><td>6500</td><td>Good</td><td>0</td><td>0</td><td>0</td></tr><tr><td>854</td><td>F</td><td>S</td><td>Secondary</td><td>6500</td><td>Good</td><td>0</td><td>0</td><td>0</td></tr><tr><td>855</td><td>M</td><td>D</td><td>Secondary</td><td>6500</td><td>Good</td><td>0</td><td>0</td><td>0</td></tr><tr><td>856</td><td>F</td><td>D</td><td>Secondary</td><td>6500</td><td>Good</td><td>0</td><td>0</td><td>0</td></tr><tr><td>857</td><td>M</td><td>W</td><td>Secondary</td><td>6500</td><td>Good</td><td>0</td><td>0</td><td>0</td></tr><tr><td>858</td><td>F</td><td>W</td><td>Secondary</td><td>6500</td><td>Good</td><td>0</td><td>0</td><td>0</td></tr><tr><td>859</td><td>M</td><td>U</td><td>Secondary</td><td>6500</td><td>Good</td><td>0</td><td>0</td><td>0</td></tr><tr><td>860</td><td>F</td><td>U</td><td>Secondary</td><td>6500</td><td>Good</td><td>0</td><td>0</td><td>0</td></tr><tr><td>861</td><td>M</td><td>M</td><td>College</td><td>6500</td><td>Good</td><td>0</td><td>0</td><td>0</td></tr><tr><td>862</td><td>F</td><td>M</td><td>College</td><td>6500</td><td>Good</td><td>0</td><td>0</td><td>0</td></tr><tr><td>863</td><td>M</td><td>S</td><td>College</td><td>6500</td><td>Good</td><td>0</td><td>0</td><td>0</td></tr><tr><td>864</td><td>F</td><td>S</td><td>College</td><td>6500</td><td>Good</td><td>0</td><td>0</td><td>0</td></tr><tr><td>865</td><td>M</td><td>D</td><td>College</td><td>6500</td><td>Good</td><td>0</td><td>0</td><td>0</td></tr><tr><td>866</td><td>F</td><td>D</td><td>College</td><td>6500</td><td>Good</td><td>0</td><td>0</td><td>0</td></tr><tr><td>867</td><td>M</td><td>W</td><td>College</td><td>6500</td><td>Good</td><td>0</td><td>0</td><td>0</td></tr><tr><td>868</td><td>F</td><td>W</td><td>College</td><td>6500</td><td>Good</td><td>0</td><td>0</td><td>0</td></tr><tr><td>869</td><td>M</td><td>U</td><td>College</td><td>6500</td><td>Good</td><td>0</td><td>0</td><td>0</td></tr><tr><td>870</td><td>F</td><td>U</td><td>College</td><td>6500</td><td>Good</td><td>0</td><td>0</td><td>0</td></tr><tr><td>871</td><td>M</td><td>M</td><td>2 yr Degree</td><td>6500</td><td>Good</td><td>0</td><td>0</td><td>0</td></tr><tr><td>872</td><td>F</td><td>M</td><td>2 yr Degree</td><td>6500</td><td>Good</td><td>0</td><td>0</td><td>0</td></tr><tr><td>873</td><td>M</td><td>S</td><td>2 yr Degree</td><td>6500</td><td>Good</td><td>0</td><td>0</td><td>0</td></tr><tr><td>874</td><td>F</td><td>S</td><td>2 yr Degree</td><td>6500</td><td>Good</td><td>0</td><td>0</td><td>0</td></tr><tr><td>875</td><td>M</td><td>D</td><td>2 yr Degree</td><td>6500</td><td>Good</td><td>0</td><td>0</td><td>0</td></tr><tr><td>876</td><td>F</td><td>D</td><td>2 yr Degree</td><td>6500</td><td>Good</td><td>0</td><td>0</td><td>0</td></tr><tr><td>877</td><td>M</td><td>W</td><td>2 yr Degree</td><td>6500</td><td>Good</td><td>0</td><td>0</td><td>0</td></tr><tr><td>878</td><td>F</td><td>W</td><td>2 yr Degree</td><td>6500</td><td>Good</td><td>0</td><td>0</td><td>0</td></tr><tr><td>879</td><td>M</td><td>U</td><td>2 yr Degree</td><td>6500</td><td>Good</td><td>0</td><td>0</td><td>0</td></tr><tr><td>880</td><td>F</td><td>U</td><td>2 yr Degree</td><td>6500</td><td>Good</td><td>0</td><td>0</td><td>0</td></tr><tr><td>881</td><td>M</td><td>M</td><td>4 yr Degree</td><td>6500</td><td>Good</td><td>0</td><td>0</td><td>0</td></tr><tr><td>882</td><td>F</td><td>M</td><td>4 yr Degree</td><td>6500</td><td>Good</td><td>0</td><td>0</td><td>0</td></tr><tr><td>883</td><td>M</td><td>S</td><td>4 yr Degree</td><td>6500</td><td>Good</td><td>0</td><td>0</td><td>0</td></tr><tr><td>884</td><td>F</td><td>S</td><td>4 yr Degree</td><td>6500</td><td>Good</td><td>0</td><td>0</td><td>0</td></tr><tr><td>885</td><td>M</td><td>D</td><td>4 yr Degree</td><td>6500</td><td>Good</td><td>0</td><td>0</td><td>0</td></tr><tr><td>886</td><td>F</td><td>D</td><td>4 yr Degree</td><td>6500</td><td>Good</td><td>0</td><td>0</td><td>0</td></tr><tr><td>887</td><td>M</td><td>W</td><td>4 yr Degree</td><td>6500</td><td>Good</td><td>0</td><td>0</td><td>0</td></tr><tr><td>888</td><td>F</td><td>W</td><td>4 yr Degree</td><td>6500</td><td>Good</td><td>0</td><td>0</td><td>0</td></tr><tr><td>889</td><td>M</td><td>U</td><td>4 yr Degree</td><td>6500</td><td>Good</td><td>0</td><td>0</td><td>0</td></tr><tr><td>890</td><td>F</td><td>U</td><td>4 yr Degree</td><td>6500</td><td>Good</td><td>0</td><td>0</td><td>0</td></tr><tr><td>891</td><td>M</td><td>M</td><td>Advanced Degree</td><td>6500</td><td>Good</td><td>0</td><td>0</td><td>0</td></tr><tr><td>892</td><td>F</td><td>M</td><td>Advanced Degree</td><td>6500</td><td>Good</td><td>0</td><td>0</td><td>0</td></tr><tr><td>893</td><td>M</td><td>S</td><td>Advanced Degree</td><td>6500</td><td>Good</td><td>0</td><td>0</td><td>0</td></tr><tr><td>894</td><td>F</td><td>S</td><td>Advanced Degree</td><td>6500</td><td>Good</td><td>0</td><td>0</td><td>0</td></tr><tr><td>895</td><td>M</td><td>D</td><td>Advanced Degree</td><td>6500</td><td>Good</td><td>0</td><td>0</td><td>0</td></tr><tr><td>896</td><td>F</td><td>D</td><td>Advanced Degree</td><td>6500</td><td>Good</td><td>0</td><td>0</td><td>0</td></tr><tr><td>897</td><td>M</td><td>W</td><td>Advanced Degree</td><td>6500</td><td>Good</td><td>0</td><td>0</td><td>0</td></tr><tr><td>898</td><td>F</td><td>W</td><td>Advanced Degree</td><td>6500</td><td>Good</td><td>0</td><td>0</td><td>0</td></tr><tr><td>899</td><td>M</td><td>U</td><td>Advanced Degree</td><td>6500</td><td>Good</td><td>0</td><td>0</td><td>0</td></tr><tr><td>900</td><td>F</td><td>U</td><td>Advanced Degree</td><td>6500</td><td>Good</td><td>0</td><td>0</td><td>0</td></tr><tr><td>901</td><td>M</td><td>M</td><td>Unknown</td><td>6500</td><td>Good</td><td>0</td><td>0</td><td>0</td></tr><tr><td>902</td><td>F</td><td>M</td><td>Unknown</td><td>6500</td><td>Good</td><td>0</td><td>0</td><td>0</td></tr><tr><td>903</td><td>M</td><td>S</td><td>Unknown</td><td>6500</td><td>Good</td><td>0</td><td>0</td><td>0</td></tr><tr><td>904</td><td>F</td><td>S</td><td>Unknown</td><td>6500</td><td>Good</td><td>0</td><td>0</td><td>0</td></tr><tr><td>905</td><td>M</td><td>D</td><td>Unknown</td><td>6500</td><td>Good</td><td>0</td><td>0</td><td>0</td></tr><tr><td>906</td><td>F</td><td>D</td><td>Unknown</td><td>6500</td><td>Good</td><td>0</td><td>0</td><td>0</td></tr><tr><td>907</td><td>M</td><td>W</td><td>Unknown</td><td>6500</td><td>Good</td><td>0</td><td>0</td><td>0</td></tr><tr><td>908</td><td>F</td><td>W</td><td>Unknown</td><td>6500</td><td>Good</td><td>0</td><td>0</td><td>0</td></tr><tr><td>909</td><td>M</td><td>U</td><td>Unknown</td><td>6500</td><td>Good</td><td>0</td><td>0</td><td>0</td></tr><tr><td>910</td><td>F</td><td>U</td><td>Unknown</td><td>6500</td><td>Good</td><td>0</td><td>0</td><td>0</td></tr><tr><td>911</td><td>M</td><td>M</td><td>Primary</td><td>7000</td><td>Good</td><td>0</td><td>0</td><td>0</td></tr><tr><td>912</td><td>F</td><td>M</td><td>Primary</td><td>7000</td><td>Good</td><td>0</td><td>0</td><td>0</td></tr><tr><td>913</td><td>M</td><td>S</td><td>Primary</td><td>7000</td><td>Good</td><td>0</td><td>0</td><td>0</td></tr><tr><td>914</td><td>F</td><td>S</td><td>Primary</td><td>7000</td><td>Good</td><td>0</td><td>0</td><td>0</td></tr><tr><td>915</td><td>M</td><td>D</td><td>Primary</td><td>7000</td><td>Good</td><td>0</td><td>0</td><td>0</td></tr><tr><td>916</td><td>F</td><td>D</td><td>Primary</td><td>7000</td><td>Good</td><td>0</td><td>0</td><td>0</td></tr><tr><td>917</td><td>M</td><td>W</td><td>Primary</td><td>7000</td><td>Good</td><td>0</td><td>0</td><td>0</td></tr><tr><td>918</td><td>F</td><td>W</td><td>Primary</td><td>7000</td><td>Good</td><td>0</td><td>0</td><td>0</td></tr><tr><td>919</td><td>M</td><td>U</td><td>Primary</td><td>7000</td><td>Good</td><td>0</td><td>0</td><td>0</td></tr><tr><td>920</td><td>F</td><td>U</td><td>Primary</td><td>7000</td><td>Good</td><td>0</td><td>0</td><td>0</td></tr><tr><td>921</td><td>M</td><td>M</td><td>Secondary</td><td>7000</td><td>Good</td><td>0</td><td>0</td><td>0</td></tr><tr><td>922</td><td>F</td><td>M</td><td>Secondary</td><td>7000</td><td>Good</td><td>0</td><td>0</td><td>0</td></tr><tr><td>923</td><td>M</td><td>S</td><td>Secondary</td><td>7000</td><td>Good</td><td>0</td><td>0</td><td>0</td></tr><tr><td>924</td><td>F</td><td>S</td><td>Secondary</td><td>7000</td><td>Good</td><td>0</td><td>0</td><td>0</td></tr><tr><td>925</td><td>M</td><td>D</td><td>Secondary</td><td>7000</td><td>Good</td><td>0</td><td>0</td><td>0</td></tr><tr><td>926</td><td>F</td><td>D</td><td>Secondary</td><td>7000</td><td>Good</td><td>0</td><td>0</td><td>0</td></tr><tr><td>927</td><td>M</td><td>W</td><td>Secondary</td><td>7000</td><td>Good</td><td>0</td><td>0</td><td>0</td></tr><tr><td>928</td><td>F</td><td>W</td><td>Secondary</td><td>7000</td><td>Good</td><td>0</td><td>0</td><td>0</td></tr><tr><td>929</td><td>M</td><td>U</td><td>Secondary</td><td>7000</td><td>Good</td><td>0</td><td>0</td><td>0</td></tr><tr><td>930</td><td>F</td><td>U</td><td>Secondary</td><td>7000</td><td>Good</td><td>0</td><td>0</td><td>0</td></tr><tr><td>931</td><td>M</td><td>M</td><td>College</td><td>7000</td><td>Good</td><td>0</td><td>0</td><td>0</td></tr><tr><td>932</td><td>F</td><td>M</td><td>College</td><td>7000</td><td>Good</td><td>0</td><td>0</td><td>0</td></tr><tr><td>933</td><td>M</td><td>S</td><td>College</td><td>7000</td><td>Good</td><td>0</td><td>0</td><td>0</td></tr><tr><td>934</td><td>F</td><td>S</td><td>College</td><td>7000</td><td>Good</td><td>0</td><td>0</td><td>0</td></tr><tr><td>935</td><td>M</td><td>D</td><td>College</td><td>7000</td><td>Good</td><td>0</td><td>0</td><td>0</td></tr><tr><td>936</td><td>F</td><td>D</td><td>College</td><td>7000</td><td>Good</td><td>0</td><td>0</td><td>0</td></tr><tr><td>937</td><td>M</td><td>W</td><td>College</td><td>7000</td><td>Good</td><td>0</td><td>0</td><td>0</td></tr><tr><td>938</td><td>F</td><td>W</td><td>College</td><td>7000</td><td>Good</td><td>0</td><td>0</td><td>0</td></tr><tr><td>939</td><td>M</td><td>U</td><td>College</td><td>7000</td><td>Good</td><td>0</td><td>0</td><td>0</td></tr><tr><td>940</td><td>F</td><td>U</td><td>College</td><td>7000</td><td>Good</td><td>0</td><td>0</td><td>0</td></tr><tr><td>941</td><td>M</td><td>M</td><td>2 yr Degree</td><td>7000</td><td>Good</td><td>0</td><td>0</td><td>0</td></tr><tr><td>942</td><td>F</td><td>M</td><td>2 yr Degree</td><td>7000</td><td>Good</td><td>0</td><td>0</td><td>0</td></tr><tr><td>943</td><td>M</td><td>S</td><td>2 yr Degree</td><td>7000</td><td>Good</td><td>0</td><td>0</td><td>0</td></tr><tr><td>944</td><td>F</td><td>S</td><td>2 yr Degree</td><td>7000</td><td>Good</td><td>0</td><td>0</td><td>0</td></tr><tr><td>945</td><td>M</td><td>D</td><td>2 yr Degree</td><td>7000</td><td>Good</td><td>0</td><td>0</td><td>0</td></tr><tr><td>946</td><td>F</td><td>D</td><td>2 yr Degree</td><td>7000</td><td>Good</td><td>0</td><td>0</td><td>0</td></tr><tr><td>947</td><td>M</td><td>W</td><td>2 yr Degree</td><td>7000</td><td>Good</td><td>0</td><td>0</td><td>0</td></tr><tr><td>948</td><td>F</td><td>W</td><td>2 yr Degree</td><td>7000</td><td>Good</td><td>0</td><td>0</td><td>0</td></tr><tr><td>949</td><td>M</td><td>U</td><td>2 yr Degree</td><td>7000</td><td>Good</td><td>0</td><td>0</td><td>0</td></tr><tr><td>950</td><td>F</td><td>U</td><td>2 yr Degree</td><td>7000</td><td>Good</td><td>0</td><td>0</td><td>0</td></tr><tr><td>951</td><td>M</td><td>M</td><td>4 yr Degree</td><td>7000</td><td>Good</td><td>0</td><td>0</td><td>0</td></tr><tr><td>952</td><td>F</td><td>M</td><td>4 yr Degree</td><td>7000</td><td>Good</td><td>0</td><td>0</td><td>0</td></tr><tr><td>953</td><td>M</td><td>S</td><td>4 yr Degree</td><td>7000</td><td>Good</td><td>0</td><td>0</td><td>0</td></tr><tr><td>954</td><td>F</td><td>S</td><td>4 yr Degree</td><td>7000</td><td>Good</td><td>0</td><td>0</td><td>0</td></tr><tr><td>955</td><td>M</td><td>D</td><td>4 yr Degree</td><td>7000</td><td>Good</td><td>0</td><td>0</td><td>0</td></tr><tr><td>956</td><td>F</td><td>D</td><td>4 yr Degree</td><td>7000</td><td>Good</td><td>0</td><td>0</td><td>0</td></tr><tr><td>957</td><td>M</td><td>W</td><td>4 yr Degree</td><td>7000</td><td>Good</td><td>0</td><td>0</td><td>0</td></tr><tr><td>958</td><td>F</td><td>W</td><td>4 yr Degree</td><td>7000</td><td>Good</td><td>0</td><td>0</td><td>0</td></tr><tr><td>959</td><td>M</td><td>U</td><td>4 yr Degree</td><td>7000</td><td>Good</td><td>0</td><td>0</td><td>0</td></tr><tr><td>960</td><td>F</td><td>U</td><td>4 yr Degree</td><td>7000</td><td>Good</td><td>0</td><td>0</td><td>0</td></tr><tr><td>961</td><td>M</td><td>M</td><td>Advanced Degree</td><td>7000</td><td>Good</td><td>0</td><td>0</td><td>0</td></tr><tr><td>962</td><td>F</td><td>M</td><td>Advanced Degree</td><td>7000</td><td>Good</td><td>0</td><td>0</td><td>0</td></tr><tr><td>963</td><td>M</td><td>S</td><td>Advanced Degree</td><td>7000</td><td>Good</td><td>0</td><td>0</td><td>0</td></tr><tr><td>964</td><td>F</td><td>S</td><td>Advanced Degree</td><td>7000</td><td>Good</td><td>0</td><td>0</td><td>0</td></tr><tr><td>965</td><td>M</td><td>D</td><td>Advanced Degree</td><td>7000</td><td>Good</td><td>0</td><td>0</td><td>0</td></tr><tr><td>966</td><td>F</td><td>D</td><td>Advanced Degree</td><td>7000</td><td>Good</td><td>0</td><td>0</td><td>0</td></tr><tr><td>967</td><td>M</td><td>W</td><td>Advanced Degree</td><td>7000</td><td>Good</td><td>0</td><td>0</td><td>0</td></tr><tr><td>968</td><td>F</td><td>W</td><td>Advanced Degree</td><td>7000</td><td>Good</td><td>0</td><td>0</td><td>0</td></tr><tr><td>969</td><td>M</td><td>U</td><td>Advanced Degree</td><td>7000</td><td>Good</td><td>0</td><td>0</td><td>0</td></tr><tr><td>970</td><td>F</td><td>U</td><td>Advanced Degree</td><td>7000</td><td>Good</td><td>0</td><td>0</td><td>0</td></tr><tr><td>971</td><td>M</td><td>M</td><td>Unknown</td><td>7000</td><td>Good</td><td>0</td><td>0</td><td>0</td></tr><tr><td>972</td><td>F</td><td>M</td><td>Unknown</td><td>7000</td><td>Good</td><td>0</td><td>0</td><td>0</td></tr><tr><td>973</td><td>M</td><td>S</td><td>Unknown</td><td>7000</td><td>Good</td><td>0</td><td>0</td><td>0</td></tr><tr><td>974</td><td>F</td><td>S</td><td>Unknown</td><td>7000</td><td>Good</td><td>0</td><td>0</td><td>0</td></tr><tr><td>975</td><td>M</td><td>D</td><td>Unknown</td><td>7000</td><td>Good</td><td>0</td><td>0</td><td>0</td></tr><tr><td>976</td><td>F</td><td>D</td><td>Unknown</td><td>7000</td><td>Good</td><td>0</td><td>0</td><td>0</td></tr><tr><td>977</td><td>M</td><td>W</td><td>Unknown</td><td>7000</td><td>Good</td><td>0</td><td>0</td><td>0</td></tr><tr><td>978</td><td>F</td><td>W</td><td>Unknown</td><td>7000</td><td>Good</td><td>0</td><td>0</td><td>0</td></tr><tr><td>979</td><td>M</td><td>U</td><td>Unknown</td><td>7000</td><td>Good</td><td>0</td><td>0</td><td>0</td></tr><tr><td>980</td><td>F</td><td>U</td><td>Unknown</td><td>7000</td><td>Good</td><td>0</td><td>0</td><td>0</td></tr><tr><td>981</td><td>M</td><td>M</td><td>Primary</td><td>7500</td><td>Good</td><td>0</td><td>0</td><td>0</td></tr><tr><td>982</td><td>F</td><td>M</td><td>Primary</td><td>7500</td><td>Good</td><td>0</td><td>0</td><td>0</td></tr><tr><td>983</td><td>M</td><td>S</td><td>Primary</td><td>7500</td><td>Good</td><td>0</td><td>0</td><td>0</td></tr><tr><td>984</td><td>F</td><td>S</td><td>Primary</td><td>7500</td><td>Good</td><td>0</td><td>0</td><td>0</td></tr><tr><td>985</td><td>M</td><td>D</td><td>Primary</td><td>7500</td><td>Good</td><td>0</td><td>0</td><td>0</td></tr><tr><td>986</td><td>F</td><td>D</td><td>Primary</td><td>7500</td><td>Good</td><td>0</td><td>0</td><td>0</td></tr><tr><td>987</td><td>M</td><td>W</td><td>Primary</td><td>7500</td><td>Good</td><td>0</td><td>0</td><td>0</td></tr><tr><td>988</td><td>F</td><td>W</td><td>Primary</td><td>7500</td><td>Good</td><td>0</td><td>0</td><td>0</td></tr><tr><td>989</td><td>M</td><td>U</td><td>Primary</td><td>7500</td><td>Good</td><td>0</td><td>0</td><td>0</td></tr><tr><td>990</td><td>F</td><td>U</td><td>Primary</td><td>7500</td><td>Good</td><td>0</td><td>0</td><td>0</td></tr><tr><td>991</td><td>M</td><td>M</td><td>Secondary</td><td>7500</td><td>Good</td><td>0</td><td>0</td><td>0</td></tr><tr><td>992</td><td>F</td><td>M</td><td>Secondary</td><td>7500</td><td>Good</td><td>0</td><td>0</td><td>0</td></tr><tr><td>993</td><td>M</td><td>S</td><td>Secondary</td><td>7500</td><td>Good</td><td>0</td><td>0</td><td>0</td></tr><tr><td>994</td><td>F</td><td>S</td><td>Secondary</td><td>7500</td><td>Good</td><td>0</td><td>0</td><td>0</td></tr><tr><td>995</td><td>M</td><td>D</td><td>Secondary</td><td>7500</td><td>Good</td><td>0</td><td>0</td><td>0</td></tr><tr><td>996</td><td>F</td><td>D</td><td>Secondary</td><td>7500</td><td>Good</td><td>0</td><td>0</td><td>0</td></tr><tr><td>997</td><td>M</td><td>W</td><td>Secondary</td><td>7500</td><td>Good</td><td>0</td><td>0</td><td>0</td></tr><tr><td>998</td><td>F</td><td>W</td><td>Secondary</td><td>7500</td><td>Good</td><td>0</td><td>0</td><td>0</td></tr><tr><td>999</td><td>M</td><td>U</td><td>Secondary</td><td>7500</td><td>Good</td><td>0</td><td>0</td><td>0</td></tr><tr><td>1000</td><td>F</td><td>U</td><td>Secondary</td><td>7500</td><td>Good</td><td>0</td><td>0</td><td>0</td></tr></tbody></table>Showing the first 1000 rows.</div>"
      ]
     },
     "metadata": {
      "application/vnd.databricks.v1+output": {
       "addedWidgets": {},
       "aggData": [],
       "aggError": "",
       "aggOverflow": false,
       "aggSchema": [],
       "aggSeriesLimitReached": false,
       "aggType": "",
       "arguments": {},
       "columnCustomDisplayInfos": {},
       "data": [
        [
         1,
         "M",
         "M",
         "Primary",
         "500",
         "Good",
         0,
         0,
         0
        ],
        [
         2,
         "F",
         "M",
         "Primary",
         "500",
         "Good",
         0,
         0,
         0
        ],
        [
         3,
         "M",
         "S",
         "Primary",
         "500",
         "Good",
         0,
         0,
         0
        ],
        [
         4,
         "F",
         "S",
         "Primary",
         "500",
         "Good",
         0,
         0,
         0
        ],
        [
         5,
         "M",
         "D",
         "Primary",
         "500",
         "Good",
         0,
         0,
         0
        ],
        [
         6,
         "F",
         "D",
         "Primary",
         "500",
         "Good",
         0,
         0,
         0
        ],
        [
         7,
         "M",
         "W",
         "Primary",
         "500",
         "Good",
         0,
         0,
         0
        ],
        [
         8,
         "F",
         "W",
         "Primary",
         "500",
         "Good",
         0,
         0,
         0
        ],
        [
         9,
         "M",
         "U",
         "Primary",
         "500",
         "Good",
         0,
         0,
         0
        ],
        [
         10,
         "F",
         "U",
         "Primary",
         "500",
         "Good",
         0,
         0,
         0
        ],
        [
         11,
         "M",
         "M",
         "Secondary",
         "500",
         "Good",
         0,
         0,
         0
        ],
        [
         12,
         "F",
         "M",
         "Secondary",
         "500",
         "Good",
         0,
         0,
         0
        ],
        [
         13,
         "M",
         "S",
         "Secondary",
         "500",
         "Good",
         0,
         0,
         0
        ],
        [
         14,
         "F",
         "S",
         "Secondary",
         "500",
         "Good",
         0,
         0,
         0
        ],
        [
         15,
         "M",
         "D",
         "Secondary",
         "500",
         "Good",
         0,
         0,
         0
        ],
        [
         16,
         "F",
         "D",
         "Secondary",
         "500",
         "Good",
         0,
         0,
         0
        ],
        [
         17,
         "M",
         "W",
         "Secondary",
         "500",
         "Good",
         0,
         0,
         0
        ],
        [
         18,
         "F",
         "W",
         "Secondary",
         "500",
         "Good",
         0,
         0,
         0
        ],
        [
         19,
         "M",
         "U",
         "Secondary",
         "500",
         "Good",
         0,
         0,
         0
        ],
        [
         20,
         "F",
         "U",
         "Secondary",
         "500",
         "Good",
         0,
         0,
         0
        ],
        [
         21,
         "M",
         "M",
         "College",
         "500",
         "Good",
         0,
         0,
         0
        ],
        [
         22,
         "F",
         "M",
         "College",
         "500",
         "Good",
         0,
         0,
         0
        ],
        [
         23,
         "M",
         "S",
         "College",
         "500",
         "Good",
         0,
         0,
         0
        ],
        [
         24,
         "F",
         "S",
         "College",
         "500",
         "Good",
         0,
         0,
         0
        ],
        [
         25,
         "M",
         "D",
         "College",
         "500",
         "Good",
         0,
         0,
         0
        ],
        [
         26,
         "F",
         "D",
         "College",
         "500",
         "Good",
         0,
         0,
         0
        ],
        [
         27,
         "M",
         "W",
         "College",
         "500",
         "Good",
         0,
         0,
         0
        ],
        [
         28,
         "F",
         "W",
         "College",
         "500",
         "Good",
         0,
         0,
         0
        ],
        [
         29,
         "M",
         "U",
         "College",
         "500",
         "Good",
         0,
         0,
         0
        ],
        [
         30,
         "F",
         "U",
         "College",
         "500",
         "Good",
         0,
         0,
         0
        ],
        [
         31,
         "M",
         "M",
         "2 yr Degree",
         "500",
         "Good",
         0,
         0,
         0
        ],
        [
         32,
         "F",
         "M",
         "2 yr Degree",
         "500",
         "Good",
         0,
         0,
         0
        ],
        [
         33,
         "M",
         "S",
         "2 yr Degree",
         "500",
         "Good",
         0,
         0,
         0
        ],
        [
         34,
         "F",
         "S",
         "2 yr Degree",
         "500",
         "Good",
         0,
         0,
         0
        ],
        [
         35,
         "M",
         "D",
         "2 yr Degree",
         "500",
         "Good",
         0,
         0,
         0
        ],
        [
         36,
         "F",
         "D",
         "2 yr Degree",
         "500",
         "Good",
         0,
         0,
         0
        ],
        [
         37,
         "M",
         "W",
         "2 yr Degree",
         "500",
         "Good",
         0,
         0,
         0
        ],
        [
         38,
         "F",
         "W",
         "2 yr Degree",
         "500",
         "Good",
         0,
         0,
         0
        ],
        [
         39,
         "M",
         "U",
         "2 yr Degree",
         "500",
         "Good",
         0,
         0,
         0
        ],
        [
         40,
         "F",
         "U",
         "2 yr Degree",
         "500",
         "Good",
         0,
         0,
         0
        ],
        [
         41,
         "M",
         "M",
         "4 yr Degree",
         "500",
         "Good",
         0,
         0,
         0
        ],
        [
         42,
         "F",
         "M",
         "4 yr Degree",
         "500",
         "Good",
         0,
         0,
         0
        ],
        [
         43,
         "M",
         "S",
         "4 yr Degree",
         "500",
         "Good",
         0,
         0,
         0
        ],
        [
         44,
         "F",
         "S",
         "4 yr Degree",
         "500",
         "Good",
         0,
         0,
         0
        ],
        [
         45,
         "M",
         "D",
         "4 yr Degree",
         "500",
         "Good",
         0,
         0,
         0
        ],
        [
         46,
         "F",
         "D",
         "4 yr Degree",
         "500",
         "Good",
         0,
         0,
         0
        ],
        [
         47,
         "M",
         "W",
         "4 yr Degree",
         "500",
         "Good",
         0,
         0,
         0
        ],
        [
         48,
         "F",
         "W",
         "4 yr Degree",
         "500",
         "Good",
         0,
         0,
         0
        ],
        [
         49,
         "M",
         "U",
         "4 yr Degree",
         "500",
         "Good",
         0,
         0,
         0
        ],
        [
         50,
         "F",
         "U",
         "4 yr Degree",
         "500",
         "Good",
         0,
         0,
         0
        ],
        [
         51,
         "M",
         "M",
         "Advanced Degree",
         "500",
         "Good",
         0,
         0,
         0
        ],
        [
         52,
         "F",
         "M",
         "Advanced Degree",
         "500",
         "Good",
         0,
         0,
         0
        ],
        [
         53,
         "M",
         "S",
         "Advanced Degree",
         "500",
         "Good",
         0,
         0,
         0
        ],
        [
         54,
         "F",
         "S",
         "Advanced Degree",
         "500",
         "Good",
         0,
         0,
         0
        ],
        [
         55,
         "M",
         "D",
         "Advanced Degree",
         "500",
         "Good",
         0,
         0,
         0
        ],
        [
         56,
         "F",
         "D",
         "Advanced Degree",
         "500",
         "Good",
         0,
         0,
         0
        ],
        [
         57,
         "M",
         "W",
         "Advanced Degree",
         "500",
         "Good",
         0,
         0,
         0
        ],
        [
         58,
         "F",
         "W",
         "Advanced Degree",
         "500",
         "Good",
         0,
         0,
         0
        ],
        [
         59,
         "M",
         "U",
         "Advanced Degree",
         "500",
         "Good",
         0,
         0,
         0
        ],
        [
         60,
         "F",
         "U",
         "Advanced Degree",
         "500",
         "Good",
         0,
         0,
         0
        ],
        [
         61,
         "M",
         "M",
         "Unknown",
         "500",
         "Good",
         0,
         0,
         0
        ],
        [
         62,
         "F",
         "M",
         "Unknown",
         "500",
         "Good",
         0,
         0,
         0
        ],
        [
         63,
         "M",
         "S",
         "Unknown",
         "500",
         "Good",
         0,
         0,
         0
        ],
        [
         64,
         "F",
         "S",
         "Unknown",
         "500",
         "Good",
         0,
         0,
         0
        ],
        [
         65,
         "M",
         "D",
         "Unknown",
         "500",
         "Good",
         0,
         0,
         0
        ],
        [
         66,
         "F",
         "D",
         "Unknown",
         "500",
         "Good",
         0,
         0,
         0
        ],
        [
         67,
         "M",
         "W",
         "Unknown",
         "500",
         "Good",
         0,
         0,
         0
        ],
        [
         68,
         "F",
         "W",
         "Unknown",
         "500",
         "Good",
         0,
         0,
         0
        ],
        [
         69,
         "M",
         "U",
         "Unknown",
         "500",
         "Good",
         0,
         0,
         0
        ],
        [
         70,
         "F",
         "U",
         "Unknown",
         "500",
         "Good",
         0,
         0,
         0
        ],
        [
         71,
         "M",
         "M",
         "Primary",
         "1000",
         "Good",
         0,
         0,
         0
        ],
        [
         72,
         "F",
         "M",
         "Primary",
         "1000",
         "Good",
         0,
         0,
         0
        ],
        [
         73,
         "M",
         "S",
         "Primary",
         "1000",
         "Good",
         0,
         0,
         0
        ],
        [
         74,
         "F",
         "S",
         "Primary",
         "1000",
         "Good",
         0,
         0,
         0
        ],
        [
         75,
         "M",
         "D",
         "Primary",
         "1000",
         "Good",
         0,
         0,
         0
        ],
        [
         76,
         "F",
         "D",
         "Primary",
         "1000",
         "Good",
         0,
         0,
         0
        ],
        [
         77,
         "M",
         "W",
         "Primary",
         "1000",
         "Good",
         0,
         0,
         0
        ],
        [
         78,
         "F",
         "W",
         "Primary",
         "1000",
         "Good",
         0,
         0,
         0
        ],
        [
         79,
         "M",
         "U",
         "Primary",
         "1000",
         "Good",
         0,
         0,
         0
        ],
        [
         80,
         "F",
         "U",
         "Primary",
         "1000",
         "Good",
         0,
         0,
         0
        ],
        [
         81,
         "M",
         "M",
         "Secondary",
         "1000",
         "Good",
         0,
         0,
         0
        ],
        [
         82,
         "F",
         "M",
         "Secondary",
         "1000",
         "Good",
         0,
         0,
         0
        ],
        [
         83,
         "M",
         "S",
         "Secondary",
         "1000",
         "Good",
         0,
         0,
         0
        ],
        [
         84,
         "F",
         "S",
         "Secondary",
         "1000",
         "Good",
         0,
         0,
         0
        ],
        [
         85,
         "M",
         "D",
         "Secondary",
         "1000",
         "Good",
         0,
         0,
         0
        ],
        [
         86,
         "F",
         "D",
         "Secondary",
         "1000",
         "Good",
         0,
         0,
         0
        ],
        [
         87,
         "M",
         "W",
         "Secondary",
         "1000",
         "Good",
         0,
         0,
         0
        ],
        [
         88,
         "F",
         "W",
         "Secondary",
         "1000",
         "Good",
         0,
         0,
         0
        ],
        [
         89,
         "M",
         "U",
         "Secondary",
         "1000",
         "Good",
         0,
         0,
         0
        ],
        [
         90,
         "F",
         "U",
         "Secondary",
         "1000",
         "Good",
         0,
         0,
         0
        ],
        [
         91,
         "M",
         "M",
         "College",
         "1000",
         "Good",
         0,
         0,
         0
        ],
        [
         92,
         "F",
         "M",
         "College",
         "1000",
         "Good",
         0,
         0,
         0
        ],
        [
         93,
         "M",
         "S",
         "College",
         "1000",
         "Good",
         0,
         0,
         0
        ],
        [
         94,
         "F",
         "S",
         "College",
         "1000",
         "Good",
         0,
         0,
         0
        ],
        [
         95,
         "M",
         "D",
         "College",
         "1000",
         "Good",
         0,
         0,
         0
        ],
        [
         96,
         "F",
         "D",
         "College",
         "1000",
         "Good",
         0,
         0,
         0
        ],
        [
         97,
         "M",
         "W",
         "College",
         "1000",
         "Good",
         0,
         0,
         0
        ],
        [
         98,
         "F",
         "W",
         "College",
         "1000",
         "Good",
         0,
         0,
         0
        ],
        [
         99,
         "M",
         "U",
         "College",
         "1000",
         "Good",
         0,
         0,
         0
        ],
        [
         100,
         "F",
         "U",
         "College",
         "1000",
         "Good",
         0,
         0,
         0
        ],
        [
         101,
         "M",
         "M",
         "2 yr Degree",
         "1000",
         "Good",
         0,
         0,
         0
        ],
        [
         102,
         "F",
         "M",
         "2 yr Degree",
         "1000",
         "Good",
         0,
         0,
         0
        ],
        [
         103,
         "M",
         "S",
         "2 yr Degree",
         "1000",
         "Good",
         0,
         0,
         0
        ],
        [
         104,
         "F",
         "S",
         "2 yr Degree",
         "1000",
         "Good",
         0,
         0,
         0
        ],
        [
         105,
         "M",
         "D",
         "2 yr Degree",
         "1000",
         "Good",
         0,
         0,
         0
        ],
        [
         106,
         "F",
         "D",
         "2 yr Degree",
         "1000",
         "Good",
         0,
         0,
         0
        ],
        [
         107,
         "M",
         "W",
         "2 yr Degree",
         "1000",
         "Good",
         0,
         0,
         0
        ],
        [
         108,
         "F",
         "W",
         "2 yr Degree",
         "1000",
         "Good",
         0,
         0,
         0
        ],
        [
         109,
         "M",
         "U",
         "2 yr Degree",
         "1000",
         "Good",
         0,
         0,
         0
        ],
        [
         110,
         "F",
         "U",
         "2 yr Degree",
         "1000",
         "Good",
         0,
         0,
         0
        ],
        [
         111,
         "M",
         "M",
         "4 yr Degree",
         "1000",
         "Good",
         0,
         0,
         0
        ],
        [
         112,
         "F",
         "M",
         "4 yr Degree",
         "1000",
         "Good",
         0,
         0,
         0
        ],
        [
         113,
         "M",
         "S",
         "4 yr Degree",
         "1000",
         "Good",
         0,
         0,
         0
        ],
        [
         114,
         "F",
         "S",
         "4 yr Degree",
         "1000",
         "Good",
         0,
         0,
         0
        ],
        [
         115,
         "M",
         "D",
         "4 yr Degree",
         "1000",
         "Good",
         0,
         0,
         0
        ],
        [
         116,
         "F",
         "D",
         "4 yr Degree",
         "1000",
         "Good",
         0,
         0,
         0
        ],
        [
         117,
         "M",
         "W",
         "4 yr Degree",
         "1000",
         "Good",
         0,
         0,
         0
        ],
        [
         118,
         "F",
         "W",
         "4 yr Degree",
         "1000",
         "Good",
         0,
         0,
         0
        ],
        [
         119,
         "M",
         "U",
         "4 yr Degree",
         "1000",
         "Good",
         0,
         0,
         0
        ],
        [
         120,
         "F",
         "U",
         "4 yr Degree",
         "1000",
         "Good",
         0,
         0,
         0
        ],
        [
         121,
         "M",
         "M",
         "Advanced Degree",
         "1000",
         "Good",
         0,
         0,
         0
        ],
        [
         122,
         "F",
         "M",
         "Advanced Degree",
         "1000",
         "Good",
         0,
         0,
         0
        ],
        [
         123,
         "M",
         "S",
         "Advanced Degree",
         "1000",
         "Good",
         0,
         0,
         0
        ],
        [
         124,
         "F",
         "S",
         "Advanced Degree",
         "1000",
         "Good",
         0,
         0,
         0
        ],
        [
         125,
         "M",
         "D",
         "Advanced Degree",
         "1000",
         "Good",
         0,
         0,
         0
        ],
        [
         126,
         "F",
         "D",
         "Advanced Degree",
         "1000",
         "Good",
         0,
         0,
         0
        ],
        [
         127,
         "M",
         "W",
         "Advanced Degree",
         "1000",
         "Good",
         0,
         0,
         0
        ],
        [
         128,
         "F",
         "W",
         "Advanced Degree",
         "1000",
         "Good",
         0,
         0,
         0
        ],
        [
         129,
         "M",
         "U",
         "Advanced Degree",
         "1000",
         "Good",
         0,
         0,
         0
        ],
        [
         130,
         "F",
         "U",
         "Advanced Degree",
         "1000",
         "Good",
         0,
         0,
         0
        ],
        [
         131,
         "M",
         "M",
         "Unknown",
         "1000",
         "Good",
         0,
         0,
         0
        ],
        [
         132,
         "F",
         "M",
         "Unknown",
         "1000",
         "Good",
         0,
         0,
         0
        ],
        [
         133,
         "M",
         "S",
         "Unknown",
         "1000",
         "Good",
         0,
         0,
         0
        ],
        [
         134,
         "F",
         "S",
         "Unknown",
         "1000",
         "Good",
         0,
         0,
         0
        ],
        [
         135,
         "M",
         "D",
         "Unknown",
         "1000",
         "Good",
         0,
         0,
         0
        ],
        [
         136,
         "F",
         "D",
         "Unknown",
         "1000",
         "Good",
         0,
         0,
         0
        ],
        [
         137,
         "M",
         "W",
         "Unknown",
         "1000",
         "Good",
         0,
         0,
         0
        ],
        [
         138,
         "F",
         "W",
         "Unknown",
         "1000",
         "Good",
         0,
         0,
         0
        ],
        [
         139,
         "M",
         "U",
         "Unknown",
         "1000",
         "Good",
         0,
         0,
         0
        ],
        [
         140,
         "F",
         "U",
         "Unknown",
         "1000",
         "Good",
         0,
         0,
         0
        ],
        [
         141,
         "M",
         "M",
         "Primary",
         "1500",
         "Good",
         0,
         0,
         0
        ],
        [
         142,
         "F",
         "M",
         "Primary",
         "1500",
         "Good",
         0,
         0,
         0
        ],
        [
         143,
         "M",
         "S",
         "Primary",
         "1500",
         "Good",
         0,
         0,
         0
        ],
        [
         144,
         "F",
         "S",
         "Primary",
         "1500",
         "Good",
         0,
         0,
         0
        ],
        [
         145,
         "M",
         "D",
         "Primary",
         "1500",
         "Good",
         0,
         0,
         0
        ],
        [
         146,
         "F",
         "D",
         "Primary",
         "1500",
         "Good",
         0,
         0,
         0
        ],
        [
         147,
         "M",
         "W",
         "Primary",
         "1500",
         "Good",
         0,
         0,
         0
        ],
        [
         148,
         "F",
         "W",
         "Primary",
         "1500",
         "Good",
         0,
         0,
         0
        ],
        [
         149,
         "M",
         "U",
         "Primary",
         "1500",
         "Good",
         0,
         0,
         0
        ],
        [
         150,
         "F",
         "U",
         "Primary",
         "1500",
         "Good",
         0,
         0,
         0
        ],
        [
         151,
         "M",
         "M",
         "Secondary",
         "1500",
         "Good",
         0,
         0,
         0
        ],
        [
         152,
         "F",
         "M",
         "Secondary",
         "1500",
         "Good",
         0,
         0,
         0
        ],
        [
         153,
         "M",
         "S",
         "Secondary",
         "1500",
         "Good",
         0,
         0,
         0
        ],
        [
         154,
         "F",
         "S",
         "Secondary",
         "1500",
         "Good",
         0,
         0,
         0
        ],
        [
         155,
         "M",
         "D",
         "Secondary",
         "1500",
         "Good",
         0,
         0,
         0
        ],
        [
         156,
         "F",
         "D",
         "Secondary",
         "1500",
         "Good",
         0,
         0,
         0
        ],
        [
         157,
         "M",
         "W",
         "Secondary",
         "1500",
         "Good",
         0,
         0,
         0
        ],
        [
         158,
         "F",
         "W",
         "Secondary",
         "1500",
         "Good",
         0,
         0,
         0
        ],
        [
         159,
         "M",
         "U",
         "Secondary",
         "1500",
         "Good",
         0,
         0,
         0
        ],
        [
         160,
         "F",
         "U",
         "Secondary",
         "1500",
         "Good",
         0,
         0,
         0
        ],
        [
         161,
         "M",
         "M",
         "College",
         "1500",
         "Good",
         0,
         0,
         0
        ],
        [
         162,
         "F",
         "M",
         "College",
         "1500",
         "Good",
         0,
         0,
         0
        ],
        [
         163,
         "M",
         "S",
         "College",
         "1500",
         "Good",
         0,
         0,
         0
        ],
        [
         164,
         "F",
         "S",
         "College",
         "1500",
         "Good",
         0,
         0,
         0
        ],
        [
         165,
         "M",
         "D",
         "College",
         "1500",
         "Good",
         0,
         0,
         0
        ],
        [
         166,
         "F",
         "D",
         "College",
         "1500",
         "Good",
         0,
         0,
         0
        ],
        [
         167,
         "M",
         "W",
         "College",
         "1500",
         "Good",
         0,
         0,
         0
        ],
        [
         168,
         "F",
         "W",
         "College",
         "1500",
         "Good",
         0,
         0,
         0
        ],
        [
         169,
         "M",
         "U",
         "College",
         "1500",
         "Good",
         0,
         0,
         0
        ],
        [
         170,
         "F",
         "U",
         "College",
         "1500",
         "Good",
         0,
         0,
         0
        ],
        [
         171,
         "M",
         "M",
         "2 yr Degree",
         "1500",
         "Good",
         0,
         0,
         0
        ],
        [
         172,
         "F",
         "M",
         "2 yr Degree",
         "1500",
         "Good",
         0,
         0,
         0
        ],
        [
         173,
         "M",
         "S",
         "2 yr Degree",
         "1500",
         "Good",
         0,
         0,
         0
        ],
        [
         174,
         "F",
         "S",
         "2 yr Degree",
         "1500",
         "Good",
         0,
         0,
         0
        ],
        [
         175,
         "M",
         "D",
         "2 yr Degree",
         "1500",
         "Good",
         0,
         0,
         0
        ],
        [
         176,
         "F",
         "D",
         "2 yr Degree",
         "1500",
         "Good",
         0,
         0,
         0
        ],
        [
         177,
         "M",
         "W",
         "2 yr Degree",
         "1500",
         "Good",
         0,
         0,
         0
        ],
        [
         178,
         "F",
         "W",
         "2 yr Degree",
         "1500",
         "Good",
         0,
         0,
         0
        ],
        [
         179,
         "M",
         "U",
         "2 yr Degree",
         "1500",
         "Good",
         0,
         0,
         0
        ],
        [
         180,
         "F",
         "U",
         "2 yr Degree",
         "1500",
         "Good",
         0,
         0,
         0
        ],
        [
         181,
         "M",
         "M",
         "4 yr Degree",
         "1500",
         "Good",
         0,
         0,
         0
        ],
        [
         182,
         "F",
         "M",
         "4 yr Degree",
         "1500",
         "Good",
         0,
         0,
         0
        ],
        [
         183,
         "M",
         "S",
         "4 yr Degree",
         "1500",
         "Good",
         0,
         0,
         0
        ],
        [
         184,
         "F",
         "S",
         "4 yr Degree",
         "1500",
         "Good",
         0,
         0,
         0
        ],
        [
         185,
         "M",
         "D",
         "4 yr Degree",
         "1500",
         "Good",
         0,
         0,
         0
        ],
        [
         186,
         "F",
         "D",
         "4 yr Degree",
         "1500",
         "Good",
         0,
         0,
         0
        ],
        [
         187,
         "M",
         "W",
         "4 yr Degree",
         "1500",
         "Good",
         0,
         0,
         0
        ],
        [
         188,
         "F",
         "W",
         "4 yr Degree",
         "1500",
         "Good",
         0,
         0,
         0
        ],
        [
         189,
         "M",
         "U",
         "4 yr Degree",
         "1500",
         "Good",
         0,
         0,
         0
        ],
        [
         190,
         "F",
         "U",
         "4 yr Degree",
         "1500",
         "Good",
         0,
         0,
         0
        ],
        [
         191,
         "M",
         "M",
         "Advanced Degree",
         "1500",
         "Good",
         0,
         0,
         0
        ],
        [
         192,
         "F",
         "M",
         "Advanced Degree",
         "1500",
         "Good",
         0,
         0,
         0
        ],
        [
         193,
         "M",
         "S",
         "Advanced Degree",
         "1500",
         "Good",
         0,
         0,
         0
        ],
        [
         194,
         "F",
         "S",
         "Advanced Degree",
         "1500",
         "Good",
         0,
         0,
         0
        ],
        [
         195,
         "M",
         "D",
         "Advanced Degree",
         "1500",
         "Good",
         0,
         0,
         0
        ],
        [
         196,
         "F",
         "D",
         "Advanced Degree",
         "1500",
         "Good",
         0,
         0,
         0
        ],
        [
         197,
         "M",
         "W",
         "Advanced Degree",
         "1500",
         "Good",
         0,
         0,
         0
        ],
        [
         198,
         "F",
         "W",
         "Advanced Degree",
         "1500",
         "Good",
         0,
         0,
         0
        ],
        [
         199,
         "M",
         "U",
         "Advanced Degree",
         "1500",
         "Good",
         0,
         0,
         0
        ],
        [
         200,
         "F",
         "U",
         "Advanced Degree",
         "1500",
         "Good",
         0,
         0,
         0
        ],
        [
         201,
         "M",
         "M",
         "Unknown",
         "1500",
         "Good",
         0,
         0,
         0
        ],
        [
         202,
         "F",
         "M",
         "Unknown",
         "1500",
         "Good",
         0,
         0,
         0
        ],
        [
         203,
         "M",
         "S",
         "Unknown",
         "1500",
         "Good",
         0,
         0,
         0
        ],
        [
         204,
         "F",
         "S",
         "Unknown",
         "1500",
         "Good",
         0,
         0,
         0
        ],
        [
         205,
         "M",
         "D",
         "Unknown",
         "1500",
         "Good",
         0,
         0,
         0
        ],
        [
         206,
         "F",
         "D",
         "Unknown",
         "1500",
         "Good",
         0,
         0,
         0
        ],
        [
         207,
         "M",
         "W",
         "Unknown",
         "1500",
         "Good",
         0,
         0,
         0
        ],
        [
         208,
         "F",
         "W",
         "Unknown",
         "1500",
         "Good",
         0,
         0,
         0
        ],
        [
         209,
         "M",
         "U",
         "Unknown",
         "1500",
         "Good",
         0,
         0,
         0
        ],
        [
         210,
         "F",
         "U",
         "Unknown",
         "1500",
         "Good",
         0,
         0,
         0
        ],
        [
         211,
         "M",
         "M",
         "Primary",
         "2000",
         "Good",
         0,
         0,
         0
        ],
        [
         212,
         "F",
         "M",
         "Primary",
         "2000",
         "Good",
         0,
         0,
         0
        ],
        [
         213,
         "M",
         "S",
         "Primary",
         "2000",
         "Good",
         0,
         0,
         0
        ],
        [
         214,
         "F",
         "S",
         "Primary",
         "2000",
         "Good",
         0,
         0,
         0
        ],
        [
         215,
         "M",
         "D",
         "Primary",
         "2000",
         "Good",
         0,
         0,
         0
        ],
        [
         216,
         "F",
         "D",
         "Primary",
         "2000",
         "Good",
         0,
         0,
         0
        ],
        [
         217,
         "M",
         "W",
         "Primary",
         "2000",
         "Good",
         0,
         0,
         0
        ],
        [
         218,
         "F",
         "W",
         "Primary",
         "2000",
         "Good",
         0,
         0,
         0
        ],
        [
         219,
         "M",
         "U",
         "Primary",
         "2000",
         "Good",
         0,
         0,
         0
        ],
        [
         220,
         "F",
         "U",
         "Primary",
         "2000",
         "Good",
         0,
         0,
         0
        ],
        [
         221,
         "M",
         "M",
         "Secondary",
         "2000",
         "Good",
         0,
         0,
         0
        ],
        [
         222,
         "F",
         "M",
         "Secondary",
         "2000",
         "Good",
         0,
         0,
         0
        ],
        [
         223,
         "M",
         "S",
         "Secondary",
         "2000",
         "Good",
         0,
         0,
         0
        ],
        [
         224,
         "F",
         "S",
         "Secondary",
         "2000",
         "Good",
         0,
         0,
         0
        ],
        [
         225,
         "M",
         "D",
         "Secondary",
         "2000",
         "Good",
         0,
         0,
         0
        ],
        [
         226,
         "F",
         "D",
         "Secondary",
         "2000",
         "Good",
         0,
         0,
         0
        ],
        [
         227,
         "M",
         "W",
         "Secondary",
         "2000",
         "Good",
         0,
         0,
         0
        ],
        [
         228,
         "F",
         "W",
         "Secondary",
         "2000",
         "Good",
         0,
         0,
         0
        ],
        [
         229,
         "M",
         "U",
         "Secondary",
         "2000",
         "Good",
         0,
         0,
         0
        ],
        [
         230,
         "F",
         "U",
         "Secondary",
         "2000",
         "Good",
         0,
         0,
         0
        ],
        [
         231,
         "M",
         "M",
         "College",
         "2000",
         "Good",
         0,
         0,
         0
        ],
        [
         232,
         "F",
         "M",
         "College",
         "2000",
         "Good",
         0,
         0,
         0
        ],
        [
         233,
         "M",
         "S",
         "College",
         "2000",
         "Good",
         0,
         0,
         0
        ],
        [
         234,
         "F",
         "S",
         "College",
         "2000",
         "Good",
         0,
         0,
         0
        ],
        [
         235,
         "M",
         "D",
         "College",
         "2000",
         "Good",
         0,
         0,
         0
        ],
        [
         236,
         "F",
         "D",
         "College",
         "2000",
         "Good",
         0,
         0,
         0
        ],
        [
         237,
         "M",
         "W",
         "College",
         "2000",
         "Good",
         0,
         0,
         0
        ],
        [
         238,
         "F",
         "W",
         "College",
         "2000",
         "Good",
         0,
         0,
         0
        ],
        [
         239,
         "M",
         "U",
         "College",
         "2000",
         "Good",
         0,
         0,
         0
        ],
        [
         240,
         "F",
         "U",
         "College",
         "2000",
         "Good",
         0,
         0,
         0
        ],
        [
         241,
         "M",
         "M",
         "2 yr Degree",
         "2000",
         "Good",
         0,
         0,
         0
        ],
        [
         242,
         "F",
         "M",
         "2 yr Degree",
         "2000",
         "Good",
         0,
         0,
         0
        ],
        [
         243,
         "M",
         "S",
         "2 yr Degree",
         "2000",
         "Good",
         0,
         0,
         0
        ],
        [
         244,
         "F",
         "S",
         "2 yr Degree",
         "2000",
         "Good",
         0,
         0,
         0
        ],
        [
         245,
         "M",
         "D",
         "2 yr Degree",
         "2000",
         "Good",
         0,
         0,
         0
        ],
        [
         246,
         "F",
         "D",
         "2 yr Degree",
         "2000",
         "Good",
         0,
         0,
         0
        ],
        [
         247,
         "M",
         "W",
         "2 yr Degree",
         "2000",
         "Good",
         0,
         0,
         0
        ],
        [
         248,
         "F",
         "W",
         "2 yr Degree",
         "2000",
         "Good",
         0,
         0,
         0
        ],
        [
         249,
         "M",
         "U",
         "2 yr Degree",
         "2000",
         "Good",
         0,
         0,
         0
        ],
        [
         250,
         "F",
         "U",
         "2 yr Degree",
         "2000",
         "Good",
         0,
         0,
         0
        ],
        [
         251,
         "M",
         "M",
         "4 yr Degree",
         "2000",
         "Good",
         0,
         0,
         0
        ],
        [
         252,
         "F",
         "M",
         "4 yr Degree",
         "2000",
         "Good",
         0,
         0,
         0
        ],
        [
         253,
         "M",
         "S",
         "4 yr Degree",
         "2000",
         "Good",
         0,
         0,
         0
        ],
        [
         254,
         "F",
         "S",
         "4 yr Degree",
         "2000",
         "Good",
         0,
         0,
         0
        ],
        [
         255,
         "M",
         "D",
         "4 yr Degree",
         "2000",
         "Good",
         0,
         0,
         0
        ],
        [
         256,
         "F",
         "D",
         "4 yr Degree",
         "2000",
         "Good",
         0,
         0,
         0
        ],
        [
         257,
         "M",
         "W",
         "4 yr Degree",
         "2000",
         "Good",
         0,
         0,
         0
        ],
        [
         258,
         "F",
         "W",
         "4 yr Degree",
         "2000",
         "Good",
         0,
         0,
         0
        ],
        [
         259,
         "M",
         "U",
         "4 yr Degree",
         "2000",
         "Good",
         0,
         0,
         0
        ],
        [
         260,
         "F",
         "U",
         "4 yr Degree",
         "2000",
         "Good",
         0,
         0,
         0
        ],
        [
         261,
         "M",
         "M",
         "Advanced Degree",
         "2000",
         "Good",
         0,
         0,
         0
        ],
        [
         262,
         "F",
         "M",
         "Advanced Degree",
         "2000",
         "Good",
         0,
         0,
         0
        ],
        [
         263,
         "M",
         "S",
         "Advanced Degree",
         "2000",
         "Good",
         0,
         0,
         0
        ],
        [
         264,
         "F",
         "S",
         "Advanced Degree",
         "2000",
         "Good",
         0,
         0,
         0
        ],
        [
         265,
         "M",
         "D",
         "Advanced Degree",
         "2000",
         "Good",
         0,
         0,
         0
        ],
        [
         266,
         "F",
         "D",
         "Advanced Degree",
         "2000",
         "Good",
         0,
         0,
         0
        ],
        [
         267,
         "M",
         "W",
         "Advanced Degree",
         "2000",
         "Good",
         0,
         0,
         0
        ],
        [
         268,
         "F",
         "W",
         "Advanced Degree",
         "2000",
         "Good",
         0,
         0,
         0
        ],
        [
         269,
         "M",
         "U",
         "Advanced Degree",
         "2000",
         "Good",
         0,
         0,
         0
        ],
        [
         270,
         "F",
         "U",
         "Advanced Degree",
         "2000",
         "Good",
         0,
         0,
         0
        ],
        [
         271,
         "M",
         "M",
         "Unknown",
         "2000",
         "Good",
         0,
         0,
         0
        ],
        [
         272,
         "F",
         "M",
         "Unknown",
         "2000",
         "Good",
         0,
         0,
         0
        ],
        [
         273,
         "M",
         "S",
         "Unknown",
         "2000",
         "Good",
         0,
         0,
         0
        ],
        [
         274,
         "F",
         "S",
         "Unknown",
         "2000",
         "Good",
         0,
         0,
         0
        ],
        [
         275,
         "M",
         "D",
         "Unknown",
         "2000",
         "Good",
         0,
         0,
         0
        ],
        [
         276,
         "F",
         "D",
         "Unknown",
         "2000",
         "Good",
         0,
         0,
         0
        ],
        [
         277,
         "M",
         "W",
         "Unknown",
         "2000",
         "Good",
         0,
         0,
         0
        ],
        [
         278,
         "F",
         "W",
         "Unknown",
         "2000",
         "Good",
         0,
         0,
         0
        ],
        [
         279,
         "M",
         "U",
         "Unknown",
         "2000",
         "Good",
         0,
         0,
         0
        ],
        [
         280,
         "F",
         "U",
         "Unknown",
         "2000",
         "Good",
         0,
         0,
         0
        ],
        [
         281,
         "M",
         "M",
         "Primary",
         "2500",
         "Good",
         0,
         0,
         0
        ],
        [
         282,
         "F",
         "M",
         "Primary",
         "2500",
         "Good",
         0,
         0,
         0
        ],
        [
         283,
         "M",
         "S",
         "Primary",
         "2500",
         "Good",
         0,
         0,
         0
        ],
        [
         284,
         "F",
         "S",
         "Primary",
         "2500",
         "Good",
         0,
         0,
         0
        ],
        [
         285,
         "M",
         "D",
         "Primary",
         "2500",
         "Good",
         0,
         0,
         0
        ],
        [
         286,
         "F",
         "D",
         "Primary",
         "2500",
         "Good",
         0,
         0,
         0
        ],
        [
         287,
         "M",
         "W",
         "Primary",
         "2500",
         "Good",
         0,
         0,
         0
        ],
        [
         288,
         "F",
         "W",
         "Primary",
         "2500",
         "Good",
         0,
         0,
         0
        ],
        [
         289,
         "M",
         "U",
         "Primary",
         "2500",
         "Good",
         0,
         0,
         0
        ],
        [
         290,
         "F",
         "U",
         "Primary",
         "2500",
         "Good",
         0,
         0,
         0
        ],
        [
         291,
         "M",
         "M",
         "Secondary",
         "2500",
         "Good",
         0,
         0,
         0
        ],
        [
         292,
         "F",
         "M",
         "Secondary",
         "2500",
         "Good",
         0,
         0,
         0
        ],
        [
         293,
         "M",
         "S",
         "Secondary",
         "2500",
         "Good",
         0,
         0,
         0
        ],
        [
         294,
         "F",
         "S",
         "Secondary",
         "2500",
         "Good",
         0,
         0,
         0
        ],
        [
         295,
         "M",
         "D",
         "Secondary",
         "2500",
         "Good",
         0,
         0,
         0
        ],
        [
         296,
         "F",
         "D",
         "Secondary",
         "2500",
         "Good",
         0,
         0,
         0
        ],
        [
         297,
         "M",
         "W",
         "Secondary",
         "2500",
         "Good",
         0,
         0,
         0
        ],
        [
         298,
         "F",
         "W",
         "Secondary",
         "2500",
         "Good",
         0,
         0,
         0
        ],
        [
         299,
         "M",
         "U",
         "Secondary",
         "2500",
         "Good",
         0,
         0,
         0
        ],
        [
         300,
         "F",
         "U",
         "Secondary",
         "2500",
         "Good",
         0,
         0,
         0
        ],
        [
         301,
         "M",
         "M",
         "College",
         "2500",
         "Good",
         0,
         0,
         0
        ],
        [
         302,
         "F",
         "M",
         "College",
         "2500",
         "Good",
         0,
         0,
         0
        ],
        [
         303,
         "M",
         "S",
         "College",
         "2500",
         "Good",
         0,
         0,
         0
        ],
        [
         304,
         "F",
         "S",
         "College",
         "2500",
         "Good",
         0,
         0,
         0
        ],
        [
         305,
         "M",
         "D",
         "College",
         "2500",
         "Good",
         0,
         0,
         0
        ],
        [
         306,
         "F",
         "D",
         "College",
         "2500",
         "Good",
         0,
         0,
         0
        ],
        [
         307,
         "M",
         "W",
         "College",
         "2500",
         "Good",
         0,
         0,
         0
        ],
        [
         308,
         "F",
         "W",
         "College",
         "2500",
         "Good",
         0,
         0,
         0
        ],
        [
         309,
         "M",
         "U",
         "College",
         "2500",
         "Good",
         0,
         0,
         0
        ],
        [
         310,
         "F",
         "U",
         "College",
         "2500",
         "Good",
         0,
         0,
         0
        ],
        [
         311,
         "M",
         "M",
         "2 yr Degree",
         "2500",
         "Good",
         0,
         0,
         0
        ],
        [
         312,
         "F",
         "M",
         "2 yr Degree",
         "2500",
         "Good",
         0,
         0,
         0
        ],
        [
         313,
         "M",
         "S",
         "2 yr Degree",
         "2500",
         "Good",
         0,
         0,
         0
        ],
        [
         314,
         "F",
         "S",
         "2 yr Degree",
         "2500",
         "Good",
         0,
         0,
         0
        ],
        [
         315,
         "M",
         "D",
         "2 yr Degree",
         "2500",
         "Good",
         0,
         0,
         0
        ],
        [
         316,
         "F",
         "D",
         "2 yr Degree",
         "2500",
         "Good",
         0,
         0,
         0
        ],
        [
         317,
         "M",
         "W",
         "2 yr Degree",
         "2500",
         "Good",
         0,
         0,
         0
        ],
        [
         318,
         "F",
         "W",
         "2 yr Degree",
         "2500",
         "Good",
         0,
         0,
         0
        ],
        [
         319,
         "M",
         "U",
         "2 yr Degree",
         "2500",
         "Good",
         0,
         0,
         0
        ],
        [
         320,
         "F",
         "U",
         "2 yr Degree",
         "2500",
         "Good",
         0,
         0,
         0
        ],
        [
         321,
         "M",
         "M",
         "4 yr Degree",
         "2500",
         "Good",
         0,
         0,
         0
        ],
        [
         322,
         "F",
         "M",
         "4 yr Degree",
         "2500",
         "Good",
         0,
         0,
         0
        ],
        [
         323,
         "M",
         "S",
         "4 yr Degree",
         "2500",
         "Good",
         0,
         0,
         0
        ],
        [
         324,
         "F",
         "S",
         "4 yr Degree",
         "2500",
         "Good",
         0,
         0,
         0
        ],
        [
         325,
         "M",
         "D",
         "4 yr Degree",
         "2500",
         "Good",
         0,
         0,
         0
        ],
        [
         326,
         "F",
         "D",
         "4 yr Degree",
         "2500",
         "Good",
         0,
         0,
         0
        ],
        [
         327,
         "M",
         "W",
         "4 yr Degree",
         "2500",
         "Good",
         0,
         0,
         0
        ],
        [
         328,
         "F",
         "W",
         "4 yr Degree",
         "2500",
         "Good",
         0,
         0,
         0
        ],
        [
         329,
         "M",
         "U",
         "4 yr Degree",
         "2500",
         "Good",
         0,
         0,
         0
        ],
        [
         330,
         "F",
         "U",
         "4 yr Degree",
         "2500",
         "Good",
         0,
         0,
         0
        ],
        [
         331,
         "M",
         "M",
         "Advanced Degree",
         "2500",
         "Good",
         0,
         0,
         0
        ],
        [
         332,
         "F",
         "M",
         "Advanced Degree",
         "2500",
         "Good",
         0,
         0,
         0
        ],
        [
         333,
         "M",
         "S",
         "Advanced Degree",
         "2500",
         "Good",
         0,
         0,
         0
        ],
        [
         334,
         "F",
         "S",
         "Advanced Degree",
         "2500",
         "Good",
         0,
         0,
         0
        ],
        [
         335,
         "M",
         "D",
         "Advanced Degree",
         "2500",
         "Good",
         0,
         0,
         0
        ],
        [
         336,
         "F",
         "D",
         "Advanced Degree",
         "2500",
         "Good",
         0,
         0,
         0
        ],
        [
         337,
         "M",
         "W",
         "Advanced Degree",
         "2500",
         "Good",
         0,
         0,
         0
        ],
        [
         338,
         "F",
         "W",
         "Advanced Degree",
         "2500",
         "Good",
         0,
         0,
         0
        ],
        [
         339,
         "M",
         "U",
         "Advanced Degree",
         "2500",
         "Good",
         0,
         0,
         0
        ],
        [
         340,
         "F",
         "U",
         "Advanced Degree",
         "2500",
         "Good",
         0,
         0,
         0
        ],
        [
         341,
         "M",
         "M",
         "Unknown",
         "2500",
         "Good",
         0,
         0,
         0
        ],
        [
         342,
         "F",
         "M",
         "Unknown",
         "2500",
         "Good",
         0,
         0,
         0
        ],
        [
         343,
         "M",
         "S",
         "Unknown",
         "2500",
         "Good",
         0,
         0,
         0
        ],
        [
         344,
         "F",
         "S",
         "Unknown",
         "2500",
         "Good",
         0,
         0,
         0
        ],
        [
         345,
         "M",
         "D",
         "Unknown",
         "2500",
         "Good",
         0,
         0,
         0
        ],
        [
         346,
         "F",
         "D",
         "Unknown",
         "2500",
         "Good",
         0,
         0,
         0
        ],
        [
         347,
         "M",
         "W",
         "Unknown",
         "2500",
         "Good",
         0,
         0,
         0
        ],
        [
         348,
         "F",
         "W",
         "Unknown",
         "2500",
         "Good",
         0,
         0,
         0
        ],
        [
         349,
         "M",
         "U",
         "Unknown",
         "2500",
         "Good",
         0,
         0,
         0
        ],
        [
         350,
         "F",
         "U",
         "Unknown",
         "2500",
         "Good",
         0,
         0,
         0
        ],
        [
         351,
         "M",
         "M",
         "Primary",
         "3000",
         "Good",
         0,
         0,
         0
        ],
        [
         352,
         "F",
         "M",
         "Primary",
         "3000",
         "Good",
         0,
         0,
         0
        ],
        [
         353,
         "M",
         "S",
         "Primary",
         "3000",
         "Good",
         0,
         0,
         0
        ],
        [
         354,
         "F",
         "S",
         "Primary",
         "3000",
         "Good",
         0,
         0,
         0
        ],
        [
         355,
         "M",
         "D",
         "Primary",
         "3000",
         "Good",
         0,
         0,
         0
        ],
        [
         356,
         "F",
         "D",
         "Primary",
         "3000",
         "Good",
         0,
         0,
         0
        ],
        [
         357,
         "M",
         "W",
         "Primary",
         "3000",
         "Good",
         0,
         0,
         0
        ],
        [
         358,
         "F",
         "W",
         "Primary",
         "3000",
         "Good",
         0,
         0,
         0
        ],
        [
         359,
         "M",
         "U",
         "Primary",
         "3000",
         "Good",
         0,
         0,
         0
        ],
        [
         360,
         "F",
         "U",
         "Primary",
         "3000",
         "Good",
         0,
         0,
         0
        ],
        [
         361,
         "M",
         "M",
         "Secondary",
         "3000",
         "Good",
         0,
         0,
         0
        ],
        [
         362,
         "F",
         "M",
         "Secondary",
         "3000",
         "Good",
         0,
         0,
         0
        ],
        [
         363,
         "M",
         "S",
         "Secondary",
         "3000",
         "Good",
         0,
         0,
         0
        ],
        [
         364,
         "F",
         "S",
         "Secondary",
         "3000",
         "Good",
         0,
         0,
         0
        ],
        [
         365,
         "M",
         "D",
         "Secondary",
         "3000",
         "Good",
         0,
         0,
         0
        ],
        [
         366,
         "F",
         "D",
         "Secondary",
         "3000",
         "Good",
         0,
         0,
         0
        ],
        [
         367,
         "M",
         "W",
         "Secondary",
         "3000",
         "Good",
         0,
         0,
         0
        ],
        [
         368,
         "F",
         "W",
         "Secondary",
         "3000",
         "Good",
         0,
         0,
         0
        ],
        [
         369,
         "M",
         "U",
         "Secondary",
         "3000",
         "Good",
         0,
         0,
         0
        ],
        [
         370,
         "F",
         "U",
         "Secondary",
         "3000",
         "Good",
         0,
         0,
         0
        ],
        [
         371,
         "M",
         "M",
         "College",
         "3000",
         "Good",
         0,
         0,
         0
        ],
        [
         372,
         "F",
         "M",
         "College",
         "3000",
         "Good",
         0,
         0,
         0
        ],
        [
         373,
         "M",
         "S",
         "College",
         "3000",
         "Good",
         0,
         0,
         0
        ],
        [
         374,
         "F",
         "S",
         "College",
         "3000",
         "Good",
         0,
         0,
         0
        ],
        [
         375,
         "M",
         "D",
         "College",
         "3000",
         "Good",
         0,
         0,
         0
        ],
        [
         376,
         "F",
         "D",
         "College",
         "3000",
         "Good",
         0,
         0,
         0
        ],
        [
         377,
         "M",
         "W",
         "College",
         "3000",
         "Good",
         0,
         0,
         0
        ],
        [
         378,
         "F",
         "W",
         "College",
         "3000",
         "Good",
         0,
         0,
         0
        ],
        [
         379,
         "M",
         "U",
         "College",
         "3000",
         "Good",
         0,
         0,
         0
        ],
        [
         380,
         "F",
         "U",
         "College",
         "3000",
         "Good",
         0,
         0,
         0
        ],
        [
         381,
         "M",
         "M",
         "2 yr Degree",
         "3000",
         "Good",
         0,
         0,
         0
        ],
        [
         382,
         "F",
         "M",
         "2 yr Degree",
         "3000",
         "Good",
         0,
         0,
         0
        ],
        [
         383,
         "M",
         "S",
         "2 yr Degree",
         "3000",
         "Good",
         0,
         0,
         0
        ],
        [
         384,
         "F",
         "S",
         "2 yr Degree",
         "3000",
         "Good",
         0,
         0,
         0
        ],
        [
         385,
         "M",
         "D",
         "2 yr Degree",
         "3000",
         "Good",
         0,
         0,
         0
        ],
        [
         386,
         "F",
         "D",
         "2 yr Degree",
         "3000",
         "Good",
         0,
         0,
         0
        ],
        [
         387,
         "M",
         "W",
         "2 yr Degree",
         "3000",
         "Good",
         0,
         0,
         0
        ],
        [
         388,
         "F",
         "W",
         "2 yr Degree",
         "3000",
         "Good",
         0,
         0,
         0
        ],
        [
         389,
         "M",
         "U",
         "2 yr Degree",
         "3000",
         "Good",
         0,
         0,
         0
        ],
        [
         390,
         "F",
         "U",
         "2 yr Degree",
         "3000",
         "Good",
         0,
         0,
         0
        ],
        [
         391,
         "M",
         "M",
         "4 yr Degree",
         "3000",
         "Good",
         0,
         0,
         0
        ],
        [
         392,
         "F",
         "M",
         "4 yr Degree",
         "3000",
         "Good",
         0,
         0,
         0
        ],
        [
         393,
         "M",
         "S",
         "4 yr Degree",
         "3000",
         "Good",
         0,
         0,
         0
        ],
        [
         394,
         "F",
         "S",
         "4 yr Degree",
         "3000",
         "Good",
         0,
         0,
         0
        ],
        [
         395,
         "M",
         "D",
         "4 yr Degree",
         "3000",
         "Good",
         0,
         0,
         0
        ],
        [
         396,
         "F",
         "D",
         "4 yr Degree",
         "3000",
         "Good",
         0,
         0,
         0
        ],
        [
         397,
         "M",
         "W",
         "4 yr Degree",
         "3000",
         "Good",
         0,
         0,
         0
        ],
        [
         398,
         "F",
         "W",
         "4 yr Degree",
         "3000",
         "Good",
         0,
         0,
         0
        ],
        [
         399,
         "M",
         "U",
         "4 yr Degree",
         "3000",
         "Good",
         0,
         0,
         0
        ],
        [
         400,
         "F",
         "U",
         "4 yr Degree",
         "3000",
         "Good",
         0,
         0,
         0
        ],
        [
         401,
         "M",
         "M",
         "Advanced Degree",
         "3000",
         "Good",
         0,
         0,
         0
        ],
        [
         402,
         "F",
         "M",
         "Advanced Degree",
         "3000",
         "Good",
         0,
         0,
         0
        ],
        [
         403,
         "M",
         "S",
         "Advanced Degree",
         "3000",
         "Good",
         0,
         0,
         0
        ],
        [
         404,
         "F",
         "S",
         "Advanced Degree",
         "3000",
         "Good",
         0,
         0,
         0
        ],
        [
         405,
         "M",
         "D",
         "Advanced Degree",
         "3000",
         "Good",
         0,
         0,
         0
        ],
        [
         406,
         "F",
         "D",
         "Advanced Degree",
         "3000",
         "Good",
         0,
         0,
         0
        ],
        [
         407,
         "M",
         "W",
         "Advanced Degree",
         "3000",
         "Good",
         0,
         0,
         0
        ],
        [
         408,
         "F",
         "W",
         "Advanced Degree",
         "3000",
         "Good",
         0,
         0,
         0
        ],
        [
         409,
         "M",
         "U",
         "Advanced Degree",
         "3000",
         "Good",
         0,
         0,
         0
        ],
        [
         410,
         "F",
         "U",
         "Advanced Degree",
         "3000",
         "Good",
         0,
         0,
         0
        ],
        [
         411,
         "M",
         "M",
         "Unknown",
         "3000",
         "Good",
         0,
         0,
         0
        ],
        [
         412,
         "F",
         "M",
         "Unknown",
         "3000",
         "Good",
         0,
         0,
         0
        ],
        [
         413,
         "M",
         "S",
         "Unknown",
         "3000",
         "Good",
         0,
         0,
         0
        ],
        [
         414,
         "F",
         "S",
         "Unknown",
         "3000",
         "Good",
         0,
         0,
         0
        ],
        [
         415,
         "M",
         "D",
         "Unknown",
         "3000",
         "Good",
         0,
         0,
         0
        ],
        [
         416,
         "F",
         "D",
         "Unknown",
         "3000",
         "Good",
         0,
         0,
         0
        ],
        [
         417,
         "M",
         "W",
         "Unknown",
         "3000",
         "Good",
         0,
         0,
         0
        ],
        [
         418,
         "F",
         "W",
         "Unknown",
         "3000",
         "Good",
         0,
         0,
         0
        ],
        [
         419,
         "M",
         "U",
         "Unknown",
         "3000",
         "Good",
         0,
         0,
         0
        ],
        [
         420,
         "F",
         "U",
         "Unknown",
         "3000",
         "Good",
         0,
         0,
         0
        ],
        [
         421,
         "M",
         "M",
         "Primary",
         "3500",
         "Good",
         0,
         0,
         0
        ],
        [
         422,
         "F",
         "M",
         "Primary",
         "3500",
         "Good",
         0,
         0,
         0
        ],
        [
         423,
         "M",
         "S",
         "Primary",
         "3500",
         "Good",
         0,
         0,
         0
        ],
        [
         424,
         "F",
         "S",
         "Primary",
         "3500",
         "Good",
         0,
         0,
         0
        ],
        [
         425,
         "M",
         "D",
         "Primary",
         "3500",
         "Good",
         0,
         0,
         0
        ],
        [
         426,
         "F",
         "D",
         "Primary",
         "3500",
         "Good",
         0,
         0,
         0
        ],
        [
         427,
         "M",
         "W",
         "Primary",
         "3500",
         "Good",
         0,
         0,
         0
        ],
        [
         428,
         "F",
         "W",
         "Primary",
         "3500",
         "Good",
         0,
         0,
         0
        ],
        [
         429,
         "M",
         "U",
         "Primary",
         "3500",
         "Good",
         0,
         0,
         0
        ],
        [
         430,
         "F",
         "U",
         "Primary",
         "3500",
         "Good",
         0,
         0,
         0
        ],
        [
         431,
         "M",
         "M",
         "Secondary",
         "3500",
         "Good",
         0,
         0,
         0
        ],
        [
         432,
         "F",
         "M",
         "Secondary",
         "3500",
         "Good",
         0,
         0,
         0
        ],
        [
         433,
         "M",
         "S",
         "Secondary",
         "3500",
         "Good",
         0,
         0,
         0
        ],
        [
         434,
         "F",
         "S",
         "Secondary",
         "3500",
         "Good",
         0,
         0,
         0
        ],
        [
         435,
         "M",
         "D",
         "Secondary",
         "3500",
         "Good",
         0,
         0,
         0
        ],
        [
         436,
         "F",
         "D",
         "Secondary",
         "3500",
         "Good",
         0,
         0,
         0
        ],
        [
         437,
         "M",
         "W",
         "Secondary",
         "3500",
         "Good",
         0,
         0,
         0
        ],
        [
         438,
         "F",
         "W",
         "Secondary",
         "3500",
         "Good",
         0,
         0,
         0
        ],
        [
         439,
         "M",
         "U",
         "Secondary",
         "3500",
         "Good",
         0,
         0,
         0
        ],
        [
         440,
         "F",
         "U",
         "Secondary",
         "3500",
         "Good",
         0,
         0,
         0
        ],
        [
         441,
         "M",
         "M",
         "College",
         "3500",
         "Good",
         0,
         0,
         0
        ],
        [
         442,
         "F",
         "M",
         "College",
         "3500",
         "Good",
         0,
         0,
         0
        ],
        [
         443,
         "M",
         "S",
         "College",
         "3500",
         "Good",
         0,
         0,
         0
        ],
        [
         444,
         "F",
         "S",
         "College",
         "3500",
         "Good",
         0,
         0,
         0
        ],
        [
         445,
         "M",
         "D",
         "College",
         "3500",
         "Good",
         0,
         0,
         0
        ],
        [
         446,
         "F",
         "D",
         "College",
         "3500",
         "Good",
         0,
         0,
         0
        ],
        [
         447,
         "M",
         "W",
         "College",
         "3500",
         "Good",
         0,
         0,
         0
        ],
        [
         448,
         "F",
         "W",
         "College",
         "3500",
         "Good",
         0,
         0,
         0
        ],
        [
         449,
         "M",
         "U",
         "College",
         "3500",
         "Good",
         0,
         0,
         0
        ],
        [
         450,
         "F",
         "U",
         "College",
         "3500",
         "Good",
         0,
         0,
         0
        ],
        [
         451,
         "M",
         "M",
         "2 yr Degree",
         "3500",
         "Good",
         0,
         0,
         0
        ],
        [
         452,
         "F",
         "M",
         "2 yr Degree",
         "3500",
         "Good",
         0,
         0,
         0
        ],
        [
         453,
         "M",
         "S",
         "2 yr Degree",
         "3500",
         "Good",
         0,
         0,
         0
        ],
        [
         454,
         "F",
         "S",
         "2 yr Degree",
         "3500",
         "Good",
         0,
         0,
         0
        ],
        [
         455,
         "M",
         "D",
         "2 yr Degree",
         "3500",
         "Good",
         0,
         0,
         0
        ],
        [
         456,
         "F",
         "D",
         "2 yr Degree",
         "3500",
         "Good",
         0,
         0,
         0
        ],
        [
         457,
         "M",
         "W",
         "2 yr Degree",
         "3500",
         "Good",
         0,
         0,
         0
        ],
        [
         458,
         "F",
         "W",
         "2 yr Degree",
         "3500",
         "Good",
         0,
         0,
         0
        ],
        [
         459,
         "M",
         "U",
         "2 yr Degree",
         "3500",
         "Good",
         0,
         0,
         0
        ],
        [
         460,
         "F",
         "U",
         "2 yr Degree",
         "3500",
         "Good",
         0,
         0,
         0
        ],
        [
         461,
         "M",
         "M",
         "4 yr Degree",
         "3500",
         "Good",
         0,
         0,
         0
        ],
        [
         462,
         "F",
         "M",
         "4 yr Degree",
         "3500",
         "Good",
         0,
         0,
         0
        ],
        [
         463,
         "M",
         "S",
         "4 yr Degree",
         "3500",
         "Good",
         0,
         0,
         0
        ],
        [
         464,
         "F",
         "S",
         "4 yr Degree",
         "3500",
         "Good",
         0,
         0,
         0
        ],
        [
         465,
         "M",
         "D",
         "4 yr Degree",
         "3500",
         "Good",
         0,
         0,
         0
        ],
        [
         466,
         "F",
         "D",
         "4 yr Degree",
         "3500",
         "Good",
         0,
         0,
         0
        ],
        [
         467,
         "M",
         "W",
         "4 yr Degree",
         "3500",
         "Good",
         0,
         0,
         0
        ],
        [
         468,
         "F",
         "W",
         "4 yr Degree",
         "3500",
         "Good",
         0,
         0,
         0
        ],
        [
         469,
         "M",
         "U",
         "4 yr Degree",
         "3500",
         "Good",
         0,
         0,
         0
        ],
        [
         470,
         "F",
         "U",
         "4 yr Degree",
         "3500",
         "Good",
         0,
         0,
         0
        ],
        [
         471,
         "M",
         "M",
         "Advanced Degree",
         "3500",
         "Good",
         0,
         0,
         0
        ],
        [
         472,
         "F",
         "M",
         "Advanced Degree",
         "3500",
         "Good",
         0,
         0,
         0
        ],
        [
         473,
         "M",
         "S",
         "Advanced Degree",
         "3500",
         "Good",
         0,
         0,
         0
        ],
        [
         474,
         "F",
         "S",
         "Advanced Degree",
         "3500",
         "Good",
         0,
         0,
         0
        ],
        [
         475,
         "M",
         "D",
         "Advanced Degree",
         "3500",
         "Good",
         0,
         0,
         0
        ],
        [
         476,
         "F",
         "D",
         "Advanced Degree",
         "3500",
         "Good",
         0,
         0,
         0
        ],
        [
         477,
         "M",
         "W",
         "Advanced Degree",
         "3500",
         "Good",
         0,
         0,
         0
        ],
        [
         478,
         "F",
         "W",
         "Advanced Degree",
         "3500",
         "Good",
         0,
         0,
         0
        ],
        [
         479,
         "M",
         "U",
         "Advanced Degree",
         "3500",
         "Good",
         0,
         0,
         0
        ],
        [
         480,
         "F",
         "U",
         "Advanced Degree",
         "3500",
         "Good",
         0,
         0,
         0
        ],
        [
         481,
         "M",
         "M",
         "Unknown",
         "3500",
         "Good",
         0,
         0,
         0
        ],
        [
         482,
         "F",
         "M",
         "Unknown",
         "3500",
         "Good",
         0,
         0,
         0
        ],
        [
         483,
         "M",
         "S",
         "Unknown",
         "3500",
         "Good",
         0,
         0,
         0
        ],
        [
         484,
         "F",
         "S",
         "Unknown",
         "3500",
         "Good",
         0,
         0,
         0
        ],
        [
         485,
         "M",
         "D",
         "Unknown",
         "3500",
         "Good",
         0,
         0,
         0
        ],
        [
         486,
         "F",
         "D",
         "Unknown",
         "3500",
         "Good",
         0,
         0,
         0
        ],
        [
         487,
         "M",
         "W",
         "Unknown",
         "3500",
         "Good",
         0,
         0,
         0
        ],
        [
         488,
         "F",
         "W",
         "Unknown",
         "3500",
         "Good",
         0,
         0,
         0
        ],
        [
         489,
         "M",
         "U",
         "Unknown",
         "3500",
         "Good",
         0,
         0,
         0
        ],
        [
         490,
         "F",
         "U",
         "Unknown",
         "3500",
         "Good",
         0,
         0,
         0
        ],
        [
         491,
         "M",
         "M",
         "Primary",
         "4000",
         "Good",
         0,
         0,
         0
        ],
        [
         492,
         "F",
         "M",
         "Primary",
         "4000",
         "Good",
         0,
         0,
         0
        ],
        [
         493,
         "M",
         "S",
         "Primary",
         "4000",
         "Good",
         0,
         0,
         0
        ],
        [
         494,
         "F",
         "S",
         "Primary",
         "4000",
         "Good",
         0,
         0,
         0
        ],
        [
         495,
         "M",
         "D",
         "Primary",
         "4000",
         "Good",
         0,
         0,
         0
        ],
        [
         496,
         "F",
         "D",
         "Primary",
         "4000",
         "Good",
         0,
         0,
         0
        ],
        [
         497,
         "M",
         "W",
         "Primary",
         "4000",
         "Good",
         0,
         0,
         0
        ],
        [
         498,
         "F",
         "W",
         "Primary",
         "4000",
         "Good",
         0,
         0,
         0
        ],
        [
         499,
         "M",
         "U",
         "Primary",
         "4000",
         "Good",
         0,
         0,
         0
        ],
        [
         500,
         "F",
         "U",
         "Primary",
         "4000",
         "Good",
         0,
         0,
         0
        ],
        [
         501,
         "M",
         "M",
         "Secondary",
         "4000",
         "Good",
         0,
         0,
         0
        ],
        [
         502,
         "F",
         "M",
         "Secondary",
         "4000",
         "Good",
         0,
         0,
         0
        ],
        [
         503,
         "M",
         "S",
         "Secondary",
         "4000",
         "Good",
         0,
         0,
         0
        ],
        [
         504,
         "F",
         "S",
         "Secondary",
         "4000",
         "Good",
         0,
         0,
         0
        ],
        [
         505,
         "M",
         "D",
         "Secondary",
         "4000",
         "Good",
         0,
         0,
         0
        ],
        [
         506,
         "F",
         "D",
         "Secondary",
         "4000",
         "Good",
         0,
         0,
         0
        ],
        [
         507,
         "M",
         "W",
         "Secondary",
         "4000",
         "Good",
         0,
         0,
         0
        ],
        [
         508,
         "F",
         "W",
         "Secondary",
         "4000",
         "Good",
         0,
         0,
         0
        ],
        [
         509,
         "M",
         "U",
         "Secondary",
         "4000",
         "Good",
         0,
         0,
         0
        ],
        [
         510,
         "F",
         "U",
         "Secondary",
         "4000",
         "Good",
         0,
         0,
         0
        ],
        [
         511,
         "M",
         "M",
         "College",
         "4000",
         "Good",
         0,
         0,
         0
        ],
        [
         512,
         "F",
         "M",
         "College",
         "4000",
         "Good",
         0,
         0,
         0
        ],
        [
         513,
         "M",
         "S",
         "College",
         "4000",
         "Good",
         0,
         0,
         0
        ],
        [
         514,
         "F",
         "S",
         "College",
         "4000",
         "Good",
         0,
         0,
         0
        ],
        [
         515,
         "M",
         "D",
         "College",
         "4000",
         "Good",
         0,
         0,
         0
        ],
        [
         516,
         "F",
         "D",
         "College",
         "4000",
         "Good",
         0,
         0,
         0
        ],
        [
         517,
         "M",
         "W",
         "College",
         "4000",
         "Good",
         0,
         0,
         0
        ],
        [
         518,
         "F",
         "W",
         "College",
         "4000",
         "Good",
         0,
         0,
         0
        ],
        [
         519,
         "M",
         "U",
         "College",
         "4000",
         "Good",
         0,
         0,
         0
        ],
        [
         520,
         "F",
         "U",
         "College",
         "4000",
         "Good",
         0,
         0,
         0
        ],
        [
         521,
         "M",
         "M",
         "2 yr Degree",
         "4000",
         "Good",
         0,
         0,
         0
        ],
        [
         522,
         "F",
         "M",
         "2 yr Degree",
         "4000",
         "Good",
         0,
         0,
         0
        ],
        [
         523,
         "M",
         "S",
         "2 yr Degree",
         "4000",
         "Good",
         0,
         0,
         0
        ],
        [
         524,
         "F",
         "S",
         "2 yr Degree",
         "4000",
         "Good",
         0,
         0,
         0
        ],
        [
         525,
         "M",
         "D",
         "2 yr Degree",
         "4000",
         "Good",
         0,
         0,
         0
        ],
        [
         526,
         "F",
         "D",
         "2 yr Degree",
         "4000",
         "Good",
         0,
         0,
         0
        ],
        [
         527,
         "M",
         "W",
         "2 yr Degree",
         "4000",
         "Good",
         0,
         0,
         0
        ],
        [
         528,
         "F",
         "W",
         "2 yr Degree",
         "4000",
         "Good",
         0,
         0,
         0
        ],
        [
         529,
         "M",
         "U",
         "2 yr Degree",
         "4000",
         "Good",
         0,
         0,
         0
        ],
        [
         530,
         "F",
         "U",
         "2 yr Degree",
         "4000",
         "Good",
         0,
         0,
         0
        ],
        [
         531,
         "M",
         "M",
         "4 yr Degree",
         "4000",
         "Good",
         0,
         0,
         0
        ],
        [
         532,
         "F",
         "M",
         "4 yr Degree",
         "4000",
         "Good",
         0,
         0,
         0
        ],
        [
         533,
         "M",
         "S",
         "4 yr Degree",
         "4000",
         "Good",
         0,
         0,
         0
        ],
        [
         534,
         "F",
         "S",
         "4 yr Degree",
         "4000",
         "Good",
         0,
         0,
         0
        ],
        [
         535,
         "M",
         "D",
         "4 yr Degree",
         "4000",
         "Good",
         0,
         0,
         0
        ],
        [
         536,
         "F",
         "D",
         "4 yr Degree",
         "4000",
         "Good",
         0,
         0,
         0
        ],
        [
         537,
         "M",
         "W",
         "4 yr Degree",
         "4000",
         "Good",
         0,
         0,
         0
        ],
        [
         538,
         "F",
         "W",
         "4 yr Degree",
         "4000",
         "Good",
         0,
         0,
         0
        ],
        [
         539,
         "M",
         "U",
         "4 yr Degree",
         "4000",
         "Good",
         0,
         0,
         0
        ],
        [
         540,
         "F",
         "U",
         "4 yr Degree",
         "4000",
         "Good",
         0,
         0,
         0
        ],
        [
         541,
         "M",
         "M",
         "Advanced Degree",
         "4000",
         "Good",
         0,
         0,
         0
        ],
        [
         542,
         "F",
         "M",
         "Advanced Degree",
         "4000",
         "Good",
         0,
         0,
         0
        ],
        [
         543,
         "M",
         "S",
         "Advanced Degree",
         "4000",
         "Good",
         0,
         0,
         0
        ],
        [
         544,
         "F",
         "S",
         "Advanced Degree",
         "4000",
         "Good",
         0,
         0,
         0
        ],
        [
         545,
         "M",
         "D",
         "Advanced Degree",
         "4000",
         "Good",
         0,
         0,
         0
        ],
        [
         546,
         "F",
         "D",
         "Advanced Degree",
         "4000",
         "Good",
         0,
         0,
         0
        ],
        [
         547,
         "M",
         "W",
         "Advanced Degree",
         "4000",
         "Good",
         0,
         0,
         0
        ],
        [
         548,
         "F",
         "W",
         "Advanced Degree",
         "4000",
         "Good",
         0,
         0,
         0
        ],
        [
         549,
         "M",
         "U",
         "Advanced Degree",
         "4000",
         "Good",
         0,
         0,
         0
        ],
        [
         550,
         "F",
         "U",
         "Advanced Degree",
         "4000",
         "Good",
         0,
         0,
         0
        ],
        [
         551,
         "M",
         "M",
         "Unknown",
         "4000",
         "Good",
         0,
         0,
         0
        ],
        [
         552,
         "F",
         "M",
         "Unknown",
         "4000",
         "Good",
         0,
         0,
         0
        ],
        [
         553,
         "M",
         "S",
         "Unknown",
         "4000",
         "Good",
         0,
         0,
         0
        ],
        [
         554,
         "F",
         "S",
         "Unknown",
         "4000",
         "Good",
         0,
         0,
         0
        ],
        [
         555,
         "M",
         "D",
         "Unknown",
         "4000",
         "Good",
         0,
         0,
         0
        ],
        [
         556,
         "F",
         "D",
         "Unknown",
         "4000",
         "Good",
         0,
         0,
         0
        ],
        [
         557,
         "M",
         "W",
         "Unknown",
         "4000",
         "Good",
         0,
         0,
         0
        ],
        [
         558,
         "F",
         "W",
         "Unknown",
         "4000",
         "Good",
         0,
         0,
         0
        ],
        [
         559,
         "M",
         "U",
         "Unknown",
         "4000",
         "Good",
         0,
         0,
         0
        ],
        [
         560,
         "F",
         "U",
         "Unknown",
         "4000",
         "Good",
         0,
         0,
         0
        ],
        [
         561,
         "M",
         "M",
         "Primary",
         "4500",
         "Good",
         0,
         0,
         0
        ],
        [
         562,
         "F",
         "M",
         "Primary",
         "4500",
         "Good",
         0,
         0,
         0
        ],
        [
         563,
         "M",
         "S",
         "Primary",
         "4500",
         "Good",
         0,
         0,
         0
        ],
        [
         564,
         "F",
         "S",
         "Primary",
         "4500",
         "Good",
         0,
         0,
         0
        ],
        [
         565,
         "M",
         "D",
         "Primary",
         "4500",
         "Good",
         0,
         0,
         0
        ],
        [
         566,
         "F",
         "D",
         "Primary",
         "4500",
         "Good",
         0,
         0,
         0
        ],
        [
         567,
         "M",
         "W",
         "Primary",
         "4500",
         "Good",
         0,
         0,
         0
        ],
        [
         568,
         "F",
         "W",
         "Primary",
         "4500",
         "Good",
         0,
         0,
         0
        ],
        [
         569,
         "M",
         "U",
         "Primary",
         "4500",
         "Good",
         0,
         0,
         0
        ],
        [
         570,
         "F",
         "U",
         "Primary",
         "4500",
         "Good",
         0,
         0,
         0
        ],
        [
         571,
         "M",
         "M",
         "Secondary",
         "4500",
         "Good",
         0,
         0,
         0
        ],
        [
         572,
         "F",
         "M",
         "Secondary",
         "4500",
         "Good",
         0,
         0,
         0
        ],
        [
         573,
         "M",
         "S",
         "Secondary",
         "4500",
         "Good",
         0,
         0,
         0
        ],
        [
         574,
         "F",
         "S",
         "Secondary",
         "4500",
         "Good",
         0,
         0,
         0
        ],
        [
         575,
         "M",
         "D",
         "Secondary",
         "4500",
         "Good",
         0,
         0,
         0
        ],
        [
         576,
         "F",
         "D",
         "Secondary",
         "4500",
         "Good",
         0,
         0,
         0
        ],
        [
         577,
         "M",
         "W",
         "Secondary",
         "4500",
         "Good",
         0,
         0,
         0
        ],
        [
         578,
         "F",
         "W",
         "Secondary",
         "4500",
         "Good",
         0,
         0,
         0
        ],
        [
         579,
         "M",
         "U",
         "Secondary",
         "4500",
         "Good",
         0,
         0,
         0
        ],
        [
         580,
         "F",
         "U",
         "Secondary",
         "4500",
         "Good",
         0,
         0,
         0
        ],
        [
         581,
         "M",
         "M",
         "College",
         "4500",
         "Good",
         0,
         0,
         0
        ],
        [
         582,
         "F",
         "M",
         "College",
         "4500",
         "Good",
         0,
         0,
         0
        ],
        [
         583,
         "M",
         "S",
         "College",
         "4500",
         "Good",
         0,
         0,
         0
        ],
        [
         584,
         "F",
         "S",
         "College",
         "4500",
         "Good",
         0,
         0,
         0
        ],
        [
         585,
         "M",
         "D",
         "College",
         "4500",
         "Good",
         0,
         0,
         0
        ],
        [
         586,
         "F",
         "D",
         "College",
         "4500",
         "Good",
         0,
         0,
         0
        ],
        [
         587,
         "M",
         "W",
         "College",
         "4500",
         "Good",
         0,
         0,
         0
        ],
        [
         588,
         "F",
         "W",
         "College",
         "4500",
         "Good",
         0,
         0,
         0
        ],
        [
         589,
         "M",
         "U",
         "College",
         "4500",
         "Good",
         0,
         0,
         0
        ],
        [
         590,
         "F",
         "U",
         "College",
         "4500",
         "Good",
         0,
         0,
         0
        ],
        [
         591,
         "M",
         "M",
         "2 yr Degree",
         "4500",
         "Good",
         0,
         0,
         0
        ],
        [
         592,
         "F",
         "M",
         "2 yr Degree",
         "4500",
         "Good",
         0,
         0,
         0
        ],
        [
         593,
         "M",
         "S",
         "2 yr Degree",
         "4500",
         "Good",
         0,
         0,
         0
        ],
        [
         594,
         "F",
         "S",
         "2 yr Degree",
         "4500",
         "Good",
         0,
         0,
         0
        ],
        [
         595,
         "M",
         "D",
         "2 yr Degree",
         "4500",
         "Good",
         0,
         0,
         0
        ],
        [
         596,
         "F",
         "D",
         "2 yr Degree",
         "4500",
         "Good",
         0,
         0,
         0
        ],
        [
         597,
         "M",
         "W",
         "2 yr Degree",
         "4500",
         "Good",
         0,
         0,
         0
        ],
        [
         598,
         "F",
         "W",
         "2 yr Degree",
         "4500",
         "Good",
         0,
         0,
         0
        ],
        [
         599,
         "M",
         "U",
         "2 yr Degree",
         "4500",
         "Good",
         0,
         0,
         0
        ],
        [
         600,
         "F",
         "U",
         "2 yr Degree",
         "4500",
         "Good",
         0,
         0,
         0
        ],
        [
         601,
         "M",
         "M",
         "4 yr Degree",
         "4500",
         "Good",
         0,
         0,
         0
        ],
        [
         602,
         "F",
         "M",
         "4 yr Degree",
         "4500",
         "Good",
         0,
         0,
         0
        ],
        [
         603,
         "M",
         "S",
         "4 yr Degree",
         "4500",
         "Good",
         0,
         0,
         0
        ],
        [
         604,
         "F",
         "S",
         "4 yr Degree",
         "4500",
         "Good",
         0,
         0,
         0
        ],
        [
         605,
         "M",
         "D",
         "4 yr Degree",
         "4500",
         "Good",
         0,
         0,
         0
        ],
        [
         606,
         "F",
         "D",
         "4 yr Degree",
         "4500",
         "Good",
         0,
         0,
         0
        ],
        [
         607,
         "M",
         "W",
         "4 yr Degree",
         "4500",
         "Good",
         0,
         0,
         0
        ],
        [
         608,
         "F",
         "W",
         "4 yr Degree",
         "4500",
         "Good",
         0,
         0,
         0
        ],
        [
         609,
         "M",
         "U",
         "4 yr Degree",
         "4500",
         "Good",
         0,
         0,
         0
        ],
        [
         610,
         "F",
         "U",
         "4 yr Degree",
         "4500",
         "Good",
         0,
         0,
         0
        ],
        [
         611,
         "M",
         "M",
         "Advanced Degree",
         "4500",
         "Good",
         0,
         0,
         0
        ],
        [
         612,
         "F",
         "M",
         "Advanced Degree",
         "4500",
         "Good",
         0,
         0,
         0
        ],
        [
         613,
         "M",
         "S",
         "Advanced Degree",
         "4500",
         "Good",
         0,
         0,
         0
        ],
        [
         614,
         "F",
         "S",
         "Advanced Degree",
         "4500",
         "Good",
         0,
         0,
         0
        ],
        [
         615,
         "M",
         "D",
         "Advanced Degree",
         "4500",
         "Good",
         0,
         0,
         0
        ],
        [
         616,
         "F",
         "D",
         "Advanced Degree",
         "4500",
         "Good",
         0,
         0,
         0
        ],
        [
         617,
         "M",
         "W",
         "Advanced Degree",
         "4500",
         "Good",
         0,
         0,
         0
        ],
        [
         618,
         "F",
         "W",
         "Advanced Degree",
         "4500",
         "Good",
         0,
         0,
         0
        ],
        [
         619,
         "M",
         "U",
         "Advanced Degree",
         "4500",
         "Good",
         0,
         0,
         0
        ],
        [
         620,
         "F",
         "U",
         "Advanced Degree",
         "4500",
         "Good",
         0,
         0,
         0
        ],
        [
         621,
         "M",
         "M",
         "Unknown",
         "4500",
         "Good",
         0,
         0,
         0
        ],
        [
         622,
         "F",
         "M",
         "Unknown",
         "4500",
         "Good",
         0,
         0,
         0
        ],
        [
         623,
         "M",
         "S",
         "Unknown",
         "4500",
         "Good",
         0,
         0,
         0
        ],
        [
         624,
         "F",
         "S",
         "Unknown",
         "4500",
         "Good",
         0,
         0,
         0
        ],
        [
         625,
         "M",
         "D",
         "Unknown",
         "4500",
         "Good",
         0,
         0,
         0
        ],
        [
         626,
         "F",
         "D",
         "Unknown",
         "4500",
         "Good",
         0,
         0,
         0
        ],
        [
         627,
         "M",
         "W",
         "Unknown",
         "4500",
         "Good",
         0,
         0,
         0
        ],
        [
         628,
         "F",
         "W",
         "Unknown",
         "4500",
         "Good",
         0,
         0,
         0
        ],
        [
         629,
         "M",
         "U",
         "Unknown",
         "4500",
         "Good",
         0,
         0,
         0
        ],
        [
         630,
         "F",
         "U",
         "Unknown",
         "4500",
         "Good",
         0,
         0,
         0
        ],
        [
         631,
         "M",
         "M",
         "Primary",
         "5000",
         "Good",
         0,
         0,
         0
        ],
        [
         632,
         "F",
         "M",
         "Primary",
         "5000",
         "Good",
         0,
         0,
         0
        ],
        [
         633,
         "M",
         "S",
         "Primary",
         "5000",
         "Good",
         0,
         0,
         0
        ],
        [
         634,
         "F",
         "S",
         "Primary",
         "5000",
         "Good",
         0,
         0,
         0
        ],
        [
         635,
         "M",
         "D",
         "Primary",
         "5000",
         "Good",
         0,
         0,
         0
        ],
        [
         636,
         "F",
         "D",
         "Primary",
         "5000",
         "Good",
         0,
         0,
         0
        ],
        [
         637,
         "M",
         "W",
         "Primary",
         "5000",
         "Good",
         0,
         0,
         0
        ],
        [
         638,
         "F",
         "W",
         "Primary",
         "5000",
         "Good",
         0,
         0,
         0
        ],
        [
         639,
         "M",
         "U",
         "Primary",
         "5000",
         "Good",
         0,
         0,
         0
        ],
        [
         640,
         "F",
         "U",
         "Primary",
         "5000",
         "Good",
         0,
         0,
         0
        ],
        [
         641,
         "M",
         "M",
         "Secondary",
         "5000",
         "Good",
         0,
         0,
         0
        ],
        [
         642,
         "F",
         "M",
         "Secondary",
         "5000",
         "Good",
         0,
         0,
         0
        ],
        [
         643,
         "M",
         "S",
         "Secondary",
         "5000",
         "Good",
         0,
         0,
         0
        ],
        [
         644,
         "F",
         "S",
         "Secondary",
         "5000",
         "Good",
         0,
         0,
         0
        ],
        [
         645,
         "M",
         "D",
         "Secondary",
         "5000",
         "Good",
         0,
         0,
         0
        ],
        [
         646,
         "F",
         "D",
         "Secondary",
         "5000",
         "Good",
         0,
         0,
         0
        ],
        [
         647,
         "M",
         "W",
         "Secondary",
         "5000",
         "Good",
         0,
         0,
         0
        ],
        [
         648,
         "F",
         "W",
         "Secondary",
         "5000",
         "Good",
         0,
         0,
         0
        ],
        [
         649,
         "M",
         "U",
         "Secondary",
         "5000",
         "Good",
         0,
         0,
         0
        ],
        [
         650,
         "F",
         "U",
         "Secondary",
         "5000",
         "Good",
         0,
         0,
         0
        ],
        [
         651,
         "M",
         "M",
         "College",
         "5000",
         "Good",
         0,
         0,
         0
        ],
        [
         652,
         "F",
         "M",
         "College",
         "5000",
         "Good",
         0,
         0,
         0
        ],
        [
         653,
         "M",
         "S",
         "College",
         "5000",
         "Good",
         0,
         0,
         0
        ],
        [
         654,
         "F",
         "S",
         "College",
         "5000",
         "Good",
         0,
         0,
         0
        ],
        [
         655,
         "M",
         "D",
         "College",
         "5000",
         "Good",
         0,
         0,
         0
        ],
        [
         656,
         "F",
         "D",
         "College",
         "5000",
         "Good",
         0,
         0,
         0
        ],
        [
         657,
         "M",
         "W",
         "College",
         "5000",
         "Good",
         0,
         0,
         0
        ],
        [
         658,
         "F",
         "W",
         "College",
         "5000",
         "Good",
         0,
         0,
         0
        ],
        [
         659,
         "M",
         "U",
         "College",
         "5000",
         "Good",
         0,
         0,
         0
        ],
        [
         660,
         "F",
         "U",
         "College",
         "5000",
         "Good",
         0,
         0,
         0
        ],
        [
         661,
         "M",
         "M",
         "2 yr Degree",
         "5000",
         "Good",
         0,
         0,
         0
        ],
        [
         662,
         "F",
         "M",
         "2 yr Degree",
         "5000",
         "Good",
         0,
         0,
         0
        ],
        [
         663,
         "M",
         "S",
         "2 yr Degree",
         "5000",
         "Good",
         0,
         0,
         0
        ],
        [
         664,
         "F",
         "S",
         "2 yr Degree",
         "5000",
         "Good",
         0,
         0,
         0
        ],
        [
         665,
         "M",
         "D",
         "2 yr Degree",
         "5000",
         "Good",
         0,
         0,
         0
        ],
        [
         666,
         "F",
         "D",
         "2 yr Degree",
         "5000",
         "Good",
         0,
         0,
         0
        ],
        [
         667,
         "M",
         "W",
         "2 yr Degree",
         "5000",
         "Good",
         0,
         0,
         0
        ],
        [
         668,
         "F",
         "W",
         "2 yr Degree",
         "5000",
         "Good",
         0,
         0,
         0
        ],
        [
         669,
         "M",
         "U",
         "2 yr Degree",
         "5000",
         "Good",
         0,
         0,
         0
        ],
        [
         670,
         "F",
         "U",
         "2 yr Degree",
         "5000",
         "Good",
         0,
         0,
         0
        ],
        [
         671,
         "M",
         "M",
         "4 yr Degree",
         "5000",
         "Good",
         0,
         0,
         0
        ],
        [
         672,
         "F",
         "M",
         "4 yr Degree",
         "5000",
         "Good",
         0,
         0,
         0
        ],
        [
         673,
         "M",
         "S",
         "4 yr Degree",
         "5000",
         "Good",
         0,
         0,
         0
        ],
        [
         674,
         "F",
         "S",
         "4 yr Degree",
         "5000",
         "Good",
         0,
         0,
         0
        ],
        [
         675,
         "M",
         "D",
         "4 yr Degree",
         "5000",
         "Good",
         0,
         0,
         0
        ],
        [
         676,
         "F",
         "D",
         "4 yr Degree",
         "5000",
         "Good",
         0,
         0,
         0
        ],
        [
         677,
         "M",
         "W",
         "4 yr Degree",
         "5000",
         "Good",
         0,
         0,
         0
        ],
        [
         678,
         "F",
         "W",
         "4 yr Degree",
         "5000",
         "Good",
         0,
         0,
         0
        ],
        [
         679,
         "M",
         "U",
         "4 yr Degree",
         "5000",
         "Good",
         0,
         0,
         0
        ],
        [
         680,
         "F",
         "U",
         "4 yr Degree",
         "5000",
         "Good",
         0,
         0,
         0
        ],
        [
         681,
         "M",
         "M",
         "Advanced Degree",
         "5000",
         "Good",
         0,
         0,
         0
        ],
        [
         682,
         "F",
         "M",
         "Advanced Degree",
         "5000",
         "Good",
         0,
         0,
         0
        ],
        [
         683,
         "M",
         "S",
         "Advanced Degree",
         "5000",
         "Good",
         0,
         0,
         0
        ],
        [
         684,
         "F",
         "S",
         "Advanced Degree",
         "5000",
         "Good",
         0,
         0,
         0
        ],
        [
         685,
         "M",
         "D",
         "Advanced Degree",
         "5000",
         "Good",
         0,
         0,
         0
        ],
        [
         686,
         "F",
         "D",
         "Advanced Degree",
         "5000",
         "Good",
         0,
         0,
         0
        ],
        [
         687,
         "M",
         "W",
         "Advanced Degree",
         "5000",
         "Good",
         0,
         0,
         0
        ],
        [
         688,
         "F",
         "W",
         "Advanced Degree",
         "5000",
         "Good",
         0,
         0,
         0
        ],
        [
         689,
         "M",
         "U",
         "Advanced Degree",
         "5000",
         "Good",
         0,
         0,
         0
        ],
        [
         690,
         "F",
         "U",
         "Advanced Degree",
         "5000",
         "Good",
         0,
         0,
         0
        ],
        [
         691,
         "M",
         "M",
         "Unknown",
         "5000",
         "Good",
         0,
         0,
         0
        ],
        [
         692,
         "F",
         "M",
         "Unknown",
         "5000",
         "Good",
         0,
         0,
         0
        ],
        [
         693,
         "M",
         "S",
         "Unknown",
         "5000",
         "Good",
         0,
         0,
         0
        ],
        [
         694,
         "F",
         "S",
         "Unknown",
         "5000",
         "Good",
         0,
         0,
         0
        ],
        [
         695,
         "M",
         "D",
         "Unknown",
         "5000",
         "Good",
         0,
         0,
         0
        ],
        [
         696,
         "F",
         "D",
         "Unknown",
         "5000",
         "Good",
         0,
         0,
         0
        ],
        [
         697,
         "M",
         "W",
         "Unknown",
         "5000",
         "Good",
         0,
         0,
         0
        ],
        [
         698,
         "F",
         "W",
         "Unknown",
         "5000",
         "Good",
         0,
         0,
         0
        ],
        [
         699,
         "M",
         "U",
         "Unknown",
         "5000",
         "Good",
         0,
         0,
         0
        ],
        [
         700,
         "F",
         "U",
         "Unknown",
         "5000",
         "Good",
         0,
         0,
         0
        ],
        [
         701,
         "M",
         "M",
         "Primary",
         "5500",
         "Good",
         0,
         0,
         0
        ],
        [
         702,
         "F",
         "M",
         "Primary",
         "5500",
         "Good",
         0,
         0,
         0
        ],
        [
         703,
         "M",
         "S",
         "Primary",
         "5500",
         "Good",
         0,
         0,
         0
        ],
        [
         704,
         "F",
         "S",
         "Primary",
         "5500",
         "Good",
         0,
         0,
         0
        ],
        [
         705,
         "M",
         "D",
         "Primary",
         "5500",
         "Good",
         0,
         0,
         0
        ],
        [
         706,
         "F",
         "D",
         "Primary",
         "5500",
         "Good",
         0,
         0,
         0
        ],
        [
         707,
         "M",
         "W",
         "Primary",
         "5500",
         "Good",
         0,
         0,
         0
        ],
        [
         708,
         "F",
         "W",
         "Primary",
         "5500",
         "Good",
         0,
         0,
         0
        ],
        [
         709,
         "M",
         "U",
         "Primary",
         "5500",
         "Good",
         0,
         0,
         0
        ],
        [
         710,
         "F",
         "U",
         "Primary",
         "5500",
         "Good",
         0,
         0,
         0
        ],
        [
         711,
         "M",
         "M",
         "Secondary",
         "5500",
         "Good",
         0,
         0,
         0
        ],
        [
         712,
         "F",
         "M",
         "Secondary",
         "5500",
         "Good",
         0,
         0,
         0
        ],
        [
         713,
         "M",
         "S",
         "Secondary",
         "5500",
         "Good",
         0,
         0,
         0
        ],
        [
         714,
         "F",
         "S",
         "Secondary",
         "5500",
         "Good",
         0,
         0,
         0
        ],
        [
         715,
         "M",
         "D",
         "Secondary",
         "5500",
         "Good",
         0,
         0,
         0
        ],
        [
         716,
         "F",
         "D",
         "Secondary",
         "5500",
         "Good",
         0,
         0,
         0
        ],
        [
         717,
         "M",
         "W",
         "Secondary",
         "5500",
         "Good",
         0,
         0,
         0
        ],
        [
         718,
         "F",
         "W",
         "Secondary",
         "5500",
         "Good",
         0,
         0,
         0
        ],
        [
         719,
         "M",
         "U",
         "Secondary",
         "5500",
         "Good",
         0,
         0,
         0
        ],
        [
         720,
         "F",
         "U",
         "Secondary",
         "5500",
         "Good",
         0,
         0,
         0
        ],
        [
         721,
         "M",
         "M",
         "College",
         "5500",
         "Good",
         0,
         0,
         0
        ],
        [
         722,
         "F",
         "M",
         "College",
         "5500",
         "Good",
         0,
         0,
         0
        ],
        [
         723,
         "M",
         "S",
         "College",
         "5500",
         "Good",
         0,
         0,
         0
        ],
        [
         724,
         "F",
         "S",
         "College",
         "5500",
         "Good",
         0,
         0,
         0
        ],
        [
         725,
         "M",
         "D",
         "College",
         "5500",
         "Good",
         0,
         0,
         0
        ],
        [
         726,
         "F",
         "D",
         "College",
         "5500",
         "Good",
         0,
         0,
         0
        ],
        [
         727,
         "M",
         "W",
         "College",
         "5500",
         "Good",
         0,
         0,
         0
        ],
        [
         728,
         "F",
         "W",
         "College",
         "5500",
         "Good",
         0,
         0,
         0
        ],
        [
         729,
         "M",
         "U",
         "College",
         "5500",
         "Good",
         0,
         0,
         0
        ],
        [
         730,
         "F",
         "U",
         "College",
         "5500",
         "Good",
         0,
         0,
         0
        ],
        [
         731,
         "M",
         "M",
         "2 yr Degree",
         "5500",
         "Good",
         0,
         0,
         0
        ],
        [
         732,
         "F",
         "M",
         "2 yr Degree",
         "5500",
         "Good",
         0,
         0,
         0
        ],
        [
         733,
         "M",
         "S",
         "2 yr Degree",
         "5500",
         "Good",
         0,
         0,
         0
        ],
        [
         734,
         "F",
         "S",
         "2 yr Degree",
         "5500",
         "Good",
         0,
         0,
         0
        ],
        [
         735,
         "M",
         "D",
         "2 yr Degree",
         "5500",
         "Good",
         0,
         0,
         0
        ],
        [
         736,
         "F",
         "D",
         "2 yr Degree",
         "5500",
         "Good",
         0,
         0,
         0
        ],
        [
         737,
         "M",
         "W",
         "2 yr Degree",
         "5500",
         "Good",
         0,
         0,
         0
        ],
        [
         738,
         "F",
         "W",
         "2 yr Degree",
         "5500",
         "Good",
         0,
         0,
         0
        ],
        [
         739,
         "M",
         "U",
         "2 yr Degree",
         "5500",
         "Good",
         0,
         0,
         0
        ],
        [
         740,
         "F",
         "U",
         "2 yr Degree",
         "5500",
         "Good",
         0,
         0,
         0
        ],
        [
         741,
         "M",
         "M",
         "4 yr Degree",
         "5500",
         "Good",
         0,
         0,
         0
        ],
        [
         742,
         "F",
         "M",
         "4 yr Degree",
         "5500",
         "Good",
         0,
         0,
         0
        ],
        [
         743,
         "M",
         "S",
         "4 yr Degree",
         "5500",
         "Good",
         0,
         0,
         0
        ],
        [
         744,
         "F",
         "S",
         "4 yr Degree",
         "5500",
         "Good",
         0,
         0,
         0
        ],
        [
         745,
         "M",
         "D",
         "4 yr Degree",
         "5500",
         "Good",
         0,
         0,
         0
        ],
        [
         746,
         "F",
         "D",
         "4 yr Degree",
         "5500",
         "Good",
         0,
         0,
         0
        ],
        [
         747,
         "M",
         "W",
         "4 yr Degree",
         "5500",
         "Good",
         0,
         0,
         0
        ],
        [
         748,
         "F",
         "W",
         "4 yr Degree",
         "5500",
         "Good",
         0,
         0,
         0
        ],
        [
         749,
         "M",
         "U",
         "4 yr Degree",
         "5500",
         "Good",
         0,
         0,
         0
        ],
        [
         750,
         "F",
         "U",
         "4 yr Degree",
         "5500",
         "Good",
         0,
         0,
         0
        ],
        [
         751,
         "M",
         "M",
         "Advanced Degree",
         "5500",
         "Good",
         0,
         0,
         0
        ],
        [
         752,
         "F",
         "M",
         "Advanced Degree",
         "5500",
         "Good",
         0,
         0,
         0
        ],
        [
         753,
         "M",
         "S",
         "Advanced Degree",
         "5500",
         "Good",
         0,
         0,
         0
        ],
        [
         754,
         "F",
         "S",
         "Advanced Degree",
         "5500",
         "Good",
         0,
         0,
         0
        ],
        [
         755,
         "M",
         "D",
         "Advanced Degree",
         "5500",
         "Good",
         0,
         0,
         0
        ],
        [
         756,
         "F",
         "D",
         "Advanced Degree",
         "5500",
         "Good",
         0,
         0,
         0
        ],
        [
         757,
         "M",
         "W",
         "Advanced Degree",
         "5500",
         "Good",
         0,
         0,
         0
        ],
        [
         758,
         "F",
         "W",
         "Advanced Degree",
         "5500",
         "Good",
         0,
         0,
         0
        ],
        [
         759,
         "M",
         "U",
         "Advanced Degree",
         "5500",
         "Good",
         0,
         0,
         0
        ],
        [
         760,
         "F",
         "U",
         "Advanced Degree",
         "5500",
         "Good",
         0,
         0,
         0
        ],
        [
         761,
         "M",
         "M",
         "Unknown",
         "5500",
         "Good",
         0,
         0,
         0
        ],
        [
         762,
         "F",
         "M",
         "Unknown",
         "5500",
         "Good",
         0,
         0,
         0
        ],
        [
         763,
         "M",
         "S",
         "Unknown",
         "5500",
         "Good",
         0,
         0,
         0
        ],
        [
         764,
         "F",
         "S",
         "Unknown",
         "5500",
         "Good",
         0,
         0,
         0
        ],
        [
         765,
         "M",
         "D",
         "Unknown",
         "5500",
         "Good",
         0,
         0,
         0
        ],
        [
         766,
         "F",
         "D",
         "Unknown",
         "5500",
         "Good",
         0,
         0,
         0
        ],
        [
         767,
         "M",
         "W",
         "Unknown",
         "5500",
         "Good",
         0,
         0,
         0
        ],
        [
         768,
         "F",
         "W",
         "Unknown",
         "5500",
         "Good",
         0,
         0,
         0
        ],
        [
         769,
         "M",
         "U",
         "Unknown",
         "5500",
         "Good",
         0,
         0,
         0
        ],
        [
         770,
         "F",
         "U",
         "Unknown",
         "5500",
         "Good",
         0,
         0,
         0
        ],
        [
         771,
         "M",
         "M",
         "Primary",
         "6000",
         "Good",
         0,
         0,
         0
        ],
        [
         772,
         "F",
         "M",
         "Primary",
         "6000",
         "Good",
         0,
         0,
         0
        ],
        [
         773,
         "M",
         "S",
         "Primary",
         "6000",
         "Good",
         0,
         0,
         0
        ],
        [
         774,
         "F",
         "S",
         "Primary",
         "6000",
         "Good",
         0,
         0,
         0
        ],
        [
         775,
         "M",
         "D",
         "Primary",
         "6000",
         "Good",
         0,
         0,
         0
        ],
        [
         776,
         "F",
         "D",
         "Primary",
         "6000",
         "Good",
         0,
         0,
         0
        ],
        [
         777,
         "M",
         "W",
         "Primary",
         "6000",
         "Good",
         0,
         0,
         0
        ],
        [
         778,
         "F",
         "W",
         "Primary",
         "6000",
         "Good",
         0,
         0,
         0
        ],
        [
         779,
         "M",
         "U",
         "Primary",
         "6000",
         "Good",
         0,
         0,
         0
        ],
        [
         780,
         "F",
         "U",
         "Primary",
         "6000",
         "Good",
         0,
         0,
         0
        ],
        [
         781,
         "M",
         "M",
         "Secondary",
         "6000",
         "Good",
         0,
         0,
         0
        ],
        [
         782,
         "F",
         "M",
         "Secondary",
         "6000",
         "Good",
         0,
         0,
         0
        ],
        [
         783,
         "M",
         "S",
         "Secondary",
         "6000",
         "Good",
         0,
         0,
         0
        ],
        [
         784,
         "F",
         "S",
         "Secondary",
         "6000",
         "Good",
         0,
         0,
         0
        ],
        [
         785,
         "M",
         "D",
         "Secondary",
         "6000",
         "Good",
         0,
         0,
         0
        ],
        [
         786,
         "F",
         "D",
         "Secondary",
         "6000",
         "Good",
         0,
         0,
         0
        ],
        [
         787,
         "M",
         "W",
         "Secondary",
         "6000",
         "Good",
         0,
         0,
         0
        ],
        [
         788,
         "F",
         "W",
         "Secondary",
         "6000",
         "Good",
         0,
         0,
         0
        ],
        [
         789,
         "M",
         "U",
         "Secondary",
         "6000",
         "Good",
         0,
         0,
         0
        ],
        [
         790,
         "F",
         "U",
         "Secondary",
         "6000",
         "Good",
         0,
         0,
         0
        ],
        [
         791,
         "M",
         "M",
         "College",
         "6000",
         "Good",
         0,
         0,
         0
        ],
        [
         792,
         "F",
         "M",
         "College",
         "6000",
         "Good",
         0,
         0,
         0
        ],
        [
         793,
         "M",
         "S",
         "College",
         "6000",
         "Good",
         0,
         0,
         0
        ],
        [
         794,
         "F",
         "S",
         "College",
         "6000",
         "Good",
         0,
         0,
         0
        ],
        [
         795,
         "M",
         "D",
         "College",
         "6000",
         "Good",
         0,
         0,
         0
        ],
        [
         796,
         "F",
         "D",
         "College",
         "6000",
         "Good",
         0,
         0,
         0
        ],
        [
         797,
         "M",
         "W",
         "College",
         "6000",
         "Good",
         0,
         0,
         0
        ],
        [
         798,
         "F",
         "W",
         "College",
         "6000",
         "Good",
         0,
         0,
         0
        ],
        [
         799,
         "M",
         "U",
         "College",
         "6000",
         "Good",
         0,
         0,
         0
        ],
        [
         800,
         "F",
         "U",
         "College",
         "6000",
         "Good",
         0,
         0,
         0
        ],
        [
         801,
         "M",
         "M",
         "2 yr Degree",
         "6000",
         "Good",
         0,
         0,
         0
        ],
        [
         802,
         "F",
         "M",
         "2 yr Degree",
         "6000",
         "Good",
         0,
         0,
         0
        ],
        [
         803,
         "M",
         "S",
         "2 yr Degree",
         "6000",
         "Good",
         0,
         0,
         0
        ],
        [
         804,
         "F",
         "S",
         "2 yr Degree",
         "6000",
         "Good",
         0,
         0,
         0
        ],
        [
         805,
         "M",
         "D",
         "2 yr Degree",
         "6000",
         "Good",
         0,
         0,
         0
        ],
        [
         806,
         "F",
         "D",
         "2 yr Degree",
         "6000",
         "Good",
         0,
         0,
         0
        ],
        [
         807,
         "M",
         "W",
         "2 yr Degree",
         "6000",
         "Good",
         0,
         0,
         0
        ],
        [
         808,
         "F",
         "W",
         "2 yr Degree",
         "6000",
         "Good",
         0,
         0,
         0
        ],
        [
         809,
         "M",
         "U",
         "2 yr Degree",
         "6000",
         "Good",
         0,
         0,
         0
        ],
        [
         810,
         "F",
         "U",
         "2 yr Degree",
         "6000",
         "Good",
         0,
         0,
         0
        ],
        [
         811,
         "M",
         "M",
         "4 yr Degree",
         "6000",
         "Good",
         0,
         0,
         0
        ],
        [
         812,
         "F",
         "M",
         "4 yr Degree",
         "6000",
         "Good",
         0,
         0,
         0
        ],
        [
         813,
         "M",
         "S",
         "4 yr Degree",
         "6000",
         "Good",
         0,
         0,
         0
        ],
        [
         814,
         "F",
         "S",
         "4 yr Degree",
         "6000",
         "Good",
         0,
         0,
         0
        ],
        [
         815,
         "M",
         "D",
         "4 yr Degree",
         "6000",
         "Good",
         0,
         0,
         0
        ],
        [
         816,
         "F",
         "D",
         "4 yr Degree",
         "6000",
         "Good",
         0,
         0,
         0
        ],
        [
         817,
         "M",
         "W",
         "4 yr Degree",
         "6000",
         "Good",
         0,
         0,
         0
        ],
        [
         818,
         "F",
         "W",
         "4 yr Degree",
         "6000",
         "Good",
         0,
         0,
         0
        ],
        [
         819,
         "M",
         "U",
         "4 yr Degree",
         "6000",
         "Good",
         0,
         0,
         0
        ],
        [
         820,
         "F",
         "U",
         "4 yr Degree",
         "6000",
         "Good",
         0,
         0,
         0
        ],
        [
         821,
         "M",
         "M",
         "Advanced Degree",
         "6000",
         "Good",
         0,
         0,
         0
        ],
        [
         822,
         "F",
         "M",
         "Advanced Degree",
         "6000",
         "Good",
         0,
         0,
         0
        ],
        [
         823,
         "M",
         "S",
         "Advanced Degree",
         "6000",
         "Good",
         0,
         0,
         0
        ],
        [
         824,
         "F",
         "S",
         "Advanced Degree",
         "6000",
         "Good",
         0,
         0,
         0
        ],
        [
         825,
         "M",
         "D",
         "Advanced Degree",
         "6000",
         "Good",
         0,
         0,
         0
        ],
        [
         826,
         "F",
         "D",
         "Advanced Degree",
         "6000",
         "Good",
         0,
         0,
         0
        ],
        [
         827,
         "M",
         "W",
         "Advanced Degree",
         "6000",
         "Good",
         0,
         0,
         0
        ],
        [
         828,
         "F",
         "W",
         "Advanced Degree",
         "6000",
         "Good",
         0,
         0,
         0
        ],
        [
         829,
         "M",
         "U",
         "Advanced Degree",
         "6000",
         "Good",
         0,
         0,
         0
        ],
        [
         830,
         "F",
         "U",
         "Advanced Degree",
         "6000",
         "Good",
         0,
         0,
         0
        ],
        [
         831,
         "M",
         "M",
         "Unknown",
         "6000",
         "Good",
         0,
         0,
         0
        ],
        [
         832,
         "F",
         "M",
         "Unknown",
         "6000",
         "Good",
         0,
         0,
         0
        ],
        [
         833,
         "M",
         "S",
         "Unknown",
         "6000",
         "Good",
         0,
         0,
         0
        ],
        [
         834,
         "F",
         "S",
         "Unknown",
         "6000",
         "Good",
         0,
         0,
         0
        ],
        [
         835,
         "M",
         "D",
         "Unknown",
         "6000",
         "Good",
         0,
         0,
         0
        ],
        [
         836,
         "F",
         "D",
         "Unknown",
         "6000",
         "Good",
         0,
         0,
         0
        ],
        [
         837,
         "M",
         "W",
         "Unknown",
         "6000",
         "Good",
         0,
         0,
         0
        ],
        [
         838,
         "F",
         "W",
         "Unknown",
         "6000",
         "Good",
         0,
         0,
         0
        ],
        [
         839,
         "M",
         "U",
         "Unknown",
         "6000",
         "Good",
         0,
         0,
         0
        ],
        [
         840,
         "F",
         "U",
         "Unknown",
         "6000",
         "Good",
         0,
         0,
         0
        ],
        [
         841,
         "M",
         "M",
         "Primary",
         "6500",
         "Good",
         0,
         0,
         0
        ],
        [
         842,
         "F",
         "M",
         "Primary",
         "6500",
         "Good",
         0,
         0,
         0
        ],
        [
         843,
         "M",
         "S",
         "Primary",
         "6500",
         "Good",
         0,
         0,
         0
        ],
        [
         844,
         "F",
         "S",
         "Primary",
         "6500",
         "Good",
         0,
         0,
         0
        ],
        [
         845,
         "M",
         "D",
         "Primary",
         "6500",
         "Good",
         0,
         0,
         0
        ],
        [
         846,
         "F",
         "D",
         "Primary",
         "6500",
         "Good",
         0,
         0,
         0
        ],
        [
         847,
         "M",
         "W",
         "Primary",
         "6500",
         "Good",
         0,
         0,
         0
        ],
        [
         848,
         "F",
         "W",
         "Primary",
         "6500",
         "Good",
         0,
         0,
         0
        ],
        [
         849,
         "M",
         "U",
         "Primary",
         "6500",
         "Good",
         0,
         0,
         0
        ],
        [
         850,
         "F",
         "U",
         "Primary",
         "6500",
         "Good",
         0,
         0,
         0
        ],
        [
         851,
         "M",
         "M",
         "Secondary",
         "6500",
         "Good",
         0,
         0,
         0
        ],
        [
         852,
         "F",
         "M",
         "Secondary",
         "6500",
         "Good",
         0,
         0,
         0
        ],
        [
         853,
         "M",
         "S",
         "Secondary",
         "6500",
         "Good",
         0,
         0,
         0
        ],
        [
         854,
         "F",
         "S",
         "Secondary",
         "6500",
         "Good",
         0,
         0,
         0
        ],
        [
         855,
         "M",
         "D",
         "Secondary",
         "6500",
         "Good",
         0,
         0,
         0
        ],
        [
         856,
         "F",
         "D",
         "Secondary",
         "6500",
         "Good",
         0,
         0,
         0
        ],
        [
         857,
         "M",
         "W",
         "Secondary",
         "6500",
         "Good",
         0,
         0,
         0
        ],
        [
         858,
         "F",
         "W",
         "Secondary",
         "6500",
         "Good",
         0,
         0,
         0
        ],
        [
         859,
         "M",
         "U",
         "Secondary",
         "6500",
         "Good",
         0,
         0,
         0
        ],
        [
         860,
         "F",
         "U",
         "Secondary",
         "6500",
         "Good",
         0,
         0,
         0
        ],
        [
         861,
         "M",
         "M",
         "College",
         "6500",
         "Good",
         0,
         0,
         0
        ],
        [
         862,
         "F",
         "M",
         "College",
         "6500",
         "Good",
         0,
         0,
         0
        ],
        [
         863,
         "M",
         "S",
         "College",
         "6500",
         "Good",
         0,
         0,
         0
        ],
        [
         864,
         "F",
         "S",
         "College",
         "6500",
         "Good",
         0,
         0,
         0
        ],
        [
         865,
         "M",
         "D",
         "College",
         "6500",
         "Good",
         0,
         0,
         0
        ],
        [
         866,
         "F",
         "D",
         "College",
         "6500",
         "Good",
         0,
         0,
         0
        ],
        [
         867,
         "M",
         "W",
         "College",
         "6500",
         "Good",
         0,
         0,
         0
        ],
        [
         868,
         "F",
         "W",
         "College",
         "6500",
         "Good",
         0,
         0,
         0
        ],
        [
         869,
         "M",
         "U",
         "College",
         "6500",
         "Good",
         0,
         0,
         0
        ],
        [
         870,
         "F",
         "U",
         "College",
         "6500",
         "Good",
         0,
         0,
         0
        ],
        [
         871,
         "M",
         "M",
         "2 yr Degree",
         "6500",
         "Good",
         0,
         0,
         0
        ],
        [
         872,
         "F",
         "M",
         "2 yr Degree",
         "6500",
         "Good",
         0,
         0,
         0
        ],
        [
         873,
         "M",
         "S",
         "2 yr Degree",
         "6500",
         "Good",
         0,
         0,
         0
        ],
        [
         874,
         "F",
         "S",
         "2 yr Degree",
         "6500",
         "Good",
         0,
         0,
         0
        ],
        [
         875,
         "M",
         "D",
         "2 yr Degree",
         "6500",
         "Good",
         0,
         0,
         0
        ],
        [
         876,
         "F",
         "D",
         "2 yr Degree",
         "6500",
         "Good",
         0,
         0,
         0
        ],
        [
         877,
         "M",
         "W",
         "2 yr Degree",
         "6500",
         "Good",
         0,
         0,
         0
        ],
        [
         878,
         "F",
         "W",
         "2 yr Degree",
         "6500",
         "Good",
         0,
         0,
         0
        ],
        [
         879,
         "M",
         "U",
         "2 yr Degree",
         "6500",
         "Good",
         0,
         0,
         0
        ],
        [
         880,
         "F",
         "U",
         "2 yr Degree",
         "6500",
         "Good",
         0,
         0,
         0
        ],
        [
         881,
         "M",
         "M",
         "4 yr Degree",
         "6500",
         "Good",
         0,
         0,
         0
        ],
        [
         882,
         "F",
         "M",
         "4 yr Degree",
         "6500",
         "Good",
         0,
         0,
         0
        ],
        [
         883,
         "M",
         "S",
         "4 yr Degree",
         "6500",
         "Good",
         0,
         0,
         0
        ],
        [
         884,
         "F",
         "S",
         "4 yr Degree",
         "6500",
         "Good",
         0,
         0,
         0
        ],
        [
         885,
         "M",
         "D",
         "4 yr Degree",
         "6500",
         "Good",
         0,
         0,
         0
        ],
        [
         886,
         "F",
         "D",
         "4 yr Degree",
         "6500",
         "Good",
         0,
         0,
         0
        ],
        [
         887,
         "M",
         "W",
         "4 yr Degree",
         "6500",
         "Good",
         0,
         0,
         0
        ],
        [
         888,
         "F",
         "W",
         "4 yr Degree",
         "6500",
         "Good",
         0,
         0,
         0
        ],
        [
         889,
         "M",
         "U",
         "4 yr Degree",
         "6500",
         "Good",
         0,
         0,
         0
        ],
        [
         890,
         "F",
         "U",
         "4 yr Degree",
         "6500",
         "Good",
         0,
         0,
         0
        ],
        [
         891,
         "M",
         "M",
         "Advanced Degree",
         "6500",
         "Good",
         0,
         0,
         0
        ],
        [
         892,
         "F",
         "M",
         "Advanced Degree",
         "6500",
         "Good",
         0,
         0,
         0
        ],
        [
         893,
         "M",
         "S",
         "Advanced Degree",
         "6500",
         "Good",
         0,
         0,
         0
        ],
        [
         894,
         "F",
         "S",
         "Advanced Degree",
         "6500",
         "Good",
         0,
         0,
         0
        ],
        [
         895,
         "M",
         "D",
         "Advanced Degree",
         "6500",
         "Good",
         0,
         0,
         0
        ],
        [
         896,
         "F",
         "D",
         "Advanced Degree",
         "6500",
         "Good",
         0,
         0,
         0
        ],
        [
         897,
         "M",
         "W",
         "Advanced Degree",
         "6500",
         "Good",
         0,
         0,
         0
        ],
        [
         898,
         "F",
         "W",
         "Advanced Degree",
         "6500",
         "Good",
         0,
         0,
         0
        ],
        [
         899,
         "M",
         "U",
         "Advanced Degree",
         "6500",
         "Good",
         0,
         0,
         0
        ],
        [
         900,
         "F",
         "U",
         "Advanced Degree",
         "6500",
         "Good",
         0,
         0,
         0
        ],
        [
         901,
         "M",
         "M",
         "Unknown",
         "6500",
         "Good",
         0,
         0,
         0
        ],
        [
         902,
         "F",
         "M",
         "Unknown",
         "6500",
         "Good",
         0,
         0,
         0
        ],
        [
         903,
         "M",
         "S",
         "Unknown",
         "6500",
         "Good",
         0,
         0,
         0
        ],
        [
         904,
         "F",
         "S",
         "Unknown",
         "6500",
         "Good",
         0,
         0,
         0
        ],
        [
         905,
         "M",
         "D",
         "Unknown",
         "6500",
         "Good",
         0,
         0,
         0
        ],
        [
         906,
         "F",
         "D",
         "Unknown",
         "6500",
         "Good",
         0,
         0,
         0
        ],
        [
         907,
         "M",
         "W",
         "Unknown",
         "6500",
         "Good",
         0,
         0,
         0
        ],
        [
         908,
         "F",
         "W",
         "Unknown",
         "6500",
         "Good",
         0,
         0,
         0
        ],
        [
         909,
         "M",
         "U",
         "Unknown",
         "6500",
         "Good",
         0,
         0,
         0
        ],
        [
         910,
         "F",
         "U",
         "Unknown",
         "6500",
         "Good",
         0,
         0,
         0
        ],
        [
         911,
         "M",
         "M",
         "Primary",
         "7000",
         "Good",
         0,
         0,
         0
        ],
        [
         912,
         "F",
         "M",
         "Primary",
         "7000",
         "Good",
         0,
         0,
         0
        ],
        [
         913,
         "M",
         "S",
         "Primary",
         "7000",
         "Good",
         0,
         0,
         0
        ],
        [
         914,
         "F",
         "S",
         "Primary",
         "7000",
         "Good",
         0,
         0,
         0
        ],
        [
         915,
         "M",
         "D",
         "Primary",
         "7000",
         "Good",
         0,
         0,
         0
        ],
        [
         916,
         "F",
         "D",
         "Primary",
         "7000",
         "Good",
         0,
         0,
         0
        ],
        [
         917,
         "M",
         "W",
         "Primary",
         "7000",
         "Good",
         0,
         0,
         0
        ],
        [
         918,
         "F",
         "W",
         "Primary",
         "7000",
         "Good",
         0,
         0,
         0
        ],
        [
         919,
         "M",
         "U",
         "Primary",
         "7000",
         "Good",
         0,
         0,
         0
        ],
        [
         920,
         "F",
         "U",
         "Primary",
         "7000",
         "Good",
         0,
         0,
         0
        ],
        [
         921,
         "M",
         "M",
         "Secondary",
         "7000",
         "Good",
         0,
         0,
         0
        ],
        [
         922,
         "F",
         "M",
         "Secondary",
         "7000",
         "Good",
         0,
         0,
         0
        ],
        [
         923,
         "M",
         "S",
         "Secondary",
         "7000",
         "Good",
         0,
         0,
         0
        ],
        [
         924,
         "F",
         "S",
         "Secondary",
         "7000",
         "Good",
         0,
         0,
         0
        ],
        [
         925,
         "M",
         "D",
         "Secondary",
         "7000",
         "Good",
         0,
         0,
         0
        ],
        [
         926,
         "F",
         "D",
         "Secondary",
         "7000",
         "Good",
         0,
         0,
         0
        ],
        [
         927,
         "M",
         "W",
         "Secondary",
         "7000",
         "Good",
         0,
         0,
         0
        ],
        [
         928,
         "F",
         "W",
         "Secondary",
         "7000",
         "Good",
         0,
         0,
         0
        ],
        [
         929,
         "M",
         "U",
         "Secondary",
         "7000",
         "Good",
         0,
         0,
         0
        ],
        [
         930,
         "F",
         "U",
         "Secondary",
         "7000",
         "Good",
         0,
         0,
         0
        ],
        [
         931,
         "M",
         "M",
         "College",
         "7000",
         "Good",
         0,
         0,
         0
        ],
        [
         932,
         "F",
         "M",
         "College",
         "7000",
         "Good",
         0,
         0,
         0
        ],
        [
         933,
         "M",
         "S",
         "College",
         "7000",
         "Good",
         0,
         0,
         0
        ],
        [
         934,
         "F",
         "S",
         "College",
         "7000",
         "Good",
         0,
         0,
         0
        ],
        [
         935,
         "M",
         "D",
         "College",
         "7000",
         "Good",
         0,
         0,
         0
        ],
        [
         936,
         "F",
         "D",
         "College",
         "7000",
         "Good",
         0,
         0,
         0
        ],
        [
         937,
         "M",
         "W",
         "College",
         "7000",
         "Good",
         0,
         0,
         0
        ],
        [
         938,
         "F",
         "W",
         "College",
         "7000",
         "Good",
         0,
         0,
         0
        ],
        [
         939,
         "M",
         "U",
         "College",
         "7000",
         "Good",
         0,
         0,
         0
        ],
        [
         940,
         "F",
         "U",
         "College",
         "7000",
         "Good",
         0,
         0,
         0
        ],
        [
         941,
         "M",
         "M",
         "2 yr Degree",
         "7000",
         "Good",
         0,
         0,
         0
        ],
        [
         942,
         "F",
         "M",
         "2 yr Degree",
         "7000",
         "Good",
         0,
         0,
         0
        ],
        [
         943,
         "M",
         "S",
         "2 yr Degree",
         "7000",
         "Good",
         0,
         0,
         0
        ],
        [
         944,
         "F",
         "S",
         "2 yr Degree",
         "7000",
         "Good",
         0,
         0,
         0
        ],
        [
         945,
         "M",
         "D",
         "2 yr Degree",
         "7000",
         "Good",
         0,
         0,
         0
        ],
        [
         946,
         "F",
         "D",
         "2 yr Degree",
         "7000",
         "Good",
         0,
         0,
         0
        ],
        [
         947,
         "M",
         "W",
         "2 yr Degree",
         "7000",
         "Good",
         0,
         0,
         0
        ],
        [
         948,
         "F",
         "W",
         "2 yr Degree",
         "7000",
         "Good",
         0,
         0,
         0
        ],
        [
         949,
         "M",
         "U",
         "2 yr Degree",
         "7000",
         "Good",
         0,
         0,
         0
        ],
        [
         950,
         "F",
         "U",
         "2 yr Degree",
         "7000",
         "Good",
         0,
         0,
         0
        ],
        [
         951,
         "M",
         "M",
         "4 yr Degree",
         "7000",
         "Good",
         0,
         0,
         0
        ],
        [
         952,
         "F",
         "M",
         "4 yr Degree",
         "7000",
         "Good",
         0,
         0,
         0
        ],
        [
         953,
         "M",
         "S",
         "4 yr Degree",
         "7000",
         "Good",
         0,
         0,
         0
        ],
        [
         954,
         "F",
         "S",
         "4 yr Degree",
         "7000",
         "Good",
         0,
         0,
         0
        ],
        [
         955,
         "M",
         "D",
         "4 yr Degree",
         "7000",
         "Good",
         0,
         0,
         0
        ],
        [
         956,
         "F",
         "D",
         "4 yr Degree",
         "7000",
         "Good",
         0,
         0,
         0
        ],
        [
         957,
         "M",
         "W",
         "4 yr Degree",
         "7000",
         "Good",
         0,
         0,
         0
        ],
        [
         958,
         "F",
         "W",
         "4 yr Degree",
         "7000",
         "Good",
         0,
         0,
         0
        ],
        [
         959,
         "M",
         "U",
         "4 yr Degree",
         "7000",
         "Good",
         0,
         0,
         0
        ],
        [
         960,
         "F",
         "U",
         "4 yr Degree",
         "7000",
         "Good",
         0,
         0,
         0
        ],
        [
         961,
         "M",
         "M",
         "Advanced Degree",
         "7000",
         "Good",
         0,
         0,
         0
        ],
        [
         962,
         "F",
         "M",
         "Advanced Degree",
         "7000",
         "Good",
         0,
         0,
         0
        ],
        [
         963,
         "M",
         "S",
         "Advanced Degree",
         "7000",
         "Good",
         0,
         0,
         0
        ],
        [
         964,
         "F",
         "S",
         "Advanced Degree",
         "7000",
         "Good",
         0,
         0,
         0
        ],
        [
         965,
         "M",
         "D",
         "Advanced Degree",
         "7000",
         "Good",
         0,
         0,
         0
        ],
        [
         966,
         "F",
         "D",
         "Advanced Degree",
         "7000",
         "Good",
         0,
         0,
         0
        ],
        [
         967,
         "M",
         "W",
         "Advanced Degree",
         "7000",
         "Good",
         0,
         0,
         0
        ],
        [
         968,
         "F",
         "W",
         "Advanced Degree",
         "7000",
         "Good",
         0,
         0,
         0
        ],
        [
         969,
         "M",
         "U",
         "Advanced Degree",
         "7000",
         "Good",
         0,
         0,
         0
        ],
        [
         970,
         "F",
         "U",
         "Advanced Degree",
         "7000",
         "Good",
         0,
         0,
         0
        ],
        [
         971,
         "M",
         "M",
         "Unknown",
         "7000",
         "Good",
         0,
         0,
         0
        ],
        [
         972,
         "F",
         "M",
         "Unknown",
         "7000",
         "Good",
         0,
         0,
         0
        ],
        [
         973,
         "M",
         "S",
         "Unknown",
         "7000",
         "Good",
         0,
         0,
         0
        ],
        [
         974,
         "F",
         "S",
         "Unknown",
         "7000",
         "Good",
         0,
         0,
         0
        ],
        [
         975,
         "M",
         "D",
         "Unknown",
         "7000",
         "Good",
         0,
         0,
         0
        ],
        [
         976,
         "F",
         "D",
         "Unknown",
         "7000",
         "Good",
         0,
         0,
         0
        ],
        [
         977,
         "M",
         "W",
         "Unknown",
         "7000",
         "Good",
         0,
         0,
         0
        ],
        [
         978,
         "F",
         "W",
         "Unknown",
         "7000",
         "Good",
         0,
         0,
         0
        ],
        [
         979,
         "M",
         "U",
         "Unknown",
         "7000",
         "Good",
         0,
         0,
         0
        ],
        [
         980,
         "F",
         "U",
         "Unknown",
         "7000",
         "Good",
         0,
         0,
         0
        ],
        [
         981,
         "M",
         "M",
         "Primary",
         "7500",
         "Good",
         0,
         0,
         0
        ],
        [
         982,
         "F",
         "M",
         "Primary",
         "7500",
         "Good",
         0,
         0,
         0
        ],
        [
         983,
         "M",
         "S",
         "Primary",
         "7500",
         "Good",
         0,
         0,
         0
        ],
        [
         984,
         "F",
         "S",
         "Primary",
         "7500",
         "Good",
         0,
         0,
         0
        ],
        [
         985,
         "M",
         "D",
         "Primary",
         "7500",
         "Good",
         0,
         0,
         0
        ],
        [
         986,
         "F",
         "D",
         "Primary",
         "7500",
         "Good",
         0,
         0,
         0
        ],
        [
         987,
         "M",
         "W",
         "Primary",
         "7500",
         "Good",
         0,
         0,
         0
        ],
        [
         988,
         "F",
         "W",
         "Primary",
         "7500",
         "Good",
         0,
         0,
         0
        ],
        [
         989,
         "M",
         "U",
         "Primary",
         "7500",
         "Good",
         0,
         0,
         0
        ],
        [
         990,
         "F",
         "U",
         "Primary",
         "7500",
         "Good",
         0,
         0,
         0
        ],
        [
         991,
         "M",
         "M",
         "Secondary",
         "7500",
         "Good",
         0,
         0,
         0
        ],
        [
         992,
         "F",
         "M",
         "Secondary",
         "7500",
         "Good",
         0,
         0,
         0
        ],
        [
         993,
         "M",
         "S",
         "Secondary",
         "7500",
         "Good",
         0,
         0,
         0
        ],
        [
         994,
         "F",
         "S",
         "Secondary",
         "7500",
         "Good",
         0,
         0,
         0
        ],
        [
         995,
         "M",
         "D",
         "Secondary",
         "7500",
         "Good",
         0,
         0,
         0
        ],
        [
         996,
         "F",
         "D",
         "Secondary",
         "7500",
         "Good",
         0,
         0,
         0
        ],
        [
         997,
         "M",
         "W",
         "Secondary",
         "7500",
         "Good",
         0,
         0,
         0
        ],
        [
         998,
         "F",
         "W",
         "Secondary",
         "7500",
         "Good",
         0,
         0,
         0
        ],
        [
         999,
         "M",
         "U",
         "Secondary",
         "7500",
         "Good",
         0,
         0,
         0
        ],
        [
         1000,
         "F",
         "U",
         "Secondary",
         "7500",
         "Good",
         0,
         0,
         0
        ]
       ],
       "datasetInfos": [],
       "dbfsResultPath": null,
       "isJsonSchema": true,
       "overflow": true,
       "plotOptions": {
        "customPlotOptions": {},
        "displayType": "table",
        "pivotAggregation": null,
        "pivotColumns": null,
        "xColumns": null,
        "yColumns": null
       },
       "removedWidgets": [],
       "schema": [
        {
         "metadata": "{}",
         "name": "cd_demo_sk",
         "type": "\"long\""
        },
        {
         "metadata": "{}",
         "name": "cd_gender",
         "type": "\"string\""
        },
        {
         "metadata": "{}",
         "name": "cd_marital_status",
         "type": "\"string\""
        },
        {
         "metadata": "{}",
         "name": "cd_education_status",
         "type": "\"string\""
        },
        {
         "metadata": "{}",
         "name": "cd_purchase_estimate",
         "type": "\"string\""
        },
        {
         "metadata": "{}",
         "name": "cd_credit_rating",
         "type": "\"string\""
        },
        {
         "metadata": "{}",
         "name": "cd_dep_count",
         "type": "\"integer\""
        },
        {
         "metadata": "{}",
         "name": "cd_dep_employed_count",
         "type": "\"integer\""
        },
        {
         "metadata": "{}",
         "name": "cd_dep_college_count",
         "type": "\"integer\""
        }
       ],
       "type": "table"
      }
     },
     "output_type": "display_data"
    }
   ],
   "source": [
    "display(customer_demographics)"
   ]
  },
  {
   "cell_type": "markdown",
   "metadata": {
    "application/vnd.databricks.v1+cell": {
     "inputWidgets": {},
     "nuid": "a1185170-06a5-4ff6-8053-e99d13780e12",
     "showTitle": false,
     "title": ""
    }
   },
   "source": [
    "### Joined the Customer Data with Demographics Data"
   ]
  },
  {
   "cell_type": "code",
   "execution_count": 0,
   "metadata": {
    "application/vnd.databricks.v1+cell": {
     "inputWidgets": {},
     "nuid": "e5d821d0-e77b-4e60-bb89-f41a0ac6bf76",
     "showTitle": false,
     "title": ""
    }
   },
   "outputs": [
    {
     "data": {
      "text/html": [
       "<style scoped>\n",
       "  .ansiout {\n",
       "    display: block;\n",
       "    unicode-bidi: embed;\n",
       "    white-space: pre-wrap;\n",
       "    word-wrap: break-word;\n",
       "    word-break: break-all;\n",
       "    font-family: \"Source Code Pro\", \"Menlo\", monospace;;\n",
       "    font-size: 13px;\n",
       "    color: #555;\n",
       "    margin-left: 4px;\n",
       "    line-height: 19px;\n",
       "  }\n",
       "</style>\n",
       "<div class=\"ansiout\"></div>"
      ]
     },
     "metadata": {
      "application/vnd.databricks.v1+output": {
       "addedWidgets": {},
       "arguments": {},
       "data": "<div class=\"ansiout\"></div>",
       "datasetInfos": [
        {
         "name": "customerWithDemographics",
         "schema": {
          "fields": [
           {
            "metadata": {},
            "name": "customer_sk",
            "nullable": true,
            "type": "long"
           },
           {
            "metadata": {},
            "name": "customer_id",
            "nullable": true,
            "type": "string"
           },
           {
            "metadata": {},
            "name": "current_cdemo_sk",
            "nullable": true,
            "type": "long"
           },
           {
            "metadata": {},
            "name": "current_hdemo_sk",
            "nullable": true,
            "type": "long"
           },
           {
            "metadata": {},
            "name": "current_addr_sk",
            "nullable": true,
            "type": "long"
           },
           {
            "metadata": {},
            "name": "first_shipto_date_sk",
            "nullable": true,
            "type": "long"
           },
           {
            "metadata": {},
            "name": "first_sales_date_sk",
            "nullable": true,
            "type": "long"
           },
           {
            "metadata": {},
            "name": "salutation",
            "nullable": true,
            "type": "string"
           },
           {
            "metadata": {},
            "name": "firstName",
            "nullable": true,
            "type": "string"
           },
           {
            "metadata": {},
            "name": "lastName",
            "nullable": true,
            "type": "string"
           },
           {
            "metadata": {},
            "name": "preferred_Cust_Flag",
            "nullable": true,
            "type": "string"
           },
           {
            "metadata": {},
            "name": "birth_Day",
            "nullable": true,
            "type": "long"
           },
           {
            "metadata": {},
            "name": "birth_Month",
            "nullable": true,
            "type": "long"
           },
           {
            "metadata": {},
            "name": "birth_Year",
            "nullable": true,
            "type": "long"
           },
           {
            "metadata": {},
            "name": "birth_Country",
            "nullable": true,
            "type": "string"
           },
           {
            "metadata": {},
            "name": "login",
            "nullable": true,
            "type": "string"
           },
           {
            "metadata": {},
            "name": "emailAddress",
            "nullable": true,
            "type": "string"
           },
           {
            "metadata": {},
            "name": "last_review_date",
            "nullable": true,
            "type": "long"
           },
           {
            "metadata": {},
            "name": "cd_demo_sk",
            "nullable": true,
            "type": "long"
           },
           {
            "metadata": {},
            "name": "cd_gender",
            "nullable": true,
            "type": "string"
           },
           {
            "metadata": {},
            "name": "cd_marital_status",
            "nullable": true,
            "type": "string"
           },
           {
            "metadata": {},
            "name": "cd_education_status",
            "nullable": true,
            "type": "string"
           },
           {
            "metadata": {},
            "name": "cd_purchase_estimate",
            "nullable": true,
            "type": "string"
           },
           {
            "metadata": {},
            "name": "cd_credit_rating",
            "nullable": true,
            "type": "string"
           },
           {
            "metadata": {},
            "name": "cd_dep_count",
            "nullable": true,
            "type": "integer"
           },
           {
            "metadata": {},
            "name": "cd_dep_employed_count",
            "nullable": true,
            "type": "integer"
           },
           {
            "metadata": {},
            "name": "cd_dep_college_count",
            "nullable": true,
            "type": "integer"
           }
          ],
          "type": "struct"
         },
         "tableIdentifier": null,
         "typeStr": "pyspark.sql.dataframe.DataFrame"
        }
       ],
       "removedWidgets": [],
       "type": "html"
      }
     },
     "output_type": "display_data"
    }
   ],
   "source": [
    "joinExpr = customer_df.current_cdemo_sk == customer_demographics.cd_demo_sk\n",
    "customerWithDemographics = customer_df.join(customer_demographics,joinExpr,\"inner\")"
   ]
  },
  {
   "cell_type": "code",
   "execution_count": 0,
   "metadata": {
    "application/vnd.databricks.v1+cell": {
     "inputWidgets": {},
     "nuid": "6b3d2a7e-fd24-4da8-a8ef-dd99dae89b40",
     "showTitle": true,
     "title": "Customer creditRating Exploration"
    }
   },
   "outputs": [
    {
     "data": {
      "text/html": [
       "<style scoped>\n",
       "  .ansiout {\n",
       "    display: block;\n",
       "    unicode-bidi: embed;\n",
       "    white-space: pre-wrap;\n",
       "    word-wrap: break-word;\n",
       "    word-break: break-all;\n",
       "    font-family: \"Source Code Pro\", \"Menlo\", monospace;;\n",
       "    font-size: 13px;\n",
       "    color: #555;\n",
       "    margin-left: 4px;\n",
       "    line-height: 19px;\n",
       "  }\n",
       "</style>\n",
       "<div class=\"ansiout\">+-----------+---------+--------+----------------+\n",
       "customer_sk|firstName|lastName|cd_credit_rating|\n",
       "+-----------+---------+--------+----------------+\n",
       "      51826|  Bernard|  Wilson|            Good|\n",
       "      77500|   Robert| Mullins|            Good|\n",
       "      45681|    Hazel|   Brown|            Good|\n",
       "      33313|  Pauline|  Slaton|            Good|\n",
       "      40692|   Manuel|  Muller|            Good|\n",
       "      27996| Kathleen|  Thomas|            Good|\n",
       "      93526|   Millie|   Coley|            Good|\n",
       "       6359|  Johnnie|  Horton|            Good|\n",
       "      28095|  Stanley| Roberts|            Good|\n",
       "      24147|   Denise|  Garcia|            Good|\n",
       "+-----------+---------+--------+----------------+\n",
       "only showing top 10 rows\n",
       "\n",
       "</div>"
      ]
     },
     "metadata": {
      "application/vnd.databricks.v1+output": {
       "addedWidgets": {},
       "arguments": {},
       "data": "<div class=\"ansiout\">+-----------+---------+--------+----------------+\n|customer_sk|firstName|lastName|cd_credit_rating|\n+-----------+---------+--------+----------------+\n|      51826|  Bernard|  Wilson|            Good|\n|      77500|   Robert| Mullins|            Good|\n|      45681|    Hazel|   Brown|            Good|\n|      33313|  Pauline|  Slaton|            Good|\n|      40692|   Manuel|  Muller|            Good|\n|      27996| Kathleen|  Thomas|            Good|\n|      93526|   Millie|   Coley|            Good|\n|       6359|  Johnnie|  Horton|            Good|\n|      28095|  Stanley| Roberts|            Good|\n|      24147|   Denise|  Garcia|            Good|\n+-----------+---------+--------+----------------+\nonly showing top 10 rows\n\n</div>",
       "datasetInfos": [],
       "removedWidgets": [],
       "type": "html"
      }
     },
     "output_type": "display_data"
    }
   ],
   "source": [
    "customerWithDemographics.select(\"customer_sk\",\"firstName\",\"lastName\",\"cd_credit_rating\").show(10)"
   ]
  },
  {
   "cell_type": "code",
   "execution_count": 0,
   "metadata": {
    "application/vnd.databricks.v1+cell": {
     "inputWidgets": {},
     "nuid": "9f0a9f94-25f5-453c-91a0-67a485e267ff",
     "showTitle": true,
     "title": "creditRating values"
    }
   },
   "outputs": [
    {
     "data": {
      "text/html": [
       "<style scoped>\n",
       "  .ansiout {\n",
       "    display: block;\n",
       "    unicode-bidi: embed;\n",
       "    white-space: pre-wrap;\n",
       "    word-wrap: break-word;\n",
       "    word-break: break-all;\n",
       "    font-family: \"Source Code Pro\", \"Menlo\", monospace;;\n",
       "    font-size: 13px;\n",
       "    color: #555;\n",
       "    margin-left: 4px;\n",
       "    line-height: 19px;\n",
       "  }\n",
       "</style>\n",
       "<div class=\"ansiout\">+----------------+\n",
       "cd_credit_rating|\n",
       "+----------------+\n",
       "        Low Risk|\n",
       "            Good|\n",
       "         Unknown|\n",
       "       High Risk|\n",
       "+----------------+\n",
       "\n",
       "</div>"
      ]
     },
     "metadata": {
      "application/vnd.databricks.v1+output": {
       "addedWidgets": {},
       "arguments": {},
       "data": "<div class=\"ansiout\">+----------------+\n|cd_credit_rating|\n+----------------+\n|        Low Risk|\n|            Good|\n|         Unknown|\n|       High Risk|\n+----------------+\n\n</div>",
       "datasetInfos": [],
       "removedWidgets": [],
       "type": "html"
      }
     },
     "output_type": "display_data"
    }
   ],
   "source": [
    "customerWithDemographics.select(\"cd_credit_rating\").distinct().show()"
   ]
  },
  {
   "cell_type": "code",
   "execution_count": 0,
   "metadata": {
    "application/vnd.databricks.v1+cell": {
     "inputWidgets": {},
     "nuid": "d7536202-44ed-4c7b-966b-45ff29f0a6f3",
     "showTitle": true,
     "title": "Group Customer by creditRating and count"
    }
   },
   "outputs": [
    {
     "data": {
      "text/html": [
       "<style scoped>\n",
       "  .table-result-container {\n",
       "    max-height: 300px;\n",
       "    overflow: auto;\n",
       "  }\n",
       "  table, th, td {\n",
       "    border: 1px solid black;\n",
       "    border-collapse: collapse;\n",
       "  }\n",
       "  th, td {\n",
       "    padding: 5px;\n",
       "  }\n",
       "  th {\n",
       "    text-align: left;\n",
       "  }\n",
       "</style><div class='table-result-container'><table class='table-result'><thead style='background-color: white'><tr><th>creditRating</th><th>customerCount</th></tr></thead><tbody><tr><td>Low Risk</td><td>24133</td></tr><tr><td>Good</td><td>24038</td></tr><tr><td>Unknown</td><td>24009</td></tr><tr><td>High Risk</td><td>24382</td></tr></tbody></table></div>"
      ]
     },
     "metadata": {
      "application/vnd.databricks.v1+output": {
       "addedWidgets": {},
       "aggData": [],
       "aggError": "",
       "aggOverflow": false,
       "aggSchema": [],
       "aggSeriesLimitReached": false,
       "aggType": "",
       "arguments": {},
       "columnCustomDisplayInfos": {},
       "data": [
        [
         "Low Risk",
         24133
        ],
        [
         "Good",
         24038
        ],
        [
         "Unknown",
         24009
        ],
        [
         "High Risk",
         24382
        ]
       ],
       "datasetInfos": [
        {
         "name": "creditProfile",
         "schema": {
          "fields": [
           {
            "metadata": {},
            "name": "creditRating",
            "nullable": true,
            "type": "string"
           },
           {
            "metadata": {},
            "name": "customerCount",
            "nullable": false,
            "type": "long"
           }
          ],
          "type": "struct"
         },
         "tableIdentifier": null,
         "typeStr": "pyspark.sql.dataframe.DataFrame"
        }
       ],
       "dbfsResultPath": null,
       "isJsonSchema": true,
       "overflow": false,
       "plotOptions": {
        "customPlotOptions": {},
        "displayType": "table",
        "pivotAggregation": null,
        "pivotColumns": null,
        "xColumns": null,
        "yColumns": null
       },
       "removedWidgets": [],
       "schema": [
        {
         "metadata": "{}",
         "name": "creditRating",
         "type": "\"string\""
        },
        {
         "metadata": "{}",
         "name": "customerCount",
         "type": "\"long\""
        }
       ],
       "type": "table"
      }
     },
     "output_type": "display_data"
    }
   ],
   "source": [
    "creditProfile = customerWithDemographics.groupBy(\"cd_credit_rating\").count().withColumnRenamed(\"count\",\"customerCount\").withColumnRenamed(\"cd_credit_rating\",\"creditRating\")\n",
    "\n",
    "display(creditProfile)"
   ]
  },
  {
   "cell_type": "code",
   "execution_count": 0,
   "metadata": {
    "application/vnd.databricks.v1+cell": {
     "inputWidgets": {},
     "nuid": "cabc5ce7-4695-4662-aed2-54851c98a8ce",
     "showTitle": true,
     "title": "Customer Purchase Level with Customer Count"
    }
   },
   "outputs": [
    {
     "data": {
      "text/html": [
       "<style scoped>\n",
       "  .table-result-container {\n",
       "    max-height: 300px;\n",
       "    overflow: auto;\n",
       "  }\n",
       "  table, th, td {\n",
       "    border: 1px solid black;\n",
       "    border-collapse: collapse;\n",
       "  }\n",
       "  th, td {\n",
       "    padding: 5px;\n",
       "  }\n",
       "  th {\n",
       "    text-align: left;\n",
       "  }\n",
       "</style><div class='table-result-container'><table class='table-result'><thead style='background-color: white'><tr><th>purchaseLevelEstimate</th><th>customerCount</th></tr></thead><tbody><tr><td>1500</td><td>4847</td></tr><tr><td>5000</td><td>4769</td></tr><tr><td>8500</td><td>4760</td></tr><tr><td>10000</td><td>4760</td></tr><tr><td>2000</td><td>4834</td></tr><tr><td>7000</td><td>4754</td></tr><tr><td>6500</td><td>4885</td></tr><tr><td>3000</td><td>4712</td></tr><tr><td>9500</td><td>4840</td></tr><tr><td>1000</td><td>4907</td></tr><tr><td>2500</td><td>4836</td></tr><tr><td>4000</td><td>4872</td></tr><tr><td>9000</td><td>4832</td></tr><tr><td>3500</td><td>4861</td></tr><tr><td>500</td><td>4877</td></tr><tr><td>7500</td><td>4746</td></tr><tr><td>4500</td><td>4903</td></tr><tr><td>5500</td><td>4885</td></tr><tr><td>6000</td><td>4793</td></tr><tr><td>8000</td><td>4889</td></tr></tbody></table></div>"
      ]
     },
     "metadata": {
      "application/vnd.databricks.v1+output": {
       "addedWidgets": {},
       "aggData": [],
       "aggError": "",
       "aggOverflow": false,
       "aggSchema": [],
       "aggSeriesLimitReached": false,
       "aggType": "",
       "arguments": {},
       "columnCustomDisplayInfos": {},
       "data": [
        [
         "1500",
         4847
        ],
        [
         "5000",
         4769
        ],
        [
         "8500",
         4760
        ],
        [
         "10000",
         4760
        ],
        [
         "2000",
         4834
        ],
        [
         "7000",
         4754
        ],
        [
         "6500",
         4885
        ],
        [
         "3000",
         4712
        ],
        [
         "9500",
         4840
        ],
        [
         "1000",
         4907
        ],
        [
         "2500",
         4836
        ],
        [
         "4000",
         4872
        ],
        [
         "9000",
         4832
        ],
        [
         "3500",
         4861
        ],
        [
         "500",
         4877
        ],
        [
         "7500",
         4746
        ],
        [
         "4500",
         4903
        ],
        [
         "5500",
         4885
        ],
        [
         "6000",
         4793
        ],
        [
         "8000",
         4889
        ]
       ],
       "datasetInfos": [
        {
         "name": "customerPurchaseLevel",
         "schema": {
          "fields": [
           {
            "metadata": {},
            "name": "purchaseLevelEstimate",
            "nullable": true,
            "type": "string"
           },
           {
            "metadata": {},
            "name": "customerCount",
            "nullable": false,
            "type": "long"
           }
          ],
          "type": "struct"
         },
         "tableIdentifier": null,
         "typeStr": "pyspark.sql.dataframe.DataFrame"
        }
       ],
       "dbfsResultPath": null,
       "isJsonSchema": true,
       "overflow": false,
       "plotOptions": {
        "customPlotOptions": {},
        "displayType": "table",
        "pivotAggregation": null,
        "pivotColumns": null,
        "xColumns": null,
        "yColumns": null
       },
       "removedWidgets": [],
       "schema": [
        {
         "metadata": "{}",
         "name": "purchaseLevelEstimate",
         "type": "\"string\""
        },
        {
         "metadata": "{}",
         "name": "customerCount",
         "type": "\"long\""
        }
       ],
       "type": "table"
      }
     },
     "output_type": "display_data"
    }
   ],
   "source": [
    "customerPurchaseLevel = customerWithDemographics.groupBy(\"cd_purchase_estimate\").count().withColumnRenamed(\"count\",\"customerCount\").withColumnRenamed(\"cd_purchase_estimate\",\"purchaseLevelEstimate\")\n",
    "display(customerPurchaseLevel)"
   ]
  },
  {
   "cell_type": "code",
   "execution_count": 0,
   "metadata": {
    "application/vnd.databricks.v1+cell": {
     "inputWidgets": {},
     "nuid": "002dd78d-ba1e-4fdd-ab8d-5fd66d7184af",
     "showTitle": true,
     "title": "Save to table and connect to PBI for data visuliazation"
    }
   },
   "outputs": [
    {
     "data": {
      "text/html": [
       "<style scoped>\n",
       "  .ansiout {\n",
       "    display: block;\n",
       "    unicode-bidi: embed;\n",
       "    white-space: pre-wrap;\n",
       "    word-wrap: break-word;\n",
       "    word-break: break-all;\n",
       "    font-family: \"Source Code Pro\", \"Menlo\", monospace;;\n",
       "    font-size: 13px;\n",
       "    color: #555;\n",
       "    margin-left: 4px;\n",
       "    line-height: 19px;\n",
       "  }\n",
       "</style>\n",
       "<div class=\"ansiout\"></div>"
      ]
     },
     "metadata": {
      "application/vnd.databricks.v1+output": {
       "addedWidgets": {},
       "arguments": {},
       "data": "<div class=\"ansiout\"></div>",
       "datasetInfos": [],
       "removedWidgets": [],
       "type": "html"
      }
     },
     "output_type": "display_data"
    }
   ],
   "source": [
    "customerPurchaseLevel.coalesce(1).write.mode(\"overwrite\").option(\"header\",\"true\").csv(\"/Output/hbl/customerPurchaseLevel.csv\")\n",
    "customerPurchaseLevel.write.saveAsTable(\"customerPurchaseLevel\")"
   ]
  },
  {
   "cell_type": "code",
   "execution_count": 0,
   "metadata": {
    "application/vnd.databricks.v1+cell": {
     "inputWidgets": {},
     "nuid": "1ba21a0c-fc58-4642-bcc6-a130b7e07797",
     "showTitle": false,
     "title": ""
    }
   },
   "outputs": [
    {
     "data": {
      "text/html": [
       "<style scoped>\n",
       "  .ansiout {\n",
       "    display: block;\n",
       "    unicode-bidi: embed;\n",
       "    white-space: pre-wrap;\n",
       "    word-wrap: break-word;\n",
       "    word-break: break-all;\n",
       "    font-family: \"Source Code Pro\", \"Menlo\", monospace;;\n",
       "    font-size: 13px;\n",
       "    color: #555;\n",
       "    margin-left: 4px;\n",
       "    line-height: 19px;\n",
       "  }\n",
       "</style>\n",
       "<div class=\"ansiout\"></div>"
      ]
     },
     "metadata": {
      "application/vnd.databricks.v1+output": {
       "addedWidgets": {},
       "arguments": {},
       "data": "<div class=\"ansiout\"></div>",
       "datasetInfos": [],
       "removedWidgets": [],
       "type": "html"
      }
     },
     "output_type": "display_data"
    }
   ],
   "source": [
    "# df_CPL = spark.read.option(\"header\",\"true\").csv(\"/FileStore/output/customerPurchaseLevel.csv\")\n",
    "# df_CPL.show(5)"
   ]
  },
  {
   "cell_type": "markdown",
   "metadata": {
    "application/vnd.databricks.v1+cell": {
     "inputWidgets": {},
     "nuid": "e3a1e915-1800-4461-8ea4-d44ee31575db",
     "showTitle": false,
     "title": ""
    }
   },
   "source": [
    "### Let us run some predictive models to categorize the customers into `preferred`/`unpreferred` flag"
   ]
  },
  {
   "cell_type": "code",
   "execution_count": 0,
   "metadata": {
    "application/vnd.databricks.v1+cell": {
     "inputWidgets": {},
     "nuid": "2b21fed3-55bd-4672-b73c-a058acf6f899",
     "showTitle": false,
     "title": ""
    }
   },
   "outputs": [
    {
     "data": {
      "text/html": [
       "<style scoped>\n",
       "  .table-result-container {\n",
       "    max-height: 300px;\n",
       "    overflow: auto;\n",
       "  }\n",
       "  table, th, td {\n",
       "    border: 1px solid black;\n",
       "    border-collapse: collapse;\n",
       "  }\n",
       "  th, td {\n",
       "    padding: 5px;\n",
       "  }\n",
       "  th {\n",
       "    text-align: left;\n",
       "  }\n",
       "</style><div class='table-result-container'><table class='table-result'><thead style='background-color: white'><tr><th>salutation</th><th>birth_Day</th><th>birth_Month</th><th>birth_Year</th><th>cd_gender</th><th>cd_marital_status</th><th>cd_education_status</th><th>cd_purchase_estimate</th><th>cd_credit_rating</th><th>cd_dep_count</th><th>cd_dep_employed_count</th><th>cd_dep_college_count</th><th>preferred_Cust_Flag</th></tr></thead><tbody><tr><td>Sir</td><td>17</td><td>8</td><td>1936</td><td>M</td><td>W</td><td>Secondary</td><td>500</td><td>Good</td><td>0</td><td>0</td><td>0</td><td>N</td></tr><tr><td>Sir</td><td>6</td><td>9</td><td>1926</td><td>F</td><td>U</td><td>Secondary</td><td>500</td><td>Good</td><td>0</td><td>0</td><td>0</td><td>Y</td></tr><tr><td>Dr.</td><td>13</td><td>9</td><td>1928</td><td>M</td><td>S</td><td>4 yr Degree</td><td>500</td><td>Good</td><td>0</td><td>0</td><td>0</td><td>Y</td></tr><tr><td>Ms.</td><td>11</td><td>4</td><td>1992</td><td>F</td><td>S</td><td>4 yr Degree</td><td>500</td><td>Good</td><td>0</td><td>0</td><td>0</td><td>N</td></tr><tr><td>Mr.</td><td>11</td><td>7</td><td>1988</td><td>M</td><td>M</td><td>College</td><td>1000</td><td>Good</td><td>0</td><td>0</td><td>0</td><td>N</td></tr><tr><td>Dr.</td><td>11</td><td>5</td><td>1948</td><td>F</td><td>D</td><td>4 yr Degree</td><td>1000</td><td>Good</td><td>0</td><td>0</td><td>0</td><td>N</td></tr><tr><td>Miss</td><td>30</td><td>6</td><td>1944</td><td>M</td><td>M</td><td>Advanced Degree</td><td>1000</td><td>Good</td><td>0</td><td>0</td><td>0</td><td>N</td></tr><tr><td>Mr.</td><td>14</td><td>10</td><td>1934</td><td>M</td><td>U</td><td>Advanced Degree</td><td>1000</td><td>Good</td><td>0</td><td>0</td><td>0</td><td>N</td></tr><tr><td>Dr.</td><td>28</td><td>4</td><td>1939</td><td>M</td><td>M</td><td>Unknown</td><td>1000</td><td>Good</td><td>0</td><td>0</td><td>0</td><td>N</td></tr><tr><td>Ms.</td><td>23</td><td>5</td><td>1933</td><td>M</td><td>S</td><td>Primary</td><td>1500</td><td>Good</td><td>0</td><td>0</td><td>0</td><td>Y</td></tr><tr><td>Sir</td><td>11</td><td>9</td><td>1932</td><td>M</td><td>W</td><td>College</td><td>1500</td><td>Good</td><td>0</td><td>0</td><td>0</td><td>N</td></tr><tr><td>Dr.</td><td>27</td><td>3</td><td>1940</td><td>F</td><td>M</td><td>Advanced Degree</td><td>1500</td><td>Good</td><td>0</td><td>0</td><td>0</td><td>Y</td></tr><tr><td>Mrs.</td><td>7</td><td>12</td><td>1925</td><td>M</td><td>S</td><td>Advanced Degree</td><td>1500</td><td>Good</td><td>0</td><td>0</td><td>0</td><td>Y</td></tr><tr><td>Dr.</td><td>7</td><td>12</td><td>1950</td><td>F</td><td>W</td><td>Primary</td><td>2000</td><td>Good</td><td>0</td><td>0</td><td>0</td><td>N</td></tr><tr><td>Ms.</td><td>1</td><td>8</td><td>1933</td><td>M</td><td>D</td><td>Unknown</td><td>2000</td><td>Good</td><td>0</td><td>0</td><td>0</td><td>N</td></tr><tr><td>Sir</td><td>14</td><td>1</td><td>1942</td><td>F</td><td>S</td><td>Primary</td><td>2500</td><td>Good</td><td>0</td><td>0</td><td>0</td><td>N</td></tr><tr><td>Sir</td><td>15</td><td>12</td><td>1933</td><td>M</td><td>U</td><td>Primary</td><td>2500</td><td>Good</td><td>0</td><td>0</td><td>0</td><td>N</td></tr><tr><td>Ms.</td><td>28</td><td>3</td><td>1926</td><td>F</td><td>U</td><td>Primary</td><td>2500</td><td>Good</td><td>0</td><td>0</td><td>0</td><td>N</td></tr><tr><td>Dr.</td><td>10</td><td>3</td><td>1952</td><td>F</td><td>D</td><td>College</td><td>2500</td><td>Good</td><td>0</td><td>0</td><td>0</td><td>Y</td></tr><tr><td>Dr.</td><td>17</td><td>10</td><td>1965</td><td>M</td><td>D</td><td>2 yr Degree</td><td>2500</td><td>Good</td><td>0</td><td>0</td><td>0</td><td>N</td></tr><tr><td>Sir</td><td>22</td><td>2</td><td>1965</td><td>F</td><td>M</td><td>Primary</td><td>3000</td><td>Good</td><td>0</td><td>0</td><td>0</td><td>N</td></tr><tr><td>Dr.</td><td>19</td><td>1</td><td>1933</td><td>M</td><td>U</td><td>Primary</td><td>3000</td><td>Good</td><td>0</td><td>0</td><td>0</td><td>N</td></tr><tr><td>Dr.</td><td>20</td><td>1</td><td>1933</td><td>M</td><td>D</td><td>Secondary</td><td>3000</td><td>Good</td><td>0</td><td>0</td><td>0</td><td>Y</td></tr><tr><td>Dr.</td><td>5</td><td>5</td><td>1966</td><td>M</td><td>W</td><td>Secondary</td><td>3000</td><td>Good</td><td>0</td><td>0</td><td>0</td><td>N</td></tr><tr><td>Mr.</td><td>10</td><td>3</td><td>1969</td><td>F</td><td>U</td><td>Secondary</td><td>3000</td><td>Good</td><td>0</td><td>0</td><td>0</td><td>Y</td></tr><tr><td>Dr.</td><td>6</td><td>5</td><td>1977</td><td>M</td><td>M</td><td>College</td><td>3000</td><td>Good</td><td>0</td><td>0</td><td>0</td><td>Y</td></tr><tr><td>Miss</td><td>14</td><td>3</td><td>1988</td><td>M</td><td>M</td><td>2 yr Degree</td><td>3000</td><td>Good</td><td>0</td><td>0</td><td>0</td><td>N</td></tr><tr><td>Ms.</td><td>30</td><td>10</td><td>1955</td><td>F</td><td>S</td><td>2 yr Degree</td><td>3000</td><td>Good</td><td>0</td><td>0</td><td>0</td><td>N</td></tr><tr><td>Dr.</td><td>29</td><td>7</td><td>1930</td><td>M</td><td>S</td><td>4 yr Degree</td><td>3000</td><td>Good</td><td>0</td><td>0</td><td>0</td><td>Y</td></tr><tr><td>Miss</td><td>7</td><td>12</td><td>1974</td><td>M</td><td>S</td><td>4 yr Degree</td><td>3500</td><td>Good</td><td>0</td><td>0</td><td>0</td><td>N</td></tr><tr><td>Dr.</td><td>5</td><td>9</td><td>1970</td><td>F</td><td>W</td><td>Primary</td><td>4000</td><td>Good</td><td>0</td><td>0</td><td>0</td><td>N</td></tr><tr><td>Dr.</td><td>20</td><td>9</td><td>1953</td><td>M</td><td>S</td><td>Secondary</td><td>4000</td><td>Good</td><td>0</td><td>0</td><td>0</td><td>N</td></tr><tr><td>Dr.</td><td>6</td><td>2</td><td>1991</td><td>M</td><td>W</td><td>2 yr Degree</td><td>4000</td><td>Good</td><td>0</td><td>0</td><td>0</td><td>N</td></tr><tr><td>Mr.</td><td>6</td><td>10</td><td>1986</td><td>M</td><td>S</td><td>Advanced Degree</td><td>4000</td><td>Good</td><td>0</td><td>0</td><td>0</td><td>Y</td></tr><tr><td>Mrs.</td><td>19</td><td>11</td><td>1983</td><td>M</td><td>W</td><td>Advanced Degree</td><td>4000</td><td>Good</td><td>0</td><td>0</td><td>0</td><td>N</td></tr><tr><td>Sir</td><td>23</td><td>5</td><td>1924</td><td>M</td><td>D</td><td>Unknown</td><td>4000</td><td>Good</td><td>0</td><td>0</td><td>0</td><td>N</td></tr><tr><td>Dr.</td><td>5</td><td>10</td><td>1977</td><td>M</td><td>W</td><td>College</td><td>4500</td><td>Good</td><td>0</td><td>0</td><td>0</td><td>Y</td></tr><tr><td>Miss</td><td>18</td><td>1</td><td>1934</td><td>F</td><td>U</td><td>Advanced Degree</td><td>4500</td><td>Good</td><td>0</td><td>0</td><td>0</td><td>N</td></tr><tr><td>Sir</td><td>13</td><td>7</td><td>1927</td><td>M</td><td>W</td><td>College</td><td>5000</td><td>Good</td><td>0</td><td>0</td><td>0</td><td>N</td></tr><tr><td>Miss</td><td>23</td><td>4</td><td>1980</td><td>F</td><td>D</td><td>Advanced Degree</td><td>5000</td><td>Good</td><td>0</td><td>0</td><td>0</td><td>N</td></tr><tr><td>Mrs.</td><td>9</td><td>1</td><td>1980</td><td>F</td><td>S</td><td>Primary</td><td>5500</td><td>Good</td><td>0</td><td>0</td><td>0</td><td>N</td></tr><tr><td>Mr.</td><td>11</td><td>8</td><td>1986</td><td>F</td><td>W</td><td>Secondary</td><td>5500</td><td>Good</td><td>0</td><td>0</td><td>0</td><td>Y</td></tr><tr><td>null</td><td>null</td><td>4</td><td>null</td><td>F</td><td>W</td><td>2 yr Degree</td><td>5500</td><td>Good</td><td>0</td><td>0</td><td>0</td><td>N</td></tr><tr><td>Mr.</td><td>11</td><td>8</td><td>1971</td><td>M</td><td>M</td><td>Advanced Degree</td><td>5500</td><td>Good</td><td>0</td><td>0</td><td>0</td><td>Y</td></tr><tr><td>Dr.</td><td>22</td><td>7</td><td>1962</td><td>F</td><td>M</td><td>Unknown</td><td>5500</td><td>Good</td><td>0</td><td>0</td><td>0</td><td>Y</td></tr><tr><td>Mr.</td><td>15</td><td>5</td><td>1982</td><td>M</td><td>S</td><td>College</td><td>6000</td><td>Good</td><td>0</td><td>0</td><td>0</td><td>N</td></tr><tr><td>Dr.</td><td>11</td><td>8</td><td>1983</td><td>F</td><td>S</td><td>4 yr Degree</td><td>6000</td><td>Good</td><td>0</td><td>0</td><td>0</td><td>Y</td></tr><tr><td>Sir</td><td>5</td><td>6</td><td>1983</td><td>F</td><td>U</td><td>4 yr Degree</td><td>6000</td><td>Good</td><td>0</td><td>0</td><td>0</td><td>Y</td></tr><tr><td>Miss</td><td>3</td><td>2</td><td>1944</td><td>F</td><td>S</td><td>Primary</td><td>6500</td><td>Good</td><td>0</td><td>0</td><td>0</td><td>N</td></tr><tr><td>Dr.</td><td>11</td><td>2</td><td>1959</td><td>M</td><td>S</td><td>College</td><td>6500</td><td>Good</td><td>0</td><td>0</td><td>0</td><td>Y</td></tr><tr><td>Mrs.</td><td>17</td><td>8</td><td>1957</td><td>F</td><td>S</td><td>Advanced Degree</td><td>6500</td><td>Good</td><td>0</td><td>0</td><td>0</td><td>N</td></tr><tr><td>Dr.</td><td>9</td><td>5</td><td>1958</td><td>M</td><td>U</td><td>Advanced Degree</td><td>6500</td><td>Good</td><td>0</td><td>0</td><td>0</td><td>N</td></tr><tr><td>Dr.</td><td>22</td><td>9</td><td>1956</td><td>F</td><td>D</td><td>College</td><td>7000</td><td>Good</td><td>0</td><td>0</td><td>0</td><td>N</td></tr><tr><td>Sir</td><td>27</td><td>7</td><td>1965</td><td>M</td><td>S</td><td>2 yr Degree</td><td>7000</td><td>Good</td><td>0</td><td>0</td><td>0</td><td>N</td></tr><tr><td>Miss</td><td>5</td><td>5</td><td>1990</td><td>M</td><td>W</td><td>2 yr Degree</td><td>7000</td><td>Good</td><td>0</td><td>0</td><td>0</td><td>Y</td></tr><tr><td>Dr.</td><td>3</td><td>2</td><td>1926</td><td>F</td><td>U</td><td>Secondary</td><td>7500</td><td>Good</td><td>0</td><td>0</td><td>0</td><td>Y</td></tr><tr><td>Miss</td><td>19</td><td>3</td><td>1935</td><td>F</td><td>S</td><td>College</td><td>7500</td><td>Good</td><td>0</td><td>0</td><td>0</td><td>Y</td></tr><tr><td>Miss</td><td>14</td><td>8</td><td>1937</td><td>F</td><td>M</td><td>Advanced Degree</td><td>7500</td><td>Good</td><td>0</td><td>0</td><td>0</td><td>N</td></tr><tr><td>Dr.</td><td>6</td><td>12</td><td>1928</td><td>M</td><td>D</td><td>4 yr Degree</td><td>8000</td><td>Good</td><td>0</td><td>0</td><td>0</td><td>N</td></tr><tr><td>Ms.</td><td>22</td><td>3</td><td>1988</td><td>F</td><td>M</td><td>Advanced Degree</td><td>8000</td><td>Good</td><td>0</td><td>0</td><td>0</td><td>N</td></tr><tr><td>Dr.</td><td>12</td><td>6</td><td>1973</td><td>M</td><td>M</td><td>Primary</td><td>8500</td><td>Good</td><td>0</td><td>0</td><td>0</td><td>Y</td></tr><tr><td>Dr.</td><td>21</td><td>3</td><td>1991</td><td>M</td><td>D</td><td>Advanced Degree</td><td>8500</td><td>Good</td><td>0</td><td>0</td><td>0</td><td>N</td></tr><tr><td>Miss</td><td>30</td><td>3</td><td>1988</td><td>M</td><td>D</td><td>Advanced Degree</td><td>8500</td><td>Good</td><td>0</td><td>0</td><td>0</td><td>Y</td></tr><tr><td>Mrs.</td><td>25</td><td>4</td><td>1953</td><td>M</td><td>D</td><td>Secondary</td><td>9000</td><td>Good</td><td>0</td><td>0</td><td>0</td><td>Y</td></tr><tr><td>Mr.</td><td>19</td><td>12</td><td>1974</td><td>F</td><td>U</td><td>2 yr Degree</td><td>9000</td><td>Good</td><td>0</td><td>0</td><td>0</td><td>Y</td></tr><tr><td>Miss</td><td>1</td><td>12</td><td>1947</td><td>M</td><td>D</td><td>Primary</td><td>9500</td><td>Good</td><td>0</td><td>0</td><td>0</td><td>N</td></tr><tr><td>Mr.</td><td>17</td><td>10</td><td>1992</td><td>F</td><td>U</td><td>Secondary</td><td>9500</td><td>Good</td><td>0</td><td>0</td><td>0</td><td>Y</td></tr><tr><td>Dr.</td><td>14</td><td>7</td><td>1936</td><td>M</td><td>U</td><td>College</td><td>9500</td><td>Good</td><td>0</td><td>0</td><td>0</td><td>Y</td></tr><tr><td>Mr.</td><td>28</td><td>4</td><td>1924</td><td>F</td><td>U</td><td>2 yr Degree</td><td>10000</td><td>Good</td><td>0</td><td>0</td><td>0</td><td>Y</td></tr><tr><td>Sir</td><td>21</td><td>2</td><td>1959</td><td>M</td><td>M</td><td>Advanced Degree</td><td>10000</td><td>Good</td><td>0</td><td>0</td><td>0</td><td>N</td></tr><tr><td>Dr.</td><td>27</td><td>11</td><td>1951</td><td>M</td><td>S</td><td>Advanced Degree</td><td>10000</td><td>Good</td><td>0</td><td>0</td><td>0</td><td>Y</td></tr><tr><td>Sir</td><td>9</td><td>6</td><td>1932</td><td>M</td><td>M</td><td>College</td><td>500</td><td>Low Risk</td><td>0</td><td>0</td><td>0</td><td>N</td></tr><tr><td>Mrs.</td><td>16</td><td>4</td><td>1989</td><td>M</td><td>W</td><td>College</td><td>500</td><td>Low Risk</td><td>0</td><td>0</td><td>0</td><td>N</td></tr><tr><td>Dr.</td><td>24</td><td>6</td><td>1972</td><td>M</td><td>M</td><td>Unknown</td><td>500</td><td>Low Risk</td><td>0</td><td>0</td><td>0</td><td>N</td></tr><tr><td>Sir</td><td>16</td><td>11</td><td>1937</td><td>M</td><td>S</td><td>Primary</td><td>1000</td><td>Low Risk</td><td>0</td><td>0</td><td>0</td><td>Y</td></tr><tr><td>Dr.</td><td>15</td><td>12</td><td>1978</td><td>F</td><td>D</td><td>4 yr Degree</td><td>1000</td><td>Low Risk</td><td>0</td><td>0</td><td>0</td><td>N</td></tr><tr><td>Mrs.</td><td>1</td><td>3</td><td>1948</td><td>F</td><td>W</td><td>4 yr Degree</td><td>1000</td><td>Low Risk</td><td>0</td><td>0</td><td>0</td><td>Y</td></tr><tr><td>Mr.</td><td>19</td><td>6</td><td>1924</td><td>F</td><td>M</td><td>Secondary</td><td>2000</td><td>Low Risk</td><td>0</td><td>0</td><td>0</td><td>N</td></tr><tr><td>Mrs.</td><td>28</td><td>7</td><td>1951</td><td>M</td><td>M</td><td>Advanced Degree</td><td>2000</td><td>Low Risk</td><td>0</td><td>0</td><td>0</td><td>N</td></tr><tr><td>Mr.</td><td>30</td><td>1</td><td>1958</td><td>M</td><td>D</td><td>Secondary</td><td>2500</td><td>Low Risk</td><td>0</td><td>0</td><td>0</td><td>Y</td></tr><tr><td>Miss</td><td>28</td><td>9</td><td>1951</td><td>M</td><td>M</td><td>Unknown</td><td>2500</td><td>Low Risk</td><td>0</td><td>0</td><td>0</td><td>Y</td></tr><tr><td>Dr.</td><td>26</td><td>6</td><td>1931</td><td>F</td><td>S</td><td>Unknown</td><td>3000</td><td>Low Risk</td><td>0</td><td>0</td><td>0</td><td>Y</td></tr><tr><td>Mr.</td><td>30</td><td>9</td><td>1949</td><td>M</td><td>M</td><td>Secondary</td><td>3500</td><td>Low Risk</td><td>0</td><td>0</td><td>0</td><td>N</td></tr><tr><td>Mr.</td><td>18</td><td>8</td><td>1972</td><td>M</td><td>W</td><td>Secondary</td><td>3500</td><td>Low Risk</td><td>0</td><td>0</td><td>0</td><td>Y</td></tr><tr><td>Dr.</td><td>26</td><td>5</td><td>1983</td><td>F</td><td>U</td><td>College</td><td>3500</td><td>Low Risk</td><td>0</td><td>0</td><td>0</td><td>N</td></tr><tr><td>Miss</td><td>12</td><td>10</td><td>1941</td><td>M</td><td>M</td><td>2 yr Degree</td><td>3500</td><td>Low Risk</td><td>0</td><td>0</td><td>0</td><td>N</td></tr><tr><td>Miss</td><td>24</td><td>5</td><td>1951</td><td>F</td><td>S</td><td>2 yr Degree</td><td>3500</td><td>Low Risk</td><td>0</td><td>0</td><td>0</td><td>Y</td></tr><tr><td>Mr.</td><td>26</td><td>10</td><td>1979</td><td>F</td><td>M</td><td>Advanced Degree</td><td>3500</td><td>Low Risk</td><td>0</td><td>0</td><td>0</td><td>N</td></tr><tr><td>Dr.</td><td>12</td><td>12</td><td>1933</td><td>F</td><td>S</td><td>Primary</td><td>4500</td><td>Low Risk</td><td>0</td><td>0</td><td>0</td><td>Y</td></tr><tr><td>Sir</td><td>20</td><td>12</td><td>1931</td><td>F</td><td>W</td><td>Primary</td><td>4500</td><td>Low Risk</td><td>0</td><td>0</td><td>0</td><td>Y</td></tr><tr><td>Dr.</td><td>8</td><td>12</td><td>1947</td><td>M</td><td>S</td><td>2 yr Degree</td><td>4500</td><td>Low Risk</td><td>0</td><td>0</td><td>0</td><td>N</td></tr><tr><td>Ms.</td><td>9</td><td>4</td><td>1986</td><td>M</td><td>M</td><td>4 yr Degree</td><td>4500</td><td>Low Risk</td><td>0</td><td>0</td><td>0</td><td>N</td></tr><tr><td>Miss</td><td>31</td><td>7</td><td>1943</td><td>F</td><td>M</td><td>Advanced Degree</td><td>4500</td><td>Low Risk</td><td>0</td><td>0</td><td>0</td><td>Y</td></tr><tr><td>Dr.</td><td>12</td><td>11</td><td>1927</td><td>F</td><td>S</td><td>Unknown</td><td>4500</td><td>Low Risk</td><td>0</td><td>0</td><td>0</td><td>N</td></tr><tr><td>Dr.</td><td>16</td><td>10</td><td>1969</td><td>F</td><td>D</td><td>College</td><td>5000</td><td>Low Risk</td><td>0</td><td>0</td><td>0</td><td>Y</td></tr><tr><td>Dr.</td><td>9</td><td>6</td><td>1961</td><td>F</td><td>U</td><td>2 yr Degree</td><td>5000</td><td>Low Risk</td><td>0</td><td>0</td><td>0</td><td>Y</td></tr><tr><td>Ms.</td><td>27</td><td>4</td><td>1950</td><td>F</td><td>D</td><td>Secondary</td><td>5500</td><td>Low Risk</td><td>0</td><td>0</td><td>0</td><td>N</td></tr><tr><td>Miss</td><td>19</td><td>12</td><td>1953</td><td>M</td><td>S</td><td>College</td><td>5500</td><td>Low Risk</td><td>0</td><td>0</td><td>0</td><td>N</td></tr><tr><td>Mr.</td><td>16</td><td>6</td><td>1947</td><td>M</td><td>M</td><td>2 yr Degree</td><td>5500</td><td>Low Risk</td><td>0</td><td>0</td><td>0</td><td>Y</td></tr><tr><td>Mr.</td><td>1</td><td>1</td><td>1984</td><td>F</td><td>D</td><td>Advanced Degree</td><td>5500</td><td>Low Risk</td><td>0</td><td>0</td><td>0</td><td>N</td></tr><tr><td>Dr.</td><td>9</td><td>4</td><td>1992</td><td>M</td><td>M</td><td>Primary</td><td>6000</td><td>Low Risk</td><td>0</td><td>0</td><td>0</td><td>Y</td></tr><tr><td>Mr.</td><td>15</td><td>3</td><td>1956</td><td>M</td><td>S</td><td>Secondary</td><td>6000</td><td>Low Risk</td><td>0</td><td>0</td><td>0</td><td>N</td></tr><tr><td>Miss</td><td>10</td><td>5</td><td>1965</td><td>M</td><td>W</td><td>Unknown</td><td>6000</td><td>Low Risk</td><td>0</td><td>0</td><td>0</td><td>N</td></tr><tr><td>Mrs.</td><td>21</td><td>5</td><td>1934</td><td>F</td><td>W</td><td>Unknown</td><td>6000</td><td>Low Risk</td><td>0</td><td>0</td><td>0</td><td>N</td></tr><tr><td>Sir</td><td>24</td><td>3</td><td>1927</td><td>F</td><td>S</td><td>Secondary</td><td>6500</td><td>Low Risk</td><td>0</td><td>0</td><td>0</td><td>Y</td></tr><tr><td>Dr.</td><td>22</td><td>12</td><td>1988</td><td>M</td><td>W</td><td>4 yr Degree</td><td>6500</td><td>Low Risk</td><td>0</td><td>0</td><td>0</td><td>Y</td></tr><tr><td>Mrs.</td><td>8</td><td>5</td><td>1936</td><td>M</td><td>U</td><td>Advanced Degree</td><td>6500</td><td>Low Risk</td><td>0</td><td>0</td><td>0</td><td>N</td></tr><tr><td>Sir</td><td>4</td><td>12</td><td>1957</td><td>M</td><td>S</td><td>Unknown</td><td>6500</td><td>Low Risk</td><td>0</td><td>0</td><td>0</td><td>N</td></tr><tr><td>Dr.</td><td>18</td><td>5</td><td>1946</td><td>F</td><td>S</td><td>Secondary</td><td>7000</td><td>Low Risk</td><td>0</td><td>0</td><td>0</td><td>Y</td></tr><tr><td>Mr.</td><td>15</td><td>5</td><td>1930</td><td>F</td><td>S</td><td>College</td><td>7000</td><td>Low Risk</td><td>0</td><td>0</td><td>0</td><td>Y</td></tr><tr><td>Sir</td><td>20</td><td>8</td><td>1975</td><td>F</td><td>U</td><td>College</td><td>7000</td><td>Low Risk</td><td>0</td><td>0</td><td>0</td><td>N</td></tr><tr><td>Dr.</td><td>13</td><td>3</td><td>1979</td><td>F</td><td>M</td><td>2 yr Degree</td><td>7000</td><td>Low Risk</td><td>0</td><td>0</td><td>0</td><td>N</td></tr><tr><td>Miss</td><td>1</td><td>4</td><td>1967</td><td>M</td><td>S</td><td>4 yr Degree</td><td>7500</td><td>Low Risk</td><td>0</td><td>0</td><td>0</td><td>Y</td></tr><tr><td>Miss</td><td>28</td><td>5</td><td>1952</td><td>F</td><td>D</td><td>4 yr Degree</td><td>7500</td><td>Low Risk</td><td>0</td><td>0</td><td>0</td><td>Y</td></tr><tr><td>Dr.</td><td>14</td><td>5</td><td>1926</td><td>F</td><td>W</td><td>Unknown</td><td>7500</td><td>Low Risk</td><td>0</td><td>0</td><td>0</td><td>N</td></tr><tr><td>Mr.</td><td>3</td><td>3</td><td>1938</td><td>M</td><td>W</td><td>Primary</td><td>8000</td><td>Low Risk</td><td>0</td><td>0</td><td>0</td><td>N</td></tr><tr><td>Mr.</td><td>3</td><td>6</td><td>1984</td><td>M</td><td>M</td><td>Secondary</td><td>8000</td><td>Low Risk</td><td>0</td><td>0</td><td>0</td><td>Y</td></tr><tr><td>Dr.</td><td>23</td><td>6</td><td>1982</td><td>M</td><td>W</td><td>Secondary</td><td>8000</td><td>Low Risk</td><td>0</td><td>0</td><td>0</td><td>N</td></tr><tr><td>Dr.</td><td>31</td><td>10</td><td>1937</td><td>F</td><td>M</td><td>4 yr Degree</td><td>8000</td><td>Low Risk</td><td>0</td><td>0</td><td>0</td><td>N</td></tr><tr><td>Mrs.</td><td>10</td><td>10</td><td>1989</td><td>F</td><td>M</td><td>Primary</td><td>8500</td><td>Low Risk</td><td>0</td><td>0</td><td>0</td><td>Y</td></tr><tr><td>Dr.</td><td>24</td><td>3</td><td>1931</td><td>F</td><td>S</td><td>Primary</td><td>8500</td><td>Low Risk</td><td>0</td><td>0</td><td>0</td><td>N</td></tr><tr><td>Ms.</td><td>30</td><td>11</td><td>1991</td><td>F</td><td>U</td><td>Primary</td><td>8500</td><td>Low Risk</td><td>0</td><td>0</td><td>0</td><td>Y</td></tr><tr><td>Mrs.</td><td>12</td><td>10</td><td>1959</td><td>F</td><td>S</td><td>Primary</td><td>9000</td><td>Low Risk</td><td>0</td><td>0</td><td>0</td><td>N</td></tr><tr><td>Miss</td><td>4</td><td>5</td><td>1925</td><td>F</td><td>D</td><td>Primary</td><td>9000</td><td>Low Risk</td><td>0</td><td>0</td><td>0</td><td>N</td></tr><tr><td>Mr.</td><td>27</td><td>4</td><td>1945</td><td>M</td><td>M</td><td>4 yr Degree</td><td>9000</td><td>Low Risk</td><td>0</td><td>0</td><td>0</td><td>Y</td></tr><tr><td>Mrs.</td><td>24</td><td>9</td><td>1952</td><td>M</td><td>S</td><td>Secondary</td><td>9500</td><td>Low Risk</td><td>0</td><td>0</td><td>0</td><td>N</td></tr><tr><td>Mrs.</td><td>30</td><td>6</td><td>1939</td><td>M</td><td>S</td><td>2 yr Degree</td><td>9500</td><td>Low Risk</td><td>0</td><td>0</td><td>0</td><td>N</td></tr><tr><td>Mrs.</td><td>26</td><td>3</td><td>1956</td><td>M</td><td>W</td><td>4 yr Degree</td><td>9500</td><td>Low Risk</td><td>0</td><td>0</td><td>0</td><td>N</td></tr><tr><td>Mr.</td><td>15</td><td>8</td><td>1947</td><td>M</td><td>W</td><td>4 yr Degree</td><td>9500</td><td>Low Risk</td><td>0</td><td>0</td><td>0</td><td>Y</td></tr><tr><td>Mr.</td><td>5</td><td>7</td><td>1949</td><td>F</td><td>M</td><td>Advanced Degree</td><td>9500</td><td>Low Risk</td><td>0</td><td>0</td><td>0</td><td>Y</td></tr><tr><td>Miss</td><td>27</td><td>9</td><td>1992</td><td>F</td><td>U</td><td>Primary</td><td>10000</td><td>Low Risk</td><td>0</td><td>0</td><td>0</td><td>Y</td></tr><tr><td>Sir</td><td>22</td><td>6</td><td>1925</td><td>F</td><td>S</td><td>4 yr Degree</td><td>10000</td><td>Low Risk</td><td>0</td><td>0</td><td>0</td><td>N</td></tr><tr><td>Dr.</td><td>21</td><td>1</td><td>1972</td><td>F</td><td>S</td><td>Unknown</td><td>10000</td><td>Low Risk</td><td>0</td><td>0</td><td>0</td><td>N</td></tr><tr><td>Miss</td><td>2</td><td>10</td><td>1945</td><td>F</td><td>M</td><td>Primary</td><td>500</td><td>High Risk</td><td>0</td><td>0</td><td>0</td><td>N</td></tr><tr><td>Mrs.</td><td>23</td><td>6</td><td>1958</td><td>M</td><td>W</td><td>Primary</td><td>500</td><td>High Risk</td><td>0</td><td>0</td><td>0</td><td>Y</td></tr><tr><td>Mr.</td><td>23</td><td>2</td><td>1956</td><td>M</td><td>D</td><td>2 yr Degree</td><td>500</td><td>High Risk</td><td>0</td><td>0</td><td>0</td><td>Y</td></tr><tr><td>Dr.</td><td>20</td><td>6</td><td>1938</td><td>F</td><td>S</td><td>2 yr Degree</td><td>1000</td><td>High Risk</td><td>0</td><td>0</td><td>0</td><td>Y</td></tr><tr><td>Mrs.</td><td>16</td><td>8</td><td>1971</td><td>M</td><td>W</td><td>Secondary</td><td>2000</td><td>High Risk</td><td>0</td><td>0</td><td>0</td><td>Y</td></tr><tr><td>Dr.</td><td>29</td><td>7</td><td>1977</td><td>M</td><td>W</td><td>2 yr Degree</td><td>2000</td><td>High Risk</td><td>0</td><td>0</td><td>0</td><td>Y</td></tr><tr><td>Ms.</td><td>4</td><td>10</td><td>1968</td><td>F</td><td>W</td><td>Secondary</td><td>2500</td><td>High Risk</td><td>0</td><td>0</td><td>0</td><td>N</td></tr><tr><td>Mr.</td><td>13</td><td>3</td><td>1968</td><td>M</td><td>M</td><td>2 yr Degree</td><td>2500</td><td>High Risk</td><td>0</td><td>0</td><td>0</td><td>Y</td></tr><tr><td>Sir</td><td>25</td><td>8</td><td>1928</td><td>M</td><td>U</td><td>2 yr Degree</td><td>2500</td><td>High Risk</td><td>0</td><td>0</td><td>0</td><td>N</td></tr><tr><td>Ms.</td><td>24</td><td>4</td><td>1931</td><td>F</td><td>M</td><td>Unknown</td><td>2500</td><td>High Risk</td><td>0</td><td>0</td><td>0</td><td>N</td></tr><tr><td>Mrs.</td><td>11</td><td>4</td><td>1934</td><td>M</td><td>S</td><td>Unknown</td><td>2500</td><td>High Risk</td><td>0</td><td>0</td><td>0</td><td>N</td></tr><tr><td>Miss</td><td>21</td><td>8</td><td>1983</td><td>F</td><td>S</td><td>Unknown</td><td>2500</td><td>High Risk</td><td>0</td><td>0</td><td>0</td><td>Y</td></tr><tr><td>Miss</td><td>4</td><td>9</td><td>1980</td><td>M</td><td>S</td><td>2 yr Degree</td><td>3000</td><td>High Risk</td><td>0</td><td>0</td><td>0</td><td>N</td></tr><tr><td>Dr.</td><td>19</td><td>1</td><td>1981</td><td>M</td><td>S</td><td>2 yr Degree</td><td>3000</td><td>High Risk</td><td>0</td><td>0</td><td>0</td><td>Y</td></tr><tr><td>Sir</td><td>7</td><td>1</td><td>1985</td><td>M</td><td>W</td><td>2 yr Degree</td><td>3000</td><td>High Risk</td><td>0</td><td>0</td><td>0</td><td>N</td></tr><tr><td>Miss</td><td>5</td><td>5</td><td>1952</td><td>F</td><td>W</td><td>4 yr Degree</td><td>3000</td><td>High Risk</td><td>0</td><td>0</td><td>0</td><td>Y</td></tr><tr><td>Miss</td><td>30</td><td>8</td><td>1983</td><td>M</td><td>U</td><td>Advanced Degree</td><td>3000</td><td>High Risk</td><td>0</td><td>0</td><td>0</td><td>N</td></tr><tr><td>Sir</td><td>21</td><td>4</td><td>1989</td><td>F</td><td>D</td><td>Unknown</td><td>3000</td><td>High Risk</td><td>0</td><td>0</td><td>0</td><td>Y</td></tr><tr><td>Sir</td><td>29</td><td>5</td><td>1951</td><td>F</td><td>M</td><td>Secondary</td><td>3500</td><td>High Risk</td><td>0</td><td>0</td><td>0</td><td>N</td></tr><tr><td>Mrs.</td><td>3</td><td>12</td><td>1952</td><td>F</td><td>S</td><td>College</td><td>3500</td><td>High Risk</td><td>0</td><td>0</td><td>0</td><td>Y</td></tr><tr><td>Dr.</td><td>22</td><td>11</td><td>1961</td><td>M</td><td>U</td><td>4 yr Degree</td><td>3500</td><td>High Risk</td><td>0</td><td>0</td><td>0</td><td>N</td></tr><tr><td>Miss</td><td>20</td><td>1</td><td>1951</td><td>F</td><td>S</td><td>Secondary</td><td>4000</td><td>High Risk</td><td>0</td><td>0</td><td>0</td><td>Y</td></tr><tr><td>Sir</td><td>9</td><td>10</td><td>1959</td><td>F</td><td>D</td><td>Secondary</td><td>4000</td><td>High Risk</td><td>0</td><td>0</td><td>0</td><td>N</td></tr><tr><td>Dr.</td><td>17</td><td>6</td><td>1943</td><td>M</td><td>D</td><td>Advanced Degree</td><td>4500</td><td>High Risk</td><td>0</td><td>0</td><td>0</td><td>N</td></tr><tr><td>Ms.</td><td>20</td><td>8</td><td>1979</td><td>F</td><td>D</td><td>Secondary</td><td>5000</td><td>High Risk</td><td>0</td><td>0</td><td>0</td><td>Y</td></tr><tr><td>Miss</td><td>5</td><td>12</td><td>1939</td><td>M</td><td>S</td><td>2 yr Degree</td><td>5000</td><td>High Risk</td><td>0</td><td>0</td><td>0</td><td>Y</td></tr><tr><td>Mrs.</td><td>18</td><td>11</td><td>1956</td><td>M</td><td>D</td><td>2 yr Degree</td><td>5000</td><td>High Risk</td><td>0</td><td>0</td><td>0</td><td>N</td></tr><tr><td>Sir</td><td>21</td><td>7</td><td>1945</td><td>M</td><td>W</td><td>Advanced Degree</td><td>5000</td><td>High Risk</td><td>0</td><td>0</td><td>0</td><td>N</td></tr><tr><td>Mr.</td><td>18</td><td>12</td><td>1978</td><td>F</td><td>W</td><td>Primary</td><td>6000</td><td>High Risk</td><td>0</td><td>0</td><td>0</td><td>N</td></tr><tr><td>Dr.</td><td>28</td><td>9</td><td>1965</td><td>F</td><td>M</td><td>Advanced Degree</td><td>6000</td><td>High Risk</td><td>0</td><td>0</td><td>0</td><td>Y</td></tr><tr><td>Ms.</td><td>11</td><td>1</td><td>1942</td><td>F</td><td>M</td><td>Secondary</td><td>6500</td><td>High Risk</td><td>0</td><td>0</td><td>0</td><td>N</td></tr><tr><td>Dr.</td><td>8</td><td>3</td><td>1939</td><td>F</td><td>U</td><td>College</td><td>6500</td><td>High Risk</td><td>0</td><td>0</td><td>0</td><td>N</td></tr><tr><td>Ms.</td><td>2</td><td>12</td><td>1983</td><td>M</td><td>D</td><td>Unknown</td><td>6500</td><td>High Risk</td><td>0</td><td>0</td><td>0</td><td>Y</td></tr><tr><td>Dr.</td><td>12</td><td>9</td><td>1961</td><td>M</td><td>U</td><td>Unknown</td><td>6500</td><td>High Risk</td><td>0</td><td>0</td><td>0</td><td>N</td></tr><tr><td>Miss</td><td>1</td><td>2</td><td>1956</td><td>F</td><td>D</td><td>Advanced Degree</td><td>7000</td><td>High Risk</td><td>0</td><td>0</td><td>0</td><td>Y</td></tr><tr><td>Ms.</td><td>13</td><td>2</td><td>1977</td><td>F</td><td>M</td><td>Unknown</td><td>7000</td><td>High Risk</td><td>0</td><td>0</td><td>0</td><td>Y</td></tr><tr><td>Sir</td><td>14</td><td>12</td><td>1947</td><td>F</td><td>S</td><td>Unknown</td><td>7000</td><td>High Risk</td><td>0</td><td>0</td><td>0</td><td>Y</td></tr><tr><td>Dr.</td><td>17</td><td>4</td><td>1955</td><td>M</td><td>M</td><td>Primary</td><td>7500</td><td>High Risk</td><td>0</td><td>0</td><td>0</td><td>Y</td></tr><tr><td>Sir</td><td>5</td><td>9</td><td>1933</td><td>F</td><td>W</td><td>Secondary</td><td>7500</td><td>High Risk</td><td>0</td><td>0</td><td>0</td><td>Y</td></tr><tr><td>Ms.</td><td>27</td><td>4</td><td>1924</td><td>M</td><td>S</td><td>College</td><td>7500</td><td>High Risk</td><td>0</td><td>0</td><td>0</td><td>N</td></tr><tr><td>Dr.</td><td>18</td><td>11</td><td>1962</td><td>M</td><td>M</td><td>2 yr Degree</td><td>7500</td><td>High Risk</td><td>0</td><td>0</td><td>0</td><td>Y</td></tr><tr><td>Dr.</td><td>16</td><td>8</td><td>1933</td><td>M</td><td>D</td><td>2 yr Degree</td><td>7500</td><td>High Risk</td><td>0</td><td>0</td><td>0</td><td>Y</td></tr><tr><td>Ms.</td><td>8</td><td>10</td><td>1944</td><td>M</td><td>M</td><td>Unknown</td><td>7500</td><td>High Risk</td><td>0</td><td>0</td><td>0</td><td>Y</td></tr><tr><td>Sir</td><td>30</td><td>1</td><td>1975</td><td>M</td><td>M</td><td>Primary</td><td>8000</td><td>High Risk</td><td>0</td><td>0</td><td>0</td><td>N</td></tr><tr><td>Dr.</td><td>30</td><td>8</td><td>1987</td><td>M</td><td>D</td><td>Primary</td><td>8000</td><td>High Risk</td><td>0</td><td>0</td><td>0</td><td>N</td></tr><tr><td>Mr.</td><td>6</td><td>7</td><td>1974</td><td>M</td><td>S</td><td>4 yr Degree</td><td>8000</td><td>High Risk</td><td>0</td><td>0</td><td>0</td><td>N</td></tr><tr><td>Sir</td><td>28</td><td>6</td><td>1957</td><td>F</td><td>S</td><td>Primary</td><td>8500</td><td>High Risk</td><td>0</td><td>0</td><td>0</td><td>Y</td></tr><tr><td>Sir</td><td>17</td><td>10</td><td>1945</td><td>M</td><td>W</td><td>Secondary</td><td>8500</td><td>High Risk</td><td>0</td><td>0</td><td>0</td><td>N</td></tr><tr><td>Dr.</td><td>6</td><td>11</td><td>1941</td><td>M</td><td>S</td><td>College</td><td>8500</td><td>High Risk</td><td>0</td><td>0</td><td>0</td><td>N</td></tr><tr><td>Mrs.</td><td>18</td><td>3</td><td>1974</td><td>F</td><td>D</td><td>2 yr Degree</td><td>8500</td><td>High Risk</td><td>0</td><td>0</td><td>0</td><td>Y</td></tr><tr><td>Mr.</td><td>6</td><td>9</td><td>1944</td><td>M</td><td>U</td><td>4 yr Degree</td><td>8500</td><td>High Risk</td><td>0</td><td>0</td><td>0</td><td>Y</td></tr><tr><td>Mr.</td><td>6</td><td>2</td><td>1945</td><td>M</td><td>U</td><td>Unknown</td><td>8500</td><td>High Risk</td><td>0</td><td>0</td><td>0</td><td>Y</td></tr><tr><td>Miss</td><td>12</td><td>4</td><td>1958</td><td>F</td><td>W</td><td>Secondary</td><td>9000</td><td>High Risk</td><td>0</td><td>0</td><td>0</td><td>Y</td></tr><tr><td>Miss</td><td>19</td><td>4</td><td>1952</td><td>M</td><td>D</td><td>College</td><td>9000</td><td>High Risk</td><td>0</td><td>0</td><td>0</td><td>N</td></tr><tr><td>Ms.</td><td>26</td><td>3</td><td>1982</td><td>F</td><td>M</td><td>Unknown</td><td>9000</td><td>High Risk</td><td>0</td><td>0</td><td>0</td><td>N</td></tr><tr><td>Ms.</td><td>19</td><td>8</td><td>1953</td><td>M</td><td>D</td><td>2 yr Degree</td><td>9500</td><td>High Risk</td><td>0</td><td>0</td><td>0</td><td>Y</td></tr><tr><td>Ms.</td><td>22</td><td>8</td><td>1956</td><td>F</td><td>M</td><td>4 yr Degree</td><td>9500</td><td>High Risk</td><td>0</td><td>0</td><td>0</td><td>N</td></tr><tr><td>Mr.</td><td>21</td><td>9</td><td>1975</td><td>M</td><td>D</td><td>Advanced Degree</td><td>9500</td><td>High Risk</td><td>0</td><td>0</td><td>0</td><td>N</td></tr><tr><td>Dr.</td><td>11</td><td>5</td><td>1924</td><td>F</td><td>U</td><td>Unknown</td><td>9500</td><td>High Risk</td><td>0</td><td>0</td><td>0</td><td>N</td></tr><tr><td>Mr.</td><td>31</td><td>8</td><td>1988</td><td>F</td><td>U</td><td>Secondary</td><td>500</td><td>Unknown</td><td>0</td><td>0</td><td>0</td><td>Y</td></tr><tr><td>Sir</td><td>18</td><td>6</td><td>1976</td><td>M</td><td>U</td><td>College</td><td>500</td><td>Unknown</td><td>0</td><td>0</td><td>0</td><td>N</td></tr><tr><td>Miss</td><td>17</td><td>3</td><td>1955</td><td>F</td><td>D</td><td>2 yr Degree</td><td>500</td><td>Unknown</td><td>0</td><td>0</td><td>0</td><td>N</td></tr><tr><td>Mrs.</td><td>6</td><td>1</td><td>1928</td><td>F</td><td>M</td><td>Unknown</td><td>500</td><td>Unknown</td><td>0</td><td>0</td><td>0</td><td>N</td></tr><tr><td>Dr.</td><td>5</td><td>7</td><td>1970</td><td>M</td><td>U</td><td>Primary</td><td>1000</td><td>Unknown</td><td>0</td><td>0</td><td>0</td><td>N</td></tr><tr><td>null</td><td>null</td><td>2</td><td>1929</td><td>F</td><td>S</td><td>Advanced Degree</td><td>1000</td><td>Unknown</td><td>0</td><td>0</td><td>0</td><td>Y</td></tr><tr><td>Sir</td><td>9</td><td>6</td><td>1930</td><td>M</td><td>S</td><td>Primary</td><td>1500</td><td>Unknown</td><td>0</td><td>0</td><td>0</td><td>Y</td></tr><tr><td>Mr.</td><td>2</td><td>2</td><td>1986</td><td>M</td><td>D</td><td>Secondary</td><td>1500</td><td>Unknown</td><td>0</td><td>0</td><td>0</td><td>Y</td></tr><tr><td>Sir</td><td>12</td><td>12</td><td>1943</td><td>M</td><td>W</td><td>2 yr Degree</td><td>1500</td><td>Unknown</td><td>0</td><td>0</td><td>0</td><td>N</td></tr><tr><td>Miss</td><td>25</td><td>11</td><td>1935</td><td>M</td><td>M</td><td>Primary</td><td>2000</td><td>Unknown</td><td>0</td><td>0</td><td>0</td><td>Y</td></tr><tr><td>Sir</td><td>26</td><td>10</td><td>1980</td><td>M</td><td>U</td><td>Primary</td><td>2000</td><td>Unknown</td><td>0</td><td>0</td><td>0</td><td>Y</td></tr><tr><td>Miss</td><td>9</td><td>10</td><td>1950</td><td>F</td><td>U</td><td>Secondary</td><td>2000</td><td>Unknown</td><td>0</td><td>0</td><td>0</td><td>Y</td></tr><tr><td>Miss</td><td>14</td><td>3</td><td>1966</td><td>M</td><td>W</td><td>4 yr Degree</td><td>2000</td><td>Unknown</td><td>0</td><td>0</td><td>0</td><td>N</td></tr><tr><td>Sir</td><td>10</td><td>12</td><td>1972</td><td>F</td><td>U</td><td>Advanced Degree</td><td>2000</td><td>Unknown</td><td>0</td><td>0</td><td>0</td><td>Y</td></tr><tr><td>Dr.</td><td>11</td><td>8</td><td>1940</td><td>F</td><td>U</td><td>Secondary</td><td>2500</td><td>Unknown</td><td>0</td><td>0</td><td>0</td><td>Y</td></tr><tr><td>Dr.</td><td>31</td><td>1</td><td>1938</td><td>M</td><td>D</td><td>2 yr Degree</td><td>2500</td><td>Unknown</td><td>0</td><td>0</td><td>0</td><td>N</td></tr><tr><td>Dr.</td><td>28</td><td>3</td><td>1951</td><td>F</td><td>M</td><td>Advanced Degree</td><td>2500</td><td>Unknown</td><td>0</td><td>0</td><td>0</td><td>Y</td></tr><tr><td>Mr.</td><td>6</td><td>7</td><td>1953</td><td>M</td><td>S</td><td>Unknown</td><td>2500</td><td>Unknown</td><td>0</td><td>0</td><td>0</td><td>N</td></tr><tr><td>Mrs.</td><td>30</td><td>4</td><td>1991</td><td>M</td><td>U</td><td>Unknown</td><td>2500</td><td>Unknown</td><td>0</td><td>0</td><td>0</td><td>N</td></tr><tr><td>Sir</td><td>23</td><td>11</td><td>1979</td><td>F</td><td>D</td><td>College</td><td>3500</td><td>Unknown</td><td>0</td><td>0</td><td>0</td><td>Y</td></tr><tr><td>Dr.</td><td>16</td><td>9</td><td>1969</td><td>M</td><td>M</td><td>2 yr Degree</td><td>3500</td><td>Unknown</td><td>0</td><td>0</td><td>0</td><td>Y</td></tr><tr><td>Mr.</td><td>18</td><td>10</td><td>1933</td><td>F</td><td>M</td><td>Unknown</td><td>3500</td><td>Unknown</td><td>0</td><td>0</td><td>0</td><td>Y</td></tr><tr><td>Mrs.</td><td>20</td><td>3</td><td>1991</td><td>M</td><td>D</td><td>Primary</td><td>4000</td><td>Unknown</td><td>0</td><td>0</td><td>0</td><td>N</td></tr><tr><td>Dr.</td><td>20</td><td>11</td><td>1950</td><td>F</td><td>D</td><td>4 yr Degree</td><td>4000</td><td>Unknown</td><td>0</td><td>0</td><td>0</td><td>N</td></tr><tr><td>Mrs.</td><td>4</td><td>4</td><td>1966</td><td>M</td><td>W</td><td>Advanced Degree</td><td>4000</td><td>Unknown</td><td>0</td><td>0</td><td>0</td><td>N</td></tr><tr><td>Miss</td><td>30</td><td>7</td><td>1959</td><td>F</td><td>U</td><td>Advanced Degree</td><td>4000</td><td>Unknown</td><td>0</td><td>0</td><td>0</td><td>Y</td></tr><tr><td>Dr.</td><td>2</td><td>1</td><td>1926</td><td>M</td><td>U</td><td>Unknown</td><td>4000</td><td>Unknown</td><td>0</td><td>0</td><td>0</td><td>N</td></tr><tr><td>Dr.</td><td>19</td><td>2</td><td>1930</td><td>M</td><td>M</td><td>Primary</td><td>4500</td><td>Unknown</td><td>0</td><td>0</td><td>0</td><td>N</td></tr><tr><td>Sir</td><td>29</td><td>10</td><td>1992</td><td>F</td><td>D</td><td>Primary</td><td>4500</td><td>Unknown</td><td>0</td><td>0</td><td>0</td><td>Y</td></tr><tr><td>Dr.</td><td>28</td><td>4</td><td>1968</td><td>F</td><td>M</td><td>College</td><td>4500</td><td>Unknown</td><td>0</td><td>0</td><td>0</td><td>N</td></tr><tr><td>Sir</td><td>18</td><td>6</td><td>1934</td><td>F</td><td>S</td><td>Unknown</td><td>4500</td><td>Unknown</td><td>0</td><td>0</td><td>0</td><td>N</td></tr><tr><td>Dr.</td><td>10</td><td>3</td><td>1933</td><td>F</td><td>U</td><td>Unknown</td><td>4500</td><td>Unknown</td><td>0</td><td>0</td><td>0</td><td>N</td></tr><tr><td>Mr.</td><td>1</td><td>12</td><td>1936</td><td>F</td><td>W</td><td>4 yr Degree</td><td>5000</td><td>Unknown</td><td>0</td><td>0</td><td>0</td><td>N</td></tr><tr><td>Mr.</td><td>28</td><td>1</td><td>1966</td><td>M</td><td>S</td><td>Secondary</td><td>5500</td><td>Unknown</td><td>0</td><td>0</td><td>0</td><td>Y</td></tr><tr><td>Dr.</td><td>19</td><td>10</td><td>1944</td><td>F</td><td>D</td><td>Secondary</td><td>5500</td><td>Unknown</td><td>0</td><td>0</td><td>0</td><td>Y</td></tr><tr><td>Sir</td><td>29</td><td>2</td><td>1980</td><td>M</td><td>D</td><td>4 yr Degree</td><td>5500</td><td>Unknown</td><td>0</td><td>0</td><td>0</td><td>Y</td></tr><tr><td>Sir</td><td>null</td><td>12</td><td>null</td><td>F</td><td>S</td><td>Unknown</td><td>5500</td><td>Unknown</td><td>0</td><td>0</td><td>0</td><td>Y</td></tr><tr><td>Dr.</td><td>10</td><td>1</td><td>1984</td><td>M</td><td>S</td><td>2 yr Degree</td><td>6000</td><td>Unknown</td><td>0</td><td>0</td><td>0</td><td>N</td></tr><tr><td>Dr.</td><td>6</td><td>12</td><td>1983</td><td>F</td><td>D</td><td>2 yr Degree</td><td>6000</td><td>Unknown</td><td>0</td><td>0</td><td>0</td><td>N</td></tr><tr><td>Dr.</td><td>21</td><td>12</td><td>1962</td><td>M</td><td>D</td><td>Secondary</td><td>6500</td><td>Unknown</td><td>0</td><td>0</td><td>0</td><td>N</td></tr><tr><td>Mr.</td><td>25</td><td>7</td><td>1982</td><td>M</td><td>W</td><td>Secondary</td><td>6500</td><td>Unknown</td><td>0</td><td>0</td><td>0</td><td>Y</td></tr><tr><td>Miss</td><td>30</td><td>12</td><td>1942</td><td>F</td><td>M</td><td>College</td><td>6500</td><td>Unknown</td><td>0</td><td>0</td><td>0</td><td>N</td></tr><tr><td>Dr.</td><td>1</td><td>2</td><td>1967</td><td>M</td><td>W</td><td>College</td><td>6500</td><td>Unknown</td><td>0</td><td>0</td><td>0</td><td>Y</td></tr><tr><td>Sir</td><td>9</td><td>4</td><td>1987</td><td>F</td><td>W</td><td>2 yr Degree</td><td>6500</td><td>Unknown</td><td>0</td><td>0</td><td>0</td><td>Y</td></tr><tr><td>Sir</td><td>11</td><td>2</td><td>1986</td><td>F</td><td>U</td><td>Unknown</td><td>6500</td><td>Unknown</td><td>0</td><td>0</td><td>0</td><td>N</td></tr><tr><td>Mr.</td><td>17</td><td>1</td><td>1944</td><td>M</td><td>U</td><td>Primary</td><td>7000</td><td>Unknown</td><td>0</td><td>0</td><td>0</td><td>N</td></tr><tr><td>Miss</td><td>30</td><td>12</td><td>1949</td><td>F</td><td>W</td><td>College</td><td>7000</td><td>Unknown</td><td>0</td><td>0</td><td>0</td><td>N</td></tr><tr><td>Ms.</td><td>19</td><td>7</td><td>1987</td><td>M</td><td>U</td><td>4 yr Degree</td><td>7000</td><td>Unknown</td><td>0</td><td>0</td><td>0</td><td>Y</td></tr><tr><td>Sir</td><td>12</td><td>2</td><td>1943</td><td>M</td><td>D</td><td>Advanced Degree</td><td>7000</td><td>Unknown</td><td>0</td><td>0</td><td>0</td><td>Y</td></tr><tr><td>Dr.</td><td>7</td><td>9</td><td>1929</td><td>M</td><td>D</td><td>Advanced Degree</td><td>7000</td><td>Unknown</td><td>0</td><td>0</td><td>0</td><td>Y</td></tr><tr><td>Mrs.</td><td>30</td><td>12</td><td>1951</td><td>F</td><td>M</td><td>Unknown</td><td>7000</td><td>Unknown</td><td>0</td><td>0</td><td>0</td><td>Y</td></tr><tr><td>Dr.</td><td>11</td><td>9</td><td>1946</td><td>F</td><td>S</td><td>Advanced Degree</td><td>7500</td><td>Unknown</td><td>0</td><td>0</td><td>0</td><td>Y</td></tr><tr><td>Sir</td><td>6</td><td>7</td><td>1963</td><td>M</td><td>M</td><td>Unknown</td><td>7500</td><td>Unknown</td><td>0</td><td>0</td><td>0</td><td>N</td></tr><tr><td>Miss</td><td>29</td><td>9</td><td>1932</td><td>F</td><td>D</td><td>Unknown</td><td>7500</td><td>Unknown</td><td>0</td><td>0</td><td>0</td><td>N</td></tr><tr><td>Dr.</td><td>27</td><td>3</td><td>1961</td><td>M</td><td>S</td><td>College</td><td>8000</td><td>Unknown</td><td>0</td><td>0</td><td>0</td><td>N</td></tr><tr><td>Miss</td><td>8</td><td>4</td><td>1936</td><td>M</td><td>M</td><td>4 yr Degree</td><td>8000</td><td>Unknown</td><td>0</td><td>0</td><td>0</td><td>N</td></tr><tr><td>Ms.</td><td>28</td><td>6</td><td>1942</td><td>M</td><td>D</td><td>4 yr Degree</td><td>8000</td><td>Unknown</td><td>0</td><td>0</td><td>0</td><td>N</td></tr><tr><td>Dr.</td><td>19</td><td>8</td><td>1934</td><td>M</td><td>M</td><td>Advanced Degree</td><td>8000</td><td>Unknown</td><td>0</td><td>0</td><td>0</td><td>N</td></tr><tr><td>Mr.</td><td>30</td><td>11</td><td>1979</td><td>M</td><td>M</td><td>Unknown</td><td>8000</td><td>Unknown</td><td>0</td><td>0</td><td>0</td><td>N</td></tr><tr><td>Dr.</td><td>25</td><td>11</td><td>1962</td><td>M</td><td>M</td><td>College</td><td>8500</td><td>Unknown</td><td>0</td><td>0</td><td>0</td><td>Y</td></tr><tr><td>Dr.</td><td>13</td><td>3</td><td>1932</td><td>F</td><td>S</td><td>Secondary</td><td>9000</td><td>Unknown</td><td>0</td><td>0</td><td>0</td><td>Y</td></tr><tr><td>Dr.</td><td>7</td><td>4</td><td>1964</td><td>F</td><td>D</td><td>4 yr Degree</td><td>9000</td><td>Unknown</td><td>0</td><td>0</td><td>0</td><td>N</td></tr><tr><td>Mr.</td><td>20</td><td>10</td><td>1941</td><td>M</td><td>W</td><td>4 yr Degree</td><td>9000</td><td>Unknown</td><td>0</td><td>0</td><td>0</td><td>Y</td></tr><tr><td>Miss</td><td>7</td><td>11</td><td>1958</td><td>M</td><td>S</td><td>Advanced Degree</td><td>9000</td><td>Unknown</td><td>0</td><td>0</td><td>0</td><td>N</td></tr><tr><td>Sir</td><td>3</td><td>9</td><td>1988</td><td>M</td><td>D</td><td>Advanced Degree</td><td>9000</td><td>Unknown</td><td>0</td><td>0</td><td>0</td><td>N</td></tr><tr><td>Sir</td><td>11</td><td>6</td><td>1929</td><td>M</td><td>W</td><td>Advanced Degree</td><td>9000</td><td>Unknown</td><td>0</td><td>0</td><td>0</td><td>N</td></tr><tr><td>Dr.</td><td>6</td><td>5</td><td>1990</td><td>F</td><td>U</td><td>Primary</td><td>9500</td><td>Unknown</td><td>0</td><td>0</td><td>0</td><td>Y</td></tr><tr><td>Mrs.</td><td>10</td><td>10</td><td>1938</td><td>M</td><td>D</td><td>Secondary</td><td>9500</td><td>Unknown</td><td>0</td><td>0</td><td>0</td><td>N</td></tr><tr><td>Sir</td><td>2</td><td>4</td><td>1940</td><td>M</td><td>W</td><td>College</td><td>9500</td><td>Unknown</td><td>0</td><td>0</td><td>0</td><td>Y</td></tr><tr><td>Mrs.</td><td>2</td><td>9</td><td>1938</td><td>F</td><td>M</td><td>Unknown</td><td>10000</td><td>Unknown</td><td>0</td><td>0</td><td>0</td><td>N</td></tr><tr><td>Sir</td><td>14</td><td>10</td><td>1936</td><td>F</td><td>D</td><td>Primary</td><td>500</td><td>Good</td><td>1</td><td>0</td><td>0</td><td>N</td></tr><tr><td>Dr.</td><td>23</td><td>1</td><td>1938</td><td>F</td><td>S</td><td>Secondary</td><td>500</td><td>Good</td><td>1</td><td>0</td><td>0</td><td>N</td></tr><tr><td>Dr.</td><td>5</td><td>10</td><td>1934</td><td>F</td><td>D</td><td>College</td><td>500</td><td>Good</td><td>1</td><td>0</td><td>0</td><td>Y</td></tr><tr><td>Dr.</td><td>5</td><td>6</td><td>1969</td><td>F</td><td>W</td><td>Advanced Degree</td><td>500</td><td>Good</td><td>1</td><td>0</td><td>0</td><td>N</td></tr><tr><td>Sir</td><td>1</td><td>8</td><td>1949</td><td>F</td><td>M</td><td>Secondary</td><td>1000</td><td>Good</td><td>1</td><td>0</td><td>0</td><td>N</td></tr><tr><td>Dr.</td><td>20</td><td>7</td><td>1978</td><td>F</td><td>U</td><td>2 yr Degree</td><td>1000</td><td>Good</td><td>1</td><td>0</td><td>0</td><td>N</td></tr><tr><td>Mr.</td><td>30</td><td>10</td><td>1947</td><td>M</td><td>D</td><td>Unknown</td><td>1000</td><td>Good</td><td>1</td><td>0</td><td>0</td><td>Y</td></tr><tr><td>Sir</td><td>28</td><td>6</td><td>1973</td><td>M</td><td>D</td><td>Secondary</td><td>1500</td><td>Good</td><td>1</td><td>0</td><td>0</td><td>N</td></tr><tr><td>Ms.</td><td>7</td><td>10</td><td>1973</td><td>F</td><td>S</td><td>2 yr Degree</td><td>1500</td><td>Good</td><td>1</td><td>0</td><td>0</td><td>Y</td></tr><tr><td>Sir</td><td>25</td><td>6</td><td>1933</td><td>M</td><td>D</td><td>College</td><td>2000</td><td>Good</td><td>1</td><td>0</td><td>0</td><td>Y</td></tr><tr><td>Miss</td><td>5</td><td>3</td><td>1929</td><td>M</td><td>U</td><td>4 yr Degree</td><td>2000</td><td>Good</td><td>1</td><td>0</td><td>0</td><td>N</td></tr><tr><td>Sir</td><td>8</td><td>1</td><td>1949</td><td>F</td><td>M</td><td>Advanced Degree</td><td>2000</td><td>Good</td><td>1</td><td>0</td><td>0</td><td>Y</td></tr><tr><td>Mrs.</td><td>6</td><td>11</td><td>1970</td><td>M</td><td>S</td><td>Primary</td><td>2500</td><td>Good</td><td>1</td><td>0</td><td>0</td><td>Y</td></tr><tr><td>Ms.</td><td>3</td><td>11</td><td>1982</td><td>F</td><td>S</td><td>Primary</td><td>2500</td><td>Good</td><td>1</td><td>0</td><td>0</td><td>N</td></tr><tr><td>Ms.</td><td>7</td><td>12</td><td>1929</td><td>F</td><td>U</td><td>Secondary</td><td>2500</td><td>Good</td><td>1</td><td>0</td><td>0</td><td>Y</td></tr><tr><td>Dr.</td><td>29</td><td>10</td><td>1984</td><td>F</td><td>M</td><td>Secondary</td><td>3000</td><td>Good</td><td>1</td><td>0</td><td>0</td><td>N</td></tr><tr><td>Miss</td><td>15</td><td>10</td><td>1935</td><td>M</td><td>M</td><td>Primary</td><td>3500</td><td>Good</td><td>1</td><td>0</td><td>0</td><td>N</td></tr><tr><td>Miss</td><td>null</td><td>1</td><td>null</td><td>F</td><td>S</td><td>Primary</td><td>3500</td><td>Good</td><td>1</td><td>0</td><td>0</td><td>Y</td></tr><tr><td>Dr.</td><td>14</td><td>6</td><td>1965</td><td>F</td><td>S</td><td>Advanced Degree</td><td>3500</td><td>Good</td><td>1</td><td>0</td><td>0</td><td>N</td></tr><tr><td>Dr.</td><td>22</td><td>3</td><td>1944</td><td>M</td><td>U</td><td>Unknown</td><td>3500</td><td>Good</td><td>1</td><td>0</td><td>0</td><td>N</td></tr><tr><td>Sir</td><td>20</td><td>10</td><td>1980</td><td>M</td><td>U</td><td>Secondary</td><td>4000</td><td>Good</td><td>1</td><td>0</td><td>0</td><td>Y</td></tr><tr><td>Dr.</td><td>27</td><td>1</td><td>1925</td><td>M</td><td>W</td><td>College</td><td>4000</td><td>Good</td><td>1</td><td>0</td><td>0</td><td>Y</td></tr><tr><td>Sir</td><td>16</td><td>9</td><td>1957</td><td>M</td><td>D</td><td>4 yr Degree</td><td>4000</td><td>Good</td><td>1</td><td>0</td><td>0</td><td>Y</td></tr><tr><td>Dr.</td><td>26</td><td>2</td><td>1986</td><td>M</td><td>M</td><td>Advanced Degree</td><td>4000</td><td>Good</td><td>1</td><td>0</td><td>0</td><td>N</td></tr><tr><td>Mr.</td><td>31</td><td>5</td><td>1968</td><td>M</td><td>S</td><td>Secondary</td><td>4500</td><td>Good</td><td>1</td><td>0</td><td>0</td><td>N</td></tr><tr><td>Mr.</td><td>13</td><td>3</td><td>1935</td><td>M</td><td>S</td><td>2 yr Degree</td><td>4500</td><td>Good</td><td>1</td><td>0</td><td>0</td><td>Y</td></tr><tr><td>Dr.</td><td>23</td><td>12</td><td>1937</td><td>F</td><td>W</td><td>4 yr Degree</td><td>4500</td><td>Good</td><td>1</td><td>0</td><td>0</td><td>N</td></tr><tr><td>Sir</td><td>15</td><td>2</td><td>1942</td><td>F</td><td>D</td><td>4 yr Degree</td><td>5000</td><td>Good</td><td>1</td><td>0</td><td>0</td><td>N</td></tr><tr><td>Ms.</td><td>18</td><td>9</td><td>1927</td><td>F</td><td>U</td><td>Advanced Degree</td><td>5000</td><td>Good</td><td>1</td><td>0</td><td>0</td><td>N</td></tr><tr><td>Sir</td><td>8</td><td>1</td><td>1987</td><td>F</td><td>U</td><td>College</td><td>5500</td><td>Good</td><td>1</td><td>0</td><td>0</td><td>N</td></tr><tr><td>Mr.</td><td>26</td><td>12</td><td>1927</td><td>F</td><td>S</td><td>4 yr Degree</td><td>5500</td><td>Good</td><td>1</td><td>0</td><td>0</td><td>Y</td></tr><tr><td>Miss</td><td>19</td><td>9</td><td>1962</td><td>F</td><td>S</td><td>Unknown</td><td>5500</td><td>Good</td><td>1</td><td>0</td><td>0</td><td>Y</td></tr><tr><td>Dr.</td><td>30</td><td>7</td><td>1989</td><td>F</td><td>U</td><td>College</td><td>6000</td><td>Good</td><td>1</td><td>0</td><td>0</td><td>Y</td></tr><tr><td>Miss</td><td>30</td><td>6</td><td>1984</td><td>M</td><td>D</td><td>Unknown</td><td>6500</td><td>Good</td><td>1</td><td>0</td><td>0</td><td>N</td></tr><tr><td>Dr.</td><td>9</td><td>12</td><td>1975</td><td>F</td><td>W</td><td>Unknown</td><td>6500</td><td>Good</td><td>1</td><td>0</td><td>0</td><td>N</td></tr><tr><td>Dr.</td><td>31</td><td>7</td><td>1959</td><td>M</td><td>M</td><td>2 yr Degree</td><td>7000</td><td>Good</td><td>1</td><td>0</td><td>0</td><td>Y</td></tr><tr><td>Dr.</td><td>14</td><td>8</td><td>1939</td><td>M</td><td>D</td><td>2 yr Degree</td><td>7000</td><td>Good</td><td>1</td><td>0</td><td>0</td><td>N</td></tr><tr><td>Sir</td><td>4</td><td>7</td><td>1964</td><td>M</td><td>D</td><td>4 yr Degree</td><td>7000</td><td>Good</td><td>1</td><td>0</td><td>0</td><td>N</td></tr><tr><td>Dr.</td><td>20</td><td>8</td><td>1943</td><td>F</td><td>W</td><td>Advanced Degree</td><td>7000</td><td>Good</td><td>1</td><td>0</td><td>0</td><td>Y</td></tr><tr><td>Miss</td><td>4</td><td>3</td><td>1947</td><td>F</td><td>W</td><td>Advanced Degree</td><td>7000</td><td>Good</td><td>1</td><td>0</td><td>0</td><td>Y</td></tr><tr><td>Sir</td><td>20</td><td>3</td><td>1965</td><td>M</td><td>M</td><td>Secondary</td><td>7500</td><td>Good</td><td>1</td><td>0</td><td>0</td><td>Y</td></tr><tr><td>Mr.</td><td>26</td><td>11</td><td>1990</td><td>M</td><td>S</td><td>Secondary</td><td>7500</td><td>Good</td><td>1</td><td>0</td><td>0</td><td>N</td></tr><tr><td>Ms.</td><td>26</td><td>4</td><td>1942</td><td>M</td><td>S</td><td>College</td><td>7500</td><td>Good</td><td>1</td><td>0</td><td>0</td><td>N</td></tr><tr><td>Ms.</td><td>26</td><td>4</td><td>1979</td><td>M</td><td>M</td><td>4 yr Degree</td><td>7500</td><td>Good</td><td>1</td><td>0</td><td>0</td><td>Y</td></tr><tr><td>Mr.</td><td>21</td><td>12</td><td>1985</td><td>F</td><td>W</td><td>4 yr Degree</td><td>7500</td><td>Good</td><td>1</td><td>0</td><td>0</td><td>N</td></tr><tr><td>Ms.</td><td>14</td><td>5</td><td>1977</td><td>M</td><td>W</td><td>Unknown</td><td>7500</td><td>Good</td><td>1</td><td>0</td><td>0</td><td>Y</td></tr><tr><td>Sir</td><td>22</td><td>8</td><td>1983</td><td>M</td><td>S</td><td>Secondary</td><td>8000</td><td>Good</td><td>1</td><td>0</td><td>0</td><td>N</td></tr><tr><td>Miss</td><td>22</td><td>7</td><td>1961</td><td>F</td><td>U</td><td>Secondary</td><td>8000</td><td>Good</td><td>1</td><td>0</td><td>0</td><td>N</td></tr><tr><td>Dr.</td><td>12</td><td>6</td><td>1938</td><td>F</td><td>M</td><td>College</td><td>8000</td><td>Good</td><td>1</td><td>0</td><td>0</td><td>N</td></tr><tr><td>Ms.</td><td>12</td><td>8</td><td>1949</td><td>M</td><td>W</td><td>2 yr Degree</td><td>8000</td><td>Good</td><td>1</td><td>0</td><td>0</td><td>Y</td></tr><tr><td>Sir</td><td>29</td><td>11</td><td>1973</td><td>F</td><td>W</td><td>2 yr Degree</td><td>8000</td><td>Good</td><td>1</td><td>0</td><td>0</td><td>N</td></tr><tr><td>Dr.</td><td>11</td><td>9</td><td>1956</td><td>M</td><td>U</td><td>4 yr Degree</td><td>8000</td><td>Good</td><td>1</td><td>0</td><td>0</td><td>N</td></tr><tr><td>Ms.</td><td>25</td><td>9</td><td>1982</td><td>M</td><td>W</td><td>Primary</td><td>8500</td><td>Good</td><td>1</td><td>0</td><td>0</td><td>Y</td></tr><tr><td>Sir</td><td>26</td><td>10</td><td>1955</td><td>F</td><td>U</td><td>College</td><td>8500</td><td>Good</td><td>1</td><td>0</td><td>0</td><td>N</td></tr><tr><td>Mrs.</td><td>29</td><td>10</td><td>1956</td><td>F</td><td>W</td><td>2 yr Degree</td><td>8500</td><td>Good</td><td>1</td><td>0</td><td>0</td><td>N</td></tr><tr><td>Sir</td><td>12</td><td>7</td><td>1970</td><td>M</td><td>D</td><td>Unknown</td><td>8500</td><td>Good</td><td>1</td><td>0</td><td>0</td><td>N</td></tr><tr><td>Dr.</td><td>25</td><td>1</td><td>1943</td><td>M</td><td>M</td><td>Primary</td><td>9000</td><td>Good</td><td>1</td><td>0</td><td>0</td><td>N</td></tr><tr><td>Sir</td><td>28</td><td>5</td><td>1992</td><td>M</td><td>S</td><td>Secondary</td><td>9000</td><td>Good</td><td>1</td><td>0</td><td>0</td><td>N</td></tr><tr><td>Dr.</td><td>18</td><td>11</td><td>1981</td><td>F</td><td>W</td><td>Secondary</td><td>9000</td><td>Good</td><td>1</td><td>0</td><td>0</td><td>N</td></tr><tr><td>Mr.</td><td>1</td><td>12</td><td>1939</td><td>M</td><td>D</td><td>2 yr Degree</td><td>9000</td><td>Good</td><td>1</td><td>0</td><td>0</td><td>N</td></tr><tr><td>Dr.</td><td>14</td><td>11</td><td>1984</td><td>M</td><td>U</td><td>4 yr Degree</td><td>9000</td><td>Good</td><td>1</td><td>0</td><td>0</td><td>Y</td></tr><tr><td>Miss</td><td>6</td><td>2</td><td>1943</td><td>M</td><td>U</td><td>Primary</td><td>9500</td><td>Good</td><td>1</td><td>0</td><td>0</td><td>N</td></tr><tr><td>Mr.</td><td>25</td><td>3</td><td>1941</td><td>F</td><td>W</td><td>College</td><td>9500</td><td>Good</td><td>1</td><td>0</td><td>0</td><td>Y</td></tr><tr><td>Ms.</td><td>24</td><td>2</td><td>1985</td><td>M</td><td>W</td><td>Unknown</td><td>9500</td><td>Good</td><td>1</td><td>0</td><td>0</td><td>Y</td></tr><tr><td>Sir</td><td>26</td><td>11</td><td>1939</td><td>F</td><td>M</td><td>Primary</td><td>10000</td><td>Good</td><td>1</td><td>0</td><td>0</td><td>N</td></tr><tr><td>Sir</td><td>18</td><td>6</td><td>1987</td><td>F</td><td>D</td><td>2 yr Degree</td><td>10000</td><td>Good</td><td>1</td><td>0</td><td>0</td><td>N</td></tr><tr><td>Ms.</td><td>5</td><td>5</td><td>1942</td><td>M</td><td>D</td><td>4 yr Degree</td><td>10000</td><td>Good</td><td>1</td><td>0</td><td>0</td><td>Y</td></tr><tr><td>Dr.</td><td>10</td><td>12</td><td>1963</td><td>M</td><td>M</td><td>Advanced Degree</td><td>10000</td><td>Good</td><td>1</td><td>0</td><td>0</td><td>Y</td></tr><tr><td>Miss</td><td>18</td><td>4</td><td>1926</td><td>F</td><td>M</td><td>Unknown</td><td>10000</td><td>Good</td><td>1</td><td>0</td><td>0</td><td>N</td></tr><tr><td>Mrs.</td><td>17</td><td>7</td><td>1970</td><td>F</td><td>M</td><td>Unknown</td><td>10000</td><td>Good</td><td>1</td><td>0</td><td>0</td><td>Y</td></tr><tr><td>Dr.</td><td>7</td><td>12</td><td>1952</td><td>F</td><td>S</td><td>2 yr Degree</td><td>500</td><td>Low Risk</td><td>1</td><td>0</td><td>0</td><td>N</td></tr><tr><td>Ms.</td><td>24</td><td>4</td><td>1961</td><td>M</td><td>S</td><td>4 yr Degree</td><td>500</td><td>Low Risk</td><td>1</td><td>0</td><td>0</td><td>Y</td></tr><tr><td>Ms.</td><td>18</td><td>6</td><td>1948</td><td>M</td><td>S</td><td>Advanced Degree</td><td>1000</td><td>Low Risk</td><td>1</td><td>0</td><td>0</td><td>N</td></tr><tr><td>Sir</td><td>18</td><td>9</td><td>1987</td><td>M</td><td>U</td><td>Primary</td><td>1500</td><td>Low Risk</td><td>1</td><td>0</td><td>0</td><td>N</td></tr><tr><td>Mr.</td><td>1</td><td>5</td><td>1938</td><td>F</td><td>U</td><td>Secondary</td><td>1500</td><td>Low Risk</td><td>1</td><td>0</td><td>0</td><td>Y</td></tr><tr><td>Dr.</td><td>7</td><td>10</td><td>1941</td><td>F</td><td>W</td><td>Secondary</td><td>2000</td><td>Low Risk</td><td>1</td><td>0</td><td>0</td><td>N</td></tr><tr><td>Dr.</td><td>24</td><td>5</td><td>1950</td><td>M</td><td>U</td><td>College</td><td>2000</td><td>Low Risk</td><td>1</td><td>0</td><td>0</td><td>N</td></tr><tr><td>Mr.</td><td>21</td><td>10</td><td>1992</td><td>M</td><td>W</td><td>College</td><td>2500</td><td>Low Risk</td><td>1</td><td>0</td><td>0</td><td>Y</td></tr><tr><td>Miss</td><td>24</td><td>8</td><td>1950</td><td>M</td><td>U</td><td>Advanced Degree</td><td>2500</td><td>Low Risk</td><td>1</td><td>0</td><td>0</td><td>N</td></tr><tr><td>Sir</td><td>11</td><td>7</td><td>1991</td><td>M</td><td>S</td><td>Unknown</td><td>2500</td><td>Low Risk</td><td>1</td><td>0</td><td>0</td><td>Y</td></tr><tr><td>Sir</td><td>17</td><td>9</td><td>1977</td><td>M</td><td>W</td><td>Primary</td><td>3000</td><td>Low Risk</td><td>1</td><td>0</td><td>0</td><td>N</td></tr><tr><td>Dr.</td><td>6</td><td>8</td><td>1985</td><td>M</td><td>M</td><td>2 yr Degree</td><td>3000</td><td>Low Risk</td><td>1</td><td>0</td><td>0</td><td>Y</td></tr><tr><td>Mrs.</td><td>9</td><td>10</td><td>1948</td><td>F</td><td>D</td><td>2 yr Degree</td><td>3000</td><td>Low Risk</td><td>1</td><td>0</td><td>0</td><td>Y</td></tr><tr><td>Sir</td><td>4</td><td>4</td><td>1949</td><td>F</td><td>S</td><td>4 yr Degree</td><td>3000</td><td>Low Risk</td><td>1</td><td>0</td><td>0</td><td>Y</td></tr><tr><td>Mrs.</td><td>13</td><td>7</td><td>1974</td><td>F</td><td>S</td><td>Primary</td><td>3500</td><td>Low Risk</td><td>1</td><td>0</td><td>0</td><td>Y</td></tr><tr><td>Ms.</td><td>26</td><td>11</td><td>1955</td><td>M</td><td>D</td><td>Primary</td><td>3500</td><td>Low Risk</td><td>1</td><td>0</td><td>0</td><td>N</td></tr><tr><td>Sir</td><td>31</td><td>1</td><td>1980</td><td>M</td><td>M</td><td>College</td><td>3500</td><td>Low Risk</td><td>1</td><td>0</td><td>0</td><td>Y</td></tr><tr><td>Dr.</td><td>16</td><td>2</td><td>1984</td><td>F</td><td>S</td><td>College</td><td>3500</td><td>Low Risk</td><td>1</td><td>0</td><td>0</td><td>N</td></tr><tr><td>Miss</td><td>8</td><td>12</td><td>1964</td><td>M</td><td>U</td><td>2 yr Degree</td><td>3500</td><td>Low Risk</td><td>1</td><td>0</td><td>0</td><td>Y</td></tr><tr><td>Ms.</td><td>2</td><td>11</td><td>1976</td><td>F</td><td>U</td><td>4 yr Degree</td><td>3500</td><td>Low Risk</td><td>1</td><td>0</td><td>0</td><td>Y</td></tr><tr><td>Ms.</td><td>23</td><td>1</td><td>1963</td><td>M</td><td>M</td><td>Advanced Degree</td><td>3500</td><td>Low Risk</td><td>1</td><td>0</td><td>0</td><td>N</td></tr><tr><td>Miss</td><td>4</td><td>1</td><td>1936</td><td>F</td><td>M</td><td>Advanced Degree</td><td>3500</td><td>Low Risk</td><td>1</td><td>0</td><td>0</td><td>N</td></tr><tr><td>Miss</td><td>10</td><td>2</td><td>1987</td><td>M</td><td>M</td><td>Primary</td><td>4000</td><td>Low Risk</td><td>1</td><td>0</td><td>0</td><td>Y</td></tr><tr><td>Ms.</td><td>17</td><td>1</td><td>1977</td><td>F</td><td>W</td><td>Secondary</td><td>4000</td><td>Low Risk</td><td>1</td><td>0</td><td>0</td><td>Y</td></tr><tr><td>Mr.</td><td>29</td><td>11</td><td>1980</td><td>M</td><td>W</td><td>College</td><td>4000</td><td>Low Risk</td><td>1</td><td>0</td><td>0</td><td>Y</td></tr><tr><td>Sir</td><td>12</td><td>11</td><td>1949</td><td>F</td><td>W</td><td>College</td><td>4000</td><td>Low Risk</td><td>1</td><td>0</td><td>0</td><td>N</td></tr><tr><td>Dr.</td><td>23</td><td>2</td><td>1927</td><td>M</td><td>M</td><td>4 yr Degree</td><td>4000</td><td>Low Risk</td><td>1</td><td>0</td><td>0</td><td>Y</td></tr><tr><td>Dr.</td><td>5</td><td>5</td><td>1978</td><td>F</td><td>S</td><td>Unknown</td><td>4000</td><td>Low Risk</td><td>1</td><td>0</td><td>0</td><td>N</td></tr><tr><td>Miss</td><td>10</td><td>5</td><td>1957</td><td>M</td><td>W</td><td>Primary</td><td>4500</td><td>Low Risk</td><td>1</td><td>0</td><td>0</td><td>N</td></tr><tr><td>Miss</td><td>7</td><td>10</td><td>1944</td><td>M</td><td>M</td><td>Secondary</td><td>4500</td><td>Low Risk</td><td>1</td><td>0</td><td>0</td><td>Y</td></tr><tr><td>Mr.</td><td>17</td><td>7</td><td>1949</td><td>M</td><td>M</td><td>Secondary</td><td>4500</td><td>Low Risk</td><td>1</td><td>0</td><td>0</td><td>Y</td></tr><tr><td>Dr.</td><td>1</td><td>1</td><td>1947</td><td>M</td><td>D</td><td>Secondary</td><td>4500</td><td>Low Risk</td><td>1</td><td>0</td><td>0</td><td>N</td></tr><tr><td>null</td><td>null</td><td>null</td><td>null</td><td>F</td><td>D</td><td>4 yr Degree</td><td>4500</td><td>Low Risk</td><td>1</td><td>0</td><td>0</td><td>N</td></tr><tr><td>Sir</td><td>11</td><td>9</td><td>1957</td><td>F</td><td>M</td><td>Unknown</td><td>4500</td><td>Low Risk</td><td>1</td><td>0</td><td>0</td><td>N</td></tr><tr><td>Sir</td><td>16</td><td>11</td><td>1986</td><td>M</td><td>D</td><td>Unknown</td><td>4500</td><td>Low Risk</td><td>1</td><td>0</td><td>0</td><td>Y</td></tr><tr><td>Sir</td><td>10</td><td>8</td><td>1934</td><td>M</td><td>M</td><td>Secondary</td><td>5000</td><td>Low Risk</td><td>1</td><td>0</td><td>0</td><td>Y</td></tr><tr><td>Dr.</td><td>24</td><td>2</td><td>1927</td><td>M</td><td>U</td><td>Secondary</td><td>5000</td><td>Low Risk</td><td>1</td><td>0</td><td>0</td><td>N</td></tr><tr><td>Sir</td><td>10</td><td>7</td><td>1958</td><td>F</td><td>S</td><td>2 yr Degree</td><td>5000</td><td>Low Risk</td><td>1</td><td>0</td><td>0</td><td>N</td></tr><tr><td>Dr.</td><td>27</td><td>10</td><td>1984</td><td>F</td><td>M</td><td>Unknown</td><td>5000</td><td>Low Risk</td><td>1</td><td>0</td><td>0</td><td>N</td></tr><tr><td>Ms.</td><td>10</td><td>4</td><td>1935</td><td>M</td><td>U</td><td>Unknown</td><td>5000</td><td>Low Risk</td><td>1</td><td>0</td><td>0</td><td>N</td></tr><tr><td>Dr.</td><td>22</td><td>10</td><td>1975</td><td>F</td><td>W</td><td>2 yr Degree</td><td>5500</td><td>Low Risk</td><td>1</td><td>0</td><td>0</td><td>N</td></tr><tr><td>Dr.</td><td>5</td><td>1</td><td>1944</td><td>F</td><td>S</td><td>College</td><td>6000</td><td>Low Risk</td><td>1</td><td>0</td><td>0</td><td>N</td></tr><tr><td>Dr.</td><td>25</td><td>10</td><td>1959</td><td>F</td><td>M</td><td>Advanced Degree</td><td>6000</td><td>Low Risk</td><td>1</td><td>0</td><td>0</td><td>N</td></tr><tr><td>Mrs.</td><td>21</td><td>6</td><td>1990</td><td>M</td><td>M</td><td>Unknown</td><td>6000</td><td>Low Risk</td><td>1</td><td>0</td><td>0</td><td>Y</td></tr><tr><td>Dr.</td><td>22</td><td>11</td><td>1952</td><td>F</td><td>D</td><td>Unknown</td><td>6000</td><td>Low Risk</td><td>1</td><td>0</td><td>0</td><td>Y</td></tr><tr><td>Mr.</td><td>21</td><td>1</td><td>1925</td><td>F</td><td>M</td><td>Primary</td><td>6500</td><td>Low Risk</td><td>1</td><td>0</td><td>0</td><td>N</td></tr><tr><td>Dr.</td><td>24</td><td>4</td><td>1980</td><td>M</td><td>W</td><td>Unknown</td><td>6500</td><td>Low Risk</td><td>1</td><td>0</td><td>0</td><td>N</td></tr><tr><td>Dr.</td><td>13</td><td>1</td><td>1992</td><td>M</td><td>W</td><td>Primary</td><td>7000</td><td>Low Risk</td><td>1</td><td>0</td><td>0</td><td>Y</td></tr><tr><td>Dr.</td><td>20</td><td>11</td><td>1935</td><td>M</td><td>W</td><td>Secondary</td><td>7000</td><td>Low Risk</td><td>1</td><td>0</td><td>0</td><td>N</td></tr><tr><td>Ms.</td><td>26</td><td>4</td><td>1981</td><td>M</td><td>W</td><td>College</td><td>7000</td><td>Low Risk</td><td>1</td><td>0</td><td>0</td><td>Y</td></tr><tr><td>Ms.</td><td>12</td><td>11</td><td>1924</td><td>M</td><td>M</td><td>Advanced Degree</td><td>7000</td><td>Low Risk</td><td>1</td><td>0</td><td>0</td><td>N</td></tr><tr><td>Miss</td><td>4</td><td>2</td><td>1978</td><td>M</td><td>W</td><td>Secondary</td><td>7500</td><td>Low Risk</td><td>1</td><td>0</td><td>0</td><td>N</td></tr><tr><td>Ms.</td><td>7</td><td>1</td><td>1982</td><td>M</td><td>S</td><td>4 yr Degree</td><td>7500</td><td>Low Risk</td><td>1</td><td>0</td><td>0</td><td>N</td></tr><tr><td>Miss</td><td>16</td><td>2</td><td>1960</td><td>F</td><td>D</td><td>Advanced Degree</td><td>7500</td><td>Low Risk</td><td>1</td><td>0</td><td>0</td><td>Y</td></tr><tr><td>Mrs.</td><td>3</td><td>10</td><td>1948</td><td>M</td><td>D</td><td>Unknown</td><td>7500</td><td>Low Risk</td><td>1</td><td>0</td><td>0</td><td>N</td></tr><tr><td>Miss</td><td>28</td><td>2</td><td>1964</td><td>M</td><td>U</td><td>Unknown</td><td>7500</td><td>Low Risk</td><td>1</td><td>0</td><td>0</td><td>Y</td></tr><tr><td>Ms.</td><td>6</td><td>12</td><td>1935</td><td>M</td><td>M</td><td>Primary</td><td>8000</td><td>Low Risk</td><td>1</td><td>0</td><td>0</td><td>Y</td></tr><tr><td>Mr.</td><td>28</td><td>9</td><td>1959</td><td>M</td><td>U</td><td>College</td><td>8500</td><td>Low Risk</td><td>1</td><td>0</td><td>0</td><td>N</td></tr><tr><td>Dr.</td><td>24</td><td>2</td><td>1964</td><td>F</td><td>U</td><td>Unknown</td><td>8500</td><td>Low Risk</td><td>1</td><td>0</td><td>0</td><td>N</td></tr><tr><td>Dr.</td><td>12</td><td>1</td><td>1948</td><td>M</td><td>D</td><td>4 yr Degree</td><td>9000</td><td>Low Risk</td><td>1</td><td>0</td><td>0</td><td>N</td></tr><tr><td>Sir</td><td>12</td><td>2</td><td>1927</td><td>F</td><td>M</td><td>Primary</td><td>9500</td><td>Low Risk</td><td>1</td><td>0</td><td>0</td><td>N</td></tr><tr><td>Dr.</td><td>15</td><td>2</td><td>1958</td><td>F</td><td>S</td><td>Secondary</td><td>10000</td><td>Low Risk</td><td>1</td><td>0</td><td>0</td><td>Y</td></tr><tr><td>Ms.</td><td>16</td><td>1</td><td>1928</td><td>F</td><td>W</td><td>Secondary</td><td>10000</td><td>Low Risk</td><td>1</td><td>0</td><td>0</td><td>N</td></tr><tr><td>Dr.</td><td>31</td><td>7</td><td>1930</td><td>M</td><td>U</td><td>College</td><td>10000</td><td>Low Risk</td><td>1</td><td>0</td><td>0</td><td>N</td></tr><tr><td>Miss</td><td>1</td><td>2</td><td>1937</td><td>F</td><td>D</td><td>2 yr Degree</td><td>10000</td><td>Low Risk</td><td>1</td><td>0</td><td>0</td><td>N</td></tr><tr><td>null</td><td>null</td><td>null</td><td>null</td><td>M</td><td>D</td><td>4 yr Degree</td><td>10000</td><td>Low Risk</td><td>1</td><td>0</td><td>0</td><td>Y</td></tr><tr><td>Sir</td><td>19</td><td>6</td><td>1931</td><td>M</td><td>W</td><td>4 yr Degree</td><td>10000</td><td>Low Risk</td><td>1</td><td>0</td><td>0</td><td>N</td></tr><tr><td>Miss</td><td>12</td><td>11</td><td>1984</td><td>M</td><td>M</td><td>Advanced Degree</td><td>10000</td><td>Low Risk</td><td>1</td><td>0</td><td>0</td><td>N</td></tr><tr><td>Mr.</td><td>25</td><td>12</td><td>1925</td><td>M</td><td>M</td><td>Advanced Degree</td><td>500</td><td>High Risk</td><td>1</td><td>0</td><td>0</td><td>Y</td></tr><tr><td>Ms.</td><td>13</td><td>11</td><td>1988</td><td>M</td><td>D</td><td>Advanced Degree</td><td>500</td><td>High Risk</td><td>1</td><td>0</td><td>0</td><td>Y</td></tr><tr><td>Dr.</td><td>2</td><td>8</td><td>1964</td><td>M</td><td>D</td><td>Unknown</td><td>500</td><td>High Risk</td><td>1</td><td>0</td><td>0</td><td>Y</td></tr><tr><td>Mr.</td><td>3</td><td>2</td><td>1932</td><td>F</td><td>D</td><td>Primary</td><td>1000</td><td>High Risk</td><td>1</td><td>0</td><td>0</td><td>Y</td></tr><tr><td>Miss</td><td>13</td><td>9</td><td>1935</td><td>F</td><td>S</td><td>Secondary</td><td>1000</td><td>High Risk</td><td>1</td><td>0</td><td>0</td><td>N</td></tr><tr><td>Ms.</td><td>2</td><td>10</td><td>1960</td><td>F</td><td>M</td><td>College</td><td>1000</td><td>High Risk</td><td>1</td><td>0</td><td>0</td><td>Y</td></tr><tr><td>Sir</td><td>18</td><td>7</td><td>1965</td><td>M</td><td>S</td><td>2 yr Degree</td><td>1000</td><td>High Risk</td><td>1</td><td>0</td><td>0</td><td>Y</td></tr><tr><td>Mr.</td><td>17</td><td>11</td><td>1925</td><td>M</td><td>D</td><td>2 yr Degree</td><td>1000</td><td>High Risk</td><td>1</td><td>0</td><td>0</td><td>N</td></tr><tr><td>Mrs.</td><td>28</td><td>9</td><td>1967</td><td>F</td><td>U</td><td>College</td><td>1500</td><td>High Risk</td><td>1</td><td>0</td><td>0</td><td>N</td></tr><tr><td>Miss</td><td>12</td><td>5</td><td>1959</td><td>M</td><td>U</td><td>4 yr Degree</td><td>1500</td><td>High Risk</td><td>1</td><td>0</td><td>0</td><td>Y</td></tr><tr><td>Mrs.</td><td>18</td><td>4</td><td>1971</td><td>F</td><td>D</td><td>Primary</td><td>2000</td><td>High Risk</td><td>1</td><td>0</td><td>0</td><td>N</td></tr><tr><td>Mrs.</td><td>9</td><td>11</td><td>1926</td><td>M</td><td>S</td><td>Unknown</td><td>2000</td><td>High Risk</td><td>1</td><td>0</td><td>0</td><td>N</td></tr><tr><td>Sir</td><td>2</td><td>6</td><td>1946</td><td>M</td><td>W</td><td>Primary</td><td>2500</td><td>High Risk</td><td>1</td><td>0</td><td>0</td><td>N</td></tr><tr><td>Ms.</td><td>2</td><td>12</td><td>1935</td><td>F</td><td>S</td><td>Secondary</td><td>2500</td><td>High Risk</td><td>1</td><td>0</td><td>0</td><td>Y</td></tr><tr><td>Ms.</td><td>28</td><td>12</td><td>1952</td><td>M</td><td>D</td><td>Unknown</td><td>2500</td><td>High Risk</td><td>1</td><td>0</td><td>0</td><td>N</td></tr><tr><td>Dr.</td><td>1</td><td>8</td><td>1944</td><td>F</td><td>W</td><td>Unknown</td><td>2500</td><td>High Risk</td><td>1</td><td>0</td><td>0</td><td>Y</td></tr><tr><td>Dr.</td><td>6</td><td>3</td><td>1987</td><td>M</td><td>W</td><td>Unknown</td><td>3000</td><td>High Risk</td><td>1</td><td>0</td><td>0</td><td>Y</td></tr><tr><td>Ms.</td><td>15</td><td>9</td><td>1961</td><td>M</td><td>W</td><td>Unknown</td><td>3000</td><td>High Risk</td><td>1</td><td>0</td><td>0</td><td>N</td></tr><tr><td>Dr.</td><td>15</td><td>4</td><td>1926</td><td>F</td><td>D</td><td>Advanced Degree</td><td>3500</td><td>High Risk</td><td>1</td><td>0</td><td>0</td><td>Y</td></tr><tr><td>Sir</td><td>24</td><td>3</td><td>1935</td><td>M</td><td>S</td><td>College</td><td>4000</td><td>High Risk</td><td>1</td><td>0</td><td>0</td><td>Y</td></tr><tr><td>Miss</td><td>16</td><td>10</td><td>1938</td><td>M</td><td>U</td><td>2 yr Degree</td><td>4000</td><td>High Risk</td><td>1</td><td>0</td><td>0</td><td>N</td></tr><tr><td>Ms.</td><td>23</td><td>12</td><td>1989</td><td>M</td><td>S</td><td>4 yr Degree</td><td>4000</td><td>High Risk</td><td>1</td><td>0</td><td>0</td><td>Y</td></tr><tr><td>Ms.</td><td>16</td><td>8</td><td>1984</td><td>F</td><td>S</td><td>4 yr Degree</td><td>4000</td><td>High Risk</td><td>1</td><td>0</td><td>0</td><td>N</td></tr><tr><td>Mr.</td><td>16</td><td>9</td><td>1929</td><td>F</td><td>D</td><td>Advanced Degree</td><td>4000</td><td>High Risk</td><td>1</td><td>0</td><td>0</td><td>Y</td></tr><tr><td>Miss</td><td>30</td><td>7</td><td>1957</td><td>M</td><td>D</td><td>Secondary</td><td>4500</td><td>High Risk</td><td>1</td><td>0</td><td>0</td><td>Y</td></tr><tr><td>Dr.</td><td>18</td><td>3</td><td>1979</td><td>M</td><td>S</td><td>College</td><td>4500</td><td>High Risk</td><td>1</td><td>0</td><td>0</td><td>N</td></tr><tr><td>Miss</td><td>18</td><td>7</td><td>1988</td><td>M</td><td>U</td><td>College</td><td>4500</td><td>High Risk</td><td>1</td><td>0</td><td>0</td><td>Y</td></tr><tr><td>Mr.</td><td>10</td><td>11</td><td>1946</td><td>F</td><td>U</td><td>4 yr Degree</td><td>4500</td><td>High Risk</td><td>1</td><td>0</td><td>0</td><td>N</td></tr><tr><td>Mrs.</td><td>19</td><td>4</td><td>1945</td><td>F</td><td>D</td><td>Unknown</td><td>5000</td><td>High Risk</td><td>1</td><td>0</td><td>0</td><td>N</td></tr><tr><td>Sir</td><td>13</td><td>11</td><td>1971</td><td>F</td><td>U</td><td>College</td><td>5500</td><td>High Risk</td><td>1</td><td>0</td><td>0</td><td>Y</td></tr><tr><td>Dr.</td><td>16</td><td>12</td><td>1938</td><td>F</td><td>M</td><td>4 yr Degree</td><td>5500</td><td>High Risk</td><td>1</td><td>0</td><td>0</td><td>N</td></tr><tr><td>Sir</td><td>23</td><td>11</td><td>1931</td><td>F</td><td>S</td><td>Advanced Degree</td><td>5500</td><td>High Risk</td><td>1</td><td>0</td><td>0</td><td>N</td></tr><tr><td>Dr.</td><td>3</td><td>8</td><td>1943</td><td>F</td><td>U</td><td>Unknown</td><td>5500</td><td>High Risk</td><td>1</td><td>0</td><td>0</td><td>N</td></tr><tr><td>Mr.</td><td>9</td><td>12</td><td>1972</td><td>M</td><td>S</td><td>2 yr Degree</td><td>6000</td><td>High Risk</td><td>1</td><td>0</td><td>0</td><td>Y</td></tr><tr><td>Mrs.</td><td>5</td><td>2</td><td>1966</td><td>F</td><td>S</td><td>Primary</td><td>6500</td><td>High Risk</td><td>1</td><td>0</td><td>0</td><td>N</td></tr><tr><td>Mr.</td><td>30</td><td>12</td><td>1928</td><td>F</td><td>M</td><td>Secondary</td><td>6500</td><td>High Risk</td><td>1</td><td>0</td><td>0</td><td>Y</td></tr><tr><td>Mr.</td><td>28</td><td>10</td><td>1970</td><td>F</td><td>W</td><td>College</td><td>6500</td><td>High Risk</td><td>1</td><td>0</td><td>0</td><td>Y</td></tr><tr><td>Sir</td><td>31</td><td>1</td><td>1926</td><td>M</td><td>S</td><td>4 yr Degree</td><td>6500</td><td>High Risk</td><td>1</td><td>0</td><td>0</td><td>Y</td></tr><tr><td>Miss</td><td>30</td><td>4</td><td>1978</td><td>M</td><td>S</td><td>Primary</td><td>7000</td><td>High Risk</td><td>1</td><td>0</td><td>0</td><td>N</td></tr><tr><td>Dr.</td><td>30</td><td>12</td><td>1979</td><td>F</td><td>D</td><td>2 yr Degree</td><td>7000</td><td>High Risk</td><td>1</td><td>0</td><td>0</td><td>Y</td></tr><tr><td>Miss</td><td>16</td><td>11</td><td>1936</td><td>M</td><td>S</td><td>4 yr Degree</td><td>7500</td><td>High Risk</td><td>1</td><td>0</td><td>0</td><td>Y</td></tr><tr><td>Ms.</td><td>26</td><td>11</td><td>1936</td><td>M</td><td>U</td><td>Advanced Degree</td><td>7500</td><td>High Risk</td><td>1</td><td>0</td><td>0</td><td>Y</td></tr><tr><td>Sir</td><td>23</td><td>5</td><td>1988</td><td>F</td><td>D</td><td>Primary</td><td>8000</td><td>High Risk</td><td>1</td><td>0</td><td>0</td><td>N</td></tr><tr><td>Sir</td><td>21</td><td>6</td><td>1959</td><td>M</td><td>D</td><td>College</td><td>8000</td><td>High Risk</td><td>1</td><td>0</td><td>0</td><td>Y</td></tr><tr><td>Miss</td><td>30</td><td>11</td><td>1953</td><td>M</td><td>W</td><td>2 yr Degree</td><td>8000</td><td>High Risk</td><td>1</td><td>0</td><td>0</td><td>N</td></tr><tr><td>Dr.</td><td>7</td><td>6</td><td>1945</td><td>F</td><td>U</td><td>2 yr Degree</td><td>8000</td><td>High Risk</td><td>1</td><td>0</td><td>0</td><td>N</td></tr><tr><td>Mrs.</td><td>11</td><td>8</td><td>1983</td><td>F</td><td>D</td><td>Advanced Degree</td><td>8000</td><td>High Risk</td><td>1</td><td>0</td><td>0</td><td>Y</td></tr><tr><td>Sir</td><td>22</td><td>12</td><td>1981</td><td>M</td><td>U</td><td>Advanced Degree</td><td>8000</td><td>High Risk</td><td>1</td><td>0</td><td>0</td><td>N</td></tr><tr><td>Dr.</td><td>14</td><td>null</td><td>1942</td><td>M</td><td>D</td><td>College</td><td>8500</td><td>High Risk</td><td>1</td><td>0</td><td>0</td><td>N</td></tr><tr><td>Mr.</td><td>21</td><td>12</td><td>1954</td><td>M</td><td>U</td><td>College</td><td>8500</td><td>High Risk</td><td>1</td><td>0</td><td>0</td><td>Y</td></tr><tr><td>Mrs.</td><td>23</td><td>11</td><td>1958</td><td>F</td><td>S</td><td>2 yr Degree</td><td>8500</td><td>High Risk</td><td>1</td><td>0</td><td>0</td><td>N</td></tr><tr><td>Ms.</td><td>7</td><td>8</td><td>1945</td><td>F</td><td>D</td><td>2 yr Degree</td><td>8500</td><td>High Risk</td><td>1</td><td>0</td><td>0</td><td>Y</td></tr><tr><td>Mr.</td><td>30</td><td>8</td><td>1963</td><td>M</td><td>S</td><td>4 yr Degree</td><td>8500</td><td>High Risk</td><td>1</td><td>0</td><td>0</td><td>Y</td></tr><tr><td>Ms.</td><td>13</td><td>1</td><td>1953</td><td>F</td><td>U</td><td>Advanced Degree</td><td>8500</td><td>High Risk</td><td>1</td><td>0</td><td>0</td><td>Y</td></tr><tr><td>Sir</td><td>6</td><td>6</td><td>1939</td><td>M</td><td>U</td><td>Primary</td><td>9000</td><td>High Risk</td><td>1</td><td>0</td><td>0</td><td>Y</td></tr><tr><td>Dr.</td><td>22</td><td>11</td><td>1991</td><td>F</td><td>S</td><td>Advanced Degree</td><td>9000</td><td>High Risk</td><td>1</td><td>0</td><td>0</td><td>Y</td></tr><tr><td>Mr.</td><td>1</td><td>9</td><td>1987</td><td>F</td><td>D</td><td>Advanced Degree</td><td>9000</td><td>High Risk</td><td>1</td><td>0</td><td>0</td><td>Y</td></tr><tr><td>Mr.</td><td>5</td><td>11</td><td>1971</td><td>F</td><td>D</td><td>4 yr Degree</td><td>9500</td><td>High Risk</td><td>1</td><td>0</td><td>0</td><td>N</td></tr><tr><td>Dr.</td><td>11</td><td>9</td><td>1945</td><td>F</td><td>U</td><td>Advanced Degree</td><td>9500</td><td>High Risk</td><td>1</td><td>0</td><td>0</td><td>Y</td></tr><tr><td>Ms.</td><td>6</td><td>4</td><td>1970</td><td>F</td><td>U</td><td>Advanced Degree</td><td>9500</td><td>High Risk</td><td>1</td><td>0</td><td>0</td><td>N</td></tr><tr><td>Sir</td><td>9</td><td>7</td><td>1990</td><td>M</td><td>M</td><td>Primary</td><td>10000</td><td>High Risk</td><td>1</td><td>0</td><td>0</td><td>Y</td></tr><tr><td>Dr.</td><td>30</td><td>4</td><td>1963</td><td>F</td><td>S</td><td>Secondary</td><td>10000</td><td>High Risk</td><td>1</td><td>0</td><td>0</td><td>Y</td></tr><tr><td>Miss</td><td>23</td><td>6</td><td>1939</td><td>M</td><td>M</td><td>4 yr Degree</td><td>500</td><td>Unknown</td><td>1</td><td>0</td><td>0</td><td>N</td></tr><tr><td>Miss</td><td>16</td><td>7</td><td>1989</td><td>F</td><td>U</td><td>4 yr Degree</td><td>500</td><td>Unknown</td><td>1</td><td>0</td><td>0</td><td>Y</td></tr><tr><td>Sir</td><td>6</td><td>3</td><td>1927</td><td>M</td><td>D</td><td>Primary</td><td>1000</td><td>Unknown</td><td>1</td><td>0</td><td>0</td><td>N</td></tr><tr><td>Mr.</td><td>1</td><td>9</td><td>1969</td><td>F</td><td>D</td><td>Secondary</td><td>1000</td><td>Unknown</td><td>1</td><td>0</td><td>0</td><td>Y</td></tr><tr><td>Mr.</td><td>27</td><td>12</td><td>1950</td><td>M</td><td>W</td><td>College</td><td>1000</td><td>Unknown</td><td>1</td><td>0</td><td>0</td><td>N</td></tr><tr><td>Dr.</td><td>13</td><td>6</td><td>1926</td><td>M</td><td>D</td><td>2 yr Degree</td><td>1000</td><td>Unknown</td><td>1</td><td>0</td><td>0</td><td>N</td></tr><tr><td>Sir</td><td>7</td><td>6</td><td>1929</td><td>M</td><td>M</td><td>Unknown</td><td>1000</td><td>Unknown</td><td>1</td><td>0</td><td>0</td><td>N</td></tr><tr><td>Dr.</td><td>3</td><td>8</td><td>1960</td><td>F</td><td>W</td><td>Secondary</td><td>1500</td><td>Unknown</td><td>1</td><td>0</td><td>0</td><td>Y</td></tr><tr><td>Mr.</td><td>18</td><td>3</td><td>1954</td><td>F</td><td>M</td><td>College</td><td>1500</td><td>Unknown</td><td>1</td><td>0</td><td>0</td><td>Y</td></tr><tr><td>Dr.</td><td>5</td><td>4</td><td>1981</td><td>F</td><td>U</td><td>4 yr Degree</td><td>1500</td><td>Unknown</td><td>1</td><td>0</td><td>0</td><td>N</td></tr><tr><td>Mr.</td><td>25</td><td>10</td><td>1992</td><td>M</td><td>S</td><td>Unknown</td><td>1500</td><td>Unknown</td><td>1</td><td>0</td><td>0</td><td>N</td></tr><tr><td>Dr.</td><td>30</td><td>6</td><td>1940</td><td>M</td><td>M</td><td>Secondary</td><td>2000</td><td>Unknown</td><td>1</td><td>0</td><td>0</td><td>N</td></tr><tr><td>Ms.</td><td>28</td><td>1</td><td>1982</td><td>M</td><td>U</td><td>Advanced Degree</td><td>2000</td><td>Unknown</td><td>1</td><td>0</td><td>0</td><td>N</td></tr><tr><td>Dr.</td><td>6</td><td>4</td><td>1988</td><td>F</td><td>U</td><td>Unknown</td><td>2000</td><td>Unknown</td><td>1</td><td>0</td><td>0</td><td>Y</td></tr><tr><td>Miss</td><td>23</td><td>10</td><td>1976</td><td>F</td><td>U</td><td>College</td><td>2500</td><td>Unknown</td><td>1</td><td>0</td><td>0</td><td>Y</td></tr><tr><td>Mr.</td><td>27</td><td>7</td><td>1931</td><td>F</td><td>S</td><td>2 yr Degree</td><td>2500</td><td>Unknown</td><td>1</td><td>0</td><td>0</td><td>N</td></tr><tr><td>Dr.</td><td>31</td><td>3</td><td>1948</td><td>M</td><td>U</td><td>Advanced Degree</td><td>2500</td><td>Unknown</td><td>1</td><td>0</td><td>0</td><td>Y</td></tr><tr><td>Dr.</td><td>19</td><td>2</td><td>1953</td><td>F</td><td>U</td><td>Advanced Degree</td><td>2500</td><td>Unknown</td><td>1</td><td>0</td><td>0</td><td>N</td></tr><tr><td>Mr.</td><td>9</td><td>11</td><td>1973</td><td>F</td><td>D</td><td>Primary</td><td>3000</td><td>Unknown</td><td>1</td><td>0</td><td>0</td><td>Y</td></tr><tr><td>Dr.</td><td>11</td><td>10</td><td>1970</td><td>F</td><td>D</td><td>College</td><td>3000</td><td>Unknown</td><td>1</td><td>0</td><td>0</td><td>N</td></tr><tr><td>Mrs.</td><td>17</td><td>3</td><td>1963</td><td>M</td><td>W</td><td>College</td><td>3500</td><td>Unknown</td><td>1</td><td>0</td><td>0</td><td>N</td></tr><tr><td>Mrs.</td><td>6</td><td>2</td><td>1932</td><td>F</td><td>D</td><td>4 yr Degree</td><td>3500</td><td>Unknown</td><td>1</td><td>0</td><td>0</td><td>N</td></tr><tr><td>Ms.</td><td>6</td><td>2</td><td>1926</td><td>F</td><td>U</td><td>Unknown</td><td>3500</td><td>Unknown</td><td>1</td><td>0</td><td>0</td><td>Y</td></tr><tr><td>Sir</td><td>3</td><td>8</td><td>1940</td><td>M</td><td>W</td><td>Primary</td><td>4000</td><td>Unknown</td><td>1</td><td>0</td><td>0</td><td>Y</td></tr><tr><td>Sir</td><td>17</td><td>2</td><td>1978</td><td>M</td><td>D</td><td>Secondary</td><td>4000</td><td>Unknown</td><td>1</td><td>0</td><td>0</td><td>Y</td></tr><tr><td>Dr.</td><td>8</td><td>8</td><td>1966</td><td>F</td><td>M</td><td>2 yr Degree</td><td>4000</td><td>Unknown</td><td>1</td><td>0</td><td>0</td><td>N</td></tr><tr><td>Mr.</td><td>1</td><td>10</td><td>1955</td><td>M</td><td>U</td><td>4 yr Degree</td><td>4000</td><td>Unknown</td><td>1</td><td>0</td><td>0</td><td>Y</td></tr><tr><td>Miss</td><td>4</td><td>1</td><td>1992</td><td>M</td><td>M</td><td>Advanced Degree</td><td>4000</td><td>Unknown</td><td>1</td><td>0</td><td>0</td><td>Y</td></tr><tr><td>Ms.</td><td>19</td><td>3</td><td>1958</td><td>F</td><td>U</td><td>Primary</td><td>4500</td><td>Unknown</td><td>1</td><td>0</td><td>0</td><td>Y</td></tr><tr><td>Mrs.</td><td>9</td><td>9</td><td>1945</td><td>M</td><td>S</td><td>College</td><td>4500</td><td>Unknown</td><td>1</td><td>0</td><td>0</td><td>Y</td></tr><tr><td>Dr.</td><td>19</td><td>1</td><td>1992</td><td>M</td><td>U</td><td>College</td><td>4500</td><td>Unknown</td><td>1</td><td>0</td><td>0</td><td>N</td></tr><tr><td>Miss</td><td>19</td><td>3</td><td>1971</td><td>F</td><td>D</td><td>Advanced Degree</td><td>4500</td><td>Unknown</td><td>1</td><td>0</td><td>0</td><td>N</td></tr><tr><td>Dr.</td><td>5</td><td>10</td><td>1950</td><td>M</td><td>W</td><td>Unknown</td><td>4500</td><td>Unknown</td><td>1</td><td>0</td><td>0</td><td>Y</td></tr><tr><td>Miss</td><td>null</td><td>null</td><td>null</td><td>F</td><td>S</td><td>Primary</td><td>5000</td><td>Unknown</td><td>1</td><td>0</td><td>0</td><td>Y</td></tr><tr><td>Ms.</td><td>13</td><td>2</td><td>1964</td><td>F</td><td>U</td><td>Primary</td><td>5000</td><td>Unknown</td><td>1</td><td>0</td><td>0</td><td>Y</td></tr><tr><td>Mrs.</td><td>4</td><td>9</td><td>1932</td><td>M</td><td>D</td><td>Secondary</td><td>5000</td><td>Unknown</td><td>1</td><td>0</td><td>0</td><td>Y</td></tr><tr><td>Dr.</td><td>2</td><td>7</td><td>1941</td><td>M</td><td>U</td><td>2 yr Degree</td><td>5000</td><td>Unknown</td><td>1</td><td>0</td><td>0</td><td>N</td></tr><tr><td>Mr.</td><td>8</td><td>11</td><td>1954</td><td>F</td><td>U</td><td>2 yr Degree</td><td>5000</td><td>Unknown</td><td>1</td><td>0</td><td>0</td><td>N</td></tr><tr><td>Mrs.</td><td>21</td><td>12</td><td>1946</td><td>M</td><td>S</td><td>4 yr Degree</td><td>5000</td><td>Unknown</td><td>1</td><td>0</td><td>0</td><td>N</td></tr><tr><td>Dr.</td><td>16</td><td>11</td><td>1979</td><td>M</td><td>W</td><td>4 yr Degree</td><td>5000</td><td>Unknown</td><td>1</td><td>0</td><td>0</td><td>Y</td></tr><tr><td>Ms.</td><td>22</td><td>8</td><td>1961</td><td>M</td><td>M</td><td>Advanced Degree</td><td>5000</td><td>Unknown</td><td>1</td><td>0</td><td>0</td><td>Y</td></tr><tr><td>Dr.</td><td>10</td><td>4</td><td>1972</td><td>F</td><td>S</td><td>Advanced Degree</td><td>5000</td><td>Unknown</td><td>1</td><td>0</td><td>0</td><td>Y</td></tr><tr><td>Mrs.</td><td>13</td><td>9</td><td>1965</td><td>F</td><td>U</td><td>Primary</td><td>5500</td><td>Unknown</td><td>1</td><td>0</td><td>0</td><td>N</td></tr><tr><td>Dr.</td><td>4</td><td>3</td><td>1942</td><td>M</td><td>S</td><td>2 yr Degree</td><td>5500</td><td>Unknown</td><td>1</td><td>0</td><td>0</td><td>Y</td></tr><tr><td>Sir</td><td>15</td><td>12</td><td>1970</td><td>F</td><td>U</td><td>2 yr Degree</td><td>5500</td><td>Unknown</td><td>1</td><td>0</td><td>0</td><td>N</td></tr><tr><td>Mrs.</td><td>17</td><td>8</td><td>1938</td><td>F</td><td>M</td><td>4 yr Degree</td><td>5500</td><td>Unknown</td><td>1</td><td>0</td><td>0</td><td>Y</td></tr><tr><td>Sir</td><td>13</td><td>8</td><td>1945</td><td>M</td><td>S</td><td>4 yr Degree</td><td>5500</td><td>Unknown</td><td>1</td><td>0</td><td>0</td><td>Y</td></tr><tr><td>Ms.</td><td>6</td><td>7</td><td>1928</td><td>F</td><td>S</td><td>Advanced Degree</td><td>5500</td><td>Unknown</td><td>1</td><td>0</td><td>0</td><td>Y</td></tr><tr><td>Dr.</td><td>23</td><td>10</td><td>1952</td><td>F</td><td>D</td><td>Advanced Degree</td><td>5500</td><td>Unknown</td><td>1</td><td>0</td><td>0</td><td>Y</td></tr><tr><td>Miss</td><td>25</td><td>7</td><td>1970</td><td>F</td><td>W</td><td>Primary</td><td>6000</td><td>Unknown</td><td>1</td><td>0</td><td>0</td><td>Y</td></tr><tr><td>Miss</td><td>26</td><td>2</td><td>1945</td><td>F</td><td>U</td><td>Primary</td><td>6000</td><td>Unknown</td><td>1</td><td>0</td><td>0</td><td>Y</td></tr><tr><td>Sir</td><td>22</td><td>7</td><td>1955</td><td>F</td><td>M</td><td>4 yr Degree</td><td>6000</td><td>Unknown</td><td>1</td><td>0</td><td>0</td><td>Y</td></tr><tr><td>Miss</td><td>21</td><td>4</td><td>1942</td><td>M</td><td>S</td><td>4 yr Degree</td><td>6000</td><td>Unknown</td><td>1</td><td>0</td><td>0</td><td>Y</td></tr><tr><td>Sir</td><td>6</td><td>9</td><td>1929</td><td>F</td><td>S</td><td>Advanced Degree</td><td>6000</td><td>Unknown</td><td>1</td><td>0</td><td>0</td><td>N</td></tr><tr><td>Dr.</td><td>27</td><td>11</td><td>1953</td><td>F</td><td>U</td><td>2 yr Degree</td><td>6500</td><td>Unknown</td><td>1</td><td>0</td><td>0</td><td>N</td></tr><tr><td>Miss</td><td>28</td><td>1</td><td>1985</td><td>M</td><td>W</td><td>2 yr Degree</td><td>7000</td><td>Unknown</td><td>1</td><td>0</td><td>0</td><td>N</td></tr><tr><td>Mr.</td><td>22</td><td>7</td><td>1933</td><td>F</td><td>U</td><td>Advanced Degree</td><td>7000</td><td>Unknown</td><td>1</td><td>0</td><td>0</td><td>N</td></tr><tr><td>Dr.</td><td>22</td><td>12</td><td>1927</td><td>F</td><td>D</td><td>Advanced Degree</td><td>7500</td><td>Unknown</td><td>1</td><td>0</td><td>0</td><td>N</td></tr><tr><td>Sir</td><td>1</td><td>2</td><td>1935</td><td>M</td><td>D</td><td>Advanced Degree</td><td>8000</td><td>Unknown</td><td>1</td><td>0</td><td>0</td><td>N</td></tr><tr><td>Dr.</td><td>14</td><td>2</td><td>1956</td><td>F</td><td>W</td><td>Unknown</td><td>8000</td><td>Unknown</td><td>1</td><td>0</td><td>0</td><td>N</td></tr><tr><td>Mr.</td><td>5</td><td>1</td><td>1945</td><td>M</td><td>W</td><td>Primary</td><td>8500</td><td>Unknown</td><td>1</td><td>0</td><td>0</td><td>N</td></tr><tr><td>Sir</td><td>20</td><td>8</td><td>1954</td><td>M</td><td>U</td><td>Primary</td><td>8500</td><td>Unknown</td><td>1</td><td>0</td><td>0</td><td>Y</td></tr><tr><td>Sir</td><td>30</td><td>9</td><td>1940</td><td>F</td><td>W</td><td>Advanced Degree</td><td>8500</td><td>Unknown</td><td>1</td><td>0</td><td>0</td><td>Y</td></tr><tr><td>Sir</td><td>1</td><td>6</td><td>1943</td><td>M</td><td>U</td><td>Advanced Degree</td><td>8500</td><td>Unknown</td><td>1</td><td>0</td><td>0</td><td>Y</td></tr><tr><td>Ms.</td><td>23</td><td>5</td><td>1932</td><td>M</td><td>M</td><td>Advanced Degree</td><td>9000</td><td>Unknown</td><td>1</td><td>0</td><td>0</td><td>N</td></tr><tr><td>Dr.</td><td>31</td><td>5</td><td>1957</td><td>F</td><td>M</td><td>Primary</td><td>500</td><td>Good</td><td>2</td><td>0</td><td>0</td><td>Y</td></tr><tr><td>Miss</td><td>31</td><td>12</td><td>1941</td><td>M</td><td>S</td><td>Secondary</td><td>500</td><td>Good</td><td>2</td><td>0</td><td>0</td><td>N</td></tr><tr><td>Dr.</td><td>14</td><td>9</td><td>1964</td><td>F</td><td>S</td><td>College</td><td>500</td><td>Good</td><td>2</td><td>0</td><td>0</td><td>Y</td></tr><tr><td>Dr.</td><td>20</td><td>8</td><td>1956</td><td>M</td><td>U</td><td>Unknown</td><td>500</td><td>Good</td><td>2</td><td>0</td><td>0</td><td>Y</td></tr><tr><td>Dr.</td><td>22</td><td>5</td><td>1967</td><td>M</td><td>M</td><td>Primary</td><td>1000</td><td>Good</td><td>2</td><td>0</td><td>0</td><td>N</td></tr><tr><td>Dr.</td><td>12</td><td>6</td><td>1973</td><td>M</td><td>M</td><td>College</td><td>1000</td><td>Good</td><td>2</td><td>0</td><td>0</td><td>N</td></tr><tr><td>Ms.</td><td>29</td><td>11</td><td>1986</td><td>F</td><td>M</td><td>College</td><td>1000</td><td>Good</td><td>2</td><td>0</td><td>0</td><td>Y</td></tr><tr><td>Ms.</td><td>8</td><td>4</td><td>1986</td><td>M</td><td>U</td><td>Primary</td><td>1500</td><td>Good</td><td>2</td><td>0</td><td>0</td><td>Y</td></tr><tr><td>null</td><td>18</td><td>2</td><td>null</td><td>M</td><td>D</td><td>4 yr Degree</td><td>1500</td><td>Good</td><td>2</td><td>0</td><td>0</td><td>N</td></tr><tr><td>Ms.</td><td>5</td><td>8</td><td>1958</td><td>M</td><td>D</td><td>Primary</td><td>2000</td><td>Good</td><td>2</td><td>0</td><td>0</td><td>N</td></tr><tr><td>Dr.</td><td>14</td><td>2</td><td>1924</td><td>M</td><td>D</td><td>2 yr Degree</td><td>2000</td><td>Good</td><td>2</td><td>0</td><td>0</td><td>N</td></tr><tr><td>Miss</td><td>8</td><td>9</td><td>1973</td><td>M</td><td>U</td><td>2 yr Degree</td><td>2000</td><td>Good</td><td>2</td><td>0</td><td>0</td><td>Y</td></tr><tr><td>Mr.</td><td>11</td><td>10</td><td>1941</td><td>F</td><td>U</td><td>2 yr Degree</td><td>2000</td><td>Good</td><td>2</td><td>0</td><td>0</td><td>Y</td></tr><tr><td>Ms.</td><td>7</td><td>2</td><td>1976</td><td>F</td><td>S</td><td>4 yr Degree</td><td>2000</td><td>Good</td><td>2</td><td>0</td><td>0</td><td>N</td></tr><tr><td>Mrs.</td><td>24</td><td>5</td><td>1968</td><td>F</td><td>U</td><td>4 yr Degree</td><td>2000</td><td>Good</td><td>2</td><td>0</td><td>0</td><td>N</td></tr><tr><td>Mrs.</td><td>6</td><td>4</td><td>1972</td><td>F</td><td>M</td><td>Advanced Degree</td><td>2000</td><td>Good</td><td>2</td><td>0</td><td>0</td><td>Y</td></tr><tr><td>Dr.</td><td>1</td><td>3</td><td>1934</td><td>F</td><td>U</td><td>Unknown</td><td>2000</td><td>Good</td><td>2</td><td>0</td><td>0</td><td>N</td></tr><tr><td>Sir</td><td>19</td><td>2</td><td>1931</td><td>M</td><td>U</td><td>Advanced Degree</td><td>2500</td><td>Good</td><td>2</td><td>0</td><td>0</td><td>Y</td></tr><tr><td>Sir</td><td>15</td><td>3</td><td>1955</td><td>M</td><td>S</td><td>Secondary</td><td>3000</td><td>Good</td><td>2</td><td>0</td><td>0</td><td>Y</td></tr><tr><td>Miss</td><td>17</td><td>8</td><td>1946</td><td>M</td><td>S</td><td>2 yr Degree</td><td>3000</td><td>Good</td><td>2</td><td>0</td><td>0</td><td>N</td></tr><tr><td>Mrs.</td><td>7</td><td>5</td><td>1965</td><td>F</td><td>D</td><td>2 yr Degree</td><td>3000</td><td>Good</td><td>2</td><td>0</td><td>0</td><td>N</td></tr><tr><td>Mrs.</td><td>16</td><td>12</td><td>1929</td><td>F</td><td>S</td><td>Advanced Degree</td><td>3000</td><td>Good</td><td>2</td><td>0</td><td>0</td><td>Y</td></tr><tr><td>Dr.</td><td>9</td><td>4</td><td>1966</td><td>F</td><td>W</td><td>Secondary</td><td>3500</td><td>Good</td><td>2</td><td>0</td><td>0</td><td>N</td></tr><tr><td>Miss</td><td>14</td><td>4</td><td>1951</td><td>F</td><td>W</td><td>4 yr Degree</td><td>3500</td><td>Good</td><td>2</td><td>0</td><td>0</td><td>Y</td></tr><tr><td>Dr.</td><td>23</td><td>1</td><td>1939</td><td>M</td><td>M</td><td>Unknown</td><td>3500</td><td>Good</td><td>2</td><td>0</td><td>0</td><td>Y</td></tr><tr><td>Sir</td><td>29</td><td>8</td><td>1971</td><td>M</td><td>D</td><td>Unknown</td><td>3500</td><td>Good</td><td>2</td><td>0</td><td>0</td><td>N</td></tr><tr><td>Sir</td><td>14</td><td>7</td><td>1949</td><td>F</td><td>U</td><td>College</td><td>4000</td><td>Good</td><td>2</td><td>0</td><td>0</td><td>N</td></tr><tr><td>Mr.</td><td>10</td><td>2</td><td>1962</td><td>F</td><td>M</td><td>4 yr Degree</td><td>4000</td><td>Good</td><td>2</td><td>0</td><td>0</td><td>Y</td></tr><tr><td>Dr.</td><td>3</td><td>2</td><td>1963</td><td>M</td><td>U</td><td>4 yr Degree</td><td>4000</td><td>Good</td><td>2</td><td>0</td><td>0</td><td>Y</td></tr><tr><td>Mr.</td><td>10</td><td>8</td><td>1953</td><td>M</td><td>U</td><td>4 yr Degree</td><td>4000</td><td>Good</td><td>2</td><td>0</td><td>0</td><td>N</td></tr><tr><td>Mr.</td><td>9</td><td>4</td><td>1946</td><td>F</td><td>D</td><td>Advanced Degree</td><td>4000</td><td>Good</td><td>2</td><td>0</td><td>0</td><td>N</td></tr><tr><td>Ms.</td><td>12</td><td>7</td><td>1974</td><td>M</td><td>M</td><td>College</td><td>4500</td><td>Good</td><td>2</td><td>0</td><td>0</td><td>N</td></tr><tr><td>Mr.</td><td>13</td><td>4</td><td>1950</td><td>M</td><td>M</td><td>2 yr Degree</td><td>4500</td><td>Good</td><td>2</td><td>0</td><td>0</td><td>N</td></tr><tr><td>Dr.</td><td>19</td><td>6</td><td>1934</td><td>M</td><td>D</td><td>Advanced Degree</td><td>4500</td><td>Good</td><td>2</td><td>0</td><td>0</td><td>Y</td></tr><tr><td>Mr.</td><td>3</td><td>4</td><td>1962</td><td>F</td><td>W</td><td>Primary</td><td>5000</td><td>Good</td><td>2</td><td>0</td><td>0</td><td>Y</td></tr><tr><td>Miss</td><td>13</td><td>4</td><td>1965</td><td>F</td><td>M</td><td>Secondary</td><td>5000</td><td>Good</td><td>2</td><td>0</td><td>0</td><td>Y</td></tr><tr><td>Mr.</td><td>9</td><td>9</td><td>1972</td><td>M</td><td>U</td><td>Secondary</td><td>5000</td><td>Good</td><td>2</td><td>0</td><td>0</td><td>Y</td></tr><tr><td>Ms.</td><td>7</td><td>12</td><td>1962</td><td>F</td><td>D</td><td>2 yr Degree</td><td>5500</td><td>Good</td><td>2</td><td>0</td><td>0</td><td>N</td></tr><tr><td>Mrs.</td><td>1</td><td>5</td><td>1985</td><td>M</td><td>W</td><td>4 yr Degree</td><td>5500</td><td>Good</td><td>2</td><td>0</td><td>0</td><td>N</td></tr><tr><td>Sir</td><td>26</td><td>9</td><td>1974</td><td>F</td><td>W</td><td>Advanced Degree</td><td>5500</td><td>Good</td><td>2</td><td>0</td><td>0</td><td>N</td></tr><tr><td>Mrs.</td><td>26</td><td>5</td><td>1989</td><td>M</td><td>U</td><td>2 yr Degree</td><td>6000</td><td>Good</td><td>2</td><td>0</td><td>0</td><td>N</td></tr><tr><td>Mr.</td><td>16</td><td>1</td><td>1981</td><td>F</td><td>U</td><td>2 yr Degree</td><td>6000</td><td>Good</td><td>2</td><td>0</td><td>0</td><td>N</td></tr><tr><td>Mrs.</td><td>30</td><td>6</td><td>1966</td><td>M</td><td>D</td><td>Unknown</td><td>6000</td><td>Good</td><td>2</td><td>0</td><td>0</td><td>Y</td></tr><tr><td>Ms.</td><td>25</td><td>4</td><td>1989</td><td>F</td><td>U</td><td>Secondary</td><td>6500</td><td>Good</td><td>2</td><td>0</td><td>0</td><td>Y</td></tr><tr><td>Dr.</td><td>21</td><td>5</td><td>1942</td><td>F</td><td>D</td><td>2 yr Degree</td><td>6500</td><td>Good</td><td>2</td><td>0</td><td>0</td><td>Y</td></tr><tr><td>Miss</td><td>3</td><td>2</td><td>1982</td><td>F</td><td>U</td><td>2 yr Degree</td><td>6500</td><td>Good</td><td>2</td><td>0</td><td>0</td><td>Y</td></tr><tr><td>Dr.</td><td>11</td><td>7</td><td>1955</td><td>M</td><td>D</td><td>Advanced Degree</td><td>6500</td><td>Good</td><td>2</td><td>0</td><td>0</td><td>N</td></tr><tr><td>Sir</td><td>4</td><td>6</td><td>1984</td><td>M</td><td>U</td><td>Secondary</td><td>7000</td><td>Good</td><td>2</td><td>0</td><td>0</td><td>N</td></tr><tr><td>Dr.</td><td>5</td><td>10</td><td>1967</td><td>F</td><td>S</td><td>Advanced Degree</td><td>7000</td><td>Good</td><td>2</td><td>0</td><td>0</td><td>Y</td></tr><tr><td>Ms.</td><td>7</td><td>4</td><td>1930</td><td>M</td><td>W</td><td>Advanced Degree</td><td>7000</td><td>Good</td><td>2</td><td>0</td><td>0</td><td>Y</td></tr><tr><td>Miss</td><td>3</td><td>7</td><td>1980</td><td>M</td><td>D</td><td>Advanced Degree</td><td>8000</td><td>Good</td><td>2</td><td>0</td><td>0</td><td>N</td></tr><tr><td>Mr.</td><td>26</td><td>11</td><td>1925</td><td>F</td><td>D</td><td>Advanced Degree</td><td>8000</td><td>Good</td><td>2</td><td>0</td><td>0</td><td>N</td></tr><tr><td>Dr.</td><td>21</td><td>8</td><td>1934</td><td>M</td><td>U</td><td>Unknown</td><td>8000</td><td>Good</td><td>2</td><td>0</td><td>0</td><td>Y</td></tr><tr><td>Mr.</td><td>14</td><td>7</td><td>1947</td><td>M</td><td>M</td><td>Primary</td><td>8500</td><td>Good</td><td>2</td><td>0</td><td>0</td><td>Y</td></tr><tr><td>Sir</td><td>22</td><td>7</td><td>1989</td><td>M</td><td>S</td><td>College</td><td>8500</td><td>Good</td><td>2</td><td>0</td><td>0</td><td>N</td></tr><tr><td>Mr.</td><td>20</td><td>12</td><td>1968</td><td>M</td><td>D</td><td>Unknown</td><td>8500</td><td>Good</td><td>2</td><td>0</td><td>0</td><td>Y</td></tr><tr><td>Ms.</td><td>16</td><td>7</td><td>1981</td><td>M</td><td>U</td><td>Primary</td><td>9000</td><td>Good</td><td>2</td><td>0</td><td>0</td><td>Y</td></tr><tr><td>Mrs.</td><td>12</td><td>2</td><td>1932</td><td>M</td><td>S</td><td>Secondary</td><td>9000</td><td>Good</td><td>2</td><td>0</td><td>0</td><td>N</td></tr><tr><td>Dr.</td><td>17</td><td>5</td><td>1943</td><td>M</td><td>U</td><td>Secondary</td><td>9000</td><td>Good</td><td>2</td><td>0</td><td>0</td><td>Y</td></tr><tr><td>Dr.</td><td>21</td><td>12</td><td>1936</td><td>M</td><td>S</td><td>2 yr Degree</td><td>9000</td><td>Good</td><td>2</td><td>0</td><td>0</td><td>N</td></tr><tr><td>Miss</td><td>4</td><td>4</td><td>1969</td><td>F</td><td>U</td><td>2 yr Degree</td><td>9000</td><td>Good</td><td>2</td><td>0</td><td>0</td><td>N</td></tr><tr><td>Mrs.</td><td>14</td><td>7</td><td>1978</td><td>M</td><td>W</td><td>Advanced Degree</td><td>9000</td><td>Good</td><td>2</td><td>0</td><td>0</td><td>Y</td></tr><tr><td>Mr.</td><td>31</td><td>8</td><td>1980</td><td>M</td><td>W</td><td>Secondary</td><td>9500</td><td>Good</td><td>2</td><td>0</td><td>0</td><td>Y</td></tr><tr><td>Mr.</td><td>29</td><td>9</td><td>1969</td><td>M</td><td>S</td><td>2 yr Degree</td><td>9500</td><td>Good</td><td>2</td><td>0</td><td>0</td><td>Y</td></tr><tr><td>Mrs.</td><td>22</td><td>1</td><td>1951</td><td>M</td><td>M</td><td>Advanced Degree</td><td>10000</td><td>Good</td><td>2</td><td>0</td><td>0</td><td>N</td></tr><tr><td>Ms.</td><td>10</td><td>12</td><td>1938</td><td>F</td><td>M</td><td>Advanced Degree</td><td>10000</td><td>Good</td><td>2</td><td>0</td><td>0</td><td>N</td></tr><tr><td>Miss</td><td>31</td><td>1</td><td>1940</td><td>M</td><td>S</td><td>Unknown</td><td>10000</td><td>Good</td><td>2</td><td>0</td><td>0</td><td>Y</td></tr><tr><td>Mr.</td><td>8</td><td>11</td><td>1963</td><td>M</td><td>S</td><td>4 yr Degree</td><td>500</td><td>Low Risk</td><td>2</td><td>0</td><td>0</td><td>N</td></tr><tr><td>Miss</td><td>14</td><td>3</td><td>1966</td><td>F</td><td>W</td><td>4 yr Degree</td><td>500</td><td>Low Risk</td><td>2</td><td>0</td><td>0</td><td>Y</td></tr><tr><td>Mr.</td><td>14</td><td>9</td><td>1944</td><td>F</td><td>U</td><td>4 yr Degree</td><td>500</td><td>Low Risk</td><td>2</td><td>0</td><td>0</td><td>Y</td></tr><tr><td>Ms.</td><td>1</td><td>11</td><td>1983</td><td>F</td><td>S</td><td>Unknown</td><td>500</td><td>Low Risk</td><td>2</td><td>0</td><td>0</td><td>Y</td></tr><tr><td>Sir</td><td>2</td><td>4</td><td>1977</td><td>F</td><td>U</td><td>Unknown</td><td>500</td><td>Low Risk</td><td>2</td><td>0</td><td>0</td><td>Y</td></tr><tr><td>Dr.</td><td>9</td><td>8</td><td>1939</td><td>M</td><td>U</td><td>Secondary</td><td>1000</td><td>Low Risk</td><td>2</td><td>0</td><td>0</td><td>Y</td></tr><tr><td>Dr.</td><td>6</td><td>4</td><td>1976</td><td>M</td><td>S</td><td>College</td><td>1000</td><td>Low Risk</td><td>2</td><td>0</td><td>0</td><td>Y</td></tr><tr><td>Ms.</td><td>18</td><td>7</td><td>1937</td><td>F</td><td>W</td><td>2 yr Degree</td><td>1000</td><td>Low Risk</td><td>2</td><td>0</td><td>0</td><td>Y</td></tr><tr><td>Dr.</td><td>7</td><td>6</td><td>1976</td><td>F</td><td>U</td><td>2 yr Degree</td><td>1000</td><td>Low Risk</td><td>2</td><td>0</td><td>0</td><td>Y</td></tr><tr><td>Mr.</td><td>28</td><td>7</td><td>1958</td><td>M</td><td>S</td><td>Advanced Degree</td><td>1000</td><td>Low Risk</td><td>2</td><td>0</td><td>0</td><td>N</td></tr><tr><td>Mr.</td><td>31</td><td>3</td><td>1981</td><td>F</td><td>M</td><td>Unknown</td><td>1000</td><td>Low Risk</td><td>2</td><td>0</td><td>0</td><td>Y</td></tr><tr><td>Ms.</td><td>5</td><td>2</td><td>1943</td><td>M</td><td>S</td><td>Secondary</td><td>1500</td><td>Low Risk</td><td>2</td><td>0</td><td>0</td><td>N</td></tr><tr><td>Dr.</td><td>27</td><td>11</td><td>1988</td><td>F</td><td>D</td><td>2 yr Degree</td><td>1500</td><td>Low Risk</td><td>2</td><td>0</td><td>0</td><td>Y</td></tr><tr><td>Sir</td><td>5</td><td>11</td><td>1992</td><td>F</td><td>D</td><td>Unknown</td><td>1500</td><td>Low Risk</td><td>2</td><td>0</td><td>0</td><td>N</td></tr><tr><td>Miss</td><td>9</td><td>10</td><td>1991</td><td>F</td><td>S</td><td>Secondary</td><td>2000</td><td>Low Risk</td><td>2</td><td>0</td><td>0</td><td>N</td></tr><tr><td>Mrs.</td><td>22</td><td>12</td><td>1943</td><td>F</td><td>S</td><td>College</td><td>2000</td><td>Low Risk</td><td>2</td><td>0</td><td>0</td><td>N</td></tr><tr><td>Dr.</td><td>27</td><td>1</td><td>1926</td><td>F</td><td>W</td><td>Primary</td><td>2500</td><td>Low Risk</td><td>2</td><td>0</td><td>0</td><td>Y</td></tr><tr><td>Ms.</td><td>24</td><td>1</td><td>1985</td><td>F</td><td>D</td><td>Secondary</td><td>2500</td><td>Low Risk</td><td>2</td><td>0</td><td>0</td><td>N</td></tr><tr><td>Dr.</td><td>4</td><td>7</td><td>1936</td><td>F</td><td>S</td><td>2 yr Degree</td><td>2500</td><td>Low Risk</td><td>2</td><td>0</td><td>0</td><td>N</td></tr><tr><td>Sir</td><td>6</td><td>3</td><td>1927</td><td>M</td><td>U</td><td>Unknown</td><td>2500</td><td>Low Risk</td><td>2</td><td>0</td><td>0</td><td>Y</td></tr><tr><td>Dr.</td><td>20</td><td>12</td><td>1969</td><td>M</td><td>D</td><td>4 yr Degree</td><td>3000</td><td>Low Risk</td><td>2</td><td>0</td><td>0</td><td>Y</td></tr><tr><td>Sir</td><td>1</td><td>6</td><td>1959</td><td>M</td><td>U</td><td>4 yr Degree</td><td>3000</td><td>Low Risk</td><td>2</td><td>0</td><td>0</td><td>Y</td></tr><tr><td>Dr.</td><td>22</td><td>1</td><td>1930</td><td>F</td><td>U</td><td>4 yr Degree</td><td>3000</td><td>Low Risk</td><td>2</td><td>0</td><td>0</td><td>Y</td></tr><tr><td>Dr.</td><td>3</td><td>12</td><td>1941</td><td>F</td><td>M</td><td>Unknown</td><td>3000</td><td>Low Risk</td><td>2</td><td>0</td><td>0</td><td>N</td></tr><tr><td>Ms.</td><td>18</td><td>10</td><td>1982</td><td>F</td><td>U</td><td>Primary</td><td>3500</td><td>Low Risk</td><td>2</td><td>0</td><td>0</td><td>Y</td></tr><tr><td>Mrs.</td><td>31</td><td>12</td><td>1929</td><td>M</td><td>S</td><td>2 yr Degree</td><td>3500</td><td>Low Risk</td><td>2</td><td>0</td><td>0</td><td>N</td></tr><tr><td>Sir</td><td>23</td><td>2</td><td>1969</td><td>F</td><td>S</td><td>Unknown</td><td>3500</td><td>Low Risk</td><td>2</td><td>0</td><td>0</td><td>Y</td></tr><tr><td>Sir</td><td>29</td><td>4</td><td>1986</td><td>M</td><td>M</td><td>Secondary</td><td>4000</td><td>Low Risk</td><td>2</td><td>0</td><td>0</td><td>N</td></tr><tr><td>Sir</td><td>28</td><td>3</td><td>1980</td><td>M</td><td>W</td><td>Secondary</td><td>4000</td><td>Low Risk</td><td>2</td><td>0</td><td>0</td><td>N</td></tr><tr><td>Dr.</td><td>8</td><td>3</td><td>1926</td><td>F</td><td>M</td><td>College</td><td>4000</td><td>Low Risk</td><td>2</td><td>0</td><td>0</td><td>N</td></tr><tr><td>Dr.</td><td>30</td><td>12</td><td>1928</td><td>M</td><td>M</td><td>Advanced Degree</td><td>4000</td><td>Low Risk</td><td>2</td><td>0</td><td>0</td><td>Y</td></tr><tr><td>Sir</td><td>26</td><td>9</td><td>1981</td><td>M</td><td>S</td><td>Advanced Degree</td><td>4000</td><td>Low Risk</td><td>2</td><td>0</td><td>0</td><td>N</td></tr><tr><td>Sir</td><td>15</td><td>11</td><td>1958</td><td>M</td><td>S</td><td>College</td><td>4500</td><td>Low Risk</td><td>2</td><td>0</td><td>0</td><td>Y</td></tr><tr><td>Miss</td><td>26</td><td>9</td><td>1940</td><td>F</td><td>U</td><td>College</td><td>4500</td><td>Low Risk</td><td>2</td><td>0</td><td>0</td><td>Y</td></tr><tr><td>Miss</td><td>7</td><td>7</td><td>1974</td><td>M</td><td>D</td><td>4 yr Degree</td><td>4500</td><td>Low Risk</td><td>2</td><td>0</td><td>0</td><td>N</td></tr><tr><td>Dr.</td><td>27</td><td>7</td><td>1986</td><td>M</td><td>S</td><td>Unknown</td><td>4500</td><td>Low Risk</td><td>2</td><td>0</td><td>0</td><td>N</td></tr><tr><td>Miss</td><td>2</td><td>6</td><td>1933</td><td>M</td><td>D</td><td>Primary</td><td>5000</td><td>Low Risk</td><td>2</td><td>0</td><td>0</td><td>Y</td></tr><tr><td>Sir</td><td>16</td><td>6</td><td>1974</td><td>M</td><td>M</td><td>College</td><td>5000</td><td>Low Risk</td><td>2</td><td>0</td><td>0</td><td>N</td></tr><tr><td>Sir</td><td>8</td><td>9</td><td>1941</td><td>F</td><td>W</td><td>College</td><td>5000</td><td>Low Risk</td><td>2</td><td>0</td><td>0</td><td>Y</td></tr><tr><td>Sir</td><td>27</td><td>1</td><td>1943</td><td>M</td><td>S</td><td>4 yr Degree</td><td>5000</td><td>Low Risk</td><td>2</td><td>0</td><td>0</td><td>N</td></tr><tr><td>Dr.</td><td>27</td><td>8</td><td>1925</td><td>M</td><td>W</td><td>Advanced Degree</td><td>5000</td><td>Low Risk</td><td>2</td><td>0</td><td>0</td><td>Y</td></tr><tr><td>Miss</td><td>17</td><td>9</td><td>1929</td><td>M</td><td>S</td><td>4 yr Degree</td><td>5500</td><td>Low Risk</td><td>2</td><td>0</td><td>0</td><td>N</td></tr><tr><td>Dr.</td><td>24</td><td>8</td><td>1924</td><td>F</td><td>W</td><td>4 yr Degree</td><td>5500</td><td>Low Risk</td><td>2</td><td>0</td><td>0</td><td>Y</td></tr><tr><td>Dr.</td><td>23</td><td>4</td><td>1991</td><td>F</td><td>U</td><td>Unknown</td><td>5500</td><td>Low Risk</td><td>2</td><td>0</td><td>0</td><td>N</td></tr><tr><td>Mrs.</td><td>26</td><td>10</td><td>1990</td><td>M</td><td>W</td><td>Primary</td><td>6000</td><td>Low Risk</td><td>2</td><td>0</td><td>0</td><td>N</td></tr><tr><td>Mr.</td><td>2</td><td>11</td><td>1937</td><td>M</td><td>U</td><td>College</td><td>6000</td><td>Low Risk</td><td>2</td><td>0</td><td>0</td><td>Y</td></tr><tr><td>Mr.</td><td>7</td><td>11</td><td>1926</td><td>F</td><td>D</td><td>2 yr Degree</td><td>6000</td><td>Low Risk</td><td>2</td><td>0</td><td>0</td><td>N</td></tr><tr><td>Ms.</td><td>12</td><td>9</td><td>1940</td><td>F</td><td>U</td><td>4 yr Degree</td><td>6000</td><td>Low Risk</td><td>2</td><td>0</td><td>0</td><td>N</td></tr><tr><td>Mr.</td><td>21</td><td>10</td><td>1977</td><td>M</td><td>M</td><td>4 yr Degree</td><td>6500</td><td>Low Risk</td><td>2</td><td>0</td><td>0</td><td>Y</td></tr><tr><td>Miss</td><td>7</td><td>8</td><td>1971</td><td>M</td><td>D</td><td>Advanced Degree</td><td>6500</td><td>Low Risk</td><td>2</td><td>0</td><td>0</td><td>N</td></tr><tr><td>Sir</td><td>14</td><td>3</td><td>1928</td><td>F</td><td>W</td><td>Advanced Degree</td><td>6500</td><td>Low Risk</td><td>2</td><td>0</td><td>0</td><td>N</td></tr><tr><td>Ms.</td><td>11</td><td>12</td><td>1983</td><td>F</td><td>W</td><td>Unknown</td><td>6500</td><td>Low Risk</td><td>2</td><td>0</td><td>0</td><td>N</td></tr><tr><td>Mr.</td><td>23</td><td>5</td><td>1975</td><td>M</td><td>W</td><td>Primary</td><td>7000</td><td>Low Risk</td><td>2</td><td>0</td><td>0</td><td>N</td></tr><tr><td>Dr.</td><td>25</td><td>9</td><td>1964</td><td>F</td><td>D</td><td>Secondary</td><td>7000</td><td>Low Risk</td><td>2</td><td>0</td><td>0</td><td>Y</td></tr><tr><td>Mr.</td><td>13</td><td>4</td><td>1926</td><td>M</td><td>D</td><td>Unknown</td><td>7000</td><td>Low Risk</td><td>2</td><td>0</td><td>0</td><td>N</td></tr><tr><td>Mr.</td><td>6</td><td>10</td><td>1945</td><td>M</td><td>S</td><td>Primary</td><td>7500</td><td>Low Risk</td><td>2</td><td>0</td><td>0</td><td>Y</td></tr><tr><td>Sir</td><td>17</td><td>7</td><td>1936</td><td>F</td><td>U</td><td>Primary</td><td>7500</td><td>Low Risk</td><td>2</td><td>0</td><td>0</td><td>Y</td></tr><tr><td>Mrs.</td><td>24</td><td>2</td><td>1928</td><td>M</td><td>M</td><td>Secondary</td><td>7500</td><td>Low Risk</td><td>2</td><td>0</td><td>0</td><td>N</td></tr><tr><td>Dr.</td><td>20</td><td>3</td><td>1950</td><td>F</td><td>M</td><td>College</td><td>7500</td><td>Low Risk</td><td>2</td><td>0</td><td>0</td><td>N</td></tr><tr><td>Miss</td><td>11</td><td>7</td><td>1973</td><td>M</td><td>U</td><td>Advanced Degree</td><td>7500</td><td>Low Risk</td><td>2</td><td>0</td><td>0</td><td>Y</td></tr><tr><td>Dr.</td><td>30</td><td>11</td><td>1978</td><td>F</td><td>D</td><td>Secondary</td><td>8000</td><td>Low Risk</td><td>2</td><td>0</td><td>0</td><td>Y</td></tr><tr><td>Dr.</td><td>4</td><td>6</td><td>1949</td><td>M</td><td>M</td><td>College</td><td>8000</td><td>Low Risk</td><td>2</td><td>0</td><td>0</td><td>N</td></tr><tr><td>Mr.</td><td>20</td><td>7</td><td>1984</td><td>M</td><td>D</td><td>4 yr Degree</td><td>8000</td><td>Low Risk</td><td>2</td><td>0</td><td>0</td><td>N</td></tr><tr><td>Dr.</td><td>19</td><td>5</td><td>1959</td><td>F</td><td>M</td><td>Advanced Degree</td><td>8000</td><td>Low Risk</td><td>2</td><td>0</td><td>0</td><td>Y</td></tr><tr><td>Miss</td><td>12</td><td>12</td><td>1950</td><td>F</td><td>U</td><td>Advanced Degree</td><td>8000</td><td>Low Risk</td><td>2</td><td>0</td><td>0</td><td>Y</td></tr><tr><td>Ms.</td><td>1</td><td>4</td><td>1980</td><td>F</td><td>W</td><td>Unknown</td><td>8000</td><td>Low Risk</td><td>2</td><td>0</td><td>0</td><td>N</td></tr><tr><td>Mr.</td><td>22</td><td>9</td><td>1986</td><td>M</td><td>M</td><td>Secondary</td><td>8500</td><td>Low Risk</td><td>2</td><td>0</td><td>0</td><td>Y</td></tr><tr><td>Dr.</td><td>22</td><td>9</td><td>1974</td><td>M</td><td>M</td><td>Secondary</td><td>8500</td><td>Low Risk</td><td>2</td><td>0</td><td>0</td><td>Y</td></tr><tr><td>Dr.</td><td>14</td><td>12</td><td>1979</td><td>F</td><td>M</td><td>Secondary</td><td>8500</td><td>Low Risk</td><td>2</td><td>0</td><td>0</td><td>Y</td></tr><tr><td>Mrs.</td><td>26</td><td>2</td><td>1991</td><td>F</td><td>S</td><td>2 yr Degree</td><td>8500</td><td>Low Risk</td><td>2</td><td>0</td><td>0</td><td>Y</td></tr><tr><td>Sir</td><td>7</td><td>5</td><td>1989</td><td>F</td><td>W</td><td>4 yr Degree</td><td>8500</td><td>Low Risk</td><td>2</td><td>0</td><td>0</td><td>Y</td></tr><tr><td>Mr.</td><td>4</td><td>12</td><td>1932</td><td>M</td><td>S</td><td>Advanced Degree</td><td>8500</td><td>Low Risk</td><td>2</td><td>0</td><td>0</td><td>N</td></tr><tr><td>Mrs.</td><td>30</td><td>6</td><td>1959</td><td>F</td><td>W</td><td>Advanced Degree</td><td>8500</td><td>Low Risk</td><td>2</td><td>0</td><td>0</td><td>Y</td></tr><tr><td>Mrs.</td><td>20</td><td>3</td><td>1928</td><td>F</td><td>M</td><td>Secondary</td><td>9000</td><td>Low Risk</td><td>2</td><td>0</td><td>0</td><td>Y</td></tr><tr><td>Dr.</td><td>8</td><td>10</td><td>1990</td><td>F</td><td>M</td><td>College</td><td>9000</td><td>Low Risk</td><td>2</td><td>0</td><td>0</td><td>N</td></tr><tr><td>Dr.</td><td>15</td><td>2</td><td>1966</td><td>M</td><td>S</td><td>4 yr Degree</td><td>9000</td><td>Low Risk</td><td>2</td><td>0</td><td>0</td><td>Y</td></tr><tr><td>Ms.</td><td>5</td><td>6</td><td>1950</td><td>M</td><td>D</td><td>Unknown</td><td>9000</td><td>Low Risk</td><td>2</td><td>0</td><td>0</td><td>Y</td></tr><tr><td>Mr.</td><td>11</td><td>3</td><td>1984</td><td>F</td><td>D</td><td>Primary</td><td>9500</td><td>Low Risk</td><td>2</td><td>0</td><td>0</td><td>N</td></tr><tr><td>Sir</td><td>30</td><td>9</td><td>1975</td><td>M</td><td>U</td><td>Primary</td><td>10000</td><td>Low Risk</td><td>2</td><td>0</td><td>0</td><td>Y</td></tr><tr><td>Dr.</td><td>21</td><td>5</td><td>1930</td><td>M</td><td>W</td><td>College</td><td>10000</td><td>Low Risk</td><td>2</td><td>0</td><td>0</td><td>Y</td></tr><tr><td>Dr.</td><td>7</td><td>6</td><td>1941</td><td>M</td><td>M</td><td>Advanced Degree</td><td>10000</td><td>Low Risk</td><td>2</td><td>0</td><td>0</td><td>N</td></tr><tr><td>Sir</td><td>12</td><td>9</td><td>1928</td><td>M</td><td>M</td><td>Unknown</td><td>10000</td><td>Low Risk</td><td>2</td><td>0</td><td>0</td><td>N</td></tr><tr><td>Mr.</td><td>15</td><td>7</td><td>1987</td><td>F</td><td>M</td><td>Unknown</td><td>10000</td><td>Low Risk</td><td>2</td><td>0</td><td>0</td><td>N</td></tr><tr><td>Mr.</td><td>23</td><td>8</td><td>1977</td><td>M</td><td>M</td><td>4 yr Degree</td><td>500</td><td>High Risk</td><td>2</td><td>0</td><td>0</td><td>N</td></tr><tr><td>Ms.</td><td>2</td><td>7</td><td>1945</td><td>M</td><td>S</td><td>4 yr Degree</td><td>500</td><td>High Risk</td><td>2</td><td>0</td><td>0</td><td>N</td></tr><tr><td>Mr.</td><td>10</td><td>1</td><td>1942</td><td>F</td><td>D</td><td>Unknown</td><td>500</td><td>High Risk</td><td>2</td><td>0</td><td>0</td><td>Y</td></tr><tr><td>Sir</td><td>12</td><td>5</td><td>1978</td><td>F</td><td>W</td><td>Unknown</td><td>500</td><td>High Risk</td><td>2</td><td>0</td><td>0</td><td>N</td></tr><tr><td>Mr.</td><td>2</td><td>10</td><td>1963</td><td>F</td><td>U</td><td>Unknown</td><td>500</td><td>High Risk</td><td>2</td><td>0</td><td>0</td><td>Y</td></tr><tr><td>Sir</td><td>31</td><td>3</td><td>1974</td><td>F</td><td>W</td><td>Primary</td><td>1000</td><td>High Risk</td><td>2</td><td>0</td><td>0</td><td>N</td></tr><tr><td>Dr.</td><td>14</td><td>12</td><td>1940</td><td>F</td><td>W</td><td>College</td><td>1000</td><td>High Risk</td><td>2</td><td>0</td><td>0</td><td>N</td></tr><tr><td>Ms.</td><td>27</td><td>11</td><td>1971</td><td>M</td><td>M</td><td>Advanced Degree</td><td>1000</td><td>High Risk</td><td>2</td><td>0</td><td>0</td><td>N</td></tr><tr><td>Sir</td><td>18</td><td>11</td><td>1971</td><td>M</td><td>U</td><td>Unknown</td><td>1000</td><td>High Risk</td><td>2</td><td>0</td><td>0</td><td>N</td></tr><tr><td>Miss</td><td>21</td><td>2</td><td>1990</td><td>F</td><td>M</td><td>2 yr Degree</td><td>1500</td><td>High Risk</td><td>2</td><td>0</td><td>0</td><td>Y</td></tr><tr><td>Dr.</td><td>27</td><td>9</td><td>1986</td><td>F</td><td>M</td><td>4 yr Degree</td><td>1500</td><td>High Risk</td><td>2</td><td>0</td><td>0</td><td>Y</td></tr><tr><td>Dr.</td><td>27</td><td>2</td><td>1984</td><td>M</td><td>S</td><td>Advanced Degree</td><td>1500</td><td>High Risk</td><td>2</td><td>0</td><td>0</td><td>Y</td></tr><tr><td>Dr.</td><td>8</td><td>2</td><td>1986</td><td>F</td><td>W</td><td>Unknown</td><td>1500</td><td>High Risk</td><td>2</td><td>0</td><td>0</td><td>Y</td></tr><tr><td>Miss</td><td>14</td><td>11</td><td>1990</td><td>F</td><td>D</td><td>2 yr Degree</td><td>2000</td><td>High Risk</td><td>2</td><td>0</td><td>0</td><td>Y</td></tr><tr><td>Mr.</td><td>26</td><td>null</td><td>1982</td><td>M</td><td>M</td><td>4 yr Degree</td><td>2500</td><td>High Risk</td><td>2</td><td>0</td><td>0</td><td>Y</td></tr><tr><td>Dr.</td><td>23</td><td>2</td><td>1954</td><td>F</td><td>U</td><td>4 yr Degree</td><td>2500</td><td>High Risk</td><td>2</td><td>0</td><td>0</td><td>N</td></tr><tr><td>Mrs.</td><td>7</td><td>11</td><td>1952</td><td>M</td><td>W</td><td>Unknown</td><td>2500</td><td>High Risk</td><td>2</td><td>0</td><td>0</td><td>Y</td></tr><tr><td>Mr.</td><td>23</td><td>1</td><td>1983</td><td>M</td><td>M</td><td>Secondary</td><td>3000</td><td>High Risk</td><td>2</td><td>0</td><td>0</td><td>N</td></tr><tr><td>Ms.</td><td>8</td><td>3</td><td>1962</td><td>M</td><td>D</td><td>College</td><td>3000</td><td>High Risk</td><td>2</td><td>0</td><td>0</td><td>Y</td></tr><tr><td>Sir</td><td>22</td><td>7</td><td>1980</td><td>F</td><td>D</td><td>2 yr Degree</td><td>3000</td><td>High Risk</td><td>2</td><td>0</td><td>0</td><td>Y</td></tr><tr><td>Miss</td><td>16</td><td>1</td><td>1981</td><td>F</td><td>D</td><td>2 yr Degree</td><td>3000</td><td>High Risk</td><td>2</td><td>0</td><td>0</td><td>N</td></tr><tr><td>Miss</td><td>13</td><td>4</td><td>1939</td><td>F</td><td>S</td><td>4 yr Degree</td><td>3000</td><td>High Risk</td><td>2</td><td>0</td><td>0</td><td>N</td></tr><tr><td>Miss</td><td>8</td><td>1</td><td>1924</td><td>F</td><td>W</td><td>4 yr Degree</td><td>3000</td><td>High Risk</td><td>2</td><td>0</td><td>0</td><td>N</td></tr><tr><td>Dr.</td><td>9</td><td>12</td><td>1984</td><td>M</td><td>D</td><td>Primary</td><td>3500</td><td>High Risk</td><td>2</td><td>0</td><td>0</td><td>Y</td></tr><tr><td>Sir</td><td>16</td><td>9</td><td>1931</td><td>F</td><td>U</td><td>Primary</td><td>3500</td><td>High Risk</td><td>2</td><td>0</td><td>0</td><td>N</td></tr><tr><td>Mrs.</td><td>10</td><td>12</td><td>1958</td><td>M</td><td>U</td><td>Secondary</td><td>3500</td><td>High Risk</td><td>2</td><td>0</td><td>0</td><td>N</td></tr><tr><td>Dr.</td><td>15</td><td>7</td><td>1951</td><td>F</td><td>W</td><td>2 yr Degree</td><td>3500</td><td>High Risk</td><td>2</td><td>0</td><td>0</td><td>N</td></tr><tr><td>Dr.</td><td>20</td><td>6</td><td>1967</td><td>F</td><td>D</td><td>Advanced Degree</td><td>3500</td><td>High Risk</td><td>2</td><td>0</td><td>0</td><td>Y</td></tr><tr><td>Ms.</td><td>4</td><td>8</td><td>1956</td><td>M</td><td>S</td><td>Unknown</td><td>3500</td><td>High Risk</td><td>2</td><td>0</td><td>0</td><td>N</td></tr><tr><td>Dr.</td><td>19</td><td>7</td><td>1971</td><td>M</td><td>M</td><td>Secondary</td><td>4000</td><td>High Risk</td><td>2</td><td>0</td><td>0</td><td>Y</td></tr><tr><td>Sir</td><td>28</td><td>4</td><td>1978</td><td>F</td><td>W</td><td>2 yr Degree</td><td>4000</td><td>High Risk</td><td>2</td><td>0</td><td>0</td><td>Y</td></tr><tr><td>Dr.</td><td>13</td><td>9</td><td>1939</td><td>F</td><td>U</td><td>Unknown</td><td>4000</td><td>High Risk</td><td>2</td><td>0</td><td>0</td><td>N</td></tr><tr><td>Mr.</td><td>13</td><td>3</td><td>1945</td><td>F</td><td>U</td><td>Secondary</td><td>4500</td><td>High Risk</td><td>2</td><td>0</td><td>0</td><td>Y</td></tr><tr><td>Ms.</td><td>7</td><td>11</td><td>1954</td><td>F</td><td>U</td><td>College</td><td>4500</td><td>High Risk</td><td>2</td><td>0</td><td>0</td><td>N</td></tr><tr><td>Miss</td><td>28</td><td>12</td><td>1955</td><td>F</td><td>D</td><td>Advanced Degree</td><td>4500</td><td>High Risk</td><td>2</td><td>0</td><td>0</td><td>N</td></tr><tr><td>Mr.</td><td>5</td><td>9</td><td>1959</td><td>F</td><td>U</td><td>Unknown</td><td>4500</td><td>High Risk</td><td>2</td><td>0</td><td>0</td><td>Y</td></tr><tr><td>Dr.</td><td>25</td><td>8</td><td>1953</td><td>F</td><td>M</td><td>College</td><td>5000</td><td>High Risk</td><td>2</td><td>0</td><td>0</td><td>N</td></tr><tr><td>Dr.</td><td>1</td><td>11</td><td>1937</td><td>F</td><td>M</td><td>Advanced Degree</td><td>5000</td><td>High Risk</td><td>2</td><td>0</td><td>0</td><td>N</td></tr><tr><td>Mr.</td><td>10</td><td>6</td><td>1979</td><td>M</td><td>M</td><td>Unknown</td><td>5000</td><td>High Risk</td><td>2</td><td>0</td><td>0</td><td>N</td></tr><tr><td>Dr.</td><td>9</td><td>12</td><td>1972</td><td>F</td><td>D</td><td>Unknown</td><td>5000</td><td>High Risk</td><td>2</td><td>0</td><td>0</td><td>Y</td></tr><tr><td>null</td><td>null</td><td>10</td><td>1961</td><td>M</td><td>U</td><td>College</td><td>5500</td><td>High Risk</td><td>2</td><td>0</td><td>0</td><td>Y</td></tr><tr><td>Ms.</td><td>11</td><td>7</td><td>1942</td><td>M</td><td>M</td><td>4 yr Degree</td><td>5500</td><td>High Risk</td><td>2</td><td>0</td><td>0</td><td>N</td></tr><tr><td>Mrs.</td><td>18</td><td>8</td><td>1948</td><td>M</td><td>S</td><td>Primary</td><td>6000</td><td>High Risk</td><td>2</td><td>0</td><td>0</td><td>N</td></tr><tr><td>Mrs.</td><td>3</td><td>2</td><td>1986</td><td>F</td><td>D</td><td>Primary</td><td>6000</td><td>High Risk</td><td>2</td><td>0</td><td>0</td><td>N</td></tr><tr><td>Miss</td><td>14</td><td>8</td><td>1953</td><td>M</td><td>W</td><td>College</td><td>6000</td><td>High Risk</td><td>2</td><td>0</td><td>0</td><td>Y</td></tr><tr><td>Mrs.</td><td>18</td><td>5</td><td>1974</td><td>F</td><td>D</td><td>2 yr Degree</td><td>6000</td><td>High Risk</td><td>2</td><td>0</td><td>0</td><td>N</td></tr><tr><td>Dr.</td><td>26</td><td>9</td><td>1935</td><td>M</td><td>S</td><td>4 yr Degree</td><td>6500</td><td>High Risk</td><td>2</td><td>0</td><td>0</td><td>Y</td></tr><tr><td>Miss</td><td>20</td><td>7</td><td>1981</td><td>F</td><td>M</td><td>Advanced Degree</td><td>6500</td><td>High Risk</td><td>2</td><td>0</td><td>0</td><td>Y</td></tr><tr><td>Miss</td><td>18</td><td>1</td><td>1937</td><td>F</td><td>D</td><td>Secondary</td><td>7000</td><td>High Risk</td><td>2</td><td>0</td><td>0</td><td>N</td></tr><tr><td>Mr.</td><td>28</td><td>10</td><td>1949</td><td>F</td><td>U</td><td>2 yr Degree</td><td>7000</td><td>High Risk</td><td>2</td><td>0</td><td>0</td><td>Y</td></tr><tr><td>Ms.</td><td>5</td><td>7</td><td>1939</td><td>M</td><td>M</td><td>4 yr Degree</td><td>7000</td><td>High Risk</td><td>2</td><td>0</td><td>0</td><td>N</td></tr><tr><td>Miss</td><td>23</td><td>2</td><td>1943</td><td>F</td><td>W</td><td>Primary</td><td>7500</td><td>High Risk</td><td>2</td><td>0</td><td>0</td><td>N</td></tr><tr><td>Sir</td><td>7</td><td>12</td><td>1973</td><td>F</td><td>S</td><td>2 yr Degree</td><td>7500</td><td>High Risk</td><td>2</td><td>0</td><td>0</td><td>Y</td></tr><tr><td>Mr.</td><td>16</td><td>8</td><td>1960</td><td>M</td><td>U</td><td>2 yr Degree</td><td>7500</td><td>High Risk</td><td>2</td><td>0</td><td>0</td><td>N</td></tr><tr><td>Ms.</td><td>4</td><td>9</td><td>1950</td><td>M</td><td>U</td><td>4 yr Degree</td><td>7500</td><td>High Risk</td><td>2</td><td>0</td><td>0</td><td>Y</td></tr><tr><td>Sir</td><td>5</td><td>2</td><td>1987</td><td>F</td><td>D</td><td>Advanced Degree</td><td>7500</td><td>High Risk</td><td>2</td><td>0</td><td>0</td><td>Y</td></tr><tr><td>Dr.</td><td>12</td><td>11</td><td>1944</td><td>F</td><td>M</td><td>Advanced Degree</td><td>8000</td><td>High Risk</td><td>2</td><td>0</td><td>0</td><td>N</td></tr><tr><td>Dr.</td><td>16</td><td>7</td><td>1964</td><td>F</td><td>D</td><td>Unknown</td><td>8000</td><td>High Risk</td><td>2</td><td>0</td><td>0</td><td>N</td></tr><tr><td>Sir</td><td>29</td><td>1</td><td>1980</td><td>F</td><td>U</td><td>Primary</td><td>8500</td><td>High Risk</td><td>2</td><td>0</td><td>0</td><td>Y</td></tr><tr><td>Dr.</td><td>11</td><td>6</td><td>1971</td><td>M</td><td>M</td><td>College</td><td>8500</td><td>High Risk</td><td>2</td><td>0</td><td>0</td><td>N</td></tr><tr><td>Dr.</td><td>28</td><td>4</td><td>1976</td><td>M</td><td>D</td><td>Secondary</td><td>9000</td><td>High Risk</td><td>2</td><td>0</td><td>0</td><td>N</td></tr><tr><td>Ms.</td><td>12</td><td>1</td><td>1943</td><td>M</td><td>D</td><td>2 yr Degree</td><td>9000</td><td>High Risk</td><td>2</td><td>0</td><td>0</td><td>N</td></tr><tr><td>Dr.</td><td>14</td><td>3</td><td>1981</td><td>M</td><td>U</td><td>2 yr Degree</td><td>9000</td><td>High Risk</td><td>2</td><td>0</td><td>0</td><td>N</td></tr><tr><td>Dr.</td><td>2</td><td>6</td><td>1963</td><td>M</td><td>W</td><td>Advanced Degree</td><td>9000</td><td>High Risk</td><td>2</td><td>0</td><td>0</td><td>N</td></tr><tr><td>Miss</td><td>4</td><td>7</td><td>1975</td><td>F</td><td>D</td><td>Primary</td><td>9500</td><td>High Risk</td><td>2</td><td>0</td><td>0</td><td>Y</td></tr><tr><td>Sir</td><td>4</td><td>12</td><td>1955</td><td>M</td><td>U</td><td>Primary</td><td>9500</td><td>High Risk</td><td>2</td><td>0</td><td>0</td><td>Y</td></tr><tr><td>Mr.</td><td>27</td><td>7</td><td>1992</td><td>M</td><td>W</td><td>2 yr Degree</td><td>9500</td><td>High Risk</td><td>2</td><td>0</td><td>0</td><td>Y</td></tr><tr><td>Miss</td><td>26</td><td>11</td><td>1974</td><td>F</td><td>W</td><td>4 yr Degree</td><td>9500</td><td>High Risk</td><td>2</td><td>0</td><td>0</td><td>N</td></tr><tr><td>Dr.</td><td>7</td><td>11</td><td>1936</td><td>M</td><td>M</td><td>Advanced Degree</td><td>9500</td><td>High Risk</td><td>2</td><td>0</td><td>0</td><td>N</td></tr><tr><td>Ms.</td><td>13</td><td>8</td><td>1950</td><td>M</td><td>U</td><td>Advanced Degree</td><td>9500</td><td>High Risk</td><td>2</td><td>0</td><td>0</td><td>Y</td></tr><tr><td>Dr.</td><td>25</td><td>11</td><td>1930</td><td>M</td><td>S</td><td>Primary</td><td>10000</td><td>High Risk</td><td>2</td><td>0</td><td>0</td><td>Y</td></tr><tr><td>Mr.</td><td>14</td><td>4</td><td>1933</td><td>M</td><td>M</td><td>College</td><td>10000</td><td>High Risk</td><td>2</td><td>0</td><td>0</td><td>N</td></tr><tr><td>Sir</td><td>5</td><td>4</td><td>1952</td><td>M</td><td>S</td><td>2 yr Degree</td><td>10000</td><td>High Risk</td><td>2</td><td>0</td><td>0</td><td>N</td></tr><tr><td>Dr.</td><td>27</td><td>1</td><td>1958</td><td>M</td><td>W</td><td>Advanced Degree</td><td>10000</td><td>High Risk</td><td>2</td><td>0</td><td>0</td><td>Y</td></tr><tr><td>Dr.</td><td>21</td><td>12</td><td>1949</td><td>F</td><td>D</td><td>Unknown</td><td>10000</td><td>High Risk</td><td>2</td><td>0</td><td>0</td><td>N</td></tr><tr><td>Sir</td><td>12</td><td>6</td><td>1946</td><td>M</td><td>M</td><td>Primary</td><td>500</td><td>Unknown</td><td>2</td><td>0</td><td>0</td><td>Y</td></tr><tr><td>Miss</td><td>3</td><td>1</td><td>1953</td><td>F</td><td>M</td><td>Secondary</td><td>500</td><td>Unknown</td><td>2</td><td>0</td><td>0</td><td>N</td></tr><tr><td>Sir</td><td>14</td><td>1</td><td>1935</td><td>F</td><td>W</td><td>2 yr Degree</td><td>500</td><td>Unknown</td><td>2</td><td>0</td><td>0</td><td>N</td></tr><tr><td>Sir</td><td>19</td><td>2</td><td>1938</td><td>F</td><td>D</td><td>Advanced Degree</td><td>500</td><td>Unknown</td><td>2</td><td>0</td><td>0</td><td>N</td></tr><tr><td>Mrs.</td><td>14</td><td>10</td><td>1980</td><td>M</td><td>U</td><td>Advanced Degree</td><td>500</td><td>Unknown</td><td>2</td><td>0</td><td>0</td><td>N</td></tr><tr><td>Ms.</td><td>10</td><td>5</td><td>1977</td><td>F</td><td>M</td><td>2 yr Degree</td><td>1000</td><td>Unknown</td><td>2</td><td>0</td><td>0</td><td>Y</td></tr><tr><td>Ms.</td><td>29</td><td>8</td><td>1924</td><td>M</td><td>M</td><td>Primary</td><td>1500</td><td>Unknown</td><td>2</td><td>0</td><td>0</td><td>Y</td></tr><tr><td>Mr.</td><td>23</td><td>12</td><td>1960</td><td>F</td><td>S</td><td>2 yr Degree</td><td>1500</td><td>Unknown</td><td>2</td><td>0</td><td>0</td><td>N</td></tr><tr><td>Mrs.</td><td>16</td><td>2</td><td>1981</td><td>M</td><td>M</td><td>Advanced Degree</td><td>1500</td><td>Unknown</td><td>2</td><td>0</td><td>0</td><td>N</td></tr><tr><td>Mr.</td><td>9</td><td>6</td><td>1950</td><td>M</td><td>W</td><td>Primary</td><td>2000</td><td>Unknown</td><td>2</td><td>0</td><td>0</td><td>Y</td></tr><tr><td>Sir</td><td>2</td><td>6</td><td>1986</td><td>M</td><td>U</td><td>2 yr Degree</td><td>2000</td><td>Unknown</td><td>2</td><td>0</td><td>0</td><td>N</td></tr><tr><td>Miss</td><td>20</td><td>11</td><td>1959</td><td>M</td><td>S</td><td>Secondary</td><td>2500</td><td>Unknown</td><td>2</td><td>0</td><td>0</td><td>Y</td></tr><tr><td>Sir</td><td>14</td><td>7</td><td>1980</td><td>F</td><td>S</td><td>Secondary</td><td>2500</td><td>Unknown</td><td>2</td><td>0</td><td>0</td><td>Y</td></tr><tr><td>Dr.</td><td>13</td><td>11</td><td>1969</td><td>M</td><td>W</td><td>Secondary</td><td>2500</td><td>Unknown</td><td>2</td><td>0</td><td>0</td><td>N</td></tr><tr><td>Sir</td><td>22</td><td>4</td><td>1982</td><td>F</td><td>S</td><td>2 yr Degree</td><td>2500</td><td>Unknown</td><td>2</td><td>0</td><td>0</td><td>Y</td></tr><tr><td>Miss</td><td>16</td><td>11</td><td>1979</td><td>F</td><td>W</td><td>2 yr Degree</td><td>2500</td><td>Unknown</td><td>2</td><td>0</td><td>0</td><td>N</td></tr><tr><td>Mr.</td><td>3</td><td>7</td><td>1954</td><td>M</td><td>D</td><td>Advanced Degree</td><td>2500</td><td>Unknown</td><td>2</td><td>0</td><td>0</td><td>Y</td></tr><tr><td>Ms.</td><td>12</td><td>5</td><td>1991</td><td>F</td><td>S</td><td>Unknown</td><td>2500</td><td>Unknown</td><td>2</td><td>0</td><td>0</td><td>N</td></tr><tr><td>Ms.</td><td>8</td><td>6</td><td>1968</td><td>M</td><td>S</td><td>Primary</td><td>3000</td><td>Unknown</td><td>2</td><td>0</td><td>0</td><td>N</td></tr><tr><td>Dr.</td><td>25</td><td>1</td><td>1944</td><td>F</td><td>U</td><td>4 yr Degree</td><td>3000</td><td>Unknown</td><td>2</td><td>0</td><td>0</td><td>Y</td></tr><tr><td>Miss</td><td>1</td><td>2</td><td>1975</td><td>M</td><td>D</td><td>Primary</td><td>3500</td><td>Unknown</td><td>2</td><td>0</td><td>0</td><td>Y</td></tr><tr><td>Ms.</td><td>24</td><td>4</td><td>1970</td><td>M</td><td>D</td><td>College</td><td>3500</td><td>Unknown</td><td>2</td><td>0</td><td>0</td><td>N</td></tr><tr><td>Miss</td><td>23</td><td>1</td><td>1970</td><td>M</td><td>S</td><td>4 yr Degree</td><td>3500</td><td>Unknown</td><td>2</td><td>0</td><td>0</td><td>Y</td></tr><tr><td>Dr.</td><td>17</td><td>2</td><td>1933</td><td>F</td><td>W</td><td>4 yr Degree</td><td>3500</td><td>Unknown</td><td>2</td><td>0</td><td>0</td><td>N</td></tr><tr><td>Miss</td><td>3</td><td>3</td><td>1987</td><td>M</td><td>W</td><td>Unknown</td><td>3500</td><td>Unknown</td><td>2</td><td>0</td><td>0</td><td>N</td></tr><tr><td>Dr.</td><td>6</td><td>5</td><td>1991</td><td>M</td><td>M</td><td>Secondary</td><td>4000</td><td>Unknown</td><td>2</td><td>0</td><td>0</td><td>N</td></tr><tr><td>Mrs.</td><td>26</td><td>6</td><td>1932</td><td>M</td><td>M</td><td>4 yr Degree</td><td>4000</td><td>Unknown</td><td>2</td><td>0</td><td>0</td><td>Y</td></tr><tr><td>Sir</td><td>19</td><td>4</td><td>1957</td><td>F</td><td>U</td><td>Primary</td><td>4500</td><td>Unknown</td><td>2</td><td>0</td><td>0</td><td>N</td></tr><tr><td>Dr.</td><td>17</td><td>9</td><td>1937</td><td>F</td><td>S</td><td>Secondary</td><td>4500</td><td>Unknown</td><td>2</td><td>0</td><td>0</td><td>N</td></tr><tr><td>Dr.</td><td>4</td><td>3</td><td>1972</td><td>M</td><td>M</td><td>College</td><td>4500</td><td>Unknown</td><td>2</td><td>0</td><td>0</td><td>Y</td></tr><tr><td>Ms.</td><td>22</td><td>2</td><td>1925</td><td>M</td><td>U</td><td>4 yr Degree</td><td>4500</td><td>Unknown</td><td>2</td><td>0</td><td>0</td><td>Y</td></tr><tr><td>Dr.</td><td>22</td><td>3</td><td>1964</td><td>M</td><td>W</td><td>2 yr Degree</td><td>5000</td><td>Unknown</td><td>2</td><td>0</td><td>0</td><td>N</td></tr><tr><td>Mrs.</td><td>12</td><td>10</td><td>1955</td><td>F</td><td>U</td><td>2 yr Degree</td><td>5000</td><td>Unknown</td><td>2</td><td>0</td><td>0</td><td>Y</td></tr><tr><td>Dr.</td><td>2</td><td>7</td><td>1968</td><td>F</td><td>D</td><td>4 yr Degree</td><td>5000</td><td>Unknown</td><td>2</td><td>0</td><td>0</td><td>N</td></tr><tr><td>Miss</td><td>12</td><td>4</td><td>1945</td><td>M</td><td>W</td><td>4 yr Degree</td><td>5000</td><td>Unknown</td><td>2</td><td>0</td><td>0</td><td>N</td></tr><tr><td>Dr.</td><td>21</td><td>3</td><td>1953</td><td>M</td><td>M</td><td>Unknown</td><td>5000</td><td>Unknown</td><td>2</td><td>0</td><td>0</td><td>Y</td></tr><tr><td>Dr.</td><td>27</td><td>9</td><td>1970</td><td>F</td><td>W</td><td>College</td><td>5500</td><td>Unknown</td><td>2</td><td>0</td><td>0</td><td>Y</td></tr><tr><td>Mr.</td><td>15</td><td>2</td><td>1927</td><td>M</td><td>M</td><td>Advanced Degree</td><td>5500</td><td>Unknown</td><td>2</td><td>0</td><td>0</td><td>N</td></tr><tr><td>Sir</td><td>22</td><td>2</td><td>1930</td><td>M</td><td>S</td><td>Unknown</td><td>5500</td><td>Unknown</td><td>2</td><td>0</td><td>0</td><td>Y</td></tr><tr><td>Dr.</td><td>12</td><td>9</td><td>1956</td><td>F</td><td>M</td><td>College</td><td>6000</td><td>Unknown</td><td>2</td><td>0</td><td>0</td><td>N</td></tr><tr><td>Dr.</td><td>25</td><td>9</td><td>1947</td><td>M</td><td>U</td><td>2 yr Degree</td><td>6000</td><td>Unknown</td><td>2</td><td>0</td><td>0</td><td>Y</td></tr><tr><td>Ms.</td><td>3</td><td>4</td><td>1989</td><td>M</td><td>M</td><td>4 yr Degree</td><td>6000</td><td>Unknown</td><td>2</td><td>0</td><td>0</td><td>Y</td></tr><tr><td>Miss</td><td>9</td><td>2</td><td>1938</td><td>M</td><td>D</td><td>Unknown</td><td>6000</td><td>Unknown</td><td>2</td><td>0</td><td>0</td><td>Y</td></tr><tr><td>Mr.</td><td>12</td><td>4</td><td>1991</td><td>F</td><td>W</td><td>Primary</td><td>6500</td><td>Unknown</td><td>2</td><td>0</td><td>0</td><td>N</td></tr><tr><td>Ms.</td><td>15</td><td>1</td><td>1947</td><td>F</td><td>U</td><td>Secondary</td><td>6500</td><td>Unknown</td><td>2</td><td>0</td><td>0</td><td>N</td></tr><tr><td>Sir</td><td>8</td><td>11</td><td>1924</td><td>F</td><td>M</td><td>2 yr Degree</td><td>6500</td><td>Unknown</td><td>2</td><td>0</td><td>0</td><td>N</td></tr><tr><td>Sir</td><td>21</td><td>4</td><td>1987</td><td>F</td><td>S</td><td>Advanced Degree</td><td>6500</td><td>Unknown</td><td>2</td><td>0</td><td>0</td><td>N</td></tr><tr><td>Mr.</td><td>29</td><td>9</td><td>1975</td><td>M</td><td>M</td><td>4 yr Degree</td><td>7000</td><td>Unknown</td><td>2</td><td>0</td><td>0</td><td>N</td></tr><tr><td>Dr.</td><td>21</td><td>2</td><td>1983</td><td>F</td><td>S</td><td>4 yr Degree</td><td>7000</td><td>Unknown</td><td>2</td><td>0</td><td>0</td><td>N</td></tr><tr><td>Miss</td><td>21</td><td>8</td><td>1986</td><td>M</td><td>M</td><td>Advanced Degree</td><td>7000</td><td>Unknown</td><td>2</td><td>0</td><td>0</td><td>Y</td></tr><tr><td>Mrs.</td><td>7</td><td>1</td><td>1954</td><td>M</td><td>U</td><td>Primary</td><td>7500</td><td>Unknown</td><td>2</td><td>0</td><td>0</td><td>N</td></tr><tr><td>Dr.</td><td>24</td><td>9</td><td>1980</td><td>M</td><td>U</td><td>Primary</td><td>7500</td><td>Unknown</td><td>2</td><td>0</td><td>0</td><td>N</td></tr><tr><td>Miss</td><td>5</td><td>10</td><td>1932</td><td>F</td><td>U</td><td>College</td><td>7500</td><td>Unknown</td><td>2</td><td>0</td><td>0</td><td>Y</td></tr><tr><td>Sir</td><td>9</td><td>4</td><td>1947</td><td>M</td><td>D</td><td>Primary</td><td>8000</td><td>Unknown</td><td>2</td><td>0</td><td>0</td><td>N</td></tr><tr><td>Miss</td><td>15</td><td>9</td><td>1986</td><td>F</td><td>W</td><td>2 yr Degree</td><td>8000</td><td>Unknown</td><td>2</td><td>0</td><td>0</td><td>Y</td></tr><tr><td>Dr.</td><td>17</td><td>11</td><td>1947</td><td>M</td><td>D</td><td>4 yr Degree</td><td>8000</td><td>Unknown</td><td>2</td><td>0</td><td>0</td><td>Y</td></tr><tr><td>Ms.</td><td>4</td><td>12</td><td>1981</td><td>M</td><td>S</td><td>Advanced Degree</td><td>8000</td><td>Unknown</td><td>2</td><td>0</td><td>0</td><td>N</td></tr><tr><td>Dr.</td><td>22</td><td>7</td><td>1956</td><td>M</td><td>D</td><td>Primary</td><td>8500</td><td>Unknown</td><td>2</td><td>0</td><td>0</td><td>N</td></tr><tr><td>Sir</td><td>16</td><td>10</td><td>1982</td><td>M</td><td>W</td><td>Secondary</td><td>8500</td><td>Unknown</td><td>2</td><td>0</td><td>0</td><td>N</td></tr><tr><td>Dr.</td><td>6</td><td>11</td><td>1973</td><td>M</td><td>U</td><td>College</td><td>8500</td><td>Unknown</td><td>2</td><td>0</td><td>0</td><td>Y</td></tr><tr><td>Dr.</td><td>22</td><td>9</td><td>1972</td><td>M</td><td>S</td><td>Unknown</td><td>8500</td><td>Unknown</td><td>2</td><td>0</td><td>0</td><td>N</td></tr><tr><td>Dr.</td><td>20</td><td>6</td><td>1953</td><td>F</td><td>D</td><td>Primary</td><td>9000</td><td>Unknown</td><td>2</td><td>0</td><td>0</td><td>N</td></tr><tr><td>Dr.</td><td>7</td><td>2</td><td>1988</td><td>M</td><td>S</td><td>College</td><td>9000</td><td>Unknown</td><td>2</td><td>0</td><td>0</td><td>N</td></tr><tr><td>Sir</td><td>2</td><td>1</td><td>1977</td><td>F</td><td>D</td><td>2 yr Degree</td><td>9000</td><td>Unknown</td><td>2</td><td>0</td><td>0</td><td>Y</td></tr><tr><td>Dr.</td><td>1</td><td>2</td><td>1953</td><td>M</td><td>S</td><td>Secondary</td><td>9500</td><td>Unknown</td><td>2</td><td>0</td><td>0</td><td>N</td></tr><tr><td>Dr.</td><td>25</td><td>6</td><td>1941</td><td>F</td><td>D</td><td>Secondary</td><td>9500</td><td>Unknown</td><td>2</td><td>0</td><td>0</td><td>Y</td></tr><tr><td>Mr.</td><td>4</td><td>12</td><td>1927</td><td>M</td><td>U</td><td>Secondary</td><td>9500</td><td>Unknown</td><td>2</td><td>0</td><td>0</td><td>N</td></tr><tr><td>Mr.</td><td>8</td><td>12</td><td>1952</td><td>M</td><td>D</td><td>Advanced Degree</td><td>9500</td><td>Unknown</td><td>2</td><td>0</td><td>0</td><td>Y</td></tr><tr><td>null</td><td>null</td><td>7</td><td>null</td><td>M</td><td>M</td><td>Secondary</td><td>10000</td><td>Unknown</td><td>2</td><td>0</td><td>0</td><td>Y</td></tr><tr><td>Ms.</td><td>1</td><td>5</td><td>1955</td><td>F</td><td>S</td><td>4 yr Degree</td><td>10000</td><td>Unknown</td><td>2</td><td>0</td><td>0</td><td>N</td></tr><tr><td>Mr.</td><td>24</td><td>1</td><td>1946</td><td>F</td><td>D</td><td>Unknown</td><td>10000</td><td>Unknown</td><td>2</td><td>0</td><td>0</td><td>N</td></tr><tr><td>Mr.</td><td>14</td><td>12</td><td>1958</td><td>M</td><td>U</td><td>Unknown</td><td>10000</td><td>Unknown</td><td>2</td><td>0</td><td>0</td><td>N</td></tr><tr><td>Sir</td><td>20</td><td>2</td><td>1930</td><td>F</td><td>D</td><td>College</td><td>500</td><td>Good</td><td>3</td><td>0</td><td>0</td><td>N</td></tr><tr><td>Dr.</td><td>9</td><td>12</td><td>1940</td><td>M</td><td>M</td><td>Unknown</td><td>500</td><td>Good</td><td>3</td><td>0</td><td>0</td><td>Y</td></tr><tr><td>Dr.</td><td>7</td><td>4</td><td>1953</td><td>M</td><td>W</td><td>Primary</td><td>1000</td><td>Good</td><td>3</td><td>0</td><td>0</td><td>Y</td></tr><tr><td>Mr.</td><td>5</td><td>1</td><td>1924</td><td>F</td><td>W</td><td>Secondary</td><td>1000</td><td>Good</td><td>3</td><td>0</td><td>0</td><td>Y</td></tr><tr><td>Mr.</td><td>3</td><td>5</td><td>1955</td><td>M</td><td>D</td><td>2 yr Degree</td><td>1000</td><td>Good</td><td>3</td><td>0</td><td>0</td><td>N</td></tr><tr><td>Sir</td><td>17</td><td>4</td><td>1947</td><td>M</td><td>D</td><td>Primary</td><td>1500</td><td>Good</td><td>3</td><td>0</td><td>0</td><td>Y</td></tr><tr><td>Mr.</td><td>25</td><td>5</td><td>1936</td><td>F</td><td>D</td><td>Secondary</td><td>1500</td><td>Good</td><td>3</td><td>0</td><td>0</td><td>N</td></tr><tr><td>Sir</td><td>8</td><td>3</td><td>1973</td><td>M</td><td>U</td><td>2 yr Degree</td><td>1500</td><td>Good</td><td>3</td><td>0</td><td>0</td><td>N</td></tr><tr><td>Miss</td><td>14</td><td>1</td><td>1988</td><td>F</td><td>S</td><td>Advanced Degree</td><td>1500</td><td>Good</td><td>3</td><td>0</td><td>0</td><td>Y</td></tr><tr><td>Miss</td><td>13</td><td>9</td><td>1966</td><td>M</td><td>U</td><td>Unknown</td><td>2000</td><td>Good</td><td>3</td><td>0</td><td>0</td><td>N</td></tr><tr><td>Dr.</td><td>8</td><td>4</td><td>1981</td><td>M</td><td>D</td><td>College</td><td>2500</td><td>Good</td><td>3</td><td>0</td><td>0</td><td>Y</td></tr><tr><td>null</td><td>18</td><td>7</td><td>1927</td><td>F</td><td>M</td><td>2 yr Degree</td><td>2500</td><td>Good</td><td>3</td><td>0</td><td>0</td><td>N</td></tr><tr><td>Dr.</td><td>6</td><td>6</td><td>1951</td><td>M</td><td>S</td><td>2 yr Degree</td><td>2500</td><td>Good</td><td>3</td><td>0</td><td>0</td><td>Y</td></tr><tr><td>Sir</td><td>16</td><td>2</td><td>1955</td><td>F</td><td>W</td><td>2 yr Degree</td><td>2500</td><td>Good</td><td>3</td><td>0</td><td>0</td><td>N</td></tr><tr><td>Ms.</td><td>5</td><td>6</td><td>1972</td><td>F</td><td>U</td><td>Advanced Degree</td><td>2500</td><td>Good</td><td>3</td><td>0</td><td>0</td><td>N</td></tr><tr><td>Dr.</td><td>28</td><td>10</td><td>1959</td><td>F</td><td>S</td><td>Primary</td><td>3000</td><td>Good</td><td>3</td><td>0</td><td>0</td><td>N</td></tr><tr><td>Mr.</td><td>6</td><td>2</td><td>1930</td><td>F</td><td>U</td><td>Advanced Degree</td><td>3000</td><td>Good</td><td>3</td><td>0</td><td>0</td><td>N</td></tr><tr><td>Sir</td><td>21</td><td>5</td><td>1948</td><td>F</td><td>D</td><td>Unknown</td><td>3000</td><td>Good</td><td>3</td><td>0</td><td>0</td><td>Y</td></tr><tr><td>Dr.</td><td>3</td><td>2</td><td>1943</td><td>M</td><td>D</td><td>Secondary</td><td>3500</td><td>Good</td><td>3</td><td>0</td><td>0</td><td>Y</td></tr><tr><td>Mr.</td><td>26</td><td>5</td><td>1935</td><td>M</td><td>U</td><td>Secondary</td><td>3500</td><td>Good</td><td>3</td><td>0</td><td>0</td><td>N</td></tr><tr><td>Dr.</td><td>26</td><td>2</td><td>1965</td><td>F</td><td>U</td><td>2 yr Degree</td><td>3500</td><td>Good</td><td>3</td><td>0</td><td>0</td><td>Y</td></tr><tr><td>Sir</td><td>24</td><td>6</td><td>1971</td><td>F</td><td>M</td><td>Secondary</td><td>4000</td><td>Good</td><td>3</td><td>0</td><td>0</td><td>N</td></tr><tr><td>Mr.</td><td>14</td><td>8</td><td>1990</td><td>M</td><td>D</td><td>2 yr Degree</td><td>4000</td><td>Good</td><td>3</td><td>0</td><td>0</td><td>Y</td></tr><tr><td>Mrs.</td><td>20</td><td>7</td><td>1924</td><td>M</td><td>D</td><td>2 yr Degree</td><td>4000</td><td>Good</td><td>3</td><td>0</td><td>0</td><td>N</td></tr><tr><td>Ms.</td><td>6</td><td>12</td><td>1955</td><td>F</td><td>D</td><td>Advanced Degree</td><td>4000</td><td>Good</td><td>3</td><td>0</td><td>0</td><td>Y</td></tr><tr><td>Sir</td><td>10</td><td>2</td><td>1972</td><td>M</td><td>U</td><td>Unknown</td><td>4000</td><td>Good</td><td>3</td><td>0</td><td>0</td><td>Y</td></tr><tr><td>Mrs.</td><td>18</td><td>10</td><td>1983</td><td>M</td><td>S</td><td>College</td><td>4500</td><td>Good</td><td>3</td><td>0</td><td>0</td><td>Y</td></tr><tr><td>Sir</td><td>21</td><td>5</td><td>1973</td><td>F</td><td>M</td><td>Unknown</td><td>5000</td><td>Good</td><td>3</td><td>0</td><td>0</td><td>Y</td></tr><tr><td>Sir</td><td>10</td><td>6</td><td>1959</td><td>M</td><td>W</td><td>Unknown</td><td>5000</td><td>Good</td><td>3</td><td>0</td><td>0</td><td>Y</td></tr><tr><td>Sir</td><td>4</td><td>1</td><td>1924</td><td>F</td><td>M</td><td>Primary</td><td>5500</td><td>Good</td><td>3</td><td>0</td><td>0</td><td>N</td></tr><tr><td>Ms.</td><td>29</td><td>9</td><td>1926</td><td>M</td><td>D</td><td>College</td><td>5500</td><td>Good</td><td>3</td><td>0</td><td>0</td><td>N</td></tr><tr><td>Dr.</td><td>21</td><td>7</td><td>1983</td><td>F</td><td>S</td><td>Primary</td><td>6000</td><td>Good</td><td>3</td><td>0</td><td>0</td><td>N</td></tr><tr><td>Dr.</td><td>1</td><td>10</td><td>1969</td><td>F</td><td>S</td><td>College</td><td>6000</td><td>Good</td><td>3</td><td>0</td><td>0</td><td>N</td></tr><tr><td>Mr.</td><td>4</td><td>12</td><td>1928</td><td>M</td><td>D</td><td>College</td><td>6000</td><td>Good</td><td>3</td><td>0</td><td>0</td><td>Y</td></tr><tr><td>Dr.</td><td>21</td><td>1</td><td>1975</td><td>F</td><td>M</td><td>Advanced Degree</td><td>6000</td><td>Good</td><td>3</td><td>0</td><td>0</td><td>Y</td></tr><tr><td>Sir</td><td>14</td><td>3</td><td>1965</td><td>M</td><td>W</td><td>Secondary</td><td>6500</td><td>Good</td><td>3</td><td>0</td><td>0</td><td>Y</td></tr><tr><td>Dr.</td><td>25</td><td>2</td><td>1971</td><td>F</td><td>D</td><td>2 yr Degree</td><td>6500</td><td>Good</td><td>3</td><td>0</td><td>0</td><td>N</td></tr><tr><td>Mr.</td><td>18</td><td>7</td><td>1953</td><td>F</td><td>D</td><td>2 yr Degree</td><td>6500</td><td>Good</td><td>3</td><td>0</td><td>0</td><td>Y</td></tr><tr><td>Mrs.</td><td>18</td><td>4</td><td>1966</td><td>M</td><td>W</td><td>2 yr Degree</td><td>6500</td><td>Good</td><td>3</td><td>0</td><td>0</td><td>Y</td></tr><tr><td>Mr.</td><td>1</td><td>2</td><td>1985</td><td>M</td><td>W</td><td>4 yr Degree</td><td>6500</td><td>Good</td><td>3</td><td>0</td><td>0</td><td>Y</td></tr><tr><td>Dr.</td><td>2</td><td>10</td><td>1959</td><td>F</td><td>S</td><td>Unknown</td><td>6500</td><td>Good</td><td>3</td><td>0</td><td>0</td><td>N</td></tr><tr><td>Sir</td><td>7</td><td>2</td><td>1961</td><td>M</td><td>D</td><td>Secondary</td><td>7000</td><td>Good</td><td>3</td><td>0</td><td>0</td><td>N</td></tr><tr><td>Miss</td><td>14</td><td>9</td><td>1976</td><td>M</td><td>S</td><td>Advanced Degree</td><td>7000</td><td>Good</td><td>3</td><td>0</td><td>0</td><td>N</td></tr><tr><td>null</td><td>24</td><td>6</td><td>null</td><td>F</td><td>S</td><td>Primary</td><td>7500</td><td>Good</td><td>3</td><td>0</td><td>0</td><td>N</td></tr><tr><td>Dr.</td><td>15</td><td>1</td><td>1976</td><td>F</td><td>W</td><td>Primary</td><td>7500</td><td>Good</td><td>3</td><td>0</td><td>0</td><td>N</td></tr><tr><td>Ms.</td><td>27</td><td>5</td><td>1963</td><td>F</td><td>W</td><td>Primary</td><td>7500</td><td>Good</td><td>3</td><td>0</td><td>0</td><td>N</td></tr><tr><td>Mr.</td><td>17</td><td>12</td><td>1990</td><td>M</td><td>M</td><td>Secondary</td><td>7500</td><td>Good</td><td>3</td><td>0</td><td>0</td><td>N</td></tr><tr><td>Dr.</td><td>30</td><td>6</td><td>1971</td><td>F</td><td>W</td><td>College</td><td>7500</td><td>Good</td><td>3</td><td>0</td><td>0</td><td>N</td></tr><tr><td>Dr.</td><td>10</td><td>11</td><td>1979</td><td>M</td><td>W</td><td>Unknown</td><td>7500</td><td>Good</td><td>3</td><td>0</td><td>0</td><td>N</td></tr><tr><td>Miss</td><td>8</td><td>10</td><td>1939</td><td>M</td><td>D</td><td>Secondary</td><td>8000</td><td>Good</td><td>3</td><td>0</td><td>0</td><td>N</td></tr><tr><td>Mr.</td><td>11</td><td>5</td><td>1947</td><td>F</td><td>S</td><td>College</td><td>8000</td><td>Good</td><td>3</td><td>0</td><td>0</td><td>N</td></tr><tr><td>Dr.</td><td>22</td><td>8</td><td>1981</td><td>F</td><td>S</td><td>4 yr Degree</td><td>8000</td><td>Good</td><td>3</td><td>0</td><td>0</td><td>N</td></tr><tr><td>null</td><td>null</td><td>null</td><td>null</td><td>M</td><td>W</td><td>Unknown</td><td>8000</td><td>Good</td><td>3</td><td>0</td><td>0</td><td>Y</td></tr><tr><td>Mr.</td><td>4</td><td>8</td><td>1924</td><td>M</td><td>W</td><td>Unknown</td><td>8000</td><td>Good</td><td>3</td><td>0</td><td>0</td><td>Y</td></tr><tr><td>Sir</td><td>3</td><td>1</td><td>1947</td><td>M</td><td>M</td><td>Unknown</td><td>8500</td><td>Good</td><td>3</td><td>0</td><td>0</td><td>Y</td></tr><tr><td>Dr.</td><td>23</td><td>5</td><td>1978</td><td>M</td><td>M</td><td>Secondary</td><td>9000</td><td>Good</td><td>3</td><td>0</td><td>0</td><td>N</td></tr><tr><td>Sir</td><td>1</td><td>3</td><td>1924</td><td>F</td><td>U</td><td>Secondary</td><td>9000</td><td>Good</td><td>3</td><td>0</td><td>0</td><td>N</td></tr><tr><td>Miss</td><td>12</td><td>9</td><td>1966</td><td>M</td><td>W</td><td>2 yr Degree</td><td>9000</td><td>Good</td><td>3</td><td>0</td><td>0</td><td>N</td></tr><tr><td>Sir</td><td>7</td><td>3</td><td>1958</td><td>F</td><td>S</td><td>Advanced Degree</td><td>9000</td><td>Good</td><td>3</td><td>0</td><td>0</td><td>N</td></tr><tr><td>Mr.</td><td>5</td><td>12</td><td>1939</td><td>M</td><td>D</td><td>Advanced Degree</td><td>9000</td><td>Good</td><td>3</td><td>0</td><td>0</td><td>Y</td></tr><tr><td>Miss</td><td>22</td><td>1</td><td>1971</td><td>M</td><td>M</td><td>2 yr Degree</td><td>9500</td><td>Good</td><td>3</td><td>0</td><td>0</td><td>N</td></tr><tr><td>Mr.</td><td>31</td><td>10</td><td>1931</td><td>M</td><td>D</td><td>2 yr Degree</td><td>9500</td><td>Good</td><td>3</td><td>0</td><td>0</td><td>N</td></tr><tr><td>Sir</td><td>2</td><td>1</td><td>1978</td><td>F</td><td>M</td><td>Secondary</td><td>10000</td><td>Good</td><td>3</td><td>0</td><td>0</td><td>Y</td></tr><tr><td>null</td><td>2</td><td>null</td><td>null</td><td>F</td><td>M</td><td>Secondary</td><td>10000</td><td>Good</td><td>3</td><td>0</td><td>0</td><td>N</td></tr><tr><td>Mr.</td><td>7</td><td>12</td><td>1940</td><td>F</td><td>M</td><td>4 yr Degree</td><td>10000</td><td>Good</td><td>3</td><td>0</td><td>0</td><td>N</td></tr><tr><td>Dr.</td><td>22</td><td>12</td><td>1932</td><td>M</td><td>S</td><td>Advanced Degree</td><td>10000</td><td>Good</td><td>3</td><td>0</td><td>0</td><td>Y</td></tr><tr><td>Mrs.</td><td>18</td><td>3</td><td>1959</td><td>F</td><td>M</td><td>Primary</td><td>500</td><td>Low Risk</td><td>3</td><td>0</td><td>0</td><td>N</td></tr><tr><td>Dr.</td><td>17</td><td>5</td><td>1968</td><td>M</td><td>M</td><td>Secondary</td><td>500</td><td>Low Risk</td><td>3</td><td>0</td><td>0</td><td>N</td></tr><tr><td>Sir</td><td>30</td><td>9</td><td>1980</td><td>M</td><td>U</td><td>Secondary</td><td>500</td><td>Low Risk</td><td>3</td><td>0</td><td>0</td><td>N</td></tr><tr><td>Dr.</td><td>4</td><td>11</td><td>1960</td><td>F</td><td>U</td><td>Secondary</td><td>500</td><td>Low Risk</td><td>3</td><td>0</td><td>0</td><td>N</td></tr><tr><td>Miss</td><td>7</td><td>5</td><td>1966</td><td>M</td><td>S</td><td>Advanced Degree</td><td>500</td><td>Low Risk</td><td>3</td><td>0</td><td>0</td><td>Y</td></tr><tr><td>Dr.</td><td>29</td><td>6</td><td>1983</td><td>M</td><td>D</td><td>Advanced Degree</td><td>500</td><td>Low Risk</td><td>3</td><td>0</td><td>0</td><td>N</td></tr><tr><td>Mr.</td><td>18</td><td>3</td><td>1949</td><td>F</td><td>U</td><td>Unknown</td><td>500</td><td>Low Risk</td><td>3</td><td>0</td><td>0</td><td>N</td></tr><tr><td>Miss</td><td>25</td><td>10</td><td>1961</td><td>M</td><td>W</td><td>Primary</td><td>1000</td><td>Low Risk</td><td>3</td><td>0</td><td>0</td><td>N</td></tr><tr><td>Mr.</td><td>24</td><td>8</td><td>1935</td><td>M</td><td>M</td><td>Secondary</td><td>1000</td><td>Low Risk</td><td>3</td><td>0</td><td>0</td><td>N</td></tr><tr><td>Dr.</td><td>18</td><td>8</td><td>1955</td><td>F</td><td>W</td><td>Advanced Degree</td><td>1000</td><td>Low Risk</td><td>3</td><td>0</td><td>0</td><td>Y</td></tr><tr><td>Mr.</td><td>5</td><td>1</td><td>1972</td><td>F</td><td>U</td><td>Secondary</td><td>1500</td><td>Low Risk</td><td>3</td><td>0</td><td>0</td><td>N</td></tr><tr><td>Dr.</td><td>6</td><td>9</td><td>1968</td><td>M</td><td>W</td><td>2 yr Degree</td><td>1500</td><td>Low Risk</td><td>3</td><td>0</td><td>0</td><td>Y</td></tr><tr><td>Ms.</td><td>11</td><td>6</td><td>1935</td><td>F</td><td>U</td><td>Secondary</td><td>2000</td><td>Low Risk</td><td>3</td><td>0</td><td>0</td><td>Y</td></tr><tr><td>Dr.</td><td>14</td><td>6</td><td>1979</td><td>M</td><td>S</td><td>4 yr Degree</td><td>2000</td><td>Low Risk</td><td>3</td><td>0</td><td>0</td><td>N</td></tr><tr><td>Sir</td><td>31</td><td>12</td><td>1961</td><td>F</td><td>U</td><td>Unknown</td><td>2000</td><td>Low Risk</td><td>3</td><td>0</td><td>0</td><td>N</td></tr><tr><td>Dr.</td><td>18</td><td>7</td><td>1975</td><td>F</td><td>U</td><td>Unknown</td><td>2000</td><td>Low Risk</td><td>3</td><td>0</td><td>0</td><td>N</td></tr><tr><td>Ms.</td><td>2</td><td>1</td><td>1941</td><td>F</td><td>U</td><td>Secondary</td><td>2500</td><td>Low Risk</td><td>3</td><td>0</td><td>0</td><td>N</td></tr><tr><td>Mrs.</td><td>21</td><td>2</td><td>1926</td><td>M</td><td>W</td><td>College</td><td>3000</td><td>Low Risk</td><td>3</td><td>0</td><td>0</td><td>N</td></tr><tr><td>Dr.</td><td>20</td><td>9</td><td>1992</td><td>F</td><td>U</td><td>College</td><td>3000</td><td>Low Risk</td><td>3</td><td>0</td><td>0</td><td>Y</td></tr><tr><td>Mrs.</td><td>9</td><td>12</td><td>1953</td><td>F</td><td>U</td><td>4 yr Degree</td><td>3000</td><td>Low Risk</td><td>3</td><td>0</td><td>0</td><td>N</td></tr><tr><td>Dr.</td><td>31</td><td>7</td><td>1930</td><td>F</td><td>U</td><td>Unknown</td><td>3000</td><td>Low Risk</td><td>3</td><td>0</td><td>0</td><td>N</td></tr><tr><td>Dr.</td><td>24</td><td>4</td><td>1978</td><td>M</td><td>S</td><td>College</td><td>3500</td><td>Low Risk</td><td>3</td><td>0</td><td>0</td><td>N</td></tr><tr><td>Dr.</td><td>25</td><td>6</td><td>1939</td><td>M</td><td>W</td><td>2 yr Degree</td><td>3500</td><td>Low Risk</td><td>3</td><td>0</td><td>0</td><td>Y</td></tr><tr><td>Dr.</td><td>3</td><td>1</td><td>1940</td><td>F</td><td>W</td><td>2 yr Degree</td><td>3500</td><td>Low Risk</td><td>3</td><td>0</td><td>0</td><td>Y</td></tr><tr><td>Sir</td><td>8</td><td>1</td><td>1991</td><td>F</td><td>M</td><td>Advanced Degree</td><td>3500</td><td>Low Risk</td><td>3</td><td>0</td><td>0</td><td>N</td></tr><tr><td>Sir</td><td>19</td><td>8</td><td>1955</td><td>M</td><td>W</td><td>Advanced Degree</td><td>3500</td><td>Low Risk</td><td>3</td><td>0</td><td>0</td><td>N</td></tr><tr><td>Mrs.</td><td>6</td><td>10</td><td>1931</td><td>M</td><td>M</td><td>2 yr Degree</td><td>4000</td><td>Low Risk</td><td>3</td><td>0</td><td>0</td><td>N</td></tr><tr><td>Ms.</td><td>19</td><td>8</td><td>1951</td><td>F</td><td>S</td><td>4 yr Degree</td><td>4000</td><td>Low Risk</td><td>3</td><td>0</td><td>0</td><td>Y</td></tr><tr><td>Miss</td><td>2</td><td>2</td><td>1939</td><td>F</td><td>M</td><td>Secondary</td><td>4500</td><td>Low Risk</td><td>3</td><td>0</td><td>0</td><td>Y</td></tr><tr><td>Mr.</td><td>11</td><td>12</td><td>1925</td><td>F</td><td>S</td><td>Secondary</td><td>4500</td><td>Low Risk</td><td>3</td><td>0</td><td>0</td><td>N</td></tr><tr><td>Ms.</td><td>27</td><td>1</td><td>1967</td><td>F</td><td>U</td><td>Secondary</td><td>4500</td><td>Low Risk</td><td>3</td><td>0</td><td>0</td><td>Y</td></tr><tr><td>Ms.</td><td>5</td><td>7</td><td>1930</td><td>M</td><td>S</td><td>2 yr Degree</td><td>4500</td><td>Low Risk</td><td>3</td><td>0</td><td>0</td><td>N</td></tr><tr><td>Mr.</td><td>14</td><td>11</td><td>1927</td><td>M</td><td>U</td><td>Unknown</td><td>4500</td><td>Low Risk</td><td>3</td><td>0</td><td>0</td><td>Y</td></tr><tr><td>Sir</td><td>11</td><td>11</td><td>1931</td><td>F</td><td>U</td><td>2 yr Degree</td><td>5000</td><td>Low Risk</td><td>3</td><td>0</td><td>0</td><td>Y</td></tr><tr><td>Dr.</td><td>28</td><td>12</td><td>1972</td><td>F</td><td>U</td><td>Primary</td><td>5500</td><td>Low Risk</td><td>3</td><td>0</td><td>0</td><td>N</td></tr><tr><td>Mr.</td><td>23</td><td>10</td><td>1951</td><td>F</td><td>W</td><td>2 yr Degree</td><td>5500</td><td>Low Risk</td><td>3</td><td>0</td><td>0</td><td>N</td></tr><tr><td>Sir</td><td>18</td><td>9</td><td>1983</td><td>M</td><td>S</td><td>Advanced Degree</td><td>5500</td><td>Low Risk</td><td>3</td><td>0</td><td>0</td><td>Y</td></tr><tr><td>Dr.</td><td>20</td><td>2</td><td>1971</td><td>F</td><td>S</td><td>Advanced Degree</td><td>5500</td><td>Low Risk</td><td>3</td><td>0</td><td>0</td><td>Y</td></tr><tr><td>Mrs.</td><td>30</td><td>6</td><td>1984</td><td>F</td><td>S</td><td>Advanced Degree</td><td>5500</td><td>Low Risk</td><td>3</td><td>0</td><td>0</td><td>Y</td></tr><tr><td>Ms.</td><td>20</td><td>6</td><td>1978</td><td>F</td><td>D</td><td>Advanced Degree</td><td>5500</td><td>Low Risk</td><td>3</td><td>0</td><td>0</td><td>N</td></tr><tr><td>Mrs.</td><td>22</td><td>2</td><td>1926</td><td>F</td><td>U</td><td>Advanced Degree</td><td>5500</td><td>Low Risk</td><td>3</td><td>0</td><td>0</td><td>N</td></tr><tr><td>Mr.</td><td>30</td><td>4</td><td>1931</td><td>F</td><td>M</td><td>Unknown</td><td>5500</td><td>Low Risk</td><td>3</td><td>0</td><td>0</td><td>N</td></tr><tr><td>Dr.</td><td>4</td><td>6</td><td>1954</td><td>M</td><td>S</td><td>Unknown</td><td>5500</td><td>Low Risk</td><td>3</td><td>0</td><td>0</td><td>N</td></tr><tr><td>Mr.</td><td>29</td><td>1</td><td>1969</td><td>F</td><td>D</td><td>Unknown</td><td>6000</td><td>Low Risk</td><td>3</td><td>0</td><td>0</td><td>N</td></tr><tr><td>Dr.</td><td>9</td><td>5</td><td>1955</td><td>F</td><td>D</td><td>Secondary</td><td>7000</td><td>Low Risk</td><td>3</td><td>0</td><td>0</td><td>N</td></tr><tr><td>Miss</td><td>18</td><td>5</td><td>1981</td><td>F</td><td>W</td><td>2 yr Degree</td><td>7000</td><td>Low Risk</td><td>3</td><td>0</td><td>0</td><td>N</td></tr><tr><td>Ms.</td><td>27</td><td>3</td><td>1983</td><td>M</td><td>S</td><td>4 yr Degree</td><td>7000</td><td>Low Risk</td><td>3</td><td>0</td><td>0</td><td>Y</td></tr><tr><td>Miss</td><td>2</td><td>3</td><td>1953</td><td>F</td><td>W</td><td>Advanced Degree</td><td>7000</td><td>Low Risk</td><td>3</td><td>0</td><td>0</td><td>N</td></tr><tr><td>Mrs.</td><td>6</td><td>10</td><td>1966</td><td>F</td><td>D</td><td>Primary</td><td>7500</td><td>Low Risk</td><td>3</td><td>0</td><td>0</td><td>N</td></tr><tr><td>Sir</td><td>19</td><td>12</td><td>1956</td><td>M</td><td>M</td><td>Advanced Degree</td><td>7500</td><td>Low Risk</td><td>3</td><td>0</td><td>0</td><td>Y</td></tr><tr><td>Dr.</td><td>1</td><td>8</td><td>1987</td><td>M</td><td>W</td><td>Unknown</td><td>7500</td><td>Low Risk</td><td>3</td><td>0</td><td>0</td><td>Y</td></tr><tr><td>Miss</td><td>25</td><td>6</td><td>1984</td><td>M</td><td>U</td><td>Unknown</td><td>7500</td><td>Low Risk</td><td>3</td><td>0</td><td>0</td><td>Y</td></tr><tr><td>Dr.</td><td>18</td><td>8</td><td>1945</td><td>F</td><td>S</td><td>Primary</td><td>8000</td><td>Low Risk</td><td>3</td><td>0</td><td>0</td><td>Y</td></tr><tr><td>Sir</td><td>11</td><td>6</td><td>1962</td><td>M</td><td>W</td><td>4 yr Degree</td><td>8000</td><td>Low Risk</td><td>3</td><td>0</td><td>0</td><td>N</td></tr><tr><td>Dr.</td><td>23</td><td>6</td><td>1963</td><td>F</td><td>S</td><td>Unknown</td><td>8000</td><td>Low Risk</td><td>3</td><td>0</td><td>0</td><td>N</td></tr><tr><td>Mr.</td><td>17</td><td>10</td><td>1964</td><td>M</td><td>M</td><td>Primary</td><td>8500</td><td>Low Risk</td><td>3</td><td>0</td><td>0</td><td>Y</td></tr><tr><td>Mr.</td><td>1</td><td>1</td><td>1936</td><td>M</td><td>S</td><td>Primary</td><td>8500</td><td>Low Risk</td><td>3</td><td>0</td><td>0</td><td>N</td></tr><tr><td>Dr.</td><td>15</td><td>2</td><td>1945</td><td>F</td><td>D</td><td>Primary</td><td>8500</td><td>Low Risk</td><td>3</td><td>0</td><td>0</td><td>N</td></tr><tr><td>Mrs.</td><td>30</td><td>7</td><td>1934</td><td>F</td><td>D</td><td>Secondary</td><td>8500</td><td>Low Risk</td><td>3</td><td>0</td><td>0</td><td>N</td></tr><tr><td>Dr.</td><td>27</td><td>9</td><td>1980</td><td>F</td><td>M</td><td>Primary</td><td>9000</td><td>Low Risk</td><td>3</td><td>0</td><td>0</td><td>Y</td></tr><tr><td>Dr.</td><td>5</td><td>7</td><td>1932</td><td>F</td><td>D</td><td>2 yr Degree</td><td>9000</td><td>Low Risk</td><td>3</td><td>0</td><td>0</td><td>N</td></tr><tr><td>Mrs.</td><td>2</td><td>9</td><td>1940</td><td>M</td><td>W</td><td>2 yr Degree</td><td>9000</td><td>Low Risk</td><td>3</td><td>0</td><td>0</td><td>N</td></tr><tr><td>Ms.</td><td>14</td><td>10</td><td>1971</td><td>M</td><td>D</td><td>Unknown</td><td>9000</td><td>Low Risk</td><td>3</td><td>0</td><td>0</td><td>N</td></tr><tr><td>Dr.</td><td>9</td><td>8</td><td>1978</td><td>F</td><td>U</td><td>Unknown</td><td>9000</td><td>Low Risk</td><td>3</td><td>0</td><td>0</td><td>N</td></tr><tr><td>Dr.</td><td>4</td><td>1</td><td>1941</td><td>F</td><td>M</td><td>College</td><td>9500</td><td>Low Risk</td><td>3</td><td>0</td><td>0</td><td>N</td></tr><tr><td>Miss</td><td>3</td><td>7</td><td>1958</td><td>M</td><td>M</td><td>Advanced Degree</td><td>9500</td><td>Low Risk</td><td>3</td><td>0</td><td>0</td><td>N</td></tr><tr><td>Dr.</td><td>6</td><td>4</td><td>1933</td><td>F</td><td>S</td><td>Unknown</td><td>9500</td><td>Low Risk</td><td>3</td><td>0</td><td>0</td><td>Y</td></tr><tr><td>Dr.</td><td>24</td><td>12</td><td>1969</td><td>F</td><td>W</td><td>Primary</td><td>10000</td><td>Low Risk</td><td>3</td><td>0</td><td>0</td><td>Y</td></tr><tr><td>Mr.</td><td>23</td><td>5</td><td>1924</td><td>M</td><td>M</td><td>4 yr Degree</td><td>10000</td><td>Low Risk</td><td>3</td><td>0</td><td>0</td><td>Y</td></tr><tr><td>Miss</td><td>15</td><td>8</td><td>1985</td><td>F</td><td>M</td><td>Advanced Degree</td><td>10000</td><td>Low Risk</td><td>3</td><td>0</td><td>0</td><td>N</td></tr><tr><td>Sir</td><td>26</td><td>3</td><td>1932</td><td>M</td><td>U</td><td>Advanced Degree</td><td>500</td><td>High Risk</td><td>3</td><td>0</td><td>0</td><td>N</td></tr><tr><td>Mr.</td><td>22</td><td>1</td><td>1989</td><td>M</td><td>S</td><td>Unknown</td><td>500</td><td>High Risk</td><td>3</td><td>0</td><td>0</td><td>Y</td></tr><tr><td>Dr.</td><td>29</td><td>4</td><td>1965</td><td>F</td><td>D</td><td>College</td><td>1000</td><td>High Risk</td><td>3</td><td>0</td><td>0</td><td>Y</td></tr><tr><td>Mr.</td><td>21</td><td>7</td><td>1962</td><td>F</td><td>M</td><td>Advanced Degree</td><td>1000</td><td>High Risk</td><td>3</td><td>0</td><td>0</td><td>N</td></tr><tr><td>Mr.</td><td>3</td><td>8</td><td>1957</td><td>M</td><td>S</td><td>Primary</td><td>1500</td><td>High Risk</td><td>3</td><td>0</td><td>0</td><td>Y</td></tr><tr><td>Ms.</td><td>7</td><td>4</td><td>1935</td><td>M</td><td>U</td><td>Secondary</td><td>1500</td><td>High Risk</td><td>3</td><td>0</td><td>0</td><td>N</td></tr><tr><td>Sir</td><td>12</td><td>11</td><td>1970</td><td>M</td><td>D</td><td>College</td><td>1500</td><td>High Risk</td><td>3</td><td>0</td><td>0</td><td>Y</td></tr><tr><td>Ms.</td><td>16</td><td>1</td><td>1972</td><td>F</td><td>S</td><td>Unknown</td><td>1500</td><td>High Risk</td><td>3</td><td>0</td><td>0</td><td>N</td></tr><tr><td>Sir</td><td>3</td><td>2</td><td>1959</td><td>F</td><td>D</td><td>Unknown</td><td>1500</td><td>High Risk</td><td>3</td><td>0</td><td>0</td><td>Y</td></tr><tr><td>Mr.</td><td>29</td><td>4</td><td>1949</td><td>M</td><td>M</td><td>College</td><td>2000</td><td>High Risk</td><td>3</td><td>0</td><td>0</td><td>Y</td></tr><tr><td>Ms.</td><td>14</td><td>11</td><td>1981</td><td>M</td><td>S</td><td>Secondary</td><td>3000</td><td>High Risk</td><td>3</td><td>0</td><td>0</td><td>Y</td></tr><tr><td>Mr.</td><td>15</td><td>11</td><td>1954</td><td>M</td><td>D</td><td>4 yr Degree</td><td>3000</td><td>High Risk</td><td>3</td><td>0</td><td>0</td><td>Y</td></tr><tr><td>Sir</td><td>7</td><td>10</td><td>1947</td><td>F</td><td>M</td><td>Primary</td><td>3500</td><td>High Risk</td><td>3</td><td>0</td><td>0</td><td>N</td></tr><tr><td>Ms.</td><td>28</td><td>5</td><td>1975</td><td>F</td><td>M</td><td>Secondary</td><td>3500</td><td>High Risk</td><td>3</td><td>0</td><td>0</td><td>N</td></tr><tr><td>Miss</td><td>18</td><td>1</td><td>1938</td><td>F</td><td>M</td><td>2 yr Degree</td><td>3500</td><td>High Risk</td><td>3</td><td>0</td><td>0</td><td>Y</td></tr><tr><td>Mrs.</td><td>6</td><td>10</td><td>1932</td><td>M</td><td>D</td><td>2 yr Degree</td><td>3500</td><td>High Risk</td><td>3</td><td>0</td><td>0</td><td>Y</td></tr><tr><td>Mr.</td><td>24</td><td>4</td><td>null</td><td>F</td><td>U</td><td>Advanced Degree</td><td>3500</td><td>High Risk</td><td>3</td><td>0</td><td>0</td><td>Y</td></tr><tr><td>Dr.</td><td>29</td><td>6</td><td>1950</td><td>F</td><td>D</td><td>Primary</td><td>4000</td><td>High Risk</td><td>3</td><td>0</td><td>0</td><td>Y</td></tr><tr><td>Ms.</td><td>23</td><td>5</td><td>1959</td><td>F</td><td>W</td><td>Advanced Degree</td><td>4000</td><td>High Risk</td><td>3</td><td>0</td><td>0</td><td>N</td></tr><tr><td>Dr.</td><td>12</td><td>7</td><td>1926</td><td>M</td><td>M</td><td>Unknown</td><td>4000</td><td>High Risk</td><td>3</td><td>0</td><td>0</td><td>N</td></tr><tr><td>Miss</td><td>1</td><td>1</td><td>1990</td><td>M</td><td>M</td><td>Secondary</td><td>4500</td><td>High Risk</td><td>3</td><td>0</td><td>0</td><td>Y</td></tr><tr><td>Sir</td><td>26</td><td>10</td><td>1966</td><td>F</td><td>S</td><td>2 yr Degree</td><td>4500</td><td>High Risk</td><td>3</td><td>0</td><td>0</td><td>N</td></tr><tr><td>Mr.</td><td>6</td><td>12</td><td>1959</td><td>M</td><td>M</td><td>4 yr Degree</td><td>4500</td><td>High Risk</td><td>3</td><td>0</td><td>0</td><td>Y</td></tr><tr><td>Miss</td><td>10</td><td>3</td><td>1950</td><td>M</td><td>M</td><td>Unknown</td><td>5000</td><td>High Risk</td><td>3</td><td>0</td><td>0</td><td>N</td></tr><tr><td>Ms.</td><td>20</td><td>8</td><td>1991</td><td>M</td><td>M</td><td>Primary</td><td>5500</td><td>High Risk</td><td>3</td><td>0</td><td>0</td><td>Y</td></tr><tr><td>Dr.</td><td>19</td><td>6</td><td>1970</td><td>F</td><td>D</td><td>Primary</td><td>5500</td><td>High Risk</td><td>3</td><td>0</td><td>0</td><td>N</td></tr><tr><td>Ms.</td><td>30</td><td>1</td><td>1976</td><td>M</td><td>D</td><td>College</td><td>5500</td><td>High Risk</td><td>3</td><td>0</td><td>0</td><td>N</td></tr><tr><td>Ms.</td><td>30</td><td>6</td><td>1943</td><td>F</td><td>D</td><td>College</td><td>5500</td><td>High Risk</td><td>3</td><td>0</td><td>0</td><td>N</td></tr><tr><td>Ms.</td><td>10</td><td>1</td><td>1950</td><td>F</td><td>W</td><td>College</td><td>5500</td><td>High Risk</td><td>3</td><td>0</td><td>0</td><td>Y</td></tr><tr><td>Miss</td><td>6</td><td>6</td><td>1963</td><td>F</td><td>W</td><td>4 yr Degree</td><td>5500</td><td>High Risk</td><td>3</td><td>0</td><td>0</td><td>Y</td></tr><tr><td>Sir</td><td>21</td><td>1</td><td>1980</td><td>F</td><td>M</td><td>Unknown</td><td>5500</td><td>High Risk</td><td>3</td><td>0</td><td>0</td><td>Y</td></tr><tr><td>Miss</td><td>6</td><td>7</td><td>1973</td><td>M</td><td>M</td><td>Unknown</td><td>6000</td><td>High Risk</td><td>3</td><td>0</td><td>0</td><td>N</td></tr><tr><td>Dr.</td><td>2</td><td>5</td><td>1954</td><td>M</td><td>W</td><td>Secondary</td><td>6500</td><td>High Risk</td><td>3</td><td>0</td><td>0</td><td>N</td></tr><tr><td>Dr.</td><td>27</td><td>6</td><td>1941</td><td>F</td><td>U</td><td>Secondary</td><td>6500</td><td>High Risk</td><td>3</td><td>0</td><td>0</td><td>Y</td></tr><tr><td>Mrs.</td><td>5</td><td>6</td><td>1992</td><td>F</td><td>D</td><td>Advanced Degree</td><td>6500</td><td>High Risk</td><td>3</td><td>0</td><td>0</td><td>Y</td></tr><tr><td>Mrs.</td><td>9</td><td>12</td><td>1925</td><td>F</td><td>S</td><td>Unknown</td><td>6500</td><td>High Risk</td><td>3</td><td>0</td><td>0</td><td>Y</td></tr><tr><td>Mrs.</td><td>2</td><td>3</td><td>1972</td><td>F</td><td>S</td><td>College</td><td>7000</td><td>High Risk</td><td>3</td><td>0</td><td>0</td><td>Y</td></tr><tr><td>Sir</td><td>30</td><td>6</td><td>1992</td><td>M</td><td>U</td><td>College</td><td>7000</td><td>High Risk</td><td>3</td><td>0</td><td>0</td><td>N</td></tr><tr><td>Dr.</td><td>15</td><td>4</td><td>1943</td><td>M</td><td>M</td><td>College</td><td>7500</td><td>High Risk</td><td>3</td><td>0</td><td>0</td><td>N</td></tr><tr><td>Mr.</td><td>27</td><td>1</td><td>1981</td><td>F</td><td>U</td><td>Advanced Degree</td><td>7500</td><td>High Risk</td><td>3</td><td>0</td><td>0</td><td>Y</td></tr></tbody></table>Showing the first 1000 rows.</div>"
      ]
     },
     "metadata": {
      "application/vnd.databricks.v1+output": {
       "addedWidgets": {},
       "aggData": [],
       "aggError": "",
       "aggOverflow": false,
       "aggSchema": [],
       "aggSeriesLimitReached": false,
       "aggType": "",
       "arguments": {},
       "columnCustomDisplayInfos": {},
       "data": [
        [
         "Sir",
         17,
         8,
         1936,
         "M",
         "W",
         "Secondary",
         "500",
         "Good",
         0,
         0,
         0,
         "N"
        ],
        [
         "Sir",
         6,
         9,
         1926,
         "F",
         "U",
         "Secondary",
         "500",
         "Good",
         0,
         0,
         0,
         "Y"
        ],
        [
         "Dr.",
         13,
         9,
         1928,
         "M",
         "S",
         "4 yr Degree",
         "500",
         "Good",
         0,
         0,
         0,
         "Y"
        ],
        [
         "Ms.",
         11,
         4,
         1992,
         "F",
         "S",
         "4 yr Degree",
         "500",
         "Good",
         0,
         0,
         0,
         "N"
        ],
        [
         "Mr.",
         11,
         7,
         1988,
         "M",
         "M",
         "College",
         "1000",
         "Good",
         0,
         0,
         0,
         "N"
        ],
        [
         "Dr.",
         11,
         5,
         1948,
         "F",
         "D",
         "4 yr Degree",
         "1000",
         "Good",
         0,
         0,
         0,
         "N"
        ],
        [
         "Miss",
         30,
         6,
         1944,
         "M",
         "M",
         "Advanced Degree",
         "1000",
         "Good",
         0,
         0,
         0,
         "N"
        ],
        [
         "Mr.",
         14,
         10,
         1934,
         "M",
         "U",
         "Advanced Degree",
         "1000",
         "Good",
         0,
         0,
         0,
         "N"
        ],
        [
         "Dr.",
         28,
         4,
         1939,
         "M",
         "M",
         "Unknown",
         "1000",
         "Good",
         0,
         0,
         0,
         "N"
        ],
        [
         "Ms.",
         23,
         5,
         1933,
         "M",
         "S",
         "Primary",
         "1500",
         "Good",
         0,
         0,
         0,
         "Y"
        ],
        [
         "Sir",
         11,
         9,
         1932,
         "M",
         "W",
         "College",
         "1500",
         "Good",
         0,
         0,
         0,
         "N"
        ],
        [
         "Dr.",
         27,
         3,
         1940,
         "F",
         "M",
         "Advanced Degree",
         "1500",
         "Good",
         0,
         0,
         0,
         "Y"
        ],
        [
         "Mrs.",
         7,
         12,
         1925,
         "M",
         "S",
         "Advanced Degree",
         "1500",
         "Good",
         0,
         0,
         0,
         "Y"
        ],
        [
         "Dr.",
         7,
         12,
         1950,
         "F",
         "W",
         "Primary",
         "2000",
         "Good",
         0,
         0,
         0,
         "N"
        ],
        [
         "Ms.",
         1,
         8,
         1933,
         "M",
         "D",
         "Unknown",
         "2000",
         "Good",
         0,
         0,
         0,
         "N"
        ],
        [
         "Sir",
         14,
         1,
         1942,
         "F",
         "S",
         "Primary",
         "2500",
         "Good",
         0,
         0,
         0,
         "N"
        ],
        [
         "Sir",
         15,
         12,
         1933,
         "M",
         "U",
         "Primary",
         "2500",
         "Good",
         0,
         0,
         0,
         "N"
        ],
        [
         "Ms.",
         28,
         3,
         1926,
         "F",
         "U",
         "Primary",
         "2500",
         "Good",
         0,
         0,
         0,
         "N"
        ],
        [
         "Dr.",
         10,
         3,
         1952,
         "F",
         "D",
         "College",
         "2500",
         "Good",
         0,
         0,
         0,
         "Y"
        ],
        [
         "Dr.",
         17,
         10,
         1965,
         "M",
         "D",
         "2 yr Degree",
         "2500",
         "Good",
         0,
         0,
         0,
         "N"
        ],
        [
         "Sir",
         22,
         2,
         1965,
         "F",
         "M",
         "Primary",
         "3000",
         "Good",
         0,
         0,
         0,
         "N"
        ],
        [
         "Dr.",
         19,
         1,
         1933,
         "M",
         "U",
         "Primary",
         "3000",
         "Good",
         0,
         0,
         0,
         "N"
        ],
        [
         "Dr.",
         20,
         1,
         1933,
         "M",
         "D",
         "Secondary",
         "3000",
         "Good",
         0,
         0,
         0,
         "Y"
        ],
        [
         "Dr.",
         5,
         5,
         1966,
         "M",
         "W",
         "Secondary",
         "3000",
         "Good",
         0,
         0,
         0,
         "N"
        ],
        [
         "Mr.",
         10,
         3,
         1969,
         "F",
         "U",
         "Secondary",
         "3000",
         "Good",
         0,
         0,
         0,
         "Y"
        ],
        [
         "Dr.",
         6,
         5,
         1977,
         "M",
         "M",
         "College",
         "3000",
         "Good",
         0,
         0,
         0,
         "Y"
        ],
        [
         "Miss",
         14,
         3,
         1988,
         "M",
         "M",
         "2 yr Degree",
         "3000",
         "Good",
         0,
         0,
         0,
         "N"
        ],
        [
         "Ms.",
         30,
         10,
         1955,
         "F",
         "S",
         "2 yr Degree",
         "3000",
         "Good",
         0,
         0,
         0,
         "N"
        ],
        [
         "Dr.",
         29,
         7,
         1930,
         "M",
         "S",
         "4 yr Degree",
         "3000",
         "Good",
         0,
         0,
         0,
         "Y"
        ],
        [
         "Miss",
         7,
         12,
         1974,
         "M",
         "S",
         "4 yr Degree",
         "3500",
         "Good",
         0,
         0,
         0,
         "N"
        ],
        [
         "Dr.",
         5,
         9,
         1970,
         "F",
         "W",
         "Primary",
         "4000",
         "Good",
         0,
         0,
         0,
         "N"
        ],
        [
         "Dr.",
         20,
         9,
         1953,
         "M",
         "S",
         "Secondary",
         "4000",
         "Good",
         0,
         0,
         0,
         "N"
        ],
        [
         "Dr.",
         6,
         2,
         1991,
         "M",
         "W",
         "2 yr Degree",
         "4000",
         "Good",
         0,
         0,
         0,
         "N"
        ],
        [
         "Mr.",
         6,
         10,
         1986,
         "M",
         "S",
         "Advanced Degree",
         "4000",
         "Good",
         0,
         0,
         0,
         "Y"
        ],
        [
         "Mrs.",
         19,
         11,
         1983,
         "M",
         "W",
         "Advanced Degree",
         "4000",
         "Good",
         0,
         0,
         0,
         "N"
        ],
        [
         "Sir",
         23,
         5,
         1924,
         "M",
         "D",
         "Unknown",
         "4000",
         "Good",
         0,
         0,
         0,
         "N"
        ],
        [
         "Dr.",
         5,
         10,
         1977,
         "M",
         "W",
         "College",
         "4500",
         "Good",
         0,
         0,
         0,
         "Y"
        ],
        [
         "Miss",
         18,
         1,
         1934,
         "F",
         "U",
         "Advanced Degree",
         "4500",
         "Good",
         0,
         0,
         0,
         "N"
        ],
        [
         "Sir",
         13,
         7,
         1927,
         "M",
         "W",
         "College",
         "5000",
         "Good",
         0,
         0,
         0,
         "N"
        ],
        [
         "Miss",
         23,
         4,
         1980,
         "F",
         "D",
         "Advanced Degree",
         "5000",
         "Good",
         0,
         0,
         0,
         "N"
        ],
        [
         "Mrs.",
         9,
         1,
         1980,
         "F",
         "S",
         "Primary",
         "5500",
         "Good",
         0,
         0,
         0,
         "N"
        ],
        [
         "Mr.",
         11,
         8,
         1986,
         "F",
         "W",
         "Secondary",
         "5500",
         "Good",
         0,
         0,
         0,
         "Y"
        ],
        [
         null,
         null,
         4,
         null,
         "F",
         "W",
         "2 yr Degree",
         "5500",
         "Good",
         0,
         0,
         0,
         "N"
        ],
        [
         "Mr.",
         11,
         8,
         1971,
         "M",
         "M",
         "Advanced Degree",
         "5500",
         "Good",
         0,
         0,
         0,
         "Y"
        ],
        [
         "Dr.",
         22,
         7,
         1962,
         "F",
         "M",
         "Unknown",
         "5500",
         "Good",
         0,
         0,
         0,
         "Y"
        ],
        [
         "Mr.",
         15,
         5,
         1982,
         "M",
         "S",
         "College",
         "6000",
         "Good",
         0,
         0,
         0,
         "N"
        ],
        [
         "Dr.",
         11,
         8,
         1983,
         "F",
         "S",
         "4 yr Degree",
         "6000",
         "Good",
         0,
         0,
         0,
         "Y"
        ],
        [
         "Sir",
         5,
         6,
         1983,
         "F",
         "U",
         "4 yr Degree",
         "6000",
         "Good",
         0,
         0,
         0,
         "Y"
        ],
        [
         "Miss",
         3,
         2,
         1944,
         "F",
         "S",
         "Primary",
         "6500",
         "Good",
         0,
         0,
         0,
         "N"
        ],
        [
         "Dr.",
         11,
         2,
         1959,
         "M",
         "S",
         "College",
         "6500",
         "Good",
         0,
         0,
         0,
         "Y"
        ],
        [
         "Mrs.",
         17,
         8,
         1957,
         "F",
         "S",
         "Advanced Degree",
         "6500",
         "Good",
         0,
         0,
         0,
         "N"
        ],
        [
         "Dr.",
         9,
         5,
         1958,
         "M",
         "U",
         "Advanced Degree",
         "6500",
         "Good",
         0,
         0,
         0,
         "N"
        ],
        [
         "Dr.",
         22,
         9,
         1956,
         "F",
         "D",
         "College",
         "7000",
         "Good",
         0,
         0,
         0,
         "N"
        ],
        [
         "Sir",
         27,
         7,
         1965,
         "M",
         "S",
         "2 yr Degree",
         "7000",
         "Good",
         0,
         0,
         0,
         "N"
        ],
        [
         "Miss",
         5,
         5,
         1990,
         "M",
         "W",
         "2 yr Degree",
         "7000",
         "Good",
         0,
         0,
         0,
         "Y"
        ],
        [
         "Dr.",
         3,
         2,
         1926,
         "F",
         "U",
         "Secondary",
         "7500",
         "Good",
         0,
         0,
         0,
         "Y"
        ],
        [
         "Miss",
         19,
         3,
         1935,
         "F",
         "S",
         "College",
         "7500",
         "Good",
         0,
         0,
         0,
         "Y"
        ],
        [
         "Miss",
         14,
         8,
         1937,
         "F",
         "M",
         "Advanced Degree",
         "7500",
         "Good",
         0,
         0,
         0,
         "N"
        ],
        [
         "Dr.",
         6,
         12,
         1928,
         "M",
         "D",
         "4 yr Degree",
         "8000",
         "Good",
         0,
         0,
         0,
         "N"
        ],
        [
         "Ms.",
         22,
         3,
         1988,
         "F",
         "M",
         "Advanced Degree",
         "8000",
         "Good",
         0,
         0,
         0,
         "N"
        ],
        [
         "Dr.",
         12,
         6,
         1973,
         "M",
         "M",
         "Primary",
         "8500",
         "Good",
         0,
         0,
         0,
         "Y"
        ],
        [
         "Dr.",
         21,
         3,
         1991,
         "M",
         "D",
         "Advanced Degree",
         "8500",
         "Good",
         0,
         0,
         0,
         "N"
        ],
        [
         "Miss",
         30,
         3,
         1988,
         "M",
         "D",
         "Advanced Degree",
         "8500",
         "Good",
         0,
         0,
         0,
         "Y"
        ],
        [
         "Mrs.",
         25,
         4,
         1953,
         "M",
         "D",
         "Secondary",
         "9000",
         "Good",
         0,
         0,
         0,
         "Y"
        ],
        [
         "Mr.",
         19,
         12,
         1974,
         "F",
         "U",
         "2 yr Degree",
         "9000",
         "Good",
         0,
         0,
         0,
         "Y"
        ],
        [
         "Miss",
         1,
         12,
         1947,
         "M",
         "D",
         "Primary",
         "9500",
         "Good",
         0,
         0,
         0,
         "N"
        ],
        [
         "Mr.",
         17,
         10,
         1992,
         "F",
         "U",
         "Secondary",
         "9500",
         "Good",
         0,
         0,
         0,
         "Y"
        ],
        [
         "Dr.",
         14,
         7,
         1936,
         "M",
         "U",
         "College",
         "9500",
         "Good",
         0,
         0,
         0,
         "Y"
        ],
        [
         "Mr.",
         28,
         4,
         1924,
         "F",
         "U",
         "2 yr Degree",
         "10000",
         "Good",
         0,
         0,
         0,
         "Y"
        ],
        [
         "Sir",
         21,
         2,
         1959,
         "M",
         "M",
         "Advanced Degree",
         "10000",
         "Good",
         0,
         0,
         0,
         "N"
        ],
        [
         "Dr.",
         27,
         11,
         1951,
         "M",
         "S",
         "Advanced Degree",
         "10000",
         "Good",
         0,
         0,
         0,
         "Y"
        ],
        [
         "Sir",
         9,
         6,
         1932,
         "M",
         "M",
         "College",
         "500",
         "Low Risk",
         0,
         0,
         0,
         "N"
        ],
        [
         "Mrs.",
         16,
         4,
         1989,
         "M",
         "W",
         "College",
         "500",
         "Low Risk",
         0,
         0,
         0,
         "N"
        ],
        [
         "Dr.",
         24,
         6,
         1972,
         "M",
         "M",
         "Unknown",
         "500",
         "Low Risk",
         0,
         0,
         0,
         "N"
        ],
        [
         "Sir",
         16,
         11,
         1937,
         "M",
         "S",
         "Primary",
         "1000",
         "Low Risk",
         0,
         0,
         0,
         "Y"
        ],
        [
         "Dr.",
         15,
         12,
         1978,
         "F",
         "D",
         "4 yr Degree",
         "1000",
         "Low Risk",
         0,
         0,
         0,
         "N"
        ],
        [
         "Mrs.",
         1,
         3,
         1948,
         "F",
         "W",
         "4 yr Degree",
         "1000",
         "Low Risk",
         0,
         0,
         0,
         "Y"
        ],
        [
         "Mr.",
         19,
         6,
         1924,
         "F",
         "M",
         "Secondary",
         "2000",
         "Low Risk",
         0,
         0,
         0,
         "N"
        ],
        [
         "Mrs.",
         28,
         7,
         1951,
         "M",
         "M",
         "Advanced Degree",
         "2000",
         "Low Risk",
         0,
         0,
         0,
         "N"
        ],
        [
         "Mr.",
         30,
         1,
         1958,
         "M",
         "D",
         "Secondary",
         "2500",
         "Low Risk",
         0,
         0,
         0,
         "Y"
        ],
        [
         "Miss",
         28,
         9,
         1951,
         "M",
         "M",
         "Unknown",
         "2500",
         "Low Risk",
         0,
         0,
         0,
         "Y"
        ],
        [
         "Dr.",
         26,
         6,
         1931,
         "F",
         "S",
         "Unknown",
         "3000",
         "Low Risk",
         0,
         0,
         0,
         "Y"
        ],
        [
         "Mr.",
         30,
         9,
         1949,
         "M",
         "M",
         "Secondary",
         "3500",
         "Low Risk",
         0,
         0,
         0,
         "N"
        ],
        [
         "Mr.",
         18,
         8,
         1972,
         "M",
         "W",
         "Secondary",
         "3500",
         "Low Risk",
         0,
         0,
         0,
         "Y"
        ],
        [
         "Dr.",
         26,
         5,
         1983,
         "F",
         "U",
         "College",
         "3500",
         "Low Risk",
         0,
         0,
         0,
         "N"
        ],
        [
         "Miss",
         12,
         10,
         1941,
         "M",
         "M",
         "2 yr Degree",
         "3500",
         "Low Risk",
         0,
         0,
         0,
         "N"
        ],
        [
         "Miss",
         24,
         5,
         1951,
         "F",
         "S",
         "2 yr Degree",
         "3500",
         "Low Risk",
         0,
         0,
         0,
         "Y"
        ],
        [
         "Mr.",
         26,
         10,
         1979,
         "F",
         "M",
         "Advanced Degree",
         "3500",
         "Low Risk",
         0,
         0,
         0,
         "N"
        ],
        [
         "Dr.",
         12,
         12,
         1933,
         "F",
         "S",
         "Primary",
         "4500",
         "Low Risk",
         0,
         0,
         0,
         "Y"
        ],
        [
         "Sir",
         20,
         12,
         1931,
         "F",
         "W",
         "Primary",
         "4500",
         "Low Risk",
         0,
         0,
         0,
         "Y"
        ],
        [
         "Dr.",
         8,
         12,
         1947,
         "M",
         "S",
         "2 yr Degree",
         "4500",
         "Low Risk",
         0,
         0,
         0,
         "N"
        ],
        [
         "Ms.",
         9,
         4,
         1986,
         "M",
         "M",
         "4 yr Degree",
         "4500",
         "Low Risk",
         0,
         0,
         0,
         "N"
        ],
        [
         "Miss",
         31,
         7,
         1943,
         "F",
         "M",
         "Advanced Degree",
         "4500",
         "Low Risk",
         0,
         0,
         0,
         "Y"
        ],
        [
         "Dr.",
         12,
         11,
         1927,
         "F",
         "S",
         "Unknown",
         "4500",
         "Low Risk",
         0,
         0,
         0,
         "N"
        ],
        [
         "Dr.",
         16,
         10,
         1969,
         "F",
         "D",
         "College",
         "5000",
         "Low Risk",
         0,
         0,
         0,
         "Y"
        ],
        [
         "Dr.",
         9,
         6,
         1961,
         "F",
         "U",
         "2 yr Degree",
         "5000",
         "Low Risk",
         0,
         0,
         0,
         "Y"
        ],
        [
         "Ms.",
         27,
         4,
         1950,
         "F",
         "D",
         "Secondary",
         "5500",
         "Low Risk",
         0,
         0,
         0,
         "N"
        ],
        [
         "Miss",
         19,
         12,
         1953,
         "M",
         "S",
         "College",
         "5500",
         "Low Risk",
         0,
         0,
         0,
         "N"
        ],
        [
         "Mr.",
         16,
         6,
         1947,
         "M",
         "M",
         "2 yr Degree",
         "5500",
         "Low Risk",
         0,
         0,
         0,
         "Y"
        ],
        [
         "Mr.",
         1,
         1,
         1984,
         "F",
         "D",
         "Advanced Degree",
         "5500",
         "Low Risk",
         0,
         0,
         0,
         "N"
        ],
        [
         "Dr.",
         9,
         4,
         1992,
         "M",
         "M",
         "Primary",
         "6000",
         "Low Risk",
         0,
         0,
         0,
         "Y"
        ],
        [
         "Mr.",
         15,
         3,
         1956,
         "M",
         "S",
         "Secondary",
         "6000",
         "Low Risk",
         0,
         0,
         0,
         "N"
        ],
        [
         "Miss",
         10,
         5,
         1965,
         "M",
         "W",
         "Unknown",
         "6000",
         "Low Risk",
         0,
         0,
         0,
         "N"
        ],
        [
         "Mrs.",
         21,
         5,
         1934,
         "F",
         "W",
         "Unknown",
         "6000",
         "Low Risk",
         0,
         0,
         0,
         "N"
        ],
        [
         "Sir",
         24,
         3,
         1927,
         "F",
         "S",
         "Secondary",
         "6500",
         "Low Risk",
         0,
         0,
         0,
         "Y"
        ],
        [
         "Dr.",
         22,
         12,
         1988,
         "M",
         "W",
         "4 yr Degree",
         "6500",
         "Low Risk",
         0,
         0,
         0,
         "Y"
        ],
        [
         "Mrs.",
         8,
         5,
         1936,
         "M",
         "U",
         "Advanced Degree",
         "6500",
         "Low Risk",
         0,
         0,
         0,
         "N"
        ],
        [
         "Sir",
         4,
         12,
         1957,
         "M",
         "S",
         "Unknown",
         "6500",
         "Low Risk",
         0,
         0,
         0,
         "N"
        ],
        [
         "Dr.",
         18,
         5,
         1946,
         "F",
         "S",
         "Secondary",
         "7000",
         "Low Risk",
         0,
         0,
         0,
         "Y"
        ],
        [
         "Mr.",
         15,
         5,
         1930,
         "F",
         "S",
         "College",
         "7000",
         "Low Risk",
         0,
         0,
         0,
         "Y"
        ],
        [
         "Sir",
         20,
         8,
         1975,
         "F",
         "U",
         "College",
         "7000",
         "Low Risk",
         0,
         0,
         0,
         "N"
        ],
        [
         "Dr.",
         13,
         3,
         1979,
         "F",
         "M",
         "2 yr Degree",
         "7000",
         "Low Risk",
         0,
         0,
         0,
         "N"
        ],
        [
         "Miss",
         1,
         4,
         1967,
         "M",
         "S",
         "4 yr Degree",
         "7500",
         "Low Risk",
         0,
         0,
         0,
         "Y"
        ],
        [
         "Miss",
         28,
         5,
         1952,
         "F",
         "D",
         "4 yr Degree",
         "7500",
         "Low Risk",
         0,
         0,
         0,
         "Y"
        ],
        [
         "Dr.",
         14,
         5,
         1926,
         "F",
         "W",
         "Unknown",
         "7500",
         "Low Risk",
         0,
         0,
         0,
         "N"
        ],
        [
         "Mr.",
         3,
         3,
         1938,
         "M",
         "W",
         "Primary",
         "8000",
         "Low Risk",
         0,
         0,
         0,
         "N"
        ],
        [
         "Mr.",
         3,
         6,
         1984,
         "M",
         "M",
         "Secondary",
         "8000",
         "Low Risk",
         0,
         0,
         0,
         "Y"
        ],
        [
         "Dr.",
         23,
         6,
         1982,
         "M",
         "W",
         "Secondary",
         "8000",
         "Low Risk",
         0,
         0,
         0,
         "N"
        ],
        [
         "Dr.",
         31,
         10,
         1937,
         "F",
         "M",
         "4 yr Degree",
         "8000",
         "Low Risk",
         0,
         0,
         0,
         "N"
        ],
        [
         "Mrs.",
         10,
         10,
         1989,
         "F",
         "M",
         "Primary",
         "8500",
         "Low Risk",
         0,
         0,
         0,
         "Y"
        ],
        [
         "Dr.",
         24,
         3,
         1931,
         "F",
         "S",
         "Primary",
         "8500",
         "Low Risk",
         0,
         0,
         0,
         "N"
        ],
        [
         "Ms.",
         30,
         11,
         1991,
         "F",
         "U",
         "Primary",
         "8500",
         "Low Risk",
         0,
         0,
         0,
         "Y"
        ],
        [
         "Mrs.",
         12,
         10,
         1959,
         "F",
         "S",
         "Primary",
         "9000",
         "Low Risk",
         0,
         0,
         0,
         "N"
        ],
        [
         "Miss",
         4,
         5,
         1925,
         "F",
         "D",
         "Primary",
         "9000",
         "Low Risk",
         0,
         0,
         0,
         "N"
        ],
        [
         "Mr.",
         27,
         4,
         1945,
         "M",
         "M",
         "4 yr Degree",
         "9000",
         "Low Risk",
         0,
         0,
         0,
         "Y"
        ],
        [
         "Mrs.",
         24,
         9,
         1952,
         "M",
         "S",
         "Secondary",
         "9500",
         "Low Risk",
         0,
         0,
         0,
         "N"
        ],
        [
         "Mrs.",
         30,
         6,
         1939,
         "M",
         "S",
         "2 yr Degree",
         "9500",
         "Low Risk",
         0,
         0,
         0,
         "N"
        ],
        [
         "Mrs.",
         26,
         3,
         1956,
         "M",
         "W",
         "4 yr Degree",
         "9500",
         "Low Risk",
         0,
         0,
         0,
         "N"
        ],
        [
         "Mr.",
         15,
         8,
         1947,
         "M",
         "W",
         "4 yr Degree",
         "9500",
         "Low Risk",
         0,
         0,
         0,
         "Y"
        ],
        [
         "Mr.",
         5,
         7,
         1949,
         "F",
         "M",
         "Advanced Degree",
         "9500",
         "Low Risk",
         0,
         0,
         0,
         "Y"
        ],
        [
         "Miss",
         27,
         9,
         1992,
         "F",
         "U",
         "Primary",
         "10000",
         "Low Risk",
         0,
         0,
         0,
         "Y"
        ],
        [
         "Sir",
         22,
         6,
         1925,
         "F",
         "S",
         "4 yr Degree",
         "10000",
         "Low Risk",
         0,
         0,
         0,
         "N"
        ],
        [
         "Dr.",
         21,
         1,
         1972,
         "F",
         "S",
         "Unknown",
         "10000",
         "Low Risk",
         0,
         0,
         0,
         "N"
        ],
        [
         "Miss",
         2,
         10,
         1945,
         "F",
         "M",
         "Primary",
         "500",
         "High Risk",
         0,
         0,
         0,
         "N"
        ],
        [
         "Mrs.",
         23,
         6,
         1958,
         "M",
         "W",
         "Primary",
         "500",
         "High Risk",
         0,
         0,
         0,
         "Y"
        ],
        [
         "Mr.",
         23,
         2,
         1956,
         "M",
         "D",
         "2 yr Degree",
         "500",
         "High Risk",
         0,
         0,
         0,
         "Y"
        ],
        [
         "Dr.",
         20,
         6,
         1938,
         "F",
         "S",
         "2 yr Degree",
         "1000",
         "High Risk",
         0,
         0,
         0,
         "Y"
        ],
        [
         "Mrs.",
         16,
         8,
         1971,
         "M",
         "W",
         "Secondary",
         "2000",
         "High Risk",
         0,
         0,
         0,
         "Y"
        ],
        [
         "Dr.",
         29,
         7,
         1977,
         "M",
         "W",
         "2 yr Degree",
         "2000",
         "High Risk",
         0,
         0,
         0,
         "Y"
        ],
        [
         "Ms.",
         4,
         10,
         1968,
         "F",
         "W",
         "Secondary",
         "2500",
         "High Risk",
         0,
         0,
         0,
         "N"
        ],
        [
         "Mr.",
         13,
         3,
         1968,
         "M",
         "M",
         "2 yr Degree",
         "2500",
         "High Risk",
         0,
         0,
         0,
         "Y"
        ],
        [
         "Sir",
         25,
         8,
         1928,
         "M",
         "U",
         "2 yr Degree",
         "2500",
         "High Risk",
         0,
         0,
         0,
         "N"
        ],
        [
         "Ms.",
         24,
         4,
         1931,
         "F",
         "M",
         "Unknown",
         "2500",
         "High Risk",
         0,
         0,
         0,
         "N"
        ],
        [
         "Mrs.",
         11,
         4,
         1934,
         "M",
         "S",
         "Unknown",
         "2500",
         "High Risk",
         0,
         0,
         0,
         "N"
        ],
        [
         "Miss",
         21,
         8,
         1983,
         "F",
         "S",
         "Unknown",
         "2500",
         "High Risk",
         0,
         0,
         0,
         "Y"
        ],
        [
         "Miss",
         4,
         9,
         1980,
         "M",
         "S",
         "2 yr Degree",
         "3000",
         "High Risk",
         0,
         0,
         0,
         "N"
        ],
        [
         "Dr.",
         19,
         1,
         1981,
         "M",
         "S",
         "2 yr Degree",
         "3000",
         "High Risk",
         0,
         0,
         0,
         "Y"
        ],
        [
         "Sir",
         7,
         1,
         1985,
         "M",
         "W",
         "2 yr Degree",
         "3000",
         "High Risk",
         0,
         0,
         0,
         "N"
        ],
        [
         "Miss",
         5,
         5,
         1952,
         "F",
         "W",
         "4 yr Degree",
         "3000",
         "High Risk",
         0,
         0,
         0,
         "Y"
        ],
        [
         "Miss",
         30,
         8,
         1983,
         "M",
         "U",
         "Advanced Degree",
         "3000",
         "High Risk",
         0,
         0,
         0,
         "N"
        ],
        [
         "Sir",
         21,
         4,
         1989,
         "F",
         "D",
         "Unknown",
         "3000",
         "High Risk",
         0,
         0,
         0,
         "Y"
        ],
        [
         "Sir",
         29,
         5,
         1951,
         "F",
         "M",
         "Secondary",
         "3500",
         "High Risk",
         0,
         0,
         0,
         "N"
        ],
        [
         "Mrs.",
         3,
         12,
         1952,
         "F",
         "S",
         "College",
         "3500",
         "High Risk",
         0,
         0,
         0,
         "Y"
        ],
        [
         "Dr.",
         22,
         11,
         1961,
         "M",
         "U",
         "4 yr Degree",
         "3500",
         "High Risk",
         0,
         0,
         0,
         "N"
        ],
        [
         "Miss",
         20,
         1,
         1951,
         "F",
         "S",
         "Secondary",
         "4000",
         "High Risk",
         0,
         0,
         0,
         "Y"
        ],
        [
         "Sir",
         9,
         10,
         1959,
         "F",
         "D",
         "Secondary",
         "4000",
         "High Risk",
         0,
         0,
         0,
         "N"
        ],
        [
         "Dr.",
         17,
         6,
         1943,
         "M",
         "D",
         "Advanced Degree",
         "4500",
         "High Risk",
         0,
         0,
         0,
         "N"
        ],
        [
         "Ms.",
         20,
         8,
         1979,
         "F",
         "D",
         "Secondary",
         "5000",
         "High Risk",
         0,
         0,
         0,
         "Y"
        ],
        [
         "Miss",
         5,
         12,
         1939,
         "M",
         "S",
         "2 yr Degree",
         "5000",
         "High Risk",
         0,
         0,
         0,
         "Y"
        ],
        [
         "Mrs.",
         18,
         11,
         1956,
         "M",
         "D",
         "2 yr Degree",
         "5000",
         "High Risk",
         0,
         0,
         0,
         "N"
        ],
        [
         "Sir",
         21,
         7,
         1945,
         "M",
         "W",
         "Advanced Degree",
         "5000",
         "High Risk",
         0,
         0,
         0,
         "N"
        ],
        [
         "Mr.",
         18,
         12,
         1978,
         "F",
         "W",
         "Primary",
         "6000",
         "High Risk",
         0,
         0,
         0,
         "N"
        ],
        [
         "Dr.",
         28,
         9,
         1965,
         "F",
         "M",
         "Advanced Degree",
         "6000",
         "High Risk",
         0,
         0,
         0,
         "Y"
        ],
        [
         "Ms.",
         11,
         1,
         1942,
         "F",
         "M",
         "Secondary",
         "6500",
         "High Risk",
         0,
         0,
         0,
         "N"
        ],
        [
         "Dr.",
         8,
         3,
         1939,
         "F",
         "U",
         "College",
         "6500",
         "High Risk",
         0,
         0,
         0,
         "N"
        ],
        [
         "Ms.",
         2,
         12,
         1983,
         "M",
         "D",
         "Unknown",
         "6500",
         "High Risk",
         0,
         0,
         0,
         "Y"
        ],
        [
         "Dr.",
         12,
         9,
         1961,
         "M",
         "U",
         "Unknown",
         "6500",
         "High Risk",
         0,
         0,
         0,
         "N"
        ],
        [
         "Miss",
         1,
         2,
         1956,
         "F",
         "D",
         "Advanced Degree",
         "7000",
         "High Risk",
         0,
         0,
         0,
         "Y"
        ],
        [
         "Ms.",
         13,
         2,
         1977,
         "F",
         "M",
         "Unknown",
         "7000",
         "High Risk",
         0,
         0,
         0,
         "Y"
        ],
        [
         "Sir",
         14,
         12,
         1947,
         "F",
         "S",
         "Unknown",
         "7000",
         "High Risk",
         0,
         0,
         0,
         "Y"
        ],
        [
         "Dr.",
         17,
         4,
         1955,
         "M",
         "M",
         "Primary",
         "7500",
         "High Risk",
         0,
         0,
         0,
         "Y"
        ],
        [
         "Sir",
         5,
         9,
         1933,
         "F",
         "W",
         "Secondary",
         "7500",
         "High Risk",
         0,
         0,
         0,
         "Y"
        ],
        [
         "Ms.",
         27,
         4,
         1924,
         "M",
         "S",
         "College",
         "7500",
         "High Risk",
         0,
         0,
         0,
         "N"
        ],
        [
         "Dr.",
         18,
         11,
         1962,
         "M",
         "M",
         "2 yr Degree",
         "7500",
         "High Risk",
         0,
         0,
         0,
         "Y"
        ],
        [
         "Dr.",
         16,
         8,
         1933,
         "M",
         "D",
         "2 yr Degree",
         "7500",
         "High Risk",
         0,
         0,
         0,
         "Y"
        ],
        [
         "Ms.",
         8,
         10,
         1944,
         "M",
         "M",
         "Unknown",
         "7500",
         "High Risk",
         0,
         0,
         0,
         "Y"
        ],
        [
         "Sir",
         30,
         1,
         1975,
         "M",
         "M",
         "Primary",
         "8000",
         "High Risk",
         0,
         0,
         0,
         "N"
        ],
        [
         "Dr.",
         30,
         8,
         1987,
         "M",
         "D",
         "Primary",
         "8000",
         "High Risk",
         0,
         0,
         0,
         "N"
        ],
        [
         "Mr.",
         6,
         7,
         1974,
         "M",
         "S",
         "4 yr Degree",
         "8000",
         "High Risk",
         0,
         0,
         0,
         "N"
        ],
        [
         "Sir",
         28,
         6,
         1957,
         "F",
         "S",
         "Primary",
         "8500",
         "High Risk",
         0,
         0,
         0,
         "Y"
        ],
        [
         "Sir",
         17,
         10,
         1945,
         "M",
         "W",
         "Secondary",
         "8500",
         "High Risk",
         0,
         0,
         0,
         "N"
        ],
        [
         "Dr.",
         6,
         11,
         1941,
         "M",
         "S",
         "College",
         "8500",
         "High Risk",
         0,
         0,
         0,
         "N"
        ],
        [
         "Mrs.",
         18,
         3,
         1974,
         "F",
         "D",
         "2 yr Degree",
         "8500",
         "High Risk",
         0,
         0,
         0,
         "Y"
        ],
        [
         "Mr.",
         6,
         9,
         1944,
         "M",
         "U",
         "4 yr Degree",
         "8500",
         "High Risk",
         0,
         0,
         0,
         "Y"
        ],
        [
         "Mr.",
         6,
         2,
         1945,
         "M",
         "U",
         "Unknown",
         "8500",
         "High Risk",
         0,
         0,
         0,
         "Y"
        ],
        [
         "Miss",
         12,
         4,
         1958,
         "F",
         "W",
         "Secondary",
         "9000",
         "High Risk",
         0,
         0,
         0,
         "Y"
        ],
        [
         "Miss",
         19,
         4,
         1952,
         "M",
         "D",
         "College",
         "9000",
         "High Risk",
         0,
         0,
         0,
         "N"
        ],
        [
         "Ms.",
         26,
         3,
         1982,
         "F",
         "M",
         "Unknown",
         "9000",
         "High Risk",
         0,
         0,
         0,
         "N"
        ],
        [
         "Ms.",
         19,
         8,
         1953,
         "M",
         "D",
         "2 yr Degree",
         "9500",
         "High Risk",
         0,
         0,
         0,
         "Y"
        ],
        [
         "Ms.",
         22,
         8,
         1956,
         "F",
         "M",
         "4 yr Degree",
         "9500",
         "High Risk",
         0,
         0,
         0,
         "N"
        ],
        [
         "Mr.",
         21,
         9,
         1975,
         "M",
         "D",
         "Advanced Degree",
         "9500",
         "High Risk",
         0,
         0,
         0,
         "N"
        ],
        [
         "Dr.",
         11,
         5,
         1924,
         "F",
         "U",
         "Unknown",
         "9500",
         "High Risk",
         0,
         0,
         0,
         "N"
        ],
        [
         "Mr.",
         31,
         8,
         1988,
         "F",
         "U",
         "Secondary",
         "500",
         "Unknown",
         0,
         0,
         0,
         "Y"
        ],
        [
         "Sir",
         18,
         6,
         1976,
         "M",
         "U",
         "College",
         "500",
         "Unknown",
         0,
         0,
         0,
         "N"
        ],
        [
         "Miss",
         17,
         3,
         1955,
         "F",
         "D",
         "2 yr Degree",
         "500",
         "Unknown",
         0,
         0,
         0,
         "N"
        ],
        [
         "Mrs.",
         6,
         1,
         1928,
         "F",
         "M",
         "Unknown",
         "500",
         "Unknown",
         0,
         0,
         0,
         "N"
        ],
        [
         "Dr.",
         5,
         7,
         1970,
         "M",
         "U",
         "Primary",
         "1000",
         "Unknown",
         0,
         0,
         0,
         "N"
        ],
        [
         null,
         null,
         2,
         1929,
         "F",
         "S",
         "Advanced Degree",
         "1000",
         "Unknown",
         0,
         0,
         0,
         "Y"
        ],
        [
         "Sir",
         9,
         6,
         1930,
         "M",
         "S",
         "Primary",
         "1500",
         "Unknown",
         0,
         0,
         0,
         "Y"
        ],
        [
         "Mr.",
         2,
         2,
         1986,
         "M",
         "D",
         "Secondary",
         "1500",
         "Unknown",
         0,
         0,
         0,
         "Y"
        ],
        [
         "Sir",
         12,
         12,
         1943,
         "M",
         "W",
         "2 yr Degree",
         "1500",
         "Unknown",
         0,
         0,
         0,
         "N"
        ],
        [
         "Miss",
         25,
         11,
         1935,
         "M",
         "M",
         "Primary",
         "2000",
         "Unknown",
         0,
         0,
         0,
         "Y"
        ],
        [
         "Sir",
         26,
         10,
         1980,
         "M",
         "U",
         "Primary",
         "2000",
         "Unknown",
         0,
         0,
         0,
         "Y"
        ],
        [
         "Miss",
         9,
         10,
         1950,
         "F",
         "U",
         "Secondary",
         "2000",
         "Unknown",
         0,
         0,
         0,
         "Y"
        ],
        [
         "Miss",
         14,
         3,
         1966,
         "M",
         "W",
         "4 yr Degree",
         "2000",
         "Unknown",
         0,
         0,
         0,
         "N"
        ],
        [
         "Sir",
         10,
         12,
         1972,
         "F",
         "U",
         "Advanced Degree",
         "2000",
         "Unknown",
         0,
         0,
         0,
         "Y"
        ],
        [
         "Dr.",
         11,
         8,
         1940,
         "F",
         "U",
         "Secondary",
         "2500",
         "Unknown",
         0,
         0,
         0,
         "Y"
        ],
        [
         "Dr.",
         31,
         1,
         1938,
         "M",
         "D",
         "2 yr Degree",
         "2500",
         "Unknown",
         0,
         0,
         0,
         "N"
        ],
        [
         "Dr.",
         28,
         3,
         1951,
         "F",
         "M",
         "Advanced Degree",
         "2500",
         "Unknown",
         0,
         0,
         0,
         "Y"
        ],
        [
         "Mr.",
         6,
         7,
         1953,
         "M",
         "S",
         "Unknown",
         "2500",
         "Unknown",
         0,
         0,
         0,
         "N"
        ],
        [
         "Mrs.",
         30,
         4,
         1991,
         "M",
         "U",
         "Unknown",
         "2500",
         "Unknown",
         0,
         0,
         0,
         "N"
        ],
        [
         "Sir",
         23,
         11,
         1979,
         "F",
         "D",
         "College",
         "3500",
         "Unknown",
         0,
         0,
         0,
         "Y"
        ],
        [
         "Dr.",
         16,
         9,
         1969,
         "M",
         "M",
         "2 yr Degree",
         "3500",
         "Unknown",
         0,
         0,
         0,
         "Y"
        ],
        [
         "Mr.",
         18,
         10,
         1933,
         "F",
         "M",
         "Unknown",
         "3500",
         "Unknown",
         0,
         0,
         0,
         "Y"
        ],
        [
         "Mrs.",
         20,
         3,
         1991,
         "M",
         "D",
         "Primary",
         "4000",
         "Unknown",
         0,
         0,
         0,
         "N"
        ],
        [
         "Dr.",
         20,
         11,
         1950,
         "F",
         "D",
         "4 yr Degree",
         "4000",
         "Unknown",
         0,
         0,
         0,
         "N"
        ],
        [
         "Mrs.",
         4,
         4,
         1966,
         "M",
         "W",
         "Advanced Degree",
         "4000",
         "Unknown",
         0,
         0,
         0,
         "N"
        ],
        [
         "Miss",
         30,
         7,
         1959,
         "F",
         "U",
         "Advanced Degree",
         "4000",
         "Unknown",
         0,
         0,
         0,
         "Y"
        ],
        [
         "Dr.",
         2,
         1,
         1926,
         "M",
         "U",
         "Unknown",
         "4000",
         "Unknown",
         0,
         0,
         0,
         "N"
        ],
        [
         "Dr.",
         19,
         2,
         1930,
         "M",
         "M",
         "Primary",
         "4500",
         "Unknown",
         0,
         0,
         0,
         "N"
        ],
        [
         "Sir",
         29,
         10,
         1992,
         "F",
         "D",
         "Primary",
         "4500",
         "Unknown",
         0,
         0,
         0,
         "Y"
        ],
        [
         "Dr.",
         28,
         4,
         1968,
         "F",
         "M",
         "College",
         "4500",
         "Unknown",
         0,
         0,
         0,
         "N"
        ],
        [
         "Sir",
         18,
         6,
         1934,
         "F",
         "S",
         "Unknown",
         "4500",
         "Unknown",
         0,
         0,
         0,
         "N"
        ],
        [
         "Dr.",
         10,
         3,
         1933,
         "F",
         "U",
         "Unknown",
         "4500",
         "Unknown",
         0,
         0,
         0,
         "N"
        ],
        [
         "Mr.",
         1,
         12,
         1936,
         "F",
         "W",
         "4 yr Degree",
         "5000",
         "Unknown",
         0,
         0,
         0,
         "N"
        ],
        [
         "Mr.",
         28,
         1,
         1966,
         "M",
         "S",
         "Secondary",
         "5500",
         "Unknown",
         0,
         0,
         0,
         "Y"
        ],
        [
         "Dr.",
         19,
         10,
         1944,
         "F",
         "D",
         "Secondary",
         "5500",
         "Unknown",
         0,
         0,
         0,
         "Y"
        ],
        [
         "Sir",
         29,
         2,
         1980,
         "M",
         "D",
         "4 yr Degree",
         "5500",
         "Unknown",
         0,
         0,
         0,
         "Y"
        ],
        [
         "Sir",
         null,
         12,
         null,
         "F",
         "S",
         "Unknown",
         "5500",
         "Unknown",
         0,
         0,
         0,
         "Y"
        ],
        [
         "Dr.",
         10,
         1,
         1984,
         "M",
         "S",
         "2 yr Degree",
         "6000",
         "Unknown",
         0,
         0,
         0,
         "N"
        ],
        [
         "Dr.",
         6,
         12,
         1983,
         "F",
         "D",
         "2 yr Degree",
         "6000",
         "Unknown",
         0,
         0,
         0,
         "N"
        ],
        [
         "Dr.",
         21,
         12,
         1962,
         "M",
         "D",
         "Secondary",
         "6500",
         "Unknown",
         0,
         0,
         0,
         "N"
        ],
        [
         "Mr.",
         25,
         7,
         1982,
         "M",
         "W",
         "Secondary",
         "6500",
         "Unknown",
         0,
         0,
         0,
         "Y"
        ],
        [
         "Miss",
         30,
         12,
         1942,
         "F",
         "M",
         "College",
         "6500",
         "Unknown",
         0,
         0,
         0,
         "N"
        ],
        [
         "Dr.",
         1,
         2,
         1967,
         "M",
         "W",
         "College",
         "6500",
         "Unknown",
         0,
         0,
         0,
         "Y"
        ],
        [
         "Sir",
         9,
         4,
         1987,
         "F",
         "W",
         "2 yr Degree",
         "6500",
         "Unknown",
         0,
         0,
         0,
         "Y"
        ],
        [
         "Sir",
         11,
         2,
         1986,
         "F",
         "U",
         "Unknown",
         "6500",
         "Unknown",
         0,
         0,
         0,
         "N"
        ],
        [
         "Mr.",
         17,
         1,
         1944,
         "M",
         "U",
         "Primary",
         "7000",
         "Unknown",
         0,
         0,
         0,
         "N"
        ],
        [
         "Miss",
         30,
         12,
         1949,
         "F",
         "W",
         "College",
         "7000",
         "Unknown",
         0,
         0,
         0,
         "N"
        ],
        [
         "Ms.",
         19,
         7,
         1987,
         "M",
         "U",
         "4 yr Degree",
         "7000",
         "Unknown",
         0,
         0,
         0,
         "Y"
        ],
        [
         "Sir",
         12,
         2,
         1943,
         "M",
         "D",
         "Advanced Degree",
         "7000",
         "Unknown",
         0,
         0,
         0,
         "Y"
        ],
        [
         "Dr.",
         7,
         9,
         1929,
         "M",
         "D",
         "Advanced Degree",
         "7000",
         "Unknown",
         0,
         0,
         0,
         "Y"
        ],
        [
         "Mrs.",
         30,
         12,
         1951,
         "F",
         "M",
         "Unknown",
         "7000",
         "Unknown",
         0,
         0,
         0,
         "Y"
        ],
        [
         "Dr.",
         11,
         9,
         1946,
         "F",
         "S",
         "Advanced Degree",
         "7500",
         "Unknown",
         0,
         0,
         0,
         "Y"
        ],
        [
         "Sir",
         6,
         7,
         1963,
         "M",
         "M",
         "Unknown",
         "7500",
         "Unknown",
         0,
         0,
         0,
         "N"
        ],
        [
         "Miss",
         29,
         9,
         1932,
         "F",
         "D",
         "Unknown",
         "7500",
         "Unknown",
         0,
         0,
         0,
         "N"
        ],
        [
         "Dr.",
         27,
         3,
         1961,
         "M",
         "S",
         "College",
         "8000",
         "Unknown",
         0,
         0,
         0,
         "N"
        ],
        [
         "Miss",
         8,
         4,
         1936,
         "M",
         "M",
         "4 yr Degree",
         "8000",
         "Unknown",
         0,
         0,
         0,
         "N"
        ],
        [
         "Ms.",
         28,
         6,
         1942,
         "M",
         "D",
         "4 yr Degree",
         "8000",
         "Unknown",
         0,
         0,
         0,
         "N"
        ],
        [
         "Dr.",
         19,
         8,
         1934,
         "M",
         "M",
         "Advanced Degree",
         "8000",
         "Unknown",
         0,
         0,
         0,
         "N"
        ],
        [
         "Mr.",
         30,
         11,
         1979,
         "M",
         "M",
         "Unknown",
         "8000",
         "Unknown",
         0,
         0,
         0,
         "N"
        ],
        [
         "Dr.",
         25,
         11,
         1962,
         "M",
         "M",
         "College",
         "8500",
         "Unknown",
         0,
         0,
         0,
         "Y"
        ],
        [
         "Dr.",
         13,
         3,
         1932,
         "F",
         "S",
         "Secondary",
         "9000",
         "Unknown",
         0,
         0,
         0,
         "Y"
        ],
        [
         "Dr.",
         7,
         4,
         1964,
         "F",
         "D",
         "4 yr Degree",
         "9000",
         "Unknown",
         0,
         0,
         0,
         "N"
        ],
        [
         "Mr.",
         20,
         10,
         1941,
         "M",
         "W",
         "4 yr Degree",
         "9000",
         "Unknown",
         0,
         0,
         0,
         "Y"
        ],
        [
         "Miss",
         7,
         11,
         1958,
         "M",
         "S",
         "Advanced Degree",
         "9000",
         "Unknown",
         0,
         0,
         0,
         "N"
        ],
        [
         "Sir",
         3,
         9,
         1988,
         "M",
         "D",
         "Advanced Degree",
         "9000",
         "Unknown",
         0,
         0,
         0,
         "N"
        ],
        [
         "Sir",
         11,
         6,
         1929,
         "M",
         "W",
         "Advanced Degree",
         "9000",
         "Unknown",
         0,
         0,
         0,
         "N"
        ],
        [
         "Dr.",
         6,
         5,
         1990,
         "F",
         "U",
         "Primary",
         "9500",
         "Unknown",
         0,
         0,
         0,
         "Y"
        ],
        [
         "Mrs.",
         10,
         10,
         1938,
         "M",
         "D",
         "Secondary",
         "9500",
         "Unknown",
         0,
         0,
         0,
         "N"
        ],
        [
         "Sir",
         2,
         4,
         1940,
         "M",
         "W",
         "College",
         "9500",
         "Unknown",
         0,
         0,
         0,
         "Y"
        ],
        [
         "Mrs.",
         2,
         9,
         1938,
         "F",
         "M",
         "Unknown",
         "10000",
         "Unknown",
         0,
         0,
         0,
         "N"
        ],
        [
         "Sir",
         14,
         10,
         1936,
         "F",
         "D",
         "Primary",
         "500",
         "Good",
         1,
         0,
         0,
         "N"
        ],
        [
         "Dr.",
         23,
         1,
         1938,
         "F",
         "S",
         "Secondary",
         "500",
         "Good",
         1,
         0,
         0,
         "N"
        ],
        [
         "Dr.",
         5,
         10,
         1934,
         "F",
         "D",
         "College",
         "500",
         "Good",
         1,
         0,
         0,
         "Y"
        ],
        [
         "Dr.",
         5,
         6,
         1969,
         "F",
         "W",
         "Advanced Degree",
         "500",
         "Good",
         1,
         0,
         0,
         "N"
        ],
        [
         "Sir",
         1,
         8,
         1949,
         "F",
         "M",
         "Secondary",
         "1000",
         "Good",
         1,
         0,
         0,
         "N"
        ],
        [
         "Dr.",
         20,
         7,
         1978,
         "F",
         "U",
         "2 yr Degree",
         "1000",
         "Good",
         1,
         0,
         0,
         "N"
        ],
        [
         "Mr.",
         30,
         10,
         1947,
         "M",
         "D",
         "Unknown",
         "1000",
         "Good",
         1,
         0,
         0,
         "Y"
        ],
        [
         "Sir",
         28,
         6,
         1973,
         "M",
         "D",
         "Secondary",
         "1500",
         "Good",
         1,
         0,
         0,
         "N"
        ],
        [
         "Ms.",
         7,
         10,
         1973,
         "F",
         "S",
         "2 yr Degree",
         "1500",
         "Good",
         1,
         0,
         0,
         "Y"
        ],
        [
         "Sir",
         25,
         6,
         1933,
         "M",
         "D",
         "College",
         "2000",
         "Good",
         1,
         0,
         0,
         "Y"
        ],
        [
         "Miss",
         5,
         3,
         1929,
         "M",
         "U",
         "4 yr Degree",
         "2000",
         "Good",
         1,
         0,
         0,
         "N"
        ],
        [
         "Sir",
         8,
         1,
         1949,
         "F",
         "M",
         "Advanced Degree",
         "2000",
         "Good",
         1,
         0,
         0,
         "Y"
        ],
        [
         "Mrs.",
         6,
         11,
         1970,
         "M",
         "S",
         "Primary",
         "2500",
         "Good",
         1,
         0,
         0,
         "Y"
        ],
        [
         "Ms.",
         3,
         11,
         1982,
         "F",
         "S",
         "Primary",
         "2500",
         "Good",
         1,
         0,
         0,
         "N"
        ],
        [
         "Ms.",
         7,
         12,
         1929,
         "F",
         "U",
         "Secondary",
         "2500",
         "Good",
         1,
         0,
         0,
         "Y"
        ],
        [
         "Dr.",
         29,
         10,
         1984,
         "F",
         "M",
         "Secondary",
         "3000",
         "Good",
         1,
         0,
         0,
         "N"
        ],
        [
         "Miss",
         15,
         10,
         1935,
         "M",
         "M",
         "Primary",
         "3500",
         "Good",
         1,
         0,
         0,
         "N"
        ],
        [
         "Miss",
         null,
         1,
         null,
         "F",
         "S",
         "Primary",
         "3500",
         "Good",
         1,
         0,
         0,
         "Y"
        ],
        [
         "Dr.",
         14,
         6,
         1965,
         "F",
         "S",
         "Advanced Degree",
         "3500",
         "Good",
         1,
         0,
         0,
         "N"
        ],
        [
         "Dr.",
         22,
         3,
         1944,
         "M",
         "U",
         "Unknown",
         "3500",
         "Good",
         1,
         0,
         0,
         "N"
        ],
        [
         "Sir",
         20,
         10,
         1980,
         "M",
         "U",
         "Secondary",
         "4000",
         "Good",
         1,
         0,
         0,
         "Y"
        ],
        [
         "Dr.",
         27,
         1,
         1925,
         "M",
         "W",
         "College",
         "4000",
         "Good",
         1,
         0,
         0,
         "Y"
        ],
        [
         "Sir",
         16,
         9,
         1957,
         "M",
         "D",
         "4 yr Degree",
         "4000",
         "Good",
         1,
         0,
         0,
         "Y"
        ],
        [
         "Dr.",
         26,
         2,
         1986,
         "M",
         "M",
         "Advanced Degree",
         "4000",
         "Good",
         1,
         0,
         0,
         "N"
        ],
        [
         "Mr.",
         31,
         5,
         1968,
         "M",
         "S",
         "Secondary",
         "4500",
         "Good",
         1,
         0,
         0,
         "N"
        ],
        [
         "Mr.",
         13,
         3,
         1935,
         "M",
         "S",
         "2 yr Degree",
         "4500",
         "Good",
         1,
         0,
         0,
         "Y"
        ],
        [
         "Dr.",
         23,
         12,
         1937,
         "F",
         "W",
         "4 yr Degree",
         "4500",
         "Good",
         1,
         0,
         0,
         "N"
        ],
        [
         "Sir",
         15,
         2,
         1942,
         "F",
         "D",
         "4 yr Degree",
         "5000",
         "Good",
         1,
         0,
         0,
         "N"
        ],
        [
         "Ms.",
         18,
         9,
         1927,
         "F",
         "U",
         "Advanced Degree",
         "5000",
         "Good",
         1,
         0,
         0,
         "N"
        ],
        [
         "Sir",
         8,
         1,
         1987,
         "F",
         "U",
         "College",
         "5500",
         "Good",
         1,
         0,
         0,
         "N"
        ],
        [
         "Mr.",
         26,
         12,
         1927,
         "F",
         "S",
         "4 yr Degree",
         "5500",
         "Good",
         1,
         0,
         0,
         "Y"
        ],
        [
         "Miss",
         19,
         9,
         1962,
         "F",
         "S",
         "Unknown",
         "5500",
         "Good",
         1,
         0,
         0,
         "Y"
        ],
        [
         "Dr.",
         30,
         7,
         1989,
         "F",
         "U",
         "College",
         "6000",
         "Good",
         1,
         0,
         0,
         "Y"
        ],
        [
         "Miss",
         30,
         6,
         1984,
         "M",
         "D",
         "Unknown",
         "6500",
         "Good",
         1,
         0,
         0,
         "N"
        ],
        [
         "Dr.",
         9,
         12,
         1975,
         "F",
         "W",
         "Unknown",
         "6500",
         "Good",
         1,
         0,
         0,
         "N"
        ],
        [
         "Dr.",
         31,
         7,
         1959,
         "M",
         "M",
         "2 yr Degree",
         "7000",
         "Good",
         1,
         0,
         0,
         "Y"
        ],
        [
         "Dr.",
         14,
         8,
         1939,
         "M",
         "D",
         "2 yr Degree",
         "7000",
         "Good",
         1,
         0,
         0,
         "N"
        ],
        [
         "Sir",
         4,
         7,
         1964,
         "M",
         "D",
         "4 yr Degree",
         "7000",
         "Good",
         1,
         0,
         0,
         "N"
        ],
        [
         "Dr.",
         20,
         8,
         1943,
         "F",
         "W",
         "Advanced Degree",
         "7000",
         "Good",
         1,
         0,
         0,
         "Y"
        ],
        [
         "Miss",
         4,
         3,
         1947,
         "F",
         "W",
         "Advanced Degree",
         "7000",
         "Good",
         1,
         0,
         0,
         "Y"
        ],
        [
         "Sir",
         20,
         3,
         1965,
         "M",
         "M",
         "Secondary",
         "7500",
         "Good",
         1,
         0,
         0,
         "Y"
        ],
        [
         "Mr.",
         26,
         11,
         1990,
         "M",
         "S",
         "Secondary",
         "7500",
         "Good",
         1,
         0,
         0,
         "N"
        ],
        [
         "Ms.",
         26,
         4,
         1942,
         "M",
         "S",
         "College",
         "7500",
         "Good",
         1,
         0,
         0,
         "N"
        ],
        [
         "Ms.",
         26,
         4,
         1979,
         "M",
         "M",
         "4 yr Degree",
         "7500",
         "Good",
         1,
         0,
         0,
         "Y"
        ],
        [
         "Mr.",
         21,
         12,
         1985,
         "F",
         "W",
         "4 yr Degree",
         "7500",
         "Good",
         1,
         0,
         0,
         "N"
        ],
        [
         "Ms.",
         14,
         5,
         1977,
         "M",
         "W",
         "Unknown",
         "7500",
         "Good",
         1,
         0,
         0,
         "Y"
        ],
        [
         "Sir",
         22,
         8,
         1983,
         "M",
         "S",
         "Secondary",
         "8000",
         "Good",
         1,
         0,
         0,
         "N"
        ],
        [
         "Miss",
         22,
         7,
         1961,
         "F",
         "U",
         "Secondary",
         "8000",
         "Good",
         1,
         0,
         0,
         "N"
        ],
        [
         "Dr.",
         12,
         6,
         1938,
         "F",
         "M",
         "College",
         "8000",
         "Good",
         1,
         0,
         0,
         "N"
        ],
        [
         "Ms.",
         12,
         8,
         1949,
         "M",
         "W",
         "2 yr Degree",
         "8000",
         "Good",
         1,
         0,
         0,
         "Y"
        ],
        [
         "Sir",
         29,
         11,
         1973,
         "F",
         "W",
         "2 yr Degree",
         "8000",
         "Good",
         1,
         0,
         0,
         "N"
        ],
        [
         "Dr.",
         11,
         9,
         1956,
         "M",
         "U",
         "4 yr Degree",
         "8000",
         "Good",
         1,
         0,
         0,
         "N"
        ],
        [
         "Ms.",
         25,
         9,
         1982,
         "M",
         "W",
         "Primary",
         "8500",
         "Good",
         1,
         0,
         0,
         "Y"
        ],
        [
         "Sir",
         26,
         10,
         1955,
         "F",
         "U",
         "College",
         "8500",
         "Good",
         1,
         0,
         0,
         "N"
        ],
        [
         "Mrs.",
         29,
         10,
         1956,
         "F",
         "W",
         "2 yr Degree",
         "8500",
         "Good",
         1,
         0,
         0,
         "N"
        ],
        [
         "Sir",
         12,
         7,
         1970,
         "M",
         "D",
         "Unknown",
         "8500",
         "Good",
         1,
         0,
         0,
         "N"
        ],
        [
         "Dr.",
         25,
         1,
         1943,
         "M",
         "M",
         "Primary",
         "9000",
         "Good",
         1,
         0,
         0,
         "N"
        ],
        [
         "Sir",
         28,
         5,
         1992,
         "M",
         "S",
         "Secondary",
         "9000",
         "Good",
         1,
         0,
         0,
         "N"
        ],
        [
         "Dr.",
         18,
         11,
         1981,
         "F",
         "W",
         "Secondary",
         "9000",
         "Good",
         1,
         0,
         0,
         "N"
        ],
        [
         "Mr.",
         1,
         12,
         1939,
         "M",
         "D",
         "2 yr Degree",
         "9000",
         "Good",
         1,
         0,
         0,
         "N"
        ],
        [
         "Dr.",
         14,
         11,
         1984,
         "M",
         "U",
         "4 yr Degree",
         "9000",
         "Good",
         1,
         0,
         0,
         "Y"
        ],
        [
         "Miss",
         6,
         2,
         1943,
         "M",
         "U",
         "Primary",
         "9500",
         "Good",
         1,
         0,
         0,
         "N"
        ],
        [
         "Mr.",
         25,
         3,
         1941,
         "F",
         "W",
         "College",
         "9500",
         "Good",
         1,
         0,
         0,
         "Y"
        ],
        [
         "Ms.",
         24,
         2,
         1985,
         "M",
         "W",
         "Unknown",
         "9500",
         "Good",
         1,
         0,
         0,
         "Y"
        ],
        [
         "Sir",
         26,
         11,
         1939,
         "F",
         "M",
         "Primary",
         "10000",
         "Good",
         1,
         0,
         0,
         "N"
        ],
        [
         "Sir",
         18,
         6,
         1987,
         "F",
         "D",
         "2 yr Degree",
         "10000",
         "Good",
         1,
         0,
         0,
         "N"
        ],
        [
         "Ms.",
         5,
         5,
         1942,
         "M",
         "D",
         "4 yr Degree",
         "10000",
         "Good",
         1,
         0,
         0,
         "Y"
        ],
        [
         "Dr.",
         10,
         12,
         1963,
         "M",
         "M",
         "Advanced Degree",
         "10000",
         "Good",
         1,
         0,
         0,
         "Y"
        ],
        [
         "Miss",
         18,
         4,
         1926,
         "F",
         "M",
         "Unknown",
         "10000",
         "Good",
         1,
         0,
         0,
         "N"
        ],
        [
         "Mrs.",
         17,
         7,
         1970,
         "F",
         "M",
         "Unknown",
         "10000",
         "Good",
         1,
         0,
         0,
         "Y"
        ],
        [
         "Dr.",
         7,
         12,
         1952,
         "F",
         "S",
         "2 yr Degree",
         "500",
         "Low Risk",
         1,
         0,
         0,
         "N"
        ],
        [
         "Ms.",
         24,
         4,
         1961,
         "M",
         "S",
         "4 yr Degree",
         "500",
         "Low Risk",
         1,
         0,
         0,
         "Y"
        ],
        [
         "Ms.",
         18,
         6,
         1948,
         "M",
         "S",
         "Advanced Degree",
         "1000",
         "Low Risk",
         1,
         0,
         0,
         "N"
        ],
        [
         "Sir",
         18,
         9,
         1987,
         "M",
         "U",
         "Primary",
         "1500",
         "Low Risk",
         1,
         0,
         0,
         "N"
        ],
        [
         "Mr.",
         1,
         5,
         1938,
         "F",
         "U",
         "Secondary",
         "1500",
         "Low Risk",
         1,
         0,
         0,
         "Y"
        ],
        [
         "Dr.",
         7,
         10,
         1941,
         "F",
         "W",
         "Secondary",
         "2000",
         "Low Risk",
         1,
         0,
         0,
         "N"
        ],
        [
         "Dr.",
         24,
         5,
         1950,
         "M",
         "U",
         "College",
         "2000",
         "Low Risk",
         1,
         0,
         0,
         "N"
        ],
        [
         "Mr.",
         21,
         10,
         1992,
         "M",
         "W",
         "College",
         "2500",
         "Low Risk",
         1,
         0,
         0,
         "Y"
        ],
        [
         "Miss",
         24,
         8,
         1950,
         "M",
         "U",
         "Advanced Degree",
         "2500",
         "Low Risk",
         1,
         0,
         0,
         "N"
        ],
        [
         "Sir",
         11,
         7,
         1991,
         "M",
         "S",
         "Unknown",
         "2500",
         "Low Risk",
         1,
         0,
         0,
         "Y"
        ],
        [
         "Sir",
         17,
         9,
         1977,
         "M",
         "W",
         "Primary",
         "3000",
         "Low Risk",
         1,
         0,
         0,
         "N"
        ],
        [
         "Dr.",
         6,
         8,
         1985,
         "M",
         "M",
         "2 yr Degree",
         "3000",
         "Low Risk",
         1,
         0,
         0,
         "Y"
        ],
        [
         "Mrs.",
         9,
         10,
         1948,
         "F",
         "D",
         "2 yr Degree",
         "3000",
         "Low Risk",
         1,
         0,
         0,
         "Y"
        ],
        [
         "Sir",
         4,
         4,
         1949,
         "F",
         "S",
         "4 yr Degree",
         "3000",
         "Low Risk",
         1,
         0,
         0,
         "Y"
        ],
        [
         "Mrs.",
         13,
         7,
         1974,
         "F",
         "S",
         "Primary",
         "3500",
         "Low Risk",
         1,
         0,
         0,
         "Y"
        ],
        [
         "Ms.",
         26,
         11,
         1955,
         "M",
         "D",
         "Primary",
         "3500",
         "Low Risk",
         1,
         0,
         0,
         "N"
        ],
        [
         "Sir",
         31,
         1,
         1980,
         "M",
         "M",
         "College",
         "3500",
         "Low Risk",
         1,
         0,
         0,
         "Y"
        ],
        [
         "Dr.",
         16,
         2,
         1984,
         "F",
         "S",
         "College",
         "3500",
         "Low Risk",
         1,
         0,
         0,
         "N"
        ],
        [
         "Miss",
         8,
         12,
         1964,
         "M",
         "U",
         "2 yr Degree",
         "3500",
         "Low Risk",
         1,
         0,
         0,
         "Y"
        ],
        [
         "Ms.",
         2,
         11,
         1976,
         "F",
         "U",
         "4 yr Degree",
         "3500",
         "Low Risk",
         1,
         0,
         0,
         "Y"
        ],
        [
         "Ms.",
         23,
         1,
         1963,
         "M",
         "M",
         "Advanced Degree",
         "3500",
         "Low Risk",
         1,
         0,
         0,
         "N"
        ],
        [
         "Miss",
         4,
         1,
         1936,
         "F",
         "M",
         "Advanced Degree",
         "3500",
         "Low Risk",
         1,
         0,
         0,
         "N"
        ],
        [
         "Miss",
         10,
         2,
         1987,
         "M",
         "M",
         "Primary",
         "4000",
         "Low Risk",
         1,
         0,
         0,
         "Y"
        ],
        [
         "Ms.",
         17,
         1,
         1977,
         "F",
         "W",
         "Secondary",
         "4000",
         "Low Risk",
         1,
         0,
         0,
         "Y"
        ],
        [
         "Mr.",
         29,
         11,
         1980,
         "M",
         "W",
         "College",
         "4000",
         "Low Risk",
         1,
         0,
         0,
         "Y"
        ],
        [
         "Sir",
         12,
         11,
         1949,
         "F",
         "W",
         "College",
         "4000",
         "Low Risk",
         1,
         0,
         0,
         "N"
        ],
        [
         "Dr.",
         23,
         2,
         1927,
         "M",
         "M",
         "4 yr Degree",
         "4000",
         "Low Risk",
         1,
         0,
         0,
         "Y"
        ],
        [
         "Dr.",
         5,
         5,
         1978,
         "F",
         "S",
         "Unknown",
         "4000",
         "Low Risk",
         1,
         0,
         0,
         "N"
        ],
        [
         "Miss",
         10,
         5,
         1957,
         "M",
         "W",
         "Primary",
         "4500",
         "Low Risk",
         1,
         0,
         0,
         "N"
        ],
        [
         "Miss",
         7,
         10,
         1944,
         "M",
         "M",
         "Secondary",
         "4500",
         "Low Risk",
         1,
         0,
         0,
         "Y"
        ],
        [
         "Mr.",
         17,
         7,
         1949,
         "M",
         "M",
         "Secondary",
         "4500",
         "Low Risk",
         1,
         0,
         0,
         "Y"
        ],
        [
         "Dr.",
         1,
         1,
         1947,
         "M",
         "D",
         "Secondary",
         "4500",
         "Low Risk",
         1,
         0,
         0,
         "N"
        ],
        [
         null,
         null,
         null,
         null,
         "F",
         "D",
         "4 yr Degree",
         "4500",
         "Low Risk",
         1,
         0,
         0,
         "N"
        ],
        [
         "Sir",
         11,
         9,
         1957,
         "F",
         "M",
         "Unknown",
         "4500",
         "Low Risk",
         1,
         0,
         0,
         "N"
        ],
        [
         "Sir",
         16,
         11,
         1986,
         "M",
         "D",
         "Unknown",
         "4500",
         "Low Risk",
         1,
         0,
         0,
         "Y"
        ],
        [
         "Sir",
         10,
         8,
         1934,
         "M",
         "M",
         "Secondary",
         "5000",
         "Low Risk",
         1,
         0,
         0,
         "Y"
        ],
        [
         "Dr.",
         24,
         2,
         1927,
         "M",
         "U",
         "Secondary",
         "5000",
         "Low Risk",
         1,
         0,
         0,
         "N"
        ],
        [
         "Sir",
         10,
         7,
         1958,
         "F",
         "S",
         "2 yr Degree",
         "5000",
         "Low Risk",
         1,
         0,
         0,
         "N"
        ],
        [
         "Dr.",
         27,
         10,
         1984,
         "F",
         "M",
         "Unknown",
         "5000",
         "Low Risk",
         1,
         0,
         0,
         "N"
        ],
        [
         "Ms.",
         10,
         4,
         1935,
         "M",
         "U",
         "Unknown",
         "5000",
         "Low Risk",
         1,
         0,
         0,
         "N"
        ],
        [
         "Dr.",
         22,
         10,
         1975,
         "F",
         "W",
         "2 yr Degree",
         "5500",
         "Low Risk",
         1,
         0,
         0,
         "N"
        ],
        [
         "Dr.",
         5,
         1,
         1944,
         "F",
         "S",
         "College",
         "6000",
         "Low Risk",
         1,
         0,
         0,
         "N"
        ],
        [
         "Dr.",
         25,
         10,
         1959,
         "F",
         "M",
         "Advanced Degree",
         "6000",
         "Low Risk",
         1,
         0,
         0,
         "N"
        ],
        [
         "Mrs.",
         21,
         6,
         1990,
         "M",
         "M",
         "Unknown",
         "6000",
         "Low Risk",
         1,
         0,
         0,
         "Y"
        ],
        [
         "Dr.",
         22,
         11,
         1952,
         "F",
         "D",
         "Unknown",
         "6000",
         "Low Risk",
         1,
         0,
         0,
         "Y"
        ],
        [
         "Mr.",
         21,
         1,
         1925,
         "F",
         "M",
         "Primary",
         "6500",
         "Low Risk",
         1,
         0,
         0,
         "N"
        ],
        [
         "Dr.",
         24,
         4,
         1980,
         "M",
         "W",
         "Unknown",
         "6500",
         "Low Risk",
         1,
         0,
         0,
         "N"
        ],
        [
         "Dr.",
         13,
         1,
         1992,
         "M",
         "W",
         "Primary",
         "7000",
         "Low Risk",
         1,
         0,
         0,
         "Y"
        ],
        [
         "Dr.",
         20,
         11,
         1935,
         "M",
         "W",
         "Secondary",
         "7000",
         "Low Risk",
         1,
         0,
         0,
         "N"
        ],
        [
         "Ms.",
         26,
         4,
         1981,
         "M",
         "W",
         "College",
         "7000",
         "Low Risk",
         1,
         0,
         0,
         "Y"
        ],
        [
         "Ms.",
         12,
         11,
         1924,
         "M",
         "M",
         "Advanced Degree",
         "7000",
         "Low Risk",
         1,
         0,
         0,
         "N"
        ],
        [
         "Miss",
         4,
         2,
         1978,
         "M",
         "W",
         "Secondary",
         "7500",
         "Low Risk",
         1,
         0,
         0,
         "N"
        ],
        [
         "Ms.",
         7,
         1,
         1982,
         "M",
         "S",
         "4 yr Degree",
         "7500",
         "Low Risk",
         1,
         0,
         0,
         "N"
        ],
        [
         "Miss",
         16,
         2,
         1960,
         "F",
         "D",
         "Advanced Degree",
         "7500",
         "Low Risk",
         1,
         0,
         0,
         "Y"
        ],
        [
         "Mrs.",
         3,
         10,
         1948,
         "M",
         "D",
         "Unknown",
         "7500",
         "Low Risk",
         1,
         0,
         0,
         "N"
        ],
        [
         "Miss",
         28,
         2,
         1964,
         "M",
         "U",
         "Unknown",
         "7500",
         "Low Risk",
         1,
         0,
         0,
         "Y"
        ],
        [
         "Ms.",
         6,
         12,
         1935,
         "M",
         "M",
         "Primary",
         "8000",
         "Low Risk",
         1,
         0,
         0,
         "Y"
        ],
        [
         "Mr.",
         28,
         9,
         1959,
         "M",
         "U",
         "College",
         "8500",
         "Low Risk",
         1,
         0,
         0,
         "N"
        ],
        [
         "Dr.",
         24,
         2,
         1964,
         "F",
         "U",
         "Unknown",
         "8500",
         "Low Risk",
         1,
         0,
         0,
         "N"
        ],
        [
         "Dr.",
         12,
         1,
         1948,
         "M",
         "D",
         "4 yr Degree",
         "9000",
         "Low Risk",
         1,
         0,
         0,
         "N"
        ],
        [
         "Sir",
         12,
         2,
         1927,
         "F",
         "M",
         "Primary",
         "9500",
         "Low Risk",
         1,
         0,
         0,
         "N"
        ],
        [
         "Dr.",
         15,
         2,
         1958,
         "F",
         "S",
         "Secondary",
         "10000",
         "Low Risk",
         1,
         0,
         0,
         "Y"
        ],
        [
         "Ms.",
         16,
         1,
         1928,
         "F",
         "W",
         "Secondary",
         "10000",
         "Low Risk",
         1,
         0,
         0,
         "N"
        ],
        [
         "Dr.",
         31,
         7,
         1930,
         "M",
         "U",
         "College",
         "10000",
         "Low Risk",
         1,
         0,
         0,
         "N"
        ],
        [
         "Miss",
         1,
         2,
         1937,
         "F",
         "D",
         "2 yr Degree",
         "10000",
         "Low Risk",
         1,
         0,
         0,
         "N"
        ],
        [
         null,
         null,
         null,
         null,
         "M",
         "D",
         "4 yr Degree",
         "10000",
         "Low Risk",
         1,
         0,
         0,
         "Y"
        ],
        [
         "Sir",
         19,
         6,
         1931,
         "M",
         "W",
         "4 yr Degree",
         "10000",
         "Low Risk",
         1,
         0,
         0,
         "N"
        ],
        [
         "Miss",
         12,
         11,
         1984,
         "M",
         "M",
         "Advanced Degree",
         "10000",
         "Low Risk",
         1,
         0,
         0,
         "N"
        ],
        [
         "Mr.",
         25,
         12,
         1925,
         "M",
         "M",
         "Advanced Degree",
         "500",
         "High Risk",
         1,
         0,
         0,
         "Y"
        ],
        [
         "Ms.",
         13,
         11,
         1988,
         "M",
         "D",
         "Advanced Degree",
         "500",
         "High Risk",
         1,
         0,
         0,
         "Y"
        ],
        [
         "Dr.",
         2,
         8,
         1964,
         "M",
         "D",
         "Unknown",
         "500",
         "High Risk",
         1,
         0,
         0,
         "Y"
        ],
        [
         "Mr.",
         3,
         2,
         1932,
         "F",
         "D",
         "Primary",
         "1000",
         "High Risk",
         1,
         0,
         0,
         "Y"
        ],
        [
         "Miss",
         13,
         9,
         1935,
         "F",
         "S",
         "Secondary",
         "1000",
         "High Risk",
         1,
         0,
         0,
         "N"
        ],
        [
         "Ms.",
         2,
         10,
         1960,
         "F",
         "M",
         "College",
         "1000",
         "High Risk",
         1,
         0,
         0,
         "Y"
        ],
        [
         "Sir",
         18,
         7,
         1965,
         "M",
         "S",
         "2 yr Degree",
         "1000",
         "High Risk",
         1,
         0,
         0,
         "Y"
        ],
        [
         "Mr.",
         17,
         11,
         1925,
         "M",
         "D",
         "2 yr Degree",
         "1000",
         "High Risk",
         1,
         0,
         0,
         "N"
        ],
        [
         "Mrs.",
         28,
         9,
         1967,
         "F",
         "U",
         "College",
         "1500",
         "High Risk",
         1,
         0,
         0,
         "N"
        ],
        [
         "Miss",
         12,
         5,
         1959,
         "M",
         "U",
         "4 yr Degree",
         "1500",
         "High Risk",
         1,
         0,
         0,
         "Y"
        ],
        [
         "Mrs.",
         18,
         4,
         1971,
         "F",
         "D",
         "Primary",
         "2000",
         "High Risk",
         1,
         0,
         0,
         "N"
        ],
        [
         "Mrs.",
         9,
         11,
         1926,
         "M",
         "S",
         "Unknown",
         "2000",
         "High Risk",
         1,
         0,
         0,
         "N"
        ],
        [
         "Sir",
         2,
         6,
         1946,
         "M",
         "W",
         "Primary",
         "2500",
         "High Risk",
         1,
         0,
         0,
         "N"
        ],
        [
         "Ms.",
         2,
         12,
         1935,
         "F",
         "S",
         "Secondary",
         "2500",
         "High Risk",
         1,
         0,
         0,
         "Y"
        ],
        [
         "Ms.",
         28,
         12,
         1952,
         "M",
         "D",
         "Unknown",
         "2500",
         "High Risk",
         1,
         0,
         0,
         "N"
        ],
        [
         "Dr.",
         1,
         8,
         1944,
         "F",
         "W",
         "Unknown",
         "2500",
         "High Risk",
         1,
         0,
         0,
         "Y"
        ],
        [
         "Dr.",
         6,
         3,
         1987,
         "M",
         "W",
         "Unknown",
         "3000",
         "High Risk",
         1,
         0,
         0,
         "Y"
        ],
        [
         "Ms.",
         15,
         9,
         1961,
         "M",
         "W",
         "Unknown",
         "3000",
         "High Risk",
         1,
         0,
         0,
         "N"
        ],
        [
         "Dr.",
         15,
         4,
         1926,
         "F",
         "D",
         "Advanced Degree",
         "3500",
         "High Risk",
         1,
         0,
         0,
         "Y"
        ],
        [
         "Sir",
         24,
         3,
         1935,
         "M",
         "S",
         "College",
         "4000",
         "High Risk",
         1,
         0,
         0,
         "Y"
        ],
        [
         "Miss",
         16,
         10,
         1938,
         "M",
         "U",
         "2 yr Degree",
         "4000",
         "High Risk",
         1,
         0,
         0,
         "N"
        ],
        [
         "Ms.",
         23,
         12,
         1989,
         "M",
         "S",
         "4 yr Degree",
         "4000",
         "High Risk",
         1,
         0,
         0,
         "Y"
        ],
        [
         "Ms.",
         16,
         8,
         1984,
         "F",
         "S",
         "4 yr Degree",
         "4000",
         "High Risk",
         1,
         0,
         0,
         "N"
        ],
        [
         "Mr.",
         16,
         9,
         1929,
         "F",
         "D",
         "Advanced Degree",
         "4000",
         "High Risk",
         1,
         0,
         0,
         "Y"
        ],
        [
         "Miss",
         30,
         7,
         1957,
         "M",
         "D",
         "Secondary",
         "4500",
         "High Risk",
         1,
         0,
         0,
         "Y"
        ],
        [
         "Dr.",
         18,
         3,
         1979,
         "M",
         "S",
         "College",
         "4500",
         "High Risk",
         1,
         0,
         0,
         "N"
        ],
        [
         "Miss",
         18,
         7,
         1988,
         "M",
         "U",
         "College",
         "4500",
         "High Risk",
         1,
         0,
         0,
         "Y"
        ],
        [
         "Mr.",
         10,
         11,
         1946,
         "F",
         "U",
         "4 yr Degree",
         "4500",
         "High Risk",
         1,
         0,
         0,
         "N"
        ],
        [
         "Mrs.",
         19,
         4,
         1945,
         "F",
         "D",
         "Unknown",
         "5000",
         "High Risk",
         1,
         0,
         0,
         "N"
        ],
        [
         "Sir",
         13,
         11,
         1971,
         "F",
         "U",
         "College",
         "5500",
         "High Risk",
         1,
         0,
         0,
         "Y"
        ],
        [
         "Dr.",
         16,
         12,
         1938,
         "F",
         "M",
         "4 yr Degree",
         "5500",
         "High Risk",
         1,
         0,
         0,
         "N"
        ],
        [
         "Sir",
         23,
         11,
         1931,
         "F",
         "S",
         "Advanced Degree",
         "5500",
         "High Risk",
         1,
         0,
         0,
         "N"
        ],
        [
         "Dr.",
         3,
         8,
         1943,
         "F",
         "U",
         "Unknown",
         "5500",
         "High Risk",
         1,
         0,
         0,
         "N"
        ],
        [
         "Mr.",
         9,
         12,
         1972,
         "M",
         "S",
         "2 yr Degree",
         "6000",
         "High Risk",
         1,
         0,
         0,
         "Y"
        ],
        [
         "Mrs.",
         5,
         2,
         1966,
         "F",
         "S",
         "Primary",
         "6500",
         "High Risk",
         1,
         0,
         0,
         "N"
        ],
        [
         "Mr.",
         30,
         12,
         1928,
         "F",
         "M",
         "Secondary",
         "6500",
         "High Risk",
         1,
         0,
         0,
         "Y"
        ],
        [
         "Mr.",
         28,
         10,
         1970,
         "F",
         "W",
         "College",
         "6500",
         "High Risk",
         1,
         0,
         0,
         "Y"
        ],
        [
         "Sir",
         31,
         1,
         1926,
         "M",
         "S",
         "4 yr Degree",
         "6500",
         "High Risk",
         1,
         0,
         0,
         "Y"
        ],
        [
         "Miss",
         30,
         4,
         1978,
         "M",
         "S",
         "Primary",
         "7000",
         "High Risk",
         1,
         0,
         0,
         "N"
        ],
        [
         "Dr.",
         30,
         12,
         1979,
         "F",
         "D",
         "2 yr Degree",
         "7000",
         "High Risk",
         1,
         0,
         0,
         "Y"
        ],
        [
         "Miss",
         16,
         11,
         1936,
         "M",
         "S",
         "4 yr Degree",
         "7500",
         "High Risk",
         1,
         0,
         0,
         "Y"
        ],
        [
         "Ms.",
         26,
         11,
         1936,
         "M",
         "U",
         "Advanced Degree",
         "7500",
         "High Risk",
         1,
         0,
         0,
         "Y"
        ],
        [
         "Sir",
         23,
         5,
         1988,
         "F",
         "D",
         "Primary",
         "8000",
         "High Risk",
         1,
         0,
         0,
         "N"
        ],
        [
         "Sir",
         21,
         6,
         1959,
         "M",
         "D",
         "College",
         "8000",
         "High Risk",
         1,
         0,
         0,
         "Y"
        ],
        [
         "Miss",
         30,
         11,
         1953,
         "M",
         "W",
         "2 yr Degree",
         "8000",
         "High Risk",
         1,
         0,
         0,
         "N"
        ],
        [
         "Dr.",
         7,
         6,
         1945,
         "F",
         "U",
         "2 yr Degree",
         "8000",
         "High Risk",
         1,
         0,
         0,
         "N"
        ],
        [
         "Mrs.",
         11,
         8,
         1983,
         "F",
         "D",
         "Advanced Degree",
         "8000",
         "High Risk",
         1,
         0,
         0,
         "Y"
        ],
        [
         "Sir",
         22,
         12,
         1981,
         "M",
         "U",
         "Advanced Degree",
         "8000",
         "High Risk",
         1,
         0,
         0,
         "N"
        ],
        [
         "Dr.",
         14,
         null,
         1942,
         "M",
         "D",
         "College",
         "8500",
         "High Risk",
         1,
         0,
         0,
         "N"
        ],
        [
         "Mr.",
         21,
         12,
         1954,
         "M",
         "U",
         "College",
         "8500",
         "High Risk",
         1,
         0,
         0,
         "Y"
        ],
        [
         "Mrs.",
         23,
         11,
         1958,
         "F",
         "S",
         "2 yr Degree",
         "8500",
         "High Risk",
         1,
         0,
         0,
         "N"
        ],
        [
         "Ms.",
         7,
         8,
         1945,
         "F",
         "D",
         "2 yr Degree",
         "8500",
         "High Risk",
         1,
         0,
         0,
         "Y"
        ],
        [
         "Mr.",
         30,
         8,
         1963,
         "M",
         "S",
         "4 yr Degree",
         "8500",
         "High Risk",
         1,
         0,
         0,
         "Y"
        ],
        [
         "Ms.",
         13,
         1,
         1953,
         "F",
         "U",
         "Advanced Degree",
         "8500",
         "High Risk",
         1,
         0,
         0,
         "Y"
        ],
        [
         "Sir",
         6,
         6,
         1939,
         "M",
         "U",
         "Primary",
         "9000",
         "High Risk",
         1,
         0,
         0,
         "Y"
        ],
        [
         "Dr.",
         22,
         11,
         1991,
         "F",
         "S",
         "Advanced Degree",
         "9000",
         "High Risk",
         1,
         0,
         0,
         "Y"
        ],
        [
         "Mr.",
         1,
         9,
         1987,
         "F",
         "D",
         "Advanced Degree",
         "9000",
         "High Risk",
         1,
         0,
         0,
         "Y"
        ],
        [
         "Mr.",
         5,
         11,
         1971,
         "F",
         "D",
         "4 yr Degree",
         "9500",
         "High Risk",
         1,
         0,
         0,
         "N"
        ],
        [
         "Dr.",
         11,
         9,
         1945,
         "F",
         "U",
         "Advanced Degree",
         "9500",
         "High Risk",
         1,
         0,
         0,
         "Y"
        ],
        [
         "Ms.",
         6,
         4,
         1970,
         "F",
         "U",
         "Advanced Degree",
         "9500",
         "High Risk",
         1,
         0,
         0,
         "N"
        ],
        [
         "Sir",
         9,
         7,
         1990,
         "M",
         "M",
         "Primary",
         "10000",
         "High Risk",
         1,
         0,
         0,
         "Y"
        ],
        [
         "Dr.",
         30,
         4,
         1963,
         "F",
         "S",
         "Secondary",
         "10000",
         "High Risk",
         1,
         0,
         0,
         "Y"
        ],
        [
         "Miss",
         23,
         6,
         1939,
         "M",
         "M",
         "4 yr Degree",
         "500",
         "Unknown",
         1,
         0,
         0,
         "N"
        ],
        [
         "Miss",
         16,
         7,
         1989,
         "F",
         "U",
         "4 yr Degree",
         "500",
         "Unknown",
         1,
         0,
         0,
         "Y"
        ],
        [
         "Sir",
         6,
         3,
         1927,
         "M",
         "D",
         "Primary",
         "1000",
         "Unknown",
         1,
         0,
         0,
         "N"
        ],
        [
         "Mr.",
         1,
         9,
         1969,
         "F",
         "D",
         "Secondary",
         "1000",
         "Unknown",
         1,
         0,
         0,
         "Y"
        ],
        [
         "Mr.",
         27,
         12,
         1950,
         "M",
         "W",
         "College",
         "1000",
         "Unknown",
         1,
         0,
         0,
         "N"
        ],
        [
         "Dr.",
         13,
         6,
         1926,
         "M",
         "D",
         "2 yr Degree",
         "1000",
         "Unknown",
         1,
         0,
         0,
         "N"
        ],
        [
         "Sir",
         7,
         6,
         1929,
         "M",
         "M",
         "Unknown",
         "1000",
         "Unknown",
         1,
         0,
         0,
         "N"
        ],
        [
         "Dr.",
         3,
         8,
         1960,
         "F",
         "W",
         "Secondary",
         "1500",
         "Unknown",
         1,
         0,
         0,
         "Y"
        ],
        [
         "Mr.",
         18,
         3,
         1954,
         "F",
         "M",
         "College",
         "1500",
         "Unknown",
         1,
         0,
         0,
         "Y"
        ],
        [
         "Dr.",
         5,
         4,
         1981,
         "F",
         "U",
         "4 yr Degree",
         "1500",
         "Unknown",
         1,
         0,
         0,
         "N"
        ],
        [
         "Mr.",
         25,
         10,
         1992,
         "M",
         "S",
         "Unknown",
         "1500",
         "Unknown",
         1,
         0,
         0,
         "N"
        ],
        [
         "Dr.",
         30,
         6,
         1940,
         "M",
         "M",
         "Secondary",
         "2000",
         "Unknown",
         1,
         0,
         0,
         "N"
        ],
        [
         "Ms.",
         28,
         1,
         1982,
         "M",
         "U",
         "Advanced Degree",
         "2000",
         "Unknown",
         1,
         0,
         0,
         "N"
        ],
        [
         "Dr.",
         6,
         4,
         1988,
         "F",
         "U",
         "Unknown",
         "2000",
         "Unknown",
         1,
         0,
         0,
         "Y"
        ],
        [
         "Miss",
         23,
         10,
         1976,
         "F",
         "U",
         "College",
         "2500",
         "Unknown",
         1,
         0,
         0,
         "Y"
        ],
        [
         "Mr.",
         27,
         7,
         1931,
         "F",
         "S",
         "2 yr Degree",
         "2500",
         "Unknown",
         1,
         0,
         0,
         "N"
        ],
        [
         "Dr.",
         31,
         3,
         1948,
         "M",
         "U",
         "Advanced Degree",
         "2500",
         "Unknown",
         1,
         0,
         0,
         "Y"
        ],
        [
         "Dr.",
         19,
         2,
         1953,
         "F",
         "U",
         "Advanced Degree",
         "2500",
         "Unknown",
         1,
         0,
         0,
         "N"
        ],
        [
         "Mr.",
         9,
         11,
         1973,
         "F",
         "D",
         "Primary",
         "3000",
         "Unknown",
         1,
         0,
         0,
         "Y"
        ],
        [
         "Dr.",
         11,
         10,
         1970,
         "F",
         "D",
         "College",
         "3000",
         "Unknown",
         1,
         0,
         0,
         "N"
        ],
        [
         "Mrs.",
         17,
         3,
         1963,
         "M",
         "W",
         "College",
         "3500",
         "Unknown",
         1,
         0,
         0,
         "N"
        ],
        [
         "Mrs.",
         6,
         2,
         1932,
         "F",
         "D",
         "4 yr Degree",
         "3500",
         "Unknown",
         1,
         0,
         0,
         "N"
        ],
        [
         "Ms.",
         6,
         2,
         1926,
         "F",
         "U",
         "Unknown",
         "3500",
         "Unknown",
         1,
         0,
         0,
         "Y"
        ],
        [
         "Sir",
         3,
         8,
         1940,
         "M",
         "W",
         "Primary",
         "4000",
         "Unknown",
         1,
         0,
         0,
         "Y"
        ],
        [
         "Sir",
         17,
         2,
         1978,
         "M",
         "D",
         "Secondary",
         "4000",
         "Unknown",
         1,
         0,
         0,
         "Y"
        ],
        [
         "Dr.",
         8,
         8,
         1966,
         "F",
         "M",
         "2 yr Degree",
         "4000",
         "Unknown",
         1,
         0,
         0,
         "N"
        ],
        [
         "Mr.",
         1,
         10,
         1955,
         "M",
         "U",
         "4 yr Degree",
         "4000",
         "Unknown",
         1,
         0,
         0,
         "Y"
        ],
        [
         "Miss",
         4,
         1,
         1992,
         "M",
         "M",
         "Advanced Degree",
         "4000",
         "Unknown",
         1,
         0,
         0,
         "Y"
        ],
        [
         "Ms.",
         19,
         3,
         1958,
         "F",
         "U",
         "Primary",
         "4500",
         "Unknown",
         1,
         0,
         0,
         "Y"
        ],
        [
         "Mrs.",
         9,
         9,
         1945,
         "M",
         "S",
         "College",
         "4500",
         "Unknown",
         1,
         0,
         0,
         "Y"
        ],
        [
         "Dr.",
         19,
         1,
         1992,
         "M",
         "U",
         "College",
         "4500",
         "Unknown",
         1,
         0,
         0,
         "N"
        ],
        [
         "Miss",
         19,
         3,
         1971,
         "F",
         "D",
         "Advanced Degree",
         "4500",
         "Unknown",
         1,
         0,
         0,
         "N"
        ],
        [
         "Dr.",
         5,
         10,
         1950,
         "M",
         "W",
         "Unknown",
         "4500",
         "Unknown",
         1,
         0,
         0,
         "Y"
        ],
        [
         "Miss",
         null,
         null,
         null,
         "F",
         "S",
         "Primary",
         "5000",
         "Unknown",
         1,
         0,
         0,
         "Y"
        ],
        [
         "Ms.",
         13,
         2,
         1964,
         "F",
         "U",
         "Primary",
         "5000",
         "Unknown",
         1,
         0,
         0,
         "Y"
        ],
        [
         "Mrs.",
         4,
         9,
         1932,
         "M",
         "D",
         "Secondary",
         "5000",
         "Unknown",
         1,
         0,
         0,
         "Y"
        ],
        [
         "Dr.",
         2,
         7,
         1941,
         "M",
         "U",
         "2 yr Degree",
         "5000",
         "Unknown",
         1,
         0,
         0,
         "N"
        ],
        [
         "Mr.",
         8,
         11,
         1954,
         "F",
         "U",
         "2 yr Degree",
         "5000",
         "Unknown",
         1,
         0,
         0,
         "N"
        ],
        [
         "Mrs.",
         21,
         12,
         1946,
         "M",
         "S",
         "4 yr Degree",
         "5000",
         "Unknown",
         1,
         0,
         0,
         "N"
        ],
        [
         "Dr.",
         16,
         11,
         1979,
         "M",
         "W",
         "4 yr Degree",
         "5000",
         "Unknown",
         1,
         0,
         0,
         "Y"
        ],
        [
         "Ms.",
         22,
         8,
         1961,
         "M",
         "M",
         "Advanced Degree",
         "5000",
         "Unknown",
         1,
         0,
         0,
         "Y"
        ],
        [
         "Dr.",
         10,
         4,
         1972,
         "F",
         "S",
         "Advanced Degree",
         "5000",
         "Unknown",
         1,
         0,
         0,
         "Y"
        ],
        [
         "Mrs.",
         13,
         9,
         1965,
         "F",
         "U",
         "Primary",
         "5500",
         "Unknown",
         1,
         0,
         0,
         "N"
        ],
        [
         "Dr.",
         4,
         3,
         1942,
         "M",
         "S",
         "2 yr Degree",
         "5500",
         "Unknown",
         1,
         0,
         0,
         "Y"
        ],
        [
         "Sir",
         15,
         12,
         1970,
         "F",
         "U",
         "2 yr Degree",
         "5500",
         "Unknown",
         1,
         0,
         0,
         "N"
        ],
        [
         "Mrs.",
         17,
         8,
         1938,
         "F",
         "M",
         "4 yr Degree",
         "5500",
         "Unknown",
         1,
         0,
         0,
         "Y"
        ],
        [
         "Sir",
         13,
         8,
         1945,
         "M",
         "S",
         "4 yr Degree",
         "5500",
         "Unknown",
         1,
         0,
         0,
         "Y"
        ],
        [
         "Ms.",
         6,
         7,
         1928,
         "F",
         "S",
         "Advanced Degree",
         "5500",
         "Unknown",
         1,
         0,
         0,
         "Y"
        ],
        [
         "Dr.",
         23,
         10,
         1952,
         "F",
         "D",
         "Advanced Degree",
         "5500",
         "Unknown",
         1,
         0,
         0,
         "Y"
        ],
        [
         "Miss",
         25,
         7,
         1970,
         "F",
         "W",
         "Primary",
         "6000",
         "Unknown",
         1,
         0,
         0,
         "Y"
        ],
        [
         "Miss",
         26,
         2,
         1945,
         "F",
         "U",
         "Primary",
         "6000",
         "Unknown",
         1,
         0,
         0,
         "Y"
        ],
        [
         "Sir",
         22,
         7,
         1955,
         "F",
         "M",
         "4 yr Degree",
         "6000",
         "Unknown",
         1,
         0,
         0,
         "Y"
        ],
        [
         "Miss",
         21,
         4,
         1942,
         "M",
         "S",
         "4 yr Degree",
         "6000",
         "Unknown",
         1,
         0,
         0,
         "Y"
        ],
        [
         "Sir",
         6,
         9,
         1929,
         "F",
         "S",
         "Advanced Degree",
         "6000",
         "Unknown",
         1,
         0,
         0,
         "N"
        ],
        [
         "Dr.",
         27,
         11,
         1953,
         "F",
         "U",
         "2 yr Degree",
         "6500",
         "Unknown",
         1,
         0,
         0,
         "N"
        ],
        [
         "Miss",
         28,
         1,
         1985,
         "M",
         "W",
         "2 yr Degree",
         "7000",
         "Unknown",
         1,
         0,
         0,
         "N"
        ],
        [
         "Mr.",
         22,
         7,
         1933,
         "F",
         "U",
         "Advanced Degree",
         "7000",
         "Unknown",
         1,
         0,
         0,
         "N"
        ],
        [
         "Dr.",
         22,
         12,
         1927,
         "F",
         "D",
         "Advanced Degree",
         "7500",
         "Unknown",
         1,
         0,
         0,
         "N"
        ],
        [
         "Sir",
         1,
         2,
         1935,
         "M",
         "D",
         "Advanced Degree",
         "8000",
         "Unknown",
         1,
         0,
         0,
         "N"
        ],
        [
         "Dr.",
         14,
         2,
         1956,
         "F",
         "W",
         "Unknown",
         "8000",
         "Unknown",
         1,
         0,
         0,
         "N"
        ],
        [
         "Mr.",
         5,
         1,
         1945,
         "M",
         "W",
         "Primary",
         "8500",
         "Unknown",
         1,
         0,
         0,
         "N"
        ],
        [
         "Sir",
         20,
         8,
         1954,
         "M",
         "U",
         "Primary",
         "8500",
         "Unknown",
         1,
         0,
         0,
         "Y"
        ],
        [
         "Sir",
         30,
         9,
         1940,
         "F",
         "W",
         "Advanced Degree",
         "8500",
         "Unknown",
         1,
         0,
         0,
         "Y"
        ],
        [
         "Sir",
         1,
         6,
         1943,
         "M",
         "U",
         "Advanced Degree",
         "8500",
         "Unknown",
         1,
         0,
         0,
         "Y"
        ],
        [
         "Ms.",
         23,
         5,
         1932,
         "M",
         "M",
         "Advanced Degree",
         "9000",
         "Unknown",
         1,
         0,
         0,
         "N"
        ],
        [
         "Dr.",
         31,
         5,
         1957,
         "F",
         "M",
         "Primary",
         "500",
         "Good",
         2,
         0,
         0,
         "Y"
        ],
        [
         "Miss",
         31,
         12,
         1941,
         "M",
         "S",
         "Secondary",
         "500",
         "Good",
         2,
         0,
         0,
         "N"
        ],
        [
         "Dr.",
         14,
         9,
         1964,
         "F",
         "S",
         "College",
         "500",
         "Good",
         2,
         0,
         0,
         "Y"
        ],
        [
         "Dr.",
         20,
         8,
         1956,
         "M",
         "U",
         "Unknown",
         "500",
         "Good",
         2,
         0,
         0,
         "Y"
        ],
        [
         "Dr.",
         22,
         5,
         1967,
         "M",
         "M",
         "Primary",
         "1000",
         "Good",
         2,
         0,
         0,
         "N"
        ],
        [
         "Dr.",
         12,
         6,
         1973,
         "M",
         "M",
         "College",
         "1000",
         "Good",
         2,
         0,
         0,
         "N"
        ],
        [
         "Ms.",
         29,
         11,
         1986,
         "F",
         "M",
         "College",
         "1000",
         "Good",
         2,
         0,
         0,
         "Y"
        ],
        [
         "Ms.",
         8,
         4,
         1986,
         "M",
         "U",
         "Primary",
         "1500",
         "Good",
         2,
         0,
         0,
         "Y"
        ],
        [
         null,
         18,
         2,
         null,
         "M",
         "D",
         "4 yr Degree",
         "1500",
         "Good",
         2,
         0,
         0,
         "N"
        ],
        [
         "Ms.",
         5,
         8,
         1958,
         "M",
         "D",
         "Primary",
         "2000",
         "Good",
         2,
         0,
         0,
         "N"
        ],
        [
         "Dr.",
         14,
         2,
         1924,
         "M",
         "D",
         "2 yr Degree",
         "2000",
         "Good",
         2,
         0,
         0,
         "N"
        ],
        [
         "Miss",
         8,
         9,
         1973,
         "M",
         "U",
         "2 yr Degree",
         "2000",
         "Good",
         2,
         0,
         0,
         "Y"
        ],
        [
         "Mr.",
         11,
         10,
         1941,
         "F",
         "U",
         "2 yr Degree",
         "2000",
         "Good",
         2,
         0,
         0,
         "Y"
        ],
        [
         "Ms.",
         7,
         2,
         1976,
         "F",
         "S",
         "4 yr Degree",
         "2000",
         "Good",
         2,
         0,
         0,
         "N"
        ],
        [
         "Mrs.",
         24,
         5,
         1968,
         "F",
         "U",
         "4 yr Degree",
         "2000",
         "Good",
         2,
         0,
         0,
         "N"
        ],
        [
         "Mrs.",
         6,
         4,
         1972,
         "F",
         "M",
         "Advanced Degree",
         "2000",
         "Good",
         2,
         0,
         0,
         "Y"
        ],
        [
         "Dr.",
         1,
         3,
         1934,
         "F",
         "U",
         "Unknown",
         "2000",
         "Good",
         2,
         0,
         0,
         "N"
        ],
        [
         "Sir",
         19,
         2,
         1931,
         "M",
         "U",
         "Advanced Degree",
         "2500",
         "Good",
         2,
         0,
         0,
         "Y"
        ],
        [
         "Sir",
         15,
         3,
         1955,
         "M",
         "S",
         "Secondary",
         "3000",
         "Good",
         2,
         0,
         0,
         "Y"
        ],
        [
         "Miss",
         17,
         8,
         1946,
         "M",
         "S",
         "2 yr Degree",
         "3000",
         "Good",
         2,
         0,
         0,
         "N"
        ],
        [
         "Mrs.",
         7,
         5,
         1965,
         "F",
         "D",
         "2 yr Degree",
         "3000",
         "Good",
         2,
         0,
         0,
         "N"
        ],
        [
         "Mrs.",
         16,
         12,
         1929,
         "F",
         "S",
         "Advanced Degree",
         "3000",
         "Good",
         2,
         0,
         0,
         "Y"
        ],
        [
         "Dr.",
         9,
         4,
         1966,
         "F",
         "W",
         "Secondary",
         "3500",
         "Good",
         2,
         0,
         0,
         "N"
        ],
        [
         "Miss",
         14,
         4,
         1951,
         "F",
         "W",
         "4 yr Degree",
         "3500",
         "Good",
         2,
         0,
         0,
         "Y"
        ],
        [
         "Dr.",
         23,
         1,
         1939,
         "M",
         "M",
         "Unknown",
         "3500",
         "Good",
         2,
         0,
         0,
         "Y"
        ],
        [
         "Sir",
         29,
         8,
         1971,
         "M",
         "D",
         "Unknown",
         "3500",
         "Good",
         2,
         0,
         0,
         "N"
        ],
        [
         "Sir",
         14,
         7,
         1949,
         "F",
         "U",
         "College",
         "4000",
         "Good",
         2,
         0,
         0,
         "N"
        ],
        [
         "Mr.",
         10,
         2,
         1962,
         "F",
         "M",
         "4 yr Degree",
         "4000",
         "Good",
         2,
         0,
         0,
         "Y"
        ],
        [
         "Dr.",
         3,
         2,
         1963,
         "M",
         "U",
         "4 yr Degree",
         "4000",
         "Good",
         2,
         0,
         0,
         "Y"
        ],
        [
         "Mr.",
         10,
         8,
         1953,
         "M",
         "U",
         "4 yr Degree",
         "4000",
         "Good",
         2,
         0,
         0,
         "N"
        ],
        [
         "Mr.",
         9,
         4,
         1946,
         "F",
         "D",
         "Advanced Degree",
         "4000",
         "Good",
         2,
         0,
         0,
         "N"
        ],
        [
         "Ms.",
         12,
         7,
         1974,
         "M",
         "M",
         "College",
         "4500",
         "Good",
         2,
         0,
         0,
         "N"
        ],
        [
         "Mr.",
         13,
         4,
         1950,
         "M",
         "M",
         "2 yr Degree",
         "4500",
         "Good",
         2,
         0,
         0,
         "N"
        ],
        [
         "Dr.",
         19,
         6,
         1934,
         "M",
         "D",
         "Advanced Degree",
         "4500",
         "Good",
         2,
         0,
         0,
         "Y"
        ],
        [
         "Mr.",
         3,
         4,
         1962,
         "F",
         "W",
         "Primary",
         "5000",
         "Good",
         2,
         0,
         0,
         "Y"
        ],
        [
         "Miss",
         13,
         4,
         1965,
         "F",
         "M",
         "Secondary",
         "5000",
         "Good",
         2,
         0,
         0,
         "Y"
        ],
        [
         "Mr.",
         9,
         9,
         1972,
         "M",
         "U",
         "Secondary",
         "5000",
         "Good",
         2,
         0,
         0,
         "Y"
        ],
        [
         "Ms.",
         7,
         12,
         1962,
         "F",
         "D",
         "2 yr Degree",
         "5500",
         "Good",
         2,
         0,
         0,
         "N"
        ],
        [
         "Mrs.",
         1,
         5,
         1985,
         "M",
         "W",
         "4 yr Degree",
         "5500",
         "Good",
         2,
         0,
         0,
         "N"
        ],
        [
         "Sir",
         26,
         9,
         1974,
         "F",
         "W",
         "Advanced Degree",
         "5500",
         "Good",
         2,
         0,
         0,
         "N"
        ],
        [
         "Mrs.",
         26,
         5,
         1989,
         "M",
         "U",
         "2 yr Degree",
         "6000",
         "Good",
         2,
         0,
         0,
         "N"
        ],
        [
         "Mr.",
         16,
         1,
         1981,
         "F",
         "U",
         "2 yr Degree",
         "6000",
         "Good",
         2,
         0,
         0,
         "N"
        ],
        [
         "Mrs.",
         30,
         6,
         1966,
         "M",
         "D",
         "Unknown",
         "6000",
         "Good",
         2,
         0,
         0,
         "Y"
        ],
        [
         "Ms.",
         25,
         4,
         1989,
         "F",
         "U",
         "Secondary",
         "6500",
         "Good",
         2,
         0,
         0,
         "Y"
        ],
        [
         "Dr.",
         21,
         5,
         1942,
         "F",
         "D",
         "2 yr Degree",
         "6500",
         "Good",
         2,
         0,
         0,
         "Y"
        ],
        [
         "Miss",
         3,
         2,
         1982,
         "F",
         "U",
         "2 yr Degree",
         "6500",
         "Good",
         2,
         0,
         0,
         "Y"
        ],
        [
         "Dr.",
         11,
         7,
         1955,
         "M",
         "D",
         "Advanced Degree",
         "6500",
         "Good",
         2,
         0,
         0,
         "N"
        ],
        [
         "Sir",
         4,
         6,
         1984,
         "M",
         "U",
         "Secondary",
         "7000",
         "Good",
         2,
         0,
         0,
         "N"
        ],
        [
         "Dr.",
         5,
         10,
         1967,
         "F",
         "S",
         "Advanced Degree",
         "7000",
         "Good",
         2,
         0,
         0,
         "Y"
        ],
        [
         "Ms.",
         7,
         4,
         1930,
         "M",
         "W",
         "Advanced Degree",
         "7000",
         "Good",
         2,
         0,
         0,
         "Y"
        ],
        [
         "Miss",
         3,
         7,
         1980,
         "M",
         "D",
         "Advanced Degree",
         "8000",
         "Good",
         2,
         0,
         0,
         "N"
        ],
        [
         "Mr.",
         26,
         11,
         1925,
         "F",
         "D",
         "Advanced Degree",
         "8000",
         "Good",
         2,
         0,
         0,
         "N"
        ],
        [
         "Dr.",
         21,
         8,
         1934,
         "M",
         "U",
         "Unknown",
         "8000",
         "Good",
         2,
         0,
         0,
         "Y"
        ],
        [
         "Mr.",
         14,
         7,
         1947,
         "M",
         "M",
         "Primary",
         "8500",
         "Good",
         2,
         0,
         0,
         "Y"
        ],
        [
         "Sir",
         22,
         7,
         1989,
         "M",
         "S",
         "College",
         "8500",
         "Good",
         2,
         0,
         0,
         "N"
        ],
        [
         "Mr.",
         20,
         12,
         1968,
         "M",
         "D",
         "Unknown",
         "8500",
         "Good",
         2,
         0,
         0,
         "Y"
        ],
        [
         "Ms.",
         16,
         7,
         1981,
         "M",
         "U",
         "Primary",
         "9000",
         "Good",
         2,
         0,
         0,
         "Y"
        ],
        [
         "Mrs.",
         12,
         2,
         1932,
         "M",
         "S",
         "Secondary",
         "9000",
         "Good",
         2,
         0,
         0,
         "N"
        ],
        [
         "Dr.",
         17,
         5,
         1943,
         "M",
         "U",
         "Secondary",
         "9000",
         "Good",
         2,
         0,
         0,
         "Y"
        ],
        [
         "Dr.",
         21,
         12,
         1936,
         "M",
         "S",
         "2 yr Degree",
         "9000",
         "Good",
         2,
         0,
         0,
         "N"
        ],
        [
         "Miss",
         4,
         4,
         1969,
         "F",
         "U",
         "2 yr Degree",
         "9000",
         "Good",
         2,
         0,
         0,
         "N"
        ],
        [
         "Mrs.",
         14,
         7,
         1978,
         "M",
         "W",
         "Advanced Degree",
         "9000",
         "Good",
         2,
         0,
         0,
         "Y"
        ],
        [
         "Mr.",
         31,
         8,
         1980,
         "M",
         "W",
         "Secondary",
         "9500",
         "Good",
         2,
         0,
         0,
         "Y"
        ],
        [
         "Mr.",
         29,
         9,
         1969,
         "M",
         "S",
         "2 yr Degree",
         "9500",
         "Good",
         2,
         0,
         0,
         "Y"
        ],
        [
         "Mrs.",
         22,
         1,
         1951,
         "M",
         "M",
         "Advanced Degree",
         "10000",
         "Good",
         2,
         0,
         0,
         "N"
        ],
        [
         "Ms.",
         10,
         12,
         1938,
         "F",
         "M",
         "Advanced Degree",
         "10000",
         "Good",
         2,
         0,
         0,
         "N"
        ],
        [
         "Miss",
         31,
         1,
         1940,
         "M",
         "S",
         "Unknown",
         "10000",
         "Good",
         2,
         0,
         0,
         "Y"
        ],
        [
         "Mr.",
         8,
         11,
         1963,
         "M",
         "S",
         "4 yr Degree",
         "500",
         "Low Risk",
         2,
         0,
         0,
         "N"
        ],
        [
         "Miss",
         14,
         3,
         1966,
         "F",
         "W",
         "4 yr Degree",
         "500",
         "Low Risk",
         2,
         0,
         0,
         "Y"
        ],
        [
         "Mr.",
         14,
         9,
         1944,
         "F",
         "U",
         "4 yr Degree",
         "500",
         "Low Risk",
         2,
         0,
         0,
         "Y"
        ],
        [
         "Ms.",
         1,
         11,
         1983,
         "F",
         "S",
         "Unknown",
         "500",
         "Low Risk",
         2,
         0,
         0,
         "Y"
        ],
        [
         "Sir",
         2,
         4,
         1977,
         "F",
         "U",
         "Unknown",
         "500",
         "Low Risk",
         2,
         0,
         0,
         "Y"
        ],
        [
         "Dr.",
         9,
         8,
         1939,
         "M",
         "U",
         "Secondary",
         "1000",
         "Low Risk",
         2,
         0,
         0,
         "Y"
        ],
        [
         "Dr.",
         6,
         4,
         1976,
         "M",
         "S",
         "College",
         "1000",
         "Low Risk",
         2,
         0,
         0,
         "Y"
        ],
        [
         "Ms.",
         18,
         7,
         1937,
         "F",
         "W",
         "2 yr Degree",
         "1000",
         "Low Risk",
         2,
         0,
         0,
         "Y"
        ],
        [
         "Dr.",
         7,
         6,
         1976,
         "F",
         "U",
         "2 yr Degree",
         "1000",
         "Low Risk",
         2,
         0,
         0,
         "Y"
        ],
        [
         "Mr.",
         28,
         7,
         1958,
         "M",
         "S",
         "Advanced Degree",
         "1000",
         "Low Risk",
         2,
         0,
         0,
         "N"
        ],
        [
         "Mr.",
         31,
         3,
         1981,
         "F",
         "M",
         "Unknown",
         "1000",
         "Low Risk",
         2,
         0,
         0,
         "Y"
        ],
        [
         "Ms.",
         5,
         2,
         1943,
         "M",
         "S",
         "Secondary",
         "1500",
         "Low Risk",
         2,
         0,
         0,
         "N"
        ],
        [
         "Dr.",
         27,
         11,
         1988,
         "F",
         "D",
         "2 yr Degree",
         "1500",
         "Low Risk",
         2,
         0,
         0,
         "Y"
        ],
        [
         "Sir",
         5,
         11,
         1992,
         "F",
         "D",
         "Unknown",
         "1500",
         "Low Risk",
         2,
         0,
         0,
         "N"
        ],
        [
         "Miss",
         9,
         10,
         1991,
         "F",
         "S",
         "Secondary",
         "2000",
         "Low Risk",
         2,
         0,
         0,
         "N"
        ],
        [
         "Mrs.",
         22,
         12,
         1943,
         "F",
         "S",
         "College",
         "2000",
         "Low Risk",
         2,
         0,
         0,
         "N"
        ],
        [
         "Dr.",
         27,
         1,
         1926,
         "F",
         "W",
         "Primary",
         "2500",
         "Low Risk",
         2,
         0,
         0,
         "Y"
        ],
        [
         "Ms.",
         24,
         1,
         1985,
         "F",
         "D",
         "Secondary",
         "2500",
         "Low Risk",
         2,
         0,
         0,
         "N"
        ],
        [
         "Dr.",
         4,
         7,
         1936,
         "F",
         "S",
         "2 yr Degree",
         "2500",
         "Low Risk",
         2,
         0,
         0,
         "N"
        ],
        [
         "Sir",
         6,
         3,
         1927,
         "M",
         "U",
         "Unknown",
         "2500",
         "Low Risk",
         2,
         0,
         0,
         "Y"
        ],
        [
         "Dr.",
         20,
         12,
         1969,
         "M",
         "D",
         "4 yr Degree",
         "3000",
         "Low Risk",
         2,
         0,
         0,
         "Y"
        ],
        [
         "Sir",
         1,
         6,
         1959,
         "M",
         "U",
         "4 yr Degree",
         "3000",
         "Low Risk",
         2,
         0,
         0,
         "Y"
        ],
        [
         "Dr.",
         22,
         1,
         1930,
         "F",
         "U",
         "4 yr Degree",
         "3000",
         "Low Risk",
         2,
         0,
         0,
         "Y"
        ],
        [
         "Dr.",
         3,
         12,
         1941,
         "F",
         "M",
         "Unknown",
         "3000",
         "Low Risk",
         2,
         0,
         0,
         "N"
        ],
        [
         "Ms.",
         18,
         10,
         1982,
         "F",
         "U",
         "Primary",
         "3500",
         "Low Risk",
         2,
         0,
         0,
         "Y"
        ],
        [
         "Mrs.",
         31,
         12,
         1929,
         "M",
         "S",
         "2 yr Degree",
         "3500",
         "Low Risk",
         2,
         0,
         0,
         "N"
        ],
        [
         "Sir",
         23,
         2,
         1969,
         "F",
         "S",
         "Unknown",
         "3500",
         "Low Risk",
         2,
         0,
         0,
         "Y"
        ],
        [
         "Sir",
         29,
         4,
         1986,
         "M",
         "M",
         "Secondary",
         "4000",
         "Low Risk",
         2,
         0,
         0,
         "N"
        ],
        [
         "Sir",
         28,
         3,
         1980,
         "M",
         "W",
         "Secondary",
         "4000",
         "Low Risk",
         2,
         0,
         0,
         "N"
        ],
        [
         "Dr.",
         8,
         3,
         1926,
         "F",
         "M",
         "College",
         "4000",
         "Low Risk",
         2,
         0,
         0,
         "N"
        ],
        [
         "Dr.",
         30,
         12,
         1928,
         "M",
         "M",
         "Advanced Degree",
         "4000",
         "Low Risk",
         2,
         0,
         0,
         "Y"
        ],
        [
         "Sir",
         26,
         9,
         1981,
         "M",
         "S",
         "Advanced Degree",
         "4000",
         "Low Risk",
         2,
         0,
         0,
         "N"
        ],
        [
         "Sir",
         15,
         11,
         1958,
         "M",
         "S",
         "College",
         "4500",
         "Low Risk",
         2,
         0,
         0,
         "Y"
        ],
        [
         "Miss",
         26,
         9,
         1940,
         "F",
         "U",
         "College",
         "4500",
         "Low Risk",
         2,
         0,
         0,
         "Y"
        ],
        [
         "Miss",
         7,
         7,
         1974,
         "M",
         "D",
         "4 yr Degree",
         "4500",
         "Low Risk",
         2,
         0,
         0,
         "N"
        ],
        [
         "Dr.",
         27,
         7,
         1986,
         "M",
         "S",
         "Unknown",
         "4500",
         "Low Risk",
         2,
         0,
         0,
         "N"
        ],
        [
         "Miss",
         2,
         6,
         1933,
         "M",
         "D",
         "Primary",
         "5000",
         "Low Risk",
         2,
         0,
         0,
         "Y"
        ],
        [
         "Sir",
         16,
         6,
         1974,
         "M",
         "M",
         "College",
         "5000",
         "Low Risk",
         2,
         0,
         0,
         "N"
        ],
        [
         "Sir",
         8,
         9,
         1941,
         "F",
         "W",
         "College",
         "5000",
         "Low Risk",
         2,
         0,
         0,
         "Y"
        ],
        [
         "Sir",
         27,
         1,
         1943,
         "M",
         "S",
         "4 yr Degree",
         "5000",
         "Low Risk",
         2,
         0,
         0,
         "N"
        ],
        [
         "Dr.",
         27,
         8,
         1925,
         "M",
         "W",
         "Advanced Degree",
         "5000",
         "Low Risk",
         2,
         0,
         0,
         "Y"
        ],
        [
         "Miss",
         17,
         9,
         1929,
         "M",
         "S",
         "4 yr Degree",
         "5500",
         "Low Risk",
         2,
         0,
         0,
         "N"
        ],
        [
         "Dr.",
         24,
         8,
         1924,
         "F",
         "W",
         "4 yr Degree",
         "5500",
         "Low Risk",
         2,
         0,
         0,
         "Y"
        ],
        [
         "Dr.",
         23,
         4,
         1991,
         "F",
         "U",
         "Unknown",
         "5500",
         "Low Risk",
         2,
         0,
         0,
         "N"
        ],
        [
         "Mrs.",
         26,
         10,
         1990,
         "M",
         "W",
         "Primary",
         "6000",
         "Low Risk",
         2,
         0,
         0,
         "N"
        ],
        [
         "Mr.",
         2,
         11,
         1937,
         "M",
         "U",
         "College",
         "6000",
         "Low Risk",
         2,
         0,
         0,
         "Y"
        ],
        [
         "Mr.",
         7,
         11,
         1926,
         "F",
         "D",
         "2 yr Degree",
         "6000",
         "Low Risk",
         2,
         0,
         0,
         "N"
        ],
        [
         "Ms.",
         12,
         9,
         1940,
         "F",
         "U",
         "4 yr Degree",
         "6000",
         "Low Risk",
         2,
         0,
         0,
         "N"
        ],
        [
         "Mr.",
         21,
         10,
         1977,
         "M",
         "M",
         "4 yr Degree",
         "6500",
         "Low Risk",
         2,
         0,
         0,
         "Y"
        ],
        [
         "Miss",
         7,
         8,
         1971,
         "M",
         "D",
         "Advanced Degree",
         "6500",
         "Low Risk",
         2,
         0,
         0,
         "N"
        ],
        [
         "Sir",
         14,
         3,
         1928,
         "F",
         "W",
         "Advanced Degree",
         "6500",
         "Low Risk",
         2,
         0,
         0,
         "N"
        ],
        [
         "Ms.",
         11,
         12,
         1983,
         "F",
         "W",
         "Unknown",
         "6500",
         "Low Risk",
         2,
         0,
         0,
         "N"
        ],
        [
         "Mr.",
         23,
         5,
         1975,
         "M",
         "W",
         "Primary",
         "7000",
         "Low Risk",
         2,
         0,
         0,
         "N"
        ],
        [
         "Dr.",
         25,
         9,
         1964,
         "F",
         "D",
         "Secondary",
         "7000",
         "Low Risk",
         2,
         0,
         0,
         "Y"
        ],
        [
         "Mr.",
         13,
         4,
         1926,
         "M",
         "D",
         "Unknown",
         "7000",
         "Low Risk",
         2,
         0,
         0,
         "N"
        ],
        [
         "Mr.",
         6,
         10,
         1945,
         "M",
         "S",
         "Primary",
         "7500",
         "Low Risk",
         2,
         0,
         0,
         "Y"
        ],
        [
         "Sir",
         17,
         7,
         1936,
         "F",
         "U",
         "Primary",
         "7500",
         "Low Risk",
         2,
         0,
         0,
         "Y"
        ],
        [
         "Mrs.",
         24,
         2,
         1928,
         "M",
         "M",
         "Secondary",
         "7500",
         "Low Risk",
         2,
         0,
         0,
         "N"
        ],
        [
         "Dr.",
         20,
         3,
         1950,
         "F",
         "M",
         "College",
         "7500",
         "Low Risk",
         2,
         0,
         0,
         "N"
        ],
        [
         "Miss",
         11,
         7,
         1973,
         "M",
         "U",
         "Advanced Degree",
         "7500",
         "Low Risk",
         2,
         0,
         0,
         "Y"
        ],
        [
         "Dr.",
         30,
         11,
         1978,
         "F",
         "D",
         "Secondary",
         "8000",
         "Low Risk",
         2,
         0,
         0,
         "Y"
        ],
        [
         "Dr.",
         4,
         6,
         1949,
         "M",
         "M",
         "College",
         "8000",
         "Low Risk",
         2,
         0,
         0,
         "N"
        ],
        [
         "Mr.",
         20,
         7,
         1984,
         "M",
         "D",
         "4 yr Degree",
         "8000",
         "Low Risk",
         2,
         0,
         0,
         "N"
        ],
        [
         "Dr.",
         19,
         5,
         1959,
         "F",
         "M",
         "Advanced Degree",
         "8000",
         "Low Risk",
         2,
         0,
         0,
         "Y"
        ],
        [
         "Miss",
         12,
         12,
         1950,
         "F",
         "U",
         "Advanced Degree",
         "8000",
         "Low Risk",
         2,
         0,
         0,
         "Y"
        ],
        [
         "Ms.",
         1,
         4,
         1980,
         "F",
         "W",
         "Unknown",
         "8000",
         "Low Risk",
         2,
         0,
         0,
         "N"
        ],
        [
         "Mr.",
         22,
         9,
         1986,
         "M",
         "M",
         "Secondary",
         "8500",
         "Low Risk",
         2,
         0,
         0,
         "Y"
        ],
        [
         "Dr.",
         22,
         9,
         1974,
         "M",
         "M",
         "Secondary",
         "8500",
         "Low Risk",
         2,
         0,
         0,
         "Y"
        ],
        [
         "Dr.",
         14,
         12,
         1979,
         "F",
         "M",
         "Secondary",
         "8500",
         "Low Risk",
         2,
         0,
         0,
         "Y"
        ],
        [
         "Mrs.",
         26,
         2,
         1991,
         "F",
         "S",
         "2 yr Degree",
         "8500",
         "Low Risk",
         2,
         0,
         0,
         "Y"
        ],
        [
         "Sir",
         7,
         5,
         1989,
         "F",
         "W",
         "4 yr Degree",
         "8500",
         "Low Risk",
         2,
         0,
         0,
         "Y"
        ],
        [
         "Mr.",
         4,
         12,
         1932,
         "M",
         "S",
         "Advanced Degree",
         "8500",
         "Low Risk",
         2,
         0,
         0,
         "N"
        ],
        [
         "Mrs.",
         30,
         6,
         1959,
         "F",
         "W",
         "Advanced Degree",
         "8500",
         "Low Risk",
         2,
         0,
         0,
         "Y"
        ],
        [
         "Mrs.",
         20,
         3,
         1928,
         "F",
         "M",
         "Secondary",
         "9000",
         "Low Risk",
         2,
         0,
         0,
         "Y"
        ],
        [
         "Dr.",
         8,
         10,
         1990,
         "F",
         "M",
         "College",
         "9000",
         "Low Risk",
         2,
         0,
         0,
         "N"
        ],
        [
         "Dr.",
         15,
         2,
         1966,
         "M",
         "S",
         "4 yr Degree",
         "9000",
         "Low Risk",
         2,
         0,
         0,
         "Y"
        ],
        [
         "Ms.",
         5,
         6,
         1950,
         "M",
         "D",
         "Unknown",
         "9000",
         "Low Risk",
         2,
         0,
         0,
         "Y"
        ],
        [
         "Mr.",
         11,
         3,
         1984,
         "F",
         "D",
         "Primary",
         "9500",
         "Low Risk",
         2,
         0,
         0,
         "N"
        ],
        [
         "Sir",
         30,
         9,
         1975,
         "M",
         "U",
         "Primary",
         "10000",
         "Low Risk",
         2,
         0,
         0,
         "Y"
        ],
        [
         "Dr.",
         21,
         5,
         1930,
         "M",
         "W",
         "College",
         "10000",
         "Low Risk",
         2,
         0,
         0,
         "Y"
        ],
        [
         "Dr.",
         7,
         6,
         1941,
         "M",
         "M",
         "Advanced Degree",
         "10000",
         "Low Risk",
         2,
         0,
         0,
         "N"
        ],
        [
         "Sir",
         12,
         9,
         1928,
         "M",
         "M",
         "Unknown",
         "10000",
         "Low Risk",
         2,
         0,
         0,
         "N"
        ],
        [
         "Mr.",
         15,
         7,
         1987,
         "F",
         "M",
         "Unknown",
         "10000",
         "Low Risk",
         2,
         0,
         0,
         "N"
        ],
        [
         "Mr.",
         23,
         8,
         1977,
         "M",
         "M",
         "4 yr Degree",
         "500",
         "High Risk",
         2,
         0,
         0,
         "N"
        ],
        [
         "Ms.",
         2,
         7,
         1945,
         "M",
         "S",
         "4 yr Degree",
         "500",
         "High Risk",
         2,
         0,
         0,
         "N"
        ],
        [
         "Mr.",
         10,
         1,
         1942,
         "F",
         "D",
         "Unknown",
         "500",
         "High Risk",
         2,
         0,
         0,
         "Y"
        ],
        [
         "Sir",
         12,
         5,
         1978,
         "F",
         "W",
         "Unknown",
         "500",
         "High Risk",
         2,
         0,
         0,
         "N"
        ],
        [
         "Mr.",
         2,
         10,
         1963,
         "F",
         "U",
         "Unknown",
         "500",
         "High Risk",
         2,
         0,
         0,
         "Y"
        ],
        [
         "Sir",
         31,
         3,
         1974,
         "F",
         "W",
         "Primary",
         "1000",
         "High Risk",
         2,
         0,
         0,
         "N"
        ],
        [
         "Dr.",
         14,
         12,
         1940,
         "F",
         "W",
         "College",
         "1000",
         "High Risk",
         2,
         0,
         0,
         "N"
        ],
        [
         "Ms.",
         27,
         11,
         1971,
         "M",
         "M",
         "Advanced Degree",
         "1000",
         "High Risk",
         2,
         0,
         0,
         "N"
        ],
        [
         "Sir",
         18,
         11,
         1971,
         "M",
         "U",
         "Unknown",
         "1000",
         "High Risk",
         2,
         0,
         0,
         "N"
        ],
        [
         "Miss",
         21,
         2,
         1990,
         "F",
         "M",
         "2 yr Degree",
         "1500",
         "High Risk",
         2,
         0,
         0,
         "Y"
        ],
        [
         "Dr.",
         27,
         9,
         1986,
         "F",
         "M",
         "4 yr Degree",
         "1500",
         "High Risk",
         2,
         0,
         0,
         "Y"
        ],
        [
         "Dr.",
         27,
         2,
         1984,
         "M",
         "S",
         "Advanced Degree",
         "1500",
         "High Risk",
         2,
         0,
         0,
         "Y"
        ],
        [
         "Dr.",
         8,
         2,
         1986,
         "F",
         "W",
         "Unknown",
         "1500",
         "High Risk",
         2,
         0,
         0,
         "Y"
        ],
        [
         "Miss",
         14,
         11,
         1990,
         "F",
         "D",
         "2 yr Degree",
         "2000",
         "High Risk",
         2,
         0,
         0,
         "Y"
        ],
        [
         "Mr.",
         26,
         null,
         1982,
         "M",
         "M",
         "4 yr Degree",
         "2500",
         "High Risk",
         2,
         0,
         0,
         "Y"
        ],
        [
         "Dr.",
         23,
         2,
         1954,
         "F",
         "U",
         "4 yr Degree",
         "2500",
         "High Risk",
         2,
         0,
         0,
         "N"
        ],
        [
         "Mrs.",
         7,
         11,
         1952,
         "M",
         "W",
         "Unknown",
         "2500",
         "High Risk",
         2,
         0,
         0,
         "Y"
        ],
        [
         "Mr.",
         23,
         1,
         1983,
         "M",
         "M",
         "Secondary",
         "3000",
         "High Risk",
         2,
         0,
         0,
         "N"
        ],
        [
         "Ms.",
         8,
         3,
         1962,
         "M",
         "D",
         "College",
         "3000",
         "High Risk",
         2,
         0,
         0,
         "Y"
        ],
        [
         "Sir",
         22,
         7,
         1980,
         "F",
         "D",
         "2 yr Degree",
         "3000",
         "High Risk",
         2,
         0,
         0,
         "Y"
        ],
        [
         "Miss",
         16,
         1,
         1981,
         "F",
         "D",
         "2 yr Degree",
         "3000",
         "High Risk",
         2,
         0,
         0,
         "N"
        ],
        [
         "Miss",
         13,
         4,
         1939,
         "F",
         "S",
         "4 yr Degree",
         "3000",
         "High Risk",
         2,
         0,
         0,
         "N"
        ],
        [
         "Miss",
         8,
         1,
         1924,
         "F",
         "W",
         "4 yr Degree",
         "3000",
         "High Risk",
         2,
         0,
         0,
         "N"
        ],
        [
         "Dr.",
         9,
         12,
         1984,
         "M",
         "D",
         "Primary",
         "3500",
         "High Risk",
         2,
         0,
         0,
         "Y"
        ],
        [
         "Sir",
         16,
         9,
         1931,
         "F",
         "U",
         "Primary",
         "3500",
         "High Risk",
         2,
         0,
         0,
         "N"
        ],
        [
         "Mrs.",
         10,
         12,
         1958,
         "M",
         "U",
         "Secondary",
         "3500",
         "High Risk",
         2,
         0,
         0,
         "N"
        ],
        [
         "Dr.",
         15,
         7,
         1951,
         "F",
         "W",
         "2 yr Degree",
         "3500",
         "High Risk",
         2,
         0,
         0,
         "N"
        ],
        [
         "Dr.",
         20,
         6,
         1967,
         "F",
         "D",
         "Advanced Degree",
         "3500",
         "High Risk",
         2,
         0,
         0,
         "Y"
        ],
        [
         "Ms.",
         4,
         8,
         1956,
         "M",
         "S",
         "Unknown",
         "3500",
         "High Risk",
         2,
         0,
         0,
         "N"
        ],
        [
         "Dr.",
         19,
         7,
         1971,
         "M",
         "M",
         "Secondary",
         "4000",
         "High Risk",
         2,
         0,
         0,
         "Y"
        ],
        [
         "Sir",
         28,
         4,
         1978,
         "F",
         "W",
         "2 yr Degree",
         "4000",
         "High Risk",
         2,
         0,
         0,
         "Y"
        ],
        [
         "Dr.",
         13,
         9,
         1939,
         "F",
         "U",
         "Unknown",
         "4000",
         "High Risk",
         2,
         0,
         0,
         "N"
        ],
        [
         "Mr.",
         13,
         3,
         1945,
         "F",
         "U",
         "Secondary",
         "4500",
         "High Risk",
         2,
         0,
         0,
         "Y"
        ],
        [
         "Ms.",
         7,
         11,
         1954,
         "F",
         "U",
         "College",
         "4500",
         "High Risk",
         2,
         0,
         0,
         "N"
        ],
        [
         "Miss",
         28,
         12,
         1955,
         "F",
         "D",
         "Advanced Degree",
         "4500",
         "High Risk",
         2,
         0,
         0,
         "N"
        ],
        [
         "Mr.",
         5,
         9,
         1959,
         "F",
         "U",
         "Unknown",
         "4500",
         "High Risk",
         2,
         0,
         0,
         "Y"
        ],
        [
         "Dr.",
         25,
         8,
         1953,
         "F",
         "M",
         "College",
         "5000",
         "High Risk",
         2,
         0,
         0,
         "N"
        ],
        [
         "Dr.",
         1,
         11,
         1937,
         "F",
         "M",
         "Advanced Degree",
         "5000",
         "High Risk",
         2,
         0,
         0,
         "N"
        ],
        [
         "Mr.",
         10,
         6,
         1979,
         "M",
         "M",
         "Unknown",
         "5000",
         "High Risk",
         2,
         0,
         0,
         "N"
        ],
        [
         "Dr.",
         9,
         12,
         1972,
         "F",
         "D",
         "Unknown",
         "5000",
         "High Risk",
         2,
         0,
         0,
         "Y"
        ],
        [
         null,
         null,
         10,
         1961,
         "M",
         "U",
         "College",
         "5500",
         "High Risk",
         2,
         0,
         0,
         "Y"
        ],
        [
         "Ms.",
         11,
         7,
         1942,
         "M",
         "M",
         "4 yr Degree",
         "5500",
         "High Risk",
         2,
         0,
         0,
         "N"
        ],
        [
         "Mrs.",
         18,
         8,
         1948,
         "M",
         "S",
         "Primary",
         "6000",
         "High Risk",
         2,
         0,
         0,
         "N"
        ],
        [
         "Mrs.",
         3,
         2,
         1986,
         "F",
         "D",
         "Primary",
         "6000",
         "High Risk",
         2,
         0,
         0,
         "N"
        ],
        [
         "Miss",
         14,
         8,
         1953,
         "M",
         "W",
         "College",
         "6000",
         "High Risk",
         2,
         0,
         0,
         "Y"
        ],
        [
         "Mrs.",
         18,
         5,
         1974,
         "F",
         "D",
         "2 yr Degree",
         "6000",
         "High Risk",
         2,
         0,
         0,
         "N"
        ],
        [
         "Dr.",
         26,
         9,
         1935,
         "M",
         "S",
         "4 yr Degree",
         "6500",
         "High Risk",
         2,
         0,
         0,
         "Y"
        ],
        [
         "Miss",
         20,
         7,
         1981,
         "F",
         "M",
         "Advanced Degree",
         "6500",
         "High Risk",
         2,
         0,
         0,
         "Y"
        ],
        [
         "Miss",
         18,
         1,
         1937,
         "F",
         "D",
         "Secondary",
         "7000",
         "High Risk",
         2,
         0,
         0,
         "N"
        ],
        [
         "Mr.",
         28,
         10,
         1949,
         "F",
         "U",
         "2 yr Degree",
         "7000",
         "High Risk",
         2,
         0,
         0,
         "Y"
        ],
        [
         "Ms.",
         5,
         7,
         1939,
         "M",
         "M",
         "4 yr Degree",
         "7000",
         "High Risk",
         2,
         0,
         0,
         "N"
        ],
        [
         "Miss",
         23,
         2,
         1943,
         "F",
         "W",
         "Primary",
         "7500",
         "High Risk",
         2,
         0,
         0,
         "N"
        ],
        [
         "Sir",
         7,
         12,
         1973,
         "F",
         "S",
         "2 yr Degree",
         "7500",
         "High Risk",
         2,
         0,
         0,
         "Y"
        ],
        [
         "Mr.",
         16,
         8,
         1960,
         "M",
         "U",
         "2 yr Degree",
         "7500",
         "High Risk",
         2,
         0,
         0,
         "N"
        ],
        [
         "Ms.",
         4,
         9,
         1950,
         "M",
         "U",
         "4 yr Degree",
         "7500",
         "High Risk",
         2,
         0,
         0,
         "Y"
        ],
        [
         "Sir",
         5,
         2,
         1987,
         "F",
         "D",
         "Advanced Degree",
         "7500",
         "High Risk",
         2,
         0,
         0,
         "Y"
        ],
        [
         "Dr.",
         12,
         11,
         1944,
         "F",
         "M",
         "Advanced Degree",
         "8000",
         "High Risk",
         2,
         0,
         0,
         "N"
        ],
        [
         "Dr.",
         16,
         7,
         1964,
         "F",
         "D",
         "Unknown",
         "8000",
         "High Risk",
         2,
         0,
         0,
         "N"
        ],
        [
         "Sir",
         29,
         1,
         1980,
         "F",
         "U",
         "Primary",
         "8500",
         "High Risk",
         2,
         0,
         0,
         "Y"
        ],
        [
         "Dr.",
         11,
         6,
         1971,
         "M",
         "M",
         "College",
         "8500",
         "High Risk",
         2,
         0,
         0,
         "N"
        ],
        [
         "Dr.",
         28,
         4,
         1976,
         "M",
         "D",
         "Secondary",
         "9000",
         "High Risk",
         2,
         0,
         0,
         "N"
        ],
        [
         "Ms.",
         12,
         1,
         1943,
         "M",
         "D",
         "2 yr Degree",
         "9000",
         "High Risk",
         2,
         0,
         0,
         "N"
        ],
        [
         "Dr.",
         14,
         3,
         1981,
         "M",
         "U",
         "2 yr Degree",
         "9000",
         "High Risk",
         2,
         0,
         0,
         "N"
        ],
        [
         "Dr.",
         2,
         6,
         1963,
         "M",
         "W",
         "Advanced Degree",
         "9000",
         "High Risk",
         2,
         0,
         0,
         "N"
        ],
        [
         "Miss",
         4,
         7,
         1975,
         "F",
         "D",
         "Primary",
         "9500",
         "High Risk",
         2,
         0,
         0,
         "Y"
        ],
        [
         "Sir",
         4,
         12,
         1955,
         "M",
         "U",
         "Primary",
         "9500",
         "High Risk",
         2,
         0,
         0,
         "Y"
        ],
        [
         "Mr.",
         27,
         7,
         1992,
         "M",
         "W",
         "2 yr Degree",
         "9500",
         "High Risk",
         2,
         0,
         0,
         "Y"
        ],
        [
         "Miss",
         26,
         11,
         1974,
         "F",
         "W",
         "4 yr Degree",
         "9500",
         "High Risk",
         2,
         0,
         0,
         "N"
        ],
        [
         "Dr.",
         7,
         11,
         1936,
         "M",
         "M",
         "Advanced Degree",
         "9500",
         "High Risk",
         2,
         0,
         0,
         "N"
        ],
        [
         "Ms.",
         13,
         8,
         1950,
         "M",
         "U",
         "Advanced Degree",
         "9500",
         "High Risk",
         2,
         0,
         0,
         "Y"
        ],
        [
         "Dr.",
         25,
         11,
         1930,
         "M",
         "S",
         "Primary",
         "10000",
         "High Risk",
         2,
         0,
         0,
         "Y"
        ],
        [
         "Mr.",
         14,
         4,
         1933,
         "M",
         "M",
         "College",
         "10000",
         "High Risk",
         2,
         0,
         0,
         "N"
        ],
        [
         "Sir",
         5,
         4,
         1952,
         "M",
         "S",
         "2 yr Degree",
         "10000",
         "High Risk",
         2,
         0,
         0,
         "N"
        ],
        [
         "Dr.",
         27,
         1,
         1958,
         "M",
         "W",
         "Advanced Degree",
         "10000",
         "High Risk",
         2,
         0,
         0,
         "Y"
        ],
        [
         "Dr.",
         21,
         12,
         1949,
         "F",
         "D",
         "Unknown",
         "10000",
         "High Risk",
         2,
         0,
         0,
         "N"
        ],
        [
         "Sir",
         12,
         6,
         1946,
         "M",
         "M",
         "Primary",
         "500",
         "Unknown",
         2,
         0,
         0,
         "Y"
        ],
        [
         "Miss",
         3,
         1,
         1953,
         "F",
         "M",
         "Secondary",
         "500",
         "Unknown",
         2,
         0,
         0,
         "N"
        ],
        [
         "Sir",
         14,
         1,
         1935,
         "F",
         "W",
         "2 yr Degree",
         "500",
         "Unknown",
         2,
         0,
         0,
         "N"
        ],
        [
         "Sir",
         19,
         2,
         1938,
         "F",
         "D",
         "Advanced Degree",
         "500",
         "Unknown",
         2,
         0,
         0,
         "N"
        ],
        [
         "Mrs.",
         14,
         10,
         1980,
         "M",
         "U",
         "Advanced Degree",
         "500",
         "Unknown",
         2,
         0,
         0,
         "N"
        ],
        [
         "Ms.",
         10,
         5,
         1977,
         "F",
         "M",
         "2 yr Degree",
         "1000",
         "Unknown",
         2,
         0,
         0,
         "Y"
        ],
        [
         "Ms.",
         29,
         8,
         1924,
         "M",
         "M",
         "Primary",
         "1500",
         "Unknown",
         2,
         0,
         0,
         "Y"
        ],
        [
         "Mr.",
         23,
         12,
         1960,
         "F",
         "S",
         "2 yr Degree",
         "1500",
         "Unknown",
         2,
         0,
         0,
         "N"
        ],
        [
         "Mrs.",
         16,
         2,
         1981,
         "M",
         "M",
         "Advanced Degree",
         "1500",
         "Unknown",
         2,
         0,
         0,
         "N"
        ],
        [
         "Mr.",
         9,
         6,
         1950,
         "M",
         "W",
         "Primary",
         "2000",
         "Unknown",
         2,
         0,
         0,
         "Y"
        ],
        [
         "Sir",
         2,
         6,
         1986,
         "M",
         "U",
         "2 yr Degree",
         "2000",
         "Unknown",
         2,
         0,
         0,
         "N"
        ],
        [
         "Miss",
         20,
         11,
         1959,
         "M",
         "S",
         "Secondary",
         "2500",
         "Unknown",
         2,
         0,
         0,
         "Y"
        ],
        [
         "Sir",
         14,
         7,
         1980,
         "F",
         "S",
         "Secondary",
         "2500",
         "Unknown",
         2,
         0,
         0,
         "Y"
        ],
        [
         "Dr.",
         13,
         11,
         1969,
         "M",
         "W",
         "Secondary",
         "2500",
         "Unknown",
         2,
         0,
         0,
         "N"
        ],
        [
         "Sir",
         22,
         4,
         1982,
         "F",
         "S",
         "2 yr Degree",
         "2500",
         "Unknown",
         2,
         0,
         0,
         "Y"
        ],
        [
         "Miss",
         16,
         11,
         1979,
         "F",
         "W",
         "2 yr Degree",
         "2500",
         "Unknown",
         2,
         0,
         0,
         "N"
        ],
        [
         "Mr.",
         3,
         7,
         1954,
         "M",
         "D",
         "Advanced Degree",
         "2500",
         "Unknown",
         2,
         0,
         0,
         "Y"
        ],
        [
         "Ms.",
         12,
         5,
         1991,
         "F",
         "S",
         "Unknown",
         "2500",
         "Unknown",
         2,
         0,
         0,
         "N"
        ],
        [
         "Ms.",
         8,
         6,
         1968,
         "M",
         "S",
         "Primary",
         "3000",
         "Unknown",
         2,
         0,
         0,
         "N"
        ],
        [
         "Dr.",
         25,
         1,
         1944,
         "F",
         "U",
         "4 yr Degree",
         "3000",
         "Unknown",
         2,
         0,
         0,
         "Y"
        ],
        [
         "Miss",
         1,
         2,
         1975,
         "M",
         "D",
         "Primary",
         "3500",
         "Unknown",
         2,
         0,
         0,
         "Y"
        ],
        [
         "Ms.",
         24,
         4,
         1970,
         "M",
         "D",
         "College",
         "3500",
         "Unknown",
         2,
         0,
         0,
         "N"
        ],
        [
         "Miss",
         23,
         1,
         1970,
         "M",
         "S",
         "4 yr Degree",
         "3500",
         "Unknown",
         2,
         0,
         0,
         "Y"
        ],
        [
         "Dr.",
         17,
         2,
         1933,
         "F",
         "W",
         "4 yr Degree",
         "3500",
         "Unknown",
         2,
         0,
         0,
         "N"
        ],
        [
         "Miss",
         3,
         3,
         1987,
         "M",
         "W",
         "Unknown",
         "3500",
         "Unknown",
         2,
         0,
         0,
         "N"
        ],
        [
         "Dr.",
         6,
         5,
         1991,
         "M",
         "M",
         "Secondary",
         "4000",
         "Unknown",
         2,
         0,
         0,
         "N"
        ],
        [
         "Mrs.",
         26,
         6,
         1932,
         "M",
         "M",
         "4 yr Degree",
         "4000",
         "Unknown",
         2,
         0,
         0,
         "Y"
        ],
        [
         "Sir",
         19,
         4,
         1957,
         "F",
         "U",
         "Primary",
         "4500",
         "Unknown",
         2,
         0,
         0,
         "N"
        ],
        [
         "Dr.",
         17,
         9,
         1937,
         "F",
         "S",
         "Secondary",
         "4500",
         "Unknown",
         2,
         0,
         0,
         "N"
        ],
        [
         "Dr.",
         4,
         3,
         1972,
         "M",
         "M",
         "College",
         "4500",
         "Unknown",
         2,
         0,
         0,
         "Y"
        ],
        [
         "Ms.",
         22,
         2,
         1925,
         "M",
         "U",
         "4 yr Degree",
         "4500",
         "Unknown",
         2,
         0,
         0,
         "Y"
        ],
        [
         "Dr.",
         22,
         3,
         1964,
         "M",
         "W",
         "2 yr Degree",
         "5000",
         "Unknown",
         2,
         0,
         0,
         "N"
        ],
        [
         "Mrs.",
         12,
         10,
         1955,
         "F",
         "U",
         "2 yr Degree",
         "5000",
         "Unknown",
         2,
         0,
         0,
         "Y"
        ],
        [
         "Dr.",
         2,
         7,
         1968,
         "F",
         "D",
         "4 yr Degree",
         "5000",
         "Unknown",
         2,
         0,
         0,
         "N"
        ],
        [
         "Miss",
         12,
         4,
         1945,
         "M",
         "W",
         "4 yr Degree",
         "5000",
         "Unknown",
         2,
         0,
         0,
         "N"
        ],
        [
         "Dr.",
         21,
         3,
         1953,
         "M",
         "M",
         "Unknown",
         "5000",
         "Unknown",
         2,
         0,
         0,
         "Y"
        ],
        [
         "Dr.",
         27,
         9,
         1970,
         "F",
         "W",
         "College",
         "5500",
         "Unknown",
         2,
         0,
         0,
         "Y"
        ],
        [
         "Mr.",
         15,
         2,
         1927,
         "M",
         "M",
         "Advanced Degree",
         "5500",
         "Unknown",
         2,
         0,
         0,
         "N"
        ],
        [
         "Sir",
         22,
         2,
         1930,
         "M",
         "S",
         "Unknown",
         "5500",
         "Unknown",
         2,
         0,
         0,
         "Y"
        ],
        [
         "Dr.",
         12,
         9,
         1956,
         "F",
         "M",
         "College",
         "6000",
         "Unknown",
         2,
         0,
         0,
         "N"
        ],
        [
         "Dr.",
         25,
         9,
         1947,
         "M",
         "U",
         "2 yr Degree",
         "6000",
         "Unknown",
         2,
         0,
         0,
         "Y"
        ],
        [
         "Ms.",
         3,
         4,
         1989,
         "M",
         "M",
         "4 yr Degree",
         "6000",
         "Unknown",
         2,
         0,
         0,
         "Y"
        ],
        [
         "Miss",
         9,
         2,
         1938,
         "M",
         "D",
         "Unknown",
         "6000",
         "Unknown",
         2,
         0,
         0,
         "Y"
        ],
        [
         "Mr.",
         12,
         4,
         1991,
         "F",
         "W",
         "Primary",
         "6500",
         "Unknown",
         2,
         0,
         0,
         "N"
        ],
        [
         "Ms.",
         15,
         1,
         1947,
         "F",
         "U",
         "Secondary",
         "6500",
         "Unknown",
         2,
         0,
         0,
         "N"
        ],
        [
         "Sir",
         8,
         11,
         1924,
         "F",
         "M",
         "2 yr Degree",
         "6500",
         "Unknown",
         2,
         0,
         0,
         "N"
        ],
        [
         "Sir",
         21,
         4,
         1987,
         "F",
         "S",
         "Advanced Degree",
         "6500",
         "Unknown",
         2,
         0,
         0,
         "N"
        ],
        [
         "Mr.",
         29,
         9,
         1975,
         "M",
         "M",
         "4 yr Degree",
         "7000",
         "Unknown",
         2,
         0,
         0,
         "N"
        ],
        [
         "Dr.",
         21,
         2,
         1983,
         "F",
         "S",
         "4 yr Degree",
         "7000",
         "Unknown",
         2,
         0,
         0,
         "N"
        ],
        [
         "Miss",
         21,
         8,
         1986,
         "M",
         "M",
         "Advanced Degree",
         "7000",
         "Unknown",
         2,
         0,
         0,
         "Y"
        ],
        [
         "Mrs.",
         7,
         1,
         1954,
         "M",
         "U",
         "Primary",
         "7500",
         "Unknown",
         2,
         0,
         0,
         "N"
        ],
        [
         "Dr.",
         24,
         9,
         1980,
         "M",
         "U",
         "Primary",
         "7500",
         "Unknown",
         2,
         0,
         0,
         "N"
        ],
        [
         "Miss",
         5,
         10,
         1932,
         "F",
         "U",
         "College",
         "7500",
         "Unknown",
         2,
         0,
         0,
         "Y"
        ],
        [
         "Sir",
         9,
         4,
         1947,
         "M",
         "D",
         "Primary",
         "8000",
         "Unknown",
         2,
         0,
         0,
         "N"
        ],
        [
         "Miss",
         15,
         9,
         1986,
         "F",
         "W",
         "2 yr Degree",
         "8000",
         "Unknown",
         2,
         0,
         0,
         "Y"
        ],
        [
         "Dr.",
         17,
         11,
         1947,
         "M",
         "D",
         "4 yr Degree",
         "8000",
         "Unknown",
         2,
         0,
         0,
         "Y"
        ],
        [
         "Ms.",
         4,
         12,
         1981,
         "M",
         "S",
         "Advanced Degree",
         "8000",
         "Unknown",
         2,
         0,
         0,
         "N"
        ],
        [
         "Dr.",
         22,
         7,
         1956,
         "M",
         "D",
         "Primary",
         "8500",
         "Unknown",
         2,
         0,
         0,
         "N"
        ],
        [
         "Sir",
         16,
         10,
         1982,
         "M",
         "W",
         "Secondary",
         "8500",
         "Unknown",
         2,
         0,
         0,
         "N"
        ],
        [
         "Dr.",
         6,
         11,
         1973,
         "M",
         "U",
         "College",
         "8500",
         "Unknown",
         2,
         0,
         0,
         "Y"
        ],
        [
         "Dr.",
         22,
         9,
         1972,
         "M",
         "S",
         "Unknown",
         "8500",
         "Unknown",
         2,
         0,
         0,
         "N"
        ],
        [
         "Dr.",
         20,
         6,
         1953,
         "F",
         "D",
         "Primary",
         "9000",
         "Unknown",
         2,
         0,
         0,
         "N"
        ],
        [
         "Dr.",
         7,
         2,
         1988,
         "M",
         "S",
         "College",
         "9000",
         "Unknown",
         2,
         0,
         0,
         "N"
        ],
        [
         "Sir",
         2,
         1,
         1977,
         "F",
         "D",
         "2 yr Degree",
         "9000",
         "Unknown",
         2,
         0,
         0,
         "Y"
        ],
        [
         "Dr.",
         1,
         2,
         1953,
         "M",
         "S",
         "Secondary",
         "9500",
         "Unknown",
         2,
         0,
         0,
         "N"
        ],
        [
         "Dr.",
         25,
         6,
         1941,
         "F",
         "D",
         "Secondary",
         "9500",
         "Unknown",
         2,
         0,
         0,
         "Y"
        ],
        [
         "Mr.",
         4,
         12,
         1927,
         "M",
         "U",
         "Secondary",
         "9500",
         "Unknown",
         2,
         0,
         0,
         "N"
        ],
        [
         "Mr.",
         8,
         12,
         1952,
         "M",
         "D",
         "Advanced Degree",
         "9500",
         "Unknown",
         2,
         0,
         0,
         "Y"
        ],
        [
         null,
         null,
         7,
         null,
         "M",
         "M",
         "Secondary",
         "10000",
         "Unknown",
         2,
         0,
         0,
         "Y"
        ],
        [
         "Ms.",
         1,
         5,
         1955,
         "F",
         "S",
         "4 yr Degree",
         "10000",
         "Unknown",
         2,
         0,
         0,
         "N"
        ],
        [
         "Mr.",
         24,
         1,
         1946,
         "F",
         "D",
         "Unknown",
         "10000",
         "Unknown",
         2,
         0,
         0,
         "N"
        ],
        [
         "Mr.",
         14,
         12,
         1958,
         "M",
         "U",
         "Unknown",
         "10000",
         "Unknown",
         2,
         0,
         0,
         "N"
        ],
        [
         "Sir",
         20,
         2,
         1930,
         "F",
         "D",
         "College",
         "500",
         "Good",
         3,
         0,
         0,
         "N"
        ],
        [
         "Dr.",
         9,
         12,
         1940,
         "M",
         "M",
         "Unknown",
         "500",
         "Good",
         3,
         0,
         0,
         "Y"
        ],
        [
         "Dr.",
         7,
         4,
         1953,
         "M",
         "W",
         "Primary",
         "1000",
         "Good",
         3,
         0,
         0,
         "Y"
        ],
        [
         "Mr.",
         5,
         1,
         1924,
         "F",
         "W",
         "Secondary",
         "1000",
         "Good",
         3,
         0,
         0,
         "Y"
        ],
        [
         "Mr.",
         3,
         5,
         1955,
         "M",
         "D",
         "2 yr Degree",
         "1000",
         "Good",
         3,
         0,
         0,
         "N"
        ],
        [
         "Sir",
         17,
         4,
         1947,
         "M",
         "D",
         "Primary",
         "1500",
         "Good",
         3,
         0,
         0,
         "Y"
        ],
        [
         "Mr.",
         25,
         5,
         1936,
         "F",
         "D",
         "Secondary",
         "1500",
         "Good",
         3,
         0,
         0,
         "N"
        ],
        [
         "Sir",
         8,
         3,
         1973,
         "M",
         "U",
         "2 yr Degree",
         "1500",
         "Good",
         3,
         0,
         0,
         "N"
        ],
        [
         "Miss",
         14,
         1,
         1988,
         "F",
         "S",
         "Advanced Degree",
         "1500",
         "Good",
         3,
         0,
         0,
         "Y"
        ],
        [
         "Miss",
         13,
         9,
         1966,
         "M",
         "U",
         "Unknown",
         "2000",
         "Good",
         3,
         0,
         0,
         "N"
        ],
        [
         "Dr.",
         8,
         4,
         1981,
         "M",
         "D",
         "College",
         "2500",
         "Good",
         3,
         0,
         0,
         "Y"
        ],
        [
         null,
         18,
         7,
         1927,
         "F",
         "M",
         "2 yr Degree",
         "2500",
         "Good",
         3,
         0,
         0,
         "N"
        ],
        [
         "Dr.",
         6,
         6,
         1951,
         "M",
         "S",
         "2 yr Degree",
         "2500",
         "Good",
         3,
         0,
         0,
         "Y"
        ],
        [
         "Sir",
         16,
         2,
         1955,
         "F",
         "W",
         "2 yr Degree",
         "2500",
         "Good",
         3,
         0,
         0,
         "N"
        ],
        [
         "Ms.",
         5,
         6,
         1972,
         "F",
         "U",
         "Advanced Degree",
         "2500",
         "Good",
         3,
         0,
         0,
         "N"
        ],
        [
         "Dr.",
         28,
         10,
         1959,
         "F",
         "S",
         "Primary",
         "3000",
         "Good",
         3,
         0,
         0,
         "N"
        ],
        [
         "Mr.",
         6,
         2,
         1930,
         "F",
         "U",
         "Advanced Degree",
         "3000",
         "Good",
         3,
         0,
         0,
         "N"
        ],
        [
         "Sir",
         21,
         5,
         1948,
         "F",
         "D",
         "Unknown",
         "3000",
         "Good",
         3,
         0,
         0,
         "Y"
        ],
        [
         "Dr.",
         3,
         2,
         1943,
         "M",
         "D",
         "Secondary",
         "3500",
         "Good",
         3,
         0,
         0,
         "Y"
        ],
        [
         "Mr.",
         26,
         5,
         1935,
         "M",
         "U",
         "Secondary",
         "3500",
         "Good",
         3,
         0,
         0,
         "N"
        ],
        [
         "Dr.",
         26,
         2,
         1965,
         "F",
         "U",
         "2 yr Degree",
         "3500",
         "Good",
         3,
         0,
         0,
         "Y"
        ],
        [
         "Sir",
         24,
         6,
         1971,
         "F",
         "M",
         "Secondary",
         "4000",
         "Good",
         3,
         0,
         0,
         "N"
        ],
        [
         "Mr.",
         14,
         8,
         1990,
         "M",
         "D",
         "2 yr Degree",
         "4000",
         "Good",
         3,
         0,
         0,
         "Y"
        ],
        [
         "Mrs.",
         20,
         7,
         1924,
         "M",
         "D",
         "2 yr Degree",
         "4000",
         "Good",
         3,
         0,
         0,
         "N"
        ],
        [
         "Ms.",
         6,
         12,
         1955,
         "F",
         "D",
         "Advanced Degree",
         "4000",
         "Good",
         3,
         0,
         0,
         "Y"
        ],
        [
         "Sir",
         10,
         2,
         1972,
         "M",
         "U",
         "Unknown",
         "4000",
         "Good",
         3,
         0,
         0,
         "Y"
        ],
        [
         "Mrs.",
         18,
         10,
         1983,
         "M",
         "S",
         "College",
         "4500",
         "Good",
         3,
         0,
         0,
         "Y"
        ],
        [
         "Sir",
         21,
         5,
         1973,
         "F",
         "M",
         "Unknown",
         "5000",
         "Good",
         3,
         0,
         0,
         "Y"
        ],
        [
         "Sir",
         10,
         6,
         1959,
         "M",
         "W",
         "Unknown",
         "5000",
         "Good",
         3,
         0,
         0,
         "Y"
        ],
        [
         "Sir",
         4,
         1,
         1924,
         "F",
         "M",
         "Primary",
         "5500",
         "Good",
         3,
         0,
         0,
         "N"
        ],
        [
         "Ms.",
         29,
         9,
         1926,
         "M",
         "D",
         "College",
         "5500",
         "Good",
         3,
         0,
         0,
         "N"
        ],
        [
         "Dr.",
         21,
         7,
         1983,
         "F",
         "S",
         "Primary",
         "6000",
         "Good",
         3,
         0,
         0,
         "N"
        ],
        [
         "Dr.",
         1,
         10,
         1969,
         "F",
         "S",
         "College",
         "6000",
         "Good",
         3,
         0,
         0,
         "N"
        ],
        [
         "Mr.",
         4,
         12,
         1928,
         "M",
         "D",
         "College",
         "6000",
         "Good",
         3,
         0,
         0,
         "Y"
        ],
        [
         "Dr.",
         21,
         1,
         1975,
         "F",
         "M",
         "Advanced Degree",
         "6000",
         "Good",
         3,
         0,
         0,
         "Y"
        ],
        [
         "Sir",
         14,
         3,
         1965,
         "M",
         "W",
         "Secondary",
         "6500",
         "Good",
         3,
         0,
         0,
         "Y"
        ],
        [
         "Dr.",
         25,
         2,
         1971,
         "F",
         "D",
         "2 yr Degree",
         "6500",
         "Good",
         3,
         0,
         0,
         "N"
        ],
        [
         "Mr.",
         18,
         7,
         1953,
         "F",
         "D",
         "2 yr Degree",
         "6500",
         "Good",
         3,
         0,
         0,
         "Y"
        ],
        [
         "Mrs.",
         18,
         4,
         1966,
         "M",
         "W",
         "2 yr Degree",
         "6500",
         "Good",
         3,
         0,
         0,
         "Y"
        ],
        [
         "Mr.",
         1,
         2,
         1985,
         "M",
         "W",
         "4 yr Degree",
         "6500",
         "Good",
         3,
         0,
         0,
         "Y"
        ],
        [
         "Dr.",
         2,
         10,
         1959,
         "F",
         "S",
         "Unknown",
         "6500",
         "Good",
         3,
         0,
         0,
         "N"
        ],
        [
         "Sir",
         7,
         2,
         1961,
         "M",
         "D",
         "Secondary",
         "7000",
         "Good",
         3,
         0,
         0,
         "N"
        ],
        [
         "Miss",
         14,
         9,
         1976,
         "M",
         "S",
         "Advanced Degree",
         "7000",
         "Good",
         3,
         0,
         0,
         "N"
        ],
        [
         null,
         24,
         6,
         null,
         "F",
         "S",
         "Primary",
         "7500",
         "Good",
         3,
         0,
         0,
         "N"
        ],
        [
         "Dr.",
         15,
         1,
         1976,
         "F",
         "W",
         "Primary",
         "7500",
         "Good",
         3,
         0,
         0,
         "N"
        ],
        [
         "Ms.",
         27,
         5,
         1963,
         "F",
         "W",
         "Primary",
         "7500",
         "Good",
         3,
         0,
         0,
         "N"
        ],
        [
         "Mr.",
         17,
         12,
         1990,
         "M",
         "M",
         "Secondary",
         "7500",
         "Good",
         3,
         0,
         0,
         "N"
        ],
        [
         "Dr.",
         30,
         6,
         1971,
         "F",
         "W",
         "College",
         "7500",
         "Good",
         3,
         0,
         0,
         "N"
        ],
        [
         "Dr.",
         10,
         11,
         1979,
         "M",
         "W",
         "Unknown",
         "7500",
         "Good",
         3,
         0,
         0,
         "N"
        ],
        [
         "Miss",
         8,
         10,
         1939,
         "M",
         "D",
         "Secondary",
         "8000",
         "Good",
         3,
         0,
         0,
         "N"
        ],
        [
         "Mr.",
         11,
         5,
         1947,
         "F",
         "S",
         "College",
         "8000",
         "Good",
         3,
         0,
         0,
         "N"
        ],
        [
         "Dr.",
         22,
         8,
         1981,
         "F",
         "S",
         "4 yr Degree",
         "8000",
         "Good",
         3,
         0,
         0,
         "N"
        ],
        [
         null,
         null,
         null,
         null,
         "M",
         "W",
         "Unknown",
         "8000",
         "Good",
         3,
         0,
         0,
         "Y"
        ],
        [
         "Mr.",
         4,
         8,
         1924,
         "M",
         "W",
         "Unknown",
         "8000",
         "Good",
         3,
         0,
         0,
         "Y"
        ],
        [
         "Sir",
         3,
         1,
         1947,
         "M",
         "M",
         "Unknown",
         "8500",
         "Good",
         3,
         0,
         0,
         "Y"
        ],
        [
         "Dr.",
         23,
         5,
         1978,
         "M",
         "M",
         "Secondary",
         "9000",
         "Good",
         3,
         0,
         0,
         "N"
        ],
        [
         "Sir",
         1,
         3,
         1924,
         "F",
         "U",
         "Secondary",
         "9000",
         "Good",
         3,
         0,
         0,
         "N"
        ],
        [
         "Miss",
         12,
         9,
         1966,
         "M",
         "W",
         "2 yr Degree",
         "9000",
         "Good",
         3,
         0,
         0,
         "N"
        ],
        [
         "Sir",
         7,
         3,
         1958,
         "F",
         "S",
         "Advanced Degree",
         "9000",
         "Good",
         3,
         0,
         0,
         "N"
        ],
        [
         "Mr.",
         5,
         12,
         1939,
         "M",
         "D",
         "Advanced Degree",
         "9000",
         "Good",
         3,
         0,
         0,
         "Y"
        ],
        [
         "Miss",
         22,
         1,
         1971,
         "M",
         "M",
         "2 yr Degree",
         "9500",
         "Good",
         3,
         0,
         0,
         "N"
        ],
        [
         "Mr.",
         31,
         10,
         1931,
         "M",
         "D",
         "2 yr Degree",
         "9500",
         "Good",
         3,
         0,
         0,
         "N"
        ],
        [
         "Sir",
         2,
         1,
         1978,
         "F",
         "M",
         "Secondary",
         "10000",
         "Good",
         3,
         0,
         0,
         "Y"
        ],
        [
         null,
         2,
         null,
         null,
         "F",
         "M",
         "Secondary",
         "10000",
         "Good",
         3,
         0,
         0,
         "N"
        ],
        [
         "Mr.",
         7,
         12,
         1940,
         "F",
         "M",
         "4 yr Degree",
         "10000",
         "Good",
         3,
         0,
         0,
         "N"
        ],
        [
         "Dr.",
         22,
         12,
         1932,
         "M",
         "S",
         "Advanced Degree",
         "10000",
         "Good",
         3,
         0,
         0,
         "Y"
        ],
        [
         "Mrs.",
         18,
         3,
         1959,
         "F",
         "M",
         "Primary",
         "500",
         "Low Risk",
         3,
         0,
         0,
         "N"
        ],
        [
         "Dr.",
         17,
         5,
         1968,
         "M",
         "M",
         "Secondary",
         "500",
         "Low Risk",
         3,
         0,
         0,
         "N"
        ],
        [
         "Sir",
         30,
         9,
         1980,
         "M",
         "U",
         "Secondary",
         "500",
         "Low Risk",
         3,
         0,
         0,
         "N"
        ],
        [
         "Dr.",
         4,
         11,
         1960,
         "F",
         "U",
         "Secondary",
         "500",
         "Low Risk",
         3,
         0,
         0,
         "N"
        ],
        [
         "Miss",
         7,
         5,
         1966,
         "M",
         "S",
         "Advanced Degree",
         "500",
         "Low Risk",
         3,
         0,
         0,
         "Y"
        ],
        [
         "Dr.",
         29,
         6,
         1983,
         "M",
         "D",
         "Advanced Degree",
         "500",
         "Low Risk",
         3,
         0,
         0,
         "N"
        ],
        [
         "Mr.",
         18,
         3,
         1949,
         "F",
         "U",
         "Unknown",
         "500",
         "Low Risk",
         3,
         0,
         0,
         "N"
        ],
        [
         "Miss",
         25,
         10,
         1961,
         "M",
         "W",
         "Primary",
         "1000",
         "Low Risk",
         3,
         0,
         0,
         "N"
        ],
        [
         "Mr.",
         24,
         8,
         1935,
         "M",
         "M",
         "Secondary",
         "1000",
         "Low Risk",
         3,
         0,
         0,
         "N"
        ],
        [
         "Dr.",
         18,
         8,
         1955,
         "F",
         "W",
         "Advanced Degree",
         "1000",
         "Low Risk",
         3,
         0,
         0,
         "Y"
        ],
        [
         "Mr.",
         5,
         1,
         1972,
         "F",
         "U",
         "Secondary",
         "1500",
         "Low Risk",
         3,
         0,
         0,
         "N"
        ],
        [
         "Dr.",
         6,
         9,
         1968,
         "M",
         "W",
         "2 yr Degree",
         "1500",
         "Low Risk",
         3,
         0,
         0,
         "Y"
        ],
        [
         "Ms.",
         11,
         6,
         1935,
         "F",
         "U",
         "Secondary",
         "2000",
         "Low Risk",
         3,
         0,
         0,
         "Y"
        ],
        [
         "Dr.",
         14,
         6,
         1979,
         "M",
         "S",
         "4 yr Degree",
         "2000",
         "Low Risk",
         3,
         0,
         0,
         "N"
        ],
        [
         "Sir",
         31,
         12,
         1961,
         "F",
         "U",
         "Unknown",
         "2000",
         "Low Risk",
         3,
         0,
         0,
         "N"
        ],
        [
         "Dr.",
         18,
         7,
         1975,
         "F",
         "U",
         "Unknown",
         "2000",
         "Low Risk",
         3,
         0,
         0,
         "N"
        ],
        [
         "Ms.",
         2,
         1,
         1941,
         "F",
         "U",
         "Secondary",
         "2500",
         "Low Risk",
         3,
         0,
         0,
         "N"
        ],
        [
         "Mrs.",
         21,
         2,
         1926,
         "M",
         "W",
         "College",
         "3000",
         "Low Risk",
         3,
         0,
         0,
         "N"
        ],
        [
         "Dr.",
         20,
         9,
         1992,
         "F",
         "U",
         "College",
         "3000",
         "Low Risk",
         3,
         0,
         0,
         "Y"
        ],
        [
         "Mrs.",
         9,
         12,
         1953,
         "F",
         "U",
         "4 yr Degree",
         "3000",
         "Low Risk",
         3,
         0,
         0,
         "N"
        ],
        [
         "Dr.",
         31,
         7,
         1930,
         "F",
         "U",
         "Unknown",
         "3000",
         "Low Risk",
         3,
         0,
         0,
         "N"
        ],
        [
         "Dr.",
         24,
         4,
         1978,
         "M",
         "S",
         "College",
         "3500",
         "Low Risk",
         3,
         0,
         0,
         "N"
        ],
        [
         "Dr.",
         25,
         6,
         1939,
         "M",
         "W",
         "2 yr Degree",
         "3500",
         "Low Risk",
         3,
         0,
         0,
         "Y"
        ],
        [
         "Dr.",
         3,
         1,
         1940,
         "F",
         "W",
         "2 yr Degree",
         "3500",
         "Low Risk",
         3,
         0,
         0,
         "Y"
        ],
        [
         "Sir",
         8,
         1,
         1991,
         "F",
         "M",
         "Advanced Degree",
         "3500",
         "Low Risk",
         3,
         0,
         0,
         "N"
        ],
        [
         "Sir",
         19,
         8,
         1955,
         "M",
         "W",
         "Advanced Degree",
         "3500",
         "Low Risk",
         3,
         0,
         0,
         "N"
        ],
        [
         "Mrs.",
         6,
         10,
         1931,
         "M",
         "M",
         "2 yr Degree",
         "4000",
         "Low Risk",
         3,
         0,
         0,
         "N"
        ],
        [
         "Ms.",
         19,
         8,
         1951,
         "F",
         "S",
         "4 yr Degree",
         "4000",
         "Low Risk",
         3,
         0,
         0,
         "Y"
        ],
        [
         "Miss",
         2,
         2,
         1939,
         "F",
         "M",
         "Secondary",
         "4500",
         "Low Risk",
         3,
         0,
         0,
         "Y"
        ],
        [
         "Mr.",
         11,
         12,
         1925,
         "F",
         "S",
         "Secondary",
         "4500",
         "Low Risk",
         3,
         0,
         0,
         "N"
        ],
        [
         "Ms.",
         27,
         1,
         1967,
         "F",
         "U",
         "Secondary",
         "4500",
         "Low Risk",
         3,
         0,
         0,
         "Y"
        ],
        [
         "Ms.",
         5,
         7,
         1930,
         "M",
         "S",
         "2 yr Degree",
         "4500",
         "Low Risk",
         3,
         0,
         0,
         "N"
        ],
        [
         "Mr.",
         14,
         11,
         1927,
         "M",
         "U",
         "Unknown",
         "4500",
         "Low Risk",
         3,
         0,
         0,
         "Y"
        ],
        [
         "Sir",
         11,
         11,
         1931,
         "F",
         "U",
         "2 yr Degree",
         "5000",
         "Low Risk",
         3,
         0,
         0,
         "Y"
        ],
        [
         "Dr.",
         28,
         12,
         1972,
         "F",
         "U",
         "Primary",
         "5500",
         "Low Risk",
         3,
         0,
         0,
         "N"
        ],
        [
         "Mr.",
         23,
         10,
         1951,
         "F",
         "W",
         "2 yr Degree",
         "5500",
         "Low Risk",
         3,
         0,
         0,
         "N"
        ],
        [
         "Sir",
         18,
         9,
         1983,
         "M",
         "S",
         "Advanced Degree",
         "5500",
         "Low Risk",
         3,
         0,
         0,
         "Y"
        ],
        [
         "Dr.",
         20,
         2,
         1971,
         "F",
         "S",
         "Advanced Degree",
         "5500",
         "Low Risk",
         3,
         0,
         0,
         "Y"
        ],
        [
         "Mrs.",
         30,
         6,
         1984,
         "F",
         "S",
         "Advanced Degree",
         "5500",
         "Low Risk",
         3,
         0,
         0,
         "Y"
        ],
        [
         "Ms.",
         20,
         6,
         1978,
         "F",
         "D",
         "Advanced Degree",
         "5500",
         "Low Risk",
         3,
         0,
         0,
         "N"
        ],
        [
         "Mrs.",
         22,
         2,
         1926,
         "F",
         "U",
         "Advanced Degree",
         "5500",
         "Low Risk",
         3,
         0,
         0,
         "N"
        ],
        [
         "Mr.",
         30,
         4,
         1931,
         "F",
         "M",
         "Unknown",
         "5500",
         "Low Risk",
         3,
         0,
         0,
         "N"
        ],
        [
         "Dr.",
         4,
         6,
         1954,
         "M",
         "S",
         "Unknown",
         "5500",
         "Low Risk",
         3,
         0,
         0,
         "N"
        ],
        [
         "Mr.",
         29,
         1,
         1969,
         "F",
         "D",
         "Unknown",
         "6000",
         "Low Risk",
         3,
         0,
         0,
         "N"
        ],
        [
         "Dr.",
         9,
         5,
         1955,
         "F",
         "D",
         "Secondary",
         "7000",
         "Low Risk",
         3,
         0,
         0,
         "N"
        ],
        [
         "Miss",
         18,
         5,
         1981,
         "F",
         "W",
         "2 yr Degree",
         "7000",
         "Low Risk",
         3,
         0,
         0,
         "N"
        ],
        [
         "Ms.",
         27,
         3,
         1983,
         "M",
         "S",
         "4 yr Degree",
         "7000",
         "Low Risk",
         3,
         0,
         0,
         "Y"
        ],
        [
         "Miss",
         2,
         3,
         1953,
         "F",
         "W",
         "Advanced Degree",
         "7000",
         "Low Risk",
         3,
         0,
         0,
         "N"
        ],
        [
         "Mrs.",
         6,
         10,
         1966,
         "F",
         "D",
         "Primary",
         "7500",
         "Low Risk",
         3,
         0,
         0,
         "N"
        ],
        [
         "Sir",
         19,
         12,
         1956,
         "M",
         "M",
         "Advanced Degree",
         "7500",
         "Low Risk",
         3,
         0,
         0,
         "Y"
        ],
        [
         "Dr.",
         1,
         8,
         1987,
         "M",
         "W",
         "Unknown",
         "7500",
         "Low Risk",
         3,
         0,
         0,
         "Y"
        ],
        [
         "Miss",
         25,
         6,
         1984,
         "M",
         "U",
         "Unknown",
         "7500",
         "Low Risk",
         3,
         0,
         0,
         "Y"
        ],
        [
         "Dr.",
         18,
         8,
         1945,
         "F",
         "S",
         "Primary",
         "8000",
         "Low Risk",
         3,
         0,
         0,
         "Y"
        ],
        [
         "Sir",
         11,
         6,
         1962,
         "M",
         "W",
         "4 yr Degree",
         "8000",
         "Low Risk",
         3,
         0,
         0,
         "N"
        ],
        [
         "Dr.",
         23,
         6,
         1963,
         "F",
         "S",
         "Unknown",
         "8000",
         "Low Risk",
         3,
         0,
         0,
         "N"
        ],
        [
         "Mr.",
         17,
         10,
         1964,
         "M",
         "M",
         "Primary",
         "8500",
         "Low Risk",
         3,
         0,
         0,
         "Y"
        ],
        [
         "Mr.",
         1,
         1,
         1936,
         "M",
         "S",
         "Primary",
         "8500",
         "Low Risk",
         3,
         0,
         0,
         "N"
        ],
        [
         "Dr.",
         15,
         2,
         1945,
         "F",
         "D",
         "Primary",
         "8500",
         "Low Risk",
         3,
         0,
         0,
         "N"
        ],
        [
         "Mrs.",
         30,
         7,
         1934,
         "F",
         "D",
         "Secondary",
         "8500",
         "Low Risk",
         3,
         0,
         0,
         "N"
        ],
        [
         "Dr.",
         27,
         9,
         1980,
         "F",
         "M",
         "Primary",
         "9000",
         "Low Risk",
         3,
         0,
         0,
         "Y"
        ],
        [
         "Dr.",
         5,
         7,
         1932,
         "F",
         "D",
         "2 yr Degree",
         "9000",
         "Low Risk",
         3,
         0,
         0,
         "N"
        ],
        [
         "Mrs.",
         2,
         9,
         1940,
         "M",
         "W",
         "2 yr Degree",
         "9000",
         "Low Risk",
         3,
         0,
         0,
         "N"
        ],
        [
         "Ms.",
         14,
         10,
         1971,
         "M",
         "D",
         "Unknown",
         "9000",
         "Low Risk",
         3,
         0,
         0,
         "N"
        ],
        [
         "Dr.",
         9,
         8,
         1978,
         "F",
         "U",
         "Unknown",
         "9000",
         "Low Risk",
         3,
         0,
         0,
         "N"
        ],
        [
         "Dr.",
         4,
         1,
         1941,
         "F",
         "M",
         "College",
         "9500",
         "Low Risk",
         3,
         0,
         0,
         "N"
        ],
        [
         "Miss",
         3,
         7,
         1958,
         "M",
         "M",
         "Advanced Degree",
         "9500",
         "Low Risk",
         3,
         0,
         0,
         "N"
        ],
        [
         "Dr.",
         6,
         4,
         1933,
         "F",
         "S",
         "Unknown",
         "9500",
         "Low Risk",
         3,
         0,
         0,
         "Y"
        ],
        [
         "Dr.",
         24,
         12,
         1969,
         "F",
         "W",
         "Primary",
         "10000",
         "Low Risk",
         3,
         0,
         0,
         "Y"
        ],
        [
         "Mr.",
         23,
         5,
         1924,
         "M",
         "M",
         "4 yr Degree",
         "10000",
         "Low Risk",
         3,
         0,
         0,
         "Y"
        ],
        [
         "Miss",
         15,
         8,
         1985,
         "F",
         "M",
         "Advanced Degree",
         "10000",
         "Low Risk",
         3,
         0,
         0,
         "N"
        ],
        [
         "Sir",
         26,
         3,
         1932,
         "M",
         "U",
         "Advanced Degree",
         "500",
         "High Risk",
         3,
         0,
         0,
         "N"
        ],
        [
         "Mr.",
         22,
         1,
         1989,
         "M",
         "S",
         "Unknown",
         "500",
         "High Risk",
         3,
         0,
         0,
         "Y"
        ],
        [
         "Dr.",
         29,
         4,
         1965,
         "F",
         "D",
         "College",
         "1000",
         "High Risk",
         3,
         0,
         0,
         "Y"
        ],
        [
         "Mr.",
         21,
         7,
         1962,
         "F",
         "M",
         "Advanced Degree",
         "1000",
         "High Risk",
         3,
         0,
         0,
         "N"
        ],
        [
         "Mr.",
         3,
         8,
         1957,
         "M",
         "S",
         "Primary",
         "1500",
         "High Risk",
         3,
         0,
         0,
         "Y"
        ],
        [
         "Ms.",
         7,
         4,
         1935,
         "M",
         "U",
         "Secondary",
         "1500",
         "High Risk",
         3,
         0,
         0,
         "N"
        ],
        [
         "Sir",
         12,
         11,
         1970,
         "M",
         "D",
         "College",
         "1500",
         "High Risk",
         3,
         0,
         0,
         "Y"
        ],
        [
         "Ms.",
         16,
         1,
         1972,
         "F",
         "S",
         "Unknown",
         "1500",
         "High Risk",
         3,
         0,
         0,
         "N"
        ],
        [
         "Sir",
         3,
         2,
         1959,
         "F",
         "D",
         "Unknown",
         "1500",
         "High Risk",
         3,
         0,
         0,
         "Y"
        ],
        [
         "Mr.",
         29,
         4,
         1949,
         "M",
         "M",
         "College",
         "2000",
         "High Risk",
         3,
         0,
         0,
         "Y"
        ],
        [
         "Ms.",
         14,
         11,
         1981,
         "M",
         "S",
         "Secondary",
         "3000",
         "High Risk",
         3,
         0,
         0,
         "Y"
        ],
        [
         "Mr.",
         15,
         11,
         1954,
         "M",
         "D",
         "4 yr Degree",
         "3000",
         "High Risk",
         3,
         0,
         0,
         "Y"
        ],
        [
         "Sir",
         7,
         10,
         1947,
         "F",
         "M",
         "Primary",
         "3500",
         "High Risk",
         3,
         0,
         0,
         "N"
        ],
        [
         "Ms.",
         28,
         5,
         1975,
         "F",
         "M",
         "Secondary",
         "3500",
         "High Risk",
         3,
         0,
         0,
         "N"
        ],
        [
         "Miss",
         18,
         1,
         1938,
         "F",
         "M",
         "2 yr Degree",
         "3500",
         "High Risk",
         3,
         0,
         0,
         "Y"
        ],
        [
         "Mrs.",
         6,
         10,
         1932,
         "M",
         "D",
         "2 yr Degree",
         "3500",
         "High Risk",
         3,
         0,
         0,
         "Y"
        ],
        [
         "Mr.",
         24,
         4,
         null,
         "F",
         "U",
         "Advanced Degree",
         "3500",
         "High Risk",
         3,
         0,
         0,
         "Y"
        ],
        [
         "Dr.",
         29,
         6,
         1950,
         "F",
         "D",
         "Primary",
         "4000",
         "High Risk",
         3,
         0,
         0,
         "Y"
        ],
        [
         "Ms.",
         23,
         5,
         1959,
         "F",
         "W",
         "Advanced Degree",
         "4000",
         "High Risk",
         3,
         0,
         0,
         "N"
        ],
        [
         "Dr.",
         12,
         7,
         1926,
         "M",
         "M",
         "Unknown",
         "4000",
         "High Risk",
         3,
         0,
         0,
         "N"
        ],
        [
         "Miss",
         1,
         1,
         1990,
         "M",
         "M",
         "Secondary",
         "4500",
         "High Risk",
         3,
         0,
         0,
         "Y"
        ],
        [
         "Sir",
         26,
         10,
         1966,
         "F",
         "S",
         "2 yr Degree",
         "4500",
         "High Risk",
         3,
         0,
         0,
         "N"
        ],
        [
         "Mr.",
         6,
         12,
         1959,
         "M",
         "M",
         "4 yr Degree",
         "4500",
         "High Risk",
         3,
         0,
         0,
         "Y"
        ],
        [
         "Miss",
         10,
         3,
         1950,
         "M",
         "M",
         "Unknown",
         "5000",
         "High Risk",
         3,
         0,
         0,
         "N"
        ],
        [
         "Ms.",
         20,
         8,
         1991,
         "M",
         "M",
         "Primary",
         "5500",
         "High Risk",
         3,
         0,
         0,
         "Y"
        ],
        [
         "Dr.",
         19,
         6,
         1970,
         "F",
         "D",
         "Primary",
         "5500",
         "High Risk",
         3,
         0,
         0,
         "N"
        ],
        [
         "Ms.",
         30,
         1,
         1976,
         "M",
         "D",
         "College",
         "5500",
         "High Risk",
         3,
         0,
         0,
         "N"
        ],
        [
         "Ms.",
         30,
         6,
         1943,
         "F",
         "D",
         "College",
         "5500",
         "High Risk",
         3,
         0,
         0,
         "N"
        ],
        [
         "Ms.",
         10,
         1,
         1950,
         "F",
         "W",
         "College",
         "5500",
         "High Risk",
         3,
         0,
         0,
         "Y"
        ],
        [
         "Miss",
         6,
         6,
         1963,
         "F",
         "W",
         "4 yr Degree",
         "5500",
         "High Risk",
         3,
         0,
         0,
         "Y"
        ],
        [
         "Sir",
         21,
         1,
         1980,
         "F",
         "M",
         "Unknown",
         "5500",
         "High Risk",
         3,
         0,
         0,
         "Y"
        ],
        [
         "Miss",
         6,
         7,
         1973,
         "M",
         "M",
         "Unknown",
         "6000",
         "High Risk",
         3,
         0,
         0,
         "N"
        ],
        [
         "Dr.",
         2,
         5,
         1954,
         "M",
         "W",
         "Secondary",
         "6500",
         "High Risk",
         3,
         0,
         0,
         "N"
        ],
        [
         "Dr.",
         27,
         6,
         1941,
         "F",
         "U",
         "Secondary",
         "6500",
         "High Risk",
         3,
         0,
         0,
         "Y"
        ],
        [
         "Mrs.",
         5,
         6,
         1992,
         "F",
         "D",
         "Advanced Degree",
         "6500",
         "High Risk",
         3,
         0,
         0,
         "Y"
        ],
        [
         "Mrs.",
         9,
         12,
         1925,
         "F",
         "S",
         "Unknown",
         "6500",
         "High Risk",
         3,
         0,
         0,
         "Y"
        ],
        [
         "Mrs.",
         2,
         3,
         1972,
         "F",
         "S",
         "College",
         "7000",
         "High Risk",
         3,
         0,
         0,
         "Y"
        ],
        [
         "Sir",
         30,
         6,
         1992,
         "M",
         "U",
         "College",
         "7000",
         "High Risk",
         3,
         0,
         0,
         "N"
        ],
        [
         "Dr.",
         15,
         4,
         1943,
         "M",
         "M",
         "College",
         "7500",
         "High Risk",
         3,
         0,
         0,
         "N"
        ],
        [
         "Mr.",
         27,
         1,
         1981,
         "F",
         "U",
         "Advanced Degree",
         "7500",
         "High Risk",
         3,
         0,
         0,
         "Y"
        ]
       ],
       "datasetInfos": [
        {
         "name": "df_model",
         "schema": {
          "fields": [
           {
            "metadata": {},
            "name": "salutation",
            "nullable": true,
            "type": "string"
           },
           {
            "metadata": {},
            "name": "birth_Day",
            "nullable": true,
            "type": "long"
           },
           {
            "metadata": {},
            "name": "birth_Month",
            "nullable": true,
            "type": "long"
           },
           {
            "metadata": {},
            "name": "birth_Year",
            "nullable": true,
            "type": "long"
           },
           {
            "metadata": {},
            "name": "cd_gender",
            "nullable": true,
            "type": "string"
           },
           {
            "metadata": {},
            "name": "cd_marital_status",
            "nullable": true,
            "type": "string"
           },
           {
            "metadata": {},
            "name": "cd_education_status",
            "nullable": true,
            "type": "string"
           },
           {
            "metadata": {},
            "name": "cd_purchase_estimate",
            "nullable": true,
            "type": "string"
           },
           {
            "metadata": {},
            "name": "cd_credit_rating",
            "nullable": true,
            "type": "string"
           },
           {
            "metadata": {},
            "name": "cd_dep_count",
            "nullable": true,
            "type": "integer"
           },
           {
            "metadata": {},
            "name": "cd_dep_employed_count",
            "nullable": true,
            "type": "integer"
           },
           {
            "metadata": {},
            "name": "cd_dep_college_count",
            "nullable": true,
            "type": "integer"
           },
           {
            "metadata": {},
            "name": "preferred_Cust_Flag",
            "nullable": true,
            "type": "string"
           }
          ],
          "type": "struct"
         },
         "tableIdentifier": null,
         "typeStr": "pyspark.sql.dataframe.DataFrame"
        }
       ],
       "dbfsResultPath": null,
       "isJsonSchema": true,
       "overflow": true,
       "plotOptions": {
        "customPlotOptions": {},
        "displayType": "table",
        "pivotAggregation": null,
        "pivotColumns": null,
        "xColumns": null,
        "yColumns": null
       },
       "removedWidgets": [],
       "schema": [
        {
         "metadata": "{}",
         "name": "salutation",
         "type": "\"string\""
        },
        {
         "metadata": "{}",
         "name": "birth_Day",
         "type": "\"long\""
        },
        {
         "metadata": "{}",
         "name": "birth_Month",
         "type": "\"long\""
        },
        {
         "metadata": "{}",
         "name": "birth_Year",
         "type": "\"long\""
        },
        {
         "metadata": "{}",
         "name": "cd_gender",
         "type": "\"string\""
        },
        {
         "metadata": "{}",
         "name": "cd_marital_status",
         "type": "\"string\""
        },
        {
         "metadata": "{}",
         "name": "cd_education_status",
         "type": "\"string\""
        },
        {
         "metadata": "{}",
         "name": "cd_purchase_estimate",
         "type": "\"string\""
        },
        {
         "metadata": "{}",
         "name": "cd_credit_rating",
         "type": "\"string\""
        },
        {
         "metadata": "{}",
         "name": "cd_dep_count",
         "type": "\"integer\""
        },
        {
         "metadata": "{}",
         "name": "cd_dep_employed_count",
         "type": "\"integer\""
        },
        {
         "metadata": "{}",
         "name": "cd_dep_college_count",
         "type": "\"integer\""
        },
        {
         "metadata": "{}",
         "name": "preferred_Cust_Flag",
         "type": "\"string\""
        }
       ],
       "type": "table"
      }
     },
     "output_type": "display_data"
    }
   ],
   "source": [
    "df_model = customerWithDemographics.select(\"salutation\",\"birth_Day\",\"birth_Month\",\"birth_Year\",\"cd_gender\",\"cd_marital_status\",\"cd_education_status\",\"cd_purchase_estimate\",\"cd_credit_rating\",\"cd_dep_count\",\"cd_dep_employed_count\",\"cd_dep_college_count\",\"preferred_Cust_Flag\")\n",
    "df_model = df_model.filter(df_model.preferred_Cust_Flag.isNotNull())\n",
    "df_model.write.saveAsTable(\"customerdata\")\n",
    "display(df_model)"
   ]
  },
  {
   "cell_type": "code",
   "execution_count": 0,
   "metadata": {
    "application/vnd.databricks.v1+cell": {
     "inputWidgets": {},
     "nuid": "c4f26698-e1d7-462d-a3cc-9318f75c6dcc",
     "showTitle": false,
     "title": ""
    }
   },
   "outputs": [
    {
     "data": {
      "text/html": [
       "<style scoped>\n",
       "  .ansiout {\n",
       "    display: block;\n",
       "    unicode-bidi: embed;\n",
       "    white-space: pre-wrap;\n",
       "    word-wrap: break-word;\n",
       "    word-break: break-all;\n",
       "    font-family: \"Source Code Pro\", \"Menlo\", monospace;;\n",
       "    font-size: 13px;\n",
       "    color: #555;\n",
       "    margin-left: 4px;\n",
       "    line-height: 19px;\n",
       "  }\n",
       "</style>\n",
       "<div class=\"ansiout\">+----------+\n",
       "salutation|\n",
       "+----------+\n",
       "       Ms.|\n",
       "      null|\n",
       "       Mr.|\n",
       "      Miss|\n",
       "      Mrs.|\n",
       "       Dr.|\n",
       "       Sir|\n",
       "+----------+\n",
       "\n",
       "+---------+\n",
       "cd_gender|\n",
       "+---------+\n",
       "        F|\n",
       "        M|\n",
       "+---------+\n",
       "\n",
       "+-----------------+\n",
       "cd_marital_status|\n",
       "+-----------------+\n",
       "                M|\n",
       "                U|\n",
       "                D|\n",
       "                W|\n",
       "                S|\n",
       "+-----------------+\n",
       "\n",
       "+-------------------+\n",
       "cd_education_status|\n",
       "+-------------------+\n",
       "        4 yr Degree|\n",
       "          Secondary|\n",
       "            Unknown|\n",
       "    Advanced Degree|\n",
       "            Primary|\n",
       "            College|\n",
       "        2 yr Degree|\n",
       "+-------------------+\n",
       "\n",
       "+----------------+\n",
       "cd_credit_rating|\n",
       "+----------------+\n",
       "        Low Risk|\n",
       "            Good|\n",
       "         Unknown|\n",
       "       High Risk|\n",
       "+----------------+\n",
       "\n",
       "</div>"
      ]
     },
     "metadata": {
      "application/vnd.databricks.v1+output": {
       "addedWidgets": {},
       "arguments": {},
       "data": "<div class=\"ansiout\">+----------+\n|salutation|\n+----------+\n|       Ms.|\n|      null|\n|       Mr.|\n|      Miss|\n|      Mrs.|\n|       Dr.|\n|       Sir|\n+----------+\n\n+---------+\n|cd_gender|\n+---------+\n|        F|\n|        M|\n+---------+\n\n+-----------------+\n|cd_marital_status|\n+-----------------+\n|                M|\n|                U|\n|                D|\n|                W|\n|                S|\n+-----------------+\n\n+-------------------+\n|cd_education_status|\n+-------------------+\n|        4 yr Degree|\n|          Secondary|\n|            Unknown|\n|    Advanced Degree|\n|            Primary|\n|            College|\n|        2 yr Degree|\n+-------------------+\n\n+----------------+\n|cd_credit_rating|\n+----------------+\n|        Low Risk|\n|            Good|\n|         Unknown|\n|       High Risk|\n+----------------+\n\n</div>",
       "datasetInfos": [],
       "removedWidgets": [],
       "type": "html"
      }
     },
     "output_type": "display_data"
    }
   ],
   "source": [
    "cat_features = [\"salutation\",\"cd_gender\",\"cd_marital_status\",\"cd_education_status\",\"cd_credit_rating\"]\n",
    "for i in cat_features:\n",
    "  df_model.select(i).distinct().show()"
   ]
  },
  {
   "cell_type": "code",
   "execution_count": 0,
   "metadata": {
    "application/vnd.databricks.v1+cell": {
     "inputWidgets": {},
     "nuid": "a2b547c5-6e24-42d6-a4b7-275c123d15a3",
     "showTitle": true,
     "title": "OneHotEncoder"
    }
   },
   "outputs": [
    {
     "data": {
      "text/html": [
       "<style scoped>\n",
       "  .ansiout {\n",
       "    display: block;\n",
       "    unicode-bidi: embed;\n",
       "    white-space: pre-wrap;\n",
       "    word-wrap: break-word;\n",
       "    word-break: break-all;\n",
       "    font-family: \"Source Code Pro\", \"Menlo\", monospace;;\n",
       "    font-size: 13px;\n",
       "    color: #555;\n",
       "    margin-left: 4px;\n",
       "    line-height: 19px;\n",
       "  }\n",
       "</style>\n",
       "<div class=\"ansiout\"></div>"
      ]
     },
     "metadata": {
      "application/vnd.databricks.v1+output": {
       "addedWidgets": {},
       "arguments": {},
       "data": "<div class=\"ansiout\"></div>",
       "datasetInfos": [
        {
         "name": "df_model",
         "schema": {
          "fields": [
           {
            "metadata": {},
            "name": "salutation",
            "nullable": true,
            "type": "string"
           },
           {
            "metadata": {},
            "name": "birth_Day",
            "nullable": true,
            "type": "long"
           },
           {
            "metadata": {},
            "name": "birth_Month",
            "nullable": true,
            "type": "long"
           },
           {
            "metadata": {},
            "name": "birth_Year",
            "nullable": true,
            "type": "long"
           },
           {
            "metadata": {},
            "name": "cd_gender",
            "nullable": true,
            "type": "string"
           },
           {
            "metadata": {},
            "name": "cd_marital_status",
            "nullable": true,
            "type": "string"
           },
           {
            "metadata": {},
            "name": "cd_education_status",
            "nullable": true,
            "type": "string"
           },
           {
            "metadata": {},
            "name": "cd_purchase_estimate",
            "nullable": true,
            "type": "string"
           },
           {
            "metadata": {},
            "name": "cd_credit_rating",
            "nullable": true,
            "type": "string"
           },
           {
            "metadata": {},
            "name": "cd_dep_count",
            "nullable": true,
            "type": "integer"
           },
           {
            "metadata": {},
            "name": "cd_dep_employed_count",
            "nullable": true,
            "type": "integer"
           },
           {
            "metadata": {},
            "name": "cd_dep_college_count",
            "nullable": true,
            "type": "integer"
           },
           {
            "metadata": {},
            "name": "preferred_Cust_Flag",
            "nullable": true,
            "type": "string"
           },
           {
            "metadata": {
             "ml_attr": {
              "name": "salutation_Num",
              "type": "nominal",
              "vals": [
               "Dr.",
               "Mr.",
               "Sir",
               "Mrs.",
               "Ms.",
               "Miss",
               "__unknown"
              ]
             }
            },
            "name": "salutation_Num",
            "nullable": false,
            "type": "double"
           },
           {
            "metadata": {
             "ml_attr": {
              "attrs": {
               "binary": [
                {
                 "idx": 0,
                 "name": "Dr."
                },
                {
                 "idx": 1,
                 "name": "Mr."
                },
                {
                 "idx": 2,
                 "name": "Sir"
                },
                {
                 "idx": 3,
                 "name": "Mrs."
                },
                {
                 "idx": 4,
                 "name": "Ms."
                },
                {
                 "idx": 5,
                 "name": "Miss"
                }
               ]
              },
              "num_attrs": 6
             }
            },
            "name": "salutation_Vector",
            "nullable": true,
            "type": {
             "class": "org.apache.spark.ml.linalg.VectorUDT",
             "pyClass": "pyspark.ml.linalg.VectorUDT",
             "sqlType": {
              "fields": [
               {
                "metadata": {},
                "name": "type",
                "nullable": false,
                "type": "byte"
               },
               {
                "metadata": {},
                "name": "size",
                "nullable": true,
                "type": "integer"
               },
               {
                "metadata": {},
                "name": "indices",
                "nullable": true,
                "type": {
                 "containsNull": false,
                 "elementType": "integer",
                 "type": "array"
                }
               },
               {
                "metadata": {},
                "name": "values",
                "nullable": true,
                "type": {
                 "containsNull": false,
                 "elementType": "double",
                 "type": "array"
                }
               }
              ],
              "type": "struct"
             },
             "type": "udt"
            }
           },
           {
            "metadata": {
             "ml_attr": {
              "name": "cd_gender_Num",
              "type": "nominal",
              "vals": [
               "M",
               "F",
               "__unknown"
              ]
             }
            },
            "name": "cd_gender_Num",
            "nullable": false,
            "type": "double"
           },
           {
            "metadata": {
             "ml_attr": {
              "attrs": {
               "binary": [
                {
                 "idx": 0,
                 "name": "M"
                },
                {
                 "idx": 1,
                 "name": "F"
                }
               ]
              },
              "num_attrs": 2
             }
            },
            "name": "cd_gender_Vector",
            "nullable": true,
            "type": {
             "class": "org.apache.spark.ml.linalg.VectorUDT",
             "pyClass": "pyspark.ml.linalg.VectorUDT",
             "sqlType": {
              "fields": [
               {
                "metadata": {},
                "name": "type",
                "nullable": false,
                "type": "byte"
               },
               {
                "metadata": {},
                "name": "size",
                "nullable": true,
                "type": "integer"
               },
               {
                "metadata": {},
                "name": "indices",
                "nullable": true,
                "type": {
                 "containsNull": false,
                 "elementType": "integer",
                 "type": "array"
                }
               },
               {
                "metadata": {},
                "name": "values",
                "nullable": true,
                "type": {
                 "containsNull": false,
                 "elementType": "double",
                 "type": "array"
                }
               }
              ],
              "type": "struct"
             },
             "type": "udt"
            }
           },
           {
            "metadata": {
             "ml_attr": {
              "name": "cd_marital_status_Num",
              "type": "nominal",
              "vals": [
               "S",
               "U",
               "W",
               "M",
               "D",
               "__unknown"
              ]
             }
            },
            "name": "cd_marital_status_Num",
            "nullable": false,
            "type": "double"
           },
           {
            "metadata": {
             "ml_attr": {
              "attrs": {
               "binary": [
                {
                 "idx": 0,
                 "name": "S"
                },
                {
                 "idx": 1,
                 "name": "U"
                },
                {
                 "idx": 2,
                 "name": "W"
                },
                {
                 "idx": 3,
                 "name": "M"
                },
                {
                 "idx": 4,
                 "name": "D"
                }
               ]
              },
              "num_attrs": 5
             }
            },
            "name": "cd_marital_status_Vector",
            "nullable": true,
            "type": {
             "class": "org.apache.spark.ml.linalg.VectorUDT",
             "pyClass": "pyspark.ml.linalg.VectorUDT",
             "sqlType": {
              "fields": [
               {
                "metadata": {},
                "name": "type",
                "nullable": false,
                "type": "byte"
               },
               {
                "metadata": {},
                "name": "size",
                "nullable": true,
                "type": "integer"
               },
               {
                "metadata": {},
                "name": "indices",
                "nullable": true,
                "type": {
                 "containsNull": false,
                 "elementType": "integer",
                 "type": "array"
                }
               },
               {
                "metadata": {},
                "name": "values",
                "nullable": true,
                "type": {
                 "containsNull": false,
                 "elementType": "double",
                 "type": "array"
                }
               }
              ],
              "type": "struct"
             },
             "type": "udt"
            }
           },
           {
            "metadata": {
             "ml_attr": {
              "name": "cd_education_status_Num",
              "type": "nominal",
              "vals": [
               "Advanced Degree",
               "2 yr Degree",
               "Unknown",
               "4 yr Degree",
               "College",
               "Primary",
               "Secondary",
               "__unknown"
              ]
             }
            },
            "name": "cd_education_status_Num",
            "nullable": false,
            "type": "double"
           },
           {
            "metadata": {
             "ml_attr": {
              "attrs": {
               "binary": [
                {
                 "idx": 0,
                 "name": "Advanced Degree"
                },
                {
                 "idx": 1,
                 "name": "2 yr Degree"
                },
                {
                 "idx": 2,
                 "name": "Unknown"
                },
                {
                 "idx": 3,
                 "name": "4 yr Degree"
                },
                {
                 "idx": 4,
                 "name": "College"
                },
                {
                 "idx": 5,
                 "name": "Primary"
                },
                {
                 "idx": 6,
                 "name": "Secondary"
                }
               ]
              },
              "num_attrs": 7
             }
            },
            "name": "cd_education_status_Vector",
            "nullable": true,
            "type": {
             "class": "org.apache.spark.ml.linalg.VectorUDT",
             "pyClass": "pyspark.ml.linalg.VectorUDT",
             "sqlType": {
              "fields": [
               {
                "metadata": {},
                "name": "type",
                "nullable": false,
                "type": "byte"
               },
               {
                "metadata": {},
                "name": "size",
                "nullable": true,
                "type": "integer"
               },
               {
                "metadata": {},
                "name": "indices",
                "nullable": true,
                "type": {
                 "containsNull": false,
                 "elementType": "integer",
                 "type": "array"
                }
               },
               {
                "metadata": {},
                "name": "values",
                "nullable": true,
                "type": {
                 "containsNull": false,
                 "elementType": "double",
                 "type": "array"
                }
               }
              ],
              "type": "struct"
             },
             "type": "udt"
            }
           },
           {
            "metadata": {
             "ml_attr": {
              "name": "cd_credit_rating_Num",
              "type": "nominal",
              "vals": [
               "High Risk",
               "Low Risk",
               "Unknown",
               "Good",
               "__unknown"
              ]
             }
            },
            "name": "cd_credit_rating_Num",
            "nullable": false,
            "type": "double"
           },
           {
            "metadata": {
             "ml_attr": {
              "attrs": {
               "binary": [
                {
                 "idx": 0,
                 "name": "High Risk"
                },
                {
                 "idx": 1,
                 "name": "Low Risk"
                },
                {
                 "idx": 2,
                 "name": "Unknown"
                },
                {
                 "idx": 3,
                 "name": "Good"
                }
               ]
              },
              "num_attrs": 4
             }
            },
            "name": "cd_credit_rating_Vector",
            "nullable": true,
            "type": {
             "class": "org.apache.spark.ml.linalg.VectorUDT",
             "pyClass": "pyspark.ml.linalg.VectorUDT",
             "sqlType": {
              "fields": [
               {
                "metadata": {},
                "name": "type",
                "nullable": false,
                "type": "byte"
               },
               {
                "metadata": {},
                "name": "size",
                "nullable": true,
                "type": "integer"
               },
               {
                "metadata": {},
                "name": "indices",
                "nullable": true,
                "type": {
                 "containsNull": false,
                 "elementType": "integer",
                 "type": "array"
                }
               },
               {
                "metadata": {},
                "name": "values",
                "nullable": true,
                "type": {
                 "containsNull": false,
                 "elementType": "double",
                 "type": "array"
                }
               }
              ],
              "type": "struct"
             },
             "type": "udt"
            }
           }
          ],
          "type": "struct"
         },
         "tableIdentifier": null,
         "typeStr": "pyspark.sql.dataframe.DataFrame"
        }
       ],
       "removedWidgets": [],
       "type": "html"
      }
     },
     "output_type": "display_data"
    }
   ],
   "source": [
    "from pyspark.ml import Pipeline\n",
    "from pyspark.ml.feature import OneHotEncoder, StringIndexer\n",
    "\n",
    "for i in cat_features:\n",
    "  stringindexer = StringIndexer(inputCol=i, outputCol=i+\"_Num\").setHandleInvalid(\"keep\")  \n",
    "  encoder = OneHotEncoder(inputCol=i+\"_Num\", outputCol=i+'_Vector')\n",
    "  \n",
    "  pipeline = Pipeline(stages=[stringindexer, encoder])\n",
    "  pipeline_fit = pipeline.fit(df_model)\n",
    "  df_model = pipeline_fit.transform(df_model)"
   ]
  },
  {
   "cell_type": "code",
   "execution_count": 0,
   "metadata": {
    "application/vnd.databricks.v1+cell": {
     "inputWidgets": {},
     "nuid": "f0b56a04-4b02-4b2e-a11a-46c841d86c27",
     "showTitle": false,
     "title": ""
    }
   },
   "outputs": [
    {
     "data": {
      "text/html": [
       "<style scoped>\n",
       "  .table-result-container {\n",
       "    max-height: 300px;\n",
       "    overflow: auto;\n",
       "  }\n",
       "  table, th, td {\n",
       "    border: 1px solid black;\n",
       "    border-collapse: collapse;\n",
       "  }\n",
       "  th, td {\n",
       "    padding: 5px;\n",
       "  }\n",
       "  th {\n",
       "    text-align: left;\n",
       "  }\n",
       "</style><div class='table-result-container'><table class='table-result'><thead style='background-color: white'><tr><th>salutation</th><th>birth_Day</th><th>birth_Month</th><th>birth_Year</th><th>cd_gender</th><th>cd_marital_status</th><th>cd_education_status</th><th>cd_purchase_estimate</th><th>cd_credit_rating</th><th>cd_dep_count</th><th>cd_dep_employed_count</th><th>cd_dep_college_count</th><th>preferred_Cust_Flag</th><th>salutation_Num</th><th>salutation_Vector</th><th>cd_gender_Num</th><th>cd_gender_Vector</th><th>cd_marital_status_Num</th><th>cd_marital_status_Vector</th><th>cd_education_status_Num</th><th>cd_education_status_Vector</th><th>cd_credit_rating_Num</th><th>cd_credit_rating_Vector</th></tr></thead><tbody><tr><td>Sir</td><td>17</td><td>8</td><td>1936</td><td>M</td><td>W</td><td>Secondary</td><td>500</td><td>Good</td><td>0</td><td>0</td><td>0</td><td>N</td><td>2.0</td><td>List(0, 6, List(2), List(1.0))</td><td>0.0</td><td>List(0, 2, List(0), List(1.0))</td><td>2.0</td><td>List(0, 5, List(2), List(1.0))</td><td>6.0</td><td>List(0, 7, List(6), List(1.0))</td><td>3.0</td><td>List(0, 4, List(3), List(1.0))</td></tr><tr><td>Sir</td><td>6</td><td>9</td><td>1926</td><td>F</td><td>U</td><td>Secondary</td><td>500</td><td>Good</td><td>0</td><td>0</td><td>0</td><td>Y</td><td>2.0</td><td>List(0, 6, List(2), List(1.0))</td><td>1.0</td><td>List(0, 2, List(1), List(1.0))</td><td>1.0</td><td>List(0, 5, List(1), List(1.0))</td><td>6.0</td><td>List(0, 7, List(6), List(1.0))</td><td>3.0</td><td>List(0, 4, List(3), List(1.0))</td></tr><tr><td>Dr.</td><td>13</td><td>9</td><td>1928</td><td>M</td><td>S</td><td>4 yr Degree</td><td>500</td><td>Good</td><td>0</td><td>0</td><td>0</td><td>Y</td><td>0.0</td><td>List(0, 6, List(0), List(1.0))</td><td>0.0</td><td>List(0, 2, List(0), List(1.0))</td><td>0.0</td><td>List(0, 5, List(0), List(1.0))</td><td>3.0</td><td>List(0, 7, List(3), List(1.0))</td><td>3.0</td><td>List(0, 4, List(3), List(1.0))</td></tr><tr><td>Ms.</td><td>11</td><td>4</td><td>1992</td><td>F</td><td>S</td><td>4 yr Degree</td><td>500</td><td>Good</td><td>0</td><td>0</td><td>0</td><td>N</td><td>4.0</td><td>List(0, 6, List(4), List(1.0))</td><td>1.0</td><td>List(0, 2, List(1), List(1.0))</td><td>0.0</td><td>List(0, 5, List(0), List(1.0))</td><td>3.0</td><td>List(0, 7, List(3), List(1.0))</td><td>3.0</td><td>List(0, 4, List(3), List(1.0))</td></tr><tr><td>Mr.</td><td>11</td><td>7</td><td>1988</td><td>M</td><td>M</td><td>College</td><td>1000</td><td>Good</td><td>0</td><td>0</td><td>0</td><td>N</td><td>1.0</td><td>List(0, 6, List(1), List(1.0))</td><td>0.0</td><td>List(0, 2, List(0), List(1.0))</td><td>3.0</td><td>List(0, 5, List(3), List(1.0))</td><td>4.0</td><td>List(0, 7, List(4), List(1.0))</td><td>3.0</td><td>List(0, 4, List(3), List(1.0))</td></tr></tbody></table></div>"
      ]
     },
     "metadata": {
      "application/vnd.databricks.v1+output": {
       "addedWidgets": {},
       "aggData": [],
       "aggError": "",
       "aggOverflow": false,
       "aggSchema": [],
       "aggSeriesLimitReached": false,
       "aggType": "",
       "arguments": {},
       "columnCustomDisplayInfos": {},
       "data": [
        [
         "Sir",
         17,
         8,
         1936,
         "M",
         "W",
         "Secondary",
         "500",
         "Good",
         0,
         0,
         0,
         "N",
         2,
         [
          0,
          6,
          [
           2
          ],
          [
           1
          ]
         ],
         0,
         [
          0,
          2,
          [
           0
          ],
          [
           1
          ]
         ],
         2,
         [
          0,
          5,
          [
           2
          ],
          [
           1
          ]
         ],
         6,
         [
          0,
          7,
          [
           6
          ],
          [
           1
          ]
         ],
         3,
         [
          0,
          4,
          [
           3
          ],
          [
           1
          ]
         ]
        ],
        [
         "Sir",
         6,
         9,
         1926,
         "F",
         "U",
         "Secondary",
         "500",
         "Good",
         0,
         0,
         0,
         "Y",
         2,
         [
          0,
          6,
          [
           2
          ],
          [
           1
          ]
         ],
         1,
         [
          0,
          2,
          [
           1
          ],
          [
           1
          ]
         ],
         1,
         [
          0,
          5,
          [
           1
          ],
          [
           1
          ]
         ],
         6,
         [
          0,
          7,
          [
           6
          ],
          [
           1
          ]
         ],
         3,
         [
          0,
          4,
          [
           3
          ],
          [
           1
          ]
         ]
        ],
        [
         "Dr.",
         13,
         9,
         1928,
         "M",
         "S",
         "4 yr Degree",
         "500",
         "Good",
         0,
         0,
         0,
         "Y",
         0,
         [
          0,
          6,
          [
           0
          ],
          [
           1
          ]
         ],
         0,
         [
          0,
          2,
          [
           0
          ],
          [
           1
          ]
         ],
         0,
         [
          0,
          5,
          [
           0
          ],
          [
           1
          ]
         ],
         3,
         [
          0,
          7,
          [
           3
          ],
          [
           1
          ]
         ],
         3,
         [
          0,
          4,
          [
           3
          ],
          [
           1
          ]
         ]
        ],
        [
         "Ms.",
         11,
         4,
         1992,
         "F",
         "S",
         "4 yr Degree",
         "500",
         "Good",
         0,
         0,
         0,
         "N",
         4,
         [
          0,
          6,
          [
           4
          ],
          [
           1
          ]
         ],
         1,
         [
          0,
          2,
          [
           1
          ],
          [
           1
          ]
         ],
         0,
         [
          0,
          5,
          [
           0
          ],
          [
           1
          ]
         ],
         3,
         [
          0,
          7,
          [
           3
          ],
          [
           1
          ]
         ],
         3,
         [
          0,
          4,
          [
           3
          ],
          [
           1
          ]
         ]
        ],
        [
         "Mr.",
         11,
         7,
         1988,
         "M",
         "M",
         "College",
         "1000",
         "Good",
         0,
         0,
         0,
         "N",
         1,
         [
          0,
          6,
          [
           1
          ],
          [
           1
          ]
         ],
         0,
         [
          0,
          2,
          [
           0
          ],
          [
           1
          ]
         ],
         3,
         [
          0,
          5,
          [
           3
          ],
          [
           1
          ]
         ],
         4,
         [
          0,
          7,
          [
           4
          ],
          [
           1
          ]
         ],
         3,
         [
          0,
          4,
          [
           3
          ],
          [
           1
          ]
         ]
        ]
       ],
       "datasetInfos": [],
       "dbfsResultPath": null,
       "isJsonSchema": true,
       "overflow": false,
       "plotOptions": {
        "customPlotOptions": {},
        "displayType": "table",
        "pivotAggregation": null,
        "pivotColumns": null,
        "xColumns": null,
        "yColumns": null
       },
       "removedWidgets": [],
       "schema": [
        {
         "metadata": "{}",
         "name": "salutation",
         "type": "\"string\""
        },
        {
         "metadata": "{}",
         "name": "birth_Day",
         "type": "\"long\""
        },
        {
         "metadata": "{}",
         "name": "birth_Month",
         "type": "\"long\""
        },
        {
         "metadata": "{}",
         "name": "birth_Year",
         "type": "\"long\""
        },
        {
         "metadata": "{}",
         "name": "cd_gender",
         "type": "\"string\""
        },
        {
         "metadata": "{}",
         "name": "cd_marital_status",
         "type": "\"string\""
        },
        {
         "metadata": "{}",
         "name": "cd_education_status",
         "type": "\"string\""
        },
        {
         "metadata": "{}",
         "name": "cd_purchase_estimate",
         "type": "\"string\""
        },
        {
         "metadata": "{}",
         "name": "cd_credit_rating",
         "type": "\"string\""
        },
        {
         "metadata": "{}",
         "name": "cd_dep_count",
         "type": "\"long\""
        },
        {
         "metadata": "{}",
         "name": "cd_dep_employed_count",
         "type": "\"long\""
        },
        {
         "metadata": "{}",
         "name": "cd_dep_college_count",
         "type": "\"long\""
        },
        {
         "metadata": "{}",
         "name": "preferred_Cust_Flag",
         "type": "\"string\""
        },
        {
         "metadata": "{}",
         "name": "salutation_Num",
         "type": "\"double\""
        },
        {
         "metadata": "{}",
         "name": "salutation_Vector",
         "type": "{\"type\":\"udt\",\"class\":\"org.apache.spark.ml.linalg.VectorUDT\",\"pyClass\":\"pyspark.ml.linalg.VectorUDT\",\"sqlType\":{\"type\":\"struct\",\"fields\":[{\"name\":\"type\",\"type\":\"byte\",\"nullable\":false,\"metadata\":{}},{\"name\":\"size\",\"type\":\"integer\",\"nullable\":true,\"metadata\":{}},{\"name\":\"indices\",\"type\":{\"type\":\"array\",\"elementType\":\"integer\",\"containsNull\":false},\"nullable\":true,\"metadata\":{}},{\"name\":\"values\",\"type\":{\"type\":\"array\",\"elementType\":\"double\",\"containsNull\":false},\"nullable\":true,\"metadata\":{}}]}}"
        },
        {
         "metadata": "{}",
         "name": "cd_gender_Num",
         "type": "\"double\""
        },
        {
         "metadata": "{}",
         "name": "cd_gender_Vector",
         "type": "{\"type\":\"udt\",\"class\":\"org.apache.spark.ml.linalg.VectorUDT\",\"pyClass\":\"pyspark.ml.linalg.VectorUDT\",\"sqlType\":{\"type\":\"struct\",\"fields\":[{\"name\":\"type\",\"type\":\"byte\",\"nullable\":false,\"metadata\":{}},{\"name\":\"size\",\"type\":\"integer\",\"nullable\":true,\"metadata\":{}},{\"name\":\"indices\",\"type\":{\"type\":\"array\",\"elementType\":\"integer\",\"containsNull\":false},\"nullable\":true,\"metadata\":{}},{\"name\":\"values\",\"type\":{\"type\":\"array\",\"elementType\":\"double\",\"containsNull\":false},\"nullable\":true,\"metadata\":{}}]}}"
        },
        {
         "metadata": "{}",
         "name": "cd_marital_status_Num",
         "type": "\"double\""
        },
        {
         "metadata": "{}",
         "name": "cd_marital_status_Vector",
         "type": "{\"type\":\"udt\",\"class\":\"org.apache.spark.ml.linalg.VectorUDT\",\"pyClass\":\"pyspark.ml.linalg.VectorUDT\",\"sqlType\":{\"type\":\"struct\",\"fields\":[{\"name\":\"type\",\"type\":\"byte\",\"nullable\":false,\"metadata\":{}},{\"name\":\"size\",\"type\":\"integer\",\"nullable\":true,\"metadata\":{}},{\"name\":\"indices\",\"type\":{\"type\":\"array\",\"elementType\":\"integer\",\"containsNull\":false},\"nullable\":true,\"metadata\":{}},{\"name\":\"values\",\"type\":{\"type\":\"array\",\"elementType\":\"double\",\"containsNull\":false},\"nullable\":true,\"metadata\":{}}]}}"
        },
        {
         "metadata": "{}",
         "name": "cd_education_status_Num",
         "type": "\"double\""
        },
        {
         "metadata": "{}",
         "name": "cd_education_status_Vector",
         "type": "{\"type\":\"udt\",\"class\":\"org.apache.spark.ml.linalg.VectorUDT\",\"pyClass\":\"pyspark.ml.linalg.VectorUDT\",\"sqlType\":{\"type\":\"struct\",\"fields\":[{\"name\":\"type\",\"type\":\"byte\",\"nullable\":false,\"metadata\":{}},{\"name\":\"size\",\"type\":\"integer\",\"nullable\":true,\"metadata\":{}},{\"name\":\"indices\",\"type\":{\"type\":\"array\",\"elementType\":\"integer\",\"containsNull\":false},\"nullable\":true,\"metadata\":{}},{\"name\":\"values\",\"type\":{\"type\":\"array\",\"elementType\":\"double\",\"containsNull\":false},\"nullable\":true,\"metadata\":{}}]}}"
        },
        {
         "metadata": "{}",
         "name": "cd_credit_rating_Num",
         "type": "\"double\""
        },
        {
         "metadata": "{}",
         "name": "cd_credit_rating_Vector",
         "type": "{\"type\":\"udt\",\"class\":\"org.apache.spark.ml.linalg.VectorUDT\",\"pyClass\":\"pyspark.ml.linalg.VectorUDT\",\"sqlType\":{\"type\":\"struct\",\"fields\":[{\"name\":\"type\",\"type\":\"byte\",\"nullable\":false,\"metadata\":{}},{\"name\":\"size\",\"type\":\"integer\",\"nullable\":true,\"metadata\":{}},{\"name\":\"indices\",\"type\":{\"type\":\"array\",\"elementType\":\"integer\",\"containsNull\":false},\"nullable\":true,\"metadata\":{}},{\"name\":\"values\",\"type\":{\"type\":\"array\",\"elementType\":\"double\",\"containsNull\":false},\"nullable\":true,\"metadata\":{}}]}}"
        }
       ],
       "type": "table"
      }
     },
     "output_type": "display_data"
    }
   ],
   "source": [
    "display(df_model.head(5))"
   ]
  },
  {
   "cell_type": "code",
   "execution_count": 0,
   "metadata": {
    "application/vnd.databricks.v1+cell": {
     "inputWidgets": {},
     "nuid": "cb326b3c-4260-4651-aef2-ae2068c159c3",
     "showTitle": true,
     "title": "StringIndexer on target variable"
    }
   },
   "outputs": [
    {
     "data": {
      "text/html": [
       "<style scoped>\n",
       "  .ansiout {\n",
       "    display: block;\n",
       "    unicode-bidi: embed;\n",
       "    white-space: pre-wrap;\n",
       "    word-wrap: break-word;\n",
       "    word-break: break-all;\n",
       "    font-family: \"Source Code Pro\", \"Menlo\", monospace;;\n",
       "    font-size: 13px;\n",
       "    color: #555;\n",
       "    margin-left: 4px;\n",
       "    line-height: 19px;\n",
       "  }\n",
       "</style>\n",
       "<div class=\"ansiout\"></div>"
      ]
     },
     "metadata": {
      "application/vnd.databricks.v1+output": {
       "addedWidgets": {},
       "arguments": {},
       "data": "<div class=\"ansiout\"></div>",
       "datasetInfos": [
        {
         "name": "df_model",
         "schema": {
          "fields": [
           {
            "metadata": {},
            "name": "salutation",
            "nullable": true,
            "type": "string"
           },
           {
            "metadata": {},
            "name": "birth_Day",
            "nullable": true,
            "type": "long"
           },
           {
            "metadata": {},
            "name": "birth_Month",
            "nullable": true,
            "type": "long"
           },
           {
            "metadata": {},
            "name": "birth_Year",
            "nullable": true,
            "type": "long"
           },
           {
            "metadata": {},
            "name": "cd_gender",
            "nullable": true,
            "type": "string"
           },
           {
            "metadata": {},
            "name": "cd_marital_status",
            "nullable": true,
            "type": "string"
           },
           {
            "metadata": {},
            "name": "cd_education_status",
            "nullable": true,
            "type": "string"
           },
           {
            "metadata": {},
            "name": "cd_purchase_estimate",
            "nullable": true,
            "type": "string"
           },
           {
            "metadata": {},
            "name": "cd_credit_rating",
            "nullable": true,
            "type": "string"
           },
           {
            "metadata": {},
            "name": "cd_dep_count",
            "nullable": true,
            "type": "integer"
           },
           {
            "metadata": {},
            "name": "cd_dep_employed_count",
            "nullable": true,
            "type": "integer"
           },
           {
            "metadata": {},
            "name": "cd_dep_college_count",
            "nullable": true,
            "type": "integer"
           },
           {
            "metadata": {},
            "name": "preferred_Cust_Flag",
            "nullable": true,
            "type": "string"
           },
           {
            "metadata": {
             "ml_attr": {
              "name": "salutation_Num",
              "type": "nominal",
              "vals": [
               "Dr.",
               "Mr.",
               "Sir",
               "Mrs.",
               "Ms.",
               "Miss",
               "__unknown"
              ]
             }
            },
            "name": "salutation_Num",
            "nullable": false,
            "type": "double"
           },
           {
            "metadata": {
             "ml_attr": {
              "attrs": {
               "binary": [
                {
                 "idx": 0,
                 "name": "Dr."
                },
                {
                 "idx": 1,
                 "name": "Mr."
                },
                {
                 "idx": 2,
                 "name": "Sir"
                },
                {
                 "idx": 3,
                 "name": "Mrs."
                },
                {
                 "idx": 4,
                 "name": "Ms."
                },
                {
                 "idx": 5,
                 "name": "Miss"
                }
               ]
              },
              "num_attrs": 6
             }
            },
            "name": "salutation_Vector",
            "nullable": true,
            "type": {
             "class": "org.apache.spark.ml.linalg.VectorUDT",
             "pyClass": "pyspark.ml.linalg.VectorUDT",
             "sqlType": {
              "fields": [
               {
                "metadata": {},
                "name": "type",
                "nullable": false,
                "type": "byte"
               },
               {
                "metadata": {},
                "name": "size",
                "nullable": true,
                "type": "integer"
               },
               {
                "metadata": {},
                "name": "indices",
                "nullable": true,
                "type": {
                 "containsNull": false,
                 "elementType": "integer",
                 "type": "array"
                }
               },
               {
                "metadata": {},
                "name": "values",
                "nullable": true,
                "type": {
                 "containsNull": false,
                 "elementType": "double",
                 "type": "array"
                }
               }
              ],
              "type": "struct"
             },
             "type": "udt"
            }
           },
           {
            "metadata": {
             "ml_attr": {
              "name": "cd_gender_Num",
              "type": "nominal",
              "vals": [
               "M",
               "F",
               "__unknown"
              ]
             }
            },
            "name": "cd_gender_Num",
            "nullable": false,
            "type": "double"
           },
           {
            "metadata": {
             "ml_attr": {
              "attrs": {
               "binary": [
                {
                 "idx": 0,
                 "name": "M"
                },
                {
                 "idx": 1,
                 "name": "F"
                }
               ]
              },
              "num_attrs": 2
             }
            },
            "name": "cd_gender_Vector",
            "nullable": true,
            "type": {
             "class": "org.apache.spark.ml.linalg.VectorUDT",
             "pyClass": "pyspark.ml.linalg.VectorUDT",
             "sqlType": {
              "fields": [
               {
                "metadata": {},
                "name": "type",
                "nullable": false,
                "type": "byte"
               },
               {
                "metadata": {},
                "name": "size",
                "nullable": true,
                "type": "integer"
               },
               {
                "metadata": {},
                "name": "indices",
                "nullable": true,
                "type": {
                 "containsNull": false,
                 "elementType": "integer",
                 "type": "array"
                }
               },
               {
                "metadata": {},
                "name": "values",
                "nullable": true,
                "type": {
                 "containsNull": false,
                 "elementType": "double",
                 "type": "array"
                }
               }
              ],
              "type": "struct"
             },
             "type": "udt"
            }
           },
           {
            "metadata": {
             "ml_attr": {
              "name": "cd_marital_status_Num",
              "type": "nominal",
              "vals": [
               "S",
               "U",
               "W",
               "M",
               "D",
               "__unknown"
              ]
             }
            },
            "name": "cd_marital_status_Num",
            "nullable": false,
            "type": "double"
           },
           {
            "metadata": {
             "ml_attr": {
              "attrs": {
               "binary": [
                {
                 "idx": 0,
                 "name": "S"
                },
                {
                 "idx": 1,
                 "name": "U"
                },
                {
                 "idx": 2,
                 "name": "W"
                },
                {
                 "idx": 3,
                 "name": "M"
                },
                {
                 "idx": 4,
                 "name": "D"
                }
               ]
              },
              "num_attrs": 5
             }
            },
            "name": "cd_marital_status_Vector",
            "nullable": true,
            "type": {
             "class": "org.apache.spark.ml.linalg.VectorUDT",
             "pyClass": "pyspark.ml.linalg.VectorUDT",
             "sqlType": {
              "fields": [
               {
                "metadata": {},
                "name": "type",
                "nullable": false,
                "type": "byte"
               },
               {
                "metadata": {},
                "name": "size",
                "nullable": true,
                "type": "integer"
               },
               {
                "metadata": {},
                "name": "indices",
                "nullable": true,
                "type": {
                 "containsNull": false,
                 "elementType": "integer",
                 "type": "array"
                }
               },
               {
                "metadata": {},
                "name": "values",
                "nullable": true,
                "type": {
                 "containsNull": false,
                 "elementType": "double",
                 "type": "array"
                }
               }
              ],
              "type": "struct"
             },
             "type": "udt"
            }
           },
           {
            "metadata": {
             "ml_attr": {
              "name": "cd_education_status_Num",
              "type": "nominal",
              "vals": [
               "Advanced Degree",
               "2 yr Degree",
               "Unknown",
               "4 yr Degree",
               "College",
               "Primary",
               "Secondary",
               "__unknown"
              ]
             }
            },
            "name": "cd_education_status_Num",
            "nullable": false,
            "type": "double"
           },
           {
            "metadata": {
             "ml_attr": {
              "attrs": {
               "binary": [
                {
                 "idx": 0,
                 "name": "Advanced Degree"
                },
                {
                 "idx": 1,
                 "name": "2 yr Degree"
                },
                {
                 "idx": 2,
                 "name": "Unknown"
                },
                {
                 "idx": 3,
                 "name": "4 yr Degree"
                },
                {
                 "idx": 4,
                 "name": "College"
                },
                {
                 "idx": 5,
                 "name": "Primary"
                },
                {
                 "idx": 6,
                 "name": "Secondary"
                }
               ]
              },
              "num_attrs": 7
             }
            },
            "name": "cd_education_status_Vector",
            "nullable": true,
            "type": {
             "class": "org.apache.spark.ml.linalg.VectorUDT",
             "pyClass": "pyspark.ml.linalg.VectorUDT",
             "sqlType": {
              "fields": [
               {
                "metadata": {},
                "name": "type",
                "nullable": false,
                "type": "byte"
               },
               {
                "metadata": {},
                "name": "size",
                "nullable": true,
                "type": "integer"
               },
               {
                "metadata": {},
                "name": "indices",
                "nullable": true,
                "type": {
                 "containsNull": false,
                 "elementType": "integer",
                 "type": "array"
                }
               },
               {
                "metadata": {},
                "name": "values",
                "nullable": true,
                "type": {
                 "containsNull": false,
                 "elementType": "double",
                 "type": "array"
                }
               }
              ],
              "type": "struct"
             },
             "type": "udt"
            }
           },
           {
            "metadata": {
             "ml_attr": {
              "name": "cd_credit_rating_Num",
              "type": "nominal",
              "vals": [
               "High Risk",
               "Low Risk",
               "Unknown",
               "Good",
               "__unknown"
              ]
             }
            },
            "name": "cd_credit_rating_Num",
            "nullable": false,
            "type": "double"
           },
           {
            "metadata": {
             "ml_attr": {
              "attrs": {
               "binary": [
                {
                 "idx": 0,
                 "name": "High Risk"
                },
                {
                 "idx": 1,
                 "name": "Low Risk"
                },
                {
                 "idx": 2,
                 "name": "Unknown"
                },
                {
                 "idx": 3,
                 "name": "Good"
                }
               ]
              },
              "num_attrs": 4
             }
            },
            "name": "cd_credit_rating_Vector",
            "nullable": true,
            "type": {
             "class": "org.apache.spark.ml.linalg.VectorUDT",
             "pyClass": "pyspark.ml.linalg.VectorUDT",
             "sqlType": {
              "fields": [
               {
                "metadata": {},
                "name": "type",
                "nullable": false,
                "type": "byte"
               },
               {
                "metadata": {},
                "name": "size",
                "nullable": true,
                "type": "integer"
               },
               {
                "metadata": {},
                "name": "indices",
                "nullable": true,
                "type": {
                 "containsNull": false,
                 "elementType": "integer",
                 "type": "array"
                }
               },
               {
                "metadata": {},
                "name": "values",
                "nullable": true,
                "type": {
                 "containsNull": false,
                 "elementType": "double",
                 "type": "array"
                }
               }
              ],
              "type": "struct"
             },
             "type": "udt"
            }
           },
           {
            "metadata": {
             "ml_attr": {
              "name": "preferred_Cust_Flag_Num",
              "type": "nominal",
              "vals": [
               "N",
               "Y",
               "__unknown"
              ]
             }
            },
            "name": "preferred_Cust_Flag_Num",
            "nullable": false,
            "type": "double"
           }
          ],
          "type": "struct"
         },
         "tableIdentifier": null,
         "typeStr": "pyspark.sql.dataframe.DataFrame"
        }
       ],
       "removedWidgets": [],
       "type": "html"
      }
     },
     "output_type": "display_data"
    }
   ],
   "source": [
    "search_engine_indexer = StringIndexer(inputCol=\"preferred_Cust_Flag\", outputCol=\"preferred_Cust_Flag_Num\").setHandleInvalid(\"keep\").fit(df_model)\n",
    "df_model = search_engine_indexer.transform(df_model)"
   ]
  },
  {
   "cell_type": "code",
   "execution_count": 0,
   "metadata": {
    "application/vnd.databricks.v1+cell": {
     "inputWidgets": {},
     "nuid": "a51c1098-ac50-4139-888e-af73b7f8c33e",
     "showTitle": false,
     "title": ""
    }
   },
   "outputs": [
    {
     "data": {
      "text/html": [
       "<style scoped>\n",
       "  .table-result-container {\n",
       "    max-height: 300px;\n",
       "    overflow: auto;\n",
       "  }\n",
       "  table, th, td {\n",
       "    border: 1px solid black;\n",
       "    border-collapse: collapse;\n",
       "  }\n",
       "  th, td {\n",
       "    padding: 5px;\n",
       "  }\n",
       "  th {\n",
       "    text-align: left;\n",
       "  }\n",
       "</style><div class='table-result-container'><table class='table-result'><thead style='background-color: white'><tr><th>salutation</th><th>birth_Day</th><th>birth_Month</th><th>birth_Year</th><th>cd_gender</th><th>cd_marital_status</th><th>cd_education_status</th><th>cd_purchase_estimate</th><th>cd_credit_rating</th><th>cd_dep_count</th><th>cd_dep_employed_count</th><th>cd_dep_college_count</th><th>preferred_Cust_Flag</th><th>salutation_Num</th><th>salutation_Vector</th><th>cd_gender_Num</th><th>cd_gender_Vector</th><th>cd_marital_status_Num</th><th>cd_marital_status_Vector</th><th>cd_education_status_Num</th><th>cd_education_status_Vector</th><th>cd_credit_rating_Num</th><th>cd_credit_rating_Vector</th><th>preferred_Cust_Flag_Num</th></tr></thead><tbody><tr><td>Sir</td><td>17</td><td>8</td><td>1936</td><td>M</td><td>W</td><td>Secondary</td><td>500</td><td>Good</td><td>0</td><td>0</td><td>0</td><td>N</td><td>2.0</td><td>List(0, 6, List(2), List(1.0))</td><td>0.0</td><td>List(0, 2, List(0), List(1.0))</td><td>2.0</td><td>List(0, 5, List(2), List(1.0))</td><td>6.0</td><td>List(0, 7, List(6), List(1.0))</td><td>3.0</td><td>List(0, 4, List(3), List(1.0))</td><td>0.0</td></tr><tr><td>Sir</td><td>6</td><td>9</td><td>1926</td><td>F</td><td>U</td><td>Secondary</td><td>500</td><td>Good</td><td>0</td><td>0</td><td>0</td><td>Y</td><td>2.0</td><td>List(0, 6, List(2), List(1.0))</td><td>1.0</td><td>List(0, 2, List(1), List(1.0))</td><td>1.0</td><td>List(0, 5, List(1), List(1.0))</td><td>6.0</td><td>List(0, 7, List(6), List(1.0))</td><td>3.0</td><td>List(0, 4, List(3), List(1.0))</td><td>1.0</td></tr><tr><td>Dr.</td><td>13</td><td>9</td><td>1928</td><td>M</td><td>S</td><td>4 yr Degree</td><td>500</td><td>Good</td><td>0</td><td>0</td><td>0</td><td>Y</td><td>0.0</td><td>List(0, 6, List(0), List(1.0))</td><td>0.0</td><td>List(0, 2, List(0), List(1.0))</td><td>0.0</td><td>List(0, 5, List(0), List(1.0))</td><td>3.0</td><td>List(0, 7, List(3), List(1.0))</td><td>3.0</td><td>List(0, 4, List(3), List(1.0))</td><td>1.0</td></tr><tr><td>Ms.</td><td>11</td><td>4</td><td>1992</td><td>F</td><td>S</td><td>4 yr Degree</td><td>500</td><td>Good</td><td>0</td><td>0</td><td>0</td><td>N</td><td>4.0</td><td>List(0, 6, List(4), List(1.0))</td><td>1.0</td><td>List(0, 2, List(1), List(1.0))</td><td>0.0</td><td>List(0, 5, List(0), List(1.0))</td><td>3.0</td><td>List(0, 7, List(3), List(1.0))</td><td>3.0</td><td>List(0, 4, List(3), List(1.0))</td><td>0.0</td></tr><tr><td>Mr.</td><td>11</td><td>7</td><td>1988</td><td>M</td><td>M</td><td>College</td><td>1000</td><td>Good</td><td>0</td><td>0</td><td>0</td><td>N</td><td>1.0</td><td>List(0, 6, List(1), List(1.0))</td><td>0.0</td><td>List(0, 2, List(0), List(1.0))</td><td>3.0</td><td>List(0, 5, List(3), List(1.0))</td><td>4.0</td><td>List(0, 7, List(4), List(1.0))</td><td>3.0</td><td>List(0, 4, List(3), List(1.0))</td><td>0.0</td></tr></tbody></table></div>"
      ]
     },
     "metadata": {
      "application/vnd.databricks.v1+output": {
       "addedWidgets": {},
       "aggData": [],
       "aggError": "",
       "aggOverflow": false,
       "aggSchema": [],
       "aggSeriesLimitReached": false,
       "aggType": "",
       "arguments": {},
       "columnCustomDisplayInfos": {},
       "data": [
        [
         "Sir",
         17,
         8,
         1936,
         "M",
         "W",
         "Secondary",
         "500",
         "Good",
         0,
         0,
         0,
         "N",
         2,
         [
          0,
          6,
          [
           2
          ],
          [
           1
          ]
         ],
         0,
         [
          0,
          2,
          [
           0
          ],
          [
           1
          ]
         ],
         2,
         [
          0,
          5,
          [
           2
          ],
          [
           1
          ]
         ],
         6,
         [
          0,
          7,
          [
           6
          ],
          [
           1
          ]
         ],
         3,
         [
          0,
          4,
          [
           3
          ],
          [
           1
          ]
         ],
         0
        ],
        [
         "Sir",
         6,
         9,
         1926,
         "F",
         "U",
         "Secondary",
         "500",
         "Good",
         0,
         0,
         0,
         "Y",
         2,
         [
          0,
          6,
          [
           2
          ],
          [
           1
          ]
         ],
         1,
         [
          0,
          2,
          [
           1
          ],
          [
           1
          ]
         ],
         1,
         [
          0,
          5,
          [
           1
          ],
          [
           1
          ]
         ],
         6,
         [
          0,
          7,
          [
           6
          ],
          [
           1
          ]
         ],
         3,
         [
          0,
          4,
          [
           3
          ],
          [
           1
          ]
         ],
         1
        ],
        [
         "Dr.",
         13,
         9,
         1928,
         "M",
         "S",
         "4 yr Degree",
         "500",
         "Good",
         0,
         0,
         0,
         "Y",
         0,
         [
          0,
          6,
          [
           0
          ],
          [
           1
          ]
         ],
         0,
         [
          0,
          2,
          [
           0
          ],
          [
           1
          ]
         ],
         0,
         [
          0,
          5,
          [
           0
          ],
          [
           1
          ]
         ],
         3,
         [
          0,
          7,
          [
           3
          ],
          [
           1
          ]
         ],
         3,
         [
          0,
          4,
          [
           3
          ],
          [
           1
          ]
         ],
         1
        ],
        [
         "Ms.",
         11,
         4,
         1992,
         "F",
         "S",
         "4 yr Degree",
         "500",
         "Good",
         0,
         0,
         0,
         "N",
         4,
         [
          0,
          6,
          [
           4
          ],
          [
           1
          ]
         ],
         1,
         [
          0,
          2,
          [
           1
          ],
          [
           1
          ]
         ],
         0,
         [
          0,
          5,
          [
           0
          ],
          [
           1
          ]
         ],
         3,
         [
          0,
          7,
          [
           3
          ],
          [
           1
          ]
         ],
         3,
         [
          0,
          4,
          [
           3
          ],
          [
           1
          ]
         ],
         0
        ],
        [
         "Mr.",
         11,
         7,
         1988,
         "M",
         "M",
         "College",
         "1000",
         "Good",
         0,
         0,
         0,
         "N",
         1,
         [
          0,
          6,
          [
           1
          ],
          [
           1
          ]
         ],
         0,
         [
          0,
          2,
          [
           0
          ],
          [
           1
          ]
         ],
         3,
         [
          0,
          5,
          [
           3
          ],
          [
           1
          ]
         ],
         4,
         [
          0,
          7,
          [
           4
          ],
          [
           1
          ]
         ],
         3,
         [
          0,
          4,
          [
           3
          ],
          [
           1
          ]
         ],
         0
        ]
       ],
       "datasetInfos": [],
       "dbfsResultPath": null,
       "isJsonSchema": true,
       "overflow": false,
       "plotOptions": {
        "customPlotOptions": {},
        "displayType": "table",
        "pivotAggregation": null,
        "pivotColumns": null,
        "xColumns": null,
        "yColumns": null
       },
       "removedWidgets": [],
       "schema": [
        {
         "metadata": "{}",
         "name": "salutation",
         "type": "\"string\""
        },
        {
         "metadata": "{}",
         "name": "birth_Day",
         "type": "\"long\""
        },
        {
         "metadata": "{}",
         "name": "birth_Month",
         "type": "\"long\""
        },
        {
         "metadata": "{}",
         "name": "birth_Year",
         "type": "\"long\""
        },
        {
         "metadata": "{}",
         "name": "cd_gender",
         "type": "\"string\""
        },
        {
         "metadata": "{}",
         "name": "cd_marital_status",
         "type": "\"string\""
        },
        {
         "metadata": "{}",
         "name": "cd_education_status",
         "type": "\"string\""
        },
        {
         "metadata": "{}",
         "name": "cd_purchase_estimate",
         "type": "\"string\""
        },
        {
         "metadata": "{}",
         "name": "cd_credit_rating",
         "type": "\"string\""
        },
        {
         "metadata": "{}",
         "name": "cd_dep_count",
         "type": "\"long\""
        },
        {
         "metadata": "{}",
         "name": "cd_dep_employed_count",
         "type": "\"long\""
        },
        {
         "metadata": "{}",
         "name": "cd_dep_college_count",
         "type": "\"long\""
        },
        {
         "metadata": "{}",
         "name": "preferred_Cust_Flag",
         "type": "\"string\""
        },
        {
         "metadata": "{}",
         "name": "salutation_Num",
         "type": "\"double\""
        },
        {
         "metadata": "{}",
         "name": "salutation_Vector",
         "type": "{\"type\":\"udt\",\"class\":\"org.apache.spark.ml.linalg.VectorUDT\",\"pyClass\":\"pyspark.ml.linalg.VectorUDT\",\"sqlType\":{\"type\":\"struct\",\"fields\":[{\"name\":\"type\",\"type\":\"byte\",\"nullable\":false,\"metadata\":{}},{\"name\":\"size\",\"type\":\"integer\",\"nullable\":true,\"metadata\":{}},{\"name\":\"indices\",\"type\":{\"type\":\"array\",\"elementType\":\"integer\",\"containsNull\":false},\"nullable\":true,\"metadata\":{}},{\"name\":\"values\",\"type\":{\"type\":\"array\",\"elementType\":\"double\",\"containsNull\":false},\"nullable\":true,\"metadata\":{}}]}}"
        },
        {
         "metadata": "{}",
         "name": "cd_gender_Num",
         "type": "\"double\""
        },
        {
         "metadata": "{}",
         "name": "cd_gender_Vector",
         "type": "{\"type\":\"udt\",\"class\":\"org.apache.spark.ml.linalg.VectorUDT\",\"pyClass\":\"pyspark.ml.linalg.VectorUDT\",\"sqlType\":{\"type\":\"struct\",\"fields\":[{\"name\":\"type\",\"type\":\"byte\",\"nullable\":false,\"metadata\":{}},{\"name\":\"size\",\"type\":\"integer\",\"nullable\":true,\"metadata\":{}},{\"name\":\"indices\",\"type\":{\"type\":\"array\",\"elementType\":\"integer\",\"containsNull\":false},\"nullable\":true,\"metadata\":{}},{\"name\":\"values\",\"type\":{\"type\":\"array\",\"elementType\":\"double\",\"containsNull\":false},\"nullable\":true,\"metadata\":{}}]}}"
        },
        {
         "metadata": "{}",
         "name": "cd_marital_status_Num",
         "type": "\"double\""
        },
        {
         "metadata": "{}",
         "name": "cd_marital_status_Vector",
         "type": "{\"type\":\"udt\",\"class\":\"org.apache.spark.ml.linalg.VectorUDT\",\"pyClass\":\"pyspark.ml.linalg.VectorUDT\",\"sqlType\":{\"type\":\"struct\",\"fields\":[{\"name\":\"type\",\"type\":\"byte\",\"nullable\":false,\"metadata\":{}},{\"name\":\"size\",\"type\":\"integer\",\"nullable\":true,\"metadata\":{}},{\"name\":\"indices\",\"type\":{\"type\":\"array\",\"elementType\":\"integer\",\"containsNull\":false},\"nullable\":true,\"metadata\":{}},{\"name\":\"values\",\"type\":{\"type\":\"array\",\"elementType\":\"double\",\"containsNull\":false},\"nullable\":true,\"metadata\":{}}]}}"
        },
        {
         "metadata": "{}",
         "name": "cd_education_status_Num",
         "type": "\"double\""
        },
        {
         "metadata": "{}",
         "name": "cd_education_status_Vector",
         "type": "{\"type\":\"udt\",\"class\":\"org.apache.spark.ml.linalg.VectorUDT\",\"pyClass\":\"pyspark.ml.linalg.VectorUDT\",\"sqlType\":{\"type\":\"struct\",\"fields\":[{\"name\":\"type\",\"type\":\"byte\",\"nullable\":false,\"metadata\":{}},{\"name\":\"size\",\"type\":\"integer\",\"nullable\":true,\"metadata\":{}},{\"name\":\"indices\",\"type\":{\"type\":\"array\",\"elementType\":\"integer\",\"containsNull\":false},\"nullable\":true,\"metadata\":{}},{\"name\":\"values\",\"type\":{\"type\":\"array\",\"elementType\":\"double\",\"containsNull\":false},\"nullable\":true,\"metadata\":{}}]}}"
        },
        {
         "metadata": "{}",
         "name": "cd_credit_rating_Num",
         "type": "\"double\""
        },
        {
         "metadata": "{}",
         "name": "cd_credit_rating_Vector",
         "type": "{\"type\":\"udt\",\"class\":\"org.apache.spark.ml.linalg.VectorUDT\",\"pyClass\":\"pyspark.ml.linalg.VectorUDT\",\"sqlType\":{\"type\":\"struct\",\"fields\":[{\"name\":\"type\",\"type\":\"byte\",\"nullable\":false,\"metadata\":{}},{\"name\":\"size\",\"type\":\"integer\",\"nullable\":true,\"metadata\":{}},{\"name\":\"indices\",\"type\":{\"type\":\"array\",\"elementType\":\"integer\",\"containsNull\":false},\"nullable\":true,\"metadata\":{}},{\"name\":\"values\",\"type\":{\"type\":\"array\",\"elementType\":\"double\",\"containsNull\":false},\"nullable\":true,\"metadata\":{}}]}}"
        },
        {
         "metadata": "{}",
         "name": "preferred_Cust_Flag_Num",
         "type": "\"double\""
        }
       ],
       "type": "table"
      }
     },
     "output_type": "display_data"
    }
   ],
   "source": [
    "display(df_model.head(5))"
   ]
  },
  {
   "cell_type": "code",
   "execution_count": 0,
   "metadata": {
    "application/vnd.databricks.v1+cell": {
     "inputWidgets": {},
     "nuid": "05c1e2c7-e0c2-4675-9f0c-a927d604dcb8",
     "showTitle": false,
     "title": ""
    }
   },
   "outputs": [
    {
     "data": {
      "text/html": [
       "<style scoped>\n",
       "  .ansiout {\n",
       "    display: block;\n",
       "    unicode-bidi: embed;\n",
       "    white-space: pre-wrap;\n",
       "    word-wrap: break-word;\n",
       "    word-break: break-all;\n",
       "    font-family: \"Source Code Pro\", \"Menlo\", monospace;;\n",
       "    font-size: 13px;\n",
       "    color: #555;\n",
       "    margin-left: 4px;\n",
       "    line-height: 19px;\n",
       "  }\n",
       "</style>\n",
       "<div class=\"ansiout\"></div>"
      ]
     },
     "metadata": {
      "application/vnd.databricks.v1+output": {
       "addedWidgets": {},
       "arguments": {},
       "data": "<div class=\"ansiout\"></div>",
       "datasetInfos": [
        {
         "name": "df_model",
         "schema": {
          "fields": [
           {
            "metadata": {},
            "name": "salutation",
            "nullable": true,
            "type": "string"
           },
           {
            "metadata": {},
            "name": "birth_Day",
            "nullable": true,
            "type": "integer"
           },
           {
            "metadata": {},
            "name": "birth_Month",
            "nullable": true,
            "type": "integer"
           },
           {
            "metadata": {},
            "name": "birth_Year",
            "nullable": true,
            "type": "integer"
           },
           {
            "metadata": {},
            "name": "cd_gender",
            "nullable": true,
            "type": "string"
           },
           {
            "metadata": {},
            "name": "cd_marital_status",
            "nullable": true,
            "type": "string"
           },
           {
            "metadata": {},
            "name": "cd_education_status",
            "nullable": true,
            "type": "string"
           },
           {
            "metadata": {},
            "name": "cd_purchase_estimate",
            "nullable": true,
            "type": "integer"
           },
           {
            "metadata": {},
            "name": "cd_credit_rating",
            "nullable": true,
            "type": "string"
           },
           {
            "metadata": {},
            "name": "cd_dep_count",
            "nullable": true,
            "type": "integer"
           },
           {
            "metadata": {},
            "name": "cd_dep_employed_count",
            "nullable": true,
            "type": "integer"
           },
           {
            "metadata": {},
            "name": "cd_dep_college_count",
            "nullable": true,
            "type": "integer"
           },
           {
            "metadata": {},
            "name": "preferred_Cust_Flag",
            "nullable": true,
            "type": "string"
           },
           {
            "metadata": {
             "ml_attr": {
              "name": "salutation_Num",
              "type": "nominal",
              "vals": [
               "Dr.",
               "Mr.",
               "Sir",
               "Mrs.",
               "Ms.",
               "Miss",
               "__unknown"
              ]
             }
            },
            "name": "salutation_Num",
            "nullable": false,
            "type": "double"
           },
           {
            "metadata": {
             "ml_attr": {
              "attrs": {
               "binary": [
                {
                 "idx": 0,
                 "name": "Dr."
                },
                {
                 "idx": 1,
                 "name": "Mr."
                },
                {
                 "idx": 2,
                 "name": "Sir"
                },
                {
                 "idx": 3,
                 "name": "Mrs."
                },
                {
                 "idx": 4,
                 "name": "Ms."
                },
                {
                 "idx": 5,
                 "name": "Miss"
                }
               ]
              },
              "num_attrs": 6
             }
            },
            "name": "salutation_Vector",
            "nullable": true,
            "type": {
             "class": "org.apache.spark.ml.linalg.VectorUDT",
             "pyClass": "pyspark.ml.linalg.VectorUDT",
             "sqlType": {
              "fields": [
               {
                "metadata": {},
                "name": "type",
                "nullable": false,
                "type": "byte"
               },
               {
                "metadata": {},
                "name": "size",
                "nullable": true,
                "type": "integer"
               },
               {
                "metadata": {},
                "name": "indices",
                "nullable": true,
                "type": {
                 "containsNull": false,
                 "elementType": "integer",
                 "type": "array"
                }
               },
               {
                "metadata": {},
                "name": "values",
                "nullable": true,
                "type": {
                 "containsNull": false,
                 "elementType": "double",
                 "type": "array"
                }
               }
              ],
              "type": "struct"
             },
             "type": "udt"
            }
           },
           {
            "metadata": {
             "ml_attr": {
              "name": "cd_gender_Num",
              "type": "nominal",
              "vals": [
               "M",
               "F",
               "__unknown"
              ]
             }
            },
            "name": "cd_gender_Num",
            "nullable": false,
            "type": "double"
           },
           {
            "metadata": {
             "ml_attr": {
              "attrs": {
               "binary": [
                {
                 "idx": 0,
                 "name": "M"
                },
                {
                 "idx": 1,
                 "name": "F"
                }
               ]
              },
              "num_attrs": 2
             }
            },
            "name": "cd_gender_Vector",
            "nullable": true,
            "type": {
             "class": "org.apache.spark.ml.linalg.VectorUDT",
             "pyClass": "pyspark.ml.linalg.VectorUDT",
             "sqlType": {
              "fields": [
               {
                "metadata": {},
                "name": "type",
                "nullable": false,
                "type": "byte"
               },
               {
                "metadata": {},
                "name": "size",
                "nullable": true,
                "type": "integer"
               },
               {
                "metadata": {},
                "name": "indices",
                "nullable": true,
                "type": {
                 "containsNull": false,
                 "elementType": "integer",
                 "type": "array"
                }
               },
               {
                "metadata": {},
                "name": "values",
                "nullable": true,
                "type": {
                 "containsNull": false,
                 "elementType": "double",
                 "type": "array"
                }
               }
              ],
              "type": "struct"
             },
             "type": "udt"
            }
           },
           {
            "metadata": {
             "ml_attr": {
              "name": "cd_marital_status_Num",
              "type": "nominal",
              "vals": [
               "S",
               "U",
               "W",
               "M",
               "D",
               "__unknown"
              ]
             }
            },
            "name": "cd_marital_status_Num",
            "nullable": false,
            "type": "double"
           },
           {
            "metadata": {
             "ml_attr": {
              "attrs": {
               "binary": [
                {
                 "idx": 0,
                 "name": "S"
                },
                {
                 "idx": 1,
                 "name": "U"
                },
                {
                 "idx": 2,
                 "name": "W"
                },
                {
                 "idx": 3,
                 "name": "M"
                },
                {
                 "idx": 4,
                 "name": "D"
                }
               ]
              },
              "num_attrs": 5
             }
            },
            "name": "cd_marital_status_Vector",
            "nullable": true,
            "type": {
             "class": "org.apache.spark.ml.linalg.VectorUDT",
             "pyClass": "pyspark.ml.linalg.VectorUDT",
             "sqlType": {
              "fields": [
               {
                "metadata": {},
                "name": "type",
                "nullable": false,
                "type": "byte"
               },
               {
                "metadata": {},
                "name": "size",
                "nullable": true,
                "type": "integer"
               },
               {
                "metadata": {},
                "name": "indices",
                "nullable": true,
                "type": {
                 "containsNull": false,
                 "elementType": "integer",
                 "type": "array"
                }
               },
               {
                "metadata": {},
                "name": "values",
                "nullable": true,
                "type": {
                 "containsNull": false,
                 "elementType": "double",
                 "type": "array"
                }
               }
              ],
              "type": "struct"
             },
             "type": "udt"
            }
           },
           {
            "metadata": {
             "ml_attr": {
              "name": "cd_education_status_Num",
              "type": "nominal",
              "vals": [
               "Advanced Degree",
               "2 yr Degree",
               "Unknown",
               "4 yr Degree",
               "College",
               "Primary",
               "Secondary",
               "__unknown"
              ]
             }
            },
            "name": "cd_education_status_Num",
            "nullable": false,
            "type": "double"
           },
           {
            "metadata": {
             "ml_attr": {
              "attrs": {
               "binary": [
                {
                 "idx": 0,
                 "name": "Advanced Degree"
                },
                {
                 "idx": 1,
                 "name": "2 yr Degree"
                },
                {
                 "idx": 2,
                 "name": "Unknown"
                },
                {
                 "idx": 3,
                 "name": "4 yr Degree"
                },
                {
                 "idx": 4,
                 "name": "College"
                },
                {
                 "idx": 5,
                 "name": "Primary"
                },
                {
                 "idx": 6,
                 "name": "Secondary"
                }
               ]
              },
              "num_attrs": 7
             }
            },
            "name": "cd_education_status_Vector",
            "nullable": true,
            "type": {
             "class": "org.apache.spark.ml.linalg.VectorUDT",
             "pyClass": "pyspark.ml.linalg.VectorUDT",
             "sqlType": {
              "fields": [
               {
                "metadata": {},
                "name": "type",
                "nullable": false,
                "type": "byte"
               },
               {
                "metadata": {},
                "name": "size",
                "nullable": true,
                "type": "integer"
               },
               {
                "metadata": {},
                "name": "indices",
                "nullable": true,
                "type": {
                 "containsNull": false,
                 "elementType": "integer",
                 "type": "array"
                }
               },
               {
                "metadata": {},
                "name": "values",
                "nullable": true,
                "type": {
                 "containsNull": false,
                 "elementType": "double",
                 "type": "array"
                }
               }
              ],
              "type": "struct"
             },
             "type": "udt"
            }
           },
           {
            "metadata": {
             "ml_attr": {
              "name": "cd_credit_rating_Num",
              "type": "nominal",
              "vals": [
               "High Risk",
               "Low Risk",
               "Unknown",
               "Good",
               "__unknown"
              ]
             }
            },
            "name": "cd_credit_rating_Num",
            "nullable": false,
            "type": "double"
           },
           {
            "metadata": {
             "ml_attr": {
              "attrs": {
               "binary": [
                {
                 "idx": 0,
                 "name": "High Risk"
                },
                {
                 "idx": 1,
                 "name": "Low Risk"
                },
                {
                 "idx": 2,
                 "name": "Unknown"
                },
                {
                 "idx": 3,
                 "name": "Good"
                }
               ]
              },
              "num_attrs": 4
             }
            },
            "name": "cd_credit_rating_Vector",
            "nullable": true,
            "type": {
             "class": "org.apache.spark.ml.linalg.VectorUDT",
             "pyClass": "pyspark.ml.linalg.VectorUDT",
             "sqlType": {
              "fields": [
               {
                "metadata": {},
                "name": "type",
                "nullable": false,
                "type": "byte"
               },
               {
                "metadata": {},
                "name": "size",
                "nullable": true,
                "type": "integer"
               },
               {
                "metadata": {},
                "name": "indices",
                "nullable": true,
                "type": {
                 "containsNull": false,
                 "elementType": "integer",
                 "type": "array"
                }
               },
               {
                "metadata": {},
                "name": "values",
                "nullable": true,
                "type": {
                 "containsNull": false,
                 "elementType": "double",
                 "type": "array"
                }
               }
              ],
              "type": "struct"
             },
             "type": "udt"
            }
           },
           {
            "metadata": {},
            "name": "preferred_Cust_Flag_Num",
            "nullable": true,
            "type": "integer"
           }
          ],
          "type": "struct"
         },
         "tableIdentifier": null,
         "typeStr": "pyspark.sql.dataframe.DataFrame"
        }
       ],
       "removedWidgets": [],
       "type": "html"
      }
     },
     "output_type": "display_data"
    }
   ],
   "source": [
    "df_model = df_model.withColumn(\"cd_purchase_estimate\",df_model[\"cd_purchase_estimate\"].cast('integer'))\n",
    "df_model = df_model.withColumn(\"preferred_Cust_Flag_Num\",df_model[\"preferred_Cust_Flag_Num\"].cast('integer'))\n",
    "df_model = df_model.withColumn(\"birth_Day\",df_model[\"birth_Day\"].cast('integer'))\n",
    "df_model = df_model.withColumn(\"birth_Month\",df_model[\"birth_Month\"].cast('integer'))\n",
    "df_model = df_model.withColumn(\"birth_Year\",df_model[\"birth_Year\"].cast('integer'))"
   ]
  },
  {
   "cell_type": "code",
   "execution_count": 0,
   "metadata": {
    "application/vnd.databricks.v1+cell": {
     "inputWidgets": {},
     "nuid": "ffbc6295-14bd-44f0-912f-61c204698f43",
     "showTitle": false,
     "title": ""
    }
   },
   "outputs": [
    {
     "data": {
      "text/html": [
       "<style scoped>\n",
       "  .ansiout {\n",
       "    display: block;\n",
       "    unicode-bidi: embed;\n",
       "    white-space: pre-wrap;\n",
       "    word-wrap: break-word;\n",
       "    word-break: break-all;\n",
       "    font-family: \"Source Code Pro\", \"Menlo\", monospace;;\n",
       "    font-size: 13px;\n",
       "    color: #555;\n",
       "    margin-left: 4px;\n",
       "    line-height: 19px;\n",
       "  }\n",
       "</style>\n",
       "<div class=\"ansiout\">root\n",
       "-- preferred_Cust_Flag_Num: integer (nullable = true)\n",
       "-- cd_purchase_estimate: integer (nullable = true)\n",
       "-- cd_dep_count: integer (nullable = true)\n",
       "-- cd_dep_employed_count: integer (nullable = true)\n",
       "-- cd_dep_college_count: integer (nullable = true)\n",
       "-- salutation_Vector: vector (nullable = true)\n",
       "-- cd_gender_Vector: vector (nullable = true)\n",
       "-- cd_marital_status_Vector: vector (nullable = true)\n",
       "-- cd_education_status_Vector: vector (nullable = true)\n",
       "-- cd_credit_rating_Vector: vector (nullable = true)\n",
       "\n",
       "</div>"
      ]
     },
     "metadata": {
      "application/vnd.databricks.v1+output": {
       "addedWidgets": {},
       "arguments": {},
       "data": "<div class=\"ansiout\">root\n |-- preferred_Cust_Flag_Num: integer (nullable = true)\n |-- cd_purchase_estimate: integer (nullable = true)\n |-- cd_dep_count: integer (nullable = true)\n |-- cd_dep_employed_count: integer (nullable = true)\n |-- cd_dep_college_count: integer (nullable = true)\n |-- salutation_Vector: vector (nullable = true)\n |-- cd_gender_Vector: vector (nullable = true)\n |-- cd_marital_status_Vector: vector (nullable = true)\n |-- cd_education_status_Vector: vector (nullable = true)\n |-- cd_credit_rating_Vector: vector (nullable = true)\n\n</div>",
       "datasetInfos": [
        {
         "name": "df_model_select",
         "schema": {
          "fields": [
           {
            "metadata": {},
            "name": "preferred_Cust_Flag_Num",
            "nullable": true,
            "type": "integer"
           },
           {
            "metadata": {},
            "name": "cd_purchase_estimate",
            "nullable": true,
            "type": "integer"
           },
           {
            "metadata": {},
            "name": "cd_dep_count",
            "nullable": true,
            "type": "integer"
           },
           {
            "metadata": {},
            "name": "cd_dep_employed_count",
            "nullable": true,
            "type": "integer"
           },
           {
            "metadata": {},
            "name": "cd_dep_college_count",
            "nullable": true,
            "type": "integer"
           },
           {
            "metadata": {
             "ml_attr": {
              "attrs": {
               "binary": [
                {
                 "idx": 0,
                 "name": "Dr."
                },
                {
                 "idx": 1,
                 "name": "Mr."
                },
                {
                 "idx": 2,
                 "name": "Sir"
                },
                {
                 "idx": 3,
                 "name": "Mrs."
                },
                {
                 "idx": 4,
                 "name": "Ms."
                },
                {
                 "idx": 5,
                 "name": "Miss"
                }
               ]
              },
              "num_attrs": 6
             }
            },
            "name": "salutation_Vector",
            "nullable": true,
            "type": {
             "class": "org.apache.spark.ml.linalg.VectorUDT",
             "pyClass": "pyspark.ml.linalg.VectorUDT",
             "sqlType": {
              "fields": [
               {
                "metadata": {},
                "name": "type",
                "nullable": false,
                "type": "byte"
               },
               {
                "metadata": {},
                "name": "size",
                "nullable": true,
                "type": "integer"
               },
               {
                "metadata": {},
                "name": "indices",
                "nullable": true,
                "type": {
                 "containsNull": false,
                 "elementType": "integer",
                 "type": "array"
                }
               },
               {
                "metadata": {},
                "name": "values",
                "nullable": true,
                "type": {
                 "containsNull": false,
                 "elementType": "double",
                 "type": "array"
                }
               }
              ],
              "type": "struct"
             },
             "type": "udt"
            }
           },
           {
            "metadata": {
             "ml_attr": {
              "attrs": {
               "binary": [
                {
                 "idx": 0,
                 "name": "M"
                },
                {
                 "idx": 1,
                 "name": "F"
                }
               ]
              },
              "num_attrs": 2
             }
            },
            "name": "cd_gender_Vector",
            "nullable": true,
            "type": {
             "class": "org.apache.spark.ml.linalg.VectorUDT",
             "pyClass": "pyspark.ml.linalg.VectorUDT",
             "sqlType": {
              "fields": [
               {
                "metadata": {},
                "name": "type",
                "nullable": false,
                "type": "byte"
               },
               {
                "metadata": {},
                "name": "size",
                "nullable": true,
                "type": "integer"
               },
               {
                "metadata": {},
                "name": "indices",
                "nullable": true,
                "type": {
                 "containsNull": false,
                 "elementType": "integer",
                 "type": "array"
                }
               },
               {
                "metadata": {},
                "name": "values",
                "nullable": true,
                "type": {
                 "containsNull": false,
                 "elementType": "double",
                 "type": "array"
                }
               }
              ],
              "type": "struct"
             },
             "type": "udt"
            }
           },
           {
            "metadata": {
             "ml_attr": {
              "attrs": {
               "binary": [
                {
                 "idx": 0,
                 "name": "S"
                },
                {
                 "idx": 1,
                 "name": "U"
                },
                {
                 "idx": 2,
                 "name": "W"
                },
                {
                 "idx": 3,
                 "name": "M"
                },
                {
                 "idx": 4,
                 "name": "D"
                }
               ]
              },
              "num_attrs": 5
             }
            },
            "name": "cd_marital_status_Vector",
            "nullable": true,
            "type": {
             "class": "org.apache.spark.ml.linalg.VectorUDT",
             "pyClass": "pyspark.ml.linalg.VectorUDT",
             "sqlType": {
              "fields": [
               {
                "metadata": {},
                "name": "type",
                "nullable": false,
                "type": "byte"
               },
               {
                "metadata": {},
                "name": "size",
                "nullable": true,
                "type": "integer"
               },
               {
                "metadata": {},
                "name": "indices",
                "nullable": true,
                "type": {
                 "containsNull": false,
                 "elementType": "integer",
                 "type": "array"
                }
               },
               {
                "metadata": {},
                "name": "values",
                "nullable": true,
                "type": {
                 "containsNull": false,
                 "elementType": "double",
                 "type": "array"
                }
               }
              ],
              "type": "struct"
             },
             "type": "udt"
            }
           },
           {
            "metadata": {
             "ml_attr": {
              "attrs": {
               "binary": [
                {
                 "idx": 0,
                 "name": "Advanced Degree"
                },
                {
                 "idx": 1,
                 "name": "2 yr Degree"
                },
                {
                 "idx": 2,
                 "name": "Unknown"
                },
                {
                 "idx": 3,
                 "name": "4 yr Degree"
                },
                {
                 "idx": 4,
                 "name": "College"
                },
                {
                 "idx": 5,
                 "name": "Primary"
                },
                {
                 "idx": 6,
                 "name": "Secondary"
                }
               ]
              },
              "num_attrs": 7
             }
            },
            "name": "cd_education_status_Vector",
            "nullable": true,
            "type": {
             "class": "org.apache.spark.ml.linalg.VectorUDT",
             "pyClass": "pyspark.ml.linalg.VectorUDT",
             "sqlType": {
              "fields": [
               {
                "metadata": {},
                "name": "type",
                "nullable": false,
                "type": "byte"
               },
               {
                "metadata": {},
                "name": "size",
                "nullable": true,
                "type": "integer"
               },
               {
                "metadata": {},
                "name": "indices",
                "nullable": true,
                "type": {
                 "containsNull": false,
                 "elementType": "integer",
                 "type": "array"
                }
               },
               {
                "metadata": {},
                "name": "values",
                "nullable": true,
                "type": {
                 "containsNull": false,
                 "elementType": "double",
                 "type": "array"
                }
               }
              ],
              "type": "struct"
             },
             "type": "udt"
            }
           },
           {
            "metadata": {
             "ml_attr": {
              "attrs": {
               "binary": [
                {
                 "idx": 0,
                 "name": "High Risk"
                },
                {
                 "idx": 1,
                 "name": "Low Risk"
                },
                {
                 "idx": 2,
                 "name": "Unknown"
                },
                {
                 "idx": 3,
                 "name": "Good"
                }
               ]
              },
              "num_attrs": 4
             }
            },
            "name": "cd_credit_rating_Vector",
            "nullable": true,
            "type": {
             "class": "org.apache.spark.ml.linalg.VectorUDT",
             "pyClass": "pyspark.ml.linalg.VectorUDT",
             "sqlType": {
              "fields": [
               {
                "metadata": {},
                "name": "type",
                "nullable": false,
                "type": "byte"
               },
               {
                "metadata": {},
                "name": "size",
                "nullable": true,
                "type": "integer"
               },
               {
                "metadata": {},
                "name": "indices",
                "nullable": true,
                "type": {
                 "containsNull": false,
                 "elementType": "integer",
                 "type": "array"
                }
               },
               {
                "metadata": {},
                "name": "values",
                "nullable": true,
                "type": {
                 "containsNull": false,
                 "elementType": "double",
                 "type": "array"
                }
               }
              ],
              "type": "struct"
             },
             "type": "udt"
            }
           }
          ],
          "type": "struct"
         },
         "tableIdentifier": null,
         "typeStr": "pyspark.sql.dataframe.DataFrame"
        }
       ],
       "removedWidgets": [],
       "type": "html"
      }
     },
     "output_type": "display_data"
    }
   ],
   "source": [
    "# 剔除冗余、不需要的字段\n",
    "useful_cols = [\n",
    "    # label目标值字段\n",
    "    \"preferred_Cust_Flag_Num\",  \n",
    "    \n",
    "    # 特征值字段\n",
    "#     \"birth_Day\", \n",
    "#     \"birth_Month\",\n",
    "#     \"birth_Year\",\n",
    "    \"cd_purchase_estimate\",\n",
    "    \"cd_dep_count\",\n",
    "    \"cd_dep_employed_count\",\n",
    "    \"cd_dep_college_count\",\n",
    "    \"salutation_Vector\",\n",
    "    \"cd_gender_Vector\",\n",
    "    \"cd_marital_status_Vector\",\n",
    "    \"cd_education_status_Vector\",\n",
    "    \"cd_credit_rating_Vector\"\n",
    "]\n",
    "\n",
    "df_model_select = df_model.select(*useful_cols)\n",
    "df_model_select.printSchema()"
   ]
  },
  {
   "cell_type": "code",
   "execution_count": 0,
   "metadata": {
    "application/vnd.databricks.v1+cell": {
     "inputWidgets": {},
     "nuid": "87972016-6d6c-404c-94d2-48d9f4c104db",
     "showTitle": false,
     "title": ""
    }
   },
   "outputs": [
    {
     "data": {
      "text/html": [
       "<style scoped>\n",
       "  .ansiout {\n",
       "    display: block;\n",
       "    unicode-bidi: embed;\n",
       "    white-space: pre-wrap;\n",
       "    word-wrap: break-word;\n",
       "    word-break: break-all;\n",
       "    font-family: \"Source Code Pro\", \"Menlo\", monospace;;\n",
       "    font-size: 13px;\n",
       "    color: #555;\n",
       "    margin-left: 4px;\n",
       "    line-height: 19px;\n",
       "  }\n",
       "</style>\n",
       "<div class=\"ansiout\"></div>"
      ]
     },
     "metadata": {
      "application/vnd.databricks.v1+output": {
       "addedWidgets": {},
       "arguments": {},
       "data": "<div class=\"ansiout\"></div>",
       "datasetInfos": [
        {
         "name": "df_model_select",
         "schema": {
          "fields": [
           {
            "metadata": {
             "ml_attr": {
              "attrs": {
               "binary": [
                {
                 "idx": 4,
                 "name": "salutation_Vector_Dr."
                },
                {
                 "idx": 5,
                 "name": "salutation_Vector_Mr."
                },
                {
                 "idx": 6,
                 "name": "salutation_Vector_Sir"
                },
                {
                 "idx": 7,
                 "name": "salutation_Vector_Mrs."
                },
                {
                 "idx": 8,
                 "name": "salutation_Vector_Ms."
                },
                {
                 "idx": 9,
                 "name": "salutation_Vector_Miss"
                },
                {
                 "idx": 10,
                 "name": "cd_gender_Vector_M"
                },
                {
                 "idx": 11,
                 "name": "cd_gender_Vector_F"
                },
                {
                 "idx": 12,
                 "name": "cd_marital_status_Vector_S"
                },
                {
                 "idx": 13,
                 "name": "cd_marital_status_Vector_U"
                },
                {
                 "idx": 14,
                 "name": "cd_marital_status_Vector_W"
                },
                {
                 "idx": 15,
                 "name": "cd_marital_status_Vector_M"
                },
                {
                 "idx": 16,
                 "name": "cd_marital_status_Vector_D"
                },
                {
                 "idx": 17,
                 "name": "cd_education_status_Vector_Advanced Degree"
                },
                {
                 "idx": 18,
                 "name": "cd_education_status_Vector_2 yr Degree"
                },
                {
                 "idx": 19,
                 "name": "cd_education_status_Vector_Unknown"
                },
                {
                 "idx": 20,
                 "name": "cd_education_status_Vector_4 yr Degree"
                },
                {
                 "idx": 21,
                 "name": "cd_education_status_Vector_College"
                },
                {
                 "idx": 22,
                 "name": "cd_education_status_Vector_Primary"
                },
                {
                 "idx": 23,
                 "name": "cd_education_status_Vector_Secondary"
                },
                {
                 "idx": 24,
                 "name": "cd_credit_rating_Vector_High Risk"
                },
                {
                 "idx": 25,
                 "name": "cd_credit_rating_Vector_Low Risk"
                },
                {
                 "idx": 26,
                 "name": "cd_credit_rating_Vector_Unknown"
                },
                {
                 "idx": 27,
                 "name": "cd_credit_rating_Vector_Good"
                }
               ],
               "numeric": [
                {
                 "idx": 0,
                 "name": "cd_purchase_estimate"
                },
                {
                 "idx": 1,
                 "name": "cd_dep_count"
                },
                {
                 "idx": 2,
                 "name": "cd_dep_employed_count"
                },
                {
                 "idx": 3,
                 "name": "cd_dep_college_count"
                }
               ]
              },
              "num_attrs": 28
             }
            },
            "name": "features",
            "nullable": true,
            "type": {
             "class": "org.apache.spark.ml.linalg.VectorUDT",
             "pyClass": "pyspark.ml.linalg.VectorUDT",
             "sqlType": {
              "fields": [
               {
                "metadata": {},
                "name": "type",
                "nullable": false,
                "type": "byte"
               },
               {
                "metadata": {},
                "name": "size",
                "nullable": true,
                "type": "integer"
               },
               {
                "metadata": {},
                "name": "indices",
                "nullable": true,
                "type": {
                 "containsNull": false,
                 "elementType": "integer",
                 "type": "array"
                }
               },
               {
                "metadata": {},
                "name": "values",
                "nullable": true,
                "type": {
                 "containsNull": false,
                 "elementType": "double",
                 "type": "array"
                }
               }
              ],
              "type": "struct"
             },
             "type": "udt"
            }
           },
           {
            "metadata": {},
            "name": "preferred_Cust_Flag_Num",
            "nullable": true,
            "type": "integer"
           }
          ],
          "type": "struct"
         },
         "tableIdentifier": null,
         "typeStr": "pyspark.sql.dataframe.DataFrame"
        }
       ],
       "removedWidgets": [],
       "type": "html"
      }
     },
     "output_type": "display_data"
    }
   ],
   "source": [
    "from pyspark.ml.feature import VectorAssembler  \n",
    " \n",
    "df_model_select = df_model.select(*useful_cols)\n",
    "df_model_select=df_model_select.dropna()\n",
    "\n",
    "## 构成特征向量\n",
    "df_assembler = VectorAssembler(inputCols=useful_cols[1:], outputCol=\"features\")\n",
    "df_model_select = df_assembler.transform(df_model_select)\n",
    "\n",
    "df_model_select = df_model_select['features','preferred_Cust_Flag_Num']\n",
    " \n",
    "# ## 查看构建后的数据\n",
    "# model_df=df_model_select.select(['features','preferred_Cust_Flag_Num'])"
   ]
  },
  {
   "cell_type": "code",
   "execution_count": 0,
   "metadata": {
    "application/vnd.databricks.v1+cell": {
     "inputWidgets": {},
     "nuid": "37236fb9-2b13-4d83-96b2-bc62ef3b112f",
     "showTitle": true,
     "title": "Split dataset into training and test data"
    }
   },
   "outputs": [
    {
     "data": {
      "text/html": [
       "<style scoped>\n",
       "  .ansiout {\n",
       "    display: block;\n",
       "    unicode-bidi: embed;\n",
       "    white-space: pre-wrap;\n",
       "    word-wrap: break-word;\n",
       "    word-break: break-all;\n",
       "    font-family: \"Source Code Pro\", \"Menlo\", monospace;;\n",
       "    font-size: 13px;\n",
       "    color: #555;\n",
       "    margin-left: 4px;\n",
       "    line-height: 19px;\n",
       "  }\n",
       "</style>\n",
       "<div class=\"ansiout\"></div>"
      ]
     },
     "metadata": {
      "application/vnd.databricks.v1+output": {
       "addedWidgets": {},
       "arguments": {},
       "data": "<div class=\"ansiout\"></div>",
       "datasetInfos": [
        {
         "name": "training_df",
         "schema": {
          "fields": [
           {
            "metadata": {
             "ml_attr": {
              "attrs": {
               "binary": [
                {
                 "idx": 4,
                 "name": "salutation_Vector_Dr."
                },
                {
                 "idx": 5,
                 "name": "salutation_Vector_Mr."
                },
                {
                 "idx": 6,
                 "name": "salutation_Vector_Sir"
                },
                {
                 "idx": 7,
                 "name": "salutation_Vector_Mrs."
                },
                {
                 "idx": 8,
                 "name": "salutation_Vector_Ms."
                },
                {
                 "idx": 9,
                 "name": "salutation_Vector_Miss"
                },
                {
                 "idx": 10,
                 "name": "cd_gender_Vector_M"
                },
                {
                 "idx": 11,
                 "name": "cd_gender_Vector_F"
                },
                {
                 "idx": 12,
                 "name": "cd_marital_status_Vector_S"
                },
                {
                 "idx": 13,
                 "name": "cd_marital_status_Vector_U"
                },
                {
                 "idx": 14,
                 "name": "cd_marital_status_Vector_W"
                },
                {
                 "idx": 15,
                 "name": "cd_marital_status_Vector_M"
                },
                {
                 "idx": 16,
                 "name": "cd_marital_status_Vector_D"
                },
                {
                 "idx": 17,
                 "name": "cd_education_status_Vector_Advanced Degree"
                },
                {
                 "idx": 18,
                 "name": "cd_education_status_Vector_2 yr Degree"
                },
                {
                 "idx": 19,
                 "name": "cd_education_status_Vector_Unknown"
                },
                {
                 "idx": 20,
                 "name": "cd_education_status_Vector_4 yr Degree"
                },
                {
                 "idx": 21,
                 "name": "cd_education_status_Vector_College"
                },
                {
                 "idx": 22,
                 "name": "cd_education_status_Vector_Primary"
                },
                {
                 "idx": 23,
                 "name": "cd_education_status_Vector_Secondary"
                },
                {
                 "idx": 24,
                 "name": "cd_credit_rating_Vector_High Risk"
                },
                {
                 "idx": 25,
                 "name": "cd_credit_rating_Vector_Low Risk"
                },
                {
                 "idx": 26,
                 "name": "cd_credit_rating_Vector_Unknown"
                },
                {
                 "idx": 27,
                 "name": "cd_credit_rating_Vector_Good"
                }
               ],
               "numeric": [
                {
                 "idx": 0,
                 "name": "cd_purchase_estimate"
                },
                {
                 "idx": 1,
                 "name": "cd_dep_count"
                },
                {
                 "idx": 2,
                 "name": "cd_dep_employed_count"
                },
                {
                 "idx": 3,
                 "name": "cd_dep_college_count"
                }
               ]
              },
              "num_attrs": 28
             }
            },
            "name": "features",
            "nullable": true,
            "type": {
             "class": "org.apache.spark.ml.linalg.VectorUDT",
             "pyClass": "pyspark.ml.linalg.VectorUDT",
             "sqlType": {
              "fields": [
               {
                "metadata": {},
                "name": "type",
                "nullable": false,
                "type": "byte"
               },
               {
                "metadata": {},
                "name": "size",
                "nullable": true,
                "type": "integer"
               },
               {
                "metadata": {},
                "name": "indices",
                "nullable": true,
                "type": {
                 "containsNull": false,
                 "elementType": "integer",
                 "type": "array"
                }
               },
               {
                "metadata": {},
                "name": "values",
                "nullable": true,
                "type": {
                 "containsNull": false,
                 "elementType": "double",
                 "type": "array"
                }
               }
              ],
              "type": "struct"
             },
             "type": "udt"
            }
           },
           {
            "metadata": {},
            "name": "preferred_Cust_Flag_Num",
            "nullable": true,
            "type": "integer"
           }
          ],
          "type": "struct"
         },
         "tableIdentifier": null,
         "typeStr": "pyspark.sql.dataframe.DataFrame"
        },
        {
         "name": "test_df",
         "schema": {
          "fields": [
           {
            "metadata": {
             "ml_attr": {
              "attrs": {
               "binary": [
                {
                 "idx": 4,
                 "name": "salutation_Vector_Dr."
                },
                {
                 "idx": 5,
                 "name": "salutation_Vector_Mr."
                },
                {
                 "idx": 6,
                 "name": "salutation_Vector_Sir"
                },
                {
                 "idx": 7,
                 "name": "salutation_Vector_Mrs."
                },
                {
                 "idx": 8,
                 "name": "salutation_Vector_Ms."
                },
                {
                 "idx": 9,
                 "name": "salutation_Vector_Miss"
                },
                {
                 "idx": 10,
                 "name": "cd_gender_Vector_M"
                },
                {
                 "idx": 11,
                 "name": "cd_gender_Vector_F"
                },
                {
                 "idx": 12,
                 "name": "cd_marital_status_Vector_S"
                },
                {
                 "idx": 13,
                 "name": "cd_marital_status_Vector_U"
                },
                {
                 "idx": 14,
                 "name": "cd_marital_status_Vector_W"
                },
                {
                 "idx": 15,
                 "name": "cd_marital_status_Vector_M"
                },
                {
                 "idx": 16,
                 "name": "cd_marital_status_Vector_D"
                },
                {
                 "idx": 17,
                 "name": "cd_education_status_Vector_Advanced Degree"
                },
                {
                 "idx": 18,
                 "name": "cd_education_status_Vector_2 yr Degree"
                },
                {
                 "idx": 19,
                 "name": "cd_education_status_Vector_Unknown"
                },
                {
                 "idx": 20,
                 "name": "cd_education_status_Vector_4 yr Degree"
                },
                {
                 "idx": 21,
                 "name": "cd_education_status_Vector_College"
                },
                {
                 "idx": 22,
                 "name": "cd_education_status_Vector_Primary"
                },
                {
                 "idx": 23,
                 "name": "cd_education_status_Vector_Secondary"
                },
                {
                 "idx": 24,
                 "name": "cd_credit_rating_Vector_High Risk"
                },
                {
                 "idx": 25,
                 "name": "cd_credit_rating_Vector_Low Risk"
                },
                {
                 "idx": 26,
                 "name": "cd_credit_rating_Vector_Unknown"
                },
                {
                 "idx": 27,
                 "name": "cd_credit_rating_Vector_Good"
                }
               ],
               "numeric": [
                {
                 "idx": 0,
                 "name": "cd_purchase_estimate"
                },
                {
                 "idx": 1,
                 "name": "cd_dep_count"
                },
                {
                 "idx": 2,
                 "name": "cd_dep_employed_count"
                },
                {
                 "idx": 3,
                 "name": "cd_dep_college_count"
                }
               ]
              },
              "num_attrs": 28
             }
            },
            "name": "features",
            "nullable": true,
            "type": {
             "class": "org.apache.spark.ml.linalg.VectorUDT",
             "pyClass": "pyspark.ml.linalg.VectorUDT",
             "sqlType": {
              "fields": [
               {
                "metadata": {},
                "name": "type",
                "nullable": false,
                "type": "byte"
               },
               {
                "metadata": {},
                "name": "size",
                "nullable": true,
                "type": "integer"
               },
               {
                "metadata": {},
                "name": "indices",
                "nullable": true,
                "type": {
                 "containsNull": false,
                 "elementType": "integer",
                 "type": "array"
                }
               },
               {
                "metadata": {},
                "name": "values",
                "nullable": true,
                "type": {
                 "containsNull": false,
                 "elementType": "double",
                 "type": "array"
                }
               }
              ],
              "type": "struct"
             },
             "type": "udt"
            }
           },
           {
            "metadata": {},
            "name": "preferred_Cust_Flag_Num",
            "nullable": true,
            "type": "integer"
           }
          ],
          "type": "struct"
         },
         "tableIdentifier": null,
         "typeStr": "pyspark.sql.dataframe.DataFrame"
        }
       ],
       "removedWidgets": [],
       "type": "html"
      }
     },
     "output_type": "display_data"
    }
   ],
   "source": [
    "training_df, test_df= df_model_select.randomSplit([0.7,0.3]) "
   ]
  },
  {
   "cell_type": "markdown",
   "metadata": {
    "application/vnd.databricks.v1+cell": {
     "inputWidgets": {},
     "nuid": "4381315b-9390-4a7f-b007-5fe317dcdd46",
     "showTitle": false,
     "title": ""
    }
   },
   "source": [
    "### We will apply several classification models to the model_df"
   ]
  },
  {
   "cell_type": "code",
   "execution_count": 0,
   "metadata": {
    "application/vnd.databricks.v1+cell": {
     "inputWidgets": {},
     "nuid": "411ab0a0-8575-42ad-ac0c-115dd96bbfa3",
     "showTitle": false,
     "title": ""
    }
   },
   "outputs": [
    {
     "data": {
      "text/html": [
       "<style scoped>\n",
       "  .ansiout {\n",
       "    display: block;\n",
       "    unicode-bidi: embed;\n",
       "    white-space: pre-wrap;\n",
       "    word-wrap: break-word;\n",
       "    word-break: break-all;\n",
       "    font-family: \"Source Code Pro\", \"Menlo\", monospace;;\n",
       "    font-size: 13px;\n",
       "    color: #555;\n",
       "    margin-left: 4px;\n",
       "    line-height: 19px;\n",
       "  }\n",
       "</style>\n",
       "<div class=\"ansiout\">LogisticRegression Train accuracy：0.5063952062234993\n",
       "</div>"
      ]
     },
     "metadata": {
      "application/vnd.databricks.v1+output": {
       "addedWidgets": {},
       "arguments": {},
       "data": "<div class=\"ansiout\">LogisticRegression Train accuracy：0.5063952062234993\n</div>",
       "datasetInfos": [],
       "removedWidgets": [],
       "type": "html"
      }
     },
     "output_type": "display_data"
    }
   ],
   "source": [
    "from pyspark.ml.classification import LogisticRegression   \n",
    "\n",
    "lr = LogisticRegression(labelCol='preferred_Cust_Flag_Num').fit(training_df)\n",
    "# testresult = lr.transform(test_df)\n",
    "print('{}{}'.format('LogisticRegression Train accuracy：',lr.evaluate(test_df).accuracy))"
   ]
  },
  {
   "cell_type": "code",
   "execution_count": 0,
   "metadata": {
    "application/vnd.databricks.v1+cell": {
     "inputWidgets": {},
     "nuid": "3062dda8-0228-41f8-9ae9-3f4ec86d7b76",
     "showTitle": false,
     "title": ""
    }
   },
   "outputs": [
    {
     "data": {
      "text/html": [
       "<style scoped>\n",
       "  .ansiout {\n",
       "    display: block;\n",
       "    unicode-bidi: embed;\n",
       "    white-space: pre-wrap;\n",
       "    word-wrap: break-word;\n",
       "    word-break: break-all;\n",
       "    font-family: \"Source Code Pro\", \"Menlo\", monospace;;\n",
       "    font-size: 13px;\n",
       "    color: #555;\n",
       "    margin-left: 4px;\n",
       "    line-height: 19px;\n",
       "  }\n",
       "</style>\n",
       "<div class=\"ansiout\">+----------+-----------------------+--------------------+\n",
       "prediction|preferred_Cust_Flag_Num|            features|\n",
       "+----------+-----------------------+--------------------+\n",
       "       0.0|                      1|(28,[0,1,2,4,10,1...|\n",
       "       0.0|                      1|(28,[0,1,2,4,10,1...|\n",
       "       0.0|                      0|(28,[0,1,2,4,10,1...|\n",
       "       0.0|                      0|(28,[0,1,2,4,10,1...|\n",
       "       0.0|                      0|(28,[0,1,2,4,10,1...|\n",
       "+----------+-----------------------+--------------------+\n",
       "only showing top 5 rows\n",
       "\n",
       "</div>"
      ]
     },
     "metadata": {
      "application/vnd.databricks.v1+output": {
       "addedWidgets": {},
       "arguments": {},
       "data": "<div class=\"ansiout\">+----------+-----------------------+--------------------+\n|prediction|preferred_Cust_Flag_Num|            features|\n+----------+-----------------------+--------------------+\n|       0.0|                      1|(28,[0,1,2,4,10,1...|\n|       0.0|                      1|(28,[0,1,2,4,10,1...|\n|       0.0|                      0|(28,[0,1,2,4,10,1...|\n|       0.0|                      0|(28,[0,1,2,4,10,1...|\n|       0.0|                      0|(28,[0,1,2,4,10,1...|\n+----------+-----------------------+--------------------+\nonly showing top 5 rows\n\n</div>",
       "datasetInfos": [
        {
         "name": "predictions",
         "schema": {
          "fields": [
           {
            "metadata": {
             "ml_attr": {
              "attrs": {
               "binary": [
                {
                 "idx": 4,
                 "name": "salutation_Vector_Dr."
                },
                {
                 "idx": 5,
                 "name": "salutation_Vector_Mr."
                },
                {
                 "idx": 6,
                 "name": "salutation_Vector_Sir"
                },
                {
                 "idx": 7,
                 "name": "salutation_Vector_Mrs."
                },
                {
                 "idx": 8,
                 "name": "salutation_Vector_Ms."
                },
                {
                 "idx": 9,
                 "name": "salutation_Vector_Miss"
                },
                {
                 "idx": 10,
                 "name": "cd_gender_Vector_M"
                },
                {
                 "idx": 11,
                 "name": "cd_gender_Vector_F"
                },
                {
                 "idx": 12,
                 "name": "cd_marital_status_Vector_S"
                },
                {
                 "idx": 13,
                 "name": "cd_marital_status_Vector_U"
                },
                {
                 "idx": 14,
                 "name": "cd_marital_status_Vector_W"
                },
                {
                 "idx": 15,
                 "name": "cd_marital_status_Vector_M"
                },
                {
                 "idx": 16,
                 "name": "cd_marital_status_Vector_D"
                },
                {
                 "idx": 17,
                 "name": "cd_education_status_Vector_Advanced Degree"
                },
                {
                 "idx": 18,
                 "name": "cd_education_status_Vector_2 yr Degree"
                },
                {
                 "idx": 19,
                 "name": "cd_education_status_Vector_Unknown"
                },
                {
                 "idx": 20,
                 "name": "cd_education_status_Vector_4 yr Degree"
                },
                {
                 "idx": 21,
                 "name": "cd_education_status_Vector_College"
                },
                {
                 "idx": 22,
                 "name": "cd_education_status_Vector_Primary"
                },
                {
                 "idx": 23,
                 "name": "cd_education_status_Vector_Secondary"
                },
                {
                 "idx": 24,
                 "name": "cd_credit_rating_Vector_High Risk"
                },
                {
                 "idx": 25,
                 "name": "cd_credit_rating_Vector_Low Risk"
                },
                {
                 "idx": 26,
                 "name": "cd_credit_rating_Vector_Unknown"
                },
                {
                 "idx": 27,
                 "name": "cd_credit_rating_Vector_Good"
                }
               ],
               "numeric": [
                {
                 "idx": 0,
                 "name": "cd_purchase_estimate"
                },
                {
                 "idx": 1,
                 "name": "cd_dep_count"
                },
                {
                 "idx": 2,
                 "name": "cd_dep_employed_count"
                },
                {
                 "idx": 3,
                 "name": "cd_dep_college_count"
                }
               ]
              },
              "num_attrs": 28
             }
            },
            "name": "features",
            "nullable": true,
            "type": {
             "class": "org.apache.spark.ml.linalg.VectorUDT",
             "pyClass": "pyspark.ml.linalg.VectorUDT",
             "sqlType": {
              "fields": [
               {
                "metadata": {},
                "name": "type",
                "nullable": false,
                "type": "byte"
               },
               {
                "metadata": {},
                "name": "size",
                "nullable": true,
                "type": "integer"
               },
               {
                "metadata": {},
                "name": "indices",
                "nullable": true,
                "type": {
                 "containsNull": false,
                 "elementType": "integer",
                 "type": "array"
                }
               },
               {
                "metadata": {},
                "name": "values",
                "nullable": true,
                "type": {
                 "containsNull": false,
                 "elementType": "double",
                 "type": "array"
                }
               }
              ],
              "type": "struct"
             },
             "type": "udt"
            }
           },
           {
            "metadata": {},
            "name": "preferred_Cust_Flag_Num",
            "nullable": true,
            "type": "integer"
           },
           {
            "metadata": {
             "ml_attr": {
              "num_attrs": 2
             }
            },
            "name": "rawPrediction",
            "nullable": true,
            "type": {
             "class": "org.apache.spark.ml.linalg.VectorUDT",
             "pyClass": "pyspark.ml.linalg.VectorUDT",
             "sqlType": {
              "fields": [
               {
                "metadata": {},
                "name": "type",
                "nullable": false,
                "type": "byte"
               },
               {
                "metadata": {},
                "name": "size",
                "nullable": true,
                "type": "integer"
               },
               {
                "metadata": {},
                "name": "indices",
                "nullable": true,
                "type": {
                 "containsNull": false,
                 "elementType": "integer",
                 "type": "array"
                }
               },
               {
                "metadata": {},
                "name": "values",
                "nullable": true,
                "type": {
                 "containsNull": false,
                 "elementType": "double",
                 "type": "array"
                }
               }
              ],
              "type": "struct"
             },
             "type": "udt"
            }
           },
           {
            "metadata": {
             "ml_attr": {
              "num_attrs": 2
             }
            },
            "name": "probability",
            "nullable": true,
            "type": {
             "class": "org.apache.spark.ml.linalg.VectorUDT",
             "pyClass": "pyspark.ml.linalg.VectorUDT",
             "sqlType": {
              "fields": [
               {
                "metadata": {},
                "name": "type",
                "nullable": false,
                "type": "byte"
               },
               {
                "metadata": {},
                "name": "size",
                "nullable": true,
                "type": "integer"
               },
               {
                "metadata": {},
                "name": "indices",
                "nullable": true,
                "type": {
                 "containsNull": false,
                 "elementType": "integer",
                 "type": "array"
                }
               },
               {
                "metadata": {},
                "name": "values",
                "nullable": true,
                "type": {
                 "containsNull": false,
                 "elementType": "double",
                 "type": "array"
                }
               }
              ],
              "type": "struct"
             },
             "type": "udt"
            }
           },
           {
            "metadata": {
             "ml_attr": {
              "num_vals": 2,
              "type": "nominal"
             }
            },
            "name": "prediction",
            "nullable": false,
            "type": "double"
           }
          ],
          "type": "struct"
         },
         "tableIdentifier": null,
         "typeStr": "pyspark.sql.dataframe.DataFrame"
        }
       ],
       "removedWidgets": [],
       "type": "html"
      }
     },
     "output_type": "display_data"
    }
   ],
   "source": [
    "from pyspark.ml.classification import RandomForestClassifier\n",
    "from pyspark.ml.evaluation import MulticlassClassificationEvaluator\n",
    "from pyspark.ml.feature import StringIndexer, VectorIndexer,IndexToString\n",
    "\n",
    "rf = RandomForestClassifier(labelCol=\"preferred_Cust_Flag_Num\", \\\n",
    "                            featuresCol=\"features\", \\\n",
    "                            numTrees = 50) \n",
    "#                             maxDepth = 4, \\\n",
    "#                             maxBins = 32)\n",
    "# Train model with Training Data\n",
    "rfModel = rf.fit(training_df)\n",
    "predictions = rfModel.transform(test_df)\n",
    "\n",
    "predictions.select(\"prediction\", \"preferred_Cust_Flag_Num\", \"features\").show(5)"
   ]
  },
  {
   "cell_type": "code",
   "execution_count": 0,
   "metadata": {
    "application/vnd.databricks.v1+cell": {
     "inputWidgets": {},
     "nuid": "05d71165-c00d-4b08-bc18-7685cb468cf3",
     "showTitle": false,
     "title": ""
    }
   },
   "outputs": [
    {
     "data": {
      "text/html": [
       "<style scoped>\n",
       "  .ansiout {\n",
       "    display: block;\n",
       "    unicode-bidi: embed;\n",
       "    white-space: pre-wrap;\n",
       "    word-wrap: break-word;\n",
       "    word-break: break-all;\n",
       "    font-family: \"Source Code Pro\", \"Menlo\", monospace;;\n",
       "    font-size: 13px;\n",
       "    color: #555;\n",
       "    margin-left: 4px;\n",
       "    line-height: 19px;\n",
       "  }\n",
       "</style>\n",
       "<div class=\"ansiout\">Test Error = 0.491642\n",
       "</div>"
      ]
     },
     "metadata": {
      "application/vnd.databricks.v1+output": {
       "addedWidgets": {},
       "arguments": {},
       "data": "<div class=\"ansiout\">Test Error = 0.491642\n</div>",
       "datasetInfos": [],
       "removedWidgets": [],
       "type": "html"
      }
     },
     "output_type": "display_data"
    }
   ],
   "source": [
    "evaluator = MulticlassClassificationEvaluator(\n",
    "    labelCol=\"preferred_Cust_Flag_Num\", predictionCol=\"prediction\", metricName=\"accuracy\")\n",
    "\n",
    "accuracy = evaluator.evaluate(predictions)\n",
    "print(\"Test Error = %g\" % (1.0 - accuracy))"
   ]
  },
  {
   "cell_type": "code",
   "execution_count": 0,
   "metadata": {
    "application/vnd.databricks.v1+cell": {
     "inputWidgets": {},
     "nuid": "b9af2634-166d-464c-bf6c-a43a2b229c9d",
     "showTitle": false,
     "title": ""
    }
   },
   "outputs": [
    {
     "data": {
      "text/html": [
       "<style scoped>\n",
       "  .ansiout {\n",
       "    display: block;\n",
       "    unicode-bidi: embed;\n",
       "    white-space: pre-wrap;\n",
       "    word-wrap: break-word;\n",
       "    word-break: break-all;\n",
       "    font-family: \"Source Code Pro\", \"Menlo\", monospace;;\n",
       "    font-size: 13px;\n",
       "    color: #555;\n",
       "    margin-left: 4px;\n",
       "    line-height: 19px;\n",
       "  }\n",
       "</style>\n",
       "<div class=\"ansiout\"></div>"
      ]
     },
     "metadata": {
      "application/vnd.databricks.v1+output": {
       "addedWidgets": {},
       "arguments": {},
       "data": "<div class=\"ansiout\"></div>",
       "datasetInfos": [],
       "removedWidgets": [],
       "type": "html"
      }
     },
     "output_type": "display_data"
    }
   ],
   "source": [
    "from itertools import chain\n",
    "featureMetadata = chain(*predictions.schema[\"features\"].metadata[\"ml_attr\"][\"attrs\"].values())\n",
    "attrs = sorted((attr[\"idx\"], attr[\"name\"]) for attr in featureMetadata)\n",
    "\n",
    "name_list = []\n",
    "fi_list=[]\n",
    "for idx, name in attrs:\n",
    "  name_list.append(name)\n",
    "  fi_list.append(rfModel.featureImportances[idx])"
   ]
  },
  {
   "cell_type": "code",
   "execution_count": 0,
   "metadata": {
    "application/vnd.databricks.v1+cell": {
     "inputWidgets": {},
     "nuid": "03467d10-13e9-494a-a4cc-ce1ca04f0640",
     "showTitle": false,
     "title": ""
    }
   },
   "outputs": [
    {
     "data": {
      "text/html": [
       "<style scoped>\n",
       "  .table-result-container {\n",
       "    max-height: 300px;\n",
       "    overflow: auto;\n",
       "  }\n",
       "  table, th, td {\n",
       "    border: 1px solid black;\n",
       "    border-collapse: collapse;\n",
       "  }\n",
       "  th, td {\n",
       "    padding: 5px;\n",
       "  }\n",
       "  th {\n",
       "    text-align: left;\n",
       "  }\n",
       "</style><div class='table-result-container'><table class='table-result'><thead style='background-color: white'><tr><th>name</th><th>importance</th></tr></thead><tbody><tr><td>cd_purchase_estimate</td><td>0.1692027424131199</td></tr><tr><td>cd_dep_count</td><td>0.11329974665859835</td></tr><tr><td>cd_dep_employed_count</td><td>0.10504114033957984</td></tr><tr><td>cd_dep_college_count</td><td>0.09073658888428261</td></tr><tr><td>salutation_Vector_Mr.</td><td>0.03309847043183216</td></tr><tr><td>cd_education_status_Vector_Advanced Degree</td><td>0.03251018838468351</td></tr><tr><td>cd_credit_rating_Vector_High Risk</td><td>0.02848969649120512</td></tr><tr><td>cd_marital_status_Vector_S</td><td>0.02845415461551753</td></tr><tr><td>cd_marital_status_Vector_D</td><td>0.025862784955305775</td></tr><tr><td>cd_credit_rating_Vector_Unknown</td><td>0.02560491322720338</td></tr><tr><td>cd_credit_rating_Vector_Low Risk</td><td>0.025559614137072705</td></tr><tr><td>cd_education_status_Vector_Secondary</td><td>0.02515574899807709</td></tr><tr><td>cd_marital_status_Vector_U</td><td>0.024117570362405145</td></tr><tr><td>cd_marital_status_Vector_M</td><td>0.022854819306391688</td></tr><tr><td>salutation_Vector_Dr.</td><td>0.02241092381708966</td></tr><tr><td>salutation_Vector_Mrs.</td><td>0.021475649335321558</td></tr><tr><td>salutation_Vector_Sir</td><td>0.02131619813960665</td></tr><tr><td>cd_marital_status_Vector_W</td><td>0.02017220251429517</td></tr><tr><td>salutation_Vector_Ms.</td><td>0.020096587626553083</td></tr><tr><td>salutation_Vector_Miss</td><td>0.019800446039324376</td></tr><tr><td>cd_gender_Vector_F</td><td>0.019016422746618532</td></tr><tr><td>cd_credit_rating_Vector_Good</td><td>0.018600245314767467</td></tr><tr><td>cd_gender_Vector_M</td><td>0.01749141843792454</td></tr><tr><td>cd_education_status_Vector_College</td><td>0.01633064657051486</td></tr><tr><td>cd_education_status_Vector_Primary</td><td>0.015319102807099517</td></tr><tr><td>cd_education_status_Vector_4 yr Degree</td><td>0.014592059855024478</td></tr><tr><td>cd_education_status_Vector_2 yr Degree</td><td>0.013736046075145524</td></tr><tr><td>cd_education_status_Vector_Unknown</td><td>0.009653871515439652</td></tr></tbody></table></div>"
      ]
     },
     "metadata": {
      "application/vnd.databricks.v1+output": {
       "addedWidgets": {},
       "aggData": [],
       "aggError": "",
       "aggOverflow": false,
       "aggSchema": [],
       "aggSeriesLimitReached": false,
       "aggType": "",
       "arguments": {},
       "columnCustomDisplayInfos": {},
       "data": [
        [
         "cd_purchase_estimate",
         0.1692027424131199
        ],
        [
         "cd_dep_count",
         0.11329974665859835
        ],
        [
         "cd_dep_employed_count",
         0.10504114033957984
        ],
        [
         "cd_dep_college_count",
         0.09073658888428261
        ],
        [
         "salutation_Vector_Mr.",
         0.03309847043183216
        ],
        [
         "cd_education_status_Vector_Advanced Degree",
         0.03251018838468351
        ],
        [
         "cd_credit_rating_Vector_High Risk",
         0.02848969649120512
        ],
        [
         "cd_marital_status_Vector_S",
         0.02845415461551753
        ],
        [
         "cd_marital_status_Vector_D",
         0.025862784955305775
        ],
        [
         "cd_credit_rating_Vector_Unknown",
         0.02560491322720338
        ],
        [
         "cd_credit_rating_Vector_Low Risk",
         0.025559614137072705
        ],
        [
         "cd_education_status_Vector_Secondary",
         0.02515574899807709
        ],
        [
         "cd_marital_status_Vector_U",
         0.024117570362405145
        ],
        [
         "cd_marital_status_Vector_M",
         0.022854819306391688
        ],
        [
         "salutation_Vector_Dr.",
         0.02241092381708966
        ],
        [
         "salutation_Vector_Mrs.",
         0.021475649335321558
        ],
        [
         "salutation_Vector_Sir",
         0.02131619813960665
        ],
        [
         "cd_marital_status_Vector_W",
         0.02017220251429517
        ],
        [
         "salutation_Vector_Ms.",
         0.020096587626553083
        ],
        [
         "salutation_Vector_Miss",
         0.019800446039324376
        ],
        [
         "cd_gender_Vector_F",
         0.019016422746618532
        ],
        [
         "cd_credit_rating_Vector_Good",
         0.018600245314767467
        ],
        [
         "cd_gender_Vector_M",
         0.01749141843792454
        ],
        [
         "cd_education_status_Vector_College",
         0.01633064657051486
        ],
        [
         "cd_education_status_Vector_Primary",
         0.015319102807099517
        ],
        [
         "cd_education_status_Vector_4 yr Degree",
         0.014592059855024478
        ],
        [
         "cd_education_status_Vector_2 yr Degree",
         0.013736046075145524
        ],
        [
         "cd_education_status_Vector_Unknown",
         0.009653871515439652
        ]
       ],
       "datasetInfos": [],
       "dbfsResultPath": null,
       "isJsonSchema": true,
       "overflow": false,
       "plotOptions": {
        "customPlotOptions": {},
        "displayType": "table",
        "pivotAggregation": null,
        "pivotColumns": null,
        "xColumns": null,
        "yColumns": null
       },
       "removedWidgets": [],
       "schema": [
        {
         "metadata": "{}",
         "name": "name",
         "type": "\"string\""
        },
        {
         "metadata": "{}",
         "name": "importance",
         "type": "\"double\""
        }
       ],
       "type": "table"
      }
     },
     "output_type": "display_data"
    }
   ],
   "source": [
    "import pandas as pd\n",
    "feature_importances = pd.DataFrame(data = {'name':name_list, 'importance':fi_list})\n",
    "display(feature_importances.sort_values('importance', ascending=False))"
   ]
  },
  {
   "cell_type": "code",
   "execution_count": 0,
   "metadata": {
    "application/vnd.databricks.v1+cell": {
     "inputWidgets": {},
     "nuid": "5aeb3c19-733f-412f-9339-bc4eb412a293",
     "showTitle": false,
     "title": ""
    }
   },
   "outputs": [
    {
     "data": {
      "text/html": [
       "<style scoped>\n",
       "  .ansiout {\n",
       "    display: block;\n",
       "    unicode-bidi: embed;\n",
       "    white-space: pre-wrap;\n",
       "    word-wrap: break-word;\n",
       "    word-break: break-all;\n",
       "    font-family: \"Source Code Pro\", \"Menlo\", monospace;;\n",
       "    font-size: 13px;\n",
       "    color: #555;\n",
       "    margin-left: 4px;\n",
       "    line-height: 19px;\n",
       "  }\n",
       "</style>\n",
       "<div class=\"ansiout\"></div>"
      ]
     },
     "metadata": {
      "application/vnd.databricks.v1+output": {
       "addedWidgets": {},
       "arguments": {},
       "data": "<div class=\"ansiout\"></div>",
       "datasetInfos": [
        {
         "name": "spark_df",
         "schema": {
          "fields": [
           {
            "metadata": {},
            "name": "name",
            "nullable": true,
            "type": "string"
           },
           {
            "metadata": {},
            "name": "importance",
            "nullable": true,
            "type": "double"
           }
          ],
          "type": "struct"
         },
         "tableIdentifier": null,
         "typeStr": "pyspark.sql.dataframe.DataFrame"
        }
       ],
       "removedWidgets": [],
       "type": "html"
      }
     },
     "output_type": "display_data"
    }
   ],
   "source": [
    "feature_importances_table = feature_importances.sort_values('importance', ascending=False)\n",
    "spark_df = spark.createDataFrame(feature_importances_table)\n",
    "spark_df.write.saveAsTable(\"hba_customer_featureImportance\")"
   ]
  },
  {
   "cell_type": "code",
   "execution_count": 0,
   "metadata": {
    "application/vnd.databricks.v1+cell": {
     "inputWidgets": {},
     "nuid": "35518424-0b6f-4b20-b6f6-3b7805870b30",
     "showTitle": false,
     "title": ""
    }
   },
   "outputs": [
    {
     "data": {
      "text/html": [
       "<style scoped>\n",
       "  .table-result-container {\n",
       "    max-height: 300px;\n",
       "    overflow: auto;\n",
       "  }\n",
       "  table, th, td {\n",
       "    border: 1px solid black;\n",
       "    border-collapse: collapse;\n",
       "  }\n",
       "  th, td {\n",
       "    padding: 5px;\n",
       "  }\n",
       "  th {\n",
       "    text-align: left;\n",
       "  }\n",
       "</style><div class='table-result-container'><table class='table-result'><thead style='background-color: white'><tr><th>name</th><th>importance</th></tr></thead><tbody><tr><td>cd_dep_college_count</td><td>0.09073658888428261</td></tr><tr><td>salutation_Vector_Mr.</td><td>0.03309847043183216</td></tr><tr><td>cd_education_status_Vector_Advanced Degree</td><td>0.03251018838468351</td></tr><tr><td>cd_credit_rating_Vector_High Risk</td><td>0.02848969649120512</td></tr><tr><td>cd_education_status_Vector_Primary</td><td>0.015319102807099517</td></tr><tr><td>cd_education_status_Vector_4 yr Degree</td><td>0.014592059855024478</td></tr><tr><td>cd_education_status_Vector_2 yr Degree</td><td>0.013736046075145524</td></tr><tr><td>cd_education_status_Vector_Unknown</td><td>0.009653871515439652</td></tr><tr><td>cd_credit_rating_Vector_Low Risk</td><td>0.025559614137072705</td></tr><tr><td>cd_education_status_Vector_Secondary</td><td>0.02515574899807709</td></tr><tr><td>cd_marital_status_Vector_U</td><td>0.024117570362405145</td></tr><tr><td>cd_marital_status_Vector_M</td><td>0.022854819306391688</td></tr><tr><td>cd_marital_status_Vector_S</td><td>0.02845415461551753</td></tr><tr><td>cd_marital_status_Vector_D</td><td>0.025862784955305775</td></tr><tr><td>cd_credit_rating_Vector_Unknown</td><td>0.02560491322720338</td></tr><tr><td>cd_credit_rating_Vector_Good</td><td>0.018600245314767467</td></tr><tr><td>cd_gender_Vector_M</td><td>0.01749141843792454</td></tr><tr><td>cd_education_status_Vector_College</td><td>0.01633064657051486</td></tr><tr><td>cd_marital_status_Vector_W</td><td>0.02017220251429517</td></tr><tr><td>salutation_Vector_Ms.</td><td>0.020096587626553083</td></tr><tr><td>salutation_Vector_Miss</td><td>0.019800446039324376</td></tr><tr><td>cd_gender_Vector_F</td><td>0.019016422746618532</td></tr><tr><td>salutation_Vector_Dr.</td><td>0.02241092381708966</td></tr><tr><td>salutation_Vector_Mrs.</td><td>0.021475649335321558</td></tr><tr><td>salutation_Vector_Sir</td><td>0.02131619813960665</td></tr><tr><td>cd_purchase_estimate</td><td>0.1692027424131199</td></tr><tr><td>cd_dep_count</td><td>0.11329974665859835</td></tr><tr><td>cd_dep_employed_count</td><td>0.10504114033957984</td></tr></tbody></table></div>"
      ]
     },
     "metadata": {
      "application/vnd.databricks.v1+output": {
       "addedWidgets": {},
       "aggData": [],
       "aggError": "",
       "aggOverflow": false,
       "aggSchema": [],
       "aggSeriesLimitReached": false,
       "aggType": "",
       "arguments": {},
       "columnCustomDisplayInfos": {},
       "data": [
        [
         "cd_dep_college_count",
         0.09073658888428261
        ],
        [
         "salutation_Vector_Mr.",
         0.03309847043183216
        ],
        [
         "cd_education_status_Vector_Advanced Degree",
         0.03251018838468351
        ],
        [
         "cd_credit_rating_Vector_High Risk",
         0.02848969649120512
        ],
        [
         "cd_education_status_Vector_Primary",
         0.015319102807099517
        ],
        [
         "cd_education_status_Vector_4 yr Degree",
         0.014592059855024478
        ],
        [
         "cd_education_status_Vector_2 yr Degree",
         0.013736046075145524
        ],
        [
         "cd_education_status_Vector_Unknown",
         0.009653871515439652
        ],
        [
         "cd_credit_rating_Vector_Low Risk",
         0.025559614137072705
        ],
        [
         "cd_education_status_Vector_Secondary",
         0.02515574899807709
        ],
        [
         "cd_marital_status_Vector_U",
         0.024117570362405145
        ],
        [
         "cd_marital_status_Vector_M",
         0.022854819306391688
        ],
        [
         "cd_marital_status_Vector_S",
         0.02845415461551753
        ],
        [
         "cd_marital_status_Vector_D",
         0.025862784955305775
        ],
        [
         "cd_credit_rating_Vector_Unknown",
         0.02560491322720338
        ],
        [
         "cd_credit_rating_Vector_Good",
         0.018600245314767467
        ],
        [
         "cd_gender_Vector_M",
         0.01749141843792454
        ],
        [
         "cd_education_status_Vector_College",
         0.01633064657051486
        ],
        [
         "cd_marital_status_Vector_W",
         0.02017220251429517
        ],
        [
         "salutation_Vector_Ms.",
         0.020096587626553083
        ],
        [
         "salutation_Vector_Miss",
         0.019800446039324376
        ],
        [
         "cd_gender_Vector_F",
         0.019016422746618532
        ],
        [
         "salutation_Vector_Dr.",
         0.02241092381708966
        ],
        [
         "salutation_Vector_Mrs.",
         0.021475649335321558
        ],
        [
         "salutation_Vector_Sir",
         0.02131619813960665
        ],
        [
         "cd_purchase_estimate",
         0.1692027424131199
        ],
        [
         "cd_dep_count",
         0.11329974665859835
        ],
        [
         "cd_dep_employed_count",
         0.10504114033957984
        ]
       ],
       "datasetInfos": [
        {
         "name": "spark_df_table",
         "schema": {
          "fields": [
           {
            "metadata": {},
            "name": "name",
            "nullable": true,
            "type": "string"
           },
           {
            "metadata": {},
            "name": "importance",
            "nullable": true,
            "type": "double"
           }
          ],
          "type": "struct"
         },
         "tableIdentifier": null,
         "typeStr": "pyspark.sql.dataframe.DataFrame"
        }
       ],
       "dbfsResultPath": null,
       "isJsonSchema": true,
       "overflow": false,
       "plotOptions": {
        "customPlotOptions": {},
        "displayType": "table",
        "pivotAggregation": null,
        "pivotColumns": null,
        "xColumns": null,
        "yColumns": null
       },
       "removedWidgets": [],
       "schema": [
        {
         "metadata": "{}",
         "name": "name",
         "type": "\"string\""
        },
        {
         "metadata": "{}",
         "name": "importance",
         "type": "\"double\""
        }
       ],
       "type": "table"
      }
     },
     "output_type": "display_data"
    }
   ],
   "source": [
    "spark_df_table = spark.sql(\"select * from hba_customer_featureImportance\")\n",
    "display(spark_df_table)"
   ]
  },
  {
   "cell_type": "markdown",
   "metadata": {},
   "source": [
    "### Connect to Azure ML Workspace"
   ]
  },
  {
   "cell_type": "code",
   "execution_count": null,
   "metadata": {},
   "outputs": [],
   "source": [
    "from azureml.core import Workspace\n",
    "from azureml.core.experiment import Experiment\n",
    "from azureml.core.authentication import InteractiveLoginAuthentication\n",
    "\n",
    "subscription_id = 'Your_Subscription_ID'\n",
    "resource_group = 'herbalifedemo'\n",
    "workspace_name = 'herbalifeAML'\n",
    "\n",
    "interactive_auth = InteractiveLoginAuthentication(tenant_id = \"Your_Tenant_ID\", cloud = \"AzureChinaCloud\")\n",
    "try:\n",
    "    ws = Workspace(subscription_id=subscription_id, resource_group=resource_group,workspace_name=workspace_name, auth=interactive_auth) \n",
    "    print('Library configuration succeed')\n",
    "except:\n",
    "    print('Workspace not found')\n",
    "    \n",
    "experiment = Experiment(ws, \"newPrediction\")"
   ]
  },
  {
   "cell_type": "markdown",
   "metadata": {},
   "source": [
    "### Set Compute Target"
   ]
  },
  {
   "cell_type": "code",
   "execution_count": null,
   "metadata": {},
   "outputs": [],
   "source": [
    "from azureml.core.compute import AmlCompute, ComputeTarget\n",
    "from azureml.core.compute_target import ComputeTargetException\n",
    "\n",
    "# Choose a name for your cluster.\n",
    "amlcompute_cluster_name = \"hbltraincluster\"\n",
    "\n",
    "# Verify that cluster does not exit already.\n",
    "try:\n",
    "    compute_target = ComputerTarget(workspace=ws, name=amlcompute_cluster-name)\n",
    "    print('Found existing cluster, use it.')\n",
    "except ComputeTargetException:\n",
    "    compute_config = AmlCompute.procisioning_configuration(vm_size='STANDARD_DS12_V2',\n",
    "                                                           max_nodes=6)\n",
    "    compute_target = ComputeTarget.create(ws, amlcompute_cluster_name, compute_config)\n",
    "\n",
    "compute_target.wait_for_completion(show_output=True)"
   ]
  },
  {
   "cell_type": "markdown",
   "metadata": {},
   "source": [
    "### MLFlow"
   ]
  },
  {
   "cell_type": "code",
   "execution_count": 0,
   "metadata": {
    "application/vnd.databricks.v1+cell": {
     "inputWidgets": {},
     "nuid": "55913cf4-480d-473f-be8e-a91846e26000",
     "showTitle": true,
     "title": "mlflow discovery"
    }
   },
   "outputs": [
    {
     "data": {
      "text/html": [
       "<style scoped>\n",
       "  .ansiout {\n",
       "    display: block;\n",
       "    unicode-bidi: embed;\n",
       "    white-space: pre-wrap;\n",
       "    word-wrap: break-word;\n",
       "    word-break: break-all;\n",
       "    font-family: \"Source Code Pro\", \"Menlo\", monospace;;\n",
       "    font-size: 13px;\n",
       "    color: #555;\n",
       "    margin-left: 4px;\n",
       "    line-height: 19px;\n",
       "  }\n",
       "</style>\n",
       "<div class=\"ansiout\"></div>"
      ]
     },
     "metadata": {
      "application/vnd.databricks.v1+output": {
       "addedWidgets": {},
       "arguments": {},
       "data": "<div class=\"ansiout\"></div>",
       "datasetInfos": [
        {
         "name": "train",
         "schema": {
          "fields": [
           {
            "metadata": {},
            "name": "preferred_Cust_Flag_Num",
            "nullable": true,
            "type": "integer"
           },
           {
            "metadata": {},
            "name": "birth_Day",
            "nullable": true,
            "type": "integer"
           },
           {
            "metadata": {},
            "name": "birth_Month",
            "nullable": true,
            "type": "integer"
           },
           {
            "metadata": {},
            "name": "birth_Year",
            "nullable": true,
            "type": "integer"
           },
           {
            "metadata": {},
            "name": "cd_purchase_estimate",
            "nullable": true,
            "type": "integer"
           },
           {
            "metadata": {},
            "name": "cd_dep_count",
            "nullable": true,
            "type": "integer"
           },
           {
            "metadata": {},
            "name": "cd_dep_employed_count",
            "nullable": true,
            "type": "integer"
           },
           {
            "metadata": {},
            "name": "cd_dep_college_count",
            "nullable": true,
            "type": "integer"
           },
           {
            "metadata": {
             "ml_attr": {
              "attrs": {
               "binary": [
                {
                 "idx": 0,
                 "name": "Dr."
                },
                {
                 "idx": 1,
                 "name": "Mr."
                },
                {
                 "idx": 2,
                 "name": "Sir"
                },
                {
                 "idx": 3,
                 "name": "Mrs."
                },
                {
                 "idx": 4,
                 "name": "Ms."
                },
                {
                 "idx": 5,
                 "name": "Miss"
                }
               ]
              },
              "num_attrs": 6
             }
            },
            "name": "salutation_Vector",
            "nullable": true,
            "type": {
             "class": "org.apache.spark.ml.linalg.VectorUDT",
             "pyClass": "pyspark.ml.linalg.VectorUDT",
             "sqlType": {
              "fields": [
               {
                "metadata": {},
                "name": "type",
                "nullable": false,
                "type": "byte"
               },
               {
                "metadata": {},
                "name": "size",
                "nullable": true,
                "type": "integer"
               },
               {
                "metadata": {},
                "name": "indices",
                "nullable": true,
                "type": {
                 "containsNull": false,
                 "elementType": "integer",
                 "type": "array"
                }
               },
               {
                "metadata": {},
                "name": "values",
                "nullable": true,
                "type": {
                 "containsNull": false,
                 "elementType": "double",
                 "type": "array"
                }
               }
              ],
              "type": "struct"
             },
             "type": "udt"
            }
           },
           {
            "metadata": {
             "ml_attr": {
              "attrs": {
               "binary": [
                {
                 "idx": 0,
                 "name": "M"
                },
                {
                 "idx": 1,
                 "name": "F"
                }
               ]
              },
              "num_attrs": 2
             }
            },
            "name": "cd_gender_Vector",
            "nullable": true,
            "type": {
             "class": "org.apache.spark.ml.linalg.VectorUDT",
             "pyClass": "pyspark.ml.linalg.VectorUDT",
             "sqlType": {
              "fields": [
               {
                "metadata": {},
                "name": "type",
                "nullable": false,
                "type": "byte"
               },
               {
                "metadata": {},
                "name": "size",
                "nullable": true,
                "type": "integer"
               },
               {
                "metadata": {},
                "name": "indices",
                "nullable": true,
                "type": {
                 "containsNull": false,
                 "elementType": "integer",
                 "type": "array"
                }
               },
               {
                "metadata": {},
                "name": "values",
                "nullable": true,
                "type": {
                 "containsNull": false,
                 "elementType": "double",
                 "type": "array"
                }
               }
              ],
              "type": "struct"
             },
             "type": "udt"
            }
           },
           {
            "metadata": {
             "ml_attr": {
              "attrs": {
               "binary": [
                {
                 "idx": 0,
                 "name": "S"
                },
                {
                 "idx": 1,
                 "name": "U"
                },
                {
                 "idx": 2,
                 "name": "W"
                },
                {
                 "idx": 3,
                 "name": "M"
                },
                {
                 "idx": 4,
                 "name": "D"
                }
               ]
              },
              "num_attrs": 5
             }
            },
            "name": "cd_marital_status_Vector",
            "nullable": true,
            "type": {
             "class": "org.apache.spark.ml.linalg.VectorUDT",
             "pyClass": "pyspark.ml.linalg.VectorUDT",
             "sqlType": {
              "fields": [
               {
                "metadata": {},
                "name": "type",
                "nullable": false,
                "type": "byte"
               },
               {
                "metadata": {},
                "name": "size",
                "nullable": true,
                "type": "integer"
               },
               {
                "metadata": {},
                "name": "indices",
                "nullable": true,
                "type": {
                 "containsNull": false,
                 "elementType": "integer",
                 "type": "array"
                }
               },
               {
                "metadata": {},
                "name": "values",
                "nullable": true,
                "type": {
                 "containsNull": false,
                 "elementType": "double",
                 "type": "array"
                }
               }
              ],
              "type": "struct"
             },
             "type": "udt"
            }
           },
           {
            "metadata": {
             "ml_attr": {
              "attrs": {
               "binary": [
                {
                 "idx": 0,
                 "name": "Advanced Degree"
                },
                {
                 "idx": 1,
                 "name": "2 yr Degree"
                },
                {
                 "idx": 2,
                 "name": "Unknown"
                },
                {
                 "idx": 3,
                 "name": "4 yr Degree"
                },
                {
                 "idx": 4,
                 "name": "College"
                },
                {
                 "idx": 5,
                 "name": "Primary"
                },
                {
                 "idx": 6,
                 "name": "Secondary"
                }
               ]
              },
              "num_attrs": 7
             }
            },
            "name": "cd_education_status_Vector",
            "nullable": true,
            "type": {
             "class": "org.apache.spark.ml.linalg.VectorUDT",
             "pyClass": "pyspark.ml.linalg.VectorUDT",
             "sqlType": {
              "fields": [
               {
                "metadata": {},
                "name": "type",
                "nullable": false,
                "type": "byte"
               },
               {
                "metadata": {},
                "name": "size",
                "nullable": true,
                "type": "integer"
               },
               {
                "metadata": {},
                "name": "indices",
                "nullable": true,
                "type": {
                 "containsNull": false,
                 "elementType": "integer",
                 "type": "array"
                }
               },
               {
                "metadata": {},
                "name": "values",
                "nullable": true,
                "type": {
                 "containsNull": false,
                 "elementType": "double",
                 "type": "array"
                }
               }
              ],
              "type": "struct"
             },
             "type": "udt"
            }
           },
           {
            "metadata": {
             "ml_attr": {
              "attrs": {
               "binary": [
                {
                 "idx": 0,
                 "name": "High Risk"
                },
                {
                 "idx": 1,
                 "name": "Low Risk"
                },
                {
                 "idx": 2,
                 "name": "Unknown"
                },
                {
                 "idx": 3,
                 "name": "Good"
                }
               ]
              },
              "num_attrs": 4
             }
            },
            "name": "cd_credit_rating_Vector",
            "nullable": true,
            "type": {
             "class": "org.apache.spark.ml.linalg.VectorUDT",
             "pyClass": "pyspark.ml.linalg.VectorUDT",
             "sqlType": {
              "fields": [
               {
                "metadata": {},
                "name": "type",
                "nullable": false,
                "type": "byte"
               },
               {
                "metadata": {},
                "name": "size",
                "nullable": true,
                "type": "integer"
               },
               {
                "metadata": {},
                "name": "indices",
                "nullable": true,
                "type": {
                 "containsNull": false,
                 "elementType": "integer",
                 "type": "array"
                }
               },
               {
                "metadata": {},
                "name": "values",
                "nullable": true,
                "type": {
                 "containsNull": false,
                 "elementType": "double",
                 "type": "array"
                }
               }
              ],
              "type": "struct"
             },
             "type": "udt"
            }
           }
          ],
          "type": "struct"
         },
         "tableIdentifier": null,
         "typeStr": "pyspark.sql.dataframe.DataFrame"
        },
        {
         "name": "test",
         "schema": {
          "fields": [
           {
            "metadata": {},
            "name": "preferred_Cust_Flag_Num",
            "nullable": true,
            "type": "integer"
           },
           {
            "metadata": {},
            "name": "birth_Day",
            "nullable": true,
            "type": "integer"
           },
           {
            "metadata": {},
            "name": "birth_Month",
            "nullable": true,
            "type": "integer"
           },
           {
            "metadata": {},
            "name": "birth_Year",
            "nullable": true,
            "type": "integer"
           },
           {
            "metadata": {},
            "name": "cd_purchase_estimate",
            "nullable": true,
            "type": "integer"
           },
           {
            "metadata": {},
            "name": "cd_dep_count",
            "nullable": true,
            "type": "integer"
           },
           {
            "metadata": {},
            "name": "cd_dep_employed_count",
            "nullable": true,
            "type": "integer"
           },
           {
            "metadata": {},
            "name": "cd_dep_college_count",
            "nullable": true,
            "type": "integer"
           },
           {
            "metadata": {
             "ml_attr": {
              "attrs": {
               "binary": [
                {
                 "idx": 0,
                 "name": "Dr."
                },
                {
                 "idx": 1,
                 "name": "Mr."
                },
                {
                 "idx": 2,
                 "name": "Sir"
                },
                {
                 "idx": 3,
                 "name": "Mrs."
                },
                {
                 "idx": 4,
                 "name": "Ms."
                },
                {
                 "idx": 5,
                 "name": "Miss"
                }
               ]
              },
              "num_attrs": 6
             }
            },
            "name": "salutation_Vector",
            "nullable": true,
            "type": {
             "class": "org.apache.spark.ml.linalg.VectorUDT",
             "pyClass": "pyspark.ml.linalg.VectorUDT",
             "sqlType": {
              "fields": [
               {
                "metadata": {},
                "name": "type",
                "nullable": false,
                "type": "byte"
               },
               {
                "metadata": {},
                "name": "size",
                "nullable": true,
                "type": "integer"
               },
               {
                "metadata": {},
                "name": "indices",
                "nullable": true,
                "type": {
                 "containsNull": false,
                 "elementType": "integer",
                 "type": "array"
                }
               },
               {
                "metadata": {},
                "name": "values",
                "nullable": true,
                "type": {
                 "containsNull": false,
                 "elementType": "double",
                 "type": "array"
                }
               }
              ],
              "type": "struct"
             },
             "type": "udt"
            }
           },
           {
            "metadata": {
             "ml_attr": {
              "attrs": {
               "binary": [
                {
                 "idx": 0,
                 "name": "M"
                },
                {
                 "idx": 1,
                 "name": "F"
                }
               ]
              },
              "num_attrs": 2
             }
            },
            "name": "cd_gender_Vector",
            "nullable": true,
            "type": {
             "class": "org.apache.spark.ml.linalg.VectorUDT",
             "pyClass": "pyspark.ml.linalg.VectorUDT",
             "sqlType": {
              "fields": [
               {
                "metadata": {},
                "name": "type",
                "nullable": false,
                "type": "byte"
               },
               {
                "metadata": {},
                "name": "size",
                "nullable": true,
                "type": "integer"
               },
               {
                "metadata": {},
                "name": "indices",
                "nullable": true,
                "type": {
                 "containsNull": false,
                 "elementType": "integer",
                 "type": "array"
                }
               },
               {
                "metadata": {},
                "name": "values",
                "nullable": true,
                "type": {
                 "containsNull": false,
                 "elementType": "double",
                 "type": "array"
                }
               }
              ],
              "type": "struct"
             },
             "type": "udt"
            }
           },
           {
            "metadata": {
             "ml_attr": {
              "attrs": {
               "binary": [
                {
                 "idx": 0,
                 "name": "S"
                },
                {
                 "idx": 1,
                 "name": "U"
                },
                {
                 "idx": 2,
                 "name": "W"
                },
                {
                 "idx": 3,
                 "name": "M"
                },
                {
                 "idx": 4,
                 "name": "D"
                }
               ]
              },
              "num_attrs": 5
             }
            },
            "name": "cd_marital_status_Vector",
            "nullable": true,
            "type": {
             "class": "org.apache.spark.ml.linalg.VectorUDT",
             "pyClass": "pyspark.ml.linalg.VectorUDT",
             "sqlType": {
              "fields": [
               {
                "metadata": {},
                "name": "type",
                "nullable": false,
                "type": "byte"
               },
               {
                "metadata": {},
                "name": "size",
                "nullable": true,
                "type": "integer"
               },
               {
                "metadata": {},
                "name": "indices",
                "nullable": true,
                "type": {
                 "containsNull": false,
                 "elementType": "integer",
                 "type": "array"
                }
               },
               {
                "metadata": {},
                "name": "values",
                "nullable": true,
                "type": {
                 "containsNull": false,
                 "elementType": "double",
                 "type": "array"
                }
               }
              ],
              "type": "struct"
             },
             "type": "udt"
            }
           },
           {
            "metadata": {
             "ml_attr": {
              "attrs": {
               "binary": [
                {
                 "idx": 0,
                 "name": "Advanced Degree"
                },
                {
                 "idx": 1,
                 "name": "2 yr Degree"
                },
                {
                 "idx": 2,
                 "name": "Unknown"
                },
                {
                 "idx": 3,
                 "name": "4 yr Degree"
                },
                {
                 "idx": 4,
                 "name": "College"
                },
                {
                 "idx": 5,
                 "name": "Primary"
                },
                {
                 "idx": 6,
                 "name": "Secondary"
                }
               ]
              },
              "num_attrs": 7
             }
            },
            "name": "cd_education_status_Vector",
            "nullable": true,
            "type": {
             "class": "org.apache.spark.ml.linalg.VectorUDT",
             "pyClass": "pyspark.ml.linalg.VectorUDT",
             "sqlType": {
              "fields": [
               {
                "metadata": {},
                "name": "type",
                "nullable": false,
                "type": "byte"
               },
               {
                "metadata": {},
                "name": "size",
                "nullable": true,
                "type": "integer"
               },
               {
                "metadata": {},
                "name": "indices",
                "nullable": true,
                "type": {
                 "containsNull": false,
                 "elementType": "integer",
                 "type": "array"
                }
               },
               {
                "metadata": {},
                "name": "values",
                "nullable": true,
                "type": {
                 "containsNull": false,
                 "elementType": "double",
                 "type": "array"
                }
               }
              ],
              "type": "struct"
             },
             "type": "udt"
            }
           },
           {
            "metadata": {
             "ml_attr": {
              "attrs": {
               "binary": [
                {
                 "idx": 0,
                 "name": "High Risk"
                },
                {
                 "idx": 1,
                 "name": "Low Risk"
                },
                {
                 "idx": 2,
                 "name": "Unknown"
                },
                {
                 "idx": 3,
                 "name": "Good"
                }
               ]
              },
              "num_attrs": 4
             }
            },
            "name": "cd_credit_rating_Vector",
            "nullable": true,
            "type": {
             "class": "org.apache.spark.ml.linalg.VectorUDT",
             "pyClass": "pyspark.ml.linalg.VectorUDT",
             "sqlType": {
              "fields": [
               {
                "metadata": {},
                "name": "type",
                "nullable": false,
                "type": "byte"
               },
               {
                "metadata": {},
                "name": "size",
                "nullable": true,
                "type": "integer"
               },
               {
                "metadata": {},
                "name": "indices",
                "nullable": true,
                "type": {
                 "containsNull": false,
                 "elementType": "integer",
                 "type": "array"
                }
               },
               {
                "metadata": {},
                "name": "values",
                "nullable": true,
                "type": {
                 "containsNull": false,
                 "elementType": "double",
                 "type": "array"
                }
               }
              ],
              "type": "struct"
             },
             "type": "udt"
            }
           }
          ],
          "type": "struct"
         },
         "tableIdentifier": null,
         "typeStr": "pyspark.sql.dataframe.DataFrame"
        }
       ],
       "removedWidgets": [],
       "type": "html"
      }
     },
     "output_type": "display_data"
    }
   ],
   "source": [
    "import mlflow\n",
    "import mlflow.spark\n",
    "from pyspark.ml.feature import VectorAssembler, StandardScaler\n",
    "from pyspark.ml.classification import LogisticRegression, RandomForestClassifier\n",
    "from pyspark.ml import Pipeline\n",
    "from pyspark.ml.evaluation import BinaryClassificationEvaluator\n",
    "from pyspark.mllib.evaluation import BinaryClassificationMetrics\n",
    "import mlflow\n",
    "\n",
    "mlflow.set_experiment(\"/hbldatalake_mlflow\")\n",
    "\n",
    "def evalMetrics(summary):\n",
    "  accuracy=summary.accuracy\n",
    "  auc = summary.areaUnderROC\n",
    "  return (accuracy, auc)\n",
    "\n",
    "#begin pipeline run\n",
    "with mlflow.start_run() as run:\n",
    "  \n",
    "  maxIter=100\n",
    "  \n",
    "  #split dataset into training and testing\n",
    "  featureColumns = [\n",
    "    # label目标值字段\n",
    "    \"preferred_Cust_Flag_Num\",  \n",
    "    # 特征值字段\n",
    "    \"birth_Day\", \n",
    "    \"birth_Month\",\n",
    "    \"birth_Year\",\n",
    "    \"cd_purchase_estimate\",\n",
    "    \"cd_dep_count\",\n",
    "    \"cd_dep_employed_count\",\n",
    "    \"cd_dep_college_count\",\n",
    "    \"salutation_Vector\",\n",
    "    \"cd_gender_Vector\",\n",
    "    \"cd_marital_status_Vector\",\n",
    "    \"cd_education_status_Vector\",\n",
    "    \"cd_credit_rating_Vector\"\n",
    "]\n",
    "  (train,test) = df_model.select(*featureColumns).na.drop().randomSplit([0.8,0.2])\n",
    "  ftCols = train.columns[1:]\n",
    "  \n",
    "  trainCount=train.count()\n",
    "  testCount=test.count()\n",
    "  mlflow.log_param(\"trainCount\", trainCount)\n",
    "  mlflow.log_param(\"testCount\", testCount)\n",
    "  \n",
    "  assembler=VectorAssembler(inputCols=ftCols, outputCol=\"featureVector\")\n",
    "  scaler=StandardScaler(inputCol=\"featureVector\",outputCol=\"features\",withStd=True,withMean=False)\n",
    "  lr=LogisticRegression(featuresCol=\"features\",labelCol=\"preferred_Cust_Flag_Num\",maxIter=100)\n",
    "  pipeline=Pipeline(stages=[assembler,scaler,lr])\n",
    "  \n",
    "  #fit the model\n",
    "  model=pipeline.fit(train)\n",
    "  lrModel=model.stages[-1]\n",
    "  \n",
    "  #Get Metrics\n",
    "  (accuracy, auc) = evalMetrics(lrModel.summary)\n",
    "  \n",
    "  #Log mlflow metrics for the LR model\n",
    "  mlflow.log_metric(\"accuracy\", accuracy)\n",
    "  mlflow.log_metric(\"auc\", auc)\n",
    "  \n",
    "  #log model generated\n",
    "  mlflow.spark.log_model(model,\"lrModel\")"
   ]
  },
  {
   "cell_type": "code",
   "execution_count": 0,
   "metadata": {
    "application/vnd.databricks.v1+cell": {
     "inputWidgets": {},
     "nuid": "4633bb07-9981-49bd-8270-d9bb6964618d",
     "showTitle": false,
     "title": ""
    }
   },
   "outputs": [
    {
     "data": {
      "text/html": [
       "<style scoped>\n",
       "  .ansiout {\n",
       "    display: block;\n",
       "    unicode-bidi: embed;\n",
       "    white-space: pre-wrap;\n",
       "    word-wrap: break-word;\n",
       "    word-break: break-all;\n",
       "    font-family: \"Source Code Pro\", \"Menlo\", monospace;;\n",
       "    font-size: 13px;\n",
       "    color: #555;\n",
       "    margin-left: 4px;\n",
       "    line-height: 19px;\n",
       "  }\n",
       "</style>\n",
       "<div class=\"ansiout\"></div>"
      ]
     },
     "metadata": {
      "application/vnd.databricks.v1+output": {
       "addedWidgets": {},
       "arguments": {},
       "data": "<div class=\"ansiout\"></div>",
       "datasetInfos": [],
       "removedWidgets": [],
       "type": "html"
      }
     },
     "output_type": "display_data"
    }
   ],
   "source": [
    " mlflow.end_run()"
   ]
  },
  {
   "cell_type": "code",
   "execution_count": 0,
   "metadata": {
    "application/vnd.databricks.v1+cell": {
     "inputWidgets": {},
     "nuid": "ca901060-7d19-49b3-bbee-915976393af4",
     "showTitle": false,
     "title": ""
    }
   },
   "outputs": [],
   "source": []
  }
 ],
 "metadata": {
  "application/vnd.databricks.v1+notebook": {
   "dashboards": [],
   "language": "python",
   "notebookName": "hbldatalake",
   "notebookOrigID": 1215068972707922,
   "widgets": {}
  },
  "kernelspec": {
   "display_name": "Python 3",
   "language": "python",
   "name": "python3"
  },
  "language_info": {
   "codemirror_mode": {
    "name": "ipython",
    "version": 3
   },
   "file_extension": ".py",
   "mimetype": "text/x-python",
   "name": "python",
   "nbconvert_exporter": "python",
   "pygments_lexer": "ipython3",
   "version": "3.7.3"
  }
 },
 "nbformat": 4,
 "nbformat_minor": 1
}
