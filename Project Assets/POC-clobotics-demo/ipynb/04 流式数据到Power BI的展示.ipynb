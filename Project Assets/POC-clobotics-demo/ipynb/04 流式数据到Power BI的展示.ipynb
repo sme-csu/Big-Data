{
 "cells": [
  {
   "cell_type": "markdown",
   "metadata": {},
   "source": [
    "# 流式数据到Power BI的展示\n",
    "\n",
    "## 创建流数据集\n",
    "\n",
    "![08](https://i.loli.net/2021/02/22/EvWNOuCxjL9aynA.png)\n",
    "\n",
    "## 配置流数据集的结构\n",
    "\n",
    "数据结构要和dataframe里的列一致，列名和列类型一致。\n",
    "\n",
    "![09](https://i.loli.net/2021/02/22/7ixZVLwsQAGaDFB.png)\n",
    "\n",
    "## 获取流数据集的API\n",
    "\n",
    "拷贝推送URL。\n",
    "\n",
    "![10](https://i.loli.net/2021/02/22/K9LVGx5npDQ1JId.png)\n",
    "\n",
    "## 下载databricks cli\n",
    "\n",
    "下载链接：[databricks cli](https://docs.microsoft.com/en-us/azure/databricks/dev-tools/cli/)\n",
    "\n",
    "此处建议用python的pip来安装。"
   ]
  },
  {
   "cell_type": "markdown",
   "metadata": {},
   "source": [
    "## 配置databricks"
   ]
  },
  {
   "cell_type": "code",
   "execution_count": null,
   "metadata": {},
   "outputs": [],
   "source": [
    "databricks configure --token"
   ]
  },
  {
   "cell_type": "markdown",
   "metadata": {},
   "source": [
    "输入adb的host和token进行注册。"
   ]
  },
  {
   "cell_type": "markdown",
   "metadata": {},
   "source": [
    "## 创建加密url\n",
    "\n",
    "**语法：**"
   ]
  },
  {
   "cell_type": "code",
   "execution_count": null,
   "metadata": {},
   "outputs": [],
   "source": [
    "databricks secrets create-scope --scope scope名称 --initial-manage-principal users"
   ]
  },
  {
   "cell_type": "markdown",
   "metadata": {},
   "source": [
    "**例如：**"
   ]
  },
  {
   "cell_type": "code",
   "execution_count": null,
   "metadata": {},
   "outputs": [],
   "source": [
    "databricks secrets create-scope --scope powerbi --initial-manage-principal users"
   ]
  },
  {
   "cell_type": "markdown",
   "metadata": {},
   "source": [
    "**语法：**"
   ]
  },
  {
   "cell_type": "code",
   "execution_count": null,
   "metadata": {},
   "outputs": [],
   "source": [
    "databricks secrets put --scope scope名称 --key key名称"
   ]
  },
  {
   "cell_type": "markdown",
   "metadata": {},
   "source": [
    "**例如：**"
   ]
  },
  {
   "cell_type": "code",
   "execution_count": null,
   "metadata": {},
   "outputs": [],
   "source": [
    "databricks secrets put --scope powerbi --key skusensorstreamingapi"
   ]
  },
  {
   "cell_type": "markdown",
   "metadata": {},
   "source": [
    "最后输入推送Url保存退出。"
   ]
  },
  {
   "cell_type": "markdown",
   "metadata": {},
   "source": [
    "## 调用\n",
    "\n",
    "导入PysparkPowerBIStreaming.PowerBIStreaming的whl包：\n",
    "\n",
    "![11](https://i.loli.net/2021/02/22/8lvbdAyKtsxRYZa.png)\n",
    "\n",
    "## 在python notebook中引入包"
   ]
  },
  {
   "cell_type": "code",
   "execution_count": null,
   "metadata": {},
   "outputs": [],
   "source": [
    "from PysparkPowerBIStreaming.PowerBIStreaming import PowerBIStreaming\n",
    "\n",
    "…"
   ]
  },
  {
   "cell_type": "markdown",
   "metadata": {},
   "source": [
    "创建与powerbi流数据集一样格式的pyspark.sql.dataframe.DataFrame对象\n",
    "\n",
    "…"
   ]
  },
  {
   "cell_type": "markdown",
   "metadata": {},
   "source": [
    "**实例化powerbi对象语法：**"
   ]
  },
  {
   "cell_type": "code",
   "execution_count": null,
   "metadata": {},
   "outputs": [],
   "source": [
    "powerbi = PowerBIStreaming(dbutils, \"scope名称\", \"key名称\")"
   ]
  },
  {
   "cell_type": "markdown",
   "metadata": {},
   "source": [
    "**例如：**"
   ]
  },
  {
   "cell_type": "code",
   "execution_count": null,
   "metadata": {},
   "outputs": [],
   "source": [
    "powerbi = PowerBIStreaming(dbutils, \"powerbi\", \"skusensorstreamingapi\")"
   ]
  },
  {
   "cell_type": "markdown",
   "metadata": {},
   "source": [
    "**运行：**"
   ]
  },
  {
   "cell_type": "code",
   "execution_count": null,
   "metadata": {},
   "outputs": [],
   "source": [
    "powerbi.sendBatch(DataFrame对象)"
   ]
  },
  {
   "cell_type": "markdown",
   "metadata": {},
   "source": [
    "**例如：**"
   ]
  },
  {
   "cell_type": "code",
   "execution_count": null,
   "metadata": {},
   "outputs": [],
   "source": [
    "powerbi.sendBatch(df) "
   ]
  },
  {
   "cell_type": "markdown",
   "metadata": {},
   "source": [
    "## 关键代码"
   ]
  },
  {
   "cell_type": "code",
   "execution_count": 0,
   "metadata": {
    "application/vnd.databricks.v1+cell": {
     "inputWidgets": {},
     "nuid": "71648e18-ac69-4890-b254-98fa64c3430f",
     "showTitle": false,
     "title": ""
    }
   },
   "outputs": [
    {
     "data": {
      "text/html": [
       "<style scoped>\n",
       "  .table-result-container {\n",
       "    max-height: 300px;\n",
       "    overflow: auto;\n",
       "  }\n",
       "  table, th, td {\n",
       "    border: 1px solid black;\n",
       "    border-collapse: collapse;\n",
       "  }\n",
       "  th, td {\n",
       "    padding: 5px;\n",
       "  }\n",
       "  th {\n",
       "    text-align: left;\n",
       "  }\n",
       "</style><div class='table-result-container'><table class='table-result'><thead style='background-color: white'><tr><th>storeid</th><th>timestamp</th><th>SKU</th></tr></thead><tbody><tr><td>store123</td><td>2020-12-24 03:42:17</td><td>15</td></tr><tr><td>store123</td><td>2020-12-24 03:42:27</td><td>13</td></tr><tr><td>store123</td><td>2020-12-24 03:42:37</td><td>8</td></tr><tr><td>store123</td><td>2020-12-24 03:42:47</td><td>6</td></tr><tr><td>store123</td><td>2020-12-24 03:42:58</td><td>2</td></tr><tr><td>store123</td><td>2020-12-24 03:43:08</td><td>20</td></tr><tr><td>store123</td><td>2020-12-24 03:43:18</td><td>16</td></tr><tr><td>store123</td><td>2020-12-24 03:43:28</td><td>13</td></tr><tr><td>store123</td><td>2020-12-24 03:43:38</td><td>10</td></tr><tr><td>store123</td><td>2020-12-24 03:43:48</td><td>9</td></tr><tr><td>store123</td><td>2020-12-24 03:43:58</td><td>6</td></tr><tr><td>store123</td><td>2020-12-24 03:44:08</td><td>4</td></tr><tr><td>store123</td><td>2020-12-24 03:44:18</td><td>20</td></tr><tr><td>store123</td><td>2020-12-24 03:44:28</td><td>19</td></tr><tr><td>store123</td><td>2020-12-24 03:44:38</td><td>14</td></tr><tr><td>store123</td><td>2020-12-24 03:44:48</td><td>12</td></tr><tr><td>store123</td><td>2020-12-24 03:44:58</td><td>10</td></tr><tr><td>store123</td><td>2020-12-24 03:45:08</td><td>9</td></tr><tr><td>store123</td><td>2020-12-24 03:45:18</td><td>8</td></tr><tr><td>store123</td><td>2020-12-24 03:45:28</td><td>7</td></tr><tr><td>store123</td><td>2020-12-24 03:45:38</td><td>2</td></tr><tr><td>store123</td><td>2020-12-24 03:45:48</td><td>20</td></tr><tr><td>store123</td><td>2020-12-24 03:45:58</td><td>19</td></tr><tr><td>store123</td><td>2020-12-24 03:46:08</td><td>17</td></tr><tr><td>store123</td><td>2020-12-24 03:46:18</td><td>15</td></tr><tr><td>store123</td><td>2020-12-24 03:46:28</td><td>10</td></tr><tr><td>store123</td><td>2020-12-24 03:46:38</td><td>7</td></tr><tr><td>store123</td><td>2020-12-24 03:46:48</td><td>6</td></tr><tr><td>store123</td><td>2020-12-24 03:46:58</td><td>1</td></tr><tr><td>store123</td><td>2020-12-24 03:47:08</td><td>20</td></tr><tr><td>store123</td><td>2020-12-24 03:47:18</td><td>17</td></tr><tr><td>store123</td><td>2020-12-24 03:47:28</td><td>13</td></tr><tr><td>store123</td><td>2020-12-24 03:47:38</td><td>11</td></tr><tr><td>store123</td><td>2020-12-24 03:47:49</td><td>8</td></tr><tr><td>store123</td><td>2020-12-24 03:47:59</td><td>4</td></tr><tr><td>store123</td><td>2020-12-24 03:48:09</td><td>20</td></tr><tr><td>store123</td><td>2020-12-24 03:48:19</td><td>19</td></tr><tr><td>store123</td><td>2020-12-24 03:48:29</td><td>18</td></tr><tr><td>store123</td><td>2020-12-24 03:48:39</td><td>15</td></tr><tr><td>store123</td><td>2020-12-24 03:48:49</td><td>13</td></tr><tr><td>store123</td><td>2020-12-24 03:48:59</td><td>12</td></tr><tr><td>store123</td><td>2020-12-24 03:49:09</td><td>7</td></tr><tr><td>store123</td><td>2020-12-24 03:49:19</td><td>5</td></tr><tr><td>store123</td><td>2020-12-24 03:49:29</td><td>20</td></tr><tr><td>store123</td><td>2020-12-24 03:49:39</td><td>17</td></tr><tr><td>store123</td><td>2020-12-24 03:49:49</td><td>12</td></tr><tr><td>store123</td><td>2020-12-24 03:49:59</td><td>8</td></tr><tr><td>store123</td><td>2020-12-24 03:50:09</td><td>7</td></tr><tr><td>store123</td><td>2020-12-24 03:50:19</td><td>2</td></tr><tr><td>store123</td><td>2020-12-24 03:50:29</td><td>20</td></tr><tr><td>store123</td><td>2020-12-24 03:50:39</td><td>17</td></tr><tr><td>store123</td><td>2020-12-24 03:50:49</td><td>15</td></tr><tr><td>store123</td><td>2020-12-24 03:50:59</td><td>12</td></tr><tr><td>store123</td><td>2020-12-24 03:51:09</td><td>10</td></tr><tr><td>store123</td><td>2020-12-24 03:51:19</td><td>6</td></tr><tr><td>store123</td><td>2020-12-24 03:51:29</td><td>3</td></tr><tr><td>store123</td><td>2020-12-24 03:51:40</td><td>20</td></tr><tr><td>store123</td><td>2020-12-24 03:51:50</td><td>17</td></tr><tr><td>store123</td><td>2020-12-24 03:52:00</td><td>16</td></tr><tr><td>store123</td><td>2020-12-24 03:52:10</td><td>14</td></tr><tr><td>store123</td><td>2020-12-24 03:52:20</td><td>9</td></tr><tr><td>store123</td><td>2020-12-24 03:52:30</td><td>6</td></tr><tr><td>store123</td><td>2020-12-24 03:52:40</td><td>5</td></tr><tr><td>store123</td><td>2020-12-24 03:52:50</td><td>20</td></tr><tr><td>store123</td><td>2020-12-24 03:53:00</td><td>19</td></tr><tr><td>store123</td><td>2020-12-24 03:53:10</td><td>15</td></tr><tr><td>store123</td><td>2020-12-24 03:53:20</td><td>12</td></tr><tr><td>store123</td><td>2020-12-24 03:53:30</td><td>7</td></tr><tr><td>store123</td><td>2020-12-24 03:53:40</td><td>5</td></tr><tr><td>store123</td><td>2020-12-24 03:53:50</td><td>20</td></tr><tr><td>store123</td><td>2020-12-24 03:54:00</td><td>15</td></tr><tr><td>store123</td><td>2020-12-24 03:54:10</td><td>13</td></tr><tr><td>store123</td><td>2020-12-24 03:54:20</td><td>11</td></tr><tr><td>store123</td><td>2020-12-24 03:54:30</td><td>9</td></tr><tr><td>store123</td><td>2020-12-24 03:54:40</td><td>7</td></tr><tr><td>store123</td><td>2020-12-24 03:54:50</td><td>6</td></tr><tr><td>store123</td><td>2020-12-24 03:55:00</td><td>2</td></tr><tr><td>store123</td><td>2020-12-24 03:55:10</td><td>20</td></tr><tr><td>store123</td><td>2020-12-24 03:55:20</td><td>17</td></tr><tr><td>store123</td><td>2020-12-24 03:55:30</td><td>13</td></tr><tr><td>store123</td><td>2020-12-24 03:55:40</td><td>10</td></tr><tr><td>store123</td><td>2020-12-24 03:55:50</td><td>6</td></tr><tr><td>store123</td><td>2020-12-24 03:56:00</td><td>4</td></tr><tr><td>store123</td><td>2020-12-24 03:56:10</td><td>20</td></tr><tr><td>store123</td><td>2020-12-24 03:56:20</td><td>16</td></tr><tr><td>store123</td><td>2020-12-24 03:56:30</td><td>14</td></tr><tr><td>store123</td><td>2020-12-24 03:56:40</td><td>10</td></tr><tr><td>store123</td><td>2020-12-24 03:56:50</td><td>7</td></tr><tr><td>store123</td><td>2020-12-24 03:57:00</td><td>3</td></tr><tr><td>store123</td><td>2020-12-24 03:57:10</td><td>20</td></tr><tr><td>store123</td><td>2020-12-24 03:57:20</td><td>15</td></tr><tr><td>store123</td><td>2020-12-24 03:57:31</td><td>10</td></tr><tr><td>store123</td><td>2020-12-24 03:57:41</td><td>6</td></tr><tr><td>store123</td><td>2020-12-24 03:57:51</td><td>5</td></tr><tr><td>store123</td><td>2020-12-24 03:58:01</td><td>20</td></tr><tr><td>store123</td><td>2020-12-24 03:58:11</td><td>15</td></tr><tr><td>store123</td><td>2020-12-24 03:58:21</td><td>10</td></tr><tr><td>store123</td><td>2020-12-24 03:58:31</td><td>7</td></tr><tr><td>store123</td><td>2020-12-24 03:58:41</td><td>3</td></tr><tr><td>store123</td><td>2020-12-24 03:58:51</td><td>20</td></tr><tr><td>store123</td><td>2020-12-24 03:59:01</td><td>19</td></tr><tr><td>store123</td><td>2020-12-24 03:59:11</td><td>15</td></tr><tr><td>store123</td><td>2020-12-24 03:59:21</td><td>10</td></tr><tr><td>store123</td><td>2020-12-24 03:59:31</td><td>9</td></tr><tr><td>store123</td><td>2020-12-24 03:59:41</td><td>5</td></tr><tr><td>store123</td><td>2020-12-24 03:59:51</td><td>20</td></tr><tr><td>store123</td><td>2020-12-24 04:00:01</td><td>19</td></tr><tr><td>store123</td><td>2020-12-24 04:00:11</td><td>15</td></tr><tr><td>store123</td><td>2020-12-24 04:00:21</td><td>11</td></tr><tr><td>store123</td><td>2020-12-24 04:00:31</td><td>9</td></tr><tr><td>store123</td><td>2020-12-24 04:00:41</td><td>6</td></tr><tr><td>store123</td><td>2020-12-24 04:00:51</td><td>2</td></tr><tr><td>store123</td><td>2020-12-24 04:01:01</td><td>20</td></tr><tr><td>store123</td><td>2020-12-24 04:01:11</td><td>19</td></tr><tr><td>store123</td><td>2020-12-24 04:01:21</td><td>17</td></tr><tr><td>store123</td><td>2020-12-24 04:01:31</td><td>15</td></tr><tr><td>store123</td><td>2020-12-24 04:01:41</td><td>14</td></tr><tr><td>store123</td><td>2020-12-24 04:01:51</td><td>9</td></tr><tr><td>store123</td><td>2020-12-24 04:02:01</td><td>8</td></tr><tr><td>store123</td><td>2020-12-24 04:02:11</td><td>3</td></tr><tr><td>store123</td><td>2020-12-24 04:02:21</td><td>20</td></tr><tr><td>store123</td><td>2020-12-24 04:02:31</td><td>18</td></tr><tr><td>store123</td><td>2020-12-24 04:02:41</td><td>13</td></tr><tr><td>store123</td><td>2020-12-24 04:02:51</td><td>11</td></tr><tr><td>store123</td><td>2020-12-24 04:03:01</td><td>6</td></tr><tr><td>store123</td><td>2020-12-24 04:03:11</td><td>2</td></tr><tr><td>store123</td><td>2020-12-24 04:03:22</td><td>20</td></tr><tr><td>store123</td><td>2020-12-24 04:03:32</td><td>15</td></tr><tr><td>store123</td><td>2020-12-24 04:03:42</td><td>13</td></tr><tr><td>store123</td><td>2020-12-24 04:03:52</td><td>10</td></tr><tr><td>store123</td><td>2020-12-24 04:04:02</td><td>5</td></tr><tr><td>store123</td><td>2020-12-24 04:04:12</td><td>20</td></tr><tr><td>store123</td><td>2020-12-24 04:04:22</td><td>17</td></tr><tr><td>store123</td><td>2020-12-24 04:04:32</td><td>16</td></tr><tr><td>store123</td><td>2020-12-24 04:04:42</td><td>13</td></tr><tr><td>store123</td><td>2020-12-24 04:04:52</td><td>12</td></tr><tr><td>store123</td><td>2020-12-24 04:05:02</td><td>8</td></tr><tr><td>store123</td><td>2020-12-24 04:05:12</td><td>4</td></tr><tr><td>store123</td><td>2020-12-24 04:05:22</td><td>20</td></tr><tr><td>store123</td><td>2020-12-24 04:05:32</td><td>18</td></tr><tr><td>store123</td><td>2020-12-24 04:05:42</td><td>14</td></tr><tr><td>store123</td><td>2020-12-24 04:05:52</td><td>10</td></tr><tr><td>store123</td><td>2020-12-24 04:06:02</td><td>6</td></tr><tr><td>store123</td><td>2020-12-24 04:06:12</td><td>5</td></tr><tr><td>store123</td><td>2020-12-24 04:06:22</td><td>20</td></tr><tr><td>store123</td><td>2020-12-24 04:06:32</td><td>17</td></tr><tr><td>store123</td><td>2020-12-24 04:06:42</td><td>13</td></tr><tr><td>store123</td><td>2020-12-24 04:06:52</td><td>11</td></tr><tr><td>store123</td><td>2020-12-24 04:07:02</td><td>6</td></tr><tr><td>store123</td><td>2020-12-24 04:07:12</td><td>3</td></tr><tr><td>store123</td><td>2020-12-24 04:07:22</td><td>20</td></tr><tr><td>store123</td><td>2020-12-24 04:07:32</td><td>15</td></tr><tr><td>store123</td><td>2020-12-24 04:07:42</td><td>10</td></tr><tr><td>store123</td><td>2020-12-24 04:07:52</td><td>6</td></tr><tr><td>store123</td><td>2020-12-24 04:08:02</td><td>1</td></tr><tr><td>store123</td><td>2020-12-24 04:08:12</td><td>20</td></tr><tr><td>store123</td><td>2020-12-24 04:08:22</td><td>17</td></tr><tr><td>store123</td><td>2020-12-24 04:08:32</td><td>16</td></tr><tr><td>store123</td><td>2020-12-24 04:08:42</td><td>12</td></tr><tr><td>store123</td><td>2020-12-24 04:08:52</td><td>8</td></tr><tr><td>store123</td><td>2020-12-24 04:09:02</td><td>5</td></tr><tr><td>store123</td><td>2020-12-24 04:09:13</td><td>20</td></tr><tr><td>store123</td><td>2020-12-24 04:09:23</td><td>17</td></tr><tr><td>store123</td><td>2020-12-24 04:09:33</td><td>16</td></tr><tr><td>store123</td><td>2020-12-24 04:09:43</td><td>13</td></tr><tr><td>store123</td><td>2020-12-24 04:09:53</td><td>12</td></tr><tr><td>store123</td><td>2020-12-24 04:10:03</td><td>9</td></tr><tr><td>store123</td><td>2020-12-24 04:10:13</td><td>7</td></tr><tr><td>store123</td><td>2020-12-24 04:10:23</td><td>5</td></tr><tr><td>store123</td><td>2020-12-24 04:10:33</td><td>20</td></tr><tr><td>store123</td><td>2020-12-24 04:10:43</td><td>15</td></tr><tr><td>store123</td><td>2020-12-24 04:10:53</td><td>11</td></tr><tr><td>store123</td><td>2020-12-24 04:11:03</td><td>9</td></tr><tr><td>store123</td><td>2020-12-24 04:11:13</td><td>7</td></tr><tr><td>store123</td><td>2020-12-24 04:11:23</td><td>4</td></tr><tr><td>store123</td><td>2020-12-24 04:11:33</td><td>20</td></tr><tr><td>store123</td><td>2020-12-24 04:11:43</td><td>19</td></tr><tr><td>store123</td><td>2020-12-24 04:11:53</td><td>14</td></tr><tr><td>store123</td><td>2020-12-24 04:12:03</td><td>9</td></tr><tr><td>store123</td><td>2020-12-24 04:12:13</td><td>6</td></tr><tr><td>store123</td><td>2020-12-24 04:12:23</td><td>1</td></tr><tr><td>store123</td><td>2020-12-24 04:12:33</td><td>20</td></tr><tr><td>store123</td><td>2020-12-24 04:12:43</td><td>19</td></tr><tr><td>store123</td><td>2020-12-24 04:12:53</td><td>17</td></tr><tr><td>store123</td><td>2020-12-24 04:13:03</td><td>14</td></tr><tr><td>store123</td><td>2020-12-24 04:13:13</td><td>9</td></tr><tr><td>store123</td><td>2020-12-24 04:13:23</td><td>4</td></tr><tr><td>store123</td><td>2020-12-24 04:13:33</td><td>20</td></tr><tr><td>store123</td><td>2020-12-24 04:13:44</td><td>18</td></tr><tr><td>store123</td><td>2020-12-24 04:13:54</td><td>16</td></tr><tr><td>store123</td><td>2020-12-24 04:14:04</td><td>15</td></tr><tr><td>store123</td><td>2020-12-24 04:14:14</td><td>13</td></tr><tr><td>store123</td><td>2020-12-24 04:14:24</td><td>12</td></tr><tr><td>store123</td><td>2020-12-24 04:14:34</td><td>8</td></tr><tr><td>store123</td><td>2020-12-24 04:14:44</td><td>3</td></tr><tr><td>store123</td><td>2020-12-24 04:14:54</td><td>20</td></tr><tr><td>store123</td><td>2020-12-24 04:15:04</td><td>15</td></tr><tr><td>store123</td><td>2020-12-24 04:15:14</td><td>10</td></tr><tr><td>store123</td><td>2020-12-24 04:15:24</td><td>7</td></tr><tr><td>store123</td><td>2020-12-24 04:15:34</td><td>2</td></tr><tr><td>store123</td><td>2020-12-24 04:15:44</td><td>20</td></tr><tr><td>store123</td><td>2020-12-24 04:15:54</td><td>16</td></tr><tr><td>store123</td><td>2020-12-24 04:16:04</td><td>13</td></tr><tr><td>store123</td><td>2020-12-24 04:16:14</td><td>8</td></tr><tr><td>store123</td><td>2020-12-24 04:16:24</td><td>3</td></tr><tr><td>store123</td><td>2020-12-24 04:16:34</td><td>20</td></tr><tr><td>store123</td><td>2020-12-24 04:16:44</td><td>15</td></tr><tr><td>store123</td><td>2020-12-24 04:16:54</td><td>10</td></tr><tr><td>store123</td><td>2020-12-24 04:17:04</td><td>8</td></tr><tr><td>store123</td><td>2020-12-24 04:17:14</td><td>4</td></tr><tr><td>store123</td><td>2020-12-24 04:17:24</td><td>20</td></tr><tr><td>store123</td><td>2020-12-24 04:17:34</td><td>16</td></tr><tr><td>store123</td><td>2020-12-24 04:17:44</td><td>13</td></tr><tr><td>store123</td><td>2020-12-24 04:17:54</td><td>10</td></tr><tr><td>store123</td><td>2020-12-24 04:18:04</td><td>5</td></tr><tr><td>store123</td><td>2020-12-24 04:18:14</td><td>20</td></tr><tr><td>store123</td><td>2020-12-24 04:18:24</td><td>17</td></tr><tr><td>store123</td><td>2020-12-24 04:18:34</td><td>16</td></tr><tr><td>store123</td><td>2020-12-24 04:18:44</td><td>14</td></tr><tr><td>store123</td><td>2020-12-24 04:18:54</td><td>9</td></tr><tr><td>store123</td><td>2020-12-24 04:19:04</td><td>6</td></tr><tr><td>store123</td><td>2020-12-24 04:19:14</td><td>1</td></tr><tr><td>store123</td><td>2020-12-24 04:19:24</td><td>20</td></tr><tr><td>store123</td><td>2020-12-24 04:19:34</td><td>16</td></tr><tr><td>store123</td><td>2020-12-24 04:19:45</td><td>14</td></tr><tr><td>store123</td><td>2020-12-24 04:19:55</td><td>10</td></tr><tr><td>store123</td><td>2020-12-24 04:20:05</td><td>7</td></tr></tbody></table></div>"
      ]
     },
     "metadata": {
      "application/vnd.databricks.v1+output": {
       "addedWidgets": {},
       "aggData": [],
       "aggError": "",
       "aggOverflow": false,
       "aggSchema": [],
       "aggSeriesLimitReached": false,
       "aggType": "",
       "arguments": {},
       "columnCustomDisplayInfos": {},
       "data": [
        [
         "store123",
         "2020-12-24 03:42:17",
         15
        ],
        [
         "store123",
         "2020-12-24 03:42:27",
         13
        ],
        [
         "store123",
         "2020-12-24 03:42:37",
         8
        ],
        [
         "store123",
         "2020-12-24 03:42:47",
         6
        ],
        [
         "store123",
         "2020-12-24 03:42:58",
         2
        ],
        [
         "store123",
         "2020-12-24 03:43:08",
         20
        ],
        [
         "store123",
         "2020-12-24 03:43:18",
         16
        ],
        [
         "store123",
         "2020-12-24 03:43:28",
         13
        ],
        [
         "store123",
         "2020-12-24 03:43:38",
         10
        ],
        [
         "store123",
         "2020-12-24 03:43:48",
         9
        ],
        [
         "store123",
         "2020-12-24 03:43:58",
         6
        ],
        [
         "store123",
         "2020-12-24 03:44:08",
         4
        ],
        [
         "store123",
         "2020-12-24 03:44:18",
         20
        ],
        [
         "store123",
         "2020-12-24 03:44:28",
         19
        ],
        [
         "store123",
         "2020-12-24 03:44:38",
         14
        ],
        [
         "store123",
         "2020-12-24 03:44:48",
         12
        ],
        [
         "store123",
         "2020-12-24 03:44:58",
         10
        ],
        [
         "store123",
         "2020-12-24 03:45:08",
         9
        ],
        [
         "store123",
         "2020-12-24 03:45:18",
         8
        ],
        [
         "store123",
         "2020-12-24 03:45:28",
         7
        ],
        [
         "store123",
         "2020-12-24 03:45:38",
         2
        ],
        [
         "store123",
         "2020-12-24 03:45:48",
         20
        ],
        [
         "store123",
         "2020-12-24 03:45:58",
         19
        ],
        [
         "store123",
         "2020-12-24 03:46:08",
         17
        ],
        [
         "store123",
         "2020-12-24 03:46:18",
         15
        ],
        [
         "store123",
         "2020-12-24 03:46:28",
         10
        ],
        [
         "store123",
         "2020-12-24 03:46:38",
         7
        ],
        [
         "store123",
         "2020-12-24 03:46:48",
         6
        ],
        [
         "store123",
         "2020-12-24 03:46:58",
         1
        ],
        [
         "store123",
         "2020-12-24 03:47:08",
         20
        ],
        [
         "store123",
         "2020-12-24 03:47:18",
         17
        ],
        [
         "store123",
         "2020-12-24 03:47:28",
         13
        ],
        [
         "store123",
         "2020-12-24 03:47:38",
         11
        ],
        [
         "store123",
         "2020-12-24 03:47:49",
         8
        ],
        [
         "store123",
         "2020-12-24 03:47:59",
         4
        ],
        [
         "store123",
         "2020-12-24 03:48:09",
         20
        ],
        [
         "store123",
         "2020-12-24 03:48:19",
         19
        ],
        [
         "store123",
         "2020-12-24 03:48:29",
         18
        ],
        [
         "store123",
         "2020-12-24 03:48:39",
         15
        ],
        [
         "store123",
         "2020-12-24 03:48:49",
         13
        ],
        [
         "store123",
         "2020-12-24 03:48:59",
         12
        ],
        [
         "store123",
         "2020-12-24 03:49:09",
         7
        ],
        [
         "store123",
         "2020-12-24 03:49:19",
         5
        ],
        [
         "store123",
         "2020-12-24 03:49:29",
         20
        ],
        [
         "store123",
         "2020-12-24 03:49:39",
         17
        ],
        [
         "store123",
         "2020-12-24 03:49:49",
         12
        ],
        [
         "store123",
         "2020-12-24 03:49:59",
         8
        ],
        [
         "store123",
         "2020-12-24 03:50:09",
         7
        ],
        [
         "store123",
         "2020-12-24 03:50:19",
         2
        ],
        [
         "store123",
         "2020-12-24 03:50:29",
         20
        ],
        [
         "store123",
         "2020-12-24 03:50:39",
         17
        ],
        [
         "store123",
         "2020-12-24 03:50:49",
         15
        ],
        [
         "store123",
         "2020-12-24 03:50:59",
         12
        ],
        [
         "store123",
         "2020-12-24 03:51:09",
         10
        ],
        [
         "store123",
         "2020-12-24 03:51:19",
         6
        ],
        [
         "store123",
         "2020-12-24 03:51:29",
         3
        ],
        [
         "store123",
         "2020-12-24 03:51:40",
         20
        ],
        [
         "store123",
         "2020-12-24 03:51:50",
         17
        ],
        [
         "store123",
         "2020-12-24 03:52:00",
         16
        ],
        [
         "store123",
         "2020-12-24 03:52:10",
         14
        ],
        [
         "store123",
         "2020-12-24 03:52:20",
         9
        ],
        [
         "store123",
         "2020-12-24 03:52:30",
         6
        ],
        [
         "store123",
         "2020-12-24 03:52:40",
         5
        ],
        [
         "store123",
         "2020-12-24 03:52:50",
         20
        ],
        [
         "store123",
         "2020-12-24 03:53:00",
         19
        ],
        [
         "store123",
         "2020-12-24 03:53:10",
         15
        ],
        [
         "store123",
         "2020-12-24 03:53:20",
         12
        ],
        [
         "store123",
         "2020-12-24 03:53:30",
         7
        ],
        [
         "store123",
         "2020-12-24 03:53:40",
         5
        ],
        [
         "store123",
         "2020-12-24 03:53:50",
         20
        ],
        [
         "store123",
         "2020-12-24 03:54:00",
         15
        ],
        [
         "store123",
         "2020-12-24 03:54:10",
         13
        ],
        [
         "store123",
         "2020-12-24 03:54:20",
         11
        ],
        [
         "store123",
         "2020-12-24 03:54:30",
         9
        ],
        [
         "store123",
         "2020-12-24 03:54:40",
         7
        ],
        [
         "store123",
         "2020-12-24 03:54:50",
         6
        ],
        [
         "store123",
         "2020-12-24 03:55:00",
         2
        ],
        [
         "store123",
         "2020-12-24 03:55:10",
         20
        ],
        [
         "store123",
         "2020-12-24 03:55:20",
         17
        ],
        [
         "store123",
         "2020-12-24 03:55:30",
         13
        ],
        [
         "store123",
         "2020-12-24 03:55:40",
         10
        ],
        [
         "store123",
         "2020-12-24 03:55:50",
         6
        ],
        [
         "store123",
         "2020-12-24 03:56:00",
         4
        ],
        [
         "store123",
         "2020-12-24 03:56:10",
         20
        ],
        [
         "store123",
         "2020-12-24 03:56:20",
         16
        ],
        [
         "store123",
         "2020-12-24 03:56:30",
         14
        ],
        [
         "store123",
         "2020-12-24 03:56:40",
         10
        ],
        [
         "store123",
         "2020-12-24 03:56:50",
         7
        ],
        [
         "store123",
         "2020-12-24 03:57:00",
         3
        ],
        [
         "store123",
         "2020-12-24 03:57:10",
         20
        ],
        [
         "store123",
         "2020-12-24 03:57:20",
         15
        ],
        [
         "store123",
         "2020-12-24 03:57:31",
         10
        ],
        [
         "store123",
         "2020-12-24 03:57:41",
         6
        ],
        [
         "store123",
         "2020-12-24 03:57:51",
         5
        ],
        [
         "store123",
         "2020-12-24 03:58:01",
         20
        ],
        [
         "store123",
         "2020-12-24 03:58:11",
         15
        ],
        [
         "store123",
         "2020-12-24 03:58:21",
         10
        ],
        [
         "store123",
         "2020-12-24 03:58:31",
         7
        ],
        [
         "store123",
         "2020-12-24 03:58:41",
         3
        ],
        [
         "store123",
         "2020-12-24 03:58:51",
         20
        ],
        [
         "store123",
         "2020-12-24 03:59:01",
         19
        ],
        [
         "store123",
         "2020-12-24 03:59:11",
         15
        ],
        [
         "store123",
         "2020-12-24 03:59:21",
         10
        ],
        [
         "store123",
         "2020-12-24 03:59:31",
         9
        ],
        [
         "store123",
         "2020-12-24 03:59:41",
         5
        ],
        [
         "store123",
         "2020-12-24 03:59:51",
         20
        ],
        [
         "store123",
         "2020-12-24 04:00:01",
         19
        ],
        [
         "store123",
         "2020-12-24 04:00:11",
         15
        ],
        [
         "store123",
         "2020-12-24 04:00:21",
         11
        ],
        [
         "store123",
         "2020-12-24 04:00:31",
         9
        ],
        [
         "store123",
         "2020-12-24 04:00:41",
         6
        ],
        [
         "store123",
         "2020-12-24 04:00:51",
         2
        ],
        [
         "store123",
         "2020-12-24 04:01:01",
         20
        ],
        [
         "store123",
         "2020-12-24 04:01:11",
         19
        ],
        [
         "store123",
         "2020-12-24 04:01:21",
         17
        ],
        [
         "store123",
         "2020-12-24 04:01:31",
         15
        ],
        [
         "store123",
         "2020-12-24 04:01:41",
         14
        ],
        [
         "store123",
         "2020-12-24 04:01:51",
         9
        ],
        [
         "store123",
         "2020-12-24 04:02:01",
         8
        ],
        [
         "store123",
         "2020-12-24 04:02:11",
         3
        ],
        [
         "store123",
         "2020-12-24 04:02:21",
         20
        ],
        [
         "store123",
         "2020-12-24 04:02:31",
         18
        ],
        [
         "store123",
         "2020-12-24 04:02:41",
         13
        ],
        [
         "store123",
         "2020-12-24 04:02:51",
         11
        ],
        [
         "store123",
         "2020-12-24 04:03:01",
         6
        ],
        [
         "store123",
         "2020-12-24 04:03:11",
         2
        ],
        [
         "store123",
         "2020-12-24 04:03:22",
         20
        ],
        [
         "store123",
         "2020-12-24 04:03:32",
         15
        ],
        [
         "store123",
         "2020-12-24 04:03:42",
         13
        ],
        [
         "store123",
         "2020-12-24 04:03:52",
         10
        ],
        [
         "store123",
         "2020-12-24 04:04:02",
         5
        ],
        [
         "store123",
         "2020-12-24 04:04:12",
         20
        ],
        [
         "store123",
         "2020-12-24 04:04:22",
         17
        ],
        [
         "store123",
         "2020-12-24 04:04:32",
         16
        ],
        [
         "store123",
         "2020-12-24 04:04:42",
         13
        ],
        [
         "store123",
         "2020-12-24 04:04:52",
         12
        ],
        [
         "store123",
         "2020-12-24 04:05:02",
         8
        ],
        [
         "store123",
         "2020-12-24 04:05:12",
         4
        ],
        [
         "store123",
         "2020-12-24 04:05:22",
         20
        ],
        [
         "store123",
         "2020-12-24 04:05:32",
         18
        ],
        [
         "store123",
         "2020-12-24 04:05:42",
         14
        ],
        [
         "store123",
         "2020-12-24 04:05:52",
         10
        ],
        [
         "store123",
         "2020-12-24 04:06:02",
         6
        ],
        [
         "store123",
         "2020-12-24 04:06:12",
         5
        ],
        [
         "store123",
         "2020-12-24 04:06:22",
         20
        ],
        [
         "store123",
         "2020-12-24 04:06:32",
         17
        ],
        [
         "store123",
         "2020-12-24 04:06:42",
         13
        ],
        [
         "store123",
         "2020-12-24 04:06:52",
         11
        ],
        [
         "store123",
         "2020-12-24 04:07:02",
         6
        ],
        [
         "store123",
         "2020-12-24 04:07:12",
         3
        ],
        [
         "store123",
         "2020-12-24 04:07:22",
         20
        ],
        [
         "store123",
         "2020-12-24 04:07:32",
         15
        ],
        [
         "store123",
         "2020-12-24 04:07:42",
         10
        ],
        [
         "store123",
         "2020-12-24 04:07:52",
         6
        ],
        [
         "store123",
         "2020-12-24 04:08:02",
         1
        ],
        [
         "store123",
         "2020-12-24 04:08:12",
         20
        ],
        [
         "store123",
         "2020-12-24 04:08:22",
         17
        ],
        [
         "store123",
         "2020-12-24 04:08:32",
         16
        ],
        [
         "store123",
         "2020-12-24 04:08:42",
         12
        ],
        [
         "store123",
         "2020-12-24 04:08:52",
         8
        ],
        [
         "store123",
         "2020-12-24 04:09:02",
         5
        ],
        [
         "store123",
         "2020-12-24 04:09:13",
         20
        ],
        [
         "store123",
         "2020-12-24 04:09:23",
         17
        ],
        [
         "store123",
         "2020-12-24 04:09:33",
         16
        ],
        [
         "store123",
         "2020-12-24 04:09:43",
         13
        ],
        [
         "store123",
         "2020-12-24 04:09:53",
         12
        ],
        [
         "store123",
         "2020-12-24 04:10:03",
         9
        ],
        [
         "store123",
         "2020-12-24 04:10:13",
         7
        ],
        [
         "store123",
         "2020-12-24 04:10:23",
         5
        ],
        [
         "store123",
         "2020-12-24 04:10:33",
         20
        ],
        [
         "store123",
         "2020-12-24 04:10:43",
         15
        ],
        [
         "store123",
         "2020-12-24 04:10:53",
         11
        ],
        [
         "store123",
         "2020-12-24 04:11:03",
         9
        ],
        [
         "store123",
         "2020-12-24 04:11:13",
         7
        ],
        [
         "store123",
         "2020-12-24 04:11:23",
         4
        ],
        [
         "store123",
         "2020-12-24 04:11:33",
         20
        ],
        [
         "store123",
         "2020-12-24 04:11:43",
         19
        ],
        [
         "store123",
         "2020-12-24 04:11:53",
         14
        ],
        [
         "store123",
         "2020-12-24 04:12:03",
         9
        ],
        [
         "store123",
         "2020-12-24 04:12:13",
         6
        ],
        [
         "store123",
         "2020-12-24 04:12:23",
         1
        ],
        [
         "store123",
         "2020-12-24 04:12:33",
         20
        ],
        [
         "store123",
         "2020-12-24 04:12:43",
         19
        ],
        [
         "store123",
         "2020-12-24 04:12:53",
         17
        ],
        [
         "store123",
         "2020-12-24 04:13:03",
         14
        ],
        [
         "store123",
         "2020-12-24 04:13:13",
         9
        ],
        [
         "store123",
         "2020-12-24 04:13:23",
         4
        ],
        [
         "store123",
         "2020-12-24 04:13:33",
         20
        ],
        [
         "store123",
         "2020-12-24 04:13:44",
         18
        ],
        [
         "store123",
         "2020-12-24 04:13:54",
         16
        ],
        [
         "store123",
         "2020-12-24 04:14:04",
         15
        ],
        [
         "store123",
         "2020-12-24 04:14:14",
         13
        ],
        [
         "store123",
         "2020-12-24 04:14:24",
         12
        ],
        [
         "store123",
         "2020-12-24 04:14:34",
         8
        ],
        [
         "store123",
         "2020-12-24 04:14:44",
         3
        ],
        [
         "store123",
         "2020-12-24 04:14:54",
         20
        ],
        [
         "store123",
         "2020-12-24 04:15:04",
         15
        ],
        [
         "store123",
         "2020-12-24 04:15:14",
         10
        ],
        [
         "store123",
         "2020-12-24 04:15:24",
         7
        ],
        [
         "store123",
         "2020-12-24 04:15:34",
         2
        ],
        [
         "store123",
         "2020-12-24 04:15:44",
         20
        ],
        [
         "store123",
         "2020-12-24 04:15:54",
         16
        ],
        [
         "store123",
         "2020-12-24 04:16:04",
         13
        ],
        [
         "store123",
         "2020-12-24 04:16:14",
         8
        ],
        [
         "store123",
         "2020-12-24 04:16:24",
         3
        ],
        [
         "store123",
         "2020-12-24 04:16:34",
         20
        ],
        [
         "store123",
         "2020-12-24 04:16:44",
         15
        ],
        [
         "store123",
         "2020-12-24 04:16:54",
         10
        ],
        [
         "store123",
         "2020-12-24 04:17:04",
         8
        ],
        [
         "store123",
         "2020-12-24 04:17:14",
         4
        ],
        [
         "store123",
         "2020-12-24 04:17:24",
         20
        ],
        [
         "store123",
         "2020-12-24 04:17:34",
         16
        ],
        [
         "store123",
         "2020-12-24 04:17:44",
         13
        ],
        [
         "store123",
         "2020-12-24 04:17:54",
         10
        ],
        [
         "store123",
         "2020-12-24 04:18:04",
         5
        ],
        [
         "store123",
         "2020-12-24 04:18:14",
         20
        ],
        [
         "store123",
         "2020-12-24 04:18:24",
         17
        ],
        [
         "store123",
         "2020-12-24 04:18:34",
         16
        ],
        [
         "store123",
         "2020-12-24 04:18:44",
         14
        ],
        [
         "store123",
         "2020-12-24 04:18:54",
         9
        ],
        [
         "store123",
         "2020-12-24 04:19:04",
         6
        ],
        [
         "store123",
         "2020-12-24 04:19:14",
         1
        ],
        [
         "store123",
         "2020-12-24 04:19:24",
         20
        ],
        [
         "store123",
         "2020-12-24 04:19:34",
         16
        ],
        [
         "store123",
         "2020-12-24 04:19:45",
         14
        ],
        [
         "store123",
         "2020-12-24 04:19:55",
         10
        ],
        [
         "store123",
         "2020-12-24 04:20:05",
         7
        ]
       ],
       "datasetInfos": [],
       "dbfsResultPath": null,
       "isJsonSchema": true,
       "overflow": false,
       "plotOptions": {
        "customPlotOptions": {},
        "displayType": "table",
        "pivotAggregation": null,
        "pivotColumns": null,
        "xColumns": null,
        "yColumns": null
       },
       "removedWidgets": [],
       "schema": [
        {
         "metadata": "{}",
         "name": "storeid",
         "type": "\"string\""
        },
        {
         "metadata": "{}",
         "name": "timestamp",
         "type": "\"string\""
        },
        {
         "metadata": "{}",
         "name": "SKU",
         "type": "\"integer\""
        }
       ],
       "type": "table"
      }
     },
     "output_type": "display_data"
    }
   ],
   "source": [
    "from pyspark.sql.functions import *\n",
    "\n",
    "#read stream data from EventHub\n",
    "connectionString = \"Your Connection String\"\n",
    "conf = {}\n",
    "\n",
    "conf['eventhubs.connectionString'] = connectionString\n",
    "conf['eventhubs.connectionString'] = sc._jvm.org.apache.spark.eventhubs.EventHubsUtils.encrypt(connectionString)\n",
    "\n",
    "read_df  = spark.readStream.format(\"eventhubs\").options(**conf).load()\n",
    "\n",
    "df = read_df.withColumn(\"Body\",read_df[\"body\"].cast(\"string\"))\\\n",
    ".withColumn(\"storeid\",get_json_object(\"Body\",\"$.storeid\").cast(\"string\"))\\\n",
    ".withColumn(\"timestamp\",get_json_object(\"Body\",\"$.timestamp\").cast(\"string\"))\\\n",
    ".withColumn(\"SKU\",get_json_object(\"Body\",\"$.SKU\").cast(\"integer\"))\\\n",
    ".select(\"storeid\",\"timestamp\",\"SKU\")\n",
    "\n",
    "display(df)"
   ]
  },
  {
   "cell_type": "code",
   "execution_count": 0,
   "metadata": {
    "application/vnd.databricks.v1+cell": {
     "inputWidgets": {},
     "nuid": "d49c6d0a-c0cc-4455-bb45-871b05ee9b2c",
     "showTitle": false,
     "title": ""
    }
   },
   "outputs": [
    {
     "data": {
      "text/html": [
       "<style scoped>\n",
       "  .ansiout {\n",
       "    display: block;\n",
       "    unicode-bidi: embed;\n",
       "    white-space: pre-wrap;\n",
       "    word-wrap: break-word;\n",
       "    word-break: break-all;\n",
       "    font-family: \"Source Code Pro\", \"Menlo\", monospace;;\n",
       "    font-size: 13px;\n",
       "    color: #555;\n",
       "    margin-left: 4px;\n",
       "    line-height: 19px;\n",
       "  }\n",
       "</style>\n",
       "<div class=\"ansiout\">Out[34]: &lt;pyspark.sql.streaming.StreamingQuery at 0x7febfc1654e0&gt;</div>"
      ]
     },
     "metadata": {
      "application/vnd.databricks.v1+output": {
       "addedWidgets": {},
       "arguments": {},
       "data": "<div class=\"ansiout\">Out[34]: &lt;pyspark.sql.streaming.StreamingQuery at 0x7febfc1654e0&gt;</div>",
       "datasetInfos": [],
       "removedWidgets": [],
       "type": "html"
      }
     },
     "output_type": "display_data"
    }
   ],
   "source": [
    "#For Structure Streaming data + PBI direct query ==> Stream write data to Delta Lake\n",
    "df.writeStream.format(\"delta\").outputMode(\"append\").option(\"checkpointLocation\", \"/delta/events/_checkpoints/sku\").table(\"sku\")"
   ]
  },
  {
   "cell_type": "code",
   "execution_count": 0,
   "metadata": {
    "application/vnd.databricks.v1+cell": {
     "inputWidgets": {},
     "nuid": "50288403-8cca-4042-b5c8-3e005934973e",
     "showTitle": false,
     "title": ""
    }
   },
   "outputs": [
    {
     "data": {
      "text/html": [
       "<style scoped>\n",
       "  .ansiout {\n",
       "    display: block;\n",
       "    unicode-bidi: embed;\n",
       "    white-space: pre-wrap;\n",
       "    word-wrap: break-word;\n",
       "    word-break: break-all;\n",
       "    font-family: \"Source Code Pro\", \"Menlo\", monospace;;\n",
       "    font-size: 13px;\n",
       "    color: #555;\n",
       "    margin-left: 4px;\n",
       "    line-height: 19px;\n",
       "  }\n",
       "</style>\n",
       "<div class=\"ansiout\"></div>"
      ]
     },
     "metadata": {
      "application/vnd.databricks.v1+output": {
       "addedWidgets": {},
       "arguments": {},
       "data": "<div class=\"ansiout\"></div>",
       "datasetInfos": [],
       "removedWidgets": [],
       "type": "html"
      }
     },
     "output_type": "display_data"
    }
   ],
   "source": [
    "#For powerbi streaming \n",
    "from PysparkPowerBIStreaming.PowerBIStreaming import PowerBIStreaming, PowerBIBatchStreaming\n",
    "powerbi = PowerBIStreaming(dbutils, \"powerbipoc\", \"skusensorstreamingapi\")"
   ]
  },
  {
   "cell_type": "code",
   "execution_count": 0,
   "metadata": {
    "application/vnd.databricks.v1+cell": {
     "inputWidgets": {},
     "nuid": "33536197-f13f-404f-8385-1964e1401a1a",
     "showTitle": false,
     "title": ""
    }
   },
   "outputs": [
    {
     "data": {
      "text/html": [
       "<style scoped>\n",
       "  .ansiout {\n",
       "    display: block;\n",
       "    unicode-bidi: embed;\n",
       "    white-space: pre-wrap;\n",
       "    word-wrap: break-word;\n",
       "    word-break: break-all;\n",
       "    font-family: \"Source Code Pro\", \"Menlo\", monospace;;\n",
       "    font-size: 13px;\n",
       "    color: #555;\n",
       "    margin-left: 4px;\n",
       "    line-height: 19px;\n",
       "  }\n",
       "</style>\n",
       "<div class=\"ansiout\">Out[3]: &lt;pyspark.sql.streaming.StreamingQuery at 0x7f16281112e8&gt;</div>"
      ]
     },
     "metadata": {
      "application/vnd.databricks.v1+output": {
       "addedWidgets": {},
       "arguments": {},
       "data": "<div class=\"ansiout\">Out[3]: &lt;pyspark.sql.streaming.StreamingQuery at 0x7f16281112e8&gt;</div>",
       "datasetInfos": [],
       "removedWidgets": [],
       "type": "html"
      }
     },
     "output_type": "display_data"
    }
   ],
   "source": [
    "powerbi.sendBatch(df)"
   ]
  },
  {
   "cell_type": "markdown",
   "metadata": {
    "application/vnd.databricks.v1+cell": {
     "inputWidgets": {},
     "nuid": "03c1a1a8-a6ea-46bd-ba24-63f8ecc5779a",
     "showTitle": false,
     "title": ""
    }
   },
   "source": [
    "**注意：此处需要注意的是对于2.3.15及更高版本，需要在配置中加密连接字符串：**"
   ]
  },
  {
   "cell_type": "code",
   "execution_count": null,
   "metadata": {},
   "outputs": [],
   "source": [
    "conf['eventhubs.connectionString'] =  sc._jvm.org.apache.spark.eventhubs.EventHubsUtils.encrypt(connectionString)"
   ]
  },
  {
   "cell_type": "markdown",
   "metadata": {},
   "source": [
    "## 参考资料\n",
    "\n",
    "https://github.com/Azure/azure-event-hubs-spark/blob/master/docs/PySpark/structured-streaming-pyspark.md#event-hubs-configuration"
   ]
  }
 ],
 "metadata": {
  "application/vnd.databricks.v1+notebook": {
   "dashboards": [],
   "language": "python",
   "notebookName": "pbi",
   "notebookOrigID": 201645273768298,
   "widgets": {}
  },
  "kernelspec": {
   "display_name": "Python 3",
   "language": "python",
   "name": "python3"
  },
  "language_info": {
   "codemirror_mode": {
    "name": "ipython",
    "version": 3
   },
   "file_extension": ".py",
   "mimetype": "text/x-python",
   "name": "python",
   "nbconvert_exporter": "python",
   "pygments_lexer": "ipython3",
   "version": "3.8.3"
  }
 },
 "nbformat": 4,
 "nbformat_minor": 1
}
