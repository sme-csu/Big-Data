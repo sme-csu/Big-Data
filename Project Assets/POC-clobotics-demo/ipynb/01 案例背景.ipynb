{
 "cells": [
  {
   "cell_type": "markdown",
   "metadata": {},
   "source": [
    "# 1 案例背景"
   ]
  },
  {
   "cell_type": "markdown",
   "metadata": {},
   "source": [
    "## 客户介绍\n",
    "\n",
    "客户根据传感器捕捉冰柜信息，关门触发，统计冰柜中物品数量进行分析。"
   ]
  },
  {
   "cell_type": "markdown",
   "metadata": {},
   "source": [
    "## 测试案例\n",
    "\n",
    "### Use case 1: 离线计算，对现有IOT设备进行数量汇总\n",
    "\n",
    "每日凌晨统计客户IOT设备数量，可拓展需求至设备运行状态是否良好，投入设备是否在管理地区使用等等\n",
    "\n",
    "![01](https://i.loli.net/2021/02/22/xwO9eYiA3TgpUq7.png)\n",
    "\n",
    "通过Azure Data Factory进行批数据拉取，同步至Data Lake Gen 2进行数据存储与建模。Databricks进行ETL或数仓分层，将清洗后数据集市数据同步至Azure SQL进行Power BI数据展示。\n",
    "\n",
    "![02](https://i.loli.net/2021/02/22/Ev2srDi9l85odpT.png)\n",
    "\n",
    "### Use case 2: 实时计算，10分钟更新一次销售数据\n",
    "\n",
    "实时接收IOT设备数据，以十分钟为一时间窗口进行统计，并及时展现在Power BI中：\n",
    "\n",
    "![03](https://i.loli.net/2021/02/22/XbqvTAdy6ezPHsD.png)\n",
    "\n",
    "通过Azure IoT Hub进行流数据收集，推送至Databricks进行流分析，并及时展示到Power BI。在流数据处理架构中也可以进行数据落盘保证数据存储与可追溯性。\n",
    "\n",
    "![04](https://i.loli.net/2021/02/22/Ea9x6DPifVk8pn3.png)\n",
    "\n",
    "根据实时、离线分析样例对Databricks进行综合考察，完成产品评估与性能判断。"
   ]
  }
 ],
 "metadata": {
  "kernelspec": {
   "display_name": "Python 3",
   "language": "python",
   "name": "python3"
  },
  "language_info": {
   "codemirror_mode": {
    "name": "ipython",
    "version": 3
   },
   "file_extension": ".py",
   "mimetype": "text/x-python",
   "name": "python",
   "nbconvert_exporter": "python",
   "pygments_lexer": "ipython3",
   "version": "3.8.3"
  }
 },
 "nbformat": 4,
 "nbformat_minor": 4
}
