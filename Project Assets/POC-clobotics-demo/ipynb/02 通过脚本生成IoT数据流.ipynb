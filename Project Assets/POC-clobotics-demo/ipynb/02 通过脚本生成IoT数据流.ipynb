{
 "cells": [
  {
   "cell_type": "markdown",
   "metadata": {},
   "source": [
    "# 2 通过脚本生成IoT数据流"
   ]
  },
  {
   "cell_type": "markdown",
   "metadata": {},
   "source": [
    "我们可以通过脚本来实现IoT设备实时传输流数据，进行后续分析。"
   ]
  },
  {
   "cell_type": "code",
   "execution_count": null,
   "metadata": {},
   "outputs": [],
   "source": [
    "import random\n",
    "import time, datetime\n",
    "from azure.iot.device import IoTHubDeviceClient, Message\n",
    "\n",
    "CONNECTION_STRING = \"Your Connection String\"\n",
    "\n",
    "// 为了方便展示,这里的JSON结构并不复杂\n",
    "MSG_TXT = '{{\"storeid\": \"{storeid}\",\"SKU\": \"{sku}\",\"timestamp\":\"{timestamp}\"}}'\n",
    "\n",
    "def iothub_client_init():\n",
    "    # Create an IoT Hub client\n",
    "    client = IoTHubDeviceClient.create_from_connection_string(CONNECTION_STRING)\n",
    "    return client\n",
    "\n",
    "def calcuNumber(number):\n",
    "  if number <= 5:\n",
    "    number = 20\n",
    "  else:\n",
    "    number = number - random.randint(1,5)\n",
    "  return number\n",
    "\n",
    "def iothub_client_telemetry_sample_run():\n",
    "\n",
    "    try:\n",
    "        client = iothub_client_init()\n",
    "        number = 20\n",
    "        print ( \"IoT Hub device sending periodic messages, press Ctrl-C to exit\" )\n",
    "\n",
    "        while True:\n",
    "            # Build the message with simulated telemetry values.\n",
    "            dt = datetime.datetime.now()\n",
    "            timestamp = dt.strftime(\"%Y-%m-%d %H:%M:%S\")\n",
    "            storeid = \"store123\"\n",
    "            number = calcuNumber(number)\n",
    "            #sku_facing_list = SKU_FORMATE.format(number=number)\n",
    "            \n",
    "            msg_txt_formatted = MSG_TXT.format(storeid=storeid, sku=number, timestamp=timestamp)\n",
    "            message = Message(msg_txt_formatted)\n",
    "\n",
    "            # Send the message.\n",
    "            print( \"Sending message: {}\".format(message) )\n",
    "            client.send_message(message)\n",
    "            print ( \"Message successfully sent\" )\n",
    "            time.sleep(10)\n",
    "\n",
    "    except KeyboardInterrupt:\n",
    "        print ( \"IoTHubClient sample stopped\" )\n",
    "\n",
    "\n",
    "if __name__ == '__main__':\n",
    "    print ( \"IoT Hub Quickstart #1 - Simulated device\" )\n",
    "    print ( \"Press Ctrl-C to exit\" )\n",
    "    iothub_client_telemetry_sample_run()"
   ]
  }
 ],
 "metadata": {
  "kernelspec": {
   "display_name": "Python 3",
   "language": "python",
   "name": "python3"
  },
  "language_info": {
   "codemirror_mode": {
    "name": "ipython",
    "version": 3
   },
   "file_extension": ".py",
   "mimetype": "text/x-python",
   "name": "python",
   "nbconvert_exporter": "python",
   "pygments_lexer": "ipython3",
   "version": "3.8.3"
  }
 },
 "nbformat": 4,
 "nbformat_minor": 4
}
