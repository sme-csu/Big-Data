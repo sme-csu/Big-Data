{
 "cells": [
  {
   "cell_type": "markdown",
   "metadata": {},
   "source": [
    "# 流式数据传输到 Databricks Delta Lake\n",
    "\n",
    "在大数据背景下，物联网设备数据算是企业数据资产中占据大量比例。对这些大量数据进行管理可以说式构建成功IOT平台的第一公里。\n",
    "物联网数据平台可以在内部部署或在云上部署，作为云计算从业者，我更加喜欢基于云的解决方案，特别是PaaS产品。在本文中，我将展示如何使用Azure构建简易的流式数据处理链。\n",
    "\n",
    "![05](https://i.loli.net/2021/02/22/ru28IyPHvFx5iNW.png)"
   ]
  },
  {
   "cell_type": "markdown",
   "metadata": {},
   "source": [
    "## Databricks：统一分析平台和Delta Lake\n",
    "\n",
    "Databricks提供了一个统一的数据工程、数据科学和业务逻辑平台。从根本上将，这是Azure提供的云计算商用Spark PaaS产品，可以帮助我们加快数据探索和准备工作。"
   ]
  },
  {
   "cell_type": "markdown",
   "metadata": {},
   "source": [
    "## 那什么是Delta Lake呢？\n",
    "\n",
    "Delta Lake是Databricks开源的一种存储层，可以将ACID事务引入大数据场景作为工作负载。在现有大数据生态存储机制中（例如Parquet），我们存储在HDFS中的文件是不可变的，当我们需要去更新Parquet文件中的记录时，只能通过重写整个文件解决。但是如果我们使用Delta Lake进行存储，我们就可以轻松地编写更新语句。\n",
    "\n",
    "在IOT和实时计算场景下，Delta Lake作为重点的原因是：我们能够在数据到达时，对流数据进行查询，不用再等待数据分区更新（HDFS重写场景）。\n",
    "\n",
    "在这个解决方案中，我们将看到如何对Databricks进行设置，并如何使用Spark Streaming收集Azure IOTHub的记录，将它们写入Delta表中。"
   ]
  },
  {
   "cell_type": "markdown",
   "metadata": {},
   "source": [
    "## 设置Databricks\n",
    "\n",
    "我们通过Azure门户单击“创建资源”->”分析“->”Azure Databricks“\n",
    "\n",
    "![06](https://i.loli.net/2021/02/22/rKpuYL6McvTOgih.png)"
   ]
  },
  {
   "cell_type": "markdown",
   "metadata": {},
   "source": [
    "## 参考资料\n",
    "\n",
    "https://docs.microsoft.com/zh-cn/azure/databricks/scenarios/quickstart-create-databricks-workspace-portal?tabs=azure-portal#create-an-azure-databricks-workspace"
   ]
  },
  {
   "cell_type": "markdown",
   "metadata": {},
   "source": [
    "## 收集IoT Hub的数据流\n",
    "\n",
    "按照方案，我们需要在集群中安装“azure-eventhubs-spark_2.11:2.3.6”Maven库。我们只需要单击“Workspace”->“单击你的用户名”->“创建”->“Library”\n",
    "\n",
    "![07](https://i.loli.net/2021/02/22/CpoWzbEJAFZisaQ.png)\n",
    "\n",
    "选择Maven页签，在Coordinates框中输入包名，单击“Create”\n",
    "\n",
    "提示：安装完成后，应重新启动，使其生效。\n",
    "\n",
    "连接到IoT Hub，输出流："
   ]
  },
  {
   "cell_type": "code",
   "execution_count": null,
   "metadata": {},
   "outputs": [],
   "source": [
    "import org.apache.spark.eventhubs._\n",
    "import  org.apache.spark.eventhubs.{ ConnectionStringBuilder, EventHubsConf, EventPosition }\n",
    "import  org.apache.spark.sql.functions.{ explode, split }\n",
    "\n",
    "//我们需要指定IOTHub连接字符串与名称\n",
    "val connectionString = ConnectionStringBuilder(\"--IOTHub连接字符串--\")\n",
    "  .setEventHubName(\"--IoTHub 名称--\")\n",
    "  .build\n",
    "val eventHubsConf = EventHubsConf(connectionString)\n",
    "  .setStartingPosition(EventPosition.fromEndOfStream)\n",
    "  \n",
    "val eventhubs = spark.readStream\n",
    "  .format(\"eventhubs\")\n",
    "  .options(eventHubsConf.toMap)\n",
    "  .load()"
   ]
  },
  {
   "cell_type": "markdown",
   "metadata": {},
   "source": [
    "上面的代码段可以构建一个指向我们之前创建的IoT Hub的连接字符串，只需要从Azure门户中获取到连接字符串就可以构建链接。\n",
    "\n",
    "### 要查看传入数据如何运行"
   ]
  },
  {
   "cell_type": "code",
   "execution_count": null,
   "metadata": {},
   "outputs": [],
   "source": [
    "display(eventhubs)"
   ]
  },
  {
   "cell_type": "markdown",
   "metadata": {},
   "source": [
    "### 提取设备数据并创建一个Spark SQL表\n",
    "\n",
    "从上一步创建的DataFrame中提取body字段中的数据，并构建一个SQL内存表："
   ]
  },
  {
   "cell_type": "code",
   "execution_count": null,
   "metadata": {},
   "outputs": [],
   "source": [
    "val messages = eventhubs\n",
    "  .withColumn(\"Time\", $\"enqueuedTime\")\n",
    "  .withColumn(\"Body\", $\"body\".cast(StringType))\n",
    "  .select(\"Time\",\"Body\")\n",
    "\n",
    "val messagesDF = messages.select(get_json_object($\"Body\", \"$.storeid\").alias(\"storeid\"),\n",
    "                              get_json_object($\"Body\", \"$.timestamp\").alias(\"timestamp\").cast(TimestampType),\n",
    "                              get_json_object($\"Body\", \"$.SKU\").alias(\"SKU\").cast(LongType))"
   ]
  },
  {
   "cell_type": "markdown",
   "metadata": {},
   "source": [
    "将流数据写入至Delta表进行存储，或者可以在别的任务中使用处理好的内存表进行数据分析与调用："
   ]
  },
  {
   "cell_type": "code",
   "execution_count": null,
   "metadata": {},
   "outputs": [],
   "source": [
    "messagesDF.printSchema\n",
    "\n",
    "messagesDF.createOrReplaceTempView(\"ods_iothub_data\")\n",
    "\n",
    "messagesDF.writeStream.outputMode(\"append\").format(\"console\").option(\"truncate\", false).start().awaitTermination()"
   ]
  }
 ],
 "metadata": {
  "kernelspec": {
   "display_name": "Python 3",
   "language": "python",
   "name": "python3"
  },
  "language_info": {
   "codemirror_mode": {
    "name": "ipython",
    "version": 3
   },
   "file_extension": ".py",
   "mimetype": "text/x-python",
   "name": "python",
   "nbconvert_exporter": "python",
   "pygments_lexer": "ipython3",
   "version": "3.8.3"
  }
 },
 "nbformat": 4,
 "nbformat_minor": 4
}
